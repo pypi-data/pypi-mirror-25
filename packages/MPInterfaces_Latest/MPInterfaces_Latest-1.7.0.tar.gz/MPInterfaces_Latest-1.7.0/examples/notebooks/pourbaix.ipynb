{
 "cells": [
  {
   "cell_type": "code",
   "execution_count": 53,
   "metadata": {},
   "outputs": [],
   "source": [
    "\"\"\"\n",
    "This is slightly modified version of the notebook in the pymatgen/examples folder\n",
    "\"\"\"\n",
    "import numpy as np\n",
    "\n",
    "from pymatgen.matproj.rest import MPRester\n",
    "from pymatgen.core.ion import Ion\n",
    "from pymatgen import Element\n",
    "\n",
    "from pymatgen.phasediagram.maker import PhaseDiagram\n",
    "from pymatgen.analysis.pourbaix.entry import PourbaixEntry, IonEntry\n",
    "from pymatgen.analysis.pourbaix.maker import PourbaixDiagram\n",
    "from pymatgen.analysis.pourbaix.plotter import PourbaixPlotter\n",
    "from pymatgen.entries.compatibility import MaterialsProjectCompatibility, AqueousCorrection\n",
    "\n",
    "%matplotlib inline"
   ]
  },
  {
   "cell_type": "markdown",
   "metadata": {},
   "source": [
    "useful function for filtering duplicate entries."
   ]
  },
  {
   "cell_type": "code",
   "execution_count": 5,
   "metadata": {},
   "outputs": [],
   "source": [
    "def contains_entry(entry_list, entry):\n",
    "    for e in entry_list:\n",
    "        if e.entry_id == entry.entry_id or \\\n",
    "            (abs(entry.energy_per_atom \n",
    "                - e.energy_per_atom) < 1e-6 and\n",
    "                    entry.composition.reduced_formula ==\n",
    "             e.composition.reduced_formula):\n",
    "            return True"
   ]
  },
  {
   "cell_type": "code",
   "execution_count": 10,
   "metadata": {},
   "outputs": [],
   "source": [
    "#This initializes the REST adaptor. Put your own API key in.\n",
    "a = MPRester(\"tUDO4pcZ81IHhw3a\")"
   ]
  },
  {
   "cell_type": "code",
   "execution_count": 54,
   "metadata": {},
   "outputs": [],
   "source": [
    "#Entries are the basic unit for thermodynamic and other analyses in pymatgen.\n",
    "#This gets all entries belonging to the Fe-O-H system.\n",
    "entries = a.get_entries_in_chemsys(['Fe', 'O', 'H'])"
   ]
  },
  {
   "cell_type": "code",
   "execution_count": 84,
   "metadata": {},
   "outputs": [],
   "source": [
    "#exp_entries = a.get_exp_entry(\"SnO\")\n",
    "#print exp_entries\n",
    "DFT_Data = {}\n",
    "import yaml\n",
    "for ent in entries:\n",
    "    DFT_Data.update({ent.composition.formula:ent.energy})\n"
   ]
  },
  {
   "cell_type": "code",
   "execution_count": 85,
   "metadata": {},
   "outputs": [],
   "source": [
    "with open('DFT_FeOH.yaml','w') as yamfile:\n",
    "    yaml.dump(DFT_Data, yamfile, default_flow_style=False)"
   ]
  },
  {
   "cell_type": "code",
   "execution_count": 86,
   "metadata": {},
   "outputs": [
    {
     "data": {
      "text/plain": [
       "{'Fe1': -8.31266428,\n",
       " 'Fe1 H1': -11.8135345,\n",
       " 'Fe1 H1 O2': -28.08261191,\n",
       " 'Fe1 H2 O2': -32.29983393,\n",
       " 'Fe1 H3': -17.52759945,\n",
       " 'Fe1 O1': -15.90710818,\n",
       " 'Fe1 O2': -22.30417569,\n",
       " 'Fe10 O11': -174.45994504,\n",
       " 'Fe10 O14': -193.70198301,\n",
       " 'Fe11 O12': -191.26877137000002,\n",
       " 'Fe12 O12': -198.97163238,\n",
       " 'Fe12 O13': -207.25752108,\n",
       " 'Fe12 O16': -230.13741406999998,\n",
       " 'Fe12 O18': -233.17108267999998,\n",
       " 'Fe12 O24': -265.23717575,\n",
       " 'Fe13 O14': -216.26811935,\n",
       " 'Fe13 O15': -227.98661347,\n",
       " 'Fe14 O15': -237.19155325000003,\n",
       " 'Fe14 O16': -248.88203259,\n",
       " 'Fe15 O16': -257.18807836,\n",
       " 'Fe16 H16 O32': -443.93843547,\n",
       " 'Fe16 H20 O34': -475.36958252,\n",
       " 'Fe16 O18': -281.14962684,\n",
       " 'Fe16 O24': -322.42751699,\n",
       " 'Fe16 O32': -353.710741,\n",
       " 'Fe17 O18': -291.71916361,\n",
       " 'Fe2': -16.7278538,\n",
       " 'Fe2 H2 O4': -56.41867967,\n",
       " 'Fe2 O2': -33.16405348,\n",
       " 'Fe2 O4': -45.26742012,\n",
       " 'Fe2 O6': -51.905008499999994,\n",
       " 'Fe20 O22': -349.46194576000005,\n",
       " 'Fe20 O32': -398.5544822,\n",
       " 'Fe21 O23': -365.95350949,\n",
       " 'Fe21 O27': -388.42010648999997,\n",
       " 'Fe21 O32': -396.67246079,\n",
       " 'Fe23 O25': -399.2480867,\n",
       " 'Fe23 O32': -442.50592830999994,\n",
       " 'Fe24 O32': -456.84616745999995,\n",
       " 'Fe32 O35': -556.6097124199999,\n",
       " 'Fe35 O36': -587.79564685,\n",
       " 'Fe38 O39': -643.29935963,\n",
       " 'Fe4 H14 O13': -188.33015303,\n",
       " 'Fe4 H4 O8': -112.29883521,\n",
       " 'Fe4 O4': -66.32824289,\n",
       " 'Fe4 O6': -82.31106048000001,\n",
       " 'Fe4 O8': -89.66020753,\n",
       " 'Fe41 O56': -782.1973546199999,\n",
       " 'Fe42 H2 O64': -866.61665873,\n",
       " 'Fe43 O64': -871.6942494699999,\n",
       " 'Fe6': -46.05347314,\n",
       " 'Fe6 H2': -52.61762353,\n",
       " 'Fe6 O8': -112.48629374999999,\n",
       " 'Fe64 O96': -1286.15875187,\n",
       " 'Fe7 O8': -123.85862518,\n",
       " 'Fe8 O12': -163.50194596,\n",
       " 'Fe8 O16': -175.93366871,\n",
       " 'Fe8 O9': -141.00985131,\n",
       " 'Fe9 O10': -158.08496116999999,\n",
       " 'Fe9 O13': -177.31327963,\n",
       " 'H1': -3.2397366613799994,\n",
       " 'H11 O8': -96.59891012,\n",
       " 'H14 O8': -97.73905279,\n",
       " 'H16 O8': -101.99091727999999,\n",
       " 'H2': -6.479473322759999,\n",
       " 'H24 O12': -187.01891262,\n",
       " 'H28 O14': -199.20391543000002,\n",
       " 'H4': -12.95894664552,\n",
       " 'H4 O2': -30.77041763,\n",
       " 'H8 O4': -61.103031009999995,\n",
       " 'H8 O8': -80.14937463,\n",
       " 'O2': -9.86021997,\n",
       " 'O24': -108.49692225,\n",
       " 'O6': -23.58680149,\n",
       " 'O8': -39.42116819}"
      ]
     },
     "execution_count": 86,
     "metadata": {},
     "output_type": "execute_result"
    }
   ],
   "source": [
    "yaml.load(open('DFT_FeOH.yaml'))"
   ]
  },
  {
   "cell_type": "code",
   "execution_count": 65,
   "metadata": {
    "collapsed": true
   },
   "outputs": [],
   "source": [
    "from pymatgen.entries.computed_entries import ComputedEntry, Composition"
   ]
  },
  {
   "cell_type": "code",
   "execution_count": 66,
   "metadata": {},
   "outputs": [
    {
     "data": {
      "text/plain": [
       "ComputedEntry Fe2\n",
       "Energy = -16.7279\n",
       "Correction = 0.0000\n",
       "Parameters:\n",
       "Data:"
      ]
     },
     "execution_count": 66,
     "metadata": {},
     "output_type": "execute_result"
    }
   ],
   "source": [
    "ComputedEntry(composition='Fe2',energy=ent.energy)"
   ]
  },
  {
   "cell_type": "code",
   "execution_count": 12,
   "metadata": {},
   "outputs": [],
   "source": [
    "#Dictionary of ion:energy, where the energy is the formation energy of ions from \n",
    "#the NBS tables. (Source: NBS Thermochemical Tables; FeO4[2-]: Misawa T., Corr. Sci., 13(9), 659-676 (1973))\n",
    "ion_dict = {\"Fe[2+]\":-0.817471, \"Fe[3+]\":-0.0478, \"FeO2[2-]\":-3.06055, \"FeOH[+]\":-2.8738,\n",
    "            \"FeOH[2+]\":-2.37954, \"HFeO2[-]\":-3.91578, \"Fe(OH)2[+]\":-4.54022, \"Fe2(OH)2[4+]\":-4.84285,\n",
    "            \"FeO2[-]\":-3.81653, \"FeO4[2-]\":-3.33946, \"Fe(OH)3(aq)\":-6.83418, \"Fe(OH)2[+]\":-4.54022}\n"
   ]
  },
  {
   "cell_type": "code",
   "execution_count": 13,
   "metadata": {},
   "outputs": [],
   "source": [
    "elements = set()\n",
    "data = []\n",
    "for entry in entries:\n",
    "    elements.update(entry.composition.elements)\n",
    "#print elements\n",
    "for entry in entries:\n",
    "    comp = entry.composition\n",
    "    #print comp\n",
    "    row = [comp.get_atomic_fraction(el) for el in elements]\n",
    "    row.append(entry.energy_per_atom)\n",
    "    data.append(row)\n",
    "data = np.array(data)\n",
    "#print data\n",
    "#print data[:, 1:]"
   ]
  },
  {
   "cell_type": "markdown",
   "metadata": {},
   "source": [
    "Solvent corrections"
   ]
  },
  {
   "cell_type": "code",
   "execution_count": 95,
   "metadata": {},
   "outputs": [
    {
     "name": "stdout",
     "output_type": "stream",
     "text": [
      "154\n",
      "144\n"
     ]
    }
   ],
   "source": [
    "# Run aqueouscorrection on the entries\n",
    "aqcompat = AqueousCorrection(\"/home/joshua/Software/Current_MPInterfaces/MPInterfaces/mpinterfaces/mat2d/pourbaix/AqueousIon.yaml\")\n",
    "entries_aqcorr = list()\n",
    "print (len(entries))\n",
    "for entry in entries:\n",
    "    aq_corrected_entry = aqcompat.correct_entry(entry)\n",
    "    if not contains_entry(entries_aqcorr, aq_corrected_entry):\n",
    "        entries_aqcorr.append(aq_corrected_entry)\n",
    "\n",
    "# Generate a phase diagram to consider only solid entries stable in water. \n",
    "#for e in entries_aqcorr:\n",
    "#    print e.name\n",
    "print (len(entries_aqcorr))\n",
    "pd = PhaseDiagram(entries_aqcorr)\n",
    "#for e in pd.qhull_entries:\n",
    "#    print e.name\n",
    "#for el in pd.el_refs:\n",
    "#    print el.name\n",
    "#print pd.facets\n",
    "#print pd.qhull_data\n"
   ]
  },
  {
   "cell_type": "markdown",
   "metadata": {},
   "source": [
    "Solid state pourbaix entries"
   ]
  },
  {
   "cell_type": "code",
   "execution_count": 89,
   "metadata": {},
   "outputs": [
    {
     "name": "stdout",
     "output_type": "stream",
     "text": [
      "Fe2O3\n",
      "(Comp: Fe2 O3, 8)\n",
      "H2\n",
      "(Comp: H2, 0.5)\n",
      "FeH\n",
      "(Comp: Fe1 H1, 1)\n",
      "O2\n",
      "(Comp: O2, 4.0)\n",
      "Fe3O4\n",
      "(Comp: Fe3 O4, 2)\n",
      "FeO\n",
      "(Comp: Fe1 O1, 2)\n",
      "Fe\n",
      "(Comp: Fe1, 1)\n",
      "H2O\n",
      "(Comp: H2 O1, 4)\n"
     ]
    }
   ],
   "source": [
    "stable_solids = pd.stable_entries\n",
    "for ss in stable_solids:\n",
    "    print (ss.name)\n",
    "    print (ss.composition.get_reduced_composition_and_factor())#[1]\n",
    "    \n",
    "stable_solids_minus_h2o = [entry for entry in stable_solids if \n",
    "                           entry.composition.reduced_formula not in [\"H2\", \"O2\", \"H2O\", \"H2O2\"]]\n",
    "\n",
    "pbx_solid_entries = []\n",
    "for entry in stable_solids_minus_h2o:\n",
    "    pbx_entry = PourbaixEntry(entry)\n",
    "    pbx_entry.g0_replace(pd.get_form_energy(entry))\n",
    "    pbx_entry.reduced_entry()\n",
    "    pbx_solid_entries.append(pbx_entry)"
   ]
  },
  {
   "cell_type": "markdown",
   "metadata": {},
   "source": [
    "Ion pourbaix entries"
   ]
  },
  {
   "cell_type": "code",
   "execution_count": 90,
   "metadata": {},
   "outputs": [],
   "source": [
    "#Dictionary of reference state:experimental formation energy (from O. Kubaschewski) for reference state.\n",
    "ref_state = \"Fe2O3\"\n",
    "ref_dict = {\"Fe2O3\": -7.685050670886141}\n",
    "\n",
    "# Calculate DFT reference energy for ions (See Persson et al, PRB (2012))\n",
    "ref_entry = [entry for entry in stable_solids_minus_h2o if entry.composition.reduced_formula == ref_state][0]\n",
    "ion_correction = pd.get_form_energy(ref_entry)/ref_entry.composition.get_reduced_composition_and_factor()[1] - ref_dict[ref_state]\n",
    " \n",
    "el = Element(\"Fe\")\n",
    "pbx_ion_entries = []\n",
    "\n",
    "# Get PourbaixEntry corresponding to each ion\n",
    "for key in ion_dict:\n",
    "    comp = Ion.from_formula(key)\n",
    "    factor = comp.composition[el] / (ref_entry.composition[el] / ref_entry.composition.get_reduced_composition_and_factor()[1])\n",
    "    #experimental energy + correction\n",
    "    energy = ion_dict[key] + ion_correction * factor\n",
    "    pbx_entry_ion = PourbaixEntry(IonEntry(comp, energy))\n",
    "    pbx_entry_ion.name = key\n",
    "    pbx_ion_entries.append(pbx_entry_ion)"
   ]
  },
  {
   "cell_type": "code",
   "execution_count": 92,
   "metadata": {},
   "outputs": [
    {
     "name": "stdout",
     "output_type": "stream",
     "text": [
      "([0.0, -2.0, -2.409760203931931], [-1.0, -2.0, -2.0077892039319316], [0.0, -3.0, -1.640089203931931], [-1.0, -3.0, -1.513529203931931], [-3.0, -3.0, -1.3927645393750012], [-1.0, -3.0, -1.3781142039319314], [-2.6666666666666665, -2.6666666666666665, -1.371699215000004], [-2.0, -2.0, -1.2452629462500027], [-2.0, -3.0, -1.2159092039319308], [-3.0, -3.0, -1.0515692039319298], [-3.0, -2.0, -0.5914692039319309], [-4.0, -3.0, -0.4922192039319313], [1.0, 1.0, -0.4787686886199989], [0.0, 0.0, 0.0], [-4.0, -2.0, 0.2637607960680679], [-8.0, -6.0, 4.901450796068069])\n"
     ]
    },
    {
     "data": {
      "image/png": "[encoded data removed]",
      "text/plain": [
       "<matplotlib.figure.Figure at 0x7f0682ed37b8>"
      ]
     },
     "metadata": {},
     "output_type": "display_data"
    }
   ],
   "source": [
    "# Generate and plot Pourbaix diagram\n",
    "#Each bulk solid/ion has a free energy g of the form:\n",
    "#g = g0_ref + 0.0591 * log10(conc) - nO * mu_H2O + (nH - 2nO) * pH + phi * (-nH + 2nO + q)\n",
    "all_entries = pbx_solid_entries + pbx_ion_entries\n",
    "pourbaix = PourbaixDiagram(all_entries)\n",
    "print (pourbaix._qhull_data)\n",
    "plotter = PourbaixPlotter(pourbaix)\n",
    "plotter.plot_pourbaix(limits=[[-2, 16],[-3, 3]])"
   ]
  },
  {
   "cell_type": "code",
   "execution_count": 30,
   "metadata": {},
   "outputs": [],
   "source": [
    "import os\n",
    "from mpinterfaces.mat2d.pourbaix.analysis import plot_pourbaix_diagram"
   ]
  },
  {
   "cell_type": "code",
   "execution_count": 48,
   "metadata": {},
   "outputs": [],
   "source": [
    "with open('AqueousIon.yaml', 'w') as yaml_file:\n",
    "    yaml.dump({'AqueousCompoundEnergies':yaml.load(open('ion_corrections.yaml')),'Name':[]}, yaml_file, default_flow_style=False)\n"
   ]
  },
  {
   "cell_type": "code",
   "execution_count": 41,
   "metadata": {},
   "outputs": [
    {
     "name": "stdout",
     "output_type": "stream",
     "text": [
      "Help on class AqueousCorrection in module pymatgen.entries.compatibility:\n",
      "\n",
      "class AqueousCorrection(AqueousCorrection)\n",
      " |  This class implements aqueous phase compound corrections for elements\n",
      " |  and H2O.\n",
      " |  \n",
      " |  Args:\n",
      " |      config_file: Path to the selected compatibility.yaml config file.\n",
      " |  \n",
      " |  Method resolution order:\n",
      " |      AqueousCorrection\n",
      " |      AqueousCorrection\n",
      " |      Correction\n",
      " |      builtins.object\n",
      " |  \n",
      " |  Methods defined here:\n",
      " |  \n",
      " |  __init__(self, *args, **kwargs)\n",
      " |  \n",
      " |  ----------------------------------------------------------------------\n",
      " |  Static methods defined here:\n",
      " |  \n",
      " |  __new__(cls, *args, **kwargs)\n",
      " |  \n",
      " |  ----------------------------------------------------------------------\n",
      " |  Data and other attributes defined here:\n",
      " |  \n",
      " |  __abstractmethods__ = frozenset()\n",
      " |  \n",
      " |  __wrapped__ = <class 'pymatgen.entries.compatibility.AqueousCorrection...\n",
      " |      This class implements aqueous phase compound corrections for elements\n",
      " |      and H2O.\n",
      " |      \n",
      " |      Args:\n",
      " |          config_file: Path to the selected compatibility.yaml config file.\n",
      " |  \n",
      " |  ----------------------------------------------------------------------\n",
      " |  Methods inherited from AqueousCorrection:\n",
      " |  \n",
      " |  __str__(self)\n",
      " |      Return str(self).\n",
      " |  \n",
      " |  get_correction(self, entry)\n",
      " |      Returns correction for a single entry.\n",
      " |      \n",
      " |      Args:\n",
      " |          entry: A ComputedEntry object.\n",
      " |      \n",
      " |      Returns:\n",
      " |          The energy correction to be applied.\n",
      " |      \n",
      " |      Raises:\n",
      " |          CompatibilityError if entry is not compatible.\n",
      " |  \n",
      " |  ----------------------------------------------------------------------\n",
      " |  Methods inherited from Correction:\n",
      " |  \n",
      " |  correct_entry(self, entry)\n",
      " |      Corrects a single entry.\n",
      " |      \n",
      " |      Args:\n",
      " |          entry: A ComputedEntry object.\n",
      " |      \n",
      " |      Returns:\n",
      " |          An processed entry.\n",
      " |      \n",
      " |      Raises:\n",
      " |          CompatibilityError if entry is not compatible.\n",
      " |  \n",
      " |  ----------------------------------------------------------------------\n",
      " |  Data descriptors inherited from Correction:\n",
      " |  \n",
      " |  __dict__\n",
      " |      dictionary for instance variables (if defined)\n",
      " |  \n",
      " |  __weakref__\n",
      " |      list of weak references to the object (if defined)\n",
      "\n"
     ]
    }
   ],
   "source": []
  },
  {
   "cell_type": "code",
   "execution_count": 87,
   "metadata": {},
   "outputs": [
    {
     "data": {
      "text/plain": [
       "{'AqueousCompoundEnergies': {'Ag': -0.121,\n",
       "  'Al': 0.614,\n",
       "  'As': 0.197,\n",
       "  'Au': -0.548,\n",
       "  'B': 0.353,\n",
       "  'Ba': 0.403,\n",
       "  'Be': 0.376,\n",
       "  'Bi': -0.535,\n",
       "  'C': 0.579,\n",
       "  'Ca': 0.105,\n",
       "  'Cd': 0.267,\n",
       "  'Ce': 0.529,\n",
       "  'Co': 0.871,\n",
       "  'Cr': 0.602,\n",
       "  'Cs': 'Element not finished and oxide not finished',\n",
       "  'Cu': 0.065,\n",
       "  'Dy': 0.235,\n",
       "  'Er': 0.293,\n",
       "  'Eu': 'Element not finished and oxide not finished',\n",
       "  'Fe': 0.366,\n",
       "  'Ga': 0.536,\n",
       "  'Gd': -0.061,\n",
       "  'Ge': 0.901,\n",
       "  'Hf': 0.313,\n",
       "  'Hg': -2.233,\n",
       "  'Ho': -20.11,\n",
       "  'In': 0.363,\n",
       "  'Ir': -0.53,\n",
       "  'K': -0.087,\n",
       "  'La': 'Element not finished and oxide not finished',\n",
       "  'Li': -0.006,\n",
       "  'Lu': 0.027,\n",
       "  'Mg': 0.281,\n",
       "  'Mn': 1.422,\n",
       "  'Mo': 0.379,\n",
       "  'N': -6.383,\n",
       "  'Na': -0.011,\n",
       "  'Nb': 0.133,\n",
       "  'Nd': 0.585,\n",
       "  'Ni': 1.122,\n",
       "  'Np': 0.946,\n",
       "  'Os': -0.38,\n",
       "  'P': 0.664,\n",
       "  'Pb': -0.309,\n",
       "  'Pd': -0.106,\n",
       "  'Pr': 1.806,\n",
       "  'Pt': -3.324,\n",
       "  'Pu': 1.018,\n",
       "  'Rb': -0.475,\n",
       "  'Re': -0.483,\n",
       "  'Rh': -0.286,\n",
       "  'Ru': -0.483,\n",
       "  'Sb': 0.004,\n",
       "  'Sc': 0.518,\n",
       "  'Se': -0.096,\n",
       "  'Si': 0.932,\n",
       "  'Sm': 0.473,\n",
       "  'Sn': 0.522,\n",
       "  'Sr': 0.13,\n",
       "  'Ta': 0.161,\n",
       "  'Tb': -0.123,\n",
       "  'Tc': -0.422,\n",
       "  'Te': -0.141,\n",
       "  'Th': 'Element not finished and oxide not finished',\n",
       "  'Ti': 0.197,\n",
       "  'Tl': -0.238,\n",
       "  'U': 'Oxide not finished',\n",
       "  'V': -0.182,\n",
       "  'W': 0.635,\n",
       "  'Y': 0.543,\n",
       "  'Yb': 3.164,\n",
       "  'Zn': 0.405,\n",
       "  'Zr': 0.783},\n",
       " 'Name': []}"
      ]
     },
     "execution_count": 87,
     "metadata": {},
     "output_type": "execute_result"
    }
   ],
   "source": [
    "yaml.load(open('/home/joshua/Software/Current_MPInterfaces/MPInterfaces/mpinterfaces/mat2d/pourbaix/AqueousIon.yaml'))"
   ]
  },
  {
   "cell_type": "code",
   "execution_count": null,
   "metadata": {
    "collapsed": true
   },
   "outputs": [],
   "source": []
  }
 ],
 "metadata": {
  "kernelspec": {
   "display_name": "Python 3",
   "language": "python",
   "name": "python3"
  },
  "language_info": {
   "codemirror_mode": {
    "name": "ipython",
    "version": 3
   },
   "file_extension": ".py",
   "mimetype": "text/x-python",
   "name": "python",
   "nbconvert_exporter": "python",
   "pygments_lexer": "ipython3",
   "version": "3.6.2"
  }
 },
 "nbformat": 4,
 "nbformat_minor": 1
}
