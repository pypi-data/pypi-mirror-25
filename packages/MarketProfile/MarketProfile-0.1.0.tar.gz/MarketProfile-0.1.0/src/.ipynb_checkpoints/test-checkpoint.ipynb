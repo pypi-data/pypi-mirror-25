{
 "cells": [
  {
   "cell_type": "code",
   "execution_count": 14,
   "metadata": {},
   "outputs": [],
   "source": [
    "import requests\n",
    "from io import BytesIO\n",
    "import dateutil.parser\n",
    "import time\n",
    "import pytz\n",
    "import pandas as pd, numpy as np, datetime\n",
    "\n",
    "def round_float(digits):\n",
    "    def f(x):\n",
    "        return round(np.float32(x), digits)\n",
    "    return f\n",
    "\n",
    "def get_google_data(file_path, symbol, interval, days):\n",
    "    url = \"http://finance.google.com/finance/getprices?q=%s&i=%d&p=%dd&f=d,o,h,l,c,v\" % (symbol, interval, days)\n",
    "    r = requests.get(url)\n",
    "    \n",
    "    with open(file_path, 'w') as out:\n",
    "        out.write(r.content)\n",
    "\n",
    "def read_google_data(file_path):\n",
    "    with open(file_path, 'r') as f:\n",
    "        # Extract meta-info from preamble\n",
    "        for index, line in enumerate(f):\n",
    "            if line.startswith('INTERVAL='):\n",
    "                interval = int(line[9:])\n",
    "            if index >= 6:\n",
    "                break\n",
    "\n",
    "        # Reset - read_csv does someting different than reading lines\n",
    "        f.seek(0)\n",
    "        \n",
    "        # Convert the data rows\n",
    "        data = pd.read_csv(f, skiprows=7, header=None,\n",
    "                            names=['a', 'Close', 'High', 'Low', 'Open', 'Volume'],\n",
    "                            converters={'a' : np.str,\n",
    "                                        'Open' : round_float(4),\n",
    "                                        'High' : round_float(4),\n",
    "                                        'Low' : round_float(4),\n",
    "                                        'Close' : round_float(4),\n",
    "                                        'Volume' : np.int32 })\n",
    "\n",
    "        # Create date sequence for index\n",
    "        for index, row in data.iterrows():\n",
    "            # Some rows begin with a unix timestamp prefixed by 'a'\n",
    "            # use that to determine the time\n",
    "            if row.a[0] == 'a':\n",
    "                ts = int(row.a.replace('a',''))\n",
    "                t = datetime.datetime.fromtimestamp(ts)\n",
    "                data.loc[index, 'Timestamp'] = t\n",
    "\n",
    "            # The rest of the rows are intervals from the last timestamp\n",
    "            else:\n",
    "                offset = interval * int(row.a)\n",
    "                data.loc[index, 'Timestamp'] = t + pd.to_timedelta(offset, unit='s')\n",
    "\n",
    "        # Reformat into a pandas dataframe with the date sequence as an index\n",
    "        data.set_index('Timestamp', inplace=True, drop=True)\n",
    "        data.drop('a', axis=1, inplace=True)\n",
    "\n",
    "    return data"
   ]
  },
  {
   "cell_type": "code",
   "execution_count": 19,
   "metadata": {
    "scrolled": false
   },
   "outputs": [
    {
     "name": "stdout",
     "output_type": "stream",
     "text": [
      "POC: 944.500000\n",
      "Profile range: 927.750000, 948.800000\n",
      "Value area: 934.900000, 948.800000\n",
      "Balanced Target: 961.250000\n"
     ]
    },
    {
     "data": {
      "image/png": "[encoded data removed]",
      "text/plain": [
       "<matplotlib.figure.Figure at 0x10be03310>"
      ]
     },
     "metadata": {},
     "output_type": "display_data"
    }
   ],
   "source": [
    "%matplotlib inline\n",
    "\n",
    "from market_profile import MarketProfile\n",
    "\n",
    "get_google_data('google.txt', 'GOOG', 60 * 30, 5)\n",
    "df = read_google_data('google.txt')\n",
    "\n",
    "mp = MarketProfile(df, tpo_size=0.05)\n",
    "mp_slice = mp['2017-09-27 06:30:00':'2017-09-27 13:00:00']\n",
    "\n",
    "data = mp_slice.profile\n",
    "data.plot(kind='bar')\n",
    "\n",
    "# GOOG 2017-09-27\n",
    "# PL 927.51, PH 949.9\n",
    "# VAL 934.87, VAH 949.9\n",
    "# POC 944.49\n",
    "# BT 961.47\n",
    "\n",
    "\n",
    "# print \"Initial balance: %f, %f\" % mp_slice.initial_balance()\n",
    "# print \"Opening range: %f, %f\" % mp_slice.open_range()\n",
    "print \"POC: %f\" % mp_slice.poc_price\n",
    "print \"Profile range: %f, %f\" % mp_slice.profile_range\n",
    "print \"Value area: %f, %f\" % mp_slice.value_area\n",
    "print \"Balanced Target: %f\" % mp_slice.balanced_target"
   ]
  },
  {
   "cell_type": "code",
   "execution_count": null,
   "metadata": {
    "collapsed": true
   },
   "outputs": [],
   "source": []
  }
 ],
 "metadata": {
  "kernelspec": {
   "display_name": "Python 2",
   "language": "python",
   "name": "python2"
  },
  "language_info": {
   "codemirror_mode": {
    "name": "ipython",
    "version": 2
   },
   "file_extension": ".py",
   "mimetype": "text/x-python",
   "name": "python",
   "nbconvert_exporter": "python",
   "pygments_lexer": "ipython2",
   "version": "2.7.14"
  }
 },
 "nbformat": 4,
 "nbformat_minor": 2
}
