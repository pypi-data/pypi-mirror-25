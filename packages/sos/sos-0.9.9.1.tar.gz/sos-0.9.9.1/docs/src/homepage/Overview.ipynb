{
 "cells": [
  {
   "cell_type": "markdown",
   "metadata": {},
   "source": [
    "**Script of Scripts (SoS)** is a **file format** for the inclusion of\n",
    "scripts in multiple languages into a single executable script, an\n",
    "**interactive environment** and **notebook tool** for working with different scripts, and\n",
    "a **workflow engine** for the execution of workflows consisting of scripts\n",
    "in different languages. It is designed for data scienticists and bioinformatics who routinely work with scripts in different languages such as Bash, R, Python, Julia, and Perl."
   ]
  },
  {
   "cell_type": "markdown",
   "metadata": {},
   "source": [
    "# Multi-Language File Format\n",
    "\n",
    "SoS helps you record all your analyses into a single script with minimal effort. It allows you to include scripts in different languages literally into a `.sos` files, and execute them as a single workflow. Additional SoS statements could be used to pass command line arguments to the script, customize scripts with variables, and control how these scripts are executed in batch mode. \n",
    "\n",
    "<table class=\"feature-table\">\n",
    "  <tr>\n",
    "    <td width=\"60%\" style=\"text-align: center;\">\n",
    "        <img width=\"90%\" src=\"doc/media/SoS_Format.png\"></td>\n",
    "    <td width=\"40%\" >A <b>readable</b> plain-text workflow format that\n",
    "    <ul>\n",
    "    <li>Includes scripts in different langauges almost verbatim</li>\n",
    "    <li>Uses string interpolation to compose scripts</li>\n",
    "    <li>Uses section headers to define steps</li>\n",
    "    <li>Executes multi-language workflows with command line options</li>\n",
    "    </ul>\n",
    "    </td>   \n",
    "</table>"
   ]
  },
  {
   "cell_type": "markdown",
   "metadata": {
    "collapsed": true
   },
   "source": [
    "# Multi-Language Notebook"
   ]
  },
  {
   "cell_type": "markdown",
   "metadata": {},
   "source": [
    "As an **interactive environment** and **notebook tool** that promotes [literate programming](https://en.wikipedia.org/wiki/Literate_programming), SoS\n",
    "allows you to perform and record your analysis in different languages in a single [Jupyter notebook](http://jupyter.org/), with simple data exchange between multiple Jupyter kernels. This allows you to, for example, collect and analyze data in Python, and visualize it in R.\n",
    "\n",
    "<table class=\"feature-table\">\n",
    "  <tr>\n",
    "    <td width=\"40%\" >A Jupyter Notebook with\n",
    "    <ul>\n",
    "    <li>Cells in different languages</li>\n",
    "    <li>Magics to exchange variables between languages</li>\n",
    "    <li>Preview of variables and files</li>\n",
    "    <li>Side panel for line-by-line execution, executing scratch commands, displaying table of content and other nonperminent contents</li>\n",
    "    </ul>\n",
    "    </td> \n",
    "    <td width=\"60%\" style=\"text-align: center;\">\n",
    "        <img width=\"90%\" src=\"doc/media/JupyterNotebook.png\"></td>\n",
    "    \n",
    "</table>"
   ]
  },
  {
   "cell_type": "markdown",
   "metadata": {},
   "source": [
    "# Forward and Makefile Style Workflows\n",
    "\n",
    "As a **workflow engine**, SoS helps you oraganize your commands and scripts in different languages into readable workflows that can be easily understood and modified by others. The workflows can be specified in both forward (step by step) style, makefile (dependency rules) style, and even a mixture of both styles. Beacuse of a great emphasis on readability, SoS is an easy-to-use alternative to specialized workflow systems such as [CWL](http://www.commonwl.org/) which makes it an ideal tool for the creation and maintainance of workflows that need to be frequently updated and shared with others.\n",
    "\n",
    "<table class=\"feature-table\">\n",
    "  <tr>\n",
    "    <td width=\"60%\" style=\"text-align: center;\">\n",
    "        <img width=\"90%\" src=\"doc/media/example_dag.png\"></td>\n",
    "    <td width=\"40%\" >A workflow engine that\n",
    "    <ul>\n",
    "    <li>Can be written in forward, make-file, and mixed styles</li>\n",
    "    <li>Creates and dispatches tasks to local and remote task queues</li>\n",
    "    <li>Keeps track of runtime signatures to avoid re-execution of large jobs</li>\n",
    "    <li>Has duel command-line and Jupyter interfaces</li>\n",
    "    </ul>\n",
    "    </td>   \n",
    "</table>"
   ]
  }
 ],
 "metadata": {
  "anaconda-cloud": {},
  "kernelspec": {
   "display_name": "SoS",
   "language": "sos",
   "name": "sos"
  },
  "language_info": {
   "codemirror_mode": "sos",
   "file_extension": ".sos",
   "mimetype": "text/x-sos",
   "name": "sos",
   "nbconvert_exporter": "sos.jupyter.converter.SoS_Exporter",
   "pygments_lexer": "sos"
  },
  "sos": {
   "kernels": [
    [
     "Bash",
     "bash",
     "Bash",
     "#E6EEFF"
    ],
    [
     "JavaScript",
     "javascript",
     "JavaScript",
     "#c8e1ae"
    ],
    [
     "Python2",
     "python2",
     "Python2",
     "#FFE771"
    ],
    [
     "Python3",
     "python3",
     "Python3",
     "#FFE771"
    ],
    [
     "R",
     "ir",
     "R",
     "#DCDCDA"
    ],
    [
     "SoS",
     "sos",
     "",
     ""
    ]
   ],
   "panel": {
    "displayed": true,
    "height": 0,
    "style": "side"
   }
  },
  "toc": {
   "colors": {
    "hover_highlight": "#DAA520",
    "running_highlight": "#FF0000",
    "selected_highlight": "#FFD700"
   },
   "moveMenuLeft": true,
   "nav_menu": {
    "height": "45px",
    "width": "254px"
   },
   "navigate_menu": true,
   "number_sections": true,
   "sideBar": true,
   "threshold": 4,
   "toc_cell": false,
   "toc_section_display": "block",
   "toc_window_display": false
  }
 },
 "nbformat": 4,
 "nbformat_minor": 2
}
