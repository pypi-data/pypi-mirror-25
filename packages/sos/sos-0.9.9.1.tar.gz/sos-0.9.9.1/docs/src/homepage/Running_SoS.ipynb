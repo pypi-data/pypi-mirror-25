{
 "cells": [
  {
   "cell_type": "markdown",
   "metadata": {},
   "source": [
    "# Running SoS in Docker "
   ]
  },
  {
   "cell_type": "markdown",
   "metadata": {},
   "source": [
    "If you are using docker, you can run SoS directly using command\n",
    "\n",
    "```\n",
    "% docker run -it mdabioinfo/sos:latest /bin/bash\n",
    "```\n",
    "\n",
    "to enter a command prompt with sos command. More usefully, you can start a Jupyter server with [R](https://www.r-project.org/) and [IRkernel](https://github.com/IRkernel/IRkernel), Julia, Python, and SoS kernels, and many Python and R modules for data sciencists using command\n",
    "\n",
    "```\n",
    "% docker run -d -p 8888:8888 mdabioinfo/sos-notebook\n",
    "```\n",
    "\n",
    "After the docker is running in the background, you can start a browser and start working with a complete SoS environment with URL\n",
    "\n",
    "```\n",
    "http://localhost:8888\n",
    "```\n",
    "\n",
    "You can even use this docker image for your daily data analysis if you make your local directory available to the Jupyter server using command \n",
    "\n",
    "```\n",
    "% docker run -d -p 8888:8888 -v $HOME:/home/jovyan/work  mdabioinfo/sos-notebook\n",
    "```\n",
    "\n",
    "This command mounts your home directory (`$HOME`) to directory `work` under the home directory of the docker machine but you can mount any local directory to the docker image. This container is hosted at [our public Jupyter\n",
    "server](http://ec2-34-192-184-206.compute-1.amazonaws.com:8000/) from which you can open our sample notebooks and create your own notebooks without installing anything."
   ]
  },
  {
   "cell_type": "markdown",
   "metadata": {},
   "source": [
    "# Installing SoS locally"
   ]
  },
  {
   "cell_type": "markdown",
   "metadata": {},
   "source": [
    "SoS supports Linux, Mac OSX, and Windows systems and requires [Python 3](https://www.python.org/) (version 3.5 or later) so you will need to install Python 3 if you do not have it installed locally. We recommend [ananconda Python](https://www.continuum.io/downloads) because it is a complete Python environment with many packages for scientific computing."
   ]
  },
  {
   "cell_type": "markdown",
   "metadata": {},
   "source": [
    "After you have installed Python 3, you can install SoS with\n",
    "\n",
    "```\n",
    "% pip3 install sos\n",
    "```\n",
    "\n",
    "or \n",
    "\n",
    "```\n",
    "% pip install sos\n",
    "```\n",
    "\n",
    "depending on the command used for your Python 3 installation."
   ]
  },
  {
   "cell_type": "markdown",
   "metadata": {},
   "source": [
    "## Note for Windows Users"
   ]
  },
  {
   "cell_type": "markdown",
   "metadata": {},
   "source": [
    "Windows systems lack native support for some of the tools that SoS uses. You could enable [Linux subsystem for windows](https://msdn.microsoft.com/en-us/commandline/wsl/about) if you have a Windows 10 system with Developer Mode enabled, or use one of the Linux subsystems such as [Cygwin](https://www.cygwin.com/), [MinGW](http://www.mingw.org/), or [MSYS2](http://www.msys2.org/). We generally recommend the use of MSYS2 because of its pacman package manage system.\n",
    "\n",
    "To install MSYS2,\n",
    "\n",
    "* Install MSYS2 from [MSYS2 homepage](http://www.msys2.org/)\n",
    "* Start MSYS2, run\n",
    "  ```\n",
    "  $ pacman -S openssh rsync git\n",
    "  ```\n",
    "* Add `c:\\msys64\\usr\\bin` (adapt to your installation) to environment variable `$PATH` so that commands `rsync`, `rcp`, `ssh`, and `git` are available to sos.\n",
    "\n",
    "Note that\n",
    "* This configuration allows executing tasks generated from a windows localhost on remote Linux and Mac OSX hosts (task queues). **Remote execution on a windows host is not yet supported**. \n",
    "* Installation of `git` is optional especially if you already have [git for windows](https://git-scm.com/downloads) installed (which is also based on msys2).\n",
    "* You might want to install [ConEmu](https://conemu.github.io/) as a (much better) replacement for Windows command console.\n",
    "* You will need to set up `$HOME` properly to use ssh and public key authentication with other machines. [This page](https://github.com/valtron/llvm-stuff/wiki/Set-up-Windows-dev-environment-with-MSYS2) provides a nice summary of the steps.\n"
   ]
  },
  {
   "cell_type": "markdown",
   "metadata": {},
   "source": [
    "##  Supported Languages"
   ]
  },
  {
   "cell_type": "markdown",
   "metadata": {
    "kernel": "sos"
   },
   "source": [
    "### <img src=\"img/Bash.png\" style=\"width:32pt;height:32pt;margin-right:15pt;\">Bash"
   ]
  },
  {
   "cell_type": "markdown",
   "metadata": {},
   "source": [
    "Install Bash Jupyter kernel using command\n",
    "\n",
    "```\n",
    "pip install bash_kernel\n",
    "python -m bash_kernel.install\n",
    "```\n",
    "\n",
    "or following instructions from [Jupyter Bash Kernel homepage](https://github.com/takluyver/bash_kernel).\n",
    "\n",
    "Understandably, it can be tricky to use bash under windows."
   ]
  },
  {
   "cell_type": "markdown",
   "metadata": {},
   "source": [
    "### <img src=\"img/JavaScript.png\" style=\"width:32pt;height:32pt;margin-right:15pt;\">JavaScript"
   ]
  },
  {
   "cell_type": "markdown",
   "metadata": {},
   "source": [
    "Although there appears to be several Jupyter Kernels, SoS is only tested with the [iJavaScript kernel](https://github.com/n-riesco/ijavascript). To use this kernel, you will need to have `node.js`, `npm` installed, run\n",
    "\n",
    "```\n",
    "npm install -g ijavascript\n",
    "```\n",
    "and then install the kernelspec with command\n",
    "```\n",
    "ijsinstall\n",
    "```\n",
    "\n",
    "Hint:\n",
    "* If you have `npm` etc installed from `brew` under a Mac OS X system, you might need to add paths such as `/usr/local/Cellar/node/7.8.0/libexec/npm/lib/node_modules/ijavascript/bin` and `/usr/local/Cellar/node/7.8.0/libexec/npm/bin/` to your `$PATH` get the kernel running."
   ]
  },
  {
   "cell_type": "markdown",
   "metadata": {},
   "source": [
    "### <img src=\"img/Julia.png\" style=\"width:32pt;height:32pt;margin-right:15pt;\">Julia"
   ]
  },
  {
   "cell_type": "markdown",
   "metadata": {},
   "source": [
    "After [installing Julia](https://julialang.org/downloads/), you will need to start Julia and install [iJulia](https://github.com/JuliaLang/IJulia.jl) and [feather.jl](https://github.com/JuliaStats/Feather.jl) with commands\n",
    "\n",
    "```\n",
    "ENV[\"JUPYTER\"] = \"/path/to/jupyter\"\n",
    "Pkg.add(\"IJulia\")\n",
    "Pkg.add(\"Feather\")\n",
    "Pkg.add(\"DataFrames\")\n",
    "Pkg.add(\"NamedArrays\")\n",
    "```"
   ]
  },
  {
   "cell_type": "markdown",
   "metadata": {},
   "source": [
    "### <img src=\"img/Matlab.png\" style=\"width:32pt;height:32pt;margin-right:15pt;\"> Matlab"
   ]
  },
  {
   "cell_type": "markdown",
   "metadata": {},
   "source": [
    "With a properly installed version of Matlab, you will need to install\n",
    "\n",
    "* Python package [`matlab_kernel`](https://github.com/Calysto/matlab_kernel) with command\n",
    "    ```\n",
    "    pip install matlab_kernel\n",
    "    ```\n",
    "* If you have not done so, install [matlab engine for Python](https://www.mathworks.com/help/matlab/matlab_external/install-the-matlab-engine-for-python.html), which might not support the most recent version of Python.\n",
    "\n",
    "You then should be able to see `matlab` listed under `jupyter kernelspec list`, and be able to enter matlab commands by creating a matlab notebook from `jupyter notebook`."
   ]
  },
  {
   "cell_type": "markdown",
   "metadata": {},
   "source": [
    "### <img src=\"img/Octave.png\" style=\"width:32pt;height:32pt;margin-right:15pt;\"> Octave"
   ]
  },
  {
   "cell_type": "markdown",
   "metadata": {},
   "source": [
    "After installing [GNU Octave](https://www.gnu.org/software/octave/), you can install the [octave kernel](https://github.com/Calysto/octave_kernel) with the following commands\n",
    "\n",
    "```\n",
    "pip install octave_kernel\n",
    "python -m octave_kernel.install\n",
    "```\n",
    "\n",
    "For transferring Python's DataFrame and its equivalences in other languages, you will need to install the [dataframe](https://octave.sourceforge.io/dataframe/index.html) package using the following command:\n",
    "\n",
    "```\n",
    "octave --eval 'pkg install -forge dataframe'\n",
    "```"
   ]
  },
  {
   "cell_type": "markdown",
   "metadata": {},
   "source": [
    "### <img src=\"img/Python.png\" style=\"width:32pt;height:32pt;margin-right:15pt;\"> Python 2"
   ]
  },
  {
   "cell_type": "markdown",
   "metadata": {},
   "source": [
    "If you still have Python 2.x installed on your system and would like to use it with SoS, you will need to\n",
    "* Place executable `python2` or `python2.7` in your `$PATH` and use action `python2` for python2 scripts.\n",
    "* Install python2 kernel following directions [here](http://ipython.readthedocs.io/en/stable/install/kernel_install.html). Most likely you should be using commands\n",
    "  ```bash\n",
    "  conda create -n ipykernel_py2 python=2 ipykernel\n",
    "  source activate ipykernel_py2    # On Windows, remove the word 'source'\n",
    "  python -m ipykernel install --user\n",
    "  ```  "
   ]
  },
  {
   "cell_type": "markdown",
   "metadata": {},
   "source": [
    "### <img src=\"img/Python3.png\" style=\"width:32pt;height:32pt;margin-right:15pt;\">Python 3"
   ]
  },
  {
   "cell_type": "markdown",
   "metadata": {},
   "source": [
    "No special installation is required because Jupyter notebook comes with Python 3 kernel."
   ]
  },
  {
   "cell_type": "markdown",
   "metadata": {},
   "source": [
    "### <img src=\"img/R.png\" style=\"width:32pt;height:32pt;margin-right:15pt;\">R"
   ]
  },
  {
   "cell_type": "markdown",
   "metadata": {},
   "source": [
    "If you are using anaconda, you can install R and required packages using\n",
    "\n",
    "```\n",
    "conda install -c r r-essentials r-feather\n",
    "conda install -c conda-forge feather-format\n",
    "```\n",
    "\n",
    "Otherwise, you will need to install\n",
    "\n",
    "* [R](https://www.r-project.org/) version 3.2 or later (for IRKernel)\n",
    "* [IRKernel](https://github.com/IRkernel/IRkernel) R kernel for Jupyter\n",
    "* Python [feather-format](https://github.com/wesm/feather) module and R [feather](https://cran.r-project.org/web/packages/feather/index.html) library for exchanging data frames between SoS/Python DataFrame and R data.frame.\n",
    "\n",
    "Hint:\n",
    "* If you are running windows and using conda, you might need to run `activate.bat` or add `C:\\Users\\user\\AppData\\Local\\Continuum\\Anaconda3\\Library\\mingw-w64\\bin` to your `$PATH` before you could run ir kernel from Jupyter ([issue 777 of anaconda](https://github.com/ContinuumIO/anaconda-issues/issues/777))"
   ]
  },
  {
   "cell_type": "markdown",
   "metadata": {},
   "source": [
    "### <img src=\"img/SAS.png\" style=\"width:32pt;height:32pt;margin-right:15pt;\">SAS"
   ]
  },
  {
   "cell_type": "markdown",
   "metadata": {},
   "source": [
    "With a proper SAS installation, you can check if you already have `sas-kernel` installed by checking the output of command\n",
    "\n",
    "```\n",
    "jupyter kernelspec list\n",
    "```\n",
    "\n",
    "If you do not see `sas` in the list, you can install it by following instructions on `sos-kernel` [homepage](https://github.com/sassoftware/sas_kernel). In the simplest case, you can install SAS kernel and required modules using command\n",
    "\n",
    "```\n",
    "pip install sas_kernel saspy sas7bdat\n",
    "```\n",
    "and connect to a local SAS installation with config file (e.g. `~/anaconda3/lib/python3.6/site-packages/saspy/sascfg.py`)\n",
    "\n",
    "```\n",
    "SAS_config_names=['default']\n",
    "SAS_config_options = {'lock_down': True}\n",
    "default  = {'saspath'  : '/usr/local/data/SASHome/SASFoundation/9.4/sas' }\n",
    "```\n",
    "\n",
    "For more complicated cases, you would have to configure your SAS connection as instructed in the [saspy manual](https://sassoftware.github.io/saspy/install.html). Note that \n",
    "\n",
    "1. You will need SAS version 9.4 or higher to use `sas_kernel`, and as of July 2017, `sas_kernel` only supports Linux system, namely Windows and mac OSX are not supported.\n",
    "2. The SAS Unversity Edition runs a jupyter server inside a Virtual Machine without ssh access. Although you can use this version to learn SAS and Jupyter, it is not possible to use it with SoS."
   ]
  },
  {
   "cell_type": "markdown",
   "metadata": {},
   "source": [
    "# Testing the Cutting-Edge\n",
    "\n",
    "You can get the latest git version of SoS with commands\n",
    "\n",
    "```\n",
    "% git clone https://github.com/vatlab/SOS.git\n",
    "% cd SOS\n",
    "% python setup.py install\n",
    "```"
   ]
  },
  {
   "cell_type": "markdown",
   "metadata": {},
   "source": [
    "# Running SoS in command line"
   ]
  },
  {
   "cell_type": "markdown",
   "metadata": {},
   "source": [
    "SoS can be executed in batch mode from command line or in interactive mode in [Jupyter Notebook](http://jupyter.org/). \n",
    "\n",
    "SoS uses a subcommand system with subcommands such as `run`, `dryrun`, `convert`, `pack`, `unpack`. You can get a list of subcommands using command\n",
    "\n",
    "```\n",
    "% sos -h\n",
    "```\n",
    "\n",
    "and usage of a particular subcomand using commands such as\n",
    "\n",
    "```\n",
    "% sos run -h\n",
    "```\n",
    "\n",
    "You can execute a SoS script `myscript` (or `myscript.sos`) in batch mode using command\n",
    "\n",
    "```\n",
    "% sos run myscript [options]\n",
    "```\n",
    "\n",
    "directly using command\n",
    "\n",
    "```\n",
    "% myscript [options]\n",
    "```\n",
    "\n",
    "if the script has shebang line \n",
    "\n",
    "```\n",
    "#!/usr/bin/env sos-runner\n",
    "```\n",
    "\n",
    "Please refer to chapter [Command Line Interface](doc/documentation/User_Interface.html) of the SoS documentation for more details."
   ]
  },
  {
   "cell_type": "markdown",
   "metadata": {},
   "source": [
    "# Running SoS interactively"
   ]
  },
  {
   "cell_type": "markdown",
   "metadata": {},
   "source": [
    "To use SoS interactively with Jupyter, you need to first verify if the sos kernel is properly installed, by checking if `sos` is listed in the output of command\n",
    "\n",
    "```\n",
    "% jupyter kernelspec list\n",
    "```\n",
    "\n",
    "Then you can start a Jupyter server with commnad\n",
    "\n",
    "```\n",
    "% jupyter notebook\n",
    "```\n",
    "\n",
    "and choose `SoS` as the kernel for a new notebook. Please refer to [Notebook Interface](doc/documentation/Notebook_Interface.html) of the SoS documentation for details."
   ]
  },
  {
   "cell_type": "markdown",
   "metadata": {},
   "source": [
    "One of the advantages of using a Jupyter notebook is the ability to access the notebook remotely. For example, you can start a Jupyter server from your office computer and connect to it from you home (as long as there is no firewall that blocks the assigned port).\n",
    "\n",
    "[The jupyter documentation](http://jupyter-notebook.readthedocs.io/en/latest/public_server.html) provides detailed instructions on how to start a Jupyter notebook server that accepts external connection. Generally speaking, you should run command\n",
    "\n",
    "```python\n",
    ">>> from notebook.auth import passwd\n",
    ">>> passwd()\n",
    "```\n",
    "\n",
    "from a Python shell to get `sha` presentation of a password. Generate a new configuration file (`~/.jupyter/jupyter_notebook_config.py`) with command\n",
    "\n",
    "```\n",
    "jupyter notebook --generate-config\n",
    "```\n",
    "\n",
    "and modify it with lines such as\n",
    "\n",
    "```python\n",
    "c.NotebookApp.ip = '*'\n",
    "c.NotebookApp.password = u'sha1:bcd259ccf...<your hashed password here>'\n",
    "c.NotebookApp.open_browser = False\n",
    "c.NotebookApp.port = 9999\n",
    "```\n",
    "\n",
    "Then, after you start your notebook server using command\n",
    "\n",
    "```\n",
    "% jupyter notebook\n",
    "```\n",
    "\n",
    "You should be able to access it remotely with URL\n",
    "\n",
    "```\n",
    "http://url-or-ip-of-notebook-server:9999/\n",
    "```"
   ]
  }
 ],
 "metadata": {
  "anaconda-cloud": {},
  "kernelspec": {
   "display_name": "SoS",
   "language": "sos",
   "name": "sos"
  },
  "language_info": {
   "codemirror_mode": "sos",
   "file_extension": ".sos",
   "mimetype": "text/x-sos",
   "name": "sos",
   "nbconvert_exporter": "sos.jupyter.converter.SoS_Exporter",
   "pygments_lexer": "sos"
  },
  "sos": {
   "celltoolbar": true,
   "kernels": [
    [
     "Bash",
     "bash",
     "Bash",
     "#E6EEFF"
    ],
    [
     "JavaScript",
     "javascript",
     "JavaScript",
     "#00ff80"
    ],
    [
     "Python2",
     "python2",
     "Python2",
     "#EAFAF1"
    ],
    [
     "Python3",
     "python3",
     "Python3",
     "#EAFAF1"
    ],
    [
     "R",
     "ir",
     "R",
     "#FDEDEC"
    ],
    [
     "SoS",
     "sos",
     "",
     ""
    ]
   ],
   "panel": {
    "displayed": true,
    "height": 0,
    "style": "side"
   }
  },
  "toc": {
   "colors": {
    "hover_highlight": "#DAA520",
    "running_highlight": "#FF0000",
    "selected_highlight": "#FFD700"
   },
   "moveMenuLeft": true,
   "nav_menu": {
    "height": "128px",
    "width": "254px"
   },
   "navigate_menu": true,
   "number_sections": true,
   "sideBar": true,
   "threshold": 4,
   "toc_cell": false,
   "toc_section_display": "block",
   "toc_window_display": false
  }
 },
 "nbformat": 4,
 "nbformat_minor": 2
}
