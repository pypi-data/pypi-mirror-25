{
 "cells": [
  {
   "cell_type": "markdown",
   "metadata": {},
   "source": [
    "# Readable Multi-Script Format"
   ]
  },
  {
   "cell_type": "markdown",
   "metadata": {},
   "source": [
    "The SoS format is highly readable with almost verbatim inclusion of scripts in other languages. Anyone, including those who have no idea about SoS, would be able to read and modify workflows written in SoS format. This makes SoS an idea tool for the sharing of workflows with others, and for the creation of workflows that would be frequently updated for newer versions of tools.\n"
   ]
  },
  {
   "cell_type": "markdown",
   "metadata": {
    "collapsed": true
   },
   "source": [
    "# Multi-Kernel Jupyter Notebook"
   ]
  },
  {
   "cell_type": "markdown",
   "metadata": {},
   "source": [
    "As an **interactive environment** and **notebook tool** that promotes [literate programming](https://en.wikipedia.org/wiki/Literate_programming), SoS\n",
    "allows you to perform and record your analysis in different languages in a single [Jupyter notebook](http://jupyter.org/), with seamless integration\n",
    "of multiple Jupyter kernels (e.g. python, and [R](https://github.com/IRkernel/IRkernel)). The ability toexchange data between different kernels allows you to use the most appropriate languages for different parts of your work.\n",
    "\n",
    "SoS can work with all [Jupyter kernels](https://github.com/jupyter/jupyter/wiki/Jupyter-kernels) and currently provides native support (with data exchange) for the following languages:\n",
    "\n",
    "<table class=\"logo-table\">\n",
    "  <tr>\n",
    "    <td><img src=\"img/Bash.png\"></td>\n",
    "    <td><img src=\"img/JavaScript.png\"></td>\n",
    "    <td><img src=\"img/Julia.png\"></td>    \n",
    "    <td><img src=\"img/Matlab.png\"></td>\n",
    "    <td><img src=\"img/Octave.png\"></td>    \n",
    "    <td><img src=\"img/Python.png\"></td> \n",
    "    <td><img src=\"img/Python3.png\"></td>\n",
    "    <td><img src=\"img/R.png\"></td>\n",
    "    <td><img src=\"img/SAS.png\"></td>\n",
    "      </tr>\n",
    "  <tr>\n",
    "    <td bgcolor=\"#E6EEFF\">Bash</td>\n",
    "    <td bgcolor=\"#00ff80\">JavaScript</td>\n",
    "    <td bgcolor=\"#FCEDF4\">Julia</td>\n",
    "    <td bgcolor=\"#FA8072\">Matlab</td>\n",
    "    <td bgcolor=\"#FA8072\">Octave</td>    \n",
    "    <td bgcolor=\"#EAFAF1\">Python 2</td> \n",
    "    <td bgcolor=\"#EAFAF1\">Python 3</td>\n",
    "    <td bgcolor=\"#FDEDEC\">R</td>\n",
    "    <td bgcolor=\"#dcb9b9\">SAS</td>\n",
    "    </tr>\n",
    "</table>"
   ]
  },
  {
   "cell_type": "markdown",
   "metadata": {},
   "source": [
    "# Mixed Style Workflows\n",
    "\n",
    "SoS follows your definition of workflow that allows you to define workflows in both foward and makefile style, even a mixture of both. More specifically, you can define workflows as ordered steps that would be executed sequentially step by step to process specified input files; or as a set of makefile-style rules that would be executed to generated specified output files; or as a sequence of steps with help from makefile-style steps. SoS automatically analyzes the input and output of steps and execute workflows using a dynamic DAG (Directed Acyclic Graph) that would be expanded and shrinked during the execution.\n"
   ]
  },
  {
   "cell_type": "markdown",
   "metadata": {},
   "source": [
    "# Intelligent Runtime Features"
   ]
  },
  {
   "cell_type": "markdown",
   "metadata": {},
   "source": [
    "SoS separates the execution of workflows as individual **execution units** and record the signature of the execution units during the execution of the workflow. A highly intelligent signature system will ignore execution units if they have been executed and are being re-executed with identical input, output, dependent files, user parameters, and even environment variables. The execution units are indepedent of workflows so some steps of your workflow could be ignored if they have been executed by another workflow.\n"
   ]
  },
  {
   "cell_type": "markdown",
   "metadata": {},
   "source": [
    "# Power without Steep Learning Curve"
   ]
  },
  {
   "cell_type": "markdown",
   "metadata": {},
   "source": [
    "SoS is very easy to learn so that you can start using it in minutes without having to learn any of the advanced features. As demonstrated in our [Quick Start Guide](doc/tutorials/Quick_Start_Guide.html), you can easily consolidate your scripts into an executable workflow using SoS and add more features to the script step by step if necessary. The multi-kernel feature of the Jupyter notebook is also easy to use with only two magics to remember.\n"
   ]
  },
  {
   "cell_type": "markdown",
   "metadata": {},
   "source": [
    "# For PC, Cluster, and Cloud\n",
    "\n",
    "SoS is released under a [GPL 3 license](https://www.gnu.org/licenses/gpl-3.0.en.html) and is available for Mac OSX, Linux, and Windows operating systems. SoS provides an interactive environment for interactive data analysis on your PC. With just a few additional steps, your script can be transformed to a workflow that deals with different input files and different processing logics, and can be run in batch mode on a cluster system or in a cloud environment.\n"
   ]
  },
  {
   "cell_type": "markdown",
   "metadata": {
    "output_cache": "[]"
   },
   "source": [
    "# Write Once, Run Everywhere\n",
    "\n",
    "It is technically not possible to execute workflows on all systems because of limits on hardware and software but using SoS's remote execution features, you can execute workflows locally while submitting tasks to external task queues such as computing servers, cluster systems, and RQ or Celery task queues. SoS automaticlly synchronize input and output files so your tasks could be executed easily on servers with their own filesystems."
   ]
  },
  {
   "cell_type": "markdown",
   "metadata": {},
   "source": [
    "# An Open and Extensible Framework\n",
    "\n",
    "SoS is open source and provides [an API](doc/documentation/Extending_SoS.html) to work with aribitrary languages. Its data-exchange model allows the exachange of arbitrary data types between languages with results in native data types. If your favoriate language is not yet support and you are familiar with Python, feel free to add it to SoS. \n"
   ]
  }
 ],
 "metadata": {
  "anaconda-cloud": {},
  "kernelspec": {
   "display_name": "SoS",
   "language": "sos",
   "name": "sos"
  },
  "language_info": {
   "codemirror_mode": "sos",
   "file_extension": ".sos",
   "mimetype": "text/x-sos",
   "name": "sos",
   "nbconvert_exporter": "sos.jupyter.converter.SoS_Exporter",
   "pygments_lexer": "sos"
  },
  "sos": {
   "celltoolbar": true,
   "kernels": [
    [
     "Bash",
     "bash",
     "Bash",
     "#E6EEFF"
    ],
    [
     "JavaScript",
     "javascript",
     "JavaScript",
     "#00ff80"
    ],
    [
     "Julia",
     "julia-0.6",
     "Julia",
     "#ff99ff"
    ],
    [
     "Python2",
     "python2",
     "Python2",
     "#EAFAF1"
    ],
    [
     "Python3",
     "python3",
     "Python3",
     "#EAFAF1"
    ],
    [
     "R",
     "ir",
     "R",
     "#FDEDEC"
    ],
    [
     "SoS",
     "sos",
     "",
     ""
    ],
    [
     "sas",
     "sas",
     "",
     ""
    ]
   ],
   "panel": {
    "displayed": true,
    "height": 0,
    "style": "side"
   }
  },
  "toc": {
   "colors": {
    "hover_highlight": "#DAA520",
    "running_highlight": "#FF0000",
    "selected_highlight": "#FFD700"
   },
   "moveMenuLeft": true,
   "nav_menu": {
    "height": "45px",
    "width": "254px"
   },
   "navigate_menu": true,
   "number_sections": true,
   "sideBar": true,
   "threshold": 4,
   "toc_cell": false,
   "toc_section_display": "block",
   "toc_window_display": false
  }
 },
 "nbformat": 4,
 "nbformat_minor": 2
}
