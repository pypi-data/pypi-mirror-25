{
 "cells": [
  {
   "cell_type": "markdown",
   "metadata": {},
   "source": [
    "**Script of Scripts (SoS)** is a **file format** for the inclusion of\n",
    "scripts in multiple languages into a single executable script, an\n",
    "**interactive environment** and **notebook tool** for working with different scripts, and\n",
    "a **workflow engine** for the execution of workflows consisting of scripts\n",
    "in different languages. It is designed for data scienticists and bioinformatics who routinely work with scripts in different languages such as Bash, R, Python, Julia, and Perl."
   ]
  },
  {
   "cell_type": "markdown",
   "metadata": {},
   "source": [
    "# A File Format with an IDE\n",
    "\n",
    "SoS helps you record all your analyses into a single script with minimal effort. It allows you to include scripts in different languages literally into a `.sos` files, and execute them as a single workflow. Additional SoS statements could be used to pass command line arguments to the script, customize scripts with variables, and control how these scripts are executed in batch mode. A Spyder IDE can be used to edit and execute SoS files in an integrated environment.\n",
    "\n",
    "![sos_as_fileformat.png](../media/sos_as_fileformat.png)"
   ]
  },
  {
   "cell_type": "markdown",
   "metadata": {
    "collapsed": true
   },
   "source": [
    "# Multi-Language Notebook"
   ]
  },
  {
   "cell_type": "markdown",
   "metadata": {},
   "source": [
    "As an **interactive environment** and **notebook tool** that promotes [literate programming](https://en.wikipedia.org/wiki/Literate_programming), SoS\n",
    "allows you to perform and record your analysis in different languages in a single [Jupyter notebook](http://jupyter.org/), with simple data exchange between multiple Jupyter kernels. This allows you to, for example, collect and analyze data in Python, and visualize it in R.\n",
    "\n",
    "![sos_as_environment.png](../media/sos_as_environment.png)"
   ]
  },
  {
   "cell_type": "markdown",
   "metadata": {},
   "source": [
    "# Forward and Makefile Style Workflows\n",
    "\n",
    "As a **workflow engine**, SoS helps you oraganize your commands and scripts in different languages into readable workflows that can be easily understood and modified by others. The workflows can be specified in both forward (step by step) style, makefile (dependency rules) style, and even a mixture of both styles. Beacuse of a great emphasis on readability, SoS is an easy-to-use alternative to specialized workflow systems such as [CWL](http://www.commonwl.org/) which makes it an ideal tool for the creation and maintainance of workflows that need to be frequently updated and shared with others.\n",
    "\n",
    "![sos_as_workflow.png](doc/media/sos_as_workflow.png)\n",
    "\n"
   ]
  }
 ],
 "metadata": {
  "anaconda-cloud": {},
  "kernelspec": {
   "display_name": "SoS",
   "language": "sos",
   "name": "sos"
  },
  "language_info": {
   "codemirror_mode": "sos",
   "file_extension": ".sos",
   "mimetype": "text/x-sos",
   "name": "sos",
   "nbconvert_exporter": "sos.jupyter.converter.SoS_Exporter",
   "pygments_lexer": "sos"
  },
  "toc": {
   "colors": {
    "hover_highlight": "#DAA520",
    "running_highlight": "#FF0000",
    "selected_highlight": "#FFD700"
   },
   "moveMenuLeft": true,
   "nav_menu": {
    "height": "45px",
    "width": "254px"
   },
   "navigate_menu": true,
   "number_sections": true,
   "sideBar": true,
   "threshold": 4,
   "toc_cell": false,
   "toc_section_display": "block",
   "toc_window_display": false
  }
 },
 "nbformat": 4,
 "nbformat_minor": 2
}
