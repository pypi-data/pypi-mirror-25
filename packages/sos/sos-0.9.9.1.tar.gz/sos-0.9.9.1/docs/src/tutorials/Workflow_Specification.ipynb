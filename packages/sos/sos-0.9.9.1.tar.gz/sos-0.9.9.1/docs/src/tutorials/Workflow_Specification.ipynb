{
 "cells": [
  {
   "cell_type": "markdown",
   "metadata": {},
   "source": [
    "# Workflow Specification"
   ]
  },
  {
   "cell_type": "markdown",
   "metadata": {},
   "source": [
    "A SoS script can specify one or more workflows. Each workflow consists of one or more numbered steps. The numbers (should be non-negative) specify the **logical order** by which the steps are executed, but a later step might be executed before the completion of previous steps if it does not depend on the output of these steps.\n",
    "\n",
    "This tutorial shows you how to define steps in a workflow and how to construct nested and combined workflows from single workflows. Although a Jupyter notebook, because of its interactive nature, is rarely used to execute complete workflows, we define workflows in notebook cells and execute them with options passed from cell magics such as `%set` and `%run`. Briefly speaking, `%set` sets persistent and global command line options and `%run` sets additional temporary options for the current cell. For example, the following command sets verbosity level to 2 so that SoS would display log messages of steps executed for the rest of this tutorial."
   ]
  },
  {
   "cell_type": "code",
   "execution_count": 1,
   "metadata": {
    "kernel": "sos"
   },
   "outputs": [
    {
     "name": "stdout",
     "output_type": "stream",
     "text": [
      "Set sos options to \"-v2\"\n"
     ]
    }
   ],
   "source": [
    "# set global logging level to INFO to display step executed. \n",
    "%set -v2"
   ]
  },
  {
   "cell_type": "markdown",
   "metadata": {},
   "source": [
    "## Global step"
   ]
  },
  {
   "cell_type": "markdown",
   "metadata": {},
   "source": [
    "A SoS script can have one and only one `global` section, with definitions shared by all steps in this script. A global section is usually defined implicitly as all statements before the first named step. For example, the `a=1` statement before the definition of `[10]` is visible to all steps."
   ]
  },
  {
   "cell_type": "code",
   "execution_count": 2,
   "metadata": {
    "kernel": "sos"
   },
   "outputs": [
    {
     "name": "stderr",
     "output_type": "stream",
     "text": [
      "INFO: Executing \u001b[32mdefault_10\u001b[0m: \n",
      "INFO: input:    \u001b[32m[]\u001b[0m\n",
      "INFO: output:   \u001b[32m[]\u001b[0m\n",
      "INFO: Executing \u001b[32mdefault_20\u001b[0m: \n",
      "INFO: input:    \u001b[32m[]\u001b[0m\n",
      "INFO: output:   \u001b[32m[]\u001b[0m\n"
     ]
    },
    {
     "name": "stdout",
     "output_type": "stream",
     "text": [
      "1\n",
      "2\n"
     ]
    }
   ],
   "source": [
    "a = 1\n",
    "\n",
    "[10]\n",
    "print(a)\n",
    "\n",
    "[20]\n",
    "print(a+1)"
   ]
  },
  {
   "cell_type": "markdown",
   "metadata": {},
   "source": [
    "The global section can also be defined with a `[global]` section header, and in which case the section does not have to be the first section."
   ]
  },
  {
   "cell_type": "code",
   "execution_count": 3,
   "metadata": {
    "kernel": "sos"
   },
   "outputs": [
    {
     "name": "stderr",
     "output_type": "stream",
     "text": [
      "INFO: Executing \u001b[32mdefault_10\u001b[0m: \n",
      "INFO: input:    \u001b[32m[]\u001b[0m\n",
      "INFO: output:   \u001b[32m[]\u001b[0m\n",
      "INFO: Executing \u001b[32mdefault_20\u001b[0m: \n",
      "INFO: input:    \u001b[32m[]\u001b[0m\n",
      "INFO: output:   \u001b[32m[]\u001b[0m\n"
     ]
    },
    {
     "name": "stdout",
     "output_type": "stream",
     "text": [
      "1\n",
      "2\n"
     ]
    }
   ],
   "source": [
    "[10]\n",
    "print(a)\n",
    "\n",
    "[20]\n",
    "print(a+1)\n",
    "\n",
    "[global]\n",
    "a = 1"
   ]
  },
  {
   "cell_type": "markdown",
   "metadata": {},
   "source": [
    "Note that a script can only have one global section so the following would script would trigger an error"
   ]
  },
  {
   "cell_type": "code",
   "execution_count": 4,
   "metadata": {},
   "outputs": [
    {
     "name": "stderr",
     "output_type": "stream",
     "text": [
      "File contains parsing errors: <string>\n",
      "\t[line  3]: [global]\n",
      "\n",
      "Cannot define a global section with a non-empty implicit global section\n"
     ]
    }
   ],
   "source": [
    "%sandbox --expect-error\n",
    "\n",
    "a = 1\n",
    "\n",
    "[global]\n",
    "b = 1"
   ]
  },
  {
   "cell_type": "markdown",
   "metadata": {},
   "source": [
    "## Single default workflow"
   ]
  },
  {
   "cell_type": "markdown",
   "metadata": {},
   "source": [
    "Each step of a workflow starts with a **step header** in the format of `[step_name: options]`. A single workflow can be specified without a name in a SoS script. For example, the following sections specify a workflow with four steps `5`, `10`, `20`, and `100`. As you can see, the workflow steps can be specified in any order and do not have to be consecutive (which is actually preferred because it allows easy insertion of extra steps)."
   ]
  },
  {
   "cell_type": "code",
   "execution_count": 5,
   "metadata": {
    "kernel": "sos"
   },
   "outputs": [
    {
     "name": "stderr",
     "output_type": "stream",
     "text": [
      "INFO: Executing \u001b[32mdefault_5\u001b[0m: \n",
      "INFO: input:    \u001b[32m[]\u001b[0m\n",
      "INFO: output:   \u001b[32m[]\u001b[0m\n",
      "INFO: Executing \u001b[32mdefault_10\u001b[0m: \n",
      "INFO: input:    \u001b[32m[]\u001b[0m\n",
      "INFO: output:   \u001b[32m[]\u001b[0m\n",
      "INFO: Executing \u001b[32mdefault_20\u001b[0m: \n",
      "INFO: input:    \u001b[32m[]\u001b[0m\n",
      "INFO: output:   \u001b[32m[]\u001b[0m\n",
      "INFO: Executing \u001b[32mdefault_100\u001b[0m: \n",
      "INFO: input:    \u001b[32m[]\u001b[0m\n",
      "INFO: output:   \u001b[32m[]\u001b[0m\n"
     ]
    }
   ],
   "source": [
    "[5]\n",
    "[20]\n",
    "[10]\n",
    "[100]"
   ]
  },
  {
   "cell_type": "markdown",
   "metadata": {},
   "source": [
    "A workflow specified in this way is the **`default`** workflow and is actually called `default` in SoS output. If you want to give it a meaningful name, you can specify the steps as"
   ]
  },
  {
   "cell_type": "code",
   "execution_count": 6,
   "metadata": {
    "kernel": "sos"
   },
   "outputs": [
    {
     "name": "stderr",
     "output_type": "stream",
     "text": [
      "INFO: Executing \u001b[32mmapping_5\u001b[0m: \n",
      "INFO: input:    \u001b[32m[]\u001b[0m\n",
      "INFO: output:   \u001b[32m[]\u001b[0m\n",
      "INFO: Executing \u001b[32mmapping_10\u001b[0m: \n",
      "INFO: input:    \u001b[32m[]\u001b[0m\n",
      "INFO: output:   \u001b[32m[]\u001b[0m\n",
      "INFO: Executing \u001b[32mmapping_20\u001b[0m: \n",
      "INFO: input:    \u001b[32m[]\u001b[0m\n",
      "INFO: output:   \u001b[32m[]\u001b[0m\n",
      "INFO: Executing \u001b[32mmapping_100\u001b[0m: \n",
      "INFO: input:    \u001b[32m[]\u001b[0m\n",
      "INFO: output:   \u001b[32m[]\u001b[0m\n"
     ]
    }
   ],
   "source": [
    "[mapping_5]\n",
    "[mapping_20]\n",
    "[mapping_10]\n",
    "[mapping_100]"
   ]
  },
  {
   "cell_type": "markdown",
   "metadata": {},
   "source": [
    "Because this SoS script defines only one workflow (`mapping`), you do not have to specify the name of workflow from SoS command."
   ]
  },
  {
   "cell_type": "markdown",
   "metadata": {},
   "source": [
    "A workflow name can have alphabetical and numeric characters, `-`, `_`, but the first character must be an alphabet. "
   ]
  },
  {
   "cell_type": "code",
   "execution_count": 7,
   "metadata": {
    "kernel": "sos"
   },
   "outputs": [
    {
     "name": "stderr",
     "output_type": "stream",
     "text": [
      "INFO: Executing \u001b[32mprocess-doc_20\u001b[0m: \n",
      "INFO: input:    \u001b[32m[]\u001b[0m\n",
      "INFO: output:   \u001b[32m[]\u001b[0m\n"
     ]
    }
   ],
   "source": [
    "[process-doc_20]"
   ]
  },
  {
   "cell_type": "markdown",
   "metadata": {},
   "source": [
    "Note that the index of a step can be ignored if it is the only step of a workflow."
   ]
  },
  {
   "cell_type": "code",
   "execution_count": 8,
   "metadata": {
    "kernel": "sos"
   },
   "outputs": [
    {
     "name": "stderr",
     "output_type": "stream",
     "text": [
      "INFO: Executing \u001b[32mmapping_0\u001b[0m: \n",
      "INFO: input:    \u001b[32m[]\u001b[0m\n",
      "INFO: output:   \u001b[32m[]\u001b[0m\n"
     ]
    }
   ],
   "source": [
    "[mapping]"
   ]
  },
  {
   "cell_type": "markdown",
   "metadata": {},
   "source": [
    "## Short and long descriptions of steps"
   ]
  },
  {
   "cell_type": "markdown",
   "metadata": {},
   "source": [
    "You can give each step a short description by adding a short description in parenthesis after step number."
   ]
  },
  {
   "cell_type": "code",
   "execution_count": 9,
   "metadata": {
    "kernel": "sos"
   },
   "outputs": [
    {
     "name": "stderr",
     "output_type": "stream",
     "text": [
      "INFO: Executing \u001b[32mdefault_10 (initialize)\u001b[0m: \n",
      "INFO: input:    \u001b[32m[]\u001b[0m\n",
      "INFO: output:   \u001b[32m[]\u001b[0m\n",
      "INFO: Executing \u001b[32mdefault_20 (mapping reads)\u001b[0m: \n",
      "INFO: input:    \u001b[32m[]\u001b[0m\n",
      "INFO: output:   \u001b[32m[]\u001b[0m\n"
     ]
    }
   ],
   "source": [
    "[20 (mapping reads)]\n",
    "[10 (initialize)]"
   ]
  },
  {
   "cell_type": "markdown",
   "metadata": {},
   "source": [
    "The first comment block of each step is considered as description of the step and will be displayed when the step is executed."
   ]
  },
  {
   "cell_type": "code",
   "execution_count": 10,
   "metadata": {
    "kernel": "sos"
   },
   "outputs": [
    {
     "name": "stderr",
     "output_type": "stream",
     "text": [
      "INFO: Executing \u001b[32mdefault_10 (initialize)\u001b[0m: Validate input files and check available tools\n",
      "INFO: input:    \u001b[32m[]\u001b[0m\n",
      "INFO: output:   \u001b[32m[]\u001b[0m\n",
      "INFO: Executing \u001b[32mdefault_20 (mapping reads)\u001b[0m: Map reads using specified alignment tool\n",
      "INFO: input:    \u001b[32m[]\u001b[0m\n",
      "INFO: output:   \u001b[32m[]\u001b[0m\n"
     ]
    }
   ],
   "source": [
    "[10 (initialize)]\n",
    "# Validate input files and check available\n",
    "# tools\n",
    "\n",
    "# this step is actually empty\n",
    "\n",
    "[20 (mapping reads)]\n",
    "# Map reads using specified alignment tool"
   ]
  },
  {
   "cell_type": "markdown",
   "metadata": {},
   "source": [
    "## Multiple workflows"
   ]
  },
  {
   "cell_type": "markdown",
   "metadata": {},
   "source": [
    "A SoS script can define multiple workflows. For example, the following sections of SoS script defines two workflows named ``mouse`` and ``human``. "
   ]
  },
  {
   "cell_type": "code",
   "execution_count": 11,
   "metadata": {
    "kernel": "sos"
   },
   "outputs": [
    {
     "name": "stderr",
     "output_type": "stream",
     "text": [
      "INFO: Executing \u001b[32mmouse_10\u001b[0m: \n",
      "INFO: input:    \u001b[32m[]\u001b[0m\n",
      "INFO: output:   \u001b[32m[]\u001b[0m\n",
      "INFO: Executing \u001b[32mmouse_20\u001b[0m: \n",
      "INFO: input:    \u001b[32m[]\u001b[0m\n",
      "INFO: output:   \u001b[32m[]\u001b[0m\n",
      "INFO: Executing \u001b[32mmouse_30\u001b[0m: \n",
      "INFO: input:    \u001b[32m[]\u001b[0m\n",
      "INFO: output:   \u001b[32m[]\u001b[0m\n"
     ]
    }
   ],
   "source": [
    "%run mouse\n",
    "[mouse_10]\n",
    "[mouse_20]\n",
    "[mouse_30]\n",
    "[human_10]\n",
    "[human_20]\n",
    "[human_30]"
   ]
  },
  {
   "cell_type": "markdown",
   "metadata": {},
   "source": [
    "In this case, a command line option is needed to specify workflow name. This can be done by magic `%run` in Jupyter notebook, or a positional argument from the command line, e.g.\n",
    "\n",
    "```\n",
    "    % sos run myscript mouse\n",
    "```"
   ]
  },
  {
   "cell_type": "markdown",
   "metadata": {},
   "source": [
    "If you would like to define a ``default`` and a named workflow, you can define them as"
   ]
  },
  {
   "cell_type": "code",
   "execution_count": 12,
   "metadata": {
    "kernel": "sos"
   },
   "outputs": [
    {
     "name": "stderr",
     "output_type": "stream",
     "text": [
      "INFO: Executing \u001b[32mdefault_10\u001b[0m: \n",
      "INFO: input:    \u001b[32m[]\u001b[0m\n",
      "INFO: output:   \u001b[32m[]\u001b[0m\n",
      "INFO: Executing \u001b[32mdefault_20\u001b[0m: \n",
      "INFO: input:    \u001b[32m[]\u001b[0m\n",
      "INFO: output:   \u001b[32m[]\u001b[0m\n",
      "INFO: Executing \u001b[32mdefault_30\u001b[0m: \n",
      "INFO: input:    \u001b[32m[]\u001b[0m\n",
      "INFO: output:   \u001b[32m[]\u001b[0m\n"
     ]
    }
   ],
   "source": [
    "[10]\n",
    "[20]\n",
    "[30]\n",
    "[test_10]\n",
    "[test_20]\n",
    "[test_30]"
   ]
  },
  {
   "cell_type": "markdown",
   "metadata": {},
   "source": [
    "The `default` workflow will be executed by default using command\n",
    "\n",
    "```bash\n",
    "    % sos run myscript\n",
    "```\n",
    "\n",
    "The `test` workflow will be executed if its name is specified from the command line\n",
    "\n",
    "```bash\n",
    "    % sos run myscript test\n",
    "```"
   ]
  },
  {
   "cell_type": "markdown",
   "metadata": {},
   "source": [
    "## Shared workflow steps"
   ]
  },
  {
   "cell_type": "markdown",
   "metadata": {},
   "source": [
    "One of the motivations of defining multiple workflows in a single SoS script is that they share certain processing steps. If this is the case, you can define sections such as"
   ]
  },
  {
   "cell_type": "code",
   "execution_count": 13,
   "metadata": {
    "kernel": "sos"
   },
   "outputs": [
    {
     "name": "stderr",
     "output_type": "stream",
     "text": [
      "INFO: Executing \u001b[32mmouse_10\u001b[0m: \n",
      "INFO: input:    \u001b[32m[]\u001b[0m\n",
      "INFO: output:   \u001b[32m[]\u001b[0m\n",
      "INFO: Executing \u001b[32mmouse_20\u001b[0m: \n",
      "INFO: input:    \u001b[32m[]\u001b[0m\n",
      "INFO: output:   \u001b[32m[]\u001b[0m\n",
      "INFO: Executing \u001b[32mmouse_30\u001b[0m: \n",
      "INFO: input:    \u001b[32m[]\u001b[0m\n",
      "INFO: output:   \u001b[32m[]\u001b[0m\n"
     ]
    }
   ],
   "source": [
    "%run mouse\n",
    "[mouse_10,human_10]\n",
    "[mouse_20]\n",
    "[human_20]\n",
    "[mouse_30,human_30]"
   ]
  },
  {
   "cell_type": "markdown",
   "metadata": {},
   "source": [
    "or"
   ]
  },
  {
   "cell_type": "code",
   "execution_count": 14,
   "metadata": {
    "kernel": "sos"
   },
   "outputs": [
    {
     "name": "stderr",
     "output_type": "stream",
     "text": [
      "INFO: Executing \u001b[32mmouse_10\u001b[0m: \n",
      "INFO: input:    \u001b[32m[]\u001b[0m\n",
      "INFO: output:   \u001b[32m[]\u001b[0m\n",
      "INFO: Executing \u001b[32mmouse_20\u001b[0m: \n",
      "INFO: input:    \u001b[32m[]\u001b[0m\n",
      "INFO: output:   \u001b[32m[]\u001b[0m\n",
      "INFO: Executing \u001b[32mmouse_30\u001b[0m: \n",
      "INFO: input:    \u001b[32m[]\u001b[0m\n",
      "INFO: output:   \u001b[32m[]\u001b[0m\n"
     ]
    }
   ],
   "source": [
    "%run mouse\n",
    "[*_10]\n",
    "[mouse_20]\n",
    "[human_20]\n",
    "[*_30]"
   ]
  },
  {
   "cell_type": "code",
   "execution_count": 15,
   "metadata": {
    "kernel": "sos"
   },
   "outputs": [
    {
     "name": "stderr",
     "output_type": "stream",
     "text": [
      "INFO: Executing \u001b[32mfly_10\u001b[0m: \n",
      "INFO: input:    \u001b[32m[]\u001b[0m\n",
      "INFO: output:   \u001b[32m[]\u001b[0m\n",
      "INFO: Executing \u001b[32mfly_20\u001b[0m: \n",
      "INFO: input:    \u001b[32m[]\u001b[0m\n",
      "INFO: output:   \u001b[32m[]\u001b[0m\n",
      "INFO: Executing \u001b[32mfly_30\u001b[0m: \n",
      "INFO: input:    \u001b[32m[]\u001b[0m\n",
      "INFO: output:   \u001b[32m[]\u001b[0m\n",
      "INFO: Executing \u001b[32mfly_40\u001b[0m: \n",
      "INFO: input:    \u001b[32m[]\u001b[0m\n",
      "INFO: output:   \u001b[32m[]\u001b[0m\n",
      "INFO: Executing \u001b[32mfly_50\u001b[0m: \n",
      "INFO: input:    \u001b[32m[]\u001b[0m\n",
      "INFO: output:   \u001b[32m[]\u001b[0m\n"
     ]
    }
   ],
   "source": [
    "#local run\n",
    "%run fly\n",
    "[*_10]\n",
    "[mouse_20,human_20]\n",
    "[fly_20]\n",
    "[*_30,fly_50]\n",
    "[fly_40]\n"
   ]
  },
  {
   "cell_type": "markdown",
   "metadata": {},
   "source": [
    "In the last case, step defined by `[*_30,fly_40]` will be expanded to ``mouse_30``, ``human_30``, ``fly_30``, and ``fly_50`` and will be executed twice for the `fly` workflow. Note that workflow steps can use variable `step_name` to act (slightly) differently for different workflows. For example,"
   ]
  },
  {
   "cell_type": "code",
   "execution_count": 16,
   "metadata": {
    "kernel": "sos"
   },
   "outputs": [
    {
     "name": "stderr",
     "output_type": "stream",
     "text": [
      "INFO: Executing \u001b[32mmouse_20\u001b[0m: \n",
      "INFO: input:    \u001b[32m[]\u001b[0m\n",
      "INFO: output:   \u001b[32m[]\u001b[0m\n"
     ]
    },
    {
     "name": "stdout",
     "output_type": "stream",
     "text": [
      "Reference genome /path/to/mouse/reference is used\n"
     ]
    }
   ],
   "source": [
    "%run mouse\n",
    "[mouse_20,human_20]\n",
    "reference = \"/path/to/mouse/reference\" if \\\n",
    "  step_name.startswith('mouse') else \"/path/to/human/reference\"\n",
    "\n",
    "print(\"Reference genome ${reference} is used\")"
   ]
  },
  {
   "cell_type": "markdown",
   "metadata": {},
   "source": [
    "Here the variable `step_name` is `mouse_20` or `human_20` depending on the workflow being executed, and is used to determine the correct reference genome for different workflows."
   ]
  },
  {
   "cell_type": "markdown",
   "metadata": {},
   "source": [
    "## Sub- and combined workflows"
   ]
  },
  {
   "cell_type": "markdown",
   "metadata": {},
   "source": [
    "Although workflows are defined separately with all their steps, they do not have to be executed in their entirety. A `subworkflow` refers to a workflow that is defined from one or more steps of an existing workflows. It is specified using syntax `workflow:[from-to]` where `from-to` can be `n` (step `n`), `-n` (up to `n`), `n-m` (step `n` to `m`) and `m-` (from `m`). For example"
   ]
  },
  {
   "cell_type": "markdown",
   "metadata": {},
   "source": [
    "  ```python\n",
    "  A              # complete workflow A\n",
    "  A:5-10         # step 5 to 10 of A\n",
    "  A:50-          # step 50 up\n",
    "  A:-10          # up to step 10 of A\n",
    "  A:10           # step 10 of workflow A\n",
    "  ```"
   ]
  },
  {
   "cell_type": "markdown",
   "metadata": {},
   "source": [
    "In practice, the `-n` format is frequently used to execute part of the workflow for debudding purposes, for example:"
   ]
  },
  {
   "cell_type": "code",
   "execution_count": 17,
   "metadata": {
    "kernel": "sos"
   },
   "outputs": [
    {
     "name": "stderr",
     "output_type": "stream",
     "text": [
      "INFO: Executing \u001b[32mdefault_10\u001b[0m: \n",
      "INFO: input:    \u001b[32m[]\u001b[0m\n",
      "INFO: output:   \u001b[32m[]\u001b[0m\n",
      "INFO: Executing \u001b[32mdefault_20\u001b[0m: \n",
      "INFO: input:    \u001b[32m[]\u001b[0m\n",
      "INFO: output:   \u001b[32m[]\u001b[0m\n"
     ]
    }
   ],
   "source": [
    "%run default:-20\n",
    "[10]\n",
    "[20]\n",
    "[30]"
   ]
  },
  {
   "cell_type": "markdown",
   "metadata": {},
   "source": [
    "You can also combine subworkflows to execute multiple workflows one after another. For example,"
   ]
  },
  {
   "cell_type": "markdown",
   "metadata": {},
   "source": [
    "```python\n",
    "A + B          # workflow A, followed by B\n",
    "A:0 + B        # step 0 of A, followed by B\n",
    "A:-50 + B + C  # up to step 50 of workflow A, followed by B, and C\n",
    "```"
   ]
  },
  {
   "cell_type": "markdown",
   "metadata": {},
   "source": [
    "This syntax can be used from the command line, e.g.\n",
    "\n",
    "```bash\n",
    "sos-runner myscript align+call\n",
    "```\n",
    "\n",
    "or from the `%run` magic of Jupyter notebook"
   ]
  },
  {
   "cell_type": "code",
   "execution_count": 18,
   "metadata": {
    "kernel": "sos"
   },
   "outputs": [
    {
     "name": "stderr",
     "output_type": "stream",
     "text": [
      "INFO: Executing \u001b[32mcheck_10\u001b[0m: \n",
      "INFO: input:    \u001b[32m[]\u001b[0m\n",
      "INFO: output:   \u001b[32m[]\u001b[0m\n",
      "INFO: Executing \u001b[32malign_10\u001b[0m: \n",
      "INFO: input:    \u001b[32m[]\u001b[0m\n",
      "INFO: output:   \u001b[32m[]\u001b[0m\n",
      "INFO: Executing \u001b[32malign_20\u001b[0m: \n",
      "INFO: input:    \u001b[32m[]\u001b[0m\n",
      "INFO: output:   \u001b[32m[]\u001b[0m\n",
      "INFO: Executing \u001b[32mcall_10\u001b[0m: \n",
      "INFO: input:    \u001b[32m[]\u001b[0m\n",
      "INFO: output:   \u001b[32m[]\u001b[0m\n",
      "INFO: Executing \u001b[32mcall_20\u001b[0m: \n",
      "INFO: input:    \u001b[32m[]\u001b[0m\n",
      "INFO: output:   \u001b[32m[]\u001b[0m\n"
     ]
    }
   ],
   "source": [
    "#local run\n",
    "%run check+align+call\n",
    "[check_10]\n",
    "[align_10]\n",
    "[align_20]\n",
    "[call_10]\n",
    "[call_20]"
   ]
  },
  {
   "cell_type": "markdown",
   "metadata": {},
   "source": [
    "It is worth noting that combined workflow might work differently from when they are executed separately (e.g. default input of `B` is changed from empty to output of `A_0`), and it is up to the user to resolve conflicts between them."
   ]
  },
  {
   "cell_type": "markdown",
   "metadata": {},
   "source": [
    "## Nested workflow\n",
    "\n",
    "SoS also supports nested workflow in which a complete workflow is treated as part of a step process.\n",
    "The workflow is execute by SoS action `sos_run`, e.g.\n",
    "\n",
    "```python\n",
    "sos_run('A')            # execute workflow A\n",
    "sos_run('A + B')        # execute workflow B after A\n",
    "sos_run('D:-10 + C')    # execute up to step 10 of D and workflow C\n",
    "\n",
    "# execute user-specified aligner and caller workflows\n",
    "sos_run('${aligner} + ${caller}')  \n",
    "```"
   ]
  },
  {
   "cell_type": "markdown",
   "metadata": {},
   "source": [
    "In its simplest form, nested workflow allows you to define another workflow from existing ones. For example,"
   ]
  },
  {
   "cell_type": "code",
   "execution_count": 19,
   "metadata": {
    "kernel": "sos"
   },
   "outputs": [
    {
     "name": "stderr",
     "output_type": "stream",
     "text": [
      "INFO: Executing \u001b[32mdefault_0\u001b[0m: \n",
      "INFO: input:    \u001b[32m[]\u001b[0m\n",
      "INFO: Executing workflow \u001b[32malign+call\u001b[0m with input \u001b[32m[]\u001b[0m and no args\n",
      "INFO: Executing \u001b[32malign_10\u001b[0m: \n",
      "INFO: input:    \u001b[32m[]\u001b[0m\n",
      "INFO: output:   \u001b[32m[]\u001b[0m\n",
      "INFO: Executing \u001b[32malign_20\u001b[0m: \n",
      "INFO: input:    \u001b[32m[]\u001b[0m\n",
      "INFO: output:   \u001b[32m[]\u001b[0m\n",
      "INFO: Executing \u001b[32mcall_10\u001b[0m: \n",
      "INFO: input:    \u001b[32m[]\u001b[0m\n",
      "INFO: output:   \u001b[32m[]\u001b[0m\n",
      "INFO: Executing \u001b[32mcall_20\u001b[0m: \n",
      "INFO: input:    \u001b[32m[]\u001b[0m\n",
      "INFO: output:   \u001b[32m[]\u001b[0m\n",
      "INFO: output:   \u001b[32m[]\u001b[0m\n"
     ]
    }
   ],
   "source": [
    "[align_10]\n",
    "[align_20]\n",
    "[call_10]\n",
    "[call_20]\n",
    "[default]\n",
    "sos_run('align+call')"
   ]
  },
  {
   "cell_type": "markdown",
   "metadata": {},
   "source": [
    "defines a nested workflow that combines workflows `align` and `call` so that the workflow will by default execute two workflows, but can also execute one of them as separate workflows `align` and `call`."
   ]
  },
  {
   "cell_type": "markdown",
   "metadata": {},
   "source": [
    "Nested workflow also allows you to define multiple mini-workflows and connect them freely. For example\n",
    "\n",
    "```python\n",
    "[a_1]\n",
    "[a_2]\n",
    "[b]\n",
    "[c]\n",
    "[d_1]\n",
    "sos_run('a+b')\n",
    "[d_2]\n",
    "sos_run('a+c')\n",
    "```\n",
    "\n",
    "defines workflows `d` that will execute steps `d_1`, `a_1`, `a_2`, `b_0`, `d_2`,  `a_1`, `a_2`, and `c_0`. \n",
    "\n",
    "Nested workflows, like other SoS actions, can be executed repeatedly, for example,"
   ]
  },
  {
   "cell_type": "code",
   "execution_count": 20,
   "metadata": {
    "kernel": "sos"
   },
   "outputs": [
    {
     "name": "stderr",
     "output_type": "stream",
     "text": [
      "INFO: Executing \u001b[32mdefault_0\u001b[0m: \n",
      "INFO: input:    \u001b[32m[]\u001b[0m\n",
      "INFO: Executing workflow \u001b[32mb\u001b[0m with input \u001b[32m[]\u001b[0m and no args\n",
      "INFO: Executing \u001b[32mb_1\u001b[0m: \n",
      "INFO: input:    \u001b[32m[]\u001b[0m\n",
      "INFO: output:   \u001b[32m[]\u001b[0m\n",
      "INFO: Executing \u001b[32mb_2\u001b[0m: \n",
      "INFO: input:    \u001b[32m[]\u001b[0m\n",
      "INFO: output:   \u001b[32m[]\u001b[0m\n",
      "INFO: Executing \u001b[32mb_3\u001b[0m: \n",
      "INFO: input:    \u001b[32m[]\u001b[0m\n",
      "INFO: output:   \u001b[32m[]\u001b[0m\n",
      "INFO: Executing workflow \u001b[32mb\u001b[0m with input \u001b[32m[]\u001b[0m and no args\n",
      "INFO: Executing \u001b[32mb_1\u001b[0m: \n",
      "INFO: input:    \u001b[32m[]\u001b[0m\n",
      "INFO: output:   \u001b[32m[]\u001b[0m\n",
      "INFO: Executing \u001b[32mb_2\u001b[0m: \n",
      "INFO: input:    \u001b[32m[]\u001b[0m\n",
      "INFO: output:   \u001b[32m[]\u001b[0m\n",
      "INFO: Executing \u001b[32mb_3\u001b[0m: \n",
      "INFO: input:    \u001b[32m[]\u001b[0m\n",
      "INFO: output:   \u001b[32m[]\u001b[0m\n",
      "INFO: output:   \u001b[32m[]\u001b[0m\n"
     ]
    },
    {
     "name": "stdout",
     "output_type": "stream",
     "text": [
      "My seed is 6257357302\n",
      "My seed is 7764430190\n"
     ]
    }
   ],
   "source": [
    "[b_1]\n",
    "print(\"My seed is ${_seed}\")\n",
    "[b_2]\n",
    "[b_3]\n",
    "\n",
    "[default]\n",
    "import random\n",
    "seed = [random.randint(1, 1e10) for x in range(2)]\n",
    "input: for_each='seed'\n",
    "sos_run('b')"
   ]
  },
  {
   "cell_type": "markdown",
   "metadata": {},
   "source": [
    "would execute the complete workflow `b` twice with different random seeds. Similarly you can let the nested workflow process groups of input files."
   ]
  },
  {
   "cell_type": "markdown",
   "metadata": {},
   "source": [
    "Nested workflows can also be used to compose workflows from user-provided options through command line arguments, configuration files, and even results from previous steps. For example, the following example"
   ]
  },
  {
   "cell_type": "code",
   "execution_count": 21,
   "metadata": {
    "kernel": "sos"
   },
   "outputs": [
    {
     "name": "stderr",
     "output_type": "stream",
     "text": [
      "INFO: Executing \u001b[32malign_0\u001b[0m: \n",
      "INFO: input:    \u001b[32m[]\u001b[0m\n",
      "INFO: Executing workflow \u001b[32mbwa\u001b[0m with input \u001b[32m[]\u001b[0m and no args\n",
      "INFO: Executing \u001b[32mbwa_1\u001b[0m: \n",
      "INFO: input:    \u001b[32m[]\u001b[0m\n",
      "INFO: output:   \u001b[32m[]\u001b[0m\n",
      "INFO: Executing \u001b[32mbwa_2\u001b[0m: \n",
      "INFO: input:    \u001b[32m[]\u001b[0m\n",
      "INFO: output:   \u001b[32m[]\u001b[0m\n",
      "INFO: output:   \u001b[32m[]\u001b[0m\n"
     ]
    }
   ],
   "source": [
    "%run align\n",
    "parameter: aligner = CONFIG.get('aligner', 'bwa')\n",
    "\n",
    "[bwa_1]\n",
    "[bwa_2]\n",
    "[novaalign_1]\n",
    "[novaalign_2]\n",
    "\n",
    "[align]\n",
    "sos_run(aligner)"
   ]
  },
  {
   "cell_type": "markdown",
   "metadata": {},
   "source": [
    "defines workflows `bwa` and `novaalign` to align raw reads. The `align` workflow is a master workflow that executes `bwa` or `novaalign` determined by option `aligner` defined in a configuration file (command line option `-c`) and command line option `--aligner`."
   ]
  },
  {
   "cell_type": "markdown",
   "metadata": {},
   "source": [
    "## Workflow defined by targets"
   ]
  },
  {
   "cell_type": "markdown",
   "metadata": {},
   "source": [
    "With the introduction of [auxiliary steps](Auxiliary_Steps.html), a SoS workflow can consist of a graph with or without a \"stem\" with numbered forward-style steps. By specifying the targets of a workflow instead of which steps to execute, you essentially let SoS execute the required steps to generate the targets. For example,"
   ]
  },
  {
   "cell_type": "code",
   "execution_count": 22,
   "metadata": {
    "kernel": "sos",
    "scrolled": false
   },
   "outputs": [
    {
     "name": "stderr",
     "output_type": "stream",
     "text": [
      "INFO: Resolving 1 objects from 0 nodes\n",
      "INFO: Adding step call with output ['test.vcf']\n",
      "INFO: Executing \u001b[32mcall\u001b[0m: \n",
      "INFO: input:    \u001b[32m['test.bam']\u001b[0m\n",
      "INFO: Target unavailable: test.bam.bai\n",
      "INFO: Resolving 1 objects from 1 nodes\n",
      "INFO: Adding step index with output ['test.bam.bai']\n",
      "INFO: Executing \u001b[32mindex\u001b[0m: \n",
      "INFO: input:    \u001b[32m['test.bam']\u001b[0m\n"
     ]
    },
    {
     "name": "stdout",
     "output_type": "stream",
     "text": [
      "Generating test.bam.bai\n"
     ]
    },
    {
     "name": "stderr",
     "output_type": "stream",
     "text": [
      "INFO: output:   \u001b[32m['test.bam.bai']\u001b[0m\n",
      "INFO: Executing \u001b[32mcall\u001b[0m: \n",
      "INFO: input:    \u001b[32m['test.bam']\u001b[0m\n",
      "INFO: _depends: \u001b[32m['test.bam.bai']\u001b[0m\n"
     ]
    },
    {
     "name": "stdout",
     "output_type": "stream",
     "text": [
      "Calling variants from test.bam with test.bam.bai to test.vcf\n"
     ]
    },
    {
     "name": "stderr",
     "output_type": "stream",
     "text": [
      "INFO: output:   \u001b[32m['test.vcf']\u001b[0m\n"
     ]
    }
   ],
   "source": [
    "%sandbox\n",
    "\n",
    "!touch test.bam\n",
    "%run -t test.vcf\n",
    "\n",
    "# this step provides variable `var`\n",
    "[index: provides='{filename}.bam.bai']\n",
    "input: \"${filename}.bam\"\n",
    "sh:\n",
    "   echo \"Generating ${output}\"\n",
    "   touch ${output}\n",
    "\n",
    "[call: provides='{filename}.vcf']\n",
    "input:   \"${filename}.bam\"\n",
    "depends: \"${input}.bai\"\n",
    "sh:\n",
    "   echo \"Calling variants from ${input} with ${depends} to ${output}\"\n",
    "   touch ${output}"
   ]
  },
  {
   "cell_type": "markdown",
   "metadata": {},
   "source": [
    "In this example, instead of specifiying a workflow, a target `test.bam.bai` is requested. SoS checks all auxiliary steps and calls step `index` to generate `test.bam.bai`. After step `index` is completed, step `call` is executed again to produce the final requested target `test.vcf`."
   ]
  },
  {
   "cell_type": "markdown",
   "metadata": {},
   "source": [
    "The `-t` option could specify more than one targets and could be used in combination with a forward-style workflow. Please refer to [documentation on makefile-style workflows[Auxiliary_Steps.html] for more details."
   ]
  }
 ],
 "metadata": {
  "anaconda-cloud": {},
  "kernelspec": {
   "display_name": "SoS",
   "language": "sos",
   "name": "sos"
  },
  "language_info": {
   "codemirror_mode": "sos",
   "file_extension": ".sos",
   "mimetype": "text/x-sos",
   "name": "sos",
   "nbconvert_exporter": "sos.jupyter.converter.SoS_Exporter",
   "pygments_lexer": "sos"
  },
  "sos": {
   "celltoolbar": true,
   "kernels": [
    [
     "Bash",
     "bash",
     "Bash",
     "#E6EEFF"
    ],
    [
     "JavaScript",
     "javascript",
     "JavaScript",
     "#00ff80"
    ],
    [
     "Python2",
     "python2",
     "Python2",
     "#F6FAEA"
    ],
    [
     "rik_local_remote",
     "rik_local_remote",
     "",
     ""
    ],
    [
     "R",
     "ir",
     "R",
     "#FDEDEC"
    ],
    [
     "Python3",
     "python3",
     "Python3",
     "#EAFAF1"
    ],
    [
     "SoS",
     "sos",
     "",
     ""
    ]
   ],
   "panel": {
    "displayed": true,
    "height": 0,
    "style": "side"
   }
  },
  "toc": {
   "colors": {
    "hover_highlight": "#DAA520",
    "running_highlight": "#FF0000",
    "selected_highlight": "#FFD700"
   },
   "moveMenuLeft": true,
   "nav_menu": {
    "height": "159px",
    "width": "252px"
   },
   "navigate_menu": true,
   "number_sections": true,
   "sideBar": true,
   "threshold": 4,
   "toc_cell": false,
   "toc_section_display": "block",
   "toc_window_display": false
  }
 },
 "nbformat": 4,
 "nbformat_minor": 1
}
