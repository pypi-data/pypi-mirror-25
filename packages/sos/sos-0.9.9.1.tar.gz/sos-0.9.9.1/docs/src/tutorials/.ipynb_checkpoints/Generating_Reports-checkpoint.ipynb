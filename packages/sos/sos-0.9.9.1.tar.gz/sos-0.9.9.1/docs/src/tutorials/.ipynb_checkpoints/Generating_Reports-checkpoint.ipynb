{
 "cells": [
  {
   "cell_type": "markdown",
   "metadata": {},
   "source": [
    "# Generating Reports using SoS"
   ]
  },
  {
   "cell_type": "markdown",
   "metadata": {},
   "source": [
    "There are multiple ways to generate reports from the execution of SoS workflows. This tutorial introduces some basic methods but you can certainly be more creative."
   ]
  },
  {
   "cell_type": "markdown",
   "metadata": {},
   "source": [
    "## A summarization step"
   ]
  },
  {
   "cell_type": "markdown",
   "metadata": {},
   "source": [
    "You can write a report at the end of the workflow that summarizes the results of previous steps. For example, in the following example, the `report` action summarizes previous steps and writes a report to the standard output."
   ]
  },
  {
   "cell_type": "code",
   "execution_count": 1,
   "metadata": {
    "collapsed": false
   },
   "outputs": [
    {
     "name": "stdout",
     "output_type": "stream",
     "text": [
      "* Figure\n",
      "![figure](a.jpg)\n",
      "* result\n",
      "100\n",
      "\n"
     ]
    }
   ],
   "source": [
    "%sandbox\n",
    "[10]\n",
    "output: 'a.jpg'\n",
    "R:\n",
    "    jpeg(${output!r})\n",
    "    cars <- c(1, 3, 6, 4, 9)\n",
    "    barplot(cars)\n",
    "\n",
    "[20]\n",
    "output: 'a.txt'\n",
    "run:\n",
    "    echo \"100\" > a.txt\n",
    "\n",
    "[100]\n",
    "input: 'a.jpg', 'a.txt'\n",
    "with open('a.txt') as a:\n",
    "    res = a.read()\n",
    "\n",
    "report:\n",
    "    * Figure\n",
    "    ![figure](a.jpg)\n",
    "    * result\n",
    "    ${res}\n",
    "   "
   ]
  },
  {
   "cell_type": "markdown",
   "metadata": {},
   "source": [
    "It is a pretty bad idea to write report to standard output because other actions can also write to it. You can use either the `output` option of the `report` action or a command line option `-r` to specify an output file of the `report` action. Moreover, if there would be a lot of processing to get summary information, you can separate them into different steps. For example, an auxiliary step is used to extract information from the output of step `20`. As you can see, the `%preview` magic automatically render `.md` file."
   ]
  },
  {
   "cell_type": "code",
   "execution_count": 2,
   "metadata": {
    "collapsed": false
   },
   "outputs": [
    {
     "data": {
      "text/html": [
       "<pre><font color=\"green\">## %preview summary.md</font></pre>"
      ]
     },
     "metadata": {},
     "output_type": "display_data"
    },
    {
     "data": {
      "text/html": [
       "<pre><font color=\"green\">> summary.md (40 B):</font></pre>"
      ],
      "text/plain": [
       "\n",
       "> summary.md (40 B):"
      ]
     },
     "metadata": {},
     "output_type": "display_data"
    },
    {
     "data": {
      "text/html": [
       "<ul>\n",
       "<li>Figure\n",
       "<img alt=\"figure\" src=\"a.jpg\" /></li>\n",
       "<li>result\n",
       "100</li>\n",
       "</ul>"
      ],
      "text/plain": [
       "* Figure\n",
       "![figure](a.jpg)\n",
       "* result\n",
       "100\n",
       "\n"
      ]
     },
     "metadata": {},
     "output_type": "display_data"
    }
   ],
   "source": [
    "%sandbox\n",
    "%preview summary.md\n",
    "[10]\n",
    "output: 'a.jpg'\n",
    "R:\n",
    "    jpeg(${output!r})\n",
    "    cars <- c(1, 3, 6, 4, 9)\n",
    "    barplot(cars)\n",
    "\n",
    "[20]\n",
    "output: 'a.txt'\n",
    "run:\n",
    "    echo \"100\" > a.txt\n",
    "\n",
    "[counts: shared='counts']\n",
    "input: 'a.txt'\n",
    "with open('a.txt') as a:\n",
    "    counts = a.read()\n",
    "\n",
    "[100]\n",
    "input: 'a.jpg'\n",
    "depends: sos_variable('counts')\n",
    "\n",
    "report: output='summary.md'\n",
    "    * Figure\n",
    "    ![figure](a.jpg)\n",
    "    * result\n",
    "    ${counts}\n",
    "   "
   ]
  },
  {
   "cell_type": "markdown",
   "metadata": {},
   "source": [
    "Instead of outputting reports in `.md` format and rendering them outside of SoS, you can also render them inside SoS using action `pandoc` or `Rmarkdown`. For example,"
   ]
  },
  {
   "cell_type": "code",
   "execution_count": 3,
   "metadata": {
    "collapsed": false
   },
   "outputs": [
    {
     "data": {
      "text/html": [
       "<pre><font color=\"green\">## %preview summary.html</font></pre>"
      ]
     },
     "metadata": {},
     "output_type": "display_data"
    },
    {
     "data": {
      "text/html": [
       "<pre><font color=\"green\">> summary.html (80 B):</font></pre>"
      ],
      "text/plain": [
       "\n",
       "> summary.html (80 B):"
      ]
     },
     "metadata": {},
     "output_type": "display_data"
    },
    {
     "data": {
      "text/html": [
       "<ul>\n",
       "<li>Figure <img src=\"a.jpg\" alt=\"figure\" /></li>\n",
       "<li>result 100</li>\n",
       "</ul>\n"
      ],
      "text/plain": [
       "* Figure \n",
       "\n",
       "\n",
       "\n",
       "  * result 100"
      ]
     },
     "metadata": {},
     "output_type": "display_data"
    }
   ],
   "source": [
    "%sandbox\n",
    "%preview summary.html\n",
    "[10]\n",
    "output: 'a.jpg'\n",
    "R:\n",
    "    jpeg(${output!r})\n",
    "    cars <- c(1, 3, 6, 4, 9)\n",
    "    barplot(cars)\n",
    "\n",
    "[20]\n",
    "output: 'a.txt'\n",
    "run:\n",
    "    echo \"100\" > a.txt\n",
    "\n",
    "[counts: shared='counts']\n",
    "input: 'a.txt'\n",
    "with open('a.txt') as a:\n",
    "    counts = a.read()\n",
    "\n",
    "[100]\n",
    "input: 'a.jpg'\n",
    "depends: sos_variable('counts')\n",
    "\n",
    "pandoc: output='summary.html'\n",
    "    * Figure\n",
    "    ![figure](a.jpg)\n",
    "    * result\n",
    "    ${counts}"
   ]
  },
  {
   "cell_type": "markdown",
   "metadata": {},
   "source": [
    "## Reporting to report output"
   ]
  },
  {
   "cell_type": "markdown",
   "metadata": {},
   "source": [
    "Write a single reporting step is convenient in that you only need to write one (large) template and try to feed the template with all required information. If you workflow is long, or if some of the steps are optional, or if you prefer writing reports immediately after a step is completed (so that your steps and reports are close to each other), you can report results piece by piece.\n",
    "\n",
    "The simplest method to write such a report is as follows:"
   ]
  },
  {
   "cell_type": "code",
   "execution_count": 4,
   "metadata": {
    "collapsed": false
   },
   "outputs": [
    {
     "name": "stdout",
     "output_type": "stream",
     "text": [
      "* Figure\n",
      "![figure](a.jpg)\n",
      "\n",
      "* result\n",
      "100\n",
      "\n"
     ]
    },
    {
     "data": {
      "text/html": [
       "<pre><font color=\"green\">## -- Preview output --</font></pre>"
      ]
     },
     "metadata": {},
     "output_type": "display_data"
    },
    {
     "data": {
      "text/html": [
       "<pre> input: a.jpg\n",
       "output: a.txt\n",
       "</pre>"
      ]
     },
     "metadata": {},
     "output_type": "display_data"
    },
    {
     "data": {
      "text/html": [
       "<pre><font color=\"green\">> a.txt (4 B):</font></pre>"
      ],
      "text/plain": [
       "\n",
       "> a.txt (4 B):"
      ]
     },
     "metadata": {},
     "output_type": "display_data"
    },
    {
     "name": "stdout",
     "output_type": "stream",
     "text": [
      "100\n"
     ]
    }
   ],
   "source": [
    "%sandbox\n",
    "[10]\n",
    "output: 'a.jpg'\n",
    "R:\n",
    "    jpeg(${output!r})\n",
    "    cars <- c(1, 3, 6, 4, 9)\n",
    "    barplot(cars)\n",
    "\n",
    "report:\n",
    "    * Figure\n",
    "    ![figure](${output})    \n",
    "\n",
    "[20]\n",
    "output: 'a.txt'\n",
    "counts = 100\n",
    "run:\n",
    "    echo \"${counts}\" > a.txt\n",
    "\n",
    "report:\n",
    "    * result\n",
    "    ${counts}\n",
    "\n"
   ]
  },
  {
   "cell_type": "markdown",
   "metadata": {},
   "source": [
    "As you can see, you can report the result of a step immediately after it is available and no summary step is needed because all reports have been written to standard output. To write the report other than standard output, you can use the `-r` option. "
   ]
  },
  {
   "cell_type": "code",
   "execution_count": 5,
   "metadata": {
    "collapsed": false
   },
   "outputs": [
    {
     "data": {
      "text/html": [
       "<pre><font color=\"green\">## -- Preview output --</font></pre>"
      ]
     },
     "metadata": {},
     "output_type": "display_data"
    },
    {
     "data": {
      "text/html": [
       "<pre> input: a.jpg\n",
       "output: a.txt\n",
       "</pre>"
      ]
     },
     "metadata": {},
     "output_type": "display_data"
    },
    {
     "data": {
      "text/html": [
       "<pre><font color=\"green\">> a.txt (4 B):</font></pre>"
      ],
      "text/plain": [
       "\n",
       "> a.txt (4 B):"
      ]
     },
     "metadata": {},
     "output_type": "display_data"
    },
    {
     "name": "stdout",
     "output_type": "stream",
     "text": [
      "100\n"
     ]
    },
    {
     "data": {
      "text/html": [
       "<pre><font color=\"green\">## %preview summary.md</font></pre>"
      ]
     },
     "metadata": {},
     "output_type": "display_data"
    },
    {
     "data": {
      "text/html": [
       "<pre><font color=\"green\">> summary.md (41 B):</font></pre>"
      ],
      "text/plain": [
       "\n",
       "> summary.md (41 B):"
      ]
     },
     "metadata": {},
     "output_type": "display_data"
    },
    {
     "data": {
      "text/html": [
       "<ul>\n",
       "<li>\n",
       "<p>Figure\n",
       "<img alt=\"figure\" src=\"a.jpg\" /></p>\n",
       "</li>\n",
       "<li>\n",
       "<p>result\n",
       "100</p>\n",
       "</li>\n",
       "</ul>"
      ],
      "text/plain": [
       "* Figure\n",
       "![figure](a.jpg)\n",
       "\n",
       "* result\n",
       "100\n",
       "\n"
      ]
     },
     "metadata": {},
     "output_type": "display_data"
    }
   ],
   "source": [
    "%sandbox\n",
    "%preview summary.md\n",
    "%run -r summary.md\n",
    "[10]\n",
    "output: 'a.jpg'\n",
    "R:\n",
    "    jpeg(${output!r})\n",
    "    cars <- c(1, 3, 6, 4, 9)\n",
    "    barplot(cars)\n",
    "\n",
    "report:\n",
    "    * Figure\n",
    "    ![figure](${output})    \n",
    "\n",
    "[20]\n",
    "output: 'a.txt'\n",
    "counts = 100\n",
    "run:\n",
    "    echo \"${counts}\" > a.txt\n",
    "\n",
    "report:\n",
    "    * result\n",
    "    ${counts}\n"
   ]
  },
  {
   "cell_type": "markdown",
   "metadata": {},
   "source": [
    "You cannot use the `output` option to write to the same file because the file would be overwritten."
   ]
  },
  {
   "cell_type": "markdown",
   "metadata": {},
   "source": [
    "## Reporting to multiple output files"
   ]
  },
  {
   "cell_type": "markdown",
   "metadata": {},
   "source": [
    "The previous approach assumes that all steps would be executed, and be executed sequentially. However,\n",
    "\n",
    "1. As you have learned in other sections, SoS steps can be executed in parallel, and do not have to be executed in order because a later step can be executed before a previous one if it does not depend on it. \n",
    "2. Some steps of a workflow might be skipped if they have been executed before so re-executing a workflow might result in an incomplete report. \n",
    "3. This method makes it impossible to catch and process the report inside SoS so you can not use actions `pandoc` or `Rmarkdown` to generate nice looking reports.\n",
    "\n",
    "Because of all these problems, it makes more sense to write reports to separate files during evolution, and collect them at the end. For example, in the following example, an output file is specified for each `report` and a summary step is used at the end to collect and process them."
   ]
  },
  {
   "cell_type": "code",
   "execution_count": 6,
   "metadata": {
    "collapsed": false
   },
   "outputs": [
    {
     "data": {
      "text/html": [
       "<pre><font color=\"green\">## %preview summary.html</font></pre>"
      ]
     },
     "metadata": {},
     "output_type": "display_data"
    },
    {
     "data": {
      "text/html": [
       "<pre><font color=\"green\">> summary.html (114 B):</font></pre>"
      ],
      "text/plain": [
       "\n",
       "> summary.html (114 B):"
      ]
     },
     "metadata": {},
     "output_type": "display_data"
    },
    {
     "data": {
      "text/html": [
       "<p>Final report</p>\n",
       "<ul>\n",
       "<li><p>Figure <img src=\"a.jpg\" alt=\"figure\" /></p></li>\n",
       "<li><p>result 100</p></li>\n",
       "</ul>\n"
      ],
      "text/plain": [
       "Final report \n",
       "\n",
       "  * \n",
       "\n",
       "\n",
       "\n",
       "Figure \n",
       "\n",
       "\n",
       "\n",
       "  * \n",
       "\n",
       "\n",
       "\n",
       "result 100"
      ]
     },
     "metadata": {},
     "output_type": "display_data"
    }
   ],
   "source": [
    "%sandbox --dir ~/tmp\n",
    "%preview summary.html\n",
    "[10]\n",
    "output: 'a.jpg'\n",
    "R:\n",
    "    jpeg(${output!r})\n",
    "    cars <- c(1, 3, 6, 4, 9)\n",
    "    barplot(cars)\n",
    "\n",
    "report: output='figure.md'\n",
    "    * Figure\n",
    "    ![figure](${output})    \n",
    "\n",
    "[20]\n",
    "output: 'a.txt'\n",
    "counts = 100\n",
    "run:\n",
    "    echo \"${counts}\" > a.txt\n",
    "\n",
    "report: output='result.md'\n",
    "    * result\n",
    "    ${counts}\n",
    "\n",
    "[100]\n",
    "pandoc: input=['figure.md', 'result.md'], output='summary.html'\n",
    "    Final report"
   ]
  },
  {
   "cell_type": "markdown",
   "metadata": {},
   "source": [
    "You will notice that both `script` and `input` are specified to action `pandoc`. In this case the `script` is put before the content of each `input` files, making it a perfect place to write headers and summaries."
   ]
  }
 ],
 "metadata": {
  "anaconda-cloud": {},
  "kernelspec": {
   "display_name": "SoS",
   "language": "sos",
   "name": "sos"
  },
  "language_info": {
   "codemirror_mode": "sos",
   "file_extension": ".sos",
   "mimetype": "text/x-sos",
   "name": "sos",
   "nbconvert_exporter": "sos.jupyter.converter.SoS_Exporter",
   "pygments_lexer": "sos"
  },
  "toc": {
   "colors": {
    "hover_highlight": "#DAA520",
    "running_highlight": "#FF0000",
    "selected_highlight": "#FFD700"
   },
   "moveMenuLeft": true,
   "nav_menu": {
    "height": "96px",
    "width": "254px"
   },
   "navigate_menu": true,
   "number_sections": true,
   "sideBar": true,
   "threshold": 4,
   "toc_cell": false,
   "toc_section_display": "block",
   "toc_window_display": true
  }
 },
 "nbformat": 4,
 "nbformat_minor": 1
}
