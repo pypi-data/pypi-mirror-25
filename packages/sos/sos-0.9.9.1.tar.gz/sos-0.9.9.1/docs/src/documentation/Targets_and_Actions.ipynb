{
 "cells": [
  {
   "cell_type": "markdown",
   "metadata": {},
   "source": [
    "# SoS actions, targets, and functions\n"
   ]
  },
  {
   "cell_type": "markdown",
   "metadata": {},
   "source": [
    "## SoS Action"
   ]
  },
  {
   "cell_type": "markdown",
   "metadata": {},
   "source": [
    "Although arbitrary python functions can be used in SoS step process, SoS defines many special functions called **`actions`** that accepts some shared parameters, and can behave differently in different modes of SoS.\n",
    "\n",
    "For example, function `time.sleep(5)` would be executed in run mode,"
   ]
  },
  {
   "cell_type": "code",
   "execution_count": 12,
   "metadata": {
    "kernel": "SoS"
   },
   "outputs": [
    {
     "name": "stdout",
     "output_type": "stream",
     "text": [
      "I just slept 1.00 seconds\n"
     ]
    }
   ],
   "source": [
    "%run\n",
    "[0]\n",
    "import time\n",
    "st = time.time()\n",
    "time.sleep(1)\n",
    "print('I just slept {:.2f} seconds'.format(time.time() - st))"
   ]
  },
  {
   "cell_type": "markdown",
   "metadata": {},
   "source": [
    "and also in dryrun mode (option `-n`),"
   ]
  },
  {
   "cell_type": "code",
   "execution_count": 13,
   "metadata": {
    "kernel": "SoS"
   },
   "outputs": [
    {
     "name": "stdout",
     "output_type": "stream",
     "text": [
      "I just slept 1.00 seconds\n"
     ]
    }
   ],
   "source": [
    "%run -n\n",
    "[0]\n",
    "import time\n",
    "st = time.time()\n",
    "time.sleep(1)\n",
    "print('I just slept {:.2f} seconds'.format(time.time() - st))"
   ]
  },
  {
   "cell_type": "markdown",
   "metadata": {},
   "source": [
    "because these statements are regular Python functions. However, if you put the statements in an action `python`, the statements would be executed in run mode,"
   ]
  },
  {
   "cell_type": "code",
   "execution_count": 14,
   "metadata": {
    "kernel": "SoS"
   },
   "outputs": [
    {
     "name": "stdout",
     "output_type": "stream",
     "text": [
      "I just slept 1.00 seconds\n"
     ]
    }
   ],
   "source": [
    "%run\n",
    "[0]\n",
    "python:\n",
    "    import time\n",
    "    st = time.time()\n",
    "    time.sleep(1)\n",
    "    print('I just slept {:.2f} seconds'.format(time.time() - st))"
   ]
  },
  {
   "cell_type": "markdown",
   "metadata": {},
   "source": [
    "but will print out the script it would execute in dryrun mode (option `-n`)"
   ]
  },
  {
   "cell_type": "code",
   "execution_count": 1,
   "metadata": {
    "kernel": "SoS"
   },
   "outputs": [
    {
     "name": "stdout",
     "output_type": "stream",
     "text": [
      "python:\n",
      "import time\n",
      "st = time.time()\n",
      "time.sleep(1)\n",
      "print('I just slept {:.2f} seconds'.format(time.time() - st))\n",
      "\n",
      "\n"
     ]
    }
   ],
   "source": [
    "%run -n\n",
    "[0]\n",
    "python:\n",
    "    import time\n",
    "    st = time.time()\n",
    "    time.sleep(1)\n",
    "    print('I just slept {:.2f} seconds'.format(time.time() - st))"
   ]
  },
  {
   "cell_type": "markdown",
   "metadata": {},
   "source": [
    "## Action options"
   ]
  },
  {
   "cell_type": "markdown",
   "metadata": {},
   "source": [
    "Actions define their own parameters but their execution is controlled by a common set of options."
   ]
  },
  {
   "cell_type": "markdown",
   "metadata": {},
   "source": [
    "### `input`"
   ]
  },
  {
   "cell_type": "markdown",
   "metadata": {},
   "source": [
    "Parameter `input` specifies the input files that an action needs before it can be executed. However, unlike targets in `input:` statement of a step where lacking an input target would trigger the execution of an auxiliary step (if needs) to produce it, SoS would yield an error if the input file does not exist.\n",
    "\n",
    "For example, in the following example, step `20` is executed after step `10` so its `report` action can report the content of `a.txt` produced by step `10`."
   ]
  },
  {
   "cell_type": "code",
   "execution_count": 8,
   "metadata": {
    "kernel": "SoS"
   },
   "outputs": [
    {
     "name": "stdout",
     "output_type": "stream",
     "text": [
      "content of a.txt\n",
      "\n"
     ]
    }
   ],
   "source": [
    "%sandbox\n",
    "%run\n",
    "[10]\n",
    "output: 'a.txt'\n",
    "bash:\n",
    "    echo 'content of a.txt' > a.txt\n",
    "\n",
    "[20]\n",
    "report: input='a.txt'"
   ]
  },
  {
   "cell_type": "markdown",
   "metadata": {},
   "source": [
    "However, in the following example, step `20` is executed as the first step of workflow `default`. The `report` action requires input file `a.txt` and yields an error."
   ]
  },
  {
   "cell_type": "code",
   "execution_count": 7,
   "metadata": {
    "kernel": "SoS"
   },
   "outputs": [
    {
     "name": "stderr",
     "output_type": "stream",
     "text": [
      "Failed to process statement 'report(r\"\"\"\\n\"\"\", input=\\'a.txt\\')\\n' (FileNotFoundError): [Errno 2] No such file or directory: 'a.txt'\n"
     ]
    }
   ],
   "source": [
    "%sandbox --expect-error\n",
    "%run\n",
    "[a: provides='a.txt']\n",
    "bash:\n",
    "    echo 'content of a.txt' > a.txt\n",
    "\n",
    "[20]\n",
    "report: input='a.txt'"
   ]
  },
  {
   "cell_type": "markdown",
   "metadata": {},
   "source": [
    "`a.txt` has to be put into the input statement of step `20` for the auxiliary step to be executed:"
   ]
  },
  {
   "cell_type": "code",
   "execution_count": 9,
   "metadata": {
    "kernel": "SoS"
   },
   "outputs": [
    {
     "name": "stderr",
     "output_type": "stream",
     "text": [
      "INFO: Resolving 1 objects from 1 nodes\n",
      "INFO: Adding step a with output ['a.txt']\n"
     ]
    },
    {
     "name": "stdout",
     "output_type": "stream",
     "text": [
      "content of a.txt\n",
      "\n"
     ]
    }
   ],
   "source": [
    "%sandbox\n",
    "%run\n",
    "[a: provides='a.txt']\n",
    "bash:\n",
    "    echo 'content of a.txt' > a.txt\n",
    "\n",
    "[20]\n",
    "input: 'a.txt'\n",
    "report: input=input[0]"
   ]
  },
  {
   "cell_type": "markdown",
   "metadata": {},
   "source": [
    "### `output`"
   ]
  },
  {
   "cell_type": "markdown",
   "metadata": {},
   "source": [
    "Similar to `input`, parameter `output` defines the output of an action, which can be a single name (or target) or a list of files or targets. SoS would checks the existence of output target after the completion of the action. For example, "
   ]
  },
  {
   "cell_type": "code",
   "execution_count": 2,
   "metadata": {
    "kernel": "SoS"
   },
   "outputs": [
    {
     "name": "stderr",
     "output_type": "stream",
     "text": [
      "\u001b[95mWARNING\u001b[0m: \u001b[95m{'output': 'non_existing.txt'}\u001b[0m\n",
      "Failed to process statement 'bash(r\"\"\"\\n\"\"\", output=\\'non_existing.txt\\')\\n' (RuntimeError): Output target non_existing.txt does not exist after completion of action bash\n"
     ]
    }
   ],
   "source": [
    "%sandbox --expect-error\n",
    "%run\n",
    "[10]\n",
    "bash: output='non_existing.txt'"
   ]
  },
  {
   "cell_type": "markdown",
   "metadata": {},
   "source": [
    "In addition to checking the existence of input and output files, specifying `input` and `output` of an action will allow SoS to create signatures of action so that it will not be executed when it is called again with the same input and output files. This is in addition to step-level signature and can be useful for long-running actions.\n",
    "\n",
    "For example, suppose action `sh` is time-consuming that produces output `test.txt`"
   ]
  },
  {
   "cell_type": "code",
   "execution_count": 9,
   "metadata": {
    "kernel": "SoS"
   },
   "outputs": [
    {
     "name": "stdout",
     "output_type": "stream",
     "text": [
      "1500226663.0\n"
     ]
    }
   ],
   "source": [
    "%run -s default\n",
    "[10]\n",
    "import time, os\n",
    "time.sleep(2)\n",
    "\n",
    "sh: input=[], output='test.txt'\n",
    "   touch test.txt\n",
    "\n",
    "print(os.path.getmtime('test.txt'))\n"
   ]
  },
  {
   "cell_type": "markdown",
   "metadata": {},
   "source": [
    "Because the action has parameter `input` and `output`, a signature will be created so it will not be re-executed even when the step itself is changed (from `sleep(2)` to `sleep(1)`)."
   ]
  },
  {
   "cell_type": "code",
   "execution_count": 10,
   "metadata": {
    "kernel": "SoS"
   },
   "outputs": [
    {
     "name": "stderr",
     "output_type": "stream",
     "text": [
      "INFO: Action \u001b[32msh\u001b[0m is \u001b[32mignored\u001b[0m due to saved signature\n"
     ]
    },
    {
     "name": "stdout",
     "output_type": "stream",
     "text": [
      "1500226663.0\n"
     ]
    }
   ],
   "source": [
    "%run -s default\n",
    "[10]\n",
    "import time, os\n",
    "time.sleep(1)\n",
    "\n",
    "sh: input=[], output='test.txt'\n",
    "   touch test.txt\n",
    "\n",
    "print(os.path.getmtime('test.txt'))\n"
   ]
  },
  {
   "cell_type": "markdown",
   "metadata": {},
   "source": [
    "Note that we have to use option `-s default` for our examples because the default mode for SoS in Jupyter is `ignore` so no siguatures will be saved and used by default."
   ]
  },
  {
   "cell_type": "markdown",
   "metadata": {},
   "source": [
    "###  `active`"
   ]
  },
  {
   "cell_type": "markdown",
   "metadata": {},
   "source": [
    "Action option `active` is used to activate or inactivate an action in an input loop. Basically, when a loop is defined by `for_each` or `group_by` options of `input:` statement, an action after input would be repeated for each input group. The `action` parameter accepts an integer, either a non-negative number, a negative number (counting backward), a sequence of indexes, or a slice object, for which the action would be active.\n",
    "\n",
    "For example, for an input loop that loops through a sequence of numbers, the first action `run` is executed for all groups, the second action is executed for even number of groups, the last action is executed for the last step."
   ]
  },
  {
   "cell_type": "code",
   "execution_count": 9,
   "metadata": {
    "kernel": "sos"
   },
   "outputs": [
    {
     "name": "stdout",
     "output_type": "stream",
     "text": [
      "I am active at all groups 0\n",
      "I am active at even groups 0\n",
      "I am active at all groups 1\n",
      "I am active at all groups 2\n",
      "I am active at even groups 2\n",
      "I am active at all groups 3\n",
      "I am active at all groups 4\n",
      "I am active at even groups 4\n",
      "I am active at last group 4\n"
     ]
    }
   ],
   "source": [
    "seq = range(5)\n",
    "input: for_each='seq'\n",
    "run:\n",
    "   echo I am active at all groups ${_index}\n",
    "run: active=slice(None, None, 2)\n",
    "   echo I am active at even groups ${_index}\n",
    "run: active=-1\n",
    "   echo I am active at last group ${_index}"
   ]
  },
  {
   "cell_type": "markdown",
   "metadata": {},
   "source": [
    "### `workdir`"
   ]
  },
  {
   "cell_type": "markdown",
   "metadata": {},
   "source": [
    "Option `workdir` changes the current working directory for the action, and change back once the action is executed. The directory will be created if it does not exist."
   ]
  },
  {
   "cell_type": "code",
   "execution_count": 10,
   "metadata": {
    "kernel": "sos"
   },
   "outputs": [
    {
     "name": "stdout",
     "output_type": "stream",
     "text": [
      "a.txt\n"
     ]
    }
   ],
   "source": [
    "bash: workdir='tmp'\n",
    "   touch a.txt\n",
    "bash:\n",
    "    ls tmp\n",
    "    rm tmp/a.txt\n",
    "    rmdir tmp"
   ]
  },
  {
   "cell_type": "markdown",
   "metadata": {},
   "source": [
    "### `docker_image`"
   ]
  },
  {
   "cell_type": "markdown",
   "metadata": {},
   "source": [
    "If a docker image is specified (either a name, an Id, or a file), the action is assumed to be executed in the specified docker. The image will be automatically downloaded (pulled) or loaded (if a `.tar` or `.tar.gz` file is specified`) if it is not available locally. \n",
    "\n",
    "For example, executing the following script "
   ]
  },
  {
   "cell_type": "markdown",
   "metadata": {},
   "source": [
    "```\n",
    "[10]\n",
    "python3: docker_image='python'\n",
    "  set = {'a', 'b'}\n",
    "  print(set)\n",
    "  ```"
   ]
  },
  {
   "cell_type": "markdown",
   "metadata": {},
   "source": [
    "under a docker terminal (that is connected to the docker daemon) will\n",
    "\n",
    "1. Pull docker image `python`,  which is the official docker image for Python 2 and 3.\n",
    "2. Create a python script with the specified content\n",
    "3. Run the docker container `python` and make the script available inside the container\n",
    "4. Use the `python3` command inside the container to execute the script.\n",
    "\n",
    "Additional `docker_run` parameters can be passed to actions when the action\n",
    "is executed in a docker image. These options include\n",
    "\n",
    "* `name`: name of the container (option `--name`)\n",
    "* `tty`: if a tty is attached (default to `True`, option `-t`)\n",
    "* `stdin_open`: if stdin should be open (default to `False`, option `-i`)\n",
    "* `user`: username (default o `root`, option `-u`)\n",
    "* `environment`: Can be a string, a list of string or dictinary of environment variables for docker (option `-e`)\n",
    "* `volumes`: string or list of string, extra volumes that need to be link, in addition to SoS mounted (`/tmp`, `/Users` (if mac), `/Volumes` (if [properly configured](http://vatlab.github.io/SOS/doc/tutorials/SoS_Docker_Guide.html) under mac) and script file)\n",
    "* `volumes_from`: container names or Ids to get volumes from\n",
    "* `working_dir`: working directory (option `-w`), default working directory, or working directory set by runtime option `workdir`.\n",
    "* `port`: port opened (option `-p`)\n",
    "* `extra_args`: If there is any extra arguments you would like to pass to the `docker run` process (after you check the actual command of `docker run` of SoS"
   ]
  },
  {
   "cell_type": "markdown",
   "metadata": {},
   "source": [
    "### `docker_file`\n",
    "\n",
    "This option allows you to import a docker from specified `docker_file`, which can be an archive file (`.tar`, `.tar.gz`, `.tgz`, `.bzip`, `.tar.xz`, `.txz`) or a URL to an archive file (e.g. `http://example.com/exampleimage.tgz`). SoS will use command `docker import` to import the `docker_file`. However, because SoS does not know the repository and tag names of the imported docker file, you will still need to use option `docker_image` to specify the image to use."
   ]
  },
  {
   "cell_type": "markdown",
   "metadata": {},
   "source": [
    "It is easy to define your own actions. All you need to do is to define a function and decorate it with a `SoS_Action` decorator. For example\n",
    "\n",
    "```python\n",
    "from pysos import SoS_Action\n",
    "\n",
    "@SoS_Action(run_mode=('run', 'interactive'))\n",
    "def my_action(parameters):\n",
    "    do_something_with_parameters\n",
    "\treturn 1\n",
    "```"
   ]
  },
  {
   "cell_type": "markdown",
   "metadata": {},
   "source": [
    "###  `args`"
   ]
  },
  {
   "cell_type": "markdown",
   "metadata": {},
   "source": [
    "All script-executing actions accept an option `args`, which changes how the script is executed.\n",
    "\n",
    "By default, such an action has an `interpreter` (e.g. `bash`), a default `args='${filename!q}'`, amd the script would be executed as `interpreter args`, which is\n",
    "```\n",
    "bash ${filename!q}\n",
    "```\n",
    "where `${filename!q}` would be replaced by the temporary script file."
   ]
  },
  {
   "cell_type": "markdown",
   "metadata": {},
   "source": [
    "If you would like to change the command line with additional parameters, or different format of filename, you can specify an alternative `args`, with variables `filename` (filename of temporary script) and `script` (actual content of the script).\n",
    "\n",
    "For example, option `-n` can be added to command `bash` to execute script in dryrun mode"
   ]
  },
  {
   "cell_type": "code",
   "execution_count": 11,
   "metadata": {
    "collapsed": true,
    "kernel": "sos"
   },
   "outputs": [],
   "source": [
    "bash: args='-n ${filename!q}'\n",
    "    echo \"-n means running in dryrun mode (only check syntax)\""
   ]
  },
  {
   "cell_type": "markdown",
   "metadata": {},
   "source": [
    "and you can actually execute a command without filename, and instead executing the script directly from command line"
   ]
  },
  {
   "cell_type": "code",
   "execution_count": 12,
   "metadata": {
    "kernel": "sos",
    "output_cache": "[{\"output_type\":\"stream\",\"name\":\"stdout\",\"text\":\"10000 loops, best of 3: 31.2 usec per loop\\n\"}]"
   },
   "outputs": [
    {
     "name": "stdout",
     "output_type": "stream",
     "text": [
      "10000 loops, best of 3: 35 usec per loop\n"
     ]
    }
   ],
   "source": [
    "python: args='-m timeit ${script}'\n",
    "    '\"-\".join(str(n) for n in range(100))'"
   ]
  },
  {
   "cell_type": "markdown",
   "metadata": {
    "output_cache": "[]"
   },
   "source": [
    "### allow_error"
   ]
  },
  {
   "cell_type": "markdown",
   "metadata": {
    "output_cache": "[]"
   },
   "source": [
    "Option `allow_error` tells SoS that the action might fail but this should not stop the workflow from executing. This option essentially turns an error to a warning message and change the return value of action to `None`. \n",
    "\n",
    "For example, in the following example, the wrong shell script would stop the execution of the step so the following action is not executed."
   ]
  },
  {
   "cell_type": "code",
   "execution_count": 15,
   "metadata": {
    "kernel": "sos",
    "output_cache": "[{\"output_type\":\"stream\",\"text\":\"/var/folders/ys/gnzk0qbx5wbdgm531v82xxljv5yqy8/T/tmpi62wxece: line 1: This: command not found\\nFailed to process statement run(r\\\"\\\"\\\"This is not shell\\\\n\\\"\\\"\\\")...fter run'): Failed to execute script (ret=127). \\nPlease use command\\n    /bin/bash /var/folders/ys/gnzk0qbx5wbdgm531v82xxljv5yqy8/T/tmpzn3zpjx3/.sos/interactive_0_0\\nunder /private/var/folders/ys/gnzk0qbx5wbdgm531v82xxljv5yqy8/T/tmpzn3zpjx3 to test it.\\n\",\"name\":\"stderr\"}]"
   },
   "outputs": [
    {
     "name": "stderr",
     "output_type": "stream",
     "text": [
      "/var/folders/ys/gnzk0qbx5wbdgm531v82xxljv5yqy8/T/tmpi62wxece: line 1: This: command not found\n",
      "Failed to process statement run(r\"\"\"This is not shell\\n\"\"\")...fter run'): Failed to execute script (ret=127). \n",
      "Please use command\n",
      "    /bin/bash /var/folders/ys/gnzk0qbx5wbdgm531v82xxljv5yqy8/T/tmpzn3zpjx3/.sos/interactive_0_0\n",
      "under /private/var/folders/ys/gnzk0qbx5wbdgm531v82xxljv5yqy8/T/tmpzn3zpjx3 to test it.\n"
     ]
    }
   ],
   "source": [
    "%sandbox --expect-error\n",
    "run: \n",
    "    This is not shell\n",
    "print('Step after run')"
   ]
  },
  {
   "cell_type": "markdown",
   "metadata": {
    "output_cache": "[]"
   },
   "source": [
    "but in this example, the error of `run` action is turned to a warning message and the later step would still be executed."
   ]
  },
  {
   "cell_type": "code",
   "execution_count": 16,
   "metadata": {
    "kernel": "sos",
    "output_cache": "[{\"output_type\":\"stream\",\"text\":\"/var/folders/ys/gnzk0qbx5wbdgm531v82xxljv5yqy8/T/tmpfemreue0: line 1: This: command not found\\n\\u001b[95mWARNING\\u001b[0m: \\u001b[95mFailed to execute script (ret=127). \\nPlease use command\\n    /bin/bash /var/folders/ys/gnzk0qbx5wbdgm531v82xxljv5yqy8/T/tmp557fin4d/.sos/interactive_0_0\\nunder /Users/bpeng1/SOS/docs/src/documentation to test it.\\u001b[0m\\n\",\"name\":\"stderr\"}]",
    "scrolled": false
   },
   "outputs": [
    {
     "name": "stderr",
     "output_type": "stream",
     "text": [
      "/var/folders/ys/gnzk0qbx5wbdgm531v82xxljv5yqy8/T/tmpag5371q4: line 1: This: command not found\n",
      "\u001b[95mWARNING\u001b[0m: \u001b[95mFailed to execute script (ret=127). \n",
      "Please use command\n",
      "    /bin/bash /var/folders/ys/gnzk0qbx5wbdgm531v82xxljv5yqy8/T/tmpzn3zpjx3/.sos/interactive_0_0\n",
      "under /Users/bpeng1/SOS/docs/src/documentation to test it.\u001b[0m\n"
     ]
    },
    {
     "name": "stdout",
     "output_type": "stream",
     "text": [
      "Step after run\n"
     ]
    }
   ],
   "source": [
    "run: allow_error=True\n",
    "    This is not shell\n",
    "print('Step after run')"
   ]
  },
  {
   "cell_type": "markdown",
   "metadata": {},
   "source": [
    "## Core Actions"
   ]
  },
  {
   "cell_type": "markdown",
   "metadata": {},
   "source": [
    "###  Action `run`"
   ]
  },
  {
   "cell_type": "markdown",
   "metadata": {},
   "source": [
    "`run` is the most frequently used action in sos. In most cases, it is similar to action `bash` and uses `bash` to execute specified script. Under the hood, this action is quite different from `bash` because the run action does not have a default interpreter and would behave differently under different situations."
   ]
  },
  {
   "cell_type": "markdown",
   "metadata": {},
   "source": [
    "In the simplest case when one or more commands are specified, action `run` would assume it is a batch script under windows, and a bash script otherwise."
   ]
  },
  {
   "cell_type": "code",
   "execution_count": 1,
   "metadata": {
    "kernel": "SoS",
    "output_cache": "[{\"name\":\"stdout\",\"output_type\":\"stream\",\"text\":\"A\\n\"}]"
   },
   "outputs": [
    {
     "name": "stdout",
     "output_type": "stream",
     "text": [
      "A\n"
     ]
    },
    {
     "name": "stderr",
     "output_type": "stream",
     "text": [
      "echo \"A\"\n"
     ]
    }
   ],
   "source": [
    "run:\n",
    "    echo \"A\""
   ]
  },
  {
   "cell_type": "markdown",
   "metadata": {
    "output_cache": "[]"
   },
   "source": [
    "It is different from an `bash` action in that it will exit with error if any of the commands exits with non-zero code. That is to say, whereas a `sh` action would print an error message but continue as follows"
   ]
  },
  {
   "cell_type": "code",
   "execution_count": 2,
   "metadata": {
    "kernel": "SoS",
    "output_cache": "[{\"output_type\":\"stream\",\"text\":\"B\\n\",\"name\":\"stdout\"},{\"output_type\":\"stream\",\"text\":\"/var/folders/ys/gnzk0qbx5wbdgm531v82xxljv5yqy8/T/tmpp8ur8ynw.sh: line 1: echoo: command not found\\n\",\"name\":\"stderr\"}]"
   },
   "outputs": [
    {
     "name": "stdout",
     "output_type": "stream",
     "text": [
      "B\n"
     ]
    },
    {
     "name": "stderr",
     "output_type": "stream",
     "text": [
      "/var/folders/ys/gnzk0qbx5wbdgm531v82xxljv5yqy8/T/tmp030oqbna.sh: line 1: echoo: command not found\n"
     ]
    }
   ],
   "source": [
    "sh:\n",
    "    echoo \"A\"\n",
    "    echo \"B\""
   ]
  },
  {
   "cell_type": "markdown",
   "metadata": {
    "output_cache": "[]"
   },
   "source": [
    "The `run` action would exit with error"
   ]
  },
  {
   "cell_type": "code",
   "execution_count": 3,
   "metadata": {
    "output_cache": "[{\"output_type\":\"stream\",\"text\":\"/var/folders/ys/gnzk0qbx5wbdgm531v82xxljv5yqy8/T/tmpr6ni2p3z: line 1: echoo: command not found\\nFailed to process statement 'run(\\\"echoo \\\\\\\\\\\"A\\\\\\\\\\\"\\\\\\\\necho \\\\\\\\\\\"B\\\\\\\\\\\"\\\")\\\\n' (RuntimeError): Failed to execute script (ret=127).\\nPlease use command\\n\\t``/bin/bash \\\\\\n\\t  -e \\\\\\n\\t  /var/folders/ys/gnzk0qbx5wbdgm531v82xxljv5yqy8/T/tmppwtttdjc/.sos/interactive_0_0_9f062482``\\nunder \\\"/private/var/folders/ys/gnzk0qbx5wbdgm531v82xxljv5yqy8/T/tmppwtttdjc\\\" to test it.\\n\",\"name\":\"stderr\"}]"
   },
   "outputs": [
    {
     "name": "stderr",
     "output_type": "stream",
     "text": [
      "echoo \"A\"\n",
      "/var/folders/ys/gnzk0qbx5wbdgm531v82xxljv5yqy8/T/tmpsuk9ul5a.sh: line 1: echoo: command not found\n",
      "Failed to process statement 'run(r\"\"\"echoo \"A\"\\necho \"B\"\\n\"\"\")\\n' (RuntimeError): Failed to execute script (ret=127).\n",
      "Please use command\n",
      "\t``/bin/bash \\\n",
      "\t  /var/folders/ys/gnzk0qbx5wbdgm531v82xxljv5yqy8/T/tmp2be4gap5/.sos/scratch_0_0_cec60319.sh``\n",
      "under \"/private/var/folders/ys/gnzk0qbx5wbdgm531v82xxljv5yqy8/T/tmp2be4gap5\" to test it.\n"
     ]
    }
   ],
   "source": [
    "%sandbox --expect-error\n",
    "run:\n",
    "    echoo \"A\"\n",
    "    echo \"B\""
   ]
  },
  {
   "cell_type": "markdown",
   "metadata": {
    "output_cache": "[{\"output_type\":\"stream\",\"text\":\"File contains parsing errors: <string>\\n\\t[line  2]: In another word,\\n```\\nrun:\\n    command1\\n    command2\\n\\nInvalid statements: SyntaxError('invalid syntax', ('<string>', 1, 10, 'In another word,\\\\n'))\\n\",\"name\":\"stderr\"}]"
   },
   "source": [
    "In another word,\n",
    "```\n",
    "run:\n",
    "    command1\n",
    "    command2\n",
    "    command3\n",
    "```\n",
    "is equivalent to\n",
    "\n",
    "```\n",
    "bash:\n",
    "    command1 && command2 && command3\n",
    "```\n",
    "under Linux/MacOS systems."
   ]
  },
  {
   "cell_type": "markdown",
   "metadata": {},
   "source": [
    "However, if the script starts with a shebang line, this action would execute the script directly. This allows you to execute any script in any language. For example, the following script executes a python script using action `run`"
   ]
  },
  {
   "cell_type": "code",
   "execution_count": 4,
   "metadata": {
    "kernel": "SoS"
   },
   "outputs": [
    {
     "name": "stdout",
     "output_type": "stream",
     "text": [
      "This is python\n"
     ]
    }
   ],
   "source": [
    "run:\n",
    "    #!/usr/bin/env python\n",
    "    print('This is python')"
   ]
  },
  {
   "cell_type": "markdown",
   "metadata": {},
   "source": [
    "and the following example runs a complete sos script using command `sos-runner`"
   ]
  },
  {
   "cell_type": "code",
   "execution_count": 5,
   "metadata": {
    "kernel": "SoS"
   },
   "outputs": [
    {
     "name": "stdout",
     "output_type": "stream",
     "text": [
      "This is default_10\n",
      "This is default_20\n"
     ]
    },
    {
     "name": "stderr",
     "output_type": "stream",
     "text": [
      "INFO: Executing \u001b[32mdefault_10\u001b[0m: \n",
      "INFO: input:    \u001b[32m[]\u001b[0m\n",
      "INFO: output:   \u001b[32m[]\u001b[0m\n",
      "INFO: Executing \u001b[32mdefault_20\u001b[0m: \n",
      "INFO: input:    \u001b[32m[]\u001b[0m\n",
      "INFO: output:   \u001b[32m[]\u001b[0m\n",
      "INFO: Workflow default (ID=546b66a93731ebf2) is executed successfully.\n"
     ]
    }
   ],
   "source": [
    "%run\n",
    "# use sigil=None to stop interpolating expressions in script\n",
    "[sos: sigil=None]\n",
    "run:\n",
    "    #!/usr/bin/env sos-runner\n",
    "    [10]\n",
    "    print(\"This is ${step_name}\")\n",
    "    [20]\n",
    "    print(\"This is ${step_name}\")"
   ]
  },
  {
   "cell_type": "markdown",
   "metadata": {},
   "source": [
    "Note that action `run`would not analyze shebang line of a script if it is executed in a docker container (with option `docker-image`) and would always assumed to be `bash`."
   ]
  },
  {
   "cell_type": "markdown",
   "metadata": {},
   "source": [
    "### Action `script`"
   ]
  },
  {
   "cell_type": "markdown",
   "metadata": {},
   "source": [
    "Action `script` is the general form of all script-executing actions in SoS. It accepts a script, and parameters `interpreter` (required), `suffix` (if required by the interpreter) and optional `args` (command line arguments). It can be used to execute any script for which its interpreter is not currently supported by SoS. For example, the action\n",
    "\n",
    "```\n",
    "python:\n",
    "    print('HERE')\n",
    "```\n",
    "\n",
    "can be executed as"
   ]
  },
  {
   "cell_type": "code",
   "execution_count": 6,
   "metadata": {
    "kernel": "SoS"
   },
   "outputs": [
    {
     "name": "stdout",
     "output_type": "stream",
     "text": [
      "HERE\n"
     ]
    }
   ],
   "source": [
    "script: interpreter='python'\n",
    "    print('HERE')"
   ]
  },
  {
   "cell_type": "markdown",
   "metadata": {},
   "source": [
    "###  Action `sos_run`"
   ]
  },
  {
   "cell_type": "markdown",
   "metadata": {},
   "source": [
    "Action `sos_run(workflow=None, targets=None, shared=[], args={}, **kwargs)` executes a specified workflow. The workflow can be a single workflow, a subworkflow (e.g. `A_-10`), a combined workflow (e.g. `A + B`), or a workflow that is constructed to generate `targets`. The workflow\n",
    "\n",
    "* Takes `_input` of the parental step as the input of the first step of the subworkflow\n",
    "* Takes `args` (a dictionary) and `**kwargs` as parameters as if they are specified from command line\n",
    "* Copies variables specified in `shared` (a string or a list of string) to the subworkflow if they exist in the parental namespace\n",
    "* Returns variables defined in `shared` to the parental namespace after the completion of the workflow\n",
    "\n",
    "`sos_run` would be executed in a separate process in batch mode, and would be executed in the same process in interactive mode, so parameter `shared` is only needed for batch execution."
   ]
  },
  {
   "cell_type": "markdown",
   "metadata": {},
   "source": [
    "The simplest use of action `sos_run` is for the execution of one or more workflows. For example,"
   ]
  },
  {
   "cell_type": "code",
   "execution_count": 7,
   "metadata": {
    "kernel": "SoS"
   },
   "outputs": [
    {
     "name": "stdout",
     "output_type": "stream",
     "text": [
      "A_0\n",
      "B_0\n"
     ]
    }
   ],
   "source": [
    "%run\n",
    "[A]\n",
    "print(step_name)\n",
    "\n",
    "[B]\n",
    "print(step_name)\n",
    "\n",
    "[default]\n",
    "sos_run('A + B')"
   ]
  },
  {
   "cell_type": "markdown",
   "metadata": {},
   "source": [
    "The subworkflows are executed separately and only takes the `_input` of the step as the `input` of the workflow. For example,"
   ]
  },
  {
   "cell_type": "code",
   "execution_count": 8,
   "metadata": {
    "kernel": "SoS"
   },
   "outputs": [
    {
     "name": "stdout",
     "output_type": "stream",
     "text": [
      "Handling a.txt\n",
      "Handling b.txt\n"
     ]
    }
   ],
   "source": [
    "%sandbox\n",
    "%run\n",
    "!touch a.txt b.txt\n",
    "\n",
    "[process]\n",
    "print(\"Handling ${input}\")\n",
    "\n",
    "[default]\n",
    "input: 'a.txt', 'b.txt', group_by=1\n",
    "sos_run('process')"
   ]
  },
  {
   "cell_type": "markdown",
   "metadata": {},
   "source": [
    "If you would like to send one or more variables to the subworkflow or return a variable from the execution of subworkflow, you can specify them with the `shared` variable. The return variable part is a bit tricky here because you can only return workflow level variable that are usually `shared` from a step of the subworkflow. For example,"
   ]
  },
  {
   "cell_type": "code",
   "execution_count": 9,
   "metadata": {
    "kernel": "SoS"
   },
   "outputs": [
    {
     "name": "stdout",
     "output_type": "stream",
     "text": [
      "Working with seed 0\n",
      "Working with seed 1\n",
      "Working with seed 2\n",
      "Working with seed 3\n",
      "Working with seed 4\n"
     ]
    }
   ],
   "source": [
    "%sandbox\n",
    "%run\n",
    "\n",
    "[process]\n",
    "print(\"Working with seed ${seed}\")\n",
    "\n",
    "[default]\n",
    "for seed in range(5):\n",
    "    sos_run('process', seed=seed)"
   ]
  },
  {
   "cell_type": "code",
   "execution_count": 10,
   "metadata": {
    "kernel": "SoS"
   },
   "outputs": [
    {
     "name": "stdout",
     "output_type": "stream",
     "text": [
      "Result from subworkflow process is 100\n"
     ]
    }
   ],
   "source": [
    "%sandbox\n",
    "%run\n",
    "\n",
    "[process: shared='result']\n",
    "result = 100\n",
    "\n",
    "[default]\n",
    "sos_run('process')\n",
    "print(\"Result from subworkflow process is ${result}\")\n",
    "    "
   ]
  },
  {
   "cell_type": "markdown",
   "metadata": {},
   "source": [
    "If the subworkflow accepts parameters, they can be specified using keyword arguments or as a dictionary for parameter `args` of the `sos_run` function. The subworkflow would take values from parameters as if they are passed from command line. \n",
    "\n",
    "For example, the following workflow defines parameter `cutoff` with default value 10. When it is executed without command line option, the default value is used."
   ]
  },
  {
   "cell_type": "code",
   "execution_count": 11,
   "metadata": {
    "kernel": "SoS"
   },
   "outputs": [
    {
     "name": "stdout",
     "output_type": "stream",
     "text": [
      "Process with cutoff=10\n"
     ]
    }
   ],
   "source": [
    "%sandbox\n",
    "%run\n",
    "\n",
    "[default]\n",
    "parameter: cutoff=10\n",
    "print(\"Process with cutoff=${cutoff}\")\n",
    "\n",
    "[batch]\n",
    "for value in range(2, 10, 2):\n",
    "    sos_run('default', cutoff=value)"
   ]
  },
  {
   "cell_type": "markdown",
   "metadata": {},
   "source": [
    "Command line argument could be used to specify a different `cutoff` value:"
   ]
  },
  {
   "cell_type": "code",
   "execution_count": 12,
   "metadata": {
    "kernel": "SoS"
   },
   "outputs": [
    {
     "name": "stdout",
     "output_type": "stream",
     "text": [
      "Process with cutoff=4\n"
     ]
    }
   ],
   "source": [
    "%sandbox\n",
    "%rerun --cutoff=4"
   ]
  },
  {
   "cell_type": "markdown",
   "metadata": {},
   "source": [
    "Now, if we run the `batch` workflow, which calls the `default` workflow with parameter `cutoff`, the `parameter: cutoff=10` statement takes the passed value as if it were specified from command line."
   ]
  },
  {
   "cell_type": "code",
   "execution_count": 13,
   "metadata": {
    "kernel": "SoS"
   },
   "outputs": [
    {
     "name": "stdout",
     "output_type": "stream",
     "text": [
      "Process with cutoff=2\n",
      "Process with cutoff=4\n",
      "Process with cutoff=6\n",
      "Process with cutoff=8\n"
     ]
    }
   ],
   "source": [
    "%sandbox\n",
    "%rerun batch"
   ]
  },
  {
   "cell_type": "markdown",
   "metadata": {},
   "source": [
    "Note that the parameters could also be specified with parameter `args`, "
   ]
  },
  {
   "cell_type": "code",
   "execution_count": 14,
   "metadata": {
    "kernel": "SoS"
   },
   "outputs": [
    {
     "name": "stdout",
     "output_type": "stream",
     "text": [
      "Process with cutoff=2\n",
      "Process with cutoff=4\n",
      "Process with cutoff=6\n",
      "Process with cutoff=8\n"
     ]
    }
   ],
   "source": [
    "%sandbox\n",
    "%run batch\n",
    "\n",
    "[default]\n",
    "parameter: cutoff=10\n",
    "print(\"Process with cutoff=${cutoff}\")\n",
    "\n",
    "[batch]\n",
    "for value in range(2, 10, 2):\n",
    "    sos_run('default', args={'cutoff': value})"
   ]
  },
  {
   "cell_type": "markdown",
   "metadata": {},
   "source": [
    "although the keyword arguments are usually easier to use."
   ]
  },
  {
   "cell_type": "markdown",
   "metadata": {},
   "source": [
    "Action `sos_run` cannot be used in `task` (see [Remote Execution](Remote_Execution.html) for details) because tasks are designed to be executed independently of the workflow. "
   ]
  },
  {
   "cell_type": "markdown",
   "metadata": {},
   "source": [
    "### Action `report`"
   ]
  },
  {
   "cell_type": "markdown",
   "metadata": {},
   "source": [
    "Action `report` writes some content to an output stream. The input can either be a string or content of one or more files specified by option `input`. The output is determined by parameter `output`, and command line option `-r`.\n",
    "\n",
    "* If `output='filename'`, the content will be written to a file.\n",
    "* If `output=obj` and `obj` has a `write` function (e.g. a file handle), the content will be passed to the `write` function\n",
    "* If output is unspecified and no filename is specified from option `-r`, the content will be written to standard output.\n",
    "* If output is unspecified and a filename is specified with option `-r`, the content will be appended to specified file.\n",
    "\n",
    "For example, the content of `report` actions is printed to standard output if no output is specified."
   ]
  },
  {
   "cell_type": "code",
   "execution_count": 15,
   "metadata": {
    "kernel": "SoS"
   },
   "outputs": [
    {
     "name": "stdout",
     "output_type": "stream",
     "text": [
      "Runing default_10\n",
      "\n",
      "Runing default_20\n",
      "\n"
     ]
    }
   ],
   "source": [
    "%run\n",
    "\n",
    "[10]\n",
    "report:\n",
    "    Runing ${step_name}\n",
    "\n",
    "[20]\n",
    "report:\n",
    "    Runing ${step_name}\n"
   ]
  },
  {
   "cell_type": "markdown",
   "metadata": {},
   "source": [
    "We can specify an output file with option `output`, but the output will be overwritten if multiple actions write to the same file"
   ]
  },
  {
   "cell_type": "code",
   "execution_count": 16,
   "metadata": {
    "collapsed": true,
    "kernel": "SoS"
   },
   "outputs": [],
   "source": [
    "%sandbox\n",
    "%run\n",
    "\n",
    "%preview report.txt\n",
    "[10]\n",
    "report: output='report.txt'\n",
    "    Runing ${step_name}\n",
    "\n",
    "[20]\n",
    "report: output='report.txt'\n",
    "    Runing ${step_name}"
   ]
  },
  {
   "cell_type": "markdown",
   "metadata": {},
   "source": [
    "Action `report` can also take the content of one or more input files and write them to the output stream, after the script content (if specified). For example, the `report` action in the following example writes the content of `out.txt` to the default report stream (which is the standard output in this case)."
   ]
  },
  {
   "cell_type": "code",
   "execution_count": 17,
   "metadata": {
    "kernel": "SoS"
   },
   "outputs": [
    {
     "name": "stderr",
     "output_type": "stream",
     "text": [
      "# run some command and generate a out.txt\n",
      "echo \"* some result \" > out.txt\n",
      "\n"
     ]
    },
    {
     "name": "stdout",
     "output_type": "stream",
     "text": [
      "Summary Report:\n",
      "\n",
      "* some result\n",
      "\n"
     ]
    }
   ],
   "source": [
    "%sandbox\n",
    "%run\n",
    "\n",
    "[10]\n",
    "output: 'out.txt'\n",
    "run:\n",
    "   # run some command and generate a out.txt\n",
    "   echo \"* some result \" > out.txt\n",
    "\n",
    "[20]\n",
    "report: input='out.txt'\n",
    "Summary Report:"
   ]
  },
  {
   "cell_type": "markdown",
   "metadata": {},
   "source": [
    "### Action  `bash`\n",
    "\n",
    "Action `bash(script)` accepts a shell script and execute it using `bash`. `sh`, `csh`, `tcsh`, `zsh` uses respective shell to execute the provided script.\n",
    "\n",
    "These actions, as well as all script-executing actions such as `python`, also accept an option `args` and allows you to pass additional arguments to the interpreter. For example"
   ]
  },
  {
   "cell_type": "code",
   "execution_count": 18,
   "metadata": {
    "collapsed": true,
    "kernel": "SoS"
   },
   "outputs": [],
   "source": [
    "run: args='-n ${filename!q}'\n",
    "      echo \"a\""
   ]
  },
  {
   "cell_type": "markdown",
   "metadata": {},
   "source": [
    "execute the script with command `bash -n` (check syntax), so command `echo` is not actually executed."
   ]
  },
  {
   "cell_type": "markdown",
   "metadata": {},
   "source": [
    "### Action `sh`\n",
    "Execute script with a `sh` interpreter"
   ]
  },
  {
   "cell_type": "markdown",
   "metadata": {},
   "source": [
    "### Action  `csh`\n",
    "Execute script with a `csh` interpreter"
   ]
  },
  {
   "cell_type": "markdown",
   "metadata": {},
   "source": [
    "### Action  `tcsh`\n",
    "Execute script with a `tcsh` interpreter"
   ]
  },
  {
   "cell_type": "markdown",
   "metadata": {},
   "source": [
    "###  Action `zsh`\n",
    "Execute script with a `zsh` interpreter"
   ]
  },
  {
   "cell_type": "markdown",
   "metadata": {},
   "source": [
    "### Action  `perl`\n",
    "\n",
    "Action `perl(script)` execute the passed script using `perl` interpreter."
   ]
  },
  {
   "cell_type": "code",
   "execution_count": 19,
   "metadata": {
    "kernel": "SoS"
   },
   "outputs": [
    {
     "name": "stdout",
     "output_type": "stream",
     "text": [
      "Hello, Brian!\n"
     ]
    }
   ],
   "source": [
    "perl:\n",
    "    my $name = \"Brian\";\n",
    "    print \"Hello, $name!\\n\";"
   ]
  },
  {
   "cell_type": "markdown",
   "metadata": {},
   "source": [
    "### Action  `ruby`"
   ]
  },
  {
   "cell_type": "markdown",
   "metadata": {},
   "source": [
    "Action `ruby(script)` execute the passed script using `ruby` interpreter."
   ]
  },
  {
   "cell_type": "code",
   "execution_count": 20,
   "metadata": {
    "kernel": "SoS"
   },
   "outputs": [
    {
     "name": "stdout",
     "output_type": "stream",
     "text": [
      "45 3 19 8 sam max 56 98.9 3 10 jill\n",
      "19 3 10\n",
      "3 8 19 45\n",
      "A: 45 3 19 8 57 9 phil\n"
     ]
    }
   ],
   "source": [
    "ruby:\n",
    "    a = [ 45, 3, 19, 8 ]\n",
    "    b = [ 'sam', 'max', 56, 98.9, 3, 10, 'jill' ]\n",
    "    print (a + b).join(' '), \"\\n\"\n",
    "    print a[2], \" \", b[4], \" \", b[-2], \"\\n\"\n",
    "    print a.sort.join(' '), \"\\n\"\n",
    "    a << 57 << 9 << 'phil'\n",
    "    print \"A: \", a.join(' '), \"\\n\""
   ]
  },
  {
   "cell_type": "markdown",
   "metadata": {},
   "source": [
    "###  Action  `node`\n",
    "\n",
    "Action `node(script)` executes the passed script using `node` (JavaScript) interpreter."
   ]
  },
  {
   "cell_type": "code",
   "execution_count": 21,
   "metadata": {
    "kernel": "SoS"
   },
   "outputs": [
    {
     "name": "stdout",
     "output_type": "stream",
     "text": [
      "976\n"
     ]
    }
   ],
   "source": [
    "node:\n",
    "    var i, a, b, c, max;\n",
    "\n",
    "    max = 1000000000;\n",
    "\n",
    "    var d = Date.now();\n",
    "\n",
    "    for (i = 0; i < max; i++) {\n",
    "        a = 1234 + 5678 + i;\n",
    "        b = 1234 * 5678 + i;\n",
    "        c = 1234 / 2 + i;\n",
    "    }\n",
    "\n",
    "    console.log(Date.now() - d);"
   ]
  },
  {
   "cell_type": "markdown",
   "metadata": {},
   "source": [
    "### Action  `pandoc`"
   ]
  },
  {
   "cell_type": "markdown",
   "metadata": {},
   "source": [
    "Action `pandoc` uses command [pandoc](http://pandoc.org/) to convert specified input to output. This input to this action can be specified from option `script` (usually specified in script format) and `input`.\n",
    "\n",
    "First, if a script is specified, pandoc assumes it is in markdown format and convert it by default to 'HTML' format. For example,"
   ]
  },
  {
   "cell_type": "code",
   "execution_count": 22,
   "metadata": {
    "kernel": "SoS"
   },
   "outputs": [
    {
     "name": "stdout",
     "output_type": "stream",
     "text": [
      "<h1 id=\"this-is-header\">this is header</h1>\n",
      "<p>This is some test, with <strong>emphasis</strong>.</p>\n"
     ]
    }
   ],
   "source": [
    "pandoc:\n",
    "    # this is header\n",
    "    This is some test, with **emphasis**.        "
   ]
  },
  {
   "cell_type": "markdown",
   "metadata": {},
   "source": [
    "You can specify an output with option `output`"
   ]
  },
  {
   "cell_type": "code",
   "execution_count": 23,
   "metadata": {
    "kernel": "SoS"
   },
   "outputs": [
    {
     "name": "stderr",
     "output_type": "stream",
     "text": [
      "INFO: Report saved to out.html\n"
     ]
    }
   ],
   "source": [
    "%sandbox\n",
    "%preview out.html\n",
    "pandoc: output='out.html'\n",
    "    Itemize\n",
    "\n",
    "    * item 1\n",
    "    * item 2"
   ]
  },
  {
   "cell_type": "markdown",
   "metadata": {},
   "source": [
    "You can convert input file to another file type using a different file extension"
   ]
  },
  {
   "cell_type": "code",
   "execution_count": 24,
   "metadata": {
    "kernel": "SoS"
   },
   "outputs": [
    {
     "name": "stderr",
     "output_type": "stream",
     "text": [
      "INFO: Report saved to out.tex\n"
     ]
    }
   ],
   "source": [
    "%sandbox\n",
    "%preview out.tex\n",
    "pandoc: output='out.tex'\n",
    "    Itemize\n",
    "\n",
    "    * item 1\n",
    "    * item 2"
   ]
  },
  {
   "cell_type": "markdown",
   "metadata": {},
   "source": [
    "Or you can add more options to the command line by modifying `args`,"
   ]
  },
  {
   "cell_type": "code",
   "execution_count": 25,
   "metadata": {
    "kernel": "SoS"
   },
   "outputs": [
    {
     "name": "stderr",
     "output_type": "stream",
     "text": [
      "INFO: Report saved to out.html\n"
     ]
    }
   ],
   "source": [
    "%sandbox\n",
    "%preview out.html\n",
    "pandoc: output='out.html', args='${input!q} --output ${output!q} -s'\n",
    "    Itemize\n",
    "\n",
    "    * item 1\n",
    "    * item 2"
   ]
  },
  {
   "cell_type": "markdown",
   "metadata": {},
   "source": [
    "The second usage of the `pandoc` action is to specify one or more input filenames. You have to use the function form of this action as follows"
   ]
  },
  {
   "cell_type": "code",
   "execution_count": 26,
   "metadata": {
    "collapsed": true,
    "kernel": "SoS"
   },
   "outputs": [],
   "source": [
    "%sandbox\n",
    "%preview out.html\n",
    "[10]\n",
    "report: output = 'out.md'\n",
    "    Itemize\n",
    "\n",
    "    * item 1\n",
    "    * item 2\n",
    "\n",
    "[20]\n",
    "pandoc(input='out.md', output='out.html')\n",
    "    "
   ]
  },
  {
   "cell_type": "markdown",
   "metadata": {},
   "source": [
    "If multiple files are specified, the content of these input files will be concatenated. This is very useful for generating a single pandoc output with input from different steps. We will demonstrate this feature in the [Generating Reports](../tutorials/Generating_Reports.html) tutorial.\n",
    "\n",
    "If both `script` and `input` parameters are specified, the content of input files would be appended to `script`. So"
   ]
  },
  {
   "cell_type": "code",
   "execution_count": 27,
   "metadata": {
    "collapsed": true,
    "kernel": "SoS"
   },
   "outputs": [],
   "source": [
    "#%sandbox\n",
    "%preview out.html\n",
    "[10]\n",
    "report: output = 'out10.md'\n",
    "    Itemize\n",
    "\n",
    "    * item 1\n",
    "    * item 2\n",
    "\n",
    "[20]\n",
    "report: output= 'out20.md'\n",
    "    enumerated\n",
    "\n",
    "    1. item 1\n",
    "    2. item 2\n",
    "\n",
    "[30]\n",
    "pandoc: input=['out10.md', 'out20.md'], output='out.html'\n",
    "    Markdown supports both itemized and enumerated"
   ]
  },
  {
   "cell_type": "markdown",
   "metadata": {},
   "source": [
    "### Action `docker_build`\n",
    "\n",
    "Build a docker image from an inline Docker file. The inline version of the action currently does not support adding any file from local machine because the docker file will be saved to a random directory. You can walk around this problem by creating a `Dockerfile` and pass it to the action through option `path`. This action accepts all parameters as specified in [docker-py documentation](http://docker-py.readthedocs.io/en/latest/images.html) because SoS simply pass additional parameters to the `build` function.\n",
    "\n",
    "For example, the following step builds a docker container for [MISO](http://miso.readthedocs.org/en/fastmiso/) based on anaconda python 2.7.\n",
    "\n",
    "```\n",
    "[build_1]\n",
    "# building miso from a Dockerfile\n",
    "docker_build: tag='mdabioinfo/miso:latest'\n",
    "\n",
    "\t############################################################\n",
    "\t# Dockerfile to build MISO container images\n",
    "\t# Based on Anaconda python\n",
    "\t############################################################\n",
    "\n",
    "\t# Set the base image to anaconda Python 2.7 (miso does not support python 3)\n",
    "\tFROM continuumio/anaconda\n",
    "\n",
    "\t# File Author / Maintainer\n",
    "\tMAINTAINER Bo Peng <bpeng@mdanderson.org>\n",
    "\n",
    "\t# Update the repository sources list\n",
    "\tRUN apt-get update\n",
    "\n",
    "\t# Install compiler and python stuff, samtools and git\n",
    "\tRUN apt-get install --yes \\\n",
    "\t build-essential \\\n",
    "\t gcc-multilib \\\n",
    "\t gfortran \\ \n",
    "\t apt-utils \\\n",
    "\t libblas3 \\ \n",
    "\t liblapack3 \\\n",
    "\t libc6 \\\n",
    "\t cython \\ \n",
    "\t samtools \\\n",
    "\t libbam-dev \\\n",
    "\t bedtools \\\n",
    "\t wget \\\n",
    "\t zlib1g-dev \\ \n",
    "\t tar \\\n",
    "\t gzip\n",
    "\n",
    "\tWORKDIR /usr/local\n",
    "\tRUN pip install misopy\n",
    "```"
   ]
  },
  {
   "cell_type": "markdown",
   "metadata": {},
   "source": [
    "### Action  `download`"
   ]
  },
  {
   "cell_type": "markdown",
   "metadata": {},
   "source": [
    "Action `download(URLs, dest_dir='.', dest_file=None, decompress=False)` download files from specified URLs, which can be a list of URLs, or a string with tab, space or newline separated URLs. \n",
    "\n",
    "* If `dest_file` is specified, only one URL is allowed and the URL can have any form.\n",
    "* Otherwise all files will be downloaded to `dest_dir`. Filenames are determined from URLs so the URLs must have the last portion as the filename to save. \n",
    "* If `decompress` is True, `.zip` file, compressed or plan `tar` (e.g. `.tar.gz`) files, and `.gz` files will be decompressed to the same directory as the downloaded file.\n",
    "\n",
    "For example,\n",
    "\n",
    "```\n",
    "[10]\n",
    "GATK_RESOURCE_DIR = '/path/to/resource'\n",
    "GATK_URL = 'ftp://gsapubftp-anonymous@ftp.broadinstitute.org/bundle/2.8/hg19/'\n",
    "\n",
    "download:   dest=GATK_RESOURCE_DIR\n",
    "    ${GATK_URL}/1000G_omni2.5.hg19.sites.vcf.gz\n",
    "    ${GATK_URL}/1000G_omni2.5.hg19.sites.vcf.gz.md5\n",
    "    ${GATK_URL}/1000G_omni2.5.hg19.sites.vcf.idx.gz\n",
    "    ${GATK_URL}/1000G_omni2.5.hg19.sites.vcf.idx.gz.md5\n",
    "```\n",
    "\n",
    "download the specified files to `GATK_RESOURCE_DIR`. The `.md5` files will be automatically used to validate the content of the associated files. Note that \n",
    "\n",
    "SoS automatically save signature of downloaded and decompressed files so the files will not be re-downloaded if the action is called multiple times. You can however still still specifies input and output of the step to use step signature\n",
    "\n",
    "\n",
    "```\n",
    "[10]\n",
    "GATK_RESOURCE_DIR = '/path/to/resource'\n",
    "GATK_URL = 'ftp://gsapubftp-anonymous@ftp.broadinstitute.org/bundle/2.8/hg19/'\n",
    "RESOUCE_FILES =  '''1000G_omni2.5.hg19.sites.vcf.gz\n",
    "    1000G_omni2.5.hg19.sites.vcf.gz.md5\n",
    "    1000G_omni2.5.hg19.sites.vcf.idx.gz\n",
    "    1000G_omni2.5.hg19.sites.vcf.idx.gz.md5'''.split() \n",
    "input: []\n",
    "output:  [os.path.join(GATK_RESOURCE_DIR, x) for x in GATK_RESOURCE_FILES]\n",
    "download(['${GATK_URL}/${x}' for x in GATK_RESOURCE_FILES], dest=GATK_RESOURCE_DIR)\n",
    "```\n",
    "\n",
    "Note that the `download` action uses up to 5 processes to download files. You can change this number by adjusting system configuration `sos_download_processes`."
   ]
  },
  {
   "cell_type": "markdown",
   "metadata": {},
   "source": [
    "###  Action `fail_if`\n",
    "\n",
    "Action `fail_if(expr, msg='')` raises an exception with `msg` (and terminate the execution of the workflow if the exception is not caught) if `expr` returns True."
   ]
  },
  {
   "cell_type": "markdown",
   "metadata": {},
   "source": [
    "###  Action `warn_if`\n",
    "\n",
    "Action `warn_if(expr, msg)` yields a warning message `msg` if `expr` is evaluate to be true."
   ]
  },
  {
   "cell_type": "markdown",
   "metadata": {},
   "source": [
    "###  Action `stop_if`\n",
    "\n",
    "Action `stop_if(expr, msg='')` stops the execution of the current step (or current iteration if within input loops specified by parameters `group_by` or `for_each`) and gives a warning message if `msg` is specified. For example,"
   ]
  },
  {
   "cell_type": "code",
   "execution_count": 28,
   "metadata": {
    "kernel": "SoS",
    "output_cache": "[{\"output_type\":\"stream\",\"text\":\"['b.txt']\\n\",\"name\":\"stdout\"}]"
   },
   "outputs": [
    {
     "name": "stdout",
     "output_type": "stream",
     "text": [
      "['b.txt']\n"
     ]
    }
   ],
   "source": [
    "%sandbox\n",
    "%run\n",
    "!touch a.txt\n",
    "!echo 'something' > b.txt\n",
    "\n",
    "[10]\n",
    "input: '*.txt', group_by=1\n",
    "\n",
    "stop_if(os.path.getsize(_input[0]) == 0)\n",
    "print(_input)"
   ]
  },
  {
   "cell_type": "markdown",
   "metadata": {},
   "source": [
    "skips `a.txt` because it has size 0."
   ]
  },
  {
   "cell_type": "markdown",
   "metadata": {
    "output_cache": "[]"
   },
   "source": [
    "A side effect of `stop_if` is that it will clear `_output` of the iteration so that the step `output` consists of only files from non-stopped iterations. For example,"
   ]
  },
  {
   "cell_type": "code",
   "execution_count": 29,
   "metadata": {
    "kernel": "SoS",
    "output_cache": "[{\"output_type\":\"stream\",\"text\":\"/var/folders/ys/gnzk0qbx5wbdgm531v82xxljv5yqy8/T/tmpaa0en0ty: line 1: unexpected EOF while looking for matching `\\\"'\\n/var/folders/ys/gnzk0qbx5wbdgm531v82xxljv5yqy8/T/tmpaa0en0ty: line 4: syntax error: unexpected end of file\\nFailed to process statement run(r\\\"\\\"\\\"echo \\\"Generating ${_ou...ut}\\\\n\\\\n\\\"\\\"\\\")\\\\n: Failed to execute script (ret=2). \\nPlease use command\\n    /bin/bash /var/folders/ys/gnzk0qbx5wbdgm531v82xxljv5yqy8/T/tmp7jyzqr2o/.sos/default_10_1\\nunder /private/var/folders/ys/gnzk0qbx5wbdgm531v82xxljv5yqy8/T/tmp7jyzqr2o to test it.\\n\",\"name\":\"stderr\"}]"
   },
   "outputs": [
    {
     "name": "stdout",
     "output_type": "stream",
     "text": [
      "Generating 1.txt\n"
     ]
    },
    {
     "name": "stderr",
     "output_type": "stream",
     "text": [
      "echo \"Generating 1.txt\"\n",
      "touch 1.txt\n",
      "\n"
     ]
    },
    {
     "name": "stdout",
     "output_type": "stream",
     "text": [
      "Generating 3.txt\n"
     ]
    },
    {
     "name": "stderr",
     "output_type": "stream",
     "text": [
      "echo \"Generating 3.txt\"\n",
      "touch 3.txt\n",
      "\n"
     ]
    },
    {
     "name": "stdout",
     "output_type": "stream",
     "text": [
      "Generating 5.txt\n"
     ]
    },
    {
     "name": "stderr",
     "output_type": "stream",
     "text": [
      "echo \"Generating 5.txt\"\n",
      "touch 5.txt\n",
      "\n"
     ]
    },
    {
     "name": "stdout",
     "output_type": "stream",
     "text": [
      "Generating 7.txt\n"
     ]
    },
    {
     "name": "stderr",
     "output_type": "stream",
     "text": [
      "echo \"Generating 7.txt\"\n",
      "touch 7.txt\n",
      "\n"
     ]
    },
    {
     "name": "stdout",
     "output_type": "stream",
     "text": [
      "Generating 9.txt\n"
     ]
    },
    {
     "name": "stderr",
     "output_type": "stream",
     "text": [
      "echo \"Generating 9.txt\"\n",
      "touch 9.txt\n",
      "\n"
     ]
    },
    {
     "name": "stdout",
     "output_type": "stream",
     "text": [
      "Output of last step is 1.txt 3.txt 5.txt 7.txt 9.txt\n"
     ]
    }
   ],
   "source": [
    "%sandbox\n",
    "%run\n",
    "[10]\n",
    "input: for_each={'idx': range(10)}\n",
    "output: \"${idx}.txt\"\n",
    "stop_if(idx % 2 == 0)\n",
    "run:\n",
    "    echo \"Generating ${_output}\"\n",
    "    touch ${_output}\n",
    "\n",
    "[20]\n",
    "print(\"Output of last step is ${input}\")"
   ]
  },
  {
   "cell_type": "markdown",
   "metadata": {},
   "source": [
    "## Core Targets"
   ]
  },
  {
   "cell_type": "markdown",
   "metadata": {},
   "source": [
    "Targets are objects that a SoS step can input, output, or dependent on. They are usually files that are presented by filenames, but can also be other targets."
   ]
  },
  {
   "cell_type": "markdown",
   "metadata": {},
   "source": [
    "### Target `FileTarget`"
   ]
  },
  {
   "cell_type": "markdown",
   "metadata": {},
   "source": [
    "Targets of type `FileTarget` represents files on a file system. The type `FileTarget` should not be used explicitly because SoS treats string type targets as `FileTarget`.\n",
    "\n",
    "SoS uses md5 signature to detect changes of the content of files. To reduce the time to generate signature for large files, SoS extracts strips of data from large files to calculate partial MD5. The resulting signatures are different from md5 signature of complete files calcualted from other tools.\n",
    "\n",
    "A file can be **zapped** by command `sos remove --zap` and still be considered available by SoS. This command removes a `file` and generates `${file}.zapped` with essential information such as signature and size of the original file. A step would not be rerun if its input, dependent, or output files are zapped instead of removed. This feature is useful for the removal of large intermediate files generated from the execution of workflows, whiling still keeping the complete runtime information of the workflow."
   ]
  },
  {
   "cell_type": "markdown",
   "metadata": {},
   "source": [
    "### Target `executable` "
   ]
  },
  {
   "cell_type": "code",
   "execution_count": 30,
   "metadata": {
    "collapsed": true,
    "kernel": "SoS"
   },
   "outputs": [],
   "source": [
    "`executable` targets are commands that should be accessible and executable by SoS. These targets are usually listed in the `depends` section of a SoS step. For example, SoS would stop if a command `fastqc` is not found.\n",
    "\n",
    "%sandbox --expect-error\n",
    "[10]\n",
    "input:     'a.txt'\n",
    "depends:   executable('some_command')\n",
    "sh:\n",
    "    some_command ${input}\n",
    "\n",
    "`executable` target can also be output of a step but installing executables can be tricky because the commands should be installed to existing `$PATH` so that they can be immediately accessible by SoS. Because SoS automatically adds `~/.sos/bin` to `$PATH` (option `-b`), an environment-neutral way for on-the-fly installation is to install commands to this directory. For example\n",
    "\n",
    "!rm -f ~/.sos/bin/lls\n",
    "\n",
    "[lls: provides=executable('lls')]\n",
    "sh:\n",
    "    echo \"#!/usr/bin/env bash\" > ~/.sos/bin/lls\n",
    "    echo \"echo I am lls\" >> ~/.sos/bin/lls\n",
    "    chmod +x ~/.sos/bin/lls\n",
    "\n",
    "[10]\n",
    "depends: executable('lls')\n",
    "sh:\n",
    "    lls\n",
    "\n",
    "creates an executable command `lls` under `~/.sos/bin` when this executable does not exist.\n",
    "\n",
    "You can also have finer control over which version of the command is eligible by checking the output of commands. The trick here is to provide a complete command and one or more version strings as the string that should appear in the output of the command.\n",
    "\n",
    "For example, command `perl --version` is executed in the following example to check if the output contains string `5.18`. The step would only be executed if the right version exists.\n",
    "\n",
    "[10]\n",
    "depends: executable('perl --version', version='5.18')\n",
    "print('ok')\n",
    "\n",
    "If no verion string is provided, SoS will only check the existence of the command and not actually execute the command."
   ]
  },
  {
   "cell_type": "markdown",
   "metadata": {},
   "source": [
    "### Target `sos_variable` \n",
    "\n",
    "`sos_variable(name)` targets represent SoS variables that are created by a SoS step and shared to other steps. These targets can be used to provide information to other steps. For example,"
   ]
  },
  {
   "cell_type": "code",
   "execution_count": 31,
   "metadata": {
    "collapsed": true,
    "kernel": "SoS"
   },
   "outputs": [],
   "source": [
    "%sandbox\n",
    "[counts: shared='counts']\n",
    "input: 'result.txt'\n",
    "with open(input[0]) as ifile:\n",
    "    counts = int(ifile.read())\n",
    "\n",
    "[10]\n",
    "\n",
    "# perform some task and create a file with some statistics\n",
    "output: 'result.txt'\n",
    "run:\n",
    "   echo 100 >> result.txt \n",
    "\n",
    "[100]\n",
    "depends: sos_variable('counts')\n",
    "report:\n",
    "    There are ${counts} objects"
   ]
  },
  {
   "cell_type": "markdown",
   "metadata": {},
   "source": [
    "Step `100` needed some information extracted from output of another step (step `10`). You can either parse the information in step `100` or use another step to provide the information. The latter is recommended because the information could be requested by multiple steps. Note that `counts` is an auxiliary step that provides `sos_variable('counts')` through its `shared` section option."
   ]
  },
  {
   "cell_type": "markdown",
   "metadata": {},
   "source": [
    "### Target `env_variable` \n",
    "\n",
    "SoS keeps tract of runtime environment and creates signatures of executed steps so that they do not have to be executed again. Some commands, especially shell scripts, could however behave differently with different environmental variables. To make sure a step would be re-executed with changing environments, you should list the variables that affects the output of these commands as dependencies of the step. For example\n",
    "\n",
    "%sandbox --expect-error\n",
    "[10]\n",
    "depends:   env_variable('DEBUG')\n",
    "sh:\n",
    "    echo DEBUG is set to $DEBUG"
   ]
  },
  {
   "cell_type": "markdown",
   "metadata": {},
   "source": [
    "### Target `sos_step` \n",
    "\n",
    "The `sos_step` target represents, needless to say, a SoS step. This target provides a straightforward method to specify step dependencies. For example,\n",
    "\n",
    "[init]\n",
    "print(\"Initialize\")\n",
    "\n",
    "[10]\n",
    "depends: sos_step(\"init\")\n",
    "print(\"I am ${step_name}\")"
   ]
  },
  {
   "cell_type": "markdown",
   "metadata": {},
   "source": [
    "### Target `dynamic` \n",
    "\n",
    "A `dynamic` target is a target that can only be determined when the step is actually executed. \n",
    "\n",
    "For example,"
   ]
  },
  {
   "cell_type": "code",
   "execution_count": 1,
   "metadata": {
    "collapsed": true,
    "kernel": "SoS"
   },
   "outputs": [],
   "source": [
    "%sandbox --expect-error\n",
    "[10]\n",
    "output: '*.txt'\n",
    "sh:\n",
    "    touch a.txt\n",
    "\n",
    "[20]\n",
    "print('Last output is ${input}')"
   ]
  },
  {
   "cell_type": "markdown",
   "metadata": {},
   "source": [
    "To address this problem, you should try to expand the output file after the completion of the step, using a `dynamic` target."
   ]
  },
  {
   "cell_type": "code",
   "execution_count": null,
   "metadata": {
    "collapsed": true
   },
   "outputs": [],
   "source": [
    "%sandbox\n",
    "[10]\n",
    "output: dynamic('*.txt')\n",
    "sh:\n",
    "    touch a.txt\n",
    "\n",
    "[20]\n",
    "print(\"Last output is ${input}\")"
   ]
  },
  {
   "cell_type": "markdown",
   "metadata": {},
   "source": [
    "Please refer to chapter [SoS Step](SoS_Step.html) for details of such targets."
   ]
  },
  {
   "cell_type": "markdown",
   "metadata": {},
   "source": [
    "### Target `remote`"
   ]
  },
  {
   "cell_type": "markdown",
   "metadata": {},
   "source": [
    "A target that is marked as `remote` and would be instantiated only when it is executed by a task. Please check section [Remote Execution](Remote_Execution.html) for details."
   ]
  },
  {
   "cell_type": "markdown",
   "metadata": {},
   "source": [
    "## Functions and objects"
   ]
  },
  {
   "cell_type": "markdown",
   "metadata": {},
   "source": [
    "###  Function `get_output`"
   ]
  },
  {
   "cell_type": "markdown",
   "metadata": {},
   "source": [
    "Function `get_output(cmd)` returns the output of command (decoded in `UTF-8`), which is a shortcut for `subprocess.check_output(cmd, shell=True).decode()`."
   ]
  },
  {
   "cell_type": "code",
   "execution_count": 32,
   "metadata": {
    "kernel": "SoS"
   },
   "outputs": [
    {
     "data": {
      "text/plain": [
       "'/bin/ls\\n'"
      ]
     },
     "execution_count": 32,
     "metadata": {},
     "output_type": "execute_result"
    }
   ],
   "source": [
    "get_output('which ls')"
   ]
  },
  {
   "cell_type": "markdown",
   "metadata": {},
   "source": [
    "This function also accepts two options `show_command=False`, and `prompt='$ '` that can be useful in case you would like to present the command that produce the output. For example,"
   ]
  },
  {
   "cell_type": "code",
   "execution_count": 33,
   "metadata": {
    "kernel": "SoS"
   },
   "outputs": [
    {
     "name": "stdout",
     "output_type": "stream",
     "text": [
      "$ which ls\n",
      "/bin/ls\n",
      "\n"
     ]
    }
   ],
   "source": [
    "print(get_output('which ls', show_command=True))"
   ]
  },
  {
   "cell_type": "markdown",
   "metadata": {},
   "source": [
    "### Function  `expand_pattern`\n",
    "\n",
    "Function `expand_pattern` expands a string to multiple ones using items of variables quoted between `{ }`. For example,\n",
    "\n",
    "```python\n",
    "output: expand_pattern('{a}_{b}.txt')\n",
    "```\n",
    "\n",
    "is equivalent to\n",
    "\n",
    "```python\n",
    "output: ['{x}_{y}.txt' for x,y in zip(a, b)]\n",
    "```\n",
    "\n",
    "if `a` and `b` are sequences of the same length. For example,"
   ]
  },
  {
   "cell_type": "code",
   "execution_count": 34,
   "metadata": {
    "kernel": "SoS"
   },
   "outputs": [
    {
     "data": {
      "text/plain": [
       "[\"Bob's salary is 200\", \"John's salary is 300\"]"
      ]
     },
     "execution_count": 34,
     "metadata": {},
     "output_type": "execute_result"
    }
   ],
   "source": [
    "name = ['Bob', 'John']\n",
    "salary = [200, 300]\n",
    "expand_pattern(\"{name}'s salary is {salary}\")"
   ]
  },
  {
   "cell_type": "markdown",
   "metadata": {},
   "source": [
    "The sequences should have the same length"
   ]
  },
  {
   "cell_type": "code",
   "execution_count": 35,
   "metadata": {},
   "outputs": [
    {
     "name": "stderr",
     "output_type": "stream",
     "text": [
      "Failed to process statement 'expand_pattern(\"{name}\\'s salary is {salary}\")' (ValueError): Undefined variable name in pattern {name}'s salary is {salary}\n"
     ]
    }
   ],
   "source": [
    "%sandbox --expect-error\n",
    "\n",
    "salary = [200]\n",
    "expand_pattern(\"{name}'s salary is {salary}\")"
   ]
  },
  {
   "cell_type": "markdown",
   "metadata": {},
   "source": [
    "An exception is made for variables of simple non-sequence types, in which case they are repeated in all expanded items"
   ]
  },
  {
   "cell_type": "code",
   "execution_count": 36,
   "metadata": {
    "kernel": "SoS"
   },
   "outputs": [
    {
     "data": {
      "text/plain": [
       "[\"Bob's salary is 200\", \"John's salary is 200\"]"
      ]
     },
     "execution_count": 36,
     "metadata": {},
     "output_type": "execute_result"
    }
   ],
   "source": [
    "salary = 200\n",
    "expand_pattern(\"{name}'s salary is {salary}\")"
   ]
  },
  {
   "cell_type": "markdown",
   "metadata": {},
   "source": [
    "###  Object `logger`"
   ]
  },
  {
   "cell_type": "markdown",
   "metadata": {},
   "source": [
    "The SoS logger object is a `logging` object used by SoS to produce various outputs. You can use this object to output error, warning, info, debug, and trace messages to terminal. For example,"
   ]
  },
  {
   "cell_type": "code",
   "execution_count": 37,
   "metadata": {
    "kernel": "SoS"
   },
   "outputs": [
    {
     "name": "stderr",
     "output_type": "stream",
     "text": [
      "INFO: I am at default_0\n"
     ]
    }
   ],
   "source": [
    "%run -v2\n",
    "[0]\n",
    "logger.info(\"I am at ${step_name}\")"
   ]
  },
  {
   "cell_type": "markdown",
   "metadata": {},
   "source": [
    "The output of `logger` is controlled by logging level, for example, the above message would not be printed at `-v1` (warning)"
   ]
  },
  {
   "cell_type": "code",
   "execution_count": 38,
   "metadata": {
    "collapsed": true,
    "kernel": "SoS"
   },
   "outputs": [],
   "source": [
    "%run -v1\n",
    "[0]\n",
    "logger.info(\"I am at ${step_name}\")"
   ]
  },
  {
   "cell_type": "markdown",
   "metadata": {},
   "source": [
    "## Language `Python`"
   ]
  },
  {
   "cell_type": "markdown",
   "metadata": {},
   "source": [
    "### Action `python`"
   ]
  },
  {
   "cell_type": "markdown",
   "metadata": {},
   "source": [
    "Action `python(script)` and `python3(script)` accepts a Python script and execute it with python or python3, respectively.\n",
    "\n",
    "Because SoS can include Python statements directly in a SoS script, it is important to note that embedded Python\n",
    "statements are interpreted by SoS and the `python` and `python3` actions are execute in separate processes without\n",
    "access to the SoS environment.\n",
    "\n",
    "For example, the following SoS step execute some python statements **within** SoS with direct access to SoS variables\n",
    "such as `input`, and with `result` writing directly to the SoS environment,\n",
    "\n",
    "```python\n",
    "[10]\n",
    "for filename in input:\n",
    "    with open(filename) as data:\n",
    "        result = filename + '.res'\n",
    "        ....\n",
    "```\n",
    "\n",
    "while\n",
    "\n",
    "```python\n",
    "[10]\n",
    "input: group_by='single'\n",
    "\n",
    "python:\n",
    "\n",
    "with open(${input!r}) as data:\n",
    "   result = ${input!r} + '.res'\n",
    "   ...\n",
    "\n",
    "\n",
    "```\n",
    "\n",
    "composes a Python script for each input file and calls separate Python interpreters to execute them. Whereas\n",
    "the Python statement in the first example will always be executed, the statements in `python` will not be executed\n",
    "in `inspect` mode."
   ]
  },
  {
   "cell_type": "markdown",
   "metadata": {},
   "source": [
    "### Action `python2`\n",
    "\n",
    "Action `python2` is similar to `python` but it tries to use interpreter `python2` (or `python2.7` on some systems) before `python`, which could be python 3. Note that this action does not actually test the version of interpreter so it would use python 3 if this is the only available version."
   ]
  },
  {
   "cell_type": "markdown",
   "metadata": {},
   "source": [
    "### Action `python3`\n",
    "\n",
    "Action `python3` is similar to `python` but it tries to use interpreter `python3` (version 3 of python) before `python`, which could be python 2. Note that this action does not actually test the version of interpreter so it would use python 2 if this is the only available version."
   ]
  },
  {
   "cell_type": "markdown",
   "metadata": {},
   "source": [
    "### Target `Py_Module`"
   ]
  },
  {
   "cell_type": "markdown",
   "metadata": {},
   "source": [
    "This target is usually used in the `depends` statement of a SoS step to specify a required Python module. If a module is not available, SoS will try to execute command `pip install` to install it, which might or might not succeed depending on your system configuration. For example,"
   ]
  },
  {
   "cell_type": "code",
   "execution_count": 39,
   "metadata": {
    "kernel": "SoS"
   },
   "outputs": [
    {
     "name": "stdout",
     "output_type": "stream",
     "text": [
      "-----  ------  -------------\n",
      "Sun    696000     1.9891e+09\n",
      "Earth    6371  5973.6\n",
      "Moon     1737    73.5\n",
      "Mars     3390   641.85\n",
      "-----  ------  -------------\n"
     ]
    }
   ],
   "source": [
    "depends: Py_Module('tabulate')\n",
    "from tabulate import tabulate\n",
    "table = [[\"Sun\",696000,1989100000],[\"Earth\",6371,5973.6],\n",
    "    [\"Moon\",1737,73.5],[\"Mars\",3390,641.85]]\n",
    "print(tabulate(table))"
   ]
  },
  {
   "cell_type": "markdown",
   "metadata": {},
   "source": [
    "## Language `R`"
   ]
  },
  {
   "cell_type": "markdown",
   "metadata": {},
   "source": [
    "### Action `R`"
   ]
  },
  {
   "cell_type": "markdown",
   "metadata": {},
   "source": [
    "Action `R(script)` execute the passed script using `Rscript` command. "
   ]
  },
  {
   "cell_type": "code",
   "execution_count": 40,
   "metadata": {
    "kernel": "SoS"
   },
   "outputs": [
    {
     "name": "stdout",
     "output_type": "stream",
     "text": [
      "  x  y\n",
      "1 1  7\n",
      "4 1  2\n",
      "2 2 19\n",
      "3 3  2\n"
     ]
    }
   ],
   "source": [
    "R:\n",
    "    D <- data.frame(x=c(1,2,3,1), y=c(7,19,2,2))\n",
    "    # Sort on x\n",
    "    indexes <- order(D$x)\n",
    "    D[indexes,]"
   ]
  },
  {
   "cell_type": "markdown",
   "metadata": {},
   "source": [
    "### Action `Rmarkdown`"
   ]
  },
  {
   "cell_type": "markdown",
   "metadata": {},
   "source": [
    "Action `Rmarkdown` shares the same user interface with action `pandoc`. The only big difference is that it used `R`'s `rmarkdown` package to render R-flavored Markdown language.\n",
    "\n",
    "For example, the `Rmarkdown` action of the following example collects input files `A_10.md` and `A_20.md` and use `R`'s `rmarkdown` package to convert it to `out.html`."
   ]
  },
  {
   "cell_type": "code",
   "execution_count": 41,
   "metadata": {
    "collapsed": true,
    "kernel": "SoS"
   },
   "outputs": [],
   "source": [
    "%sandbox\n",
    "\n",
    "[A_10]\n",
    "report: output=\"A_10.md\"\n",
    "    step_10\n",
    "\n",
    "[A_20]\n",
    "report: output=\"A_20.md\"\n",
    "    Itemize\n",
    "\n",
    "    * item 1\n",
    "    * item 2\n",
    "\n",
    "[A_30]\n",
    "Rmarkdown(input=['A_10.md', 'A_20.md'], output='out.html')"
   ]
  },
  {
   "cell_type": "markdown",
   "metadata": {},
   "source": [
    "### Target `R_library`"
   ]
  },
  {
   "cell_type": "markdown",
   "metadata": {},
   "source": [
    "The `R_library` target represents a R library. If the libraries are not available, it will try to install it from [CRAN](https://cran.r-project.org/), [bioconductor](https://www.bioconductor.org/), or [github](https://github.com/). Github package name should be formatted as `repo/pkg`. A typical usage of this target would be"
   ]
  },
  {
   "cell_type": "code",
   "execution_count": 42,
   "metadata": {
    "collapsed": true,
    "kernel": "SoS"
   },
   "outputs": [],
   "source": [
    "%sandbox\n",
    "[10]\n",
    "output: 'test.jpg'\n",
    "depends: R_library('ggplot2')\n",
    "R:\n",
    "  library(ggplot2) \n",
    "  jpeg(${output!r})\n",
    "  qplot(Sepal.Length, Petal.Length, data = iris, color = Species)\n",
    "  dev.off()\n"
   ]
  },
  {
   "cell_type": "markdown",
   "metadata": {
    "kernel": "sos"
   },
   "source": [
    "`R_library` can also be used to check for specific versions of packages. For example:\n",
    "\n",
    "```\n",
    "R_library('edgeR', '3.12.0')\n",
    "```\n",
    "will result in a warning if edgeR version is not 3.12.0. You can specify multiple versions \n",
    "\n",
    "```\n",
    "R_library('edgeR', ['3.12.0', '3.12.1'])\n",
    "```\n",
    "\n",
    "certain version or newer,\n",
    "```\n",
    "R_library('edgeR', '3.12.0+')\n",
    "```\n",
    "\n",
    "certain version or older\n",
    "```\n",
    "check_R_library('ggplot2', '1.0.0-')\n",
    "```\n",
    "\n",
    "The default R library repo is `http://cran.us.r-project.org`. It is possible to customize the repo for which a R library would be installed, for example:\n",
    "\n",
    "```\n",
    "R_library('Rmosek', repos = \"http://download.mosek.com/R/7\")\n",
    "```"
   ]
  }
 ],
 "metadata": {
  "anaconda-cloud": {},
  "kernelspec": {
   "display_name": "SoS",
   "language": "sos",
   "name": "sos"
  },
  "language_info": {
   "codemirror_mode": "sos",
   "file_extension": ".sos",
   "mimetype": "text/x-sos",
   "name": "sos",
   "nbconvert_exporter": "sos.jupyter.converter.SoS_Exporter",
   "pygments_lexer": "sos"
  },
  "sos": {
   "celltoolbar": true,
   "kernels": [
    [
     "SoS",
     "sos",
     "",
     ""
    ],
    [
     "R",
     "ir",
     "R",
     "#FDEDEC"
    ],
    [
     "Python3",
     "python3",
     "Python3",
     "#EAFAF1"
    ],
    [
     "JavaScript",
     "javascript",
     "JavaScript",
     "#00ff80"
    ],
    [
     "Python2",
     "python2",
     "Python2",
     "#EAFAF1"
    ],
    [
     "SAS",
     "sas",
     "SAS",
     "#dcb9b9"
    ],
    [
     "Bash",
     "bash",
     "Bash",
     "#E6EEFF"
    ]
   ],
   "panel": {
    "displayed": true,
    "height": 0,
    "style": "side"
   }
  },
  "toc": {
   "colors": {
    "hover_highlight": "#DAA520",
    "running_highlight": "#FF0000",
    "selected_highlight": "#FFD700"
   },
   "moveMenuLeft": true,
   "nav_menu": {
    "height": "503px",
    "width": "254px"
   },
   "navigate_menu": true,
   "number_sections": true,
   "sideBar": true,
   "threshold": 4,
   "toc_cell": false,
   "toc_section_display": "block",
   "toc_window_display": true
  }
 },
 "nbformat": 4,
 "nbformat_minor": 1
}
