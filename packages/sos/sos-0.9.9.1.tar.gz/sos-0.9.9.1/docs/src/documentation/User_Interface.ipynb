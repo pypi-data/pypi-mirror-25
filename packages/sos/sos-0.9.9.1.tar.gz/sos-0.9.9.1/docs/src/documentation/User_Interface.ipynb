{
 "cells": [
  {
   "cell_type": "markdown",
   "metadata": {},
   "source": [
    "# Command Line User Interface"
   ]
  },
  {
   "cell_type": "markdown",
   "metadata": {},
   "source": [
    "## Command `sos`"
   ]
  },
  {
   "cell_type": "markdown",
   "metadata": {},
   "source": [
    "Command `sos` accepts a number of subcommands (similar to `svn`, `git` etc). Its syntax follows\n",
    "\n",
    "```bash\n",
    "sos subcommand [subcommand-options]\n",
    "```\n",
    "\n",
    "You can use command"
   ]
  },
  {
   "cell_type": "code",
   "execution_count": 1,
   "metadata": {
    "kernel": "SoS"
   },
   "outputs": [
    {
     "name": "stdout",
     "output_type": "stream",
     "text": [
      "usage: sos [-h] [--version]\n",
      "           {run,resume,dryrun,status,execute,kill,purge,config,convert,remove,pack,unpack}\n",
      "           ...\n",
      "\n",
      "A workflow system for the execution of commands and scripts in different\n",
      "languages.\n",
      "\n",
      "optional arguments:\n",
      "  -h, --help            show this help message and exit\n",
      "  --version             show program's version number and exit\n",
      "\n",
      "subcommands:\n",
      "  {run,resume,dryrun,status,execute,kill,purge,config,convert,remove,pack,unpack}\n",
      "    run                 Execute default or specified workflow in script\n",
      "    resume              Resume the execution of a suspended workflow\n",
      "    dryrun              Execute workflow in dryrun mode\n",
      "    status              Check the status of specified tasks\n",
      "    execute             Execute a packages task\n",
      "    kill                Stop the execution of running task\n",
      "    purge               Remove local or remote tasks\n",
      "    config              Read and write sos configuration files\n",
      "    convert             Convert between .sos, .ipynb and other formats\n",
      "    remove              Remove specified files and/or their signatures\n",
      "    pack                Pack workflow related files into an archive\n",
      "    unpack              Unpack workflow related files from an SoS archive\n",
      "\n",
      "Use 'sos cmd -h' for details about each subcommand. Please contact Bo Peng\n",
      "(bpeng at mdanderson.org) if you have any question.\n"
     ]
    }
   ],
   "source": [
    "!sos -h"
   ]
  },
  {
   "cell_type": "markdown",
   "metadata": {},
   "source": [
    "to get a list of subcommands with brief descriptions and\n",
    "```bash\n",
    "sos subcommand -h\n",
    "```\n",
    "to get detailed description of a particular subcommand."
   ]
  },
  {
   "cell_type": "markdown",
   "metadata": {},
   "source": [
    "## Command `sos-runner`"
   ]
  },
  {
   "cell_type": "markdown",
   "metadata": {},
   "source": [
    "Command `sos-runner` is a shortcut for ``sos run`` so\n",
    "\n",
    "```bash\n",
    "% sos-runner script\n",
    "```\n",
    "\n",
    "is equivalent to\n",
    "\n",
    "```bash\n",
    "% sos run script\n",
    "```\n",
    "\n",
    "This allows a SoS script to be executed directly if it is executable with shebang line\n",
    "\n",
    "```\n",
    "#!/usr/bin/env sos-runner\n",
    "```"
   ]
  },
  {
   "cell_type": "markdown",
   "metadata": {},
   "source": [
    "## Workflow Execution"
   ]
  },
  {
   "cell_type": "markdown",
   "metadata": {},
   "source": [
    "### subcommand `run`"
   ]
  },
  {
   "cell_type": "code",
   "execution_count": 2,
   "metadata": {
    "kernel": "SoS",
    "output_cache": "[{\"name\":\"stdout\",\"text\":\"usage: sos run [-h] [-j JOBS] [-c CONFIG_FILE] [-t FILE [FILE ...]]\\n               [-b [BIN_DIR [BIN_DIR ...]]] [-q QUEUE] [-n] [-s SIGMODE]\\n               [-d [DAG]] [-v {0,1,2,3,4}]\\n               SCRIPT [WORKFLOW]\\n\\nExecute default or specified workflow defined in script\\n\\npositional arguments:\\n  SCRIPT                A SoS script that defines one or more workflows. The\\n                        script can be a filename or a URL from which the\\n                        content of a SoS will be read. If a valid file cannot\\n                        be located or downloaded, SoS will search for the\\n                        script in a search path specified by variable\\n                        `sos_path` defined in the global SoS configuration\\n                        file (~/.sos/config.yml).\\n  WORKFLOW              Name of the workflow to execute. This option can be\\n                        ignored if the script defines a default workflow (with\\n                        no name or with name `default`) or defines only a\\n                        single workflow. A subworkflow or a combined workflow\\n                        can also be specified, where a subworkflow executes a\\n                        subset of workflow (`name_steps` where `steps` can be\\n                        `n` (a step `n`), `:n` (up to step `n`), `n:m` (from\\n                        step `n` to `m`), and `n:` (from step `n`)), and a\\n                        combined workflow executes to multiple (sub)workflows\\n                        combined by `+` (e.g. `A_0+B+C`).\\n\\noptional arguments:\\n  -h, --help            show this help message and exit\\n  -j JOBS               Number of concurrent process allowed. A workflow is by\\n                        default executed sequentially (-j 1). If a greater\\n                        than 1 number is specified SoS will execute the\\n                        workflow in parallel mode and execute up to specified\\n                        processes concurrently. These include looped processes\\n                        within a step (with runtime option `concurrent=True`)\\n                        and steps with non-missing required files.\\n  -c CONFIG_FILE        A configuration file in the format of YAML/JSON. The\\n                        content of the configuration file will be available as\\n                        a dictionary CONF in the SoS script being executed.\\n  -t FILE [FILE ...]    One of more files or alias of other targets that will\\n                        be the target of execution. If specified, SoS will\\n                        execute only part of a workflow or multiple workflows\\n                        or auxiliary steps to generate specified targets.\\n  -b [BIN_DIR [BIN_DIR ...]]\\n                        Extra directories in which SoS will look for\\n                        executables before standard $PATH. This option\\n                        essentially prefix $PATH with these directories. Note\\n                        that the default value '~/.sos/bin' is by convention a\\n                        default directory for commands that are installed by\\n                        SoS. You can use option '-b' without value to disallow\\n                        commands under ~/.sos/bin.\\n  -q QUEUE              Task-processing queue. SoS by default uses a local\\n                        multiprocessing queue where tasks are executed by\\n                        different processes. Supported task queues include a\\n                        'rq' engine where tasks will be distributed to one or\\n                        more rq-workers with assistance from a redis server,\\n                        and a 'celery' quque where tasks will be distributed\\n                        to celery workers.\\n\\nRun mode options:\\n  Control how sos scirpt is executed.\\n\\n  -n                    Execute a workflow without executing any actions. This\\n                        can be used to check the syntax of a SoS file.\\n  -s SIGMODE            How runtime signature would be handled, which can be\\n                        \\\"default\\\" (save and use signature, default mode in\\n                        batch mode), \\\"ignore\\\" (ignore runtime signature,\\n                        default mode in interactive mode), \\\"force\\\" (ignore\\n                        existing signature and overwrite them while executing\\n                        the workflow), \\\"build\\\" (build new or overwrite\\n                        existing signature from existing environment and\\n                        output files), and \\\"assert\\\" for validating existing\\n                        files against their signatures. Please refer to online\\n                        documentation for details about the use of runtime\\n                        signatures.\\n\\nOutput options:\\n  Output of workflow\\n\\n  -d [DAG]              Output Direct Acyclic Graph (DAGs) in graphiviz .dot\\n                        format. An exntesion of \\\".dot\\\" would be added\\n                        automatically. Because DAG could change during the\\n                        execution of workflow, multiple DAGs could be outputed\\n                        with names $FILE_1.dot, $FILE_2.dot. If this option is\\n                        specified without a name, the DAG would be wrritten to\\n                        the standard output.\\n  -v {0,1,2,3,4}        Output error (0), warning (1), info (2), debug (3) and\\n                        trace (4) information to standard output (default to\\n                        2).\\n\\nArbitrary parameters defined by the [parameters] step of the script, and\\n[parameters] steps of other scripts if nested workflows are defined in other\\nSoS files (option `source`). The name, default and type of the parameters are\\nspecified in the script. Single value parameters should be passed using option\\n`--name value` and multi-value parameters should be passed using option\\n`--name value1 value2`.\\n\",\"output_type\":\"stream\"}]"
   },
   "outputs": [
    {
     "name": "stdout",
     "output_type": "stream",
     "text": [
      "usage: sos run [-h] [-j JOBS] [-J EXTERNAL_JOBS] [-c CONFIG_FILE]\n",
      "               [-t FILE [FILE ...]] [-b [BIN_DIR [BIN_DIR ...]]] [-q [QUEUE]]\n",
      "               [-w] [-W] [-r] [-n] [-s SIGMODE] [-d [DAG]] [-v {0,1,2,3,4}]\n",
      "               SCRIPT [WORKFLOW]\n",
      "\n",
      "Execute default or specified workflow defined in script\n",
      "\n",
      "positional arguments:\n",
      "  SCRIPT                A SoS script that defines one or more workflows, in\n",
      "                        format .sos or .ipynb. The script can be a filename or\n",
      "                        a URL from which the content of a SoS will be read. If\n",
      "                        a valid file cannot be located or downloaded, SoS will\n",
      "                        search for the script, with specified name, and with\n",
      "                        added extension .sos and .ipynb, in a search path\n",
      "                        specified by variable `sos_path` defined in the global\n",
      "                        SoS configuration file (~/.sos/config.yml).\n",
      "  WORKFLOW              Name of the workflow to execute. This option can be\n",
      "                        ignored if the script defines a default workflow (with\n",
      "                        no name or with name `default`) or defines only a\n",
      "                        single workflow. A subworkflow or a combined workflow\n",
      "                        can also be specified, where a subworkflow executes a\n",
      "                        subset of workflow (`name_steps` where `steps` can be\n",
      "                        `n` (a step `n`), `:n` (up to step `n`), `n:m` (from\n",
      "                        step `n` to `m`), and `n:` (from step `n`)), and a\n",
      "                        combined workflow executes to multiple (sub)workflows\n",
      "                        combined by `+` (e.g. `A_0+B+C`).\n",
      "\n",
      "optional arguments:\n",
      "  -h, --help            show this help message and exit\n",
      "  -j JOBS               Maximum number of worker processes for the execution\n",
      "                        of the workflow if the workflow can be executed in\n",
      "                        parallel (namely having multiple starting points or\n",
      "                        execution branches).\n",
      "  -J EXTERNAL_JOBS      Maximum number of externally running tasks. This\n",
      "                        option overrides option \"max_running_jobs\" of a task\n",
      "                        queue (option -q) so that you can, for example, submit\n",
      "                        one job at a time (with -J 1) to test the task queue.\n",
      "  -c CONFIG_FILE        A configuration file in the format of YAML/JSON. The\n",
      "                        content of the configuration file will be available as\n",
      "                        a dictionary CONF in the SoS script being executed.\n",
      "  -t FILE [FILE ...]    One of more files or alias of other targets that will\n",
      "                        be the target of execution. If specified, SoS will\n",
      "                        execute only part of a workflow or multiple workflows\n",
      "                        or auxiliary steps to generate specified targets.\n",
      "  -b [BIN_DIR [BIN_DIR ...]]\n",
      "                        Extra directories in which SoS will look for\n",
      "                        executables before standard $PATH. This option\n",
      "                        essentially prefix $PATH with these directories. Note\n",
      "                        that the default value '~/.sos/bin' is by convention a\n",
      "                        default directory for commands that are installed by\n",
      "                        SoS. You can use option '-b' without value to disallow\n",
      "                        commands under ~/.sos/bin.\n",
      "  -q [QUEUE]            host (server) or job queues to execute all tasks in\n",
      "                        the workflow. The queue can be defined in global or\n",
      "                        local sos configuration file, or a file specified by\n",
      "                        option --config. A host is assumed to be a remote\n",
      "                        machine with process type if no configuration is\n",
      "                        found. SoS will list all configured queues (with\n",
      "                        details varying by option -v) if this option is\n",
      "                        specified without value.\n",
      "  -w                    Wait for the completion of external tasks regardless\n",
      "                        of the setting of individual task queue.\n",
      "  -W                    Do not wait for the completion of external tasks and\n",
      "                        quit SoS if all tasks are being executed by external\n",
      "                        task queues. This option overrides the default wait\n",
      "                        setting of task queues.\n",
      "  -r                    Forcing all targets specified in input, output, and\n",
      "                        depends are remote targets so that they are not\n",
      "                        synchronized between local and remote hosts.\n",
      "\n",
      "Run mode options:\n",
      "  Control how sos scirpt is executed.\n",
      "\n",
      "  -n                    Execute a workflow in dryrun mode. Please check\n",
      "                        command sos dryrun for details of the dryrun mode.\n",
      "  -s SIGMODE            How runtime signature would be handled, which can be\n",
      "                        \"default\" (save and use signature, default mode in\n",
      "                        batch mode), \"ignore\" (ignore runtime signature,\n",
      "                        default mode in interactive mode), \"force\" (ignore\n",
      "                        existing signature and overwrite them while executing\n",
      "                        the workflow), \"build\" (build new or overwrite\n",
      "                        existing signature from existing environment and\n",
      "                        output files), and \"assert\" for validating existing\n",
      "                        files against their signatures. Please refer to online\n",
      "                        documentation for details about the use of runtime\n",
      "                        signatures.\n",
      "\n",
      "Output options:\n",
      "  Output of workflow\n",
      "\n",
      "  -d [DAG]              Output Direct Acyclic Graph (DAGs) in graphiviz .dot\n",
      "                        format. An exntesion of \".dot\" would be added\n",
      "                        automatically. Because DAG could change during the\n",
      "                        execution of workflow, multiple DAGs could be outputed\n",
      "                        with names $FILE_1.dot, $FILE_2.dot. If this option is\n",
      "                        specified without a name, the DAG would be wrritten to\n",
      "                        the standard output.\n",
      "  -v {0,1,2,3,4}        Output error (0), warning (1), info (2), debug (3) and\n",
      "                        trace (4) information to standard output (default to\n",
      "                        2).\n",
      "\n",
      "Arbitrary parameters defined by the [parameters] step of the script, and\n",
      "[parameters] steps of other scripts if nested workflows are defined in other\n",
      "SoS files (option `source`). The name, default and type of the parameters are\n",
      "specified in the script. Single value parameters should be passed using option\n",
      "`--name value` and multi-value parameters should be passed using option\n",
      "`--name value1 value2`.\n"
     ]
    }
   ],
   "source": [
    "!sos run -h"
   ]
  },
  {
   "cell_type": "markdown",
   "metadata": {},
   "source": [
    "Please refer to section [SoS Syntax](SoS_Syntax.html) of the documentation and the tutorial on [Execution of Workflow](../tutorials/Execution_of_Workflow.html) for details about this command."
   ]
  },
  {
   "cell_type": "markdown",
   "metadata": {},
   "source": [
    "### subcommand `resume`"
   ]
  },
  {
   "cell_type": "code",
   "execution_count": 3,
   "metadata": {
    "kernel": "SoS"
   },
   "outputs": [
    {
     "name": "stdout",
     "output_type": "stream",
     "text": [
      "usage: sos resume [-h] [-s] [-w] [-W] [-v {0,1,2,3,4}] [-j JOBS]\n",
      "                  [-J EXTERNAL_JOBS]\n",
      "                  [workflow_id]\n",
      "\n",
      "Resume the execution or list status of suspended workflows\n",
      "\n",
      "positional arguments:\n",
      "  workflow_id           First few characters of the ID of a workflow as long\n",
      "                        as it uniquely identifies the workflow. The last\n",
      "                        executed workflow will be resumed if no workflow is\n",
      "                        specified.\n",
      "\n",
      "optional arguments:\n",
      "  -h, --help            show this help message and exit\n",
      "  -s, --status          Return the status of all or specified workflows\n",
      "                        without resuming them. This option will list status of\n",
      "                        all pending tasks.\n",
      "  -w                    Wait for the completion of external tasks regardless\n",
      "                        of the setting of individual task queue.\n",
      "  -W                    Do not wait for the completion of external tasks and\n",
      "                        quit SoS if all tasks are being executed by external\n",
      "                        task queues. This option overrides the default wait\n",
      "                        setting of task queues.\n",
      "  -v {0,1,2,3,4}, --verbosity {0,1,2,3,4}\n",
      "                        Output error (0), warning (1), info (2), debug (3) and\n",
      "                        trace (4) information to standard output (default to\n",
      "                        2).\n",
      "  -j JOBS               Maximum number of worker processes for the execution\n",
      "                        of the workflow if the workflow can be executed in\n",
      "                        parallel (namely having multiple starting points or\n",
      "                        execution branches).\n",
      "  -J EXTERNAL_JOBS      Maximum number of externally running tasks. This\n",
      "                        option overrides option \"max_running_jobs\" of a task\n",
      "                        queue (option -q) so that you can, for example, submit\n",
      "                        one job at a time (with -J 1) to test the task queue.\n"
     ]
    }
   ],
   "source": [
    "!sos resume -h"
   ]
  },
  {
   "cell_type": "markdown",
   "metadata": {},
   "source": [
    "### subcommand `dryrun`\n",
    "\n",
    "This command execute the script in dryrun mode. It is alias to command `sos run -n`."
   ]
  },
  {
   "cell_type": "code",
   "execution_count": 4,
   "metadata": {
    "kernel": "SoS"
   },
   "outputs": [
    {
     "name": "stdout",
     "output_type": "stream",
     "text": [
      "usage: sos dryrun [-h] [-c CONFIG_FILE] [-t FILES [FILES ...]] [-q [QUEUE]]\n",
      "                  [-d [DAG]] [-v {0,1,2,3,4}]\n",
      "                  SCRIPT [WORKFLOW]\n",
      "\n",
      "Execute workflow in dryrun mode. This mode is identical to run mode except\n",
      "that 1). Actions might behavior differently. In particular, script-running\n",
      "steps would print instead of execute script. 2). Steps will generate empty\n",
      "output files if specified output do not exist after execution. 3). Signature\n",
      "mode is set to ignore. 4). Option -q is ignored so all tasks are executed\n",
      "locally. 5). Tasks are generated but not executed.\n",
      "\n",
      "positional arguments:\n",
      "  SCRIPT                A SoS script that defines one or more workflows, in\n",
      "                        format .sos or .ipynb. The script can be a filename or\n",
      "                        a URL from which the content of a SoS will be read. If\n",
      "                        a valid file cannot be located or downloaded, SoS will\n",
      "                        search for the script, with specified name, and with\n",
      "                        added extension .sos and .ipynb, in a search path\n",
      "                        specified by variable `sos_path` defined in the global\n",
      "                        SoS configuration file (~/.sos/config.yml).\n",
      "  WORKFLOW              Name of the workflow to execute. This option can be\n",
      "                        ignored if the script defines a default workflow (with\n",
      "                        no name or with name `default`) or defines only a\n",
      "                        single workflow. A subworkflow or a combined workflow\n",
      "                        can also be specified, where a subworkflow executes a\n",
      "                        subset of workflow (`name_steps` where `steps` can be\n",
      "                        `n` (a step `n`), `:n` (up to step `n`), `n:m` (from\n",
      "                        step `n` to `m`), and `n:` (from step `n`)), and a\n",
      "                        combined workflow executes to multiple (sub)workflows\n",
      "                        combined by `+` (e.g. `A_0+B+C`).\n",
      "\n",
      "optional arguments:\n",
      "  -h, --help            show this help message and exit\n",
      "  -c CONFIG_FILE        A configuration file in the format of YAML/JSON. The\n",
      "                        content of the configuration file will be available as\n",
      "                        a dictionary CONF in the SoS script being executed.\n",
      "  -t FILES [FILES ...]  One of more files or alias of other targets that will\n",
      "                        be the target of execution. If specified, SoS will\n",
      "                        execute only part of a workflow or multiple workflows\n",
      "                        or auxiliary steps to generate specified targets.\n",
      "  -q [QUEUE]            host (server) or job queues to execute all tasks in\n",
      "                        the workflow. The queue can be defined in global or\n",
      "                        local sos configuration file, or a file specified by\n",
      "                        option --config. A host is assumed to be a remote\n",
      "                        machine with process type if no configuration is\n",
      "                        found. SoS will list all configured queues (with\n",
      "                        details varying by option -v) if this option is\n",
      "                        specified without value.\n",
      "\n",
      "Output options:\n",
      "  Output of workflow\n",
      "\n",
      "  -d [DAG]              Output Direct Acyclic Graph (DAGs) in graphiviz .dot\n",
      "                        format. An exntesion of \".dot\" would be added\n",
      "                        automatically. Because DAG could change during the\n",
      "                        execution of workflow, multiple DAGs could be outputed\n",
      "                        with names $FILE_1.dot, $FILE_2.dot. If this option is\n",
      "                        specified without a name, the DAG would be wrritten to\n",
      "                        the standard output.\n",
      "  -v {0,1,2,3,4}        Output error (0), warning (1), info (2), debug (3) and\n",
      "                        trace (4) information to standard output (default to\n",
      "                        2).\n",
      "\n",
      "Arbitrary parameters defined by the [parameters] step of the script, and\n",
      "[parameters] steps of other scripts if nested workflows are defined in other\n",
      "SoS files (option `source`). The name, default and type of the parameters are\n",
      "specified in the script. Single value parameters should be passed using option\n",
      "`--name value` and multi-value parameters should be passed using option\n",
      "`--name value1 value2`.\n"
     ]
    }
   ],
   "source": [
    "!sos dryrun -h"
   ]
  },
  {
   "cell_type": "markdown",
   "metadata": {},
   "source": [
    "Please refer to the tutorial on [Execution of Workflow](../tutorials/Execution_of_Workflow.html) for details about this command."
   ]
  },
  {
   "cell_type": "markdown",
   "metadata": {},
   "source": [
    "## Task Management"
   ]
  },
  {
   "cell_type": "markdown",
   "metadata": {
    "output_cache": "[]"
   },
   "source": [
    "### subcommand `execute`"
   ]
  },
  {
   "cell_type": "code",
   "execution_count": 5,
   "metadata": {
    "kernel": "SoS",
    "output_cache": "[{\"output_type\":\"stream\",\"text\":\"usage: sos execute [-h] [-s SIGMODE] [-v {0,1,2,3,4}] [-q QUEUE] [-c CONFIG]\\n                   tasks [tasks ...]\\n\\nExecute a packages task\\n\\npositional arguments:\\n  tasks                 IDs of the task.\\n\\noptional arguments:\\n  -h, --help            show this help message and exit\\n  -s SIGMODE            How runtime signature would be handled, which can be\\n                        \\\"default\\\" (save and use signature, default mode in\\n                        batch mode), \\\"ignore\\\" (ignore runtime signature,\\n                        default mode in interactive mode), \\\"force\\\" (ignore\\n                        existing signature and overwrite them while executing\\n                        the workflow), \\\"build\\\" (build new or overwrite\\n                        existing signature from existing environment and\\n                        output files), and \\\"assert\\\" for validating existing\\n                        files against their signatures. Please refer to online\\n                        documentation for details about the use of runtime\\n                        signatures.\\n  -v {0,1,2,3,4}        Output error (0), warning (1), info (2), debug (3) and\\n                        trace (4) information to standard output (default to\\n                        2).\\n  -q QUEUE, --queue QUEUE\\n                        Execute the task on the specified tasks queue or\\n                        remote host if the tasks . The queue must be defined\\n                        in SoS config file (system default or specified with\\n                        option --config). SoS would perform necessary file\\n                        synchronization and path translation according to\\n                        queue configuration, and send the task to appropriate\\n                        queue for execution. Please check SoS documentation\\n                        for details.\\n  -c CONFIG, --config CONFIG\\n                        A configuration file with host definitions, in case\\n                        the definitions are not defined in global or local sos\\n                        config.yml files.\\n\",\"name\":\"stdout\"}]"
   },
   "outputs": [
    {
     "name": "stdout",
     "output_type": "stream",
     "text": [
      "usage: sos execute [-h] [-s SIGMODE] [-v {0,1,2,3,4}] [-n] [-q [QUEUE]]\n",
      "                   [-c CONFIG] [-w]\n",
      "                   tasks [tasks ...]\n",
      "\n",
      "Execute a packages task\n",
      "\n",
      "positional arguments:\n",
      "  tasks                 IDs of the task.\n",
      "\n",
      "optional arguments:\n",
      "  -h, --help            show this help message and exit\n",
      "  -s SIGMODE            How runtime signature would be handled, which can be\n",
      "                        \"default\" (save and use signature, default mode in\n",
      "                        batch mode), \"ignore\" (ignore runtime signature,\n",
      "                        default mode in interactive mode), \"force\" (ignore\n",
      "                        existing signature and overwrite them while executing\n",
      "                        the workflow), \"build\" (build new or overwrite\n",
      "                        existing signature from existing environment and\n",
      "                        output files), and \"assert\" for validating existing\n",
      "                        files against their signatures. Please refer to online\n",
      "                        documentation for details about the use of runtime\n",
      "                        signatures.\n",
      "  -v {0,1,2,3,4}        Output error (0), warning (1), info (2), debug (3) and\n",
      "                        trace (4) information to standard output (default to\n",
      "                        2).\n",
      "  -n, --dryrun          Dryrun mode, which will cause actions to print scripts\n",
      "                        instead of executing them.\n",
      "  -q [QUEUE], --queue [QUEUE]\n",
      "                        Check the status of job on specified tasks queue or\n",
      "                        remote host if the tasks . The queue can be defined in\n",
      "                        global or local sos configuration file, or a file\n",
      "                        specified by option --config. A host is assumed to be\n",
      "                        a remote machine with process type if no configuration\n",
      "                        is found. SoS will list all configured queues (with\n",
      "                        details varying by option -v) if this option is\n",
      "                        specified without value.\n",
      "  -c CONFIG, --config CONFIG\n",
      "                        A configuration file with host definitions, in case\n",
      "                        the definitions are not defined in global or local sos\n",
      "                        config.yml files.\n",
      "  -w, --wait            Wait for the completion of the task, and retrieve job\n",
      "                        results if needed after the completion of the task.\n",
      "                        This option is only valid with the specification of\n",
      "                        the -q option.\n"
     ]
    }
   ],
   "source": [
    "!sos execute -h"
   ]
  },
  {
   "cell_type": "markdown",
   "metadata": {
    "output_cache": "[]"
   },
   "source": [
    "### subcommand `status`"
   ]
  },
  {
   "cell_type": "code",
   "execution_count": 6,
   "metadata": {
    "kernel": "SoS",
    "output_cache": "[{\"output_type\":\"stream\",\"text\":\"usage: sos status [-h] [-q QUEUE] [-c CONFIG] [-v {0,1,2,3,4}]\\n                  [tasks [tasks ...]]\\n\\nCheck the status of specified tasks\\n\\npositional arguments:\\n  tasks                 ID of the task. All tasks will be checked if\\n                        unspecified. There is no need to specify compelte task\\n                        IDs because SoS will match specified name with tasks\\n                        starting with these names.\\n\\noptional arguments:\\n  -h, --help            show this help message and exit\\n  -q QUEUE, --queue QUEUE\\n                        Check the status of job on specified tasks queue or\\n                        remote host if the tasks . The queue must be defined\\n                        in SoS config file. Please check SoS documentation for\\n                        details. Note that this parameter must be specified to\\n                        check the status of jobs if they are executed on that\\n                        host.\\n  -c CONFIG, --config CONFIG\\n                        A configuration file with host definitions, in case\\n                        the definitions are not defined in global or local sos\\n                        config.yml files.\\n  -v {0,1,2,3,4}        Output error (0), warning (1), info (2), debug (3) and\\n                        trace (4) information to standard output (default to\\n                        2).\\n\",\"name\":\"stdout\"}]"
   },
   "outputs": [
    {
     "name": "stdout",
     "output_type": "stream",
     "text": [
      "usage: sos status [-h] [-q [QUEUE]] [-c CONFIG] [-v {0,1,2,3,4}] [--age AGE]\n",
      "                  [--html]\n",
      "                  [tasks [tasks ...]]\n",
      "\n",
      "Check the status of specified tasks\n",
      "\n",
      "positional arguments:\n",
      "  tasks                 ID of the task. All tasks will be checked if\n",
      "                        unspecified. There is no need to specify compelete\n",
      "                        task IDs because SoS will match specified name with\n",
      "                        tasks starting with these names.\n",
      "\n",
      "optional arguments:\n",
      "  -h, --help            show this help message and exit\n",
      "  -q [QUEUE], --queue [QUEUE]\n",
      "                        Check the status of job on specified tasks queue or\n",
      "                        remote host if the tasks . The queue can be defined in\n",
      "                        global or local sos configuration file, or a file\n",
      "                        specified by option --config. A host is assumed to be\n",
      "                        a remote machine with process type if no configuration\n",
      "                        is found. SoS will list all configured queues (with\n",
      "                        details varying by option -v) if this option is\n",
      "                        specified without value.\n",
      "  -c CONFIG, --config CONFIG\n",
      "                        A configuration file with host definitions, in case\n",
      "                        the definitions are not defined in global or local sos\n",
      "                        config.yml files.\n",
      "  -v {0,1,2,3,4}        Output error (0), warning (1), info (2), debug (3) and\n",
      "                        trace (4) information to standard output (default to\n",
      "                        2).\n",
      "  --age AGE             Limit to tasks that are created more than (default) or\n",
      "                        within specified age. Value of this parameter can be\n",
      "                        in units s (second), m (minute), h (hour), or d (day,\n",
      "                        default), or in the foramt of HH:MM:SS, with optional\n",
      "                        prefix + for older (default) and - for newer than\n",
      "                        specified age.\n",
      "  --html                Output results in HTML format. This option will\n",
      "                        override option verbosity and output detailed status\n",
      "                        information in HTML tables and figures.\n"
     ]
    }
   ],
   "source": [
    "!sos status -h"
   ]
  },
  {
   "cell_type": "markdown",
   "metadata": {
    "output_cache": "[]"
   },
   "source": [
    "### subcommand `kill`"
   ]
  },
  {
   "cell_type": "code",
   "execution_count": 7,
   "metadata": {
    "kernel": "SoS",
    "output_cache": "[]"
   },
   "outputs": [
    {
     "name": "stdout",
     "output_type": "stream",
     "text": [
      "usage: sos kill [-h] [-a] [-q [QUEUE]] [-c CONFIG] [-v {0,1,2,3,4}]\n",
      "                [tasks [tasks ...]]\n",
      "\n",
      "Stop the execution of running task\n",
      "\n",
      "positional arguments:\n",
      "  tasks                 IDs of the tasks that will be killed. There is no need\n",
      "                        to specify compelete task IDs because SoS will match\n",
      "                        specified name with tasks starting with these names.\n",
      "\n",
      "optional arguments:\n",
      "  -h, --help            show this help message and exit\n",
      "  -a, --all             Kill all tasks in local or specified remote task queue\n",
      "  -q [QUEUE], --queue [QUEUE]\n",
      "                        Kill jobs on specified tasks queue or remote host if\n",
      "                        the tasks . The queue can be defined in global or\n",
      "                        local sos configuration file, or a file specified by\n",
      "                        option --config. A host is assumed to be a remote\n",
      "                        machine with process type if no configuration is\n",
      "                        found. SoS will list all configured queues (with\n",
      "                        details varying by option -v) if this option is\n",
      "                        specified without value.\n",
      "  -c CONFIG, --config CONFIG\n",
      "                        A configuration file with host definitions, in case\n",
      "                        the definitions are not defined in global or local sos\n",
      "                        config.yml files.\n",
      "  -v {0,1,2,3,4}, --verbosity {0,1,2,3,4}\n",
      "                        Output error (0), warning (1), info (2), debug (3) and\n",
      "                        trace (4) information to standard output (default to\n",
      "                        2).\n"
     ]
    }
   ],
   "source": [
    "!sos kill -h"
   ]
  },
  {
   "cell_type": "markdown",
   "metadata": {},
   "source": [
    "### subcommand `purge`"
   ]
  },
  {
   "cell_type": "code",
   "execution_count": 8,
   "metadata": {
    "kernel": "SoS",
    "scrolled": false
   },
   "outputs": [
    {
     "name": "stdout",
     "output_type": "stream",
     "text": [
      "usage: sos purge [-h] [-a] [--age AGE] [-s STATUS [STATUS ...]] [-q [QUEUE]]\n",
      "                 [-w [WORKFLOWS [WORKFLOWS ...]]] [-c CONFIG] [-v {0,1,2,3,4}]\n",
      "                 [tasks [tasks ...]]\n",
      "\n",
      "Remove local or remote tasks\n",
      "\n",
      "positional arguments:\n",
      "  tasks                 ID of the tasks to be removed. There is no need to\n",
      "                        specify compelete task IDs because SoS will match\n",
      "                        specified name with tasks starting with these names.\n",
      "                        If no task ID is specified, all tasks related to\n",
      "                        specified workflows (option -w) will be removed.\n",
      "\n",
      "optional arguments:\n",
      "  -h, --help            show this help message and exit\n",
      "  -a, --all             Clear all task information on local or specified\n",
      "                        remote task queue, including tasks created by other\n",
      "                        workflows.\n",
      "  --age AGE             Limit to tasks that are created more than (default) or\n",
      "                        within specified age. Value of this parameter can be\n",
      "                        in units s (second), m (minute), h (hour), or d (day,\n",
      "                        default), or in the foramt of HH:MM:SS, with optional\n",
      "                        prefix + for older (default) and - for newer than\n",
      "                        specified age.\n",
      "  -s STATUS [STATUS ...], --status STATUS [STATUS ...]\n",
      "                        Only remove tasks with specified status, which can be\n",
      "                        pending, submitted, running, completed, failed,\n",
      "                        aborted, and result-mismatch. One of more status can\n",
      "                        be specified.\n",
      "  -q [QUEUE], --queue [QUEUE]\n",
      "                        Remove tasks on specified tasks queue or remote host\n",
      "                        if the tasks . The queue can be defined in global or\n",
      "                        local sos configuration file, or a file specified by\n",
      "                        option --config. A host is assumed to be a remote\n",
      "                        machine with process type if no configuration is\n",
      "                        found. SoS will list all configured queues (with\n",
      "                        details varying by option -v) if this option is\n",
      "                        specified without value.\n",
      "  -w [WORKFLOWS [WORKFLOWS ...]], --workflows [WORKFLOWS [WORKFLOWS ...]]\n",
      "                        Remove tasks generated by specified task IDs. If no\n",
      "                        workflow is specified, all workflows in the current\n",
      "                        project will be assumed.\n",
      "  -c CONFIG, --config CONFIG\n",
      "                        A configuration file with host definitions, in case\n",
      "                        the definitions are not defined in global or local sos\n",
      "                        config.yml files.\n",
      "  -v {0,1,2,3,4}        Output error (0), warning (1), info (2), debug (3) and\n",
      "                        trace (4) information to standard output (default to\n",
      "                        2).\n"
     ]
    }
   ],
   "source": [
    "!sos purge -h"
   ]
  },
  {
   "cell_type": "markdown",
   "metadata": {},
   "source": [
    "### subcommand `pull`"
   ]
  },
  {
   "cell_type": "code",
   "execution_count": 1,
   "metadata": {
    "kernel": "SoS",
    "scrolled": true
   },
   "outputs": [
    {
     "name": "stdout",
     "output_type": "stream",
     "text": [
      "usage: sos pull [-h] (-q [QUEUE] | -r [HOST]) [-c CONFIG] [-v {0,1,2,3,4}] items [items ...]\n",
      "\n",
      "Pull files or directories from remote host to local host\n",
      "\n",
      "positional arguments:\n",
      "  items                 Files or directories to be retrieved from remote host. The files should be relative to local file system. The files to retrieve\n",
      "                        are determined by \"path_map\" determined by \"paths\" definitions of local and remote hosts.\n",
      "\n",
      "optional arguments:\n",
      "  -h, --help            show this help message and exit\n",
      "  -q [QUEUE], --queue [QUEUE]\n",
      "                        Remote host to which the files will be sent. SoS will use value specified by configuration key `default_queue`, or list all\n",
      "                        configured queues if no such key is defined\n",
      "  -r [HOST], --host [HOST]\n",
      "                        Remote host to which the files will be sent. SoS will use value specified by configuration key `default_host`, or list all\n",
      "                        configured queues if no such key is defined\n",
      "  -c CONFIG, --config CONFIG\n",
      "                        A configuration file with host definitions, in case the definitions are not defined in global or local sos config.yml files.\n",
      "  -v {0,1,2,3,4}, --verbosity {0,1,2,3,4}\n",
      "                        Output error (0), warning (1), info (2), debug (3) and trace (4) information to standard output (default to 2).\n"
     ]
    }
   ],
   "source": [
    "!sos pull -h"
   ]
  },
  {
   "cell_type": "markdown",
   "metadata": {},
   "source": [
    "### subcommand `push`"
   ]
  },
  {
   "cell_type": "code",
   "execution_count": 2,
   "metadata": {
    "kernel": "SoS"
   },
   "outputs": [
    {
     "name": "stdout",
     "output_type": "stream",
     "text": [
      "usage: sos push [-h] (-q [QUEUE] | -r [HOST]) [-c CONFIG] [-v {0,1,2,3,4}] items [items ...]\n",
      "\n",
      "Push local files or directory to a remote host\n",
      "\n",
      "positional arguments:\n",
      "  items                 Files or directories to be sent to remote host. The location of remote files are determined by \"path_map\" determined by \"paths\"\n",
      "                        definitions of local and remote hosts.\n",
      "\n",
      "optional arguments:\n",
      "  -h, --help            show this help message and exit\n",
      "  -q [QUEUE], --queue [QUEUE]\n",
      "                        Remote host to which the files will be sent. SoS will use value specified by configuration key `default_queue`, or list all\n",
      "                        configured queues if no such key is defined\n",
      "  -r [HOST], --host [HOST]\n",
      "                        Remote host to which the files will be sent. SoS will use value specified by configuration key `default_host`, or list all\n",
      "                        configured queues if no such key is defined\n",
      "  -c CONFIG, --config CONFIG\n",
      "                        A configuration file with host definitions, in case the definitions are not defined in global or local sos config.yml files.\n",
      "  -v {0,1,2,3,4}, --verbosity {0,1,2,3,4}\n",
      "                        Output error (0), warning (1), info (2), debug (3) and trace (4) information to standard output (default to 2).\n"
     ]
    }
   ],
   "source": [
    "!sos push -h"
   ]
  },
  {
   "cell_type": "markdown",
   "metadata": {
    "kernel": "sos"
   },
   "source": [
    "## Project Management"
   ]
  },
  {
   "cell_type": "markdown",
   "metadata": {},
   "source": [
    "### subcommand `convert`"
   ]
  },
  {
   "cell_type": "code",
   "execution_count": 9,
   "metadata": {
    "kernel": "SoS"
   },
   "outputs": [
    {
     "name": "stdout",
     "output_type": "stream",
     "text": [
      "usage: sos convert [-h] [-v {0,1,2,3,4}]\n",
      "                   {ipynb-html,ipynb-sos,sos-term,sos-ipynb,sos-html,ipynb-pdf,sos-md,ipynb-md}\n",
      "                   ...\n",
      "\n",
      "Converts .sos to various formats including .html for web display, to jupyter\n",
      "notebook (.ipynb), and to terminal for syntax highlighted viewing on terminal.\n",
      "It also allows converting from jupyter notebook (.ipynb) to sos script (.sos).\n",
      "\n",
      "optional arguments:\n",
      "  -h, --help            show this help message and exit\n",
      "  -v {0,1,2,3,4}, --verbosity {0,1,2,3,4}\n",
      "                        Output error (0), warning (1), info (2), debug (3) and\n",
      "                        trace (4) information to standard output (default to\n",
      "                        2).\n",
      "\n",
      "converters (name of converter is not needed from command line):\n",
      "  {ipynb-html,ipynb-sos,sos-term,sos-ipynb,sos-html,ipynb-pdf,sos-md,ipynb-md}\n",
      "    ipynb-html          Export Jupyter notebook with a SoS kernel to a .html\n",
      "                        file. Additional command line arguments are passed\n",
      "                        directly to command \"jupyter nbconvert --to html\" so\n",
      "                        please refer to nbconvert manual for available\n",
      "                        options.\n",
      "    ipynb-sos           Export Jupyter notebook with a SoS kernel to a .sos\n",
      "                        file. The cells are presented in the .sos file as cell\n",
      "                        structure lines, which will be ignored if executed in\n",
      "                        batch mode\n",
      "    sos-term            Write script to terminal with syntax highlighting.\n",
      "    sos-ipynb           Convert a sos script to Jupyter notebook (.ipynb) so\n",
      "                        that it can be opened by Jupyter notebook.\n",
      "    sos-html            Convert sos file to html format with syntax\n",
      "                        highlighting, and save the output either to a HTML\n",
      "                        file or view it in a broaser.\n",
      "    ipynb-pdf           Export Jupyter notebook with a SoS kernel to a .pdf\n",
      "                        file. Additional command line arguments are passed\n",
      "                        directly to command \"jupyter nbconvert --to pdf\" so\n",
      "                        please refer to nbconvert manual for available\n",
      "                        options.\n",
      "    sos-md              Convert SOS scriot to a markdown format with scripts\n",
      "                        quoted in markdown syntax.\n",
      "    ipynb-md            Export Jupyter notebook with a SoS kernel to a\n",
      "                        markdown file. Additional command line arguments are\n",
      "                        passed directly to command \"jupyter nbconvert --to\n",
      "                        markdown\" so please refer to nbconvert manual for\n",
      "                        available options.\n",
      "\n",
      "Extra command line argument could be specified to customize the style of html,\n",
      "markdown, and terminal output.\n"
     ]
    }
   ],
   "source": [
    "!sos convert -h"
   ]
  },
  {
   "cell_type": "markdown",
   "metadata": {},
   "source": [
    "Please refer to the [File Conversion](../tutorials/File_Conversion.html) tutorial for more details about this command."
   ]
  },
  {
   "cell_type": "markdown",
   "metadata": {},
   "source": [
    "### subcommand `preview`"
   ]
  },
  {
   "cell_type": "code",
   "execution_count": 1,
   "metadata": {
    "kernel": "SoS"
   },
   "outputs": [
    {
     "name": "stdout",
     "output_type": "stream",
     "text": [
      "usage: sos preview [-h] [-s {table,scatterplot,png}] [-r [HOST]] [-c CONFIG] [-v {0,1,2,3,4}] [items [items ...]]\n",
      "\n",
      "Preview files, sos variables, or expressions in the side panel, or notebook if side panel is not opened, unless options --panel or --notebook is\n",
      "specified.\n",
      "\n",
      "positional arguments:\n",
      "  items                 Filename, variable name, or expression. Wildcard characters such as '*' and '?' are allowed for filenames.\n",
      "\n",
      "optional arguments:\n",
      "  -h, --help            show this help message and exit\n",
      "  -s {table,scatterplot,png}, --style {table,scatterplot,png}\n",
      "                        Option for preview file or variable, which by default is \"table\" for Pandas DataFrame. The %preview magic also accepts\n",
      "                        arbitrary additional keyword arguments, which would be interpreted by individual style. Passing '-h' with '--style' would\n",
      "                        display the usage information of particular style.\n",
      "  -r [HOST], --host [HOST]\n",
      "                        Preview files on specified remote host, which should be defined under key host of sos configuration files (preferrably in\n",
      "                        ~/.sos/hosts.yml). If this option is specified without value, SoS will use value specified by configuration key `default_host`,\n",
      "                        or list all configured queues if no such key is defined\n",
      "  -c CONFIG, --config CONFIG\n",
      "                        A configuration file with host definitions, in case the definitions are not defined in global or local sos config.yml files.\n",
      "  -v {0,1,2,3,4}, --verbosity {0,1,2,3,4}\n",
      "                        Output error (0), warning (1), info (2), debug (3) and trace (4) information to standard output (default to 2).\n"
     ]
    }
   ],
   "source": [
    "!sos preview -h"
   ]
  },
  {
   "cell_type": "markdown",
   "metadata": {},
   "source": [
    "### subcommand `config`"
   ]
  },
  {
   "cell_type": "code",
   "execution_count": 10,
   "metadata": {
    "kernel": "SoS"
   },
   "outputs": [
    {
     "name": "stdout",
     "output_type": "stream",
     "text": [
      "usage: sos config [-h] [-g | --hosts | -c CONFIG_FILE]\n",
      "                  (--get [OPTION [OPTION ...]] | --unset OPTION [OPTION ...] | --set KEY VALUE [KEY VALUE ...])\n",
      "                  [-v {0,1,2,3,4}]\n",
      "\n",
      "Displays, set, and unset configuration variables defined in global or local\n",
      "configuration files.\n",
      "\n",
      "optional arguments:\n",
      "  -h, --help            show this help message and exit\n",
      "  -g, --global          If set, change global (~/.sos/config.yml) instead of\n",
      "                        local (.sos/config.yml) configuration\n",
      "  --hosts               If set, change hosts (~/.sos/hosts.yml) instead of\n",
      "                        local (.sos/config.yml) configuration\n",
      "  -c CONFIG_FILE, --config CONFIG_FILE\n",
      "                        User specified configuration file in YAML format. This\n",
      "                        file will not be automatically loaded by SoS but can\n",
      "                        be specified using option `-c`\n",
      "  --get [OPTION [OPTION ...]]\n",
      "                        Display values of specified configuration from all\n",
      "                        configuration files. The arguments of this option can\n",
      "                        be a single configuration option or a list of option.\n",
      "                        Wildcard characters are allowed to match more options\n",
      "                        (e.g. '*timeout', quotation is needed to avoid shell\n",
      "                        expansion). If no option is given, all options will be\n",
      "                        outputted.\n",
      "  --unset OPTION [OPTION ...]\n",
      "                        Unset (remove) settings for specified options. The\n",
      "                        arguments of this option can be a single configuration\n",
      "                        option or a list of option. Wildcard characters are\n",
      "                        allowed to match more options (e.g. '*timeout', or '*'\n",
      "                        for all options, quotation is needed to avoid shell\n",
      "                        expansion).\n",
      "  --set KEY VALUE [KEY VALUE ...]\n",
      "                        --set KEY VALUE sets VALUE to variable KEY. The value\n",
      "                        can be any valid python expression (e.g. 5 for integer\n",
      "                        5 and '{\"c\": 2, \"d\": 1}' for a dictionary) with\n",
      "                        invalid expression (e.g. val without quote) considered\n",
      "                        as string. Syntax 'A.B=v' can be used to add {'B': v}\n",
      "                        to dictionary 'A', and --set KEY VALUE1 VALUE2 ...\n",
      "                        will create a list with multiple values.\n",
      "  -v {0,1,2,3,4}, --verbosity {0,1,2,3,4}\n",
      "                        Output error (0), warning (1), info (2), debug (3) and\n",
      "                        trace (4) information to standard output (default to\n",
      "                        2).\n"
     ]
    }
   ],
   "source": [
    "!sos config -h"
   ]
  },
  {
   "cell_type": "markdown",
   "metadata": {},
   "source": [
    "Please refer to section [SoS Syntax](SoS_Syntax.html) for details about this command."
   ]
  },
  {
   "cell_type": "markdown",
   "metadata": {},
   "source": [
    "### subcommand `remove`"
   ]
  },
  {
   "cell_type": "code",
   "execution_count": 11,
   "metadata": {
    "kernel": "SoS"
   },
   "outputs": [
    {
     "name": "stdout",
     "output_type": "stream",
     "text": [
      "usage: sos remove [-h] [-t | -u | -s | -z] [-e] [--size SIZE] [--age AGE] [-n]\n",
      "                  [-y] [-v {0,1,2,3,4}]\n",
      "                  [FILE_OR_DIR [FILE_OR_DIR ...]]\n",
      "\n",
      "Remove specified files and/or their signatures\n",
      "\n",
      "positional arguments:\n",
      "  FILE_OR_DIR           Files and directories to be removed. Directories will\n",
      "                        be scanned for files to removed but no directory will\n",
      "                        be removed.\n",
      "\n",
      "optional arguments:\n",
      "  -h, --help            show this help message and exit\n",
      "  -t, --tracked         Limit files to only files tracked by SoS, namely files\n",
      "                        that are input, output, or dependent files of steps.\n",
      "  -u, --untracked       Limit files to untracked files, namely files that are\n",
      "                        not tracked by SoS steps.\n",
      "  -s, --signature       Remove signatures of specified files (not files\n",
      "                        themselves). As a special case, all local signatures\n",
      "                        will be removed if this option is specified without\n",
      "                        target.\n",
      "  -z, --zap             Replace files with their signatures. The file will not\n",
      "                        be regenerated by SoS unless is it actually needed by\n",
      "                        other steps. This option is usually used to remove\n",
      "                        large intermediate files from completed workflows\n",
      "                        while allowing relevant steps to be skipped during re-\n",
      "                        execution of the workflow.\n",
      "  -e, --external        By default the remove command will only remove files\n",
      "                        and signatures under the current project directory.\n",
      "                        This option allows sos to remove files and/or\n",
      "                        signature of external files.\n",
      "  --size SIZE           Limit to files that exceed or smaller than specified\n",
      "                        size. Value of option should be in unit K, M, KB, MB,\n",
      "                        MiB, GB, etc, with optional prefix + for larger than\n",
      "                        (default), or - for smaller than specified size.\n",
      "  --age AGE             Limit to files that are modified more than (default)\n",
      "                        or within specified age. Value of this parameter can\n",
      "                        be in units s (second), m (minute), h (hour), or d\n",
      "                        (day, default), or in the foramt of HH:MM:SS, with\n",
      "                        optional prefix + for older (default) and - for newer\n",
      "                        than specified age.\n",
      "  -n, --dryrun          List files or directories to be removed, without\n",
      "                        actually removing them.\n",
      "  -y, --yes             Remove files without confirmation, suitable for batch\n",
      "                        removal of files.\n",
      "  -v {0,1,2,3,4}, --verbosity {0,1,2,3,4}\n",
      "                        Output error (0), warning (1), info (2), debug (3) and\n",
      "                        trace (4) information to standard output (default to\n",
      "                        2).\n"
     ]
    }
   ],
   "source": [
    "!sos remove -h"
   ]
  },
  {
   "cell_type": "markdown",
   "metadata": {},
   "source": [
    "Please refer to the tutorial on [Project Management](../tutorials/Project_Management.html) for details about this command."
   ]
  },
  {
   "cell_type": "markdown",
   "metadata": {},
   "source": [
    "### subcommand `pack`"
   ]
  },
  {
   "cell_type": "code",
   "execution_count": 12,
   "metadata": {
    "kernel": "SoS"
   },
   "outputs": [
    {
     "name": "stdout",
     "output_type": "stream",
     "text": [
      "usage: sos pack [-h] [-o OUTPUT] [-i [INCLUDE [INCLUDE ...]]]\n",
      "                [-e [EXCLUDE [EXCLUDE ...]]] [-a] [-m MESSAGE] [-n] [-y]\n",
      "                [-v {0,1,2,3,4}]\n",
      "                [session]\n",
      "\n",
      "Collect sos scripts, all input, output, and tracked intermediate files related\n",
      "to a workflow run and bundle them into a single archive. The archive can be\n",
      "examined (without unpacking) with command \"sos show\" and be unpacked with\n",
      "command \"sos unpack\". This command does not include files outside of the\n",
      "current working directory unless they are specified by option --include, or\n",
      "--all.\n",
      "\n",
      "positional arguments:\n",
      "  session               ID of the session to be saved, which can be any number\n",
      "                        of digits as long as it can uniquely determine a\n",
      "                        workflow session. This parameter can be ignored if\n",
      "                        only one session is available.\n",
      "\n",
      "optional arguments:\n",
      "  -h, --help            show this help message and exit\n",
      "  -o OUTPUT, --output OUTPUT\n",
      "                        Output file, which can be a file with extension \".sar\"\n",
      "                        (the extension will be be automatically appended if\n",
      "                        needed), or \"-\" for standard output (default).\n",
      "  -i [INCLUDE [INCLUDE ...]], --include [INCLUDE [INCLUDE ...]]\n",
      "                        Additional files or directories to be incldued in the\n",
      "                        archive. SoS will archive all files under specified\n",
      "                        directories, including hidden directories such as\n",
      "                        \".git\". Option --exclude could be used to exclude\n",
      "                        these files.\n",
      "  -e [EXCLUDE [EXCLUDE ...]], --exclude [EXCLUDE [EXCLUDE ...]]\n",
      "                        Files that should be excluded from archive. The\n",
      "                        parameter should be one or more patterns that match\n",
      "                        the whole path (e.g. \"output/*.log\" or file or\n",
      "                        directory names such as \"tmp\" or \"*.bam\".\n",
      "  -a, --all             Include all tracked files even if they reside outside\n",
      "                        of the current working directory.\n",
      "  -m MESSAGE, --message MESSAGE\n",
      "                        A short message to be included into the archive.\n",
      "                        Because the message would be lost during unpacking, it\n",
      "                        is highly recommended that you create a README file\n",
      "                        and include it with option --include.\n",
      "  -n, --dryrun          List files to be included and total file size without\n",
      "                        actually archiving them\n",
      "  -y, --yes             Overwrite output file if it already exists\n",
      "  -v {0,1,2,3,4}, --verbosity {0,1,2,3,4}\n",
      "                        Output error (0), warning (1), info (2), debug (3) and\n",
      "                        trace (4) information to standard output (default to\n",
      "                        2).\n"
     ]
    }
   ],
   "source": [
    "!sos pack -h"
   ]
  },
  {
   "cell_type": "markdown",
   "metadata": {},
   "source": [
    "Please refer to the tutorial on [Project Management](../tutorials/Project_Management.html) for details about this command."
   ]
  },
  {
   "cell_type": "markdown",
   "metadata": {},
   "source": [
    "### subcommand `unpack`"
   ]
  },
  {
   "cell_type": "code",
   "execution_count": 13,
   "metadata": {
    "kernel": "SoS"
   },
   "outputs": [
    {
     "name": "stdout",
     "output_type": "stream",
     "text": [
      "usage: sos unpack [-h] [-d DEST] [-s] [-l] [-e] [-n] [-y] [-v {0,1,2,3,4}]\n",
      "                  archive [files [files ...]]\n",
      "\n",
      "Unpack a sos archive to a specified directory. For security reasons, files\n",
      "that were outside of the project directory would be extracted in this\n",
      "directory unless option -e is specified.\n",
      "\n",
      "positional arguments:\n",
      "  archive               SoS archive saved by command sos pack\n",
      "  files                 An optional list of files to be processed, which can\n",
      "                        be exact filenames or patterns (e.g. \"*.bam\"). No\n",
      "                        runtime information will be extracted if this option\n",
      "                        is specified.\n",
      "\n",
      "optional arguments:\n",
      "  -h, --help            show this help message and exit\n",
      "  -d DEST, --dest DEST  Directory where a sos archive would be unpacked.\n",
      "                        Default to current directory.\n",
      "  -s, --script          If specified, extract sos script(s) related to the\n",
      "                        workflow to the current or specified directory (option\n",
      "                        --dest), regardless of their original locations in the\n",
      "                        filesystem. Note that sos scripts are not extracted by\n",
      "                        default because they are usually external and it is\n",
      "                        dangerous to overwrite existing scripts with archived\n",
      "                        ones.\n",
      "  -l, --list            List content of the archive instead of extracting it.\n",
      "                        The names, uncompressed file sizes and modification\n",
      "                        dates and times of the specified files are printed,\n",
      "                        along with totals for all files specified.\n",
      "  -e, --external        Extract files outside of the project to their external\n",
      "                        destinations. This option can be dangerous because it\n",
      "                        can overwrite system files silently if accompanied\n",
      "                        with option -y.\n",
      "  -n, --no              Do not overwrite existing files without promoting\n",
      "                        users.\n",
      "  -y, --yes             Overwrite existing files without promoting users. This\n",
      "                        option can be dangerous to use. Note that SoS checks\n",
      "                        file signature and ignores existing files that are\n",
      "                        identical to those in the archive.\n",
      "  -v {0,1,2,3,4}, --verbosity {0,1,2,3,4}\n",
      "                        Output error (0), warning (1), info (2), debug (3) and\n",
      "                        trace (4) information to standard output (default to\n",
      "                        2).\n"
     ]
    }
   ],
   "source": [
    "!sos unpack -h"
   ]
  },
  {
   "cell_type": "markdown",
   "metadata": {},
   "source": [
    "Please refer to the tutorial on [Project Management](../tutorials/Project_Management.html) for details about this command."
   ]
  }
 ],
 "metadata": {
  "anaconda-cloud": {},
  "kernelspec": {
   "display_name": "SoS",
   "language": "sos",
   "name": "sos"
  },
  "language_info": {
   "codemirror_mode": "sos",
   "file_extension": ".sos",
   "mimetype": "text/x-sos",
   "name": "sos",
   "nbconvert_exporter": "sos.jupyter.converter.SoS_Exporter",
   "pygments_lexer": "sos"
  },
  "sos": {
   "celltoolbar": true,
   "kernels": [
    [
     "SoS",
     "sos",
     "",
     ""
    ],
    [
     "JavaScript",
     "javascript",
     "JavaScript",
     "#00ff80"
    ],
    [
     "Bash",
     "bash",
     "Bash",
     "#E6EEFF"
    ],
    [
     "SAS",
     "sas",
     "SAS",
     "#dcb9b9"
    ],
    [
     "Python2",
     "python2",
     "Python2",
     "#F6FAEA"
    ],
    [
     "Python3",
     "python3",
     "Python3",
     "#EAFAF1"
    ],
    [
     "R",
     "ir",
     "R",
     "#FDEDEC"
    ]
   ],
   "panel": {
    "displayed": true,
    "height": 0,
    "style": "side"
   }
  },
  "toc": {
   "colors": {
    "hover_highlight": "#DAA520",
    "running_highlight": "#FF0000",
    "selected_highlight": "#FFD700"
   },
   "moveMenuLeft": true,
   "nav_menu": {
    "height": "247px",
    "width": "254px"
   },
   "navigate_menu": true,
   "number_sections": true,
   "sideBar": true,
   "threshold": 4,
   "toc_cell": false,
   "toc_section_display": "block",
   "toc_window_display": true
  }
 },
 "nbformat": 4,
 "nbformat_minor": 1
}
