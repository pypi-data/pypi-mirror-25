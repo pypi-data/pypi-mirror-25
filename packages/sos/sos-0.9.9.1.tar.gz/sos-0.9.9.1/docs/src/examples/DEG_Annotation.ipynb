{
 "cells": [
  {
   "cell_type": "code",
   "execution_count": 1,
   "metadata": {
    "collapsed": true,
    "kernel": "SoS"
   },
   "outputs": [],
   "source": [
    "import pandas as pd\n",
    "data = pd.read_excel('DEG_list.xlsx')"
   ]
  },
  {
   "cell_type": "code",
   "execution_count": 2,
   "metadata": {
    "collapsed": true,
    "kernel": "R"
   },
   "outputs": [],
   "source": [
    "%get data"
   ]
  },
  {
   "cell_type": "code",
   "execution_count": 3,
   "metadata": {
    "collapsed": true,
    "kernel": "R"
   },
   "outputs": [],
   "source": [
    "library(biomaRt)\n",
    "ensembl <- useEnsembl(biomart='ensembl')\n",
    "#listDatasets(ensembl)\n",
    "ensembl <- useEnsembl(biomart=\"ensembl\", dataset=\"mmusculus_gene_ensembl\")\n",
    "                     \n",
    "hgnc <- getBM(attributes=c('ensembl_gene_id', 'external_gene_name'),\n",
    "        filters = 'ensembl_gene_id', values = data['ensembl_gene_id'], mart = ensembl)\n",
    "\n",
    "annotated <- merge(data, hgnc, by='ensembl_gene_id', all.x=TRUE)"
   ]
  },
  {
   "cell_type": "code",
   "execution_count": 4,
   "metadata": {
    "collapsed": true,
    "kernel": "SoS"
   },
   "outputs": [],
   "source": [
    "%get annotated --from R\n",
    "annotated = annotated.set_index('external_gene_name')\n",
    "annotated.sort_values(by='padj', inplace=True)\n",
    "annotated.to_excel('annotated_DEG_list.xlsx')"
   ]
  },
  {
   "cell_type": "code",
   "execution_count": null,
   "metadata": {
    "collapsed": true
   },
   "outputs": [],
   "source": []
  }
 ],
 "metadata": {
  "anaconda-cloud": {},
  "kernelspec": {
   "display_name": "SoS",
   "language": "sos",
   "name": "sos"
  },
  "language_info": {
   "codemirror_mode": "sos",
   "file_extension": ".sos",
   "mimetype": "text/x-sos",
   "name": "sos",
   "nbconvert_exporter": "sos.jupyter.converter.SoS_Exporter",
   "pygments_lexer": "sos"
  },
  "sos": {
   "kernels": [
    [
     "R",
     "ir",
     "R",
     "#FDEDEC"
    ],
    [
     "SoS",
     "sos",
     "",
     ""
    ],
    [
     "Bash",
     "bash",
     "Bash",
     "#E6EEFF"
    ],
    [
     "Python2",
     "python2",
     "Python2",
     "#F6FAEA"
    ],
    [
     "JavaScript",
     "javascript",
     "JavaScript",
     "#00ff80"
    ],
    [
     "Python3",
     "python3",
     "Python3",
     "#EAFAF1"
    ]
   ],
   "panel": {
    "displayed": true,
    "height": 0,
    "style": "side"
   }
  }
 },
 "nbformat": 4,
 "nbformat_minor": 2
}
