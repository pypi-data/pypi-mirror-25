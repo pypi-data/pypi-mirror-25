{
 "cells": [
  {
   "cell_type": "markdown",
   "metadata": {},
   "source": [
    "# SoS Docker Guide"
   ]
  },
  {
   "cell_type": "markdown",
   "metadata": {},
   "source": [
    "## What is docker and why it is helpful"
   ]
  },
  {
   "cell_type": "markdown",
   "metadata": {},
   "source": [
    "This is a big question to answer but in essence you can think docker containers as virtual machines with applications but without the bulky OS part, or applications with stripped down OSes. Docker containers are much more lightweight than virtual machines because all docker containers share the same core OS and related containers (e.g. different applications derived from the same CentOS or Ubuntu OS) share the same base container. Please refer to the [docker website](https://www.docker.com/) for details about docker. I have found it helpful to watch a few youtube videos on docker.\n",
    "\n",
    "The reason why docker is very helpful in building (bioinformatics) workflows are that \n",
    "\n",
    "1. Applications are encapsulated in docker containers so that they do not interfere with the underlying OS, and with other applications. For example, we can run a workflow with applications that based on different versions of Python2 and Python 3 without having to install them locally and calling the correct version of Python, because all applications use the specific version of Python and required libraries and tools inside their own containers.\n",
    "\n",
    "2. Workflows will be more stable and reproducible because unlike, for example, a local installation of Python that can be affected by other software and upgrades of python, Docker containers are stable and will not change.\n",
    "\n",
    "3. The same docker containers can be executed on different OS (e.g. various version of Linux, MacOSX etc) so your workflow built on a Mac OS workstation can be executed on a cluster environment.\n",
    "\n",
    "There are of course some complexity in the use of docker but SoS has made it extremely easy to use docker in your workflows. "
   ]
  },
  {
   "cell_type": "markdown",
   "metadata": {},
   "source": [
    "## Installing and configuring docker\n",
    "\n",
    "Docker is relatively new and is evolving very fast. It is crucial for you to install the latest version from [docker website](https://www.docker.com/). This website provides very detailed step by step instruction and you should have no problem installing docker on your machine. \n",
    "\n",
    "After installation, you should be able to start a docker terminal and run command\n",
    "\n",
    "```bash\n",
    "$ docker run hello-world\n",
    "```\n",
    "\n",
    "as suggested by the documentation. Depending on the different versions of docker (e.g. docker under windows), docker might be run under a virtual machine. It is very important to understand that **the configuration (e.g. RAM, CPU) of docker machines are different from the host machines** so your docker machine might be restricuted to, for example, 1 CPU, 1G of RAM, which is insufficient for any serious work. You will most likely need to re-configure your docker virtual machine (e.g. from VirtualBox app locate a machine named `default`)."
   ]
  },
  {
   "cell_type": "markdown",
   "metadata": {},
   "source": [
    "## Running a workflow with docker\n",
    "\n",
    "Running a docker-based workflow is easy because SoS will automatically download docker images and execute scripts inside docker container. Anyway, before you start any workflow running docker, it is a good idea to check if your docker daemon is running by"
   ]
  },
  {
   "cell_type": "code",
   "execution_count": 1,
   "metadata": {},
   "outputs": [
    {
     "name": "stdout",
     "output_type": "stream",
     "text": [
      "CONTAINER ID        IMAGE               COMMAND             CREATED             STATUS              PORTS               NAMES\n"
     ]
    }
   ],
   "source": [
    "!docker ps"
   ]
  },
  {
   "cell_type": "markdown",
   "metadata": {},
   "source": [
    "Now, suppose you do not have ruby installed locally and would like to run a ruby script, you can execute it inside a `ruby` container. Here we set option to `-v2` to demonstrate the actual command executed by SoS."
   ]
  },
  {
   "cell_type": "code",
   "execution_count": 2,
   "metadata": {},
   "outputs": [
    {
     "name": "stderr",
     "output_type": "stream",
     "text": [
      "INFO: Running \u001b[32minteractive_0\u001b[0m: \n",
      "INFO: docker run --rm   -v /Users:/Users -v /tmp:/tmp -v /Users/bpeng1/SOS/doc/pending/tmp8k4kemrk/docker_run_19836.rb:/var/lib/sos/docker_run_19836.rb    -t -P -w=/Users/bpeng1/SOS/doc/pending     ruby ruby /var/lib/sos/docker_run_19836.rb\n"
     ]
    }
   ],
   "source": [
    "%run -v2\n",
    "ruby: docker_image='ruby'\n",
    "    line1 = \"Cats are smarter than dogs\";\n",
    "    line2 = \"Dogs also like meat\";\n",
    "\n",
    "    if ( line1 =~ /Cats(.*)/ )\n",
    "      puts \"Line1 contains Cats\"\n",
    "    end\n",
    "    if ( line2 =~ /Cats(.*)/ )\n",
    "      puts \"Line2 contains  Dogs\"\n",
    "    end"
   ]
  },
  {
   "cell_type": "markdown",
   "metadata": {},
   "source": [
    "## Building a docker image\n",
    "\n",
    "Building a docker image is usually done outside of SoS if you are maintaining a collection of docker containers to be shared by your workflows, your groups, or everyone. However, if you need to create a docker image on-the-fly or would like to embed the Dockerfile inside a SoS script, you can use the `docker_build` action to build a docker container.\n",
    "\n",
    "For example, you can build a container for MISO as follows:\n",
    "\n",
    "```\n",
    "[miso_build]\n",
    "# building miso from a Dockerfile\n",
    "docker_build: tag='mdabioinfo/miso:latest'\n",
    "\n",
    "    ############################################################\n",
    "    # Dockerfile to build MISO container images\n",
    "    # Based on Anaconda python\n",
    "    ############################################################\n",
    "\n",
    "    # Set the base image to anaconda Python 2.7 (miso does not support python 3)\n",
    "    FROM continuumio/anaconda\n",
    "\n",
    "    # File Author / Maintainer\n",
    "    MAINTAINER Bo Peng <bpeng@mdanderson.org>\n",
    "\n",
    "    # Update the repository sources list\n",
    "    RUN apt-get update\n",
    "\n",
    "    # Install compiler and python stuff, samtools and git\n",
    "    RUN apt-get install --yes \\\n",
    "     build-essential \\\n",
    "     gcc-multilib \\\n",
    "     gfortran \\ \n",
    "     apt-utils \\\n",
    "     libblas3 \\ \n",
    "     liblapack3 \\\n",
    "     libc6 \\\n",
    "     cython \\ \n",
    "     samtools \\\n",
    "     libbam-dev \\\n",
    "     bedtools \\\n",
    "     wget \\\n",
    "     zlib1g-dev \\ \n",
    "     tar \\\n",
    "     gzip\n",
    "\n",
    "    WORKDIR /usr/local\n",
    "    RUN pip install misopy\n",
    "```\n",
    "\n",
    "Command\n",
    "\n",
    "```\n",
    "sos run script miso_build\n",
    "```\n",
    "\n",
    "would build a docker image `mdabioinfo/miso:latest` that can be used by other SoS steps."
   ]
  },
  {
   "cell_type": "markdown",
   "metadata": {},
   "source": [
    "## Writing a workflow with docker support\n",
    "\n",
    "Writing a workflow with docker support is a bit more complicated because you will need to understand a few concepts of docker, so reading through the [docker run manual](https://docs.docker.com/engine/reference/run/) should be helpful. The most important concept is **Volumes**, whch is how the host directories are mounted to a docker container so that the command executed inside the container can access (and change) files on the host machine. SoS helps the use of docker by\n",
    "\n",
    "* Automatically mounts `/tmp` to `/tmp` \n",
    "* Automatically mounts `/Users` to `/Users` under MacOS X\n",
    "* Automatically mounts user script inside docker and execute it as `/var/lib/sos/xxxxx`\n",
    "\n",
    "so that step `input` and `output` are almost always identical inside and outside of docker. \n",
    "\n",
    "To use existing public docker container, you will need to specify its tag using option `docker_image`. For example, to use `compbio/ngseasy-fastqc` container to run `fastqc`, instead of installing `fastqc` locally, you can do\n",
    "\n",
    "```\n",
    "[MISO_1]\n",
    "run:     docker_image='compbio/ngseasy-fastqc:1.0-r001'\n",
    "    fastqc ${input} -o /tmp\n",
    "```\n",
    "\n",
    "(More to follow)"
   ]
  },
  {
   "cell_type": "markdown",
   "metadata": {},
   "source": [
    "## Limitations\n",
    "\n",
    "* Virtual Box virtual machine does not support symbolic link so running `ln -s` inside a docker machine under Mac will cause a strange error message `Read-only file system`."
   ]
  }
 ],
 "metadata": {
  "anaconda-cloud": {},
  "kernelspec": {
   "display_name": "SoS",
   "language": "sos",
   "name": "sos"
  },
  "language_info": {
   "codemirror_mode": "sos",
   "file_extension": ".sos",
   "mimetype": "text/x-sos",
   "name": "sos",
   "nbconvert_exporter": "sos.jupyter.converter.SoS_Exporter",
   "pygments_lexer": "sos"
  },
  "sos": {
   "kernels": [
    [
     "Bash",
     "bash",
     "Bash",
     "#E6EEFF"
    ],
    [
     "JavaScript",
     "javascript",
     "JavaScript",
     "#00ff80"
    ],
    [
     "Python2",
     "python2",
     "Python2",
     "#F6FAEA"
    ],
    [
     "rik_local_remote",
     "rik_local_remote",
     "",
     ""
    ],
    [
     "R",
     "ir",
     "R",
     "#FDEDEC"
    ],
    [
     "Python3",
     "python3",
     "Python3",
     "#EAFAF1"
    ],
    [
     "SoS",
     "sos",
     "",
     ""
    ]
   ],
   "panel": {
    "displayed": true,
    "height": 0,
    "style": "side"
   }
  }
 },
 "nbformat": 4,
 "nbformat_minor": 1
}
