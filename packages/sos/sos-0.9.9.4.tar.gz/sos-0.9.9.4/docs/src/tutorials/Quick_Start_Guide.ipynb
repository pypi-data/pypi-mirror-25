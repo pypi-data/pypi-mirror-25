{
 "cells": [
  {
   "cell_type": "markdown",
   "metadata": {},
   "source": [
    "# Quick Start Guide"
   ]
  },
  {
   "cell_type": "markdown",
   "metadata": {},
   "source": [
    "Before we start our tutorial, it is important to understand a SoS script can be executed from command line in batch mode, or interactively in Jupyter notebook. This tutorial is written in Jupyter but you can execute the scripts in batch mode if you save them to disk and execute them using command `sos run` or `sos-runner`. There are some minor differences in executing scripts in these modes so the following cell turns on more output (`-v2`), change default signature mode to `default` (`-s default`), and turn off automatic output preview (`%preview --off`). It then creates some empty files as input files of the sample workflows and remove existing runtime signatures by executing some shell commands (`!cmd`). Please refer to [Chapter Notebook Interface](../documentation/Notebook_Interface.html) of the SoS documentation if you would like to learn more about them."
   ]
  },
  {
   "cell_type": "code",
   "execution_count": 1,
   "metadata": {
    "kernel": "sos"
   },
   "outputs": [
    {
     "name": "stdout",
     "output_type": "stream",
     "text": [
      "Set sos options to \"-v2 -s default\"\n"
     ]
    }
   ],
   "source": [
    "%set -v2 -s default\n",
    "%preview --off\n",
    "!touch mutated.fastq control.fastq ctrl.fastq case.fastq\n",
    "!cp STAR Rscript ~/.sos/bin/\n",
    "!sos remove --signature -v 0"
   ]
  },
  {
   "cell_type": "markdown",
   "metadata": {},
   "source": [
    "## Multi-Language Notebook"
   ]
  },
  {
   "cell_type": "markdown",
   "metadata": {},
   "source": [
    "Let us assume that you are a bioinformaticist needed to compare the expression levels between two samples. You can use a Jupyter notebook with SoS kernel to perform the analysis using different script, the trick here is to select the right kernel for each cell. For example, you can run the following cell in bash if you choose `bash` as the kernel."
   ]
  },
  {
   "cell_type": "code",
   "execution_count": 2,
   "metadata": {
    "kernel": "bash"
   },
   "outputs": [
    {
     "name": "stdout",
     "output_type": "stream",
     "text": [
      "Generating STAR_index/chrName.txt\n",
      "Generating aligned/control.out.tab from control.fastq\n",
      "Generating aligned/mutated.out.tab from mutated.fastq\n"
     ]
    }
   ],
   "source": [
    "# index reference genome\n",
    "STAR --runMode genomeGenerate --genomeFastaFile human38.fastq \\\n",
    "    --genomeDir STAR_index\n",
    "# align reads to the reference genome\n",
    "STAR --genomeDir STAR_index --outSAMtype BAM SortedByCoordinate \\\n",
    "    --readFilesIn control.fastq --quantMode GeneCounts \\\n",
    "    --outFileNamePrefix aligned/control\n",
    "STAR --genomeDir STAR_index --outSAMtype BAM SortedByCoordinate \\\n",
    "    --readFilesIn mutated.fastq --quantMode GeneCounts \\\n",
    "    --outFileNamePrefix aligned/mutated"
   ]
  },
  {
   "cell_type": "markdown",
   "metadata": {
    "collapsed": true
   },
   "source": [
    "The first command builds an index of the reference genome in preparation for the latter steps, the second command aligns reads from the first sample to the reference genome, and the third command aligns reads from the second sample to the reference genome. Do not panic if you do not know what these commands are doing, this is just an example.\n",
    "\n",
    "These commands generate, among other files, two files named ``aligned/control.out.tab`` and ``aligned/mutated.out.tab`` with expression counts of all genes. You then wrote a [R](https://www.r-project.org/) script to analyze the results, something like"
   ]
  },
  {
   "cell_type": "code",
   "execution_count": 3,
   "metadata": {
    "kernel": "ir"
   },
   "outputs": [
    {
     "data": {
      "text/html": [
       "<strong>pdf:</strong> 2"
      ],
      "text/latex": [
       "\\textbf{pdf:} 2"
      ],
      "text/markdown": [
       "**pdf:** 2"
      ],
      "text/plain": [
       "pdf \n",
       "  2 "
      ]
     },
     "metadata": {},
     "output_type": "display_data"
    }
   ],
   "source": [
    "control.count <- read.table('aligned/control.out.tab')\n",
    "mutated.count <- read.table('aligned/mutated.out.tab')\n",
    "# normalize, compare, output etc, ignored.\n",
    "pdf('myfigure.pdf')\n",
    "# plot results\n",
    "dev.off()"
   ]
  },
  {
   "cell_type": "markdown",
   "metadata": {
    "kernel": "sos"
   },
   "source": [
    "## String Interpolation"
   ]
  },
  {
   "cell_type": "markdown",
   "metadata": {},
   "source": [
    "It is nice to run scripts in different langauges and record results in a notebook script, but the above example is not much different from running two separate scripts from command line. Because different steps of data analysis are naturally connected, it would be good to share information among them. This can be achived by passing (Python) variables defined in the SoS kernel to the subkernels.\n",
    "\n",
    "For example, if we define the directory for `STAR` index and align output,"
   ]
  },
  {
   "cell_type": "code",
   "execution_count": 4,
   "metadata": {
    "kernel": "sos"
   },
   "outputs": [
    {
     "name": "stderr",
     "output_type": "stream",
     "text": [
      "INFO: Running \u001b[32minteractive_0\u001b[0m: \n",
      "INFO: Workflow interactive (ID=b138a0442b0e7292) is executed successfully.\n"
     ]
    }
   ],
   "source": [
    "INDEXDIR = 'STAR_index'\n",
    "ALIGNDIR = 'aligned'"
   ]
  },
  {
   "cell_type": "markdown",
   "metadata": {},
   "source": [
    "we can pass the variable to subkernels through string interpolation, which replaces expressions enbraced by `${` and `}` with the values. For example, the shell script could be written as"
   ]
  },
  {
   "cell_type": "code",
   "execution_count": 5,
   "metadata": {
    "kernel": "bash"
   },
   "outputs": [
    {
     "name": "stdout",
     "output_type": "stream",
     "text": [
      "STAR --runMode genomeGenerate --genomeFastaFile human38.fastq \\\n",
      "    --genomeDir STAR_index\n",
      "# align reads to the reference genome\n",
      "STAR --genomeDir STAR_index --outSAMtype BAM SortedByCoordinate \\\n",
      "    --readFilesIn control.fastq --quantMode GeneCounts \\\n",
      "    --outFileNamePrefix aligned/control\n",
      "STAR --genomeDir STAR_index --outSAMtype BAM SortedByCoordinate \\\n",
      "    --readFilesIn mutated.fastq --quantMode GeneCounts \\\n",
      "    --outFileNamePrefix aligned/mutated\n",
      "## -- End interpolated command --\n",
      "Generating STAR_index/chrName.txt\n",
      "Generating aligned/control.out.tab from control.fastq\n",
      "Generating aligned/mutated.out.tab from mutated.fastq\n"
     ]
    }
   ],
   "source": [
    "# index reference genome\n",
    "STAR --runMode genomeGenerate --genomeFastaFile human38.fastq \\\n",
    "    --genomeDir ${INDEXDIR}\n",
    "# align reads to the reference genome\n",
    "STAR --genomeDir STAR_index --outSAMtype BAM SortedByCoordinate \\\n",
    "    --readFilesIn control.fastq --quantMode GeneCounts \\\n",
    "    --outFileNamePrefix ${ALIGNDIR}/control\n",
    "STAR --genomeDir STAR_index --outSAMtype BAM SortedByCoordinate \\\n",
    "    --readFilesIn mutated.fastq --quantMode GeneCounts \\\n",
    "    --outFileNamePrefix ${ALIGNDIR}/mutated"
   ]
  },
  {
   "cell_type": "markdown",
   "metadata": {},
   "source": [
    "where expressions such as `${align_dir}` are replaced with their values before the script is interpreted by bash. Similarly, the R script could make use of varialbe `align_dir`."
   ]
  },
  {
   "cell_type": "code",
   "execution_count": 6,
   "metadata": {
    "kernel": "ir"
   },
   "outputs": [
    {
     "name": "stdout",
     "output_type": "stream",
     "text": [
      "control.count <- read.table('aligned/control.out.tab')\n",
      "mutated.count <- read.table('aligned/mutated.out.tab')\n",
      "# normalize, compare, output etc, ignored.\n",
      "pdf('myfigure.pdf')\n",
      "# plot results\n",
      "dev.off()\n",
      "## -- End interpolated command --\n"
     ]
    },
    {
     "data": {
      "text/html": [
       "<strong>pdf:</strong> 2"
      ],
      "text/latex": [
       "\\textbf{pdf:} 2"
      ],
      "text/markdown": [
       "**pdf:** 2"
      ],
      "text/plain": [
       "pdf \n",
       "  2 "
      ]
     },
     "metadata": {},
     "output_type": "display_data"
    }
   ],
   "source": [
    "control.count <- read.table('${ALIGNDIR}/control.out.tab')\n",
    "mutated.count <- read.table('${ALIGNDIR}/mutated.out.tab')\n",
    "# normalize, compare, output etc, ignored.\n",
    "pdf('myfigure.pdf')\n",
    "# plot results\n",
    "dev.off()"
   ]
  },
  {
   "cell_type": "markdown",
   "metadata": {},
   "source": [
    "SoS accepts and expands [python format specification and conversion operators](https://docs.python.org/3.5/library/string.html#formatspec) and allows you convert and format the result of expressions. Please refer to [SoS Syntax](../documentation/SoS_Syntax.html) for details."
   ]
  },
  {
   "cell_type": "markdown",
   "metadata": {},
   "source": [
    "## Data Exchange among subkernels"
   ]
  },
  {
   "cell_type": "markdown",
   "metadata": {},
   "source": [
    "String interpolation is useful for composing scripts to be executed by subkernels, but it would be awkward to pass a large amount of information in this way, and it disallows passing information among subkernels.\n",
    "\n",
    "SoS provides a few `magics` to faciliate data exchange among subkernels. For example, the `%get` magic retrieves information from the SoS kernel to a subkernel, so your shell script could be written as:  "
   ]
  },
  {
   "cell_type": "code",
   "execution_count": 7,
   "metadata": {
    "kernel": "bash"
   },
   "outputs": [
    {
     "name": "stdout",
     "output_type": "stream",
     "text": [
      "Generating STAR_index/chrName.txt\n",
      "Generating aligned/control.out.tab from control.fastq\n",
      "Generating aligned/mutated.out.tab from mutated.fastq\n"
     ]
    }
   ],
   "source": [
    "%get INDEXDIR ALIGNDIR\n",
    "# index reference genome\n",
    "STAR --runMode genomeGenerate --genomeFastaFile human38.fastq \\\n",
    "    --genomeDir $INDEXDIR\n",
    "# align reads to the reference genome\n",
    "STAR --genomeDir STAR_index --outSAMtype BAM SortedByCoordinate \\\n",
    "    --readFilesIn control.fastq --quantMode GeneCounts \\\n",
    "    --outFileNamePrefix $ALIGNDIR/control\n",
    "STAR --genomeDir STAR_index --outSAMtype BAM SortedByCoordinate \\\n",
    "    --readFilesIn mutated.fastq --quantMode GeneCounts \\\n",
    "    --outFileNamePrefix $ALIGNDIR/mutated"
   ]
  },
  {
   "cell_type": "markdown",
   "metadata": {},
   "source": [
    "after retriving `INDEXDIR` and `ALIGNDIR` from the SoS kernel and create two native shell variables `INDEXDIR` and `ALIGNDIR`. Similarly, your R script could be written as"
   ]
  },
  {
   "cell_type": "code",
   "execution_count": 8,
   "metadata": {
    "kernel": "ir"
   },
   "outputs": [
    {
     "data": {
      "text/html": [
       "<strong>pdf:</strong> 2"
      ],
      "text/latex": [
       "\\textbf{pdf:} 2"
      ],
      "text/markdown": [
       "**pdf:** 2"
      ],
      "text/plain": [
       "pdf \n",
       "  2 "
      ]
     },
     "metadata": {},
     "output_type": "display_data"
    }
   ],
   "source": [
    "%get ALIGNDIR\n",
    "control.count <- read.table(paste0(ALIGNDIR, '/control.out.tab'))\n",
    "mutated.count <- read.table(paste0(ALIGNDIR, '/mutated.out.tab'))\n",
    "# normalize, compare, output etc, ignored.\n",
    "pdf('myfigure.pdf')\n",
    "# plot results\n",
    "dev.off()"
   ]
  },
  {
   "cell_type": "markdown",
   "metadata": {},
   "source": [
    "The subkernels are persistent so the passed variables can be used in later cells using the same kernel, for example, variable `ALIGNDIR` can be used in the Bash kernel in new commands as follows:"
   ]
  },
  {
   "cell_type": "code",
   "execution_count": 9,
   "metadata": {
    "kernel": "bash"
   },
   "outputs": [
    {
     "name": "stdout",
     "output_type": "stream",
     "text": [
      "Align directory is aligned\n"
     ]
    }
   ],
   "source": [
    "echo Align directory is $ALIGNDIR"
   ]
  },
  {
   "cell_type": "markdown",
   "metadata": {},
   "source": [
    "Note that SoS magics and multiple live subkernels are only supported by Jupyter notebook and cannot be used in SoS batch mode."
   ]
  },
  {
   "cell_type": "markdown",
   "metadata": {},
   "source": [
    "## Your first SoS script"
   ]
  },
  {
   "cell_type": "markdown",
   "metadata": {},
   "source": [
    "The project completed successfully and you needed to archive the scripts for later reference. The Jupyter notebook is a perfect format to record both the commands and the results. However, if you would like to only save the steps of your analysis, you can save the notebook in `.sos` format (`File`->`Download As`->`.sos`) or copy/paste the commands to a single SoS script named ``myanalysis.sos``, with content"
   ]
  },
  {
   "cell_type": "code",
   "execution_count": 10,
   "metadata": {
    "kernel": "sos"
   },
   "outputs": [
    {
     "name": "stderr",
     "output_type": "stream",
     "text": [
      "INFO: Running \u001b[32minteractive_0\u001b[0m: \n"
     ]
    },
    {
     "name": "stdout",
     "output_type": "stream",
     "text": [
      "Generating STAR_index/chrName.txt\n",
      "Generating aligned/control.out.tab from control.fastq\n",
      "Generating aligned/mutated.out.tab from mutated.fastq\n",
      "Generating myfigure.pdf\n"
     ]
    },
    {
     "name": "stderr",
     "output_type": "stream",
     "text": [
      "INFO: Workflow interactive (ID=868b4f6042b50900) is executed successfully.\n"
     ]
    }
   ],
   "source": [
    "#!/usr/bin/env sos-runner\n",
    "#fileformat=SOS1.0\n",
    "\n",
    "# This script aligns raw reads of a control and a mutated sample\n",
    "# to the reference genome and compare the expression values\n",
    "# of the samples at genes A, B and C.\n",
    "\n",
    "run:\n",
    "# index reference genome\n",
    "STAR --runMode genomeGenerate --genomeFastaFile human38.fastq \\\n",
    "    --genomeDir STAR_index\n",
    "\n",
    "# align reads to the reference genome\n",
    "STAR --genomeDir STAR_index --outSAMtype BAM SortedByCoordinate \\\n",
    "    --readFilesIn control.fastq --quantMode GeneCounts \\\n",
    "    --outFileNamePrefix aligned/control\n",
    "STAR --genomeDir STAR_index --outSAMtype BAM SortedByCoordinate \\\n",
    "    --readFilesIn mutated.fastq --quantMode GeneCounts \\\n",
    "    --outFileNamePrefix aligned/mutated\n",
    "\n",
    "R:\n",
    "control.count <- read.table('aligned/control.out.tab')\n",
    "mutated.count <- read.table('aligned/mutated.out.tab')\n",
    "# normalize, compare, output etc, ignored.\n",
    "pdf('myfigure.pdf')\n",
    "# plot results\n",
    "dev.off()"
   ]
  },
  {
   "cell_type": "markdown",
   "metadata": {},
   "source": [
    "Here **`run`** and **`R`** are SoS actions that executes the following scripts in `bash` and `R` respectively. The scripts are included verbatim and end after reaching another SoS action or directive. For the sake of time, we created fake `STAR` and `R` commands that simply states the file generated.\n",
    "\n",
    "The script is executed in Jupyter when the notebook (this documentation) is executed. In command line, you would need to run the script using command\n",
    "\n",
    "```\n",
    "% sos run myscript\n",
    "```\n",
    "\n",
    "or\n",
    "\n",
    "```\n",
    "% myscript.sos\n",
    "```\n",
    "\n",
    "if you make `myscript.sos` executable (by running `chmod +x myscript.sos`. \n",
    "\n",
    "As you can see, this sos script simply executes the embedded shell and R script and generates the four output files."
   ]
  },
  {
   "cell_type": "markdown",
   "metadata": {},
   "source": [
    "Although it is convenient to embed scripts verbatim, it is often clearer to indent the script and write your SoS script as:"
   ]
  },
  {
   "cell_type": "code",
   "execution_count": 11,
   "metadata": {
    "kernel": "sos"
   },
   "outputs": [
    {
     "name": "stderr",
     "output_type": "stream",
     "text": [
      "INFO: Running \u001b[32minteractive_0\u001b[0m: \n"
     ]
    },
    {
     "name": "stdout",
     "output_type": "stream",
     "text": [
      "Generating STAR_index/chrName.txt\n",
      "Generating aligned/control.out.tab from control.fastq\n",
      "Generating aligned/mutated.out.tab from mutated.fastq\n",
      "Generating myfigure.pdf\n"
     ]
    },
    {
     "name": "stderr",
     "output_type": "stream",
     "text": [
      "INFO: Workflow interactive (ID=585d898c6b6548e9) is executed successfully.\n"
     ]
    }
   ],
   "source": [
    "#!/usr/bin/env sos-runner\n",
    "#fileformat=SOS1.0\n",
    "\n",
    "# This script aligns raw reads of a control and a mutated sample\n",
    "# to the reference genome and compare the expression values\n",
    "# of the samples at genes A, B and C.\n",
    "\n",
    "run:\n",
    "    # index reference genome\n",
    "    STAR --runMode genomeGenerate --genomeFastaFile human38.fastq\\\n",
    "        --genomeDir STAR_index\n",
    "\n",
    "    # align reads to the reference genome\n",
    "    STAR --genomeDir STAR_index --outSAMtype BAM SortedByCoordinate \\\n",
    "        --readFilesIn control.fastq --quantMode GeneCounts \\\n",
    "        --outFileNamePrefix aligned/control\n",
    "    STAR --genomeDir STAR_index --outSAMtype BAM SortedByCoordinate \\\n",
    "        --readFilesIn mutated.fastq --quantMode GeneCounts \\\n",
    "        --outFileNamePrefix aligned/mutated\n",
    "\n",
    "# compare expression values\n",
    "R:\n",
    "    control.count <- read.table('aligned/control.out.tab')\n",
    "    mutated.count <- read.table('aligned/mutated.out.tab')\n",
    "    # normalize, compare, output etc, ignored.\n",
    "    pdf('myfigure.pdf')\n",
    "    # plot results\n",
    "    dev.off()"
   ]
  },
  {
   "cell_type": "markdown",
   "metadata": {},
   "source": [
    "The scripts in this case end with the end of indentation so that you can add some comments for the `R` script without being considered as part of the previous script. The script works identically to the one without indentation."
   ]
  },
  {
   "cell_type": "markdown",
   "metadata": {},
   "source": [
    "## Separate scripts into steps"
   ]
  },
  {
   "cell_type": "markdown",
   "metadata": {},
   "source": [
    "Because the scripts perform different tasks, it is logically clearer to separate them into different **steps**. Actually, because the first reference-generating command is not a data processing step, it makes sense to separate it into two scripts. Now we can insert step headers to the script as follows:"
   ]
  },
  {
   "cell_type": "code",
   "execution_count": 12,
   "metadata": {
    "kernel": "sos"
   },
   "outputs": [
    {
     "name": "stderr",
     "output_type": "stream",
     "text": [
      "INFO: Running \u001b[32mdefault_1\u001b[0m: index reference genome\n"
     ]
    },
    {
     "name": "stdout",
     "output_type": "stream",
     "text": [
      "Generating STAR_index/chrName.txt\n"
     ]
    },
    {
     "name": "stderr",
     "output_type": "stream",
     "text": [
      "INFO: Running \u001b[32mdefault_2\u001b[0m: align reads to the reference genome\n"
     ]
    },
    {
     "name": "stdout",
     "output_type": "stream",
     "text": [
      "Generating aligned/control.out.tab from control.fastq\n",
      "Generating aligned/mutated.out.tab from mutated.fastq\n"
     ]
    },
    {
     "name": "stderr",
     "output_type": "stream",
     "text": [
      "INFO: Running \u001b[32mdefault_3\u001b[0m: compare expression values\n"
     ]
    },
    {
     "name": "stdout",
     "output_type": "stream",
     "text": [
      "Generating myfigure.pdf\n"
     ]
    },
    {
     "name": "stderr",
     "output_type": "stream",
     "text": [
      "INFO: Workflow default (ID=160b0c267773e5bc) is executed successfully.\n"
     ]
    }
   ],
   "source": [
    "#!/usr/bin/env sos-runner\n",
    "#fileformat=SOS1.0\n",
    "\n",
    "# This script aligns raw reads of a control and a mutated sample\n",
    "# to the reference genome and compare the expression values\n",
    "# of the samples at genes A, B and C.\n",
    "\n",
    "[1]\n",
    "# index reference genome\n",
    "run:\n",
    "    STAR --runMode genomeGenerate --genomeFastaFile human38.fastq \\\n",
    "        --genomeDir STAR_index\n",
    "\n",
    "[2]\n",
    "# align reads to the reference genome\n",
    "run:\n",
    "    STAR --genomeDir STAR_index --outSAMtype BAM SortedByCoordinate \\\n",
    "        --readFilesIn control.fastq --quantMode GeneCounts \\\n",
    "        --outFileNamePrefix aligned/control\n",
    "    STAR --genomeDir STAR_index --outSAMtype BAM SortedByCoordinate \\\n",
    "        --readFilesIn mutated.fastq --quantMode GeneCounts \\\n",
    "        --outFileNamePrefix aligned/mutated\n",
    "\n",
    "[3]\n",
    "# compare expression values\n",
    "R:\n",
    "    control.count <- read.table('aligned/control.out.tab')\n",
    "    mutated.count <- read.table('aligned/mutated.out.tab')\n",
    "    # normalize, compare, output etc, ignored.\n",
    "    pdf('myfigure.pdf')\n",
    "    # plot results\n",
    "    dev.off()"
   ]
  },
  {
   "cell_type": "markdown",
   "metadata": {},
   "source": [
    "Now, when you execute the script with command\n",
    "\n",
    "```\n",
    "sos run myscript\n",
    "```\n",
    "\n",
    "SoS will display `default_1`, `default_2` and `default_3` to report progress. The comments after section heads are considered step comments and will also be displayed during execution. "
   ]
  },
  {
   "cell_type": "markdown",
   "metadata": {},
   "source": [
    "It is worth noting that you can write SoS workflows in Jupyter notebook as long as you specify a header for each step. For example, you can create a Jupyter notebook with the following cells"
   ]
  },
  {
   "cell_type": "code",
   "execution_count": null,
   "metadata": {
    "collapsed": true
   },
   "outputs": [],
   "source": [
    "[1]\n",
    "# index reference genome\n",
    "run:\n",
    "    STAR --runMode genomeGenerate --genomeFastaFile human38.fastq \\\n",
    "        --genomeDir STAR_index"
   ]
  },
  {
   "cell_type": "code",
   "execution_count": null,
   "metadata": {
    "collapsed": true
   },
   "outputs": [],
   "source": [
    "[2]\n",
    "# align reads to the reference genome\n",
    "run:\n",
    "    STAR --genomeDir STAR_index --outSAMtype BAM SortedByCoordinate \\\n",
    "        --readFilesIn control.fastq --quantMode GeneCounts \\\n",
    "        --outFileNamePrefix aligned/control\n",
    "    STAR --genomeDir STAR_index --outSAMtype BAM SortedByCoordinate \\\n",
    "        --readFilesIn mutated.fastq --quantMode GeneCounts \\\n",
    "        --outFileNamePrefix aligned/mutated"
   ]
  },
  {
   "cell_type": "code",
   "execution_count": null,
   "metadata": {
    "collapsed": true
   },
   "outputs": [],
   "source": [
    "[3]\n",
    "# compare expression values\n",
    "R:\n",
    "    control.count <- read.table('aligned/control.out.tab')\n",
    "    mutated.count <- read.table('aligned/mutated.out.tab')\n",
    "    # normalize, compare, output etc, ignored.\n",
    "    pdf('myfigure.pdf')\n",
    "    # plot results\n",
    "    dev.off()"
   ]
  },
  {
   "cell_type": "markdown",
   "metadata": {},
   "source": [
    "and execute the workflow with command\n",
    "\n",
    "```\n",
    "sos run myscript.ipynb\n",
    "```\n",
    "\n",
    "The notebook can contain markdown cells and cells with other kernels, and sos cells without section header, and the `sos run` (and other) commands will ignore all such cells and only extract and execute workflows defined in the notebook."
   ]
  },
  {
   "cell_type": "markdown",
   "metadata": {},
   "source": [
    "## Make the script work for other input files"
   ]
  },
  {
   "cell_type": "markdown",
   "metadata": {},
   "source": [
    "After a while, before you almost forgot about this analysis, you needed to analyze another pair of samples. You could copy ``myanalysis.sos`` to ``myanalysis2.sos``, change filenames and run it, but an easier way is to change your SoS file to accommodate other input files. This can be done by defining a command line argument and passing files name to a **SoS variable**:"
   ]
  },
  {
   "cell_type": "code",
   "execution_count": 13,
   "metadata": {
    "kernel": "sos"
   },
   "outputs": [
    {
     "name": "stderr",
     "output_type": "stream",
     "text": [
      "INFO: Running \u001b[32mdefault_1\u001b[0m: index reference genome\n"
     ]
    },
    {
     "name": "stdout",
     "output_type": "stream",
     "text": [
      "Generating STAR_index/chrName.txt\n"
     ]
    },
    {
     "name": "stderr",
     "output_type": "stream",
     "text": [
      "INFO: Running \u001b[32mdefault_2\u001b[0m: align reads to the reference genome\n"
     ]
    },
    {
     "name": "stdout",
     "output_type": "stream",
     "text": [
      "Generating aligned/control.out.tab from control.fastq\n",
      "Generating aligned/mutated.out.tab from mutated.fastq\n"
     ]
    },
    {
     "name": "stderr",
     "output_type": "stream",
     "text": [
      "INFO: Running \u001b[32mdefault_3\u001b[0m: compare expression values\n"
     ]
    },
    {
     "name": "stdout",
     "output_type": "stream",
     "text": [
      "Generating myfigure.pdf\n"
     ]
    },
    {
     "name": "stderr",
     "output_type": "stream",
     "text": [
      "INFO: Workflow default (ID=3b5666a4bc92cb22) is executed successfully.\n"
     ]
    }
   ],
   "source": [
    "#!/usr/bin/env sos-runner\n",
    "#fileformat=SOS1.0\n",
    "\n",
    "# This script aligns raw reads of a control and a mutated sample\n",
    "# to the reference genome and compare the expression values\n",
    "# of the samples at genes A, B and C.\n",
    "\n",
    "# Two input files in .fastq formats. The first one for control sample\n",
    "# and the second one for mutated sample.\n",
    "parameter: fastq_files=['control.fastq', 'mutated.fastq']\n",
    "\n",
    "[1]\n",
    "# index reference genome\n",
    "run:\n",
    "    STAR --runMode genomeGenerate --genomeFastaFile human38.fastq \\\n",
    "        --genomeDir STAR_index\n",
    "\n",
    "[2]\n",
    "# align reads to the reference genome\n",
    "run:\n",
    "    STAR --genomeDir STAR_index --outSAMtype BAM SortedByCoordinate \\\n",
    "        --readFilesIn ${fastq_files[0]} --quantMode GeneCounts \\\n",
    "        --outFileNamePrefix aligned/control\n",
    "    STAR --genomeDir STAR_index --outSAMtype BAM SortedByCoordinate \\\n",
    "        --readFilesIn ${fastq_files[1]} --quantMode GeneCounts \\\n",
    "        --outFileNamePrefix aligned/mutated\n",
    "\n",
    "[3]\n",
    "# compare expression values\n",
    "R:\n",
    "    control.count <- read.table('aligned/control.out.tab')\n",
    "    mutated.count <- read.table('aligned/mutated.out.tab')\n",
    "    # normalize, compare, output etc, ignored.\n",
    "    pdf('myfigure.pdf')\n",
    "    # plot results\n",
    "    dev.off()"
   ]
  },
  {
   "cell_type": "markdown",
   "metadata": {},
   "source": [
    "A command line argument `fastq_files` is defined in with `parameter` keyword. With this definition, you can pass two filenames to variable `fastq_files` from command line\n",
    "\n",
    "```bash\n",
    "sos run myanalysis --fastq_files ctrl.fastq case.fastq\n",
    "```\n",
    "\n",
    "`${fastq_files[0]}` and `${fastq_files[1]}` in command `STAR --genomeDir ...` will be replaced with their values before the commands are executed. Here `fastq_files[0]` and `fastq_files[1]` are Python expressions that will be evaluated during execution.\n",
    "\n",
    "In Jupyter notebook, we can execute the previous cell with additional option using magic `%rerun`."
   ]
  },
  {
   "cell_type": "code",
   "execution_count": 14,
   "metadata": {
    "kernel": "sos"
   },
   "outputs": [
    {
     "name": "stderr",
     "output_type": "stream",
     "text": [
      "INFO: Running \u001b[32mdefault_1\u001b[0m: index reference genome\n"
     ]
    },
    {
     "name": "stdout",
     "output_type": "stream",
     "text": [
      "Generating STAR_index/chrName.txt\n"
     ]
    },
    {
     "name": "stderr",
     "output_type": "stream",
     "text": [
      "INFO: Running \u001b[32mdefault_2\u001b[0m: align reads to the reference genome\n"
     ]
    },
    {
     "name": "stdout",
     "output_type": "stream",
     "text": [
      "Generating aligned/control.out.tab from ctrl.fastq\n",
      "Generating aligned/mutated.out.tab from case.fastq\n"
     ]
    },
    {
     "name": "stderr",
     "output_type": "stream",
     "text": [
      "INFO: Running \u001b[32mdefault_3\u001b[0m: compare expression values\n"
     ]
    },
    {
     "name": "stdout",
     "output_type": "stream",
     "text": [
      "Generating myfigure.pdf\n"
     ]
    },
    {
     "name": "stderr",
     "output_type": "stream",
     "text": [
      "INFO: Workflow default (ID=f1873112ddf76541) is executed successfully.\n"
     ]
    }
   ],
   "source": [
    "%rerun --fastq_files ctrl.fastq case.fastq"
   ]
  },
  {
   "cell_type": "markdown",
   "metadata": {},
   "source": [
    "Note that the `parameter` statement is defined before any SOS step, actually in a special `[global]` section although the section is usually ignored in `.sos` format. "
   ]
  },
  {
   "cell_type": "markdown",
   "metadata": {},
   "source": [
    "## Ignore steps that do not need to be rerun"
   ]
  },
  {
   "cell_type": "markdown",
   "metadata": {},
   "source": [
    "Although the SoS script now accepts command line arguments, it is still no more than a compilation of scripts and you immediately realized that it is a waste of time to execute the first command each time. To solve this problem, you can convert the SoS script to a real workflow by telling SoS the input and output of each step:"
   ]
  },
  {
   "cell_type": "code",
   "execution_count": 15,
   "metadata": {
    "kernel": "sos"
   },
   "outputs": [
    {
     "name": "stderr",
     "output_type": "stream",
     "text": [
      "INFO: Running \u001b[32mdefault_1\u001b[0m: create a index for reference genome\n",
      "INFO: Step \u001b[32mdefault_1\u001b[0m (index=0) is \u001b[32mignored\u001b[0m due to saved signature\n",
      "INFO: Running \u001b[32mdefault_2\u001b[0m: align the reads to the reference genome\n"
     ]
    },
    {
     "name": "stdout",
     "output_type": "stream",
     "text": [
      "Generating aligned/control.out.tab from control.fastq\n",
      "Generating aligned/mutated.out.tab from mutated.fastq\n"
     ]
    },
    {
     "name": "stderr",
     "output_type": "stream",
     "text": [
      "INFO: Running \u001b[32mdefault_3\u001b[0m: compare expression values\n"
     ]
    },
    {
     "name": "stdout",
     "output_type": "stream",
     "text": [
      "Generating myfigure.pdf\n"
     ]
    },
    {
     "name": "stderr",
     "output_type": "stream",
     "text": [
      "INFO: Workflow default (ID=65e3d5ba2d00aaeb) is executed successfully.\n"
     ]
    }
   ],
   "source": [
    "#!/usr/bin/env sos-runner\n",
    "#fileformat=SOS1.0\n",
    "\n",
    "# This script aligns raw reads of a control and a mutated sample\n",
    "# to the reference genome and compare the expression values\n",
    "# of the samples at genes A, B and C.\n",
    "\n",
    "# Two input files in .fastq formats. The first one for control sample\n",
    "# and the second one for mutated sample.\n",
    "parameter: fastq_files=['control.fastq', 'mutated.fastq']\n",
    "\n",
    "[1]\n",
    "# create a index for reference genome\n",
    "output: 'STAR_index/chrName.txt'\n",
    "run:\n",
    "    STAR --runMode genomeGenerate --genomeFastaFile human38.fastq \\\n",
    "        --genomeDir STAR_index\n",
    "\n",
    "[2]\n",
    "# align the reads to the reference genome\n",
    "input:    fastq_files\n",
    "depends:  'STAR_index/chrName.txt'\n",
    "output:   ['aligned/control.out.tab', 'aligned/mutated.out.tab']\n",
    "run:\n",
    "    STAR --genomeDir STAR_index --outSAMtype BAM SortedByCoordinate \\\n",
    "        --readFilesIn ${input[0]} --quantMode GeneCounts \\\n",
    "        --outFileNamePrefix aligned/control\n",
    "    STAR --genomeDir STAR_index --outSAMtype BAM SortedByCoordinate \\\n",
    "        --readFilesIn ${input[1]} --quantMode GeneCounts \\\n",
    "        --outFileNamePrefix aligned/mutated\n",
    "\n",
    "[3]\n",
    "# compare expression values\n",
    "output: 'myfigure.pdf'\n",
    "R:\n",
    "    control.count <- read.table('${input[0]}')\n",
    "    mutated.count <- read.table('${input[1]}')\n",
    "    # normalize, compare, output etc, ignored.\n",
    "    pdf('${output}')\n",
    "    # plot results\n",
    "    dev.off()"
   ]
  },
  {
   "cell_type": "markdown",
   "metadata": {},
   "source": [
    "Here we\n",
    "\n",
    "- Use **output directive** to specify the expected output of all steps.\n",
    "- Use **input directive** to specify the input of step 2. Step 1 by default has no input and input for step 3 by default is the output of step 2, its previous step.\n",
    "- Use **depends directive** to let step 2 depend on the output of step 1.\n",
    "- Use `${input[0]}` and `${input[1]}` in step 2 and 3 because these steps now have properly-defined `input`. This variable is defined by step input as the input file of the step.\n",
    "\n",
    "With such information, when you run the same command with another set of input file\n",
    "\n",
    "```bash\n",
    "sos run myanalysis --input ctrl.fastq case.fastq\n",
    "```\n",
    "\n",
    "SoS will ignore step 1 if this step has been run with output `STAR_index/chrName.txt`. The same happens to step 2 and 3 so all steps will be ignored if you run the script repeatedly with the same input and processing scripts. SoS uses **runtime signature** for each step and will re-run the step if and only if the content or filename of input, output files or the processing scripts are changed."
   ]
  },
  {
   "cell_type": "code",
   "execution_count": 16,
   "metadata": {
    "kernel": "sos"
   },
   "outputs": [
    {
     "name": "stderr",
     "output_type": "stream",
     "text": [
      "INFO: Running \u001b[32mdefault_1\u001b[0m: create a index for reference genome\n",
      "INFO: Step \u001b[32mdefault_1\u001b[0m (index=0) is \u001b[32mignored\u001b[0m due to saved signature\n",
      "INFO: Running \u001b[32mdefault_2\u001b[0m: align the reads to the reference genome\n"
     ]
    },
    {
     "name": "stdout",
     "output_type": "stream",
     "text": [
      "Generating aligned/control.out.tab from ctrl.fastq\n",
      "Generating aligned/mutated.out.tab from case.fastq\n"
     ]
    },
    {
     "name": "stderr",
     "output_type": "stream",
     "text": [
      "INFO: Running \u001b[32mdefault_3\u001b[0m: compare expression values\n"
     ]
    },
    {
     "name": "stdout",
     "output_type": "stream",
     "text": [
      "Generating myfigure.pdf\n"
     ]
    },
    {
     "name": "stderr",
     "output_type": "stream",
     "text": [
      "INFO: Workflow default (ID=1863e0d7b1f26e5c) is executed successfully.\n"
     ]
    }
   ],
   "source": [
    "%rerun --fastq-files ctrl.fastq case.fastq"
   ]
  },
  {
   "cell_type": "markdown",
   "metadata": {},
   "source": [
    "An added benefit of specifying input and output of steps is it allows you to create an archive of your project with all input, output, and intermediate files. This can be achived using command\n",
    "\n",
    "```bash\n",
    "% sos pack -o myanalysis.sar\n",
    "```\n",
    "\n",
    "if only one workflow has been executed under the current directory. The output is a compressed archive with extension `.sar` and can be examined and unpacked using command `sos unpack`."
   ]
  },
  {
   "cell_type": "markdown",
   "metadata": {},
   "source": [
    "## Use make-rule to define resource-providing steps"
   ]
  },
  {
   "cell_type": "markdown",
   "metadata": {},
   "source": [
    "Instead of using runtime signature to avoid re-running the first step, we can also make step 1 an optional step that will be executed only necessary. That is to say, we can define this step as an `auxiliary step` that will only be called when the file it **provides** does not exist."
   ]
  },
  {
   "cell_type": "code",
   "execution_count": 17,
   "metadata": {
    "kernel": "sos"
   },
   "outputs": [
    {
     "name": "stderr",
     "output_type": "stream",
     "text": [
      "INFO: Adding step build_index with output STAR_index/chrName.txt\n",
      "INFO: Running \u001b[32mbuild_index\u001b[0m: create a index for reference genome\n",
      "INFO: Step \u001b[32mbuild_index\u001b[0m (index=0) is \u001b[32mignored\u001b[0m due to saved signature\n",
      "INFO: Running \u001b[32mdefault_1\u001b[0m: align the reads to the reference genome\n"
     ]
    },
    {
     "name": "stdout",
     "output_type": "stream",
     "text": [
      "Generating aligned/control.out.tab from control.fastq\n",
      "Generating aligned/mutated.out.tab from mutated.fastq\n"
     ]
    },
    {
     "name": "stderr",
     "output_type": "stream",
     "text": [
      "INFO: Running \u001b[32mdefault_2\u001b[0m: compare expression values\n"
     ]
    },
    {
     "name": "stdout",
     "output_type": "stream",
     "text": [
      "Generating myfigure.pdf\n"
     ]
    },
    {
     "name": "stderr",
     "output_type": "stream",
     "text": [
      "INFO: Workflow default (ID=1c3c60b5b3a1bf3a) is executed successfully.\n"
     ]
    }
   ],
   "source": [
    "#!/usr/bin/env sos-runner\n",
    "#fileformat=SOS1.0\n",
    "\n",
    "# This script aligns raw reads of a control and a mutated sample\n",
    "# to the reference genome and compare the expression values\n",
    "# of the samples at genes A, B and C.\n",
    "\n",
    "# Two input files in .fastq formats. The first one for control sample\n",
    "# and the second one for mutated sample.\n",
    "parameter: fastq_files=['control.fastq', 'mutated.fastq']\n",
    "\n",
    "[build_index: provides='STAR_index/chrName.txt']\n",
    "# create a index for reference genome\n",
    "run:\n",
    "    STAR --runMode genomeGenerate --genomeFastaFile human38.fastq \\\n",
    "        --genomeDir STAR_index\n",
    "\n",
    "[1]\n",
    "# align the reads to the reference genome\n",
    "input:    fastq_files\n",
    "depends:  'STAR_index/chrName.txt'\n",
    "output:   ['aligned/control.out.tab', 'aligned/mutated.out.tab']\n",
    "run:\n",
    "    STAR --genomeDir STAR_index --outSAMtype BAM SortedByCoordinate \\\n",
    "        --readFilesIn ${input[0]} --quantMode GeneCounts \\\n",
    "        --outFileNamePrefix aligned/control\n",
    "    STAR --genomeDir STAR_index --outSAMtype BAM SortedByCoordinate \\\n",
    "        --readFilesIn ${input[1]} --quantMode GeneCounts \\\n",
    "        --outFileNamePrefix aligned/mutated\n",
    "\n",
    "[2]\n",
    "# compare expression values\n",
    "output: 'myfigure.pdf'\n",
    "R:\n",
    "    control.count <- read.table('${input[0]}')\n",
    "    mutated.count <- read.table('${input[1]}')\n",
    "    # normalize, compare, output etc, ignored.\n",
    "    pdf('${output}')\n",
    "    # plot results\n",
    "    dev.off()"
   ]
  },
  {
   "cell_type": "markdown",
   "metadata": {},
   "source": [
    "The new script consists of two steps, and an auxiliary step `build_index` that will only be executed when `STAR_index/chrName.txt` is not available. A slight difference between this version and the previous one is that while the previous version will always execute the first step, this version will not execute it if `STAR_index/chrName.txt` has been generated before in any way, perhaps not by SoS."
   ]
  },
  {
   "cell_type": "code",
   "execution_count": 18,
   "metadata": {
    "kernel": "sos"
   },
   "outputs": [
    {
     "name": "stderr",
     "output_type": "stream",
     "text": [
      "INFO: Adding step build_index with output STAR_index/chrName.txt\n",
      "INFO: Running \u001b[32mbuild_index\u001b[0m: create a index for reference genome\n",
      "INFO: Step \u001b[32mbuild_index\u001b[0m (index=0) is \u001b[32mignored\u001b[0m due to saved signature\n",
      "INFO: Running \u001b[32mdefault_1\u001b[0m: align the reads to the reference genome\n",
      "INFO: Step \u001b[32mdefault_1\u001b[0m (index=0) is \u001b[32mignored\u001b[0m due to saved signature\n",
      "INFO: Running \u001b[32mdefault_2\u001b[0m: compare expression values\n",
      "INFO: Step \u001b[32mdefault_2\u001b[0m (index=0) is \u001b[32mignored\u001b[0m due to saved signature\n",
      "INFO: Workflow default (ID=1c3c60b5b3a1bf3a) is executed successfully.\n"
     ]
    }
   ],
   "source": [
    "%rerun"
   ]
  },
  {
   "cell_type": "markdown",
   "metadata": {},
   "source": [
    "## Execute long-running jobs externally"
   ]
  },
  {
   "cell_type": "markdown",
   "metadata": {},
   "source": [
    "The first step will takes a long time to execute. Instead of executing them by SoS, you might want to submit the commands to a job-queue and be executed and monitored externally. This is especially useful when you need to execute multiple SoS workflows on a cluster-based system. Without going through the details on how to set up your job-queue (see another tutorial for details), it is almost trivial to modify your script to define part of a **step process** to a **task**:"
   ]
  },
  {
   "cell_type": "code",
   "execution_count": 19,
   "metadata": {
    "kernel": "sos"
   },
   "outputs": [
    {
     "name": "stderr",
     "output_type": "stream",
     "text": [
      "INFO: Adding step build_index with output STAR_index/chrName.txt\n",
      "INFO: Running \u001b[32mbuild_index\u001b[0m: create a index for reference genome\n",
      "INFO: Step \u001b[32mbuild_index\u001b[0m (index=0) is \u001b[32mignored\u001b[0m due to saved signature\n",
      "INFO: Running \u001b[32mdefault_1\u001b[0m: align the reads to the reference genome\n",
      "INFO: Step \u001b[32mdefault_1\u001b[0m (index=0) is \u001b[32mignored\u001b[0m due to saved signature\n",
      "INFO: Running \u001b[32mdefault_2\u001b[0m: compare expression values\n",
      "INFO: Step \u001b[32mdefault_2\u001b[0m (index=0) is \u001b[32mignored\u001b[0m due to saved signature\n",
      "INFO: Workflow default (ID=a1fe06faae4de480) is executed successfully.\n"
     ]
    }
   ],
   "source": [
    "#!/usr/bin/env sos-runner\n",
    "#fileformat=SOS1.0\n",
    "\n",
    "# This script aligns raw reads of a control and a mutated sample\n",
    "# to the reference genome and compare the expression values\n",
    "# of the samples at genes A, B and C.\n",
    "\n",
    "# Two input files in .fastq formats. The first one for control sample\n",
    "# and the second one for mutated sample.\n",
    "parameter: fastq_files=['control.fastq', 'mutated.fastq']\n",
    "\n",
    "[build_index: provides='STAR_index/chrName.txt']\n",
    "# create a index for reference genome\n",
    "run:\n",
    "    STAR --runMode genomeGenerate --genomeFastaFile human38.fastq \\\n",
    "        --genomeDir STAR_index\n",
    "\n",
    "[1]\n",
    "# align the reads to the reference genome\n",
    "input:    fastq_files\n",
    "depends:  'STAR_index/chrName.txt'\n",
    "output:   ['aligned/control.out.tab', 'aligned/mutated.out.tab']\n",
    "task:\n",
    "run:\n",
    "    STAR --genomeDir STAR_index --outSAMtype BAM SortedByCoordinate \\\n",
    "        --readFilesIn ${input[0]} --quantMode GeneCounts \\\n",
    "        --outFileNamePrefix aligned/control\n",
    "    STAR --genomeDir STAR_index --outSAMtype BAM SortedByCoordinate \\\n",
    "        --readFilesIn ${input[1]} --quantMode GeneCounts \\\n",
    "        --outFileNamePrefix aligned/mutated\n",
    "\n",
    "[2]\n",
    "# compare expression values\n",
    "output: 'myfigure.pdf'\n",
    "R:\n",
    "    control.count <- read.table('${input[0]}')\n",
    "    mutated.count <- read.table('${input[1]}')\n",
    "    # normalize, compare, output etc, ignored.\n",
    "    pdf('${output}')\n",
    "    # plot results\n",
    "    dev.off()"
   ]
  },
  {
   "cell_type": "markdown",
   "metadata": {},
   "source": [
    "As you can see, the only difference is the insertion of `task:` directive before `run`. Now, when you execute the command, the `STAR` commands will be executed externally and you can monitor the status of the jobs using your web browser. If no job-queue is set up, the command will be executed in a separate process."
   ]
  },
  {
   "cell_type": "markdown",
   "metadata": {},
   "source": [
    "## Execute steps in parallel"
   ]
  },
  {
   "cell_type": "markdown",
   "metadata": {},
   "source": [
    "Although the two steps of this example have to be executed sequentially, the first step runs the `STAR` command twice on two input files, and can be executed in parallel. You can tell this to SoS by modifying the script as follows"
   ]
  },
  {
   "cell_type": "code",
   "execution_count": 20,
   "metadata": {
    "kernel": "sos"
   },
   "outputs": [
    {
     "name": "stderr",
     "output_type": "stream",
     "text": [
      "INFO: Adding step build_index with output STAR_index/chrName.txt\n",
      "INFO: Running \u001b[32mbuild_index\u001b[0m: create a index for reference genome\n",
      "INFO: Step \u001b[32mbuild_index\u001b[0m (index=0) is \u001b[32mignored\u001b[0m due to saved signature\n",
      "INFO: Running \u001b[32mdefault_1\u001b[0m: align the reads to the reference genome\n"
     ]
    },
    {
     "name": "stdout",
     "output_type": "stream",
     "text": [
      "Generating aligned/control.out.tab from control.fastq\n",
      "Generating aligned/mutated.out.tab from mutated.fastq\n"
     ]
    },
    {
     "name": "stderr",
     "output_type": "stream",
     "text": [
      "INFO: Running \u001b[32mdefault_2\u001b[0m: compare expression values\n",
      "INFO: Step \u001b[32mdefault_2\u001b[0m (index=0) is \u001b[32mignored\u001b[0m due to saved signature\n",
      "INFO: Workflow default (ID=95df7eeeafcdaa5c) is executed successfully.\n"
     ]
    }
   ],
   "source": [
    "#!/usr/bin/env sos-runner\n",
    "#fileformat=SOS1.0\n",
    "\n",
    "# This script aligns raw reads of a control and a mutated sample\n",
    "# to the reference genome and compare the expression values\n",
    "# of the samples at genes A, B and C.\n",
    "\n",
    "# Two input files in .fastq formats. The first one for control sample\n",
    "# and the second one for mutated sample.\n",
    "parameter: fastq_files=['control.fastq', 'mutated.fastq']\n",
    "\n",
    "[build_index: provides='STAR_index/chrName.txt']\n",
    "# create a index for reference genome\n",
    "run:\n",
    "    STAR --runMode genomeGenerate --genomeFastaFile human38.fastq \\\n",
    "        --genomeDir STAR_index\n",
    "\n",
    "[1]\n",
    "# align the reads to the reference genome\n",
    "sample_type = ['control', 'mutated']\n",
    "input:    fastq_files, group_by='single', paired_with='sample_type'\n",
    "depends:  'STAR_index/chrName.txt'\n",
    "output:   \"aligned/${_sample_type}.out.tab\"\n",
    "\n",
    "task:     concurrent=True\n",
    "run:\n",
    "    STAR --genomeDir STAR_index --outSAMtype BAM SortedByCoordinate \\\n",
    "        --readFilesIn ${_input!q} --quantMode GeneCounts \\\n",
    "        --outFileNamePrefix aligned/${_sample_type}\n",
    "\n",
    "[2]\n",
    "# compare expression values\n",
    "output: 'myfigure.pdf'\n",
    "R:\n",
    "    control.count <- read.table('${input[0]}')\n",
    "    mutated.count <- read.table('${input[1]}')\n",
    "    # normalize, compare, output etc, ignored.\n",
    "    pdf('${output}')\n",
    "    # plot results\n",
    "    dev.off()\n"
   ]
  },
  {
   "cell_type": "markdown",
   "metadata": {},
   "source": [
    "Here we\n",
    "\n",
    "1. Use option `group_by='single'` to pass input one by one to action. The action will be executed twice with `_input` set to the first and second input file respectively.\n",
    "2. Define a variable `sample_type` and pair it with input files (option `paired_with`). This will generate a variable `_sample_type` for each input file so `_sample_type` will be `control` for the first input file, and `mutated` for the second.\n",
    "3. Use `${_input}` and `${_sample_type}` to define partial `output`.\n",
    "4. Use `${_input!q}` instead of `${_input}` in the script. This is a small trick to shell-quote filenames so that filenames with spaces and other special characters can be properly quoted in shell commands.\n",
    "\n",
    "Now, if you execute the script with option `-j 2` (2 concurrent processes),\n",
    "\n",
    "```bash\n",
    "sos run myanalysis.sos --input control1.fastq control2.fastq -j 2\n",
    "```\n",
    "\n",
    "the second step submit two jobs to job-queue, or execute them in two separate processes if a job-queue is not setup."
   ]
  },
  {
   "cell_type": "markdown",
   "metadata": {},
   "source": [
    "## Generating a report"
   ]
  },
  {
   "cell_type": "markdown",
   "metadata": {},
   "source": [
    "In addition to functions such as `run` and `R` that execute scripts in different languages, SoS provides a number of other functions (called actions) that can be used to, for example, generate reports using command `pandoc` or `Rmarkdown`. For example, by adding a step with a `pandoc` action, you can compose a script in Markdown format and generate a nice-looking report in HTML format."
   ]
  },
  {
   "cell_type": "code",
   "execution_count": 2,
   "metadata": {
    "kernel": "sos"
   },
   "outputs": [
    {
     "name": "stdout",
     "output_type": "stream",
     "text": [
      "Generating STAR_index/chrName.txt\n",
      "Generating aligned/control.out.tab from control.fastq\n",
      "Generating aligned/mutated.out.tab from mutated.fastq\n",
      "Generating myfigure.pdf\n"
     ]
    },
    {
     "data": {
      "text/html": [
       "<pre><font color=\"green\">## %preview report.html</font></pre>"
      ]
     },
     "metadata": {},
     "output_type": "display_data"
    },
    {
     "data": {
      "text/html": [
       "<pre><font color=\"green\">> report.html (432 B):</font></pre>"
      ],
      "text/plain": [
       "\n",
       "> report.html (432 B):"
      ]
     },
     "metadata": {},
     "output_type": "display_data"
    },
    {
     "data": {
      "text/html": [
       "<h1 id=\"an-analysis-of-two-rna-seq-samples\">An analysis of two RNA Seq samples</h1>\n",
       "<h2 id=\"alignment-of-reads\">Alignment of reads</h2>\n",
       "<ul>\n",
       "<li>input file: control.fastq mutated.fastq</li>\n",
       "<li>output file: aligned/control.out.tab aligned/mutated.out.tab</li>\n",
       "</ul>\n",
       "<h2 id=\"statistical-analysis\">Statistical analysis</h2>\n",
       "<ul>\n",
       "<li>input file: aligned/control.out.tab aligned/mutated.out.tab</li>\n",
       "<li>Figure: myfigure.pdf</li>\n",
       "</ul>\n"
      ],
      "text/plain": [
       "An analysis of two RNA Seq samples Alignment of reads \n",
       "\n",
       "  * input file: control.fastq mutated.fastq \n",
       "\n",
       "\n",
       "\n",
       "  * output file: aligned/control.out.tab aligned/mutated.out.tab \n",
       "\n",
       "\n",
       "\n",
       "Statistical analysis \n",
       "\n",
       "  * input file: aligned/control.out.tab aligned/mutated.out.tab \n",
       "\n",
       "\n",
       "\n",
       "  * Figure: myfigure.pdf"
      ]
     },
     "metadata": {},
     "output_type": "display_data"
    }
   ],
   "source": [
    "%preview report.html\n",
    "#!/usr/bin/env sos-runner\n",
    "#fileformat=SOS1.0\n",
    "\n",
    "# This script aligns raw reads of a control and a mutated sample\n",
    "# to the reference genome and compare the expression values\n",
    "# of the samples at genes A, B and C.\n",
    "\n",
    "# Two input files in .fastq formats. The first one for control sample\n",
    "# and the second one for mutated sample.\n",
    "parameter: fastq_files=['control.fastq', 'mutated.fastq']\n",
    "\n",
    "[build_index: provides='STAR_index/chrName.txt']\n",
    "# create a index for reference genome\n",
    "run:\n",
    "    STAR --runMode genomeGenerate --genomeFastaFile human38.fastq \\\n",
    "        --genomeDir STAR_index\n",
    "\n",
    "[1]\n",
    "# align the reads to the reference genome\n",
    "sample_type = ['control', 'mutated']\n",
    "input:    fastq_files, group_by='single', paired_with='sample_type'\n",
    "depends:  'STAR_index/chrName.txt'\n",
    "output:   \"aligned/${_sample_type}.out.tab\"\n",
    "\n",
    "run:\n",
    "    STAR --genomeDir STAR_index --outSAMtype BAM SortedByCoordinate \\\n",
    "        --readFilesIn ${_input!q} --quantMode GeneCounts \\\n",
    "        --outFileNamePrefix aligned/${_sample_type}\n",
    "\n",
    "report:   output='align.md', active=-1\n",
    "    ## Alignment of reads\n",
    "    * input file: ${input}\n",
    "    * output file: ${output}\n",
    "\n",
    "[2]\n",
    "# compare expression values\n",
    "output: 'myfigure.pdf'\n",
    "R:\n",
    "    control.count <- read.table('${input[0]}')\n",
    "    mutated.count <- read.table('${input[1]}')\n",
    "    # normalize, compare, output etc, ignored.\n",
    "    pdf('${output}')\n",
    "    # plot results\n",
    "    dev.off()\n",
    "\n",
    "report:   output='analysis.md', active=-1\n",
    "    ## Statistical analysis\n",
    "    * input file: ${input}\n",
    "    * Figure: ${output}\n",
    "\n",
    "[3]\n",
    "pandoc: input=['align.md', 'analysis.md'], output='report.html'\n",
    "    # An analysis of two RNA Seq samples\n",
    "    "
   ]
  },
  {
   "cell_type": "markdown",
   "metadata": {},
   "source": [
    "In this example, partial reports are prepared whenever a step completes, and a final step is used combine all partial reports (with a header) and process it with pandoc.\n",
    "\n",
    "Please refer to [the report generation tutorial](Generating_Reports.html) for details."
   ]
  },
  {
   "cell_type": "markdown",
   "metadata": {},
   "source": [
    "We have showed you multiple versions of the same SoS script, each using more features of SoS. This actually demonstrates one of the advantages of the SoS system, namely you can start using SoS in minutes without knowing any of its advanced features, and gradually improve your script if needed."
   ]
  }
 ],
 "metadata": {
  "anaconda-cloud": {},
  "kernelspec": {
   "display_name": "SoS",
   "language": "sos",
   "name": "sos"
  },
  "language_info": {
   "codemirror_mode": "sos",
   "file_extension": ".sos",
   "mimetype": "text/x-sos",
   "name": "sos",
   "nbconvert_exporter": "sos.jupyter.converter.SoS_Exporter",
   "pygments_lexer": "sos"
  },
  "sos": {
   "celltoolbar": true,
   "kernels": [
    [
     "Bash",
     "bash",
     "Bash",
     "#E6EEFF"
    ],
    [
     "JavaScript",
     "javascript",
     "JavaScript",
     "#c8e1ae"
    ],
    [
     "Python2",
     "python2",
     "Python2",
     "#FFE771"
    ],
    [
     "Python3",
     "python3",
     "Python3",
     "#FFE771"
    ],
    [
     "R",
     "ir",
     "R",
     "#DCDCDA"
    ],
    [
     "SoS",
     "sos",
     "",
     ""
    ]
   ],
   "panel": {
    "displayed": true,
    "height": 0,
    "style": "side"
   }
  },
  "toc": {
   "colors": {
    "hover_highlight": "#DAA520",
    "running_highlight": "#FF0000",
    "selected_highlight": "#FFD700"
   },
   "moveMenuLeft": true,
   "nav_menu": {
    "height": "198px",
    "width": "254px"
   },
   "navigate_menu": true,
   "number_sections": true,
   "sideBar": true,
   "threshold": 4,
   "toc_cell": false,
   "toc_section_display": "block",
   "toc_window_display": true
  }
 },
 "nbformat": 4,
 "nbformat_minor": 1
}
