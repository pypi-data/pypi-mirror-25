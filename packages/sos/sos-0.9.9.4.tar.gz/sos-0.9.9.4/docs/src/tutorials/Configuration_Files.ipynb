{
 "cells": [
  {
   "cell_type": "markdown",
   "metadata": {},
   "source": [
    "# Configuration Files"
   ]
  },
  {
   "cell_type": "markdown",
   "metadata": {},
   "source": [
    "SoS allows you to store parameters in a number of configuration files. There are three kinds of configuraiton files:\n",
    "\n",
    "1. Global user-specific configuration file `~/.sos/config.yml`.\n",
    "2. Local project-specific configuraiton file `./config.yml` (under the current working directory).\n",
    "3. Configuration file specified by option `-c`.\n",
    "\n",
    "The configuration files should be in the format of [`YAML`](http://yaml.org/) or its subset format [`JSON`](http://json-schema.org/implementations.html). When a SoS script is loaded, SoS looks for and parses the global and project-specific configuration files, and a configuration file specified by option `-c`. The results are stored in a global variable `CONFIG` that is available to the script."
   ]
  },
  {
   "cell_type": "markdown",
   "metadata": {},
   "source": [
    "## Use of configuration file"
   ]
  },
  {
   "cell_type": "markdown",
   "metadata": {},
   "source": [
    "The configuration file should be in `YAML` format, which is a superset of JSON so any configuration file in JSON format is also acceptable. \n",
    "\n",
    "Let us create a yaml file with some simple content"
   ]
  },
  {
   "cell_type": "code",
   "execution_count": 1,
   "metadata": {},
   "outputs": [],
   "source": [
    "run:\n",
    "    cat << EOF > myconfig.yml\n",
    "    # A list of tasty fruits\n",
    "    martin:\n",
    "        name: Martin D'vloper\n",
    "        job: Developer\n",
    "        skill: Elite\n",
    "    manager: martin\n",
    "    EOF"
   ]
  },
  {
   "cell_type": "markdown",
   "metadata": {},
   "source": [
    "The configuration file looks like"
   ]
  },
  {
   "cell_type": "code",
   "execution_count": 2,
   "metadata": {},
   "outputs": [
    {
     "name": "stdout",
     "output_type": "stream",
     "text": [
      "# A list of tasty fruits\n",
      "martin:\n",
      "    name: Martin D'vloper\n",
      "    job: Developer\n",
      "    skill: Elite\n",
      "manager: martin\n"
     ]
    }
   ],
   "source": [
    "!cat myconfig.yml"
   ]
  },
  {
   "cell_type": "markdown",
   "metadata": {},
   "source": [
    "Variables defined in the configuration file are available in SoS script as a dictionary `CONFIG`. You can retrieve its values as a regular dictionary although writing to this dictioary is prohibited. For convenience, an attribute syntax can also be used to access dictionary items."
   ]
  },
  {
   "cell_type": "code",
   "execution_count": 3,
   "metadata": {},
   "outputs": [
    {
     "name": "stdout",
     "output_type": "stream",
     "text": [
      "{'name': \"Martin D'vloper\", 'skill': 'Elite', 'job': 'Developer'}\n",
      "Martin D'vloper\n",
      "martin\n"
     ]
    }
   ],
   "source": [
    "%run -c myconfig.yml\n",
    "print(CONFIG['martin'])\n",
    "print(CONFIG.martin['name'])\n",
    "print(CONFIG.manager)"
   ]
  },
  {
   "cell_type": "markdown",
   "metadata": {},
   "source": [
    "Configuration files are frequently used to specify system configurations. For example"
   ]
  },
  {
   "cell_type": "code",
   "execution_count": 4,
   "metadata": {},
   "outputs": [],
   "source": [
    "%run -c myconfig.yml\n",
    "manager = CONFIG.manager"
   ]
  },
  {
   "cell_type": "markdown",
   "metadata": {},
   "source": [
    "allow you to define name of `manager` in a configuration file. If you do not want to require a configuration file, you can define `manager` as"
   ]
  },
  {
   "cell_type": "code",
   "execution_count": 5,
   "metadata": {},
   "outputs": [
    {
     "name": "stdout",
     "output_type": "stream",
     "text": [
      "Bob\n"
     ]
    }
   ],
   "source": [
    "manager = CONFIG.get('manager', 'Bob')\n",
    "print(manager)"
   ]
  },
  {
   "cell_type": "markdown",
   "metadata": {},
   "source": [
    "So the manger would be `Bob` without configuration file, and `Martin` with configuration file."
   ]
  },
  {
   "cell_type": "code",
   "execution_count": 6,
   "metadata": {},
   "outputs": [
    {
     "name": "stdout",
     "output_type": "stream",
     "text": [
      "martin\n"
     ]
    }
   ],
   "source": [
    "%run -c myconfig.yml\n",
    "manager = CONFIG.get('manager', 'Bob')\n",
    "print(manager)"
   ]
  },
  {
   "cell_type": "markdown",
   "metadata": {},
   "source": [
    "If you would further want to allow modification of this value from command line, you can place this definition after `parameter`."
   ]
  },
  {
   "cell_type": "code",
   "execution_count": 7,
   "metadata": {},
   "outputs": [
    {
     "name": "stdout",
     "output_type": "stream",
     "text": [
      "Bob\n"
     ]
    }
   ],
   "source": [
    "parameter: manager = CONFIG.get('manager', 'Bob')\n",
    "print(manager)"
   ]
  },
  {
   "cell_type": "markdown",
   "metadata": {},
   "source": [
    "In this way, users have the freedom to use the default value, define a value in a configuration file, and provide another value from command line. "
   ]
  },
  {
   "cell_type": "code",
   "execution_count": 8,
   "metadata": {},
   "outputs": [
    {
     "name": "stdout",
     "output_type": "stream",
     "text": [
      "Bob\n"
     ]
    }
   ],
   "source": [
    "%rerun"
   ]
  },
  {
   "cell_type": "code",
   "execution_count": 9,
   "metadata": {},
   "outputs": [
    {
     "name": "stdout",
     "output_type": "stream",
     "text": [
      "martin\n"
     ]
    }
   ],
   "source": [
    "%rerun -c myconfig.yml"
   ]
  },
  {
   "cell_type": "code",
   "execution_count": 10,
   "metadata": {},
   "outputs": [
    {
     "name": "stdout",
     "output_type": "stream",
     "text": [
      "Joe\n"
     ]
    }
   ],
   "source": [
    "%rerun -c myconfig.yml --manager Joe"
   ]
  },
  {
   "cell_type": "code",
   "execution_count": 11,
   "metadata": {},
   "outputs": [
    {
     "name": "stdout",
     "output_type": "stream",
     "text": [
      "Joe\n"
     ]
    }
   ],
   "source": [
    "%rerun --manager Joe"
   ]
  },
  {
   "cell_type": "markdown",
   "metadata": {
    "collapsed": true
   },
   "source": [
    "## Command `sos config`"
   ]
  },
  {
   "cell_type": "markdown",
   "metadata": {},
   "source": [
    "Although `yaml` is not a difficult format to learn. It is often easier to use command `sos config` to check and set values in configuration files, especially for complex data types."
   ]
  },
  {
   "cell_type": "markdown",
   "metadata": {},
   "source": [
    "`sos config` by default works on the local `config.yml` file. For example"
   ]
  },
  {
   "cell_type": "code",
   "execution_count": 12,
   "metadata": {},
   "outputs": [
    {
     "name": "stdout",
     "output_type": "stream",
     "text": [
      "Set cutoff to 0.5\n"
     ]
    }
   ],
   "source": [
    "!sos config --set cutoff 0.5"
   ]
  },
  {
   "cell_type": "markdown",
   "metadata": {},
   "source": [
    "creates `config.yml` with content"
   ]
  },
  {
   "cell_type": "code",
   "execution_count": 13,
   "metadata": {},
   "outputs": [
    {
     "name": "stdout",
     "output_type": "stream",
     "text": [
      "cutoff: 0.5\n"
     ]
    }
   ],
   "source": [
    "!cat config.yml"
   ]
  },
  {
   "cell_type": "markdown",
   "metadata": {},
   "source": [
    "It can also work on the global configuration file with option `--global`, or a local configuration file `--config file`. For example,"
   ]
  },
  {
   "cell_type": "code",
   "execution_count": 14,
   "metadata": {},
   "outputs": [
    {
     "name": "stdout",
     "output_type": "stream",
     "text": [
      "Set cutoff to {'high': 10, 'low': 1}\n"
     ]
    }
   ],
   "source": [
    "!sos config -c myconfig.yml --set cutoff '{\"low\":1, \"high\":10}'"
   ]
  },
  {
   "cell_type": "markdown",
   "metadata": {},
   "source": [
    "would add a line to existing configuration file `myconfig.yml`"
   ]
  },
  {
   "cell_type": "code",
   "execution_count": 15,
   "metadata": {},
   "outputs": [
    {
     "name": "stdout",
     "output_type": "stream",
     "text": [
      "cutoff:\n",
      "  high: 10\n",
      "  low: 1\n",
      "manager: martin\n",
      "martin:\n",
      "  job: Developer\n",
      "  name: Martin D'vloper\n",
      "  skill: Elite\n"
     ]
    }
   ],
   "source": [
    "!cat myconfig.yml"
   ]
  },
  {
   "cell_type": "markdown",
   "metadata": {},
   "source": [
    "The command is clever enough to handle partial values (e.g. of a dictionary), so if you do "
   ]
  },
  {
   "cell_type": "code",
   "execution_count": 16,
   "metadata": {},
   "outputs": [
    {
     "name": "stdout",
     "output_type": "stream",
     "text": [
      "Set cutoff to {'high': 10, 'low': 2}\n"
     ]
    }
   ],
   "source": [
    "!sos config -c myconfig.yml --set cutoff.low 2"
   ]
  },
  {
   "cell_type": "markdown",
   "metadata": {},
   "source": [
    "The commands updates one of the values of dictionary `cutoff`."
   ]
  },
  {
   "cell_type": "markdown",
   "metadata": {},
   "source": [
    "Other than `set`, you can check the content of a configuration file using option `get`. For example, the following command get all values defined in `config.yml`,"
   ]
  },
  {
   "cell_type": "code",
   "execution_count": 17,
   "metadata": {},
   "outputs": [
    {
     "name": "stdout",
     "output_type": "stream",
     "text": [
      "cutoff\t0.5\n"
     ]
    }
   ],
   "source": [
    "!sos config --get"
   ]
  },
  {
   "cell_type": "markdown",
   "metadata": {},
   "source": [
    "and the following command get the value of `manager` from `myconfig.yml`."
   ]
  },
  {
   "cell_type": "code",
   "execution_count": 18,
   "metadata": {},
   "outputs": [
    {
     "name": "stdout",
     "output_type": "stream",
     "text": [
      "manager\t'martin'\n"
     ]
    }
   ],
   "source": [
    "!sos config -c myconfig.yml --get manager"
   ]
  },
  {
   "cell_type": "markdown",
   "metadata": {},
   "source": [
    "wildcard characters are allowed to specify a subset of keys, although the name should be quoted to avoid shell expansion."
   ]
  },
  {
   "cell_type": "code",
   "execution_count": 19,
   "metadata": {},
   "outputs": [
    {
     "name": "stdout",
     "output_type": "stream",
     "text": [
      "cutoff\t{'low': 2, 'high': 10}\n"
     ]
    }
   ],
   "source": [
    "!sos config -c myconfig.yml --get 'c*'"
   ]
  },
  {
   "cell_type": "markdown",
   "metadata": {},
   "source": [
    "Finally, if you would like to remove a key from a configuration file, you can use option `--unset`."
   ]
  },
  {
   "cell_type": "code",
   "execution_count": 20,
   "metadata": {},
   "outputs": [
    {
     "name": "stdout",
     "output_type": "stream",
     "text": [
      "Unset martin\n"
     ]
    }
   ],
   "source": [
    "!sos config -c myconfig.yml --unset martin"
   ]
  },
  {
   "cell_type": "code",
   "execution_count": 21,
   "metadata": {},
   "outputs": [
    {
     "name": "stdout",
     "output_type": "stream",
     "text": [
      "cutoff:\n",
      "  high: 10\n",
      "  low: 2\n",
      "manager: martin\n"
     ]
    }
   ],
   "source": [
    "!cat myconfig.yml"
   ]
  },
  {
   "cell_type": "code",
   "execution_count": 22,
   "metadata": {
    "collapsed": true
   },
   "outputs": [],
   "source": [
    "# clean up\n",
    "!rm config.yml myconfig.yaml"
   ]
  }
 ],
 "metadata": {
  "anaconda-cloud": {},
  "kernelspec": {
   "display_name": "SoS",
   "language": "sos",
   "name": "sos"
  },
  "language_info": {
   "codemirror_mode": "sos",
   "file_extension": ".sos",
   "mimetype": "text/x-sos",
   "name": "sos",
   "nbconvert_exporter": "sos.jupyter.converter.SoS_Exporter",
   "pygments_lexer": "sos"
  },
  "sos": {
   "celltoolbar": true,
   "kernels": [
    [
     "sos",
     "SoS",
     ""
    ],
    [
     "bash",
     "Bash",
     "#E6EEFF"
    ],
    [
     "python2",
     "Python2",
     "#F6FAEA"
    ],
    [
     "ir",
     "R",
     "#FDEDEC"
    ],
    [
     "python3",
     "Python3",
     "#EAFAF1"
    ]
   ],
   "panel": {
    "displayed": true,
    "height": 0,
    "style": "side"
   }
  },
  "toc": {
   "nav_menu": {
    "height": "105px",
    "width": "254px"
   },
   "navigate_menu": true,
   "number_sections": true,
   "sideBar": true,
   "threshold": 4,
   "toc_cell": false,
   "toc_section_display": "block",
   "toc_window_display": false
  }
 },
 "nbformat": 4,
 "nbformat_minor": 1
}
