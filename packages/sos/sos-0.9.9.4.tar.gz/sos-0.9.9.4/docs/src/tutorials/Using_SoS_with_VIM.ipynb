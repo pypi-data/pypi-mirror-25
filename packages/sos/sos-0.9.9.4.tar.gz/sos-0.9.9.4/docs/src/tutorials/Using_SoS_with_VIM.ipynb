{
 "cells": [
  {
   "cell_type": "markdown",
   "metadata": {},
   "source": [
    "# Using SoS with vim and qtconsole"
   ]
  },
  {
   "cell_type": "markdown",
   "metadata": {},
   "source": [
    "If you are a hardcore vim (gvim/mvim) user, you might want to use vim to edit and execute SoS scripts."
   ]
  },
  {
   "cell_type": "markdown",
   "metadata": {},
   "source": [
    "## Syntax highlighting"
   ]
  },
  {
   "cell_type": "markdown",
   "metadata": {},
   "source": [
    "The installer of SoS automatically installs SoS syntax files to `~/.vim` so all you need to do is to add the following line to your `~/.vimrc` or `~/.gvimrc` file:\n",
    "\n",
    "```\n",
    "autocmd BufNewFile,BufRead *.sos set syntax=sos\n",
    "```\n",
    "\n",
    "This will allow vim to syntax-highlight files with `.sos` extension, and files with sheband line\n",
    "\n",
    "```\n",
    "#!/usr/bin/env sos-runner\n",
    "```\n",
    "\n",
    "The vim editor with a dard background and SoS syntax looks like\n",
    "![vim_screenshot](../media/vim_syntax.png)\n"
   ]
  },
  {
   "cell_type": "markdown",
   "metadata": {},
   "source": [
    "## Working with Jupyter qtconsole"
   ]
  },
  {
   "cell_type": "markdown",
   "metadata": {},
   "source": [
    "If you do not mind copy and paste text to a qtconsole, it is quite easy to use vim as your main editor and qtconsole for debugging. Basically, you can edit your script in vim and start a qtconsole on the side using command\n",
    "\n",
    "```\n",
    "% jupyter qtconsole --kernel sos\n",
    "```\n",
    "\n",
    "You can then copy/paste pieces of scripts to qtconsole and execute the code there. You will find it is often easier to use magic `%paste` to paste large pieces of code to qtconsole because pasting from system clipboard can sometime have problem in keeping formats of the pasted code."
   ]
  },
  {
   "cell_type": "markdown",
   "metadata": {},
   "source": [
    "If your vim is compiled with Python support (most likely yes), it is possible to configure it so that you can send lines or pieces of your script directly to qtconsole. Briefly speaking,\n",
    "\n",
    "* SoS\n",
    "\n",
    "  Make sure SoS is installed with jupyter sos kernel. This can be verified using command \n",
    "    ```\n",
    "    jupyter kernelspec list\n",
    "    ```\n",
    "\n",
    "* Jupyter\n",
    "\n",
    "   Make sure that Jupyter is install for **both the system python and the python you are using** because your vim is most likely linked to the system python. If you are using another distribution of python (e.g. anaconda python), you might have to do something like\n",
    "\n",
    "    ```\n",
    "    # if you do not have system pip but have system easy_install\n",
    "    sudo /usr/bin/easy_install pip   \n",
    "    sudo /usr/local/bin/pip install ipython notebook\n",
    "    ```\n",
    "    for your system python installation.\n",
    "\n",
    "* Vim/Gvim/Mvim\n",
    "   \n",
    "    Edit your `~/.vimrc` (or `~/.gvimrc) and make sure you have the following:\n",
    "    ```\n",
    "    autocmd BufNewFile,BufRead *.sos set filetype=sos\n",
    "    syntax on\n",
    "    filetype plugin on\n",
    "    ```\n",
    "    This instructs vim to look for the plugin in the sos-created `ftplugin/sos` folder when a file with type `sos` is loaded.\n",
    "\n",
    "With SoS, iPython/Jupter, and vim configured, you can now open a `.sos` file, and enter \n",
    "```\n",
    ":IPython\n",
    "```\n",
    "This will connect your vim to the qtconsole you just opened. You can enter commands in the qtconsole directly, or use `Shift-Enter` (or `Ctrl-S`) to send current line or selection to the ipython SoS kernel. In addition to SoS code, you could send pieces of R or shell scripts (or other languge) to sub-kernels of SoS, by using `%use R`, `%use python`, etc. SoS will expand the text (string interpolated) before they are sent to these kernels."
   ]
  }
 ],
 "metadata": {
  "anaconda-cloud": {},
  "kernelspec": {
   "display_name": "SoS",
   "language": "sos",
   "name": "sos"
  },
  "language_info": {
   "codemirror_mode": "sos",
   "file_extension": ".sos",
   "mimetype": "text/x-sos",
   "name": "sos",
   "nbconvert_exporter": "sos.jupyter.converter.SoS_Exporter",
   "pygments_lexer": "sos"
  },
  "toc": {
   "nav_menu": {
    "height": "35px",
    "width": "254px"
   },
   "navigate_menu": true,
   "number_sections": true,
   "sideBar": true,
   "threshold": 4,
   "toc_cell": false,
   "toc_section_display": "block",
   "toc_window_display": false
  }
 },
 "nbformat": 4,
 "nbformat_minor": 1
}
