{
 "cells": [
  {
   "cell_type": "code",
   "execution_count": 12,
   "metadata": {
    "kernel": "SoS",
    "scrolled": true
   },
   "outputs": [
    {
     "name": "stdout",
     "output_type": "stream",
     "text": [
      "2 tasks completed.\n",
      "Line count of files are: {0: 26, 1: 1885, 2: 44, 3: 889, 4: 941, 5: 344, 6: 789, 7: 170, 8: 160, 9: 56, 10: 569, 11: 1056, 12: 1236, 13: 1322, 14: 451, 15: 1350, 16: 812, 17: 1098}\n",
      "Total lines of SoS source code is: 13198\n"
     ]
    }
   ],
   "source": [
    "%run -s force\n",
    "[10: shared='line_count']\n",
    "input: '~/sos/sos/*.py', group_by=1\n",
    "task: shared='line_count', trunk_size=10\n",
    "\n",
    "import time\n",
    "time.sleep(5)\n",
    "with open(_input[0]) as ifile:\n",
    "    line_count = ifile.read().count('\\n')\n",
    "\n",
    "[20]\n",
    "print(\"Line count of files are: {}\".format(line_count))\n",
    "print(\"Total lines of SoS source code is: ${sum(line_count.values())}\")"
   ]
  },
  {
   "cell_type": "code",
   "execution_count": 2,
   "metadata": {
    "kernel": "SoS"
   },
   "outputs": [
    {
     "name": "stdout",
     "output_type": "stream",
     "text": [
      "This generation has 1 babies\n",
      "This generation has 2 babies\n",
      "This generation has 3 babies\n",
      "This generation has 5 babies\n",
      "This generation has 8 babies\n",
      "This generation has 13 babies\n",
      "This generation has 21 babies\n",
      "This generation has 34 babies\n",
      "This generation has 55 babies\n",
      "This generation has 89 babies\n",
      "This generation has 144 babies\n",
      "This generation has 233 babies\n",
      "This generation has 377 babies\n",
      "This generation has 610 babies\n",
      "This generation has 987 babies\n"
     ]
    }
   ],
   "source": [
    "parents, babies = (1, 1)\n",
    "while babies < 1000:\n",
    "    print(\"This generation has ${babies} babies\")\n",
    "    parents, babies = (babies, parents + babies)"
   ]
  },
  {
   "cell_type": "code",
   "execution_count": null,
   "metadata": {
    "collapsed": true
   },
   "outputs": [],
   "source": []
  }
 ],
 "metadata": {
  "kernelspec": {
   "display_name": "SoS",
   "language": "sos",
   "name": "sos"
  },
  "language_info": {
   "codemirror_mode": "sos",
   "file_extension": ".sos",
   "mimetype": "text/x-sos",
   "name": "sos",
   "nbconvert_exporter": "sos.jupyter.converter.SoS_Exporter",
   "pygments_lexer": "sos"
  },
  "sos": {
   "kernels": [
    [
     "SoS",
     "sos",
     "",
     ""
    ],
    [
     "Bash",
     "bash",
     "Bash",
     "#E6EEFF"
    ],
    [
     "JavaScript",
     "javascript",
     "JavaScript",
     "#00ff80"
    ],
    [
     "Python2",
     "python2",
     "Python2",
     "#F6FAEA"
    ],
    [
     "rik_local_remote",
     "rik_local_remote",
     "",
     ""
    ],
    [
     "R",
     "ir",
     "R",
     "#FDEDEC"
    ],
    [
     "Python3",
     "python3",
     "Python3",
     "#EAFAF1"
    ]
   ],
   "panel": {
    "displayed": true,
    "height": 0,
    "style": "side"
   }
  }
 },
 "nbformat": 4,
 "nbformat_minor": 2
}
