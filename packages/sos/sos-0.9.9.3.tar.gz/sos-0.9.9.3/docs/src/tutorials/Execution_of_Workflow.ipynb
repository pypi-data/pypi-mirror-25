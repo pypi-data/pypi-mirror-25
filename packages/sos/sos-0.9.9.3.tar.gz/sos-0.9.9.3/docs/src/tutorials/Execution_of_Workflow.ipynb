{
 "cells": [
  {
   "cell_type": "markdown",
   "metadata": {},
   "source": [
    "# Execution of SoS workflows"
   ]
  },
  {
   "cell_type": "markdown",
   "metadata": {},
   "source": [
    "The content of this chapter is largely applicable to batch mode but we represent it in Jupyter notebook for easy reproduction of results. If you are not familiar with Jupyter notebook, please refer to chapter [Notebook Interface](../documentation/Notebook_Interface.html) for details. For the impatience, the magics\n",
    "\n",
    "* `%sandgox` execute the cell in a temporary directory\n",
    "* `!cmd` execute shell command `cmd`\n",
    "* `%run` run the cell as if in command line with specified options\n",
    "* `%rerun` rerun the last executed script (cell content without magics)\n",
    "* `%set` set options that would be included in each `$run` command"
   ]
  },
  {
   "cell_type": "markdown",
   "metadata": {},
   "source": [
    "## logging level"
   ]
  },
  {
   "cell_type": "markdown",
   "metadata": {},
   "source": [
    "SoS uses a logging system to output all sorts of information during the execution of workflows. The amount of output can be controlled by logging level, which can be `error` (0), `warning` (1), `info` (2), `debug` (3), and `trace` (4). The default logging level for SoS is `info` in batch mode and `warning` in interactive mode.\n",
    "\n",
    "For example, logging at `info` level would produce message indicating the steps executed and input output files, but nothing but warning and errors at the `warning` level."
   ]
  },
  {
   "cell_type": "code",
   "execution_count": 1,
   "metadata": {
    "kernel": "sos"
   },
   "outputs": [
    {
     "name": "stderr",
     "output_type": "stream",
     "text": [
      "INFO: Executing \u001b[32mdefault_10\u001b[0m: \n",
      "INFO: input:    \u001b[32m[]\u001b[0m\n",
      "INFO: output:   \u001b[32m[]\u001b[0m\n",
      "INFO: Executing \u001b[32mdefault_20\u001b[0m: \n",
      "INFO: input:    \u001b[32m['a.txt']\u001b[0m\n",
      "INFO: output:   \u001b[32m[]\u001b[0m\n",
      "INFO: Executing \u001b[32mdefault_30\u001b[0m: \n",
      "INFO: input:    \u001b[32m[]\u001b[0m\n",
      "INFO: output:   \u001b[32m[]\u001b[0m\n",
      "INFO: Executing \u001b[32mdefault_40\u001b[0m: \n",
      "INFO: input:    \u001b[32m[]\u001b[0m\n",
      "INFO: output:   \u001b[32m[]\u001b[0m\n",
      "INFO: Workflow default (ID=e067d16745aa5e7b) is executed successfully.\n"
     ]
    }
   ],
   "source": [
    "%sandbox\n",
    "!touch a.txt\n",
    "\n",
    "%run -v2\n",
    "[10]\n",
    "[20]\n",
    "input: 'a.txt'\n",
    "[30]\n",
    "[40]"
   ]
  },
  {
   "cell_type": "code",
   "execution_count": 2,
   "metadata": {
    "collapsed": true,
    "kernel": "sos"
   },
   "outputs": [],
   "source": [
    "%sandbox\n",
    "!touch a.txt\n",
    "\n",
    "%run -v1\n",
    "[10]\n",
    "[20]\n",
    "input: 'a.txt'\n",
    "[30]\n",
    "[40]"
   ]
  },
  {
   "cell_type": "markdown",
   "metadata": {},
   "source": [
    "## `dryrun` mode"
   ]
  },
  {
   "cell_type": "markdown",
   "metadata": {},
   "source": [
    "The `dryrun` mode is used to check for syntax errors of a SoS script without actually executing any of the actions. It can be specified with option `-n`. For example, running the following script in dryrun mode would produce an error message"
   ]
  },
  {
   "cell_type": "code",
   "execution_count": 3,
   "metadata": {},
   "outputs": [
    {
     "name": "stderr",
     "output_type": "stream",
     "text": [
      "File contains parsing errors: <string>\n",
      "\t[line  1]: [10, skip=False]\n",
      "sh:\n",
      "   echo \"I am command echo\"\n",
      "Invalid statements: SyntaxError('invalid syntax', ('<string>', 1, 10, '[10, skip=False]\\n'))\n"
     ]
    }
   ],
   "source": [
    "%sandbox --expect-error\n",
    "%run -n\n",
    "[10, skip=False]\n",
    "sh:\n",
    "   echo \"I am command echo\""
   ]
  },
  {
   "cell_type": "markdown",
   "metadata": {},
   "source": [
    "because the header of the step is wrong (should use `:` instead of `,`)."
   ]
  },
  {
   "cell_type": "markdown",
   "metadata": {},
   "source": [
    "The dryrun mode would print the commands in a script without actually executing them:"
   ]
  },
  {
   "cell_type": "code",
   "execution_count": 4,
   "metadata": {
    "kernel": "sos"
   },
   "outputs": [
    {
     "name": "stdout",
     "output_type": "stream",
     "text": [
      "/bin/sh:\n",
      "echo \"I am command echo\"\n",
      "sleep 100000000\n",
      "\n"
     ]
    }
   ],
   "source": [
    "%run -n\n",
    "[10: skip=False]\n",
    "sh:\n",
    "   echo \"I am command echo\"\n",
    "   sleep 100000000"
   ]
  },
  {
   "cell_type": "markdown",
   "metadata": {},
   "source": [
    "## Change system $PATH"
   ]
  },
  {
   "cell_type": "markdown",
   "metadata": {},
   "source": [
    "There are cases where you would like to use a specific version of programs for your workflow but do not want to change the system `$PATH` because of its global effect. In this case you can prepend pathes to these executables to `$PATH` using option `-b`.\n",
    "\n",
    "The following example first cretes a executable `ls` in `tmp` with an `echo` command. Using the option `-b tmp`, the `tmp` directory is prefixed to the system `$PATH` before the workflow is executed. The consequence is that this fake `ls` supersedes the system `ls` when `ls` is called in `step_10` of the workflow."
   ]
  },
  {
   "cell_type": "code",
   "execution_count": 5,
   "metadata": {
    "kernel": "sos"
   },
   "outputs": [
    {
     "name": "stdout",
     "output_type": "stream",
     "text": [
      "This is fake ls\n"
     ]
    }
   ],
   "source": [
    "%sandbox\n",
    "!mkdir tmp\n",
    "!echo \"#!/bin/bash\" > tmp/ls\n",
    "!echo \"echo This is fake ls\" >> tmp/ls\n",
    "!chmod +x tmp/ls\n",
    "\n",
    "%run -b tmp\n",
    "[10]\n",
    "sh:\n",
    "    ls"
   ]
  },
  {
   "cell_type": "markdown",
   "metadata": {},
   "source": [
    "The `-b` option has a default value `~/.sos/bin`, so any command under `~/.sos/bin` would be executed (before system command with the same name) even if the executables are not under system `$PATH`. This feature allows you to create commands that would only be used inside SoS-scripts, and more interestingly, allows you to create executable or install programs on-the-fly.\n",
    "\n",
    "For example, step 20 of the following workflow depends on an executable `lls` that is not a system executable."
   ]
  },
  {
   "cell_type": "code",
   "execution_count": 6,
   "metadata": {
    "collapsed": true,
    "kernel": "sos"
   },
   "outputs": [],
   "source": [
    "%sandbox\n",
    "!rm -f ~/.sos/bin/lls\n",
    "\n",
    "[install_lls: provides=executable('lls')]\n",
    "run:\n",
    "    echo \"#!/bin/bash\" > ~/.sos/bin/lls\n",
    "    echo \"echo This is lls\" >> ~/.sos/bin/lls\n",
    "    chmod +x ~/.sos/bin/lls\n",
    "\n",
    "[20]\n",
    "depends: executable('lls')\n",
    "run:\n",
    "    lls"
   ]
  },
  {
   "cell_type": "markdown",
   "metadata": {},
   "source": [
    "because `lls` is created under `~/.sos/bin`, it would be immediately available to SoS after the `install_lls` step. This works for any program as long as you can create a symbolic link under `~/.sos/bin` after its installation."
   ]
  },
  {
   "cell_type": "markdown",
   "metadata": {},
   "source": [
    "You can always disable this behavior by setting option `-b` without value."
   ]
  },
  {
   "cell_type": "markdown",
   "metadata": {},
   "source": [
    "## Runtime signature"
   ]
  },
  {
   "cell_type": "markdown",
   "metadata": {},
   "source": [
    "One of the most annonying problems with the development and execution of workflows is that it can take very long times to execute then. What makes things worse is that we frequently need to re-run the workflow with different paremeters and even different tools -- it can be really time-consuming to re-execute the whole workflow repeatedly, but it is also very error-prone to repeat selected steps of a workflow. \n",
    "\n",
    "SoS addresses this problem by using <font color='red'>runtime signatures</font> to keep track of <font color='red'>execution units</font>, namely the input, output, and dependent targets, and related SoS variables of a piece of workflow. SoS tracks execution of statements at the step level for each [input group](../documentation/SoS_Step.html) and saves runtime signatures at a folder called `.sos` under the project directory. The runtime signatures are used to\n",
    "\n",
    "1. Avoid repeated execution of identical units, and\n",
    "2. Keep track of workflow related files for project management\n",
    "\n",
    "This tutorial focuses on the first usage. The second one would be described in detail in [Project Management](Project_Management.html)."
   ]
  },
  {
   "cell_type": "markdown",
   "metadata": {},
   "source": [
    "### `ignore` mode"
   ]
  },
  {
   "cell_type": "markdown",
   "metadata": {},
   "source": [
    "SoS workflows can be executed in batch mode and in interactive mode using the SoS kernel in Jupyter notebook or qtconsole. Because the SoS kernel is mostly used to execute short statements in SOS and other kernels, runtime signatures are by default set to `ignore` in interactive mode (and to `default` in batch mode)."
   ]
  },
  {
   "cell_type": "markdown",
   "metadata": {},
   "source": [
    "Let us create a temporary directory and execute a workflow that take a bit of time to execute. This is done in the default `ignore` signature mode of the Jupyter notebook"
   ]
  },
  {
   "cell_type": "code",
   "execution_count": 7,
   "metadata": {
    "collapsed": true,
    "kernel": "sos"
   },
   "outputs": [],
   "source": [
    "%sandbox --dir tmp\n",
    "\n",
    "!rm -rf .sos/.runtime\n",
    "![ -d temp ] || mkdir temp"
   ]
  },
  {
   "cell_type": "code",
   "execution_count": 8,
   "metadata": {
    "collapsed": true,
    "kernel": "sos"
   },
   "outputs": [],
   "source": [
    "%sandbox --dir tmp\n",
    "\n",
    "parameter: size=1000\n",
    "[10]\n",
    "output:  \"temp/result.txt\"\n",
    "sh:\n",
    "    dd if=/dev/urandom of=${output} count=${size}\n",
    "\n",
    "[20]\n",
    "output:  'temp/size.txt'\n",
    "with open(output[0], 'w') as sz:\n",
    "    sz.write(\"${input}: ${os.path.getsize(input[0])}\\n\")"
   ]
  },
  {
   "cell_type": "markdown",
   "metadata": {},
   "source": [
    "Now, if we re-run the last script, nothing changes and it takes a bit of time to execute the script."
   ]
  },
  {
   "cell_type": "code",
   "execution_count": 9,
   "metadata": {
    "kernel": "sos"
   },
   "outputs": [
    {
     "name": "stderr",
     "output_type": "stream",
     "text": [
      "1000+0 records in\n",
      "1000+0 records out\n",
      "512000 bytes transferred in 0.043572 secs (11750679 bytes/sec)\n"
     ]
    }
   ],
   "source": [
    "%sandbox --dir tmp\n",
    "%rerun"
   ]
  },
  {
   "cell_type": "markdown",
   "metadata": {},
   "source": [
    "### `default` mode"
   ]
  },
  {
   "cell_type": "markdown",
   "metadata": {},
   "source": [
    "Now let us switch to `default` mode of signature by running the script with option `-s default`. When you run the script for the first time, it would execute normally and save runtime signature of the steps."
   ]
  },
  {
   "cell_type": "code",
   "execution_count": 10,
   "metadata": {
    "kernel": "sos"
   },
   "outputs": [
    {
     "name": "stderr",
     "output_type": "stream",
     "text": [
      "1000+0 records in\n",
      "1000+0 records out\n",
      "512000 bytes transferred in 0.039883 secs (12837583 bytes/sec)\n"
     ]
    }
   ],
   "source": [
    "%sandbox --dir tmp\n",
    "%rerun -s default"
   ]
  },
  {
   "cell_type": "markdown",
   "metadata": {},
   "source": [
    "but both steps would be ignored. Here we use `-v2` to show the `ignored` message. This time we use magic `%set` to make option `-s default` persistent so that we do not have to specify it each time."
   ]
  },
  {
   "cell_type": "code",
   "execution_count": 11,
   "metadata": {
    "kernel": "sos"
   },
   "outputs": [
    {
     "name": "stdout",
     "output_type": "stream",
     "text": [
      "Set sos options to \"-s default\"\n"
     ]
    },
    {
     "name": "stderr",
     "output_type": "stream",
     "text": [
      "INFO: Executing \u001b[32mdefault_10\u001b[0m: \n",
      "INFO: input:    \u001b[32m[]\u001b[0m\n",
      "INFO: Step \u001b[32mdefault_10\u001b[0m (index=0) is \u001b[32mignored\u001b[0m due to saved signature\n",
      "INFO: output:   \u001b[32m['temp/result.txt']\u001b[0m\n",
      "INFO: Executing \u001b[32mdefault_20\u001b[0m: \n",
      "INFO: input:    \u001b[32m['temp/result.txt']\u001b[0m\n",
      "INFO: Step \u001b[32mdefault_20\u001b[0m (index=0) is \u001b[32mignored\u001b[0m due to saved signature\n",
      "INFO: output:   \u001b[32m['temp/size.txt']\u001b[0m\n",
      "INFO: Workflow default (ID=9cfb3e78e2ed3527) is executed successfully.\n"
     ]
    }
   ],
   "source": [
    "%sandbox --dir tmp\n",
    "%set -s default\n",
    "%rerun -v2"
   ]
  },
  {
   "cell_type": "markdown",
   "metadata": {},
   "source": [
    "However, if you use a different parameter (not the default `size=1000`), the steps would be rerun"
   ]
  },
  {
   "cell_type": "code",
   "execution_count": 12,
   "metadata": {
    "kernel": "sos"
   },
   "outputs": [
    {
     "name": "stderr",
     "output_type": "stream",
     "text": [
      "INFO: Executing \u001b[32mdefault_10\u001b[0m: \n",
      "INFO: input:    \u001b[32m[]\u001b[0m\n",
      "2000+0 records in\n",
      "2000+0 records out\n",
      "1024000 bytes transferred in 0.082578 secs (12400406 bytes/sec)\n",
      "INFO: output:   \u001b[32m['temp/result.txt']\u001b[0m\n",
      "INFO: Executing \u001b[32mdefault_20\u001b[0m: \n",
      "INFO: input:    \u001b[32m['temp/result.txt']\u001b[0m\n",
      "INFO: output:   \u001b[32m['temp/size.txt']\u001b[0m\n",
      "INFO: Workflow default (ID=b1aad5f5c7dcd74a) is executed successfully.\n"
     ]
    }
   ],
   "source": [
    "%sandbox --dir tmp\n",
    "%rerun -v2 --size 2000"
   ]
  },
  {
   "cell_type": "markdown",
   "metadata": {},
   "source": [
    "The signature is at the step level so if you change the second step of the script, the first step would still be skipped. Note that the step is independent of the script executed so a step would be skipped even if its signature was saved by the execution of another workflow. The signature is clever enough to allow minor changes such as addition of spaces and comments."
   ]
  },
  {
   "cell_type": "code",
   "execution_count": 13,
   "metadata": {
    "kernel": "sos"
   },
   "outputs": [
    {
     "name": "stderr",
     "output_type": "stream",
     "text": [
      "INFO: Executing \u001b[32mdefault_10\u001b[0m: \n",
      "INFO: input:    \u001b[32m[]\u001b[0m\n",
      "INFO: Step \u001b[32mdefault_10\u001b[0m (index=0) is \u001b[32mignored\u001b[0m due to saved signature\n",
      "INFO: output:   \u001b[32m['temp/result.txt']\u001b[0m\n",
      "INFO: Executing \u001b[32mdefault_20\u001b[0m: \n",
      "INFO: input:    \u001b[32m['temp/result.txt']\u001b[0m\n",
      "INFO: output:   \u001b[32m['temp/size.txt']\u001b[0m\n",
      "INFO: Workflow default (ID=c504a1ca139465fe) is executed successfully.\n"
     ]
    }
   ],
   "source": [
    "%sandbox --dir tmp\n",
    "%run --size 2000 -v2\n",
    "parameter: size=1000\n",
    "[10]\n",
    "output:  \"temp/result.txt\"\n",
    "# added comment\n",
    "sh:\n",
    "    dd if=/dev/urandom of=${output} count=${size}\n",
    "\n",
    "[20]\n",
    "output:  'temp/size.txt'\n",
    "with open(output[0], 'w') as sz:\n",
    "    sz.write(\"Modified ${input}: ${os.path.getsize(input[0])}\\n\")"
   ]
  },
  {
   "cell_type": "markdown",
   "metadata": {},
   "source": [
    "### `assert` mode"
   ]
  },
  {
   "cell_type": "markdown",
   "metadata": {},
   "source": [
    "The `assert` mode is used to detect if anything has been changed after the execution of a workflow. For example,"
   ]
  },
  {
   "cell_type": "code",
   "execution_count": 14,
   "metadata": {
    "kernel": "sos"
   },
   "outputs": [
    {
     "name": "stdout",
     "output_type": "stream",
     "text": [
      "Set sos options to \"-s assert\"\n"
     ]
    },
    {
     "name": "stderr",
     "output_type": "stream",
     "text": [
      "INFO: Executing \u001b[32mdefault_10\u001b[0m: \n",
      "INFO: input:    \u001b[32m[]\u001b[0m\n",
      "INFO: Step \u001b[32mdefault_10\u001b[0m (index=0) is \u001b[32mignored\u001b[0m with matching signature\n",
      "INFO: output:   \u001b[32m['temp/result.txt']\u001b[0m\n",
      "INFO: Executing \u001b[32mdefault_20\u001b[0m: \n",
      "INFO: input:    \u001b[32m['temp/result.txt']\u001b[0m\n",
      "INFO: Step \u001b[32mdefault_20\u001b[0m (index=0) is \u001b[32mignored\u001b[0m with matching signature\n",
      "INFO: output:   \u001b[32m['temp/size.txt']\u001b[0m\n",
      "INFO: Workflow default (ID=c504a1ca139465fe) is executed successfully.\n"
     ]
    }
   ],
   "source": [
    "%sandbox --dir tmp\n",
    "%set -s assert\n",
    "%rerun --size 2000 -v2"
   ]
  },
  {
   "cell_type": "markdown",
   "metadata": {},
   "source": [
    "Now if you change one of the output files, sos would fail with an error message."
   ]
  },
  {
   "cell_type": "code",
   "execution_count": 15,
   "metadata": {
    "kernel": "sos"
   },
   "outputs": [
    {
     "name": "stderr",
     "output_type": "stream",
     "text": [
      "INFO: Executing \u001b[32mdefault_10\u001b[0m: \n",
      "INFO: input:    \u001b[32m[]\u001b[0m\n",
      "Failed to process step output: \"temp/result.txt\" (Signature mismatch: File has changed temp/result.txt)\n"
     ]
    }
   ],
   "source": [
    "%sandbox --expect-error --dir tmp\n",
    "!echo \"aaa\" >> temp/result.txt\n",
    "%rerun --size 2000 -v2"
   ]
  },
  {
   "cell_type": "markdown",
   "metadata": {},
   "source": [
    "### `force` mode"
   ]
  },
  {
   "cell_type": "markdown",
   "metadata": {},
   "source": [
    "The `force` signature mode ignores existing signatures and re-run the workflow. This is needed when you would like to forcefully re-run all the steps to generate another set of output if outcome of some steps is random, or to re-run the workflow because of changes that is not tracked by SoS, for example after you have installed a new version of a program."
   ]
  },
  {
   "cell_type": "code",
   "execution_count": 16,
   "metadata": {
    "kernel": "sos"
   },
   "outputs": [
    {
     "name": "stdout",
     "output_type": "stream",
     "text": [
      "Reset sos options from \"-s assert\" to \"\"\n"
     ]
    },
    {
     "name": "stderr",
     "output_type": "stream",
     "text": [
      "2000+0 records in\n",
      "2000+0 records out\n",
      "1024000 bytes transferred in 0.078605 secs (13027172 bytes/sec)\n"
     ]
    }
   ],
   "source": [
    "%sandbox --dir tmp\n",
    "%set\n",
    "%rerun --size 2000 -s force"
   ]
  },
  {
   "cell_type": "markdown",
   "metadata": {},
   "source": [
    "### `build` mode"
   ]
  },
  {
   "cell_type": "markdown",
   "metadata": {},
   "source": [
    "The `build` mode is somewhat opposite to the `force` mode in that it creates (or overwrite existing signature if exists) with existing output files. It is useful, for example, if you are adding a step to a workflow that you have tested outside of SoS (without signature) but do not want to rerun it, or if for some reason you have lost your signature files and would like to reconstruct them from existing outputs."
   ]
  },
  {
   "cell_type": "code",
   "execution_count": 17,
   "metadata": {
    "kernel": "sos"
   },
   "outputs": [
    {
     "name": "stderr",
     "output_type": "stream",
     "text": [
      "INFO: Executing \u001b[32mdefault_10\u001b[0m: \n",
      "INFO: input:    \u001b[32m[]\u001b[0m\n",
      "INFO: Step \u001b[32mdefault_10\u001b[0m (index=0) is \u001b[32mignored\u001b[0m with signature constructed\n",
      "INFO: output:   \u001b[32m['temp/result.txt']\u001b[0m\n",
      "INFO: Executing \u001b[32mdefault_20\u001b[0m: \n",
      "INFO: input:    \u001b[32m['temp/result.txt']\u001b[0m\n",
      "INFO: Step \u001b[32mdefault_20\u001b[0m (index=0) is \u001b[32mignored\u001b[0m with signature constructed\n",
      "INFO: output:   \u001b[32m['temp/size.txt']\u001b[0m\n",
      "INFO: Workflow default (ID=c504a1ca139465fe) is executed successfully.\n"
     ]
    }
   ],
   "source": [
    "%sandbox --dir tmp\n",
    "%rerun --size 2000 -s build -v2"
   ]
  },
  {
   "cell_type": "markdown",
   "metadata": {
    "collapsed": true
   },
   "source": [
    "This mode can introduce erraneous files to the signatures because it does not check the validity of the incorporated files. For example, SoS would not complain if you change parameter and replace `temp/result.txt` with something else."
   ]
  },
  {
   "cell_type": "code",
   "execution_count": 18,
   "metadata": {
    "kernel": "sos"
   },
   "outputs": [
    {
     "name": "stderr",
     "output_type": "stream",
     "text": [
      "INFO: Executing \u001b[32mdefault_10\u001b[0m: \n",
      "INFO: input:    \u001b[32m[]\u001b[0m\n",
      "INFO: Step \u001b[32mdefault_10\u001b[0m (index=0) is \u001b[32mignored\u001b[0m with signature constructed\n",
      "INFO: output:   \u001b[32m['temp/result.txt']\u001b[0m\n",
      "INFO: Executing \u001b[32mdefault_20\u001b[0m: \n",
      "INFO: input:    \u001b[32m['temp/result.txt']\u001b[0m\n",
      "INFO: Step \u001b[32mdefault_20\u001b[0m (index=0) is \u001b[32mignored\u001b[0m with signature constructed\n",
      "INFO: output:   \u001b[32m['temp/size.txt']\u001b[0m\n",
      "INFO: Workflow default (ID=37822fa9f98ef8c1) is executed successfully.\n"
     ]
    }
   ],
   "source": [
    "%sandbox --dir tmp\n",
    "!echo \"something else\" > temp/result.txt\n",
    "%rerun -s build -v2"
   ]
  },
  {
   "cell_type": "code",
   "execution_count": 19,
   "metadata": {
    "collapsed": true,
    "kernel": "sos"
   },
   "outputs": [],
   "source": [
    "# cleanup\n",
    "!rm -rf tmp"
   ]
  },
  {
   "cell_type": "markdown",
   "metadata": {},
   "source": [
    "### Removal of large intermediate files"
   ]
  },
  {
   "cell_type": "markdown",
   "metadata": {},
   "source": [
    "SoS keep tracks of all intermediate files and will rerun steps only if any of the tracked files are removed or changed. However, it is often desired to remove some of the large non-essential intemediate files to reduce diskspace used by completed workflows, while allowing the workflow to be re-executed without these files. SoS provides a command\n",
    "\n",
    "```\n",
    "sos remove files --zap\n",
    "```\n",
    "\n",
    "to zap specified file, or for example\n",
    "\n",
    "```\n",
    "sos remove . --size +5G --zap\n",
    "```\n",
    "to zap all files larger than 5G. This command removes specified files but keeps a special `${file}.zapped` file with essential information (e.g. md5 signature, and size). SoS would consider a file exist when a `.zapped` file is present and will only regenerate the file if the actual file is needed for a later step."
   ]
  },
  {
   "cell_type": "markdown",
   "metadata": {},
   "source": [
    "For example, let us execute a workflow with output `temp/result.txt`, and `temp/size.txt`."
   ]
  },
  {
   "cell_type": "code",
   "execution_count": 20,
   "metadata": {
    "kernel": "sos"
   },
   "outputs": [
    {
     "name": "stderr",
     "output_type": "stream",
     "text": [
      "2000+0 records in\n",
      "2000+0 records out\n",
      "1024000 bytes transferred in 0.082712 secs (12380317 bytes/sec)\n"
     ]
    }
   ],
   "source": [
    "%run -s force\n",
    "[10]\n",
    "output:  \"temp/result.txt\"\n",
    "# added comment\n",
    "sh:\n",
    "    dd if=/dev/urandom of=${output} count=2000\n",
    "\n",
    "[20]\n",
    "output:  'temp/size.txt'\n",
    "with open(output[0], 'w') as sz:\n",
    "    sz.write(\"Modified ${input}: ${os.path.getsize(input[0])}\\n\")"
   ]
  },
  {
   "cell_type": "markdown",
   "metadata": {},
   "source": [
    "and let us zap the intermediate file `temp/result.txt`,"
   ]
  },
  {
   "cell_type": "code",
   "execution_count": 21,
   "metadata": {
    "kernel": "sos"
   },
   "outputs": [
    {
     "name": "stderr",
     "output_type": "stream",
     "text": [
      "INFO: 2 tracked files from 1 run are identified.\n",
      "INFO: 1 file zapped\n"
     ]
    },
    {
     "name": "stdout",
     "output_type": "stream",
     "text": [
      "Zap tracked file temp/result.txt\n",
      "result.txt.zapped\n",
      "size.txt\n"
     ]
    }
   ],
   "source": [
    "!sos remove temp/result.txt --zap -y\n",
    "!ls temp"
   ]
  },
  {
   "cell_type": "markdown",
   "metadata": {
    "collapsed": true
   },
   "source": [
    "As you can see, `temp/result.txt` is replaced with `temp/result.txt.zapped`. Now if you rerun the workflow"
   ]
  },
  {
   "cell_type": "code",
   "execution_count": 22,
   "metadata": {
    "kernel": "sos"
   },
   "outputs": [
    {
     "name": "stderr",
     "output_type": "stream",
     "text": [
      "INFO: Executing \u001b[32mdefault_10\u001b[0m: \n",
      "INFO: input:    \u001b[32m[]\u001b[0m\n",
      "INFO: Step \u001b[32mdefault_10\u001b[0m (index=0) is \u001b[32mignored\u001b[0m due to saved signature\n",
      "INFO: output:   \u001b[32m['temp/result.txt']\u001b[0m\n",
      "INFO: Executing \u001b[32mdefault_20\u001b[0m: \n",
      "INFO: input:    \u001b[32m['temp/result.txt']\u001b[0m\n",
      "INFO: Step \u001b[32mdefault_20\u001b[0m (index=0) is \u001b[32mignored\u001b[0m due to saved signature\n",
      "INFO: output:   \u001b[32m['temp/size.txt']\u001b[0m\n",
      "INFO: Workflow default (ID=a22d68cbc860dcdd) is executed successfully.\n"
     ]
    }
   ],
   "source": [
    "%rerun -s default -v2"
   ]
  }
 ],
 "metadata": {
  "anaconda-cloud": {},
  "kernelspec": {
   "display_name": "SoS",
   "language": "sos",
   "name": "sos"
  },
  "language_info": {
   "codemirror_mode": "sos",
   "file_extension": ".sos",
   "mimetype": "text/x-sos",
   "name": "sos",
   "nbconvert_exporter": "sos.jupyter.converter.SoS_Exporter",
   "pygments_lexer": "sos"
  },
  "sos": {
   "celltoolbar": true,
   "kernels": [
    [
     "Bash",
     "bash",
     "Bash",
     "#E6EEFF"
    ],
    [
     "JavaScript",
     "javascript",
     "JavaScript",
     "#00ff80"
    ],
    [
     "Python2",
     "python2",
     "Python2",
     "#F6FAEA"
    ],
    [
     "rik_local_remote",
     "rik_local_remote",
     "",
     ""
    ],
    [
     "R",
     "ir",
     "R",
     "#FDEDEC"
    ],
    [
     "Python3",
     "python3",
     "Python3",
     "#EAFAF1"
    ],
    [
     "SoS",
     "sos",
     "",
     ""
    ]
   ],
   "panel": {
    "displayed": true,
    "height": 0,
    "style": "side"
   }
  },
  "toc": {
   "colors": {
    "hover_highlight": "#DAA520",
    "running_highlight": "#FF0000",
    "selected_highlight": "#FFD700"
   },
   "moveMenuLeft": true,
   "nav_menu": {
    "height": "111px",
    "width": "254px"
   },
   "navigate_menu": true,
   "number_sections": true,
   "sideBar": true,
   "threshold": 4,
   "toc_cell": false,
   "toc_section_display": "block",
   "toc_window_display": true
  }
 },
 "nbformat": 4,
 "nbformat_minor": 2
}
