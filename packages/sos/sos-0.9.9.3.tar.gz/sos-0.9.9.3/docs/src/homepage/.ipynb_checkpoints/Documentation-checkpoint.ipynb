{
 "cells": [
  {
   "cell_type": "markdown",
   "metadata": {},
   "source": [
    "# Presentations"
   ]
  },
  {
   "cell_type": "markdown",
   "metadata": {},
   "source": [
    "* [Script of Scripts: An interactive, cross-platform, and cross-language workflow system for reproducible data analysis](doc/presentations/SoS_Reproducible_Data_Analysis_June7_2017/index.html)\n",
    " <small>The University of Texas, MD Anderson Cancer Center. June 7th, 2017</small><br>\n",
    "This presentation focuses on the <b>Jupyter Interface</b> and the <b>SoS Task Model</b> and is highly recommended as an overview of SoS features for reproducible data analysis.\n",
    "* [Script of Scripts for the writing and execution of scripts in multiple languages](doc/presentations/SoS_BCB_Jan23_2017/index.html) <small>The University of Texas, MD Anderson Cancer Center. Jan 23, 2017</small><br>\n",
    "The first (Jupyter Interface) and third (External Tasks) parts of this presentation is mostly outdated. Please only focus on the <b>Command Line Interface</b> section of the presentation."
   ]
  },
  {
   "cell_type": "markdown",
   "metadata": {},
   "source": [
    "# SoS Reference\n",
    "\n",
    "* [SoS syntax and structure of SoS scripts](doc/documentation/SoS_Syntax.html)<br>\n",
    "  <small>An overview of the SoS syntax and key components of SoS scripts</small>\n",
    "    \n",
    "* [SoS Jupyter kernel, features and magics](doc/documentation/Notebook_Interface.html)<br>\n",
    "  <small>Using SoS with Jupyter notebook</small>\n",
    "\n",
    "* [Step options, statements and their options](doc/documentation/SoS_Step.html)<br>\n",
    "  <small>Section options, input, output, depends statements and their options.</small>\n",
    "\n",
    "* [SoS actions, targets, and functions](doc/documentation/Targets_and_Actions.html)<br>\n",
    "  <small>Complete references to all SoS functions, actions, and targets.</small>\n",
    "\n",
    "* [Remote execution of workflows and external tasks](doc/documentation/Remote_Execution.html)<br>\n",
    "  <small>Running workflows and tasks remotely</small>\n",
    "   \n",
    "* [Command-line Interface](doc/documentation/User_Interface.html)<br>\n",
    "  <small>Command line interface of SoS</small>\n",
    "\n",
    "* [Extending SoS](doc/documentation/Extending_SoS.html)<br>\n",
    "  <small>Define your own target, language, converter.</small>"
   ]
  },
  {
   "cell_type": "markdown",
   "metadata": {},
   "source": [
    "# Tutorials"
   ]
  },
  {
   "cell_type": "markdown",
   "metadata": {},
   "source": [
    "\n",
    "* [Quick Start Guide](doc/tutorials/Quick_Start_Guide.html)<br>\n",
    "     <small>A quick tour of SoS features</small>\n",
    "* [Execution of Workflow](doc/tutorials/Execution_of_Workflow.html)<br>\n",
    "     <small>Options and methods to execute a workflow</small>\n",
    "* [Makefile-style workflows](doc/tutorials/Auxiliary_Steps.html)<br>\n",
    "    <small>Write and execute workflows in makefile style</small>\n",
    "* [SoS Docker Guide](doc/tutorials/SoS_Docker_Guide.html)<br>\n",
    "   <small>Running commands in docker containers</small>\n",
    "* [Generating Reports](doc/tutorials/Generating_Reports.html)<br>\n",
    "   Generate reports using [pandoc](http://pandoc.org/) or [Rmarkdown](http://rmarkdown.rstudio.com/)\n",
    "* [File Conversion](doc/tutorials/File_Conversion.html)<br>\n",
    "   <small>Conversion between <code>.sos</code>, <code>.ipynb</code>, <code>.html</code> and other formats</small>\n",
    "* [Project Management](doc/tutorials/Project_Management.html)<br>\n",
    "    <small>Manage files and archive projects.</small>\n",
    "* [Remote_Execution](doc/tutorials/Remote_Execution.html)<br>\n",
    "    <small>Execute tasks on remote hosts with or without shared file systems</small>\n"
   ]
  },
  {
   "cell_type": "markdown",
   "metadata": {},
   "source": [
    "# Examples\n",
    "\n",
    "Jupyter notebook to demonstrate features of SoS\n",
    "\n",
    "* [Types of cells](doc/examples/Types_of_cells.html) ([notebook](doc/examples/Types_of_cells.ipynb))<br>\n",
    "  <small>Demonstrate four types of cells that can be included in a Jupyter notebook</small>\n",
    "* <img src=\"img/R.png\" style=\"width:16pt;height:16pt;margin-right:5pt;\"> [DEG Annotation](doc/examples/DEG_Annotation.html) ([notebook](doc/examples/DEG_Annotation.ipynb))<br>\n",
    "  <small>An example to use Python to read an excel file, transfer the data to R, use R to translate ensembl gene IDs to HGNC gene names, then transfer data back to Python to write to a separate excel file</small>\n",
    "* [DEG Annotation with external task](doc/examples/DEG_Annotation_remote.html) ([notebook](doc/examples/DEG_Annotation_remote.ipynb))<br>\n",
    "  <small>The same example but submit the R part of the workflow as an external task</small>\n",
    "* <img src=\"img/R.png\" style=\"width:16pt;height:16pt;margin-right:5pt;\"> [Generation of reports with hidden details](doc/examples/Preview_and_Report_Generation.html) ([notebook](doc/examples/Preview_and_Report_Generation.ipynb) and [generated report](doc/examples/Preview_and_Report_Generation_report.html))<br>\n",
    "  <small>This example demonstrates how to generate a report in HTML format with hidden details</small>\n",
    "* [Simple External Tasks](doc/examples/LineCount.html) ([notebook](doc/examples/LineCount.ipynb))<br>\n",
    "  <small>An example to generate and execute a number of external tasks in Jupyter notebook. You can try to use option <code>trunk_size</code> to group the tasks. This example also demonstrates the use of option <code>shared</code> to collect results from tasks as variables</small>\n",
    "* [Remote Target](doc/examples/Remote_Target.html) ([notebook](doc/examples/Remote_Target.ipynb))<br>\n",
    "  <small>An example on the analysis of targets that reside on remote servers using target <code>remote()</code> and step option <code>remote</code></small>\n",
    "* <img src=\"img/SAS.png\" style=\"width:16pt;height:16pt;margin-right:5pt;\"><img src=\"img/R.png\" style=\"width:16pt;height:16pt;margin-right:5pt;\"> [Use SAS with SoS](doc/examples/SAS_Example.html)  ([notebook](doc/examples/SAS_Example.ipynb))<br>\n",
    "  <small>Simple examples on using SAS with SoS</small>\n",
    "\n",
    "Example scripts for real-world data analysis\n",
    "\n",
    "* [LP_Forward.sos](doc/examples/LP_Forward.html) ([script](doc/examples/LP_Forward.sos))<br>\n",
    "  <small>Demonstration of a forward-style workflow that executes steps in pre-sepecified order.</small>\n",
    "\n",
    "* [LP_Make.sos](doc/examples/LP_Make.html) ([script](doc/examples/LP_Make.sos))<br>\n",
    "  <small>Demonstration of a Makefile-style workflow that executes steps that are needed to generate specified outcome.</small>\n",
    "  \n",
    "SoS scripts for the maintenance of SoS\n",
    "* [update_toc.sos](doc/examples/update_toc.html) ([script](doc/examples/update_toc.sos))<br>\n",
    "   <small>A sos script that was used by SoS to update TOC of the wiki pages</small>\n",
    "* [release](doc/examples/release.html) ([script](doc/examples/release))<br>\n",
    "   <small>Script to manage SoS website and release SoS to pip, docker hub, etc</small>\n",
    "\n"
   ]
  }
 ],
 "metadata": {
  "anaconda-cloud": {},
  "kernelspec": {
   "display_name": "SoS",
   "language": "sos",
   "name": "sos"
  },
  "language_info": {
   "codemirror_mode": "sos",
   "file_extension": ".sos",
   "mimetype": "text/x-sos",
   "name": "sos",
   "nbconvert_exporter": "sos.jupyter.converter.SoS_Exporter",
   "pygments_lexer": "sos"
  },
  "sos": {
   "celltoolbar": true,
   "kernels": [
    [
     "Bash",
     "bash",
     "Bash",
     "#E6EEFF"
    ],
    [
     "Octave",
     "octave",
     "Octave",
     "#FA8072"
    ],
    [
     "Python2",
     "python2",
     "Python2",
     "#EAFAF1"
    ],
    [
     "R",
     "ir",
     "R",
     "#FDEDEC"
    ],
    [
     "Python3",
     "python3",
     "Python3",
     "#EAFAF1"
    ],
    [
     "SoS",
     "sos",
     "",
     ""
    ]
   ],
   "panel": {
    "displayed": true,
    "height": 0,
    "style": "side"
   }
  },
  "toc": {
   "colors": {
    "hover_highlight": "#DAA520",
    "running_highlight": "#FF0000",
    "selected_highlight": "#FFD700"
   },
   "moveMenuLeft": true,
   "nav_menu": {
    "height": "45px",
    "width": "254px"
   },
   "navigate_menu": true,
   "number_sections": true,
   "sideBar": true,
   "threshold": 4,
   "toc_cell": false,
   "toc_section_display": "block",
   "toc_window_display": true
  }
 },
 "nbformat": 4,
 "nbformat_minor": 2
}
