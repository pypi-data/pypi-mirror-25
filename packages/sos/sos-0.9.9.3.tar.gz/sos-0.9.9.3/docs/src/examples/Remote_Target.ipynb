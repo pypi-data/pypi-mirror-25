{
 "cells": [
  {
   "cell_type": "markdown",
   "metadata": {},
   "source": [
    "## Using remote targets"
   ]
  },
  {
   "cell_type": "markdown",
   "metadata": {},
   "source": [
    "`remote` targets are targets that reside on remote hosts. They are only handled inside `task` because only tasks are executed remotely."
   ]
  },
  {
   "cell_type": "markdown",
   "metadata": {
    "kernel": "SoS"
   },
   "source": [
    "### All `remote` targets"
   ]
  },
  {
   "cell_type": "markdown",
   "metadata": {},
   "source": [
    "The most straigforward way to specify a remote target is through the use of `remote()` function, which converts a local target to a remote target that will only be resolved during task execution.\n",
    "\n",
    "For example, the following example specifies both `input` and `output` of the step to be on the remote host. The steps would be executed on the remote host with no data synchronization."
   ]
  },
  {
   "cell_type": "code",
   "execution_count": 2,
   "metadata": {
    "kernel": "SoS"
   },
   "outputs": [
    {
     "name": "stdout",
     "output_type": "stream",
     "text": [
      "1 task completed.\n"
     ]
    }
   ],
   "source": [
    "%run -q nautilus\n",
    "\n",
    "[QC]\n",
    "input: remote('~/RNASeq/R376-8-P8/raw_data/R376-8-P8_S3_L001_R2_001.fastq.gz')\n",
    "output: remote(\"${_input!dd}/QC/${_input!bnn}_fastqc.html\")\n",
    "\n",
    "task: walltime='30m', mem='4G'\n",
    "sh:\n",
    "    fastqc ${_input} --outdir ${_input!dd}/QC"
   ]
  },
  {
   "cell_type": "markdown",
   "metadata": {},
   "source": [
    "The `dd` and `bnn` converters might be confusing. Basically, `d` obtains the parent directory of the input so `dd` obtains the grand parent directory (which is `R376-8-P8` for the case of `R376-8-P8/raw_data/....fastq.gz`. The `n` converter removes the extension from the input filename, and we need to use `nn` to remove `.gz` and then `.fastq` from the filename."
   ]
  },
  {
   "cell_type": "markdown",
   "metadata": {},
   "source": [
    "Note that the remote function accepts multiple arguments and lists of inputs so you could apply it to multiple input files in the format of `remote('file1', 'file2')` if there are multiple input or output files."
   ]
  },
  {
   "cell_type": "markdown",
   "metadata": {},
   "source": [
    "### Mixed remote and local targets"
   ]
  },
  {
   "cell_type": "markdown",
   "metadata": {},
   "source": [
    "You can mix remote and local targets in a step. For example, you can pass a local resource file to the remote host and retrieve results from a remote host once the task is completed. It is, however, important to remember that **local targets should be relative to local filesystem** and **remote targets should be relative to remote filesystem**."
   ]
  },
  {
   "cell_type": "markdown",
   "metadata": {},
   "source": [
    "The following example specifies a local `output` file to request the result to be transferred back from the remote host once the task is completed. Basically,\n",
    "\n",
    "1. The `input` of the step is `remote` so it is not handled locally.\n",
    "2. The `input` is resolved to `~/RNASeq/R376-8-P8/raw_data/R376-8-P8_S3_L001_R1_001.fastq.gz` on the remote host.\n",
    "3. The `output` is a **local** file `~/RNASeq/R376-8-P8/QC/R376-8-P8_S3_L001_R1_001_fastqc.html` (e.g. `/home/user/RNASeq/...`), which will be translated to remote host (e.g. `/scratch/user/RNASeq/...`). It is your responsibility to make sure that the **translated output** is the output of the task.\n",
    "4. After the task is completed, the output file is transferred to local host."
   ]
  },
  {
   "cell_type": "code",
   "execution_count": 4,
   "metadata": {
    "kernel": "SoS"
   },
   "outputs": [
    {
     "name": "stdout",
     "output_type": "stream",
     "text": [
      "1 task completed.\n"
     ]
    }
   ],
   "source": [
    "%run -q nautilus\n",
    "\n",
    "input: remote('~/RNASeq/R376-8-P8/raw_data/R376-8-P8_S3_L001_R1_001.fastq.gz')\n",
    "output: \"~/RNASeq/R376-8-P8/QC/R376-8-P8_S3_L001_R1_001_fastqc.html\"\n",
    "\n",
    "task: walltime='30m', mem='4G'\n",
    "sh:\n",
    "    fastqc ${_input} --outdir ${_input!dd}/QC"
   ]
  },
  {
   "cell_type": "markdown",
   "metadata": {},
   "source": [
    "The above example uses \n",
    "```\n",
    "output: \"~/RNASeq/R376-8-P8/QC/R376-8-P8_S3_L001_R1_001_fastqc.html\"\n",
    "```\n",
    "to specify output directly. It is possible to use `input` to specify `output` as the first two examples, but `${_input}` is now a remote target and cannot be used directly. The trick is to use a `R` (resolve) converter to obtain the string representation of `${_input}` before using it for string interpolation."
   ]
  },
  {
   "cell_type": "code",
   "execution_count": 5,
   "metadata": {
    "kernel": "SoS"
   },
   "outputs": [
    {
     "name": "stdout",
     "output_type": "stream",
     "text": [
      "1 task completed.\n"
     ]
    }
   ],
   "source": [
    "%run -q nautilus\n",
    "\n",
    "input: remote('~/RNASeq/R376-8-P8/raw_data/R376-8-P8_S3_L001_R1_001.fastq.gz')\n",
    "output: \"${_input!Rdd}/QC/${_input!Rnnb}_fastqc.html\"\n",
    "\n",
    "task: walltime='30m', mem='4G'\n",
    "sh:\n",
    "    fastqc ${_input} --outdir ${_input!dd}/QC"
   ]
  }
 ],
 "metadata": {
  "kernelspec": {
   "display_name": "SoS",
   "language": "sos",
   "name": "sos"
  },
  "language_info": {
   "codemirror_mode": "sos",
   "file_extension": ".sos",
   "mimetype": "text/x-sos",
   "name": "sos",
   "nbconvert_exporter": "sos.jupyter.converter.SoS_Exporter",
   "pygments_lexer": "sos"
  },
  "sos": {
   "kernels": [
    [
     "SoS",
     "sos",
     "",
     ""
    ],
    [
     "Bash",
     "bash",
     "Bash",
     "#E6EEFF"
    ],
    [
     "JavaScript",
     "javascript",
     "JavaScript",
     "#00ff80"
    ],
    [
     "Python2",
     "python2",
     "Python2",
     "#F6FAEA"
    ],
    [
     "rik_local_remote",
     "rik_local_remote",
     "",
     ""
    ],
    [
     "R",
     "ir",
     "R",
     "#FDEDEC"
    ],
    [
     "Python3",
     "python3",
     "Python3",
     "#EAFAF1"
    ]
   ],
   "panel": {
    "displayed": true,
    "height": 0,
    "style": "side"
   }
  }
 },
 "nbformat": 4,
 "nbformat_minor": 2
}
