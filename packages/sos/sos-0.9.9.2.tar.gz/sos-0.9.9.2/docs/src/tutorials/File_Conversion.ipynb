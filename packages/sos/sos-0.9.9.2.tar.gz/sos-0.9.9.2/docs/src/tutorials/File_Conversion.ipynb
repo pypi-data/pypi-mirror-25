{
 "cells": [
  {
   "cell_type": "markdown",
   "metadata": {},
   "source": [
    "# Conversion of SoS files"
   ]
  },
  {
   "cell_type": "markdown",
   "metadata": {},
   "source": [
    "The `sos convert` command allows you to convert from `.sos` to some other formats including `ipynb` (Jupyter notebook), `HTML` and `MD` (markdown), and from `.ipynb` to `.sos`. You can get a list of converters using command"
   ]
  },
  {
   "cell_type": "code",
   "execution_count": 1,
   "metadata": {
    "kernel": "SoS"
   },
   "outputs": [
    {
     "name": "stdout",
     "output_type": "stream",
     "text": [
      "usage: sos convert [-h] [-v {0,1,2,3,4}]\n",
      "                   {sos-html,sos-term,sos-md,sos-ipynb,ipynb-sos,ipynb-html,ipynb-pdf,ipynb-md,ipynb-ipynb}\n",
      "                   ...\n",
      "\n",
      "Converts .sos to various formats including .html for web display, to jupyter\n",
      "notebook (.ipynb), and to terminal for syntax highlighted viewing on terminal.\n",
      "It also allows converting from jupyter notebook (.ipynb) to sos script (.sos).\n",
      "\n",
      "optional arguments:\n",
      "  -h, --help            show this help message and exit\n",
      "  -v {0,1,2,3,4}, --verbosity {0,1,2,3,4}\n",
      "                        Output error (0), warning (1), info (2), debug (3) and\n",
      "                        trace (4) information to standard output (default to\n",
      "                        2).\n",
      "\n",
      "converters (name of converter is not needed from command line):\n",
      "  {sos-html,sos-term,sos-md,sos-ipynb,ipynb-sos,ipynb-html,ipynb-pdf,ipynb-md,ipynb-ipynb}\n",
      "    sos-html            Convert sos file to html format with syntax\n",
      "                        highlighting, and save the output either to a HTML\n",
      "                        file or view it in a broaser.\n",
      "    sos-term            Write script to terminal with syntax highlighting.\n",
      "    sos-md              Convert SOS scriot to a markdown format with scripts\n",
      "                        quoted in markdown syntax.\n",
      "    sos-ipynb           Convert a sos script to Jupyter notebook (.ipynb) so\n",
      "                        that it can be opened by Jupyter notebook.\n",
      "    ipynb-sos           Export Jupyter notebook with a SoS kernel to a .sos\n",
      "                        file. The cells are presented in the .sos file as cell\n",
      "                        structure lines, which will be ignored if executed in\n",
      "                        batch mode\n",
      "    ipynb-html          Export Jupyter notebook with a SoS kernel to a .html\n",
      "                        file. Additional command line arguments are passed\n",
      "                        directly to command \"jupyter nbconvert --to html\" so\n",
      "                        please refer to nbconvert manual for available\n",
      "                        options.\n",
      "    ipynb-pdf           Export Jupyter notebook with a SoS kernel to a .pdf\n",
      "                        file. Additional command line arguments are passed\n",
      "                        directly to command \"jupyter nbconvert --to pdf\" so\n",
      "                        please refer to nbconvert manual for available\n",
      "                        options.\n",
      "    ipynb-md            Export Jupyter notebook with a SoS kernel to a\n",
      "                        markdown file. Additional command line arguments are\n",
      "                        passed directly to command \"jupyter nbconvert --to\n",
      "                        markdown\" so please refer to nbconvert manual for\n",
      "                        available options.\n",
      "    ipynb-ipynb         Export a Jupyter notebook with a non-SoS kernel to a\n",
      "                        SoS notebook with SoS kernel. A SoS notebook will\n",
      "                        simply be copied to the destination file.\n",
      "\n",
      "Extra command line argument could be specified to customize the style of html,\n",
      "markdown, and terminal output.\n"
     ]
    }
   ],
   "source": [
    "!sos convert -h"
   ]
  },
  {
   "cell_type": "markdown",
   "metadata": {},
   "source": [
    "## Command line interface"
   ]
  },
  {
   "cell_type": "markdown",
   "metadata": {},
   "source": [
    "The `convert` command uses file extension and an option `--to` to determine the converter to use, and allows you to convert to a file or print the output to standard output. For example, you can use command\n",
    "\n",
    "```\n",
    "% sos convert myscript.sos myscript.html\n",
    "```\n",
    "to convert a sos script to a HTML file, or\n",
    "```\n",
    "% sos convert myscript.sos --to html\n",
    "```\n",
    "to write the HTML file to standard output."
   ]
  },
  {
   "cell_type": "markdown",
   "metadata": {},
   "source": [
    "If you would like to know available parameters for a particular converter, you can use option `-h`"
   ]
  },
  {
   "cell_type": "code",
   "execution_count": 2,
   "metadata": {},
   "outputs": [
    {
     "name": "stdout",
     "output_type": "stream",
     "text": [
      "usage: sos convert FILE.sos FILE.html (or --to html) [-h] [--raw RAW]\n",
      "                                                     [--style {colorful,bw,tango,algol_nu,igor,algol,manni,vs,perldoc,borland,paraiso-light,default,paraiso-dark,trac,native,emacs,murphy,rrt,monokai,xcode,fruity,autumn,lovelace,pastie,vim,friendly}]\n",
      "                                                     [--linenos] [-v]\n",
      "\n",
      "Convert sos file to html format with syntax highlighting, and save the output\n",
      "either to a HTML file or view it in a broaser.\n",
      "\n",
      "optional arguments:\n",
      "  -h, --help            show this help message and exit\n",
      "  --raw RAW             URL to the raw sos file, which will be linked to\n",
      "                        filenames in the HTML output\n",
      "  --style {colorful,bw,tango,algol_nu,igor,algol,manni,vs,perldoc,borland,paraiso-light,default,paraiso-dark,trac,native,emacs,murphy,rrt,monokai,xcode,fruity,autumn,lovelace,pastie,vim,friendly}\n",
      "                        Pygments style for the HTML output.\n",
      "  --linenos             Display lineno to the left of the source code\n",
      "  -v, --view            Open the output file in a broswer. In case no html\n",
      "                        file is specified, this option will display the HTML\n",
      "                        file in a browser, instead of writing its content to\n",
      "                        standard output.\n"
     ]
    }
   ],
   "source": [
    "!sos convert myscript.sos --to html -h"
   ]
  },
  {
   "cell_type": "markdown",
   "metadata": {},
   "source": [
    "## SoS -> HTML"
   ]
  },
  {
   "cell_type": "markdown",
   "metadata": {},
   "source": [
    "The `sos` to `html` converter converts `.sos` script to HTML format. It can be either written to a HTML file, or to standard output if option `--to html` is specified without a destination filename."
   ]
  },
  {
   "cell_type": "code",
   "execution_count": 3,
   "metadata": {},
   "outputs": [
    {
     "name": "stderr",
     "output_type": "stream",
     "text": [
      "INFO: SoS script saved to update_toc.html\n"
     ]
    }
   ],
   "source": [
    "!sos convert ../examples/update_toc.sos update_toc.html"
   ]
  },
  {
   "cell_type": "markdown",
   "metadata": {},
   "source": [
    "The converter also accepts a number of parameters (as shown above). The `raw` parameter adds a URL to filename in the HTML file so that you can link to the raw `.sos` file from the `.html` output. The `linenos` adds line numbers, and `style` allows you to choose from a number of pre-specified styles. Finally, the `view` option would open the resulting HTML file in a browser.\n",
    "\n",
    "For example,\n",
    "```\n",
    "sos convert ../examples/update_toc.sos --to html --view --style xcode\n",
    "```\n",
    "would show a HTML file as \n",
    "\n",
    "![HTML output of update_toc.sos](../media/convert_html.png)"
   ]
  },
  {
   "cell_type": "markdown",
   "metadata": {},
   "source": [
    "## SoS -> ipynb"
   ]
  },
  {
   "cell_type": "markdown",
   "metadata": {},
   "source": [
    "You can convert an existing SoS script to the `.ipynb` format using command\n",
    "```\n",
    "$ sos convert myscript.sos myscript.ipynb\n",
    "```\n",
    "\n",
    "and open the resulting notebook from the web interface.\n",
    "\n",
    "Depending on how the sos file was written (or converted from `.ipynb` file), sos takes different approach in splitting content of the script into cells of ipython notebook. More specifically,\n",
    "\n",
    "1. If the script contains cell spliting magic `%cell`, sos would split the sos script according to `%cell`, and restore proper metadata (e.g. kernel used for each cell) and execution index. Such a `.sos` file is usually exported from command `sos convert ipynb sos --all`.\n",
    "2. If the script does not contain cell spliting magic, sos will split each step into a separate cell."
   ]
  },
  {
   "cell_type": "markdown",
   "metadata": {},
   "source": [
    "The resulting `.ipynb` files have only input code and markdown cells. However, you can execute the notebook from command line if you add an `-e` (or `--execute`) option to the converter. That is to say, if you execute\n",
    "\n",
    "```\n",
    "$ sos convert myscript.sos myscript.ipynb --execute\n",
    "```\n",
    "\n",
    "You would get a notebook with both input and output cells, as if you have opened the non-executed `ipynb` file and selected `Cell -> Run all`."
   ]
  },
  {
   "cell_type": "markdown",
   "metadata": {},
   "source": [
    "## SoS -> term"
   ]
  },
  {
   "cell_type": "markdown",
   "metadata": {},
   "source": [
    "You can print out a `.sos` script on to the terminal with syntax highlighting. For example, command\n",
    "\n",
    "```\n",
    "% sos convert ../examples/update_toc.sos --to term\n",
    "```\n",
    "would produce\n",
    "![Terminal output of script update_toc.sos](../media/convert_term.png) "
   ]
  },
  {
   "cell_type": "markdown",
   "metadata": {},
   "source": [
    "## SoS -> Markdown"
   ]
  },
  {
   "cell_type": "markdown",
   "metadata": {},
   "source": [
    "This converter is still in experimental stage and you are welcome to improve the style of output MD files."
   ]
  },
  {
   "cell_type": "markdown",
   "metadata": {},
   "source": [
    "## ipynb -> SoS"
   ]
  },
  {
   "cell_type": "markdown",
   "metadata": {},
   "source": [
    "A Jupyter notebook can contain markdown cell and code cell with different kernels, and a sos cell might or might not contain a real sos step (with section header).\n",
    "\n",
    "You can save a Jupyter notebook with SoS kernel to a SoS script using `File -> Download As -> SoS` from the browser, or using command\n",
    "\n",
    "```\n",
    "$ sos convert myscript.ipynb myscript.sos\n",
    "```\n",
    "\n",
    "The conversion process will export the workflow defined in the jupyter notebook in the resulting `.sos` file, ignoring all cell magics, non-sos cells, and sos cells that do not start with section headers. The resulting `.sos` file is a proper SoS workflow and can be executed by the `sos` command in batch mode.\n",
    "\n",
    "If you would like to keep most of the information of the Jupyter notebook, you can convert the notebook using option `--all` (or `-a`),\n",
    "\n",
    "```\n",
    "$ sos convert myscript.ipynb myscript.sos --all\n",
    "```\n",
    "\n",
    "This option will export each cell with a `%cell` magic and record meta data in the `.sos` file. The resulting file can be converted back to `ipynb` format with minimal lose of information (without result), but might not be able to be executed in batch mode."
   ]
  },
  {
   "cell_type": "markdown",
   "metadata": {},
   "source": [
    "## ipynb -> HTML\n",
    "\n",
    "This command essentially calls command `jupyter nbconvert --to html` to convert notebook to HTML format. In addition to standard and third-party (e.g. template from [hide code Jupyter extension](https://github.com/kirbs-/hide_code)) Jupyter templates, you can use a SoS provided template called `sos-report` to convert the Jupyter notebook to **a static HTML file with only markdown and selected ouptput cells** (cells with `report_cell` tag, output of cells with `report_output` tag, suitable as a report, and a button to unhide all details input and output cells except for those marked by a `scratch` tag.\n"
   ]
  },
  {
   "cell_type": "markdown",
   "metadata": {},
   "source": [
    "## ipynb -> pdf\n",
    "This command essentially calls command `jupyter nbconvert --to pdf` to convert notebook to PDF format. "
   ]
  },
  {
   "cell_type": "markdown",
   "metadata": {
    "collapsed": true
   },
   "source": [
    "## ipynb -> md\n",
    "This command essentially calls command `jupyter nbconvert --to markdown` to convert notebook to Markdown format. "
   ]
  },
  {
   "cell_type": "markdown",
   "metadata": {},
   "source": [
    "## ipynb -> ipynb"
   ]
  },
  {
   "cell_type": "markdown",
   "metadata": {},
   "source": [
    "This command converts a Jupyter notebook in another kernel to a SoS notebook, with the original kernel language as the language of each code cell.\n",
    "\n",
    "If the original notebook has kernel `python3`, an option `--python3-to-sos` can be used to convert code cells to `SoS`.\n",
    "\n",
    "This converter will copy the input notebook to output if the notebook is already a SoS notebook. However, if an option `--inplace` is specified, it will overwrite the original notebook with the converted one.\n",
    "\n",
    "Note that if you already have a non-SoS notebook opened in Jupyter, you can simply use\n",
    "\n",
    "`Kernel` -> `Change kernel` -> `sos`\n",
    "\n",
    "to convert the kernel to SoS. You can then use the global language selector to select the appropriate default langauge for the notebook and re-execute the notebook to set the language to each cell."
   ]
  },
  {
   "cell_type": "markdown",
   "metadata": {
    "kernel": "SoS"
   },
   "source": [
    "## Rmd -> ipynb"
   ]
  },
  {
   "cell_type": "markdown",
   "metadata": {},
   "source": [
    "RMarkdown is a Markdown format with inline and block code executed by RStudio. SoS can convert RMarkdown files to a SoS notebook but the conversion is limited. In particular, SoS converts the block code to SoS code cells and the rest into Markdown cells, and leave inline expressions untouched. It also ignores all code options."
   ]
  },
  {
   "cell_type": "markdown",
   "metadata": {},
   "source": [
    "Note that SoS does not support string interpolation in markdown cells so inline expressions in RMarkdown are not converted. If you need to insert R expression in markdown, you can convert the paragraph into a code cell and use R to print the evaluated string to standard output (use `cat` function). Then you can add a `%render` magic to the beginning of the cell so to render the outputed markdown text."
   ]
  }
 ],
 "metadata": {
  "anaconda-cloud": {},
  "kernelspec": {
   "display_name": "SoS",
   "language": "sos",
   "name": "sos"
  },
  "language_info": {
   "codemirror_mode": "sos",
   "file_extension": ".sos",
   "mimetype": "text/x-sos",
   "name": "sos",
   "nbconvert_exporter": "sos.jupyter.converter.SoS_Exporter",
   "pygments_lexer": "sos"
  },
  "sos": {
   "celltoolbar": true,
   "default_kernel": "SoS",
   "kernels": [
    [
     "SoS",
     "sos",
     "",
     ""
    ],
    [
     "Bash",
     "bash",
     "Bash",
     "#E6EEFF"
    ],
    [
     "JavaScript",
     "javascript",
     "JavaScript",
     "#c8e1ae"
    ],
    [
     "Julia",
     "julia-0.6",
     "Julia",
     "#ebd8eb"
    ],
    [
     "Python2",
     "python2",
     "Python2",
     "#FFE771"
    ],
    [
     "Python3",
     "python3",
     "Python3",
     "#FFE771"
    ],
    [
     "R",
     "ir",
     "R",
     "#DCDCDA"
    ]
   ],
   "panel": {
    "displayed": true,
    "height": "363px",
    "style": "side"
   }
  },
  "toc": {
   "nav_menu": {
    "height": "127px",
    "width": "254px"
   },
   "navigate_menu": true,
   "number_sections": true,
   "sideBar": true,
   "threshold": 4,
   "toc_cell": false,
   "toc_section_display": "block",
   "toc_window_display": true
  }
 },
 "nbformat": 4,
 "nbformat_minor": 2
}
