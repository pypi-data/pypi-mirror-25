{
 "cells": [
  {
   "cell_type": "markdown",
   "metadata": {},
   "source": [
    "# Generating Reports using SoS"
   ]
  },
  {
   "cell_type": "markdown",
   "metadata": {},
   "source": [
    "There are multiple ways to generate reports from the execution of SoS workflows. This tutorial introduces some basic methods but you can certainly be more creative."
   ]
  },
  {
   "cell_type": "markdown",
   "metadata": {},
   "source": [
    "## A summarization step"
   ]
  },
  {
   "cell_type": "markdown",
   "metadata": {},
   "source": [
    "You can write a report at the end of the workflow that summarizes the results of previous steps. For example, in the following example, the `report` action summarizes previous steps and writes a report to the standard output."
   ]
  },
  {
   "cell_type": "code",
   "execution_count": 1,
   "metadata": {},
   "outputs": [
    {
     "name": "stdout",
     "output_type": "stream",
     "text": [
      "* Figure\n",
      "![figure](a.jpg)\n",
      "* result\n",
      "100\n",
      "\n"
     ]
    }
   ],
   "source": [
    "%sandbox\n",
    "[10]\n",
    "output: 'a.jpg'\n",
    "R:\n",
    "    jpeg(${output!r})\n",
    "    cars <- c(1, 3, 6, 4, 9)\n",
    "    barplot(cars)\n",
    "\n",
    "[20]\n",
    "output: 'a.txt'\n",
    "run:\n",
    "    echo \"100\" > a.txt\n",
    "\n",
    "[100]\n",
    "input: 'a.jpg', 'a.txt'\n",
    "with open('a.txt') as a:\n",
    "    res = a.read()\n",
    "\n",
    "report:\n",
    "    * Figure\n",
    "    ![figure](a.jpg)\n",
    "    * result\n",
    "    ${res}\n",
    "   "
   ]
  },
  {
   "cell_type": "markdown",
   "metadata": {},
   "source": [
    "It is a pretty bad idea to write report to standard output because other actions can also write to it. You should therefore use the `output` option of the `report` action to specify an output file of the `report` action."
   ]
  },
  {
   "cell_type": "code",
   "execution_count": 2,
   "metadata": {},
   "outputs": [
    {
     "data": {
      "text/html": [
       "<pre><font color=\"green\">## %preview summary.md</font></pre>"
      ]
     },
     "metadata": {},
     "output_type": "display_data"
    },
    {
     "data": {
      "text/html": [
       "<pre><font color=\"green\">> summary.md (40 B):</font></pre>"
      ],
      "text/plain": [
       "\n",
       "> summary.md (40 B):"
      ]
     },
     "metadata": {},
     "output_type": "display_data"
    },
    {
     "data": {
      "text/html": [
       "<ul>\n",
       "<li>Figure\n",
       "<img alt=\"figure\" src=\"a.jpg\" /></li>\n",
       "<li>result\n",
       "100</li>\n",
       "</ul>"
      ],
      "text/plain": [
       "* Figure\n",
       "![figure](a.jpg)\n",
       "* result\n",
       "100\n",
       "\n"
      ]
     },
     "metadata": {},
     "output_type": "display_data"
    }
   ],
   "source": [
    "%sandbox\n",
    "%preview summary.md\n",
    "[10]\n",
    "output: 'a.jpg'\n",
    "R:\n",
    "    jpeg(${output!r})\n",
    "    cars <- c(1, 3, 6, 4, 9)\n",
    "    barplot(cars)\n",
    "\n",
    "[20]\n",
    "output: 'a.txt'\n",
    "run:\n",
    "    echo \"100\" > a.txt\n",
    "\n",
    "[counts: shared='counts']\n",
    "input: 'a.txt'\n",
    "with open('a.txt') as a:\n",
    "    counts = a.read()\n",
    "\n",
    "[100]\n",
    "input: 'a.jpg'\n",
    "depends: sos_variable('counts')\n",
    "\n",
    "report: output='summary.md'\n",
    "    * Figure\n",
    "    ![figure](a.jpg)\n",
    "    * result\n",
    "    ${counts}\n",
    "   "
   ]
  },
  {
   "cell_type": "markdown",
   "metadata": {},
   "source": [
    "Instead of outputting reports in `.md` format and rendering them outside of SoS, you can also render them inside SoS using action `pandoc` or `Rmarkdown`. For example,"
   ]
  },
  {
   "cell_type": "code",
   "execution_count": 3,
   "metadata": {},
   "outputs": [
    {
     "data": {
      "text/html": [
       "<pre><font color=\"green\">## %preview summary.html</font></pre>"
      ]
     },
     "metadata": {},
     "output_type": "display_data"
    },
    {
     "data": {
      "text/html": [
       "<pre><font color=\"green\">> summary.html (80 B):</font></pre>"
      ],
      "text/plain": [
       "\n",
       "> summary.html (80 B):"
      ]
     },
     "metadata": {},
     "output_type": "display_data"
    },
    {
     "data": {
      "text/html": [
       "<ul>\n",
       "<li>Figure <img src=\"a.jpg\" alt=\"figure\" /></li>\n",
       "<li>result 100</li>\n",
       "</ul>\n"
      ],
      "text/plain": [
       "* Figure \n",
       "\n",
       "\n",
       "\n",
       "  * result 100"
      ]
     },
     "metadata": {},
     "output_type": "display_data"
    }
   ],
   "source": [
    "%sandbox\n",
    "%preview summary.html\n",
    "[10]\n",
    "output: 'a.jpg'\n",
    "R:\n",
    "    jpeg(${output!r})\n",
    "    cars <- c(1, 3, 6, 4, 9)\n",
    "    barplot(cars)\n",
    "\n",
    "[20]\n",
    "output: 'a.txt'\n",
    "run:\n",
    "    echo \"100\" > a.txt\n",
    "\n",
    "[counts: shared='counts']\n",
    "input: 'a.txt'\n",
    "with open('a.txt') as a:\n",
    "    counts = a.read()\n",
    "\n",
    "[100]\n",
    "input: 'a.jpg'\n",
    "depends: sos_variable('counts')\n",
    "\n",
    "pandoc: output='summary.html'\n",
    "    * Figure\n",
    "    ![figure](a.jpg)\n",
    "    * result\n",
    "    ${counts}"
   ]
  },
  {
   "cell_type": "markdown",
   "metadata": {},
   "source": [
    "## Reporting to multiple output files"
   ]
  },
  {
   "cell_type": "markdown",
   "metadata": {},
   "source": [
    "If you have a large workflow with several steps or modules, it makes sense to write several reports and join them at last. For example, in the following example, an output file is specified for each `report` and a summary step is used at the end to collect and process them."
   ]
  },
  {
   "cell_type": "code",
   "execution_count": 6,
   "metadata": {},
   "outputs": [
    {
     "data": {
      "text/html": [
       "<pre><font color=\"green\">## %preview summary.html</font></pre>"
      ]
     },
     "metadata": {},
     "output_type": "display_data"
    },
    {
     "data": {
      "text/html": [
       "<pre><font color=\"green\">> summary.html (114 B):</font></pre>"
      ],
      "text/plain": [
       "\n",
       "> summary.html (114 B):"
      ]
     },
     "metadata": {},
     "output_type": "display_data"
    },
    {
     "data": {
      "text/html": [
       "<p>Final report</p>\n",
       "<ul>\n",
       "<li><p>Figure <img src=\"a.jpg\" alt=\"figure\" /></p></li>\n",
       "<li><p>result 100</p></li>\n",
       "</ul>\n"
      ],
      "text/plain": [
       "Final report \n",
       "\n",
       "  * \n",
       "\n",
       "\n",
       "\n",
       "Figure \n",
       "\n",
       "\n",
       "\n",
       "  * \n",
       "\n",
       "\n",
       "\n",
       "result 100"
      ]
     },
     "metadata": {},
     "output_type": "display_data"
    }
   ],
   "source": [
    "%sandbox --dir ~/tmp\n",
    "%preview summary.html\n",
    "[10]\n",
    "output: 'a.jpg'\n",
    "R:\n",
    "    jpeg(${output!r})\n",
    "    cars <- c(1, 3, 6, 4, 9)\n",
    "    barplot(cars)\n",
    "\n",
    "report: output='figure.md'\n",
    "    * Figure\n",
    "    ![figure](${output})    \n",
    "\n",
    "[20]\n",
    "output: 'a.txt'\n",
    "counts = 100\n",
    "run:\n",
    "    echo \"${counts}\" > a.txt\n",
    "\n",
    "report: output='result.md'\n",
    "    * result\n",
    "    ${counts}\n",
    "\n",
    "[100]\n",
    "pandoc: input=['figure.md', 'result.md'], output='summary.html'\n",
    "    Final report"
   ]
  },
  {
   "cell_type": "markdown",
   "metadata": {},
   "source": [
    "You will notice that both `script` and `input` are specified to action `pandoc`. In this case the `script` is put before the content of each `input` files, making it a perfect place to write headers and summaries."
   ]
  }
 ],
 "metadata": {
  "anaconda-cloud": {},
  "kernelspec": {
   "display_name": "SoS",
   "language": "sos",
   "name": "sos"
  },
  "language_info": {
   "codemirror_mode": "sos",
   "file_extension": ".sos",
   "mimetype": "text/x-sos",
   "name": "sos",
   "nbconvert_exporter": "sos.jupyter.converter.SoS_Exporter",
   "pygments_lexer": "sos"
  },
  "sos": {
   "celltoolbar": true,
   "kernels": [
    [
     "sos",
     "SoS",
     ""
    ],
    [
     "bash",
     "Bash",
     "#E6EEFF"
    ],
    [
     "python2",
     "Python2",
     "#F6FAEA"
    ],
    [
     "ir",
     "R",
     "#FDEDEC"
    ],
    [
     "python3",
     "Python3",
     "#EAFAF1"
    ]
   ],
   "panel": {
    "displayed": true,
    "height": 0,
    "style": "side"
   }
  },
  "toc": {
   "colors": {
    "hover_highlight": "#DAA520",
    "running_highlight": "#FF0000",
    "selected_highlight": "#FFD700"
   },
   "moveMenuLeft": true,
   "nav_menu": {
    "height": "96px",
    "width": "254px"
   },
   "navigate_menu": true,
   "number_sections": true,
   "sideBar": true,
   "threshold": 4,
   "toc_cell": false,
   "toc_section_display": "block",
   "toc_window_display": true
  }
 },
 "nbformat": 4,
 "nbformat_minor": 1
}
