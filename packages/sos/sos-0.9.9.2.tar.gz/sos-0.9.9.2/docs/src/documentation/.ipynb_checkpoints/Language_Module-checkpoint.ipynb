{
 "cells": [
  {
   "cell_type": "markdown",
   "metadata": {},
   "source": [
    "# Add a new language to SoS"
   ]
  },
  {
   "cell_type": "markdown",
   "metadata": {},
   "source": [
    "It is relatively easy to define a new language module to allow SoS to exchange variables with a kernel. To make the extension available to other users, you can either create and distribute a separate package, or extend SoS and send us a [pull request](https://help.github.com/articles/about-pull-requests/)."
   ]
  },
  {
   "attachments": {},
   "cell_type": "markdown",
   "metadata": {},
   "source": [
    "SoS needs to know a few things before it can support a language properly,\n",
    "\n",
    "1. The Jupyter kernel this language uses to work with Jupyer, which is a `ir` kernel for language `R`.\n",
    "2. How to translate a Python object to a **similar** object in this language\n",
    "3. How to translate an object in this language to a **similar** object in Python.\n",
    "4. The color of the prompt of cells executed by this language.\n",
    "5. (Optional but recommend). Information of a running session.\n",
    "6. Optional options for interacting with the language on frontend.\n",
    "\n",
    "It is important to understand that, **SoS does not tranfer any variables among kernels, it creates independent homonymous variables of similar types that are native to the destination language**. For example, for the following two variables\n",
    "\n",
    "```\n",
    "a = 1\n",
    "b = c(1, 2)\n",
    "```\n",
    "\n",
    "in R, SoS execute the following statements to create variables `a` and `b` in Python\n",
    "\n",
    "```\n",
    "a = 1\n",
    "b = [1, 2]\n",
    "```\n",
    "Note that `a` and `b` are of different types in Python although they are of the same type `numeric` in `R`."
   ]
  },
  {
   "cell_type": "markdown",
   "metadata": {},
   "source": [
    "## Define a new language Module"
   ]
  },
  {
   "cell_type": "markdown",
   "metadata": {},
   "source": [
    "To support a new language, you will need to write a Python package that defines a class, say `mylanguage`, that should provide the following class attributes:\n",
    "\n",
    "1. `supported_kernels`: a dictionary of language and names of the kernels that the language supports, such as `{'R': ['ir']}`. If multiple kernels are supported, SoS will look for a kernel with matched name in the order that is specified (e.g. `{'JavaScript': ['ijavascript', 'inodejs']}`). Multiple languages can be specified if a language module supports multiple languages (e.g. `Matlab` and `Octave`).\n",
    "2. `background_color`: a name or `#XXXXXX` value for a color that will be used in the prompt area of cells that are executed by the subkernel. An empty string can be used for using default notebook color.\n",
    "3. `options`: A Python dictionary with options that will be passed to the frontend. Currently two options `variable_pattern` and `assignment_pattern` are supported. Both options should be regular expressions in JS style. \n",
    "   * Option `variable_pattern` is used to identify if a statement is a simple variable (nothing else). If this option is defined and the input text (if executed at the side panel) matches the pattern, SoS will prepend `%preview` to the code. This option is useful only when `%preview var` displays more information than `var`.\n",
    "   * Option `assignment_pattern` is used to identify if a statement is an assignment operation. If this option is defined and the input text matches the pattern, SoS will prepend `%preview var` to the code where `var` should be the first matched portion of the pattern (use `( )`). This mechanism allows SoS to automatically display result of an assignment when you step through the code.\n",
    "   \n",
    "An instance of the class would be initialized with the sos kernel and the name of the subkernel, which does not have to be one of the `supported_kernels` (could be self-defined) and should provide the following attributes and functions:\n",
    "\n",
    "1. `init_statements`: a statement that will be executed by the sub-kernel when the kernel starts. This statement usually defines functions to convert object to Python.\n",
    "2. `get_vars`: a Python function that transfer a Python variable to the subkernel.\n",
    "3. `put_vars`: a Python function that put one or more variables in the subkernel to SoS or another subkernel.\n",
    "4. `sessioninfo`: a Python function that returns information of the running kernel, usually including version of the language, the kernel, and currently used packages and their versions. For `R`, this means a call to `sessionInfo()` function. The return value of this function can be a string, a list of strings or `(key, value)` pairs, or a dictinary. The function will be called by the `%sessioninfo` magic of SoS.\n"
   ]
  },
  {
   "cell_type": "markdown",
   "metadata": {},
   "source": [
    "## Obtain variable from SoS\n",
    "\n",
    "The `get_vars` function should be defined as\n",
    "\n",
    "```\n",
    "def get_vars(self, var_names)\n",
    "```\n",
    "where \n",
    "\n",
    "* `self` is the language instance with access to the SoS kernel, and\n",
    "* `var_names` are names in the sos dictionary.\n",
    "\n",
    "This function is responsible for probing the type of Python variable and create a similar object in the subkernel."
   ]
  },
  {
   "cell_type": "markdown",
   "metadata": {},
   "source": [
    "For example, to create a Python object `b = [1, 2]` in `R` (magic `%get`), this function could\n",
    "\n",
    "1. Obtain a R expression to create this variable (e.g. `b <- c(1, 2)`)\n",
    "2. Execute the expression in the subkernel to create variable `b` in it.\n",
    "\n",
    "Note that the function `get_vars` can change the variable name because a valid variable name in Python might not be a valid variable name in another language. The function should give a warning if this happens."
   ]
  },
  {
   "cell_type": "markdown",
   "metadata": {},
   "source": [
    "## Send variables to other kernels\n",
    "\n",
    "The `put_vars` function should be defined as\n",
    "\n",
    "```\n",
    "def put_vars(self, var_names, to_kernel=None)\n",
    "```\n",
    "where\n",
    "\n",
    "1. `self` is the language instance with access to the SoS kernel\n",
    "2. `var_name` is a list of variables that should exist in the subkernel. Because a subkernel is responsible for sharing variables with names starting with `sos` to SoS automatically, this function should be called to pass these variables even when `var_names` is empty.\n",
    "3. `to_kernel` is the destination kernel to which the variables should be passed.\n",
    "\n",
    "Depending on destination kernel, this function can:\n",
    "\n",
    "* If the destination kernel is `sos`, the function should return a dictionary of variables that will be merged to the SoS dictionary.\n",
    "* If direct variable transfer is not supported by the language, the function can return a Python dictionary, in which case the language transfers the variables to SoS and let SoS pass along to the destination kernel.\n",
    "* If direct variable transfer is supported, the function should return a string. SoS will evaluate the string in the destination kernel to pass variables directly to the destination kernel.\n",
    "  \n",
    "So basically, a language can start with an implementation of `put_vars(to_kernel='sos')` and let SoS handle the rest. If need arises, it can\n",
    "\n",
    "* Implement variable exchanges between instances of the same language. This can be useful because there are usually lossness and more efficient methods in this case.\n",
    "* Put variable to another languages where direct varable transfer is much more efficient than transferring through SoS."
   ]
  },
  {
   "cell_type": "markdown",
   "metadata": {},
   "source": [
    "For example, to send a `R` object `b <- c(1, 2)` from subkernel `R` to `SoS` (magic `%put`), this function can\n",
    "\n",
    "1. Execute an statement in the subkernel to get the value(s) of variable(s) in some format, for example, a string `\"{'b': [1, 2]}\"`.\n",
    "2. Post-process these varibles to return a dictionary to SoS.\n",
    "\n",
    "The [`R` sos extension](https://github.com/vatlab/SOS/blob/master/src/sos/R/kernel.py) provides a good example to get you started."
   ]
  },
  {
   "cell_type": "markdown",
   "metadata": {},
   "source": [
    "**NOTE**: Unlike other language extension mechanisms in which the python module can get hold of the \"engine\" of the interpreter (e.g. `saspy` and matlab's Python extension start the interpreter for direct communication) or have access to lower level API of the language (e.g. `rpy2`), SoS only have access to the interface of the language and perform all conversions by executing commands in the subkernels and intercepting their response. Consequently,\n",
    "\n",
    "1. Data exchange can be slower than other methods.\n",
    "2. Data exchange is less dependent on version of the interpreter.\n",
    "2. Data exchange can happen between a local and a remote kernel.\n",
    "\n",
    "Also, although it can be more efficient to save large datasets to disk files and load in another kernel, this method does not work for kernels that do not share the same filesystem. We currently ignore this issue and assume all kernels have access to the same file system."
   ]
  },
  {
   "cell_type": "markdown",
   "metadata": {},
   "source": [
    "## Registering the new language module"
   ]
  },
  {
   "cell_type": "markdown",
   "metadata": {},
   "source": [
    "SoS makes extensive use of [**entry points**](http://setuptools.readthedocs.io/en/latest/setuptools.html#dynamic-discovery-of-services-and-plugins), which allows external modules to register their features in the file system to make them available to other modules. It can be confusing initially but [this stack overflow ticket](http://stackoverflow.com/questions/774824/explain-python-entry-points) explains it quite well.\n",
    "\n",
    "To register additional language with SoS, you either need to extend `entry_points` of the [`setup.py` script](https://github.com/vatlab/SOS/blob/master/setup.py) of SoS, or create your own package with these `entry_points`. Option `extras_require` can be used to specify additional dependent packages for these features. For example, you can create a package with the following entry_points to provide support for ruby.\n",
    "\n",
    "```\n",
    "    entry_points='''\n",
    "[sos-language]\n",
    "ruby = sos-ruby.kernel:sos_ruby\n",
    "\n",
    "[sos-targets]\n",
    "Ruby_Library = sos-ruby.target:Ruby-Library\n",
    "'''\n",
    "```\n",
    "\n",
    "With the installation of this package, `sos` would be able to obtain a class `sos_ruby` from module `sos-ruby.kernel`, and use it to work with the `ruby` language."
   ]
  }
 ],
 "metadata": {
  "anaconda-cloud": {},
  "kernelspec": {
   "display_name": "SoS",
   "language": "sos",
   "name": "sos"
  },
  "language_info": {
   "codemirror_mode": "sos",
   "file_extension": ".sos",
   "mimetype": "text/x-sos",
   "name": "sos",
   "nbconvert_exporter": "sos.jupyter.converter.SoS_Exporter",
   "pygments_lexer": "sos"
  },
  "sos": {
   "default_kernel": "SoS",
   "kernels": [
    [
     "Bash",
     "bash",
     "Bash",
     "#E6EEFF"
    ],
    [
     "Julia",
     "julia-0.6",
     "Julia",
     "#ebd8eb"
    ],
    [
     "Octave",
     "octave",
     "Octave",
     "#dff8fb"
    ],
    [
     "Python2",
     "python2",
     "Python2",
     "#FFE771"
    ],
    [
     "Python3",
     "python3",
     "Python3",
     "#FFE771"
    ],
    [
     "R",
     "ir",
     "R",
     "#DCDCDA"
    ],
    [
     "SoS",
     "sos",
     "",
     ""
    ]
   ],
   "panel": {
    "displayed": true,
    "height": 0,
    "style": "side"
   }
  },
  "toc": {
   "colors": {
    "hover_highlight": "#DAA520",
    "running_highlight": "#FF0000",
    "selected_highlight": "#FFD700"
   },
   "moveMenuLeft": true,
   "nav_menu": {
    "height": "141px",
    "width": "252px"
   },
   "navigate_menu": true,
   "number_sections": true,
   "sideBar": true,
   "threshold": 4,
   "toc_cell": false,
   "toc_section_display": "block",
   "toc_window_display": true
  }
 },
 "nbformat": 4,
 "nbformat_minor": 1
}
