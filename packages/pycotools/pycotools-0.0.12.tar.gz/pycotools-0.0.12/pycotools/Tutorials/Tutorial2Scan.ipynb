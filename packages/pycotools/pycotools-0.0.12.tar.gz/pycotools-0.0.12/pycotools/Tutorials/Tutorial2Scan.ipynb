{
 "cells": [
  {
   "cell_type": "markdown",
   "metadata": {},
   "source": [
    "# Parameter Scan\n",
    "\n",
    "## Get Example model"
   ]
  },
  {
   "cell_type": "code",
   "execution_count": 1,
   "metadata": {
    "ExecuteTime": {
     "end_time": "2017-07-30T19:16:02.749448Z",
     "start_time": "2017-07-30T19:16:01.788224Z"
    },
    "scrolled": false
   },
   "outputs": [
    {
     "name": "stdout",
     "output_type": "stream",
     "text": [
      "INFO:root:__init__:<module>:26:Initializing PyCoTools\n",
      "INFO:root:__init__:<module>:27:Initializing logging System\n",
      "INFO:root:__init__:<module>:28:logging config file at: /home/b3053674/Documents/PyCoTools/PyCoTools/logging_config.conf\n",
      "INFO:root:<ipython-input-1-f58b6052b3b5>:<module>:23:written kholodenko model to /home/b3053674/Documents/PyCoTools/PyCoTools/PyCoToolsTutorial/kholodenko_model.cps\n",
      "INFO:root:<ipython-input-1-f58b6052b3b5>:<module>:24:Checking that kholodenko file exists: ... True\n"
     ]
    }
   ],
   "source": [
    "%matplotlib inline\n",
    "import os,glob\n",
    "import site\n",
    "site.addsitedir('/home/b3053674/Documents/PyCoTools')\n",
    "import PyCoTools\n",
    "from PyCoTools.PyCoToolsTutorial import test_models\n",
    "import os\n",
    "import pandas\n",
    "import logging\n",
    "logging.basicConfig(format = '%(levelname)s:%(message)s')\n",
    "LOG=logging.getLogger()\n",
    "\n",
    "##this can be anywhere you like\n",
    "tutorial_directory = '/home/b3053674/Documents/PyCoTools/PyCoTools/PyCoToolsTutorial'\n",
    "## module containing copasi models in string format\n",
    "TM = test_models.TestModels()\n",
    "kholodenko_model_string = TM.get_kholodenko_variant1() ## published kholodenko model\n",
    "kholodenko_model = os.path.join(tutorial_directory, 'kholodenko_model.cps')\n",
    "\n",
    "with open(kholodenko_model, 'w') as f:\n",
    "    f.write(kholodenko_model_string)\n",
    "\n",
    "LOG.info('written kholodenko model to {}'.format(kholodenko_model))\n",
    "LOG.info('Checking that kholodenko file exists: ... {}'.format(os.path.isfile(kholodenko_model)))"
   ]
  },
  {
   "cell_type": "markdown",
   "metadata": {},
   "source": [
    "Copasi supports three types of scan: \n",
    "\n",
    "## Parameter Scan\n",
    "Set up a scan subtask with a single parameter being systematically varied. Run the scan via CopasiSE."
   ]
  },
  {
   "cell_type": "code",
   "execution_count": 5,
   "metadata": {
    "ExecuteTime": {
     "end_time": "2017-07-30T19:18:41.788569Z",
     "start_time": "2017-07-30T19:18:41.125913Z"
    },
    "scrolled": true
   },
   "outputs": [],
   "source": [
    "PyCoTools.pycopi.Scan(kholodenko_model,scan_type = 'scan',\n",
    "                     subtask = 'time_course',\n",
    "                     report_type = 'time_course',\n",
    "                     report_name = 'ParameterScanOfTimeCourse.txt',\n",
    "                     variable = 'Mos-P',\n",
    "                     minimum = 1,\n",
    "                     maximum = 20,\n",
    "                     number_of_steps = 8,\n",
    "                     append=True,\n",
    "                     run=True,\n",
    "                     )\n",
    "\n",
    "## Set to True to open GUI to check scan task\n",
    "manually_check_model = False\n",
    "if manually_check_model:\n",
    "    os.system('CopasiUI {}'.format(kholodenko_model))"
   ]
  },
  {
   "cell_type": "markdown",
   "metadata": {},
   "source": [
    "## 2 Way Parameter Scan\n",
    "By default, scan tasks are removed before setting up a new scan. To set up dual scans, set  clear_scans to False in a  second call to `Scan`."
   ]
  },
  {
   "cell_type": "code",
   "execution_count": 3,
   "metadata": {
    "ExecuteTime": {
     "end_time": "2017-07-30T19:17:52.117562Z",
     "start_time": "2017-07-30T19:17:44.017179Z"
    }
   },
   "outputs": [
    {
     "data": {
      "text/plain": [
       "0"
      ]
     },
     "execution_count": 3,
     "metadata": {},
     "output_type": "execute_result"
    }
   ],
   "source": [
    "import PyCoTools\n",
    "import os\n",
    "import pandas\n",
    "\n",
    "## setup first parameter scan\n",
    "S=PyCoTools.pycopi.Scan(kholodenko_model,scan_type = 'scan',\n",
    "                     subtask = 'time_course',\n",
    "                     report_type = 'time_course',\n",
    "                     report_name = 'ParameterScanOfTimeCourse.txt',\n",
    "                     variable = 'Mos-P',\n",
    "                     minimum = 1,\n",
    "                     maximum = 10,\n",
    "                     number_of_steps = 10,\n",
    "                     )\n",
    "\n",
    "## setup second parameter scan. Note clear_scans = False. \n",
    "## This tells PyCoTools not to remove all scans before setting up a new scan. \n",
    "S2=PyCoTools.pycopi.Scan(kholodenko_model,scan_type = 'scan',\n",
    "                     subtask = 'time_course',\n",
    "                     report_type = 'time_course',\n",
    "                     report_name = 'ParameterScanOfTimeCourse.txt',\n",
    "                     variable = 'Mek1-P',\n",
    "                     minimum = 1,\n",
    "                     maximum = 100,\n",
    "                     number_of_steps = 10,\n",
    "                     clear_scans=False,\n",
    "                     run=True)\n",
    "\n",
    "\n",
    "## Set to True to open GUI to check scan task\n",
    "manually_check_model = False\n",
    "if manually_check_model:\n",
    "    os.system('CopasiUI {}'.format(kholodenko_model))"
   ]
  },
  {
   "cell_type": "markdown",
   "metadata": {},
   "source": [
    "An arbitrary number of scans can be setup this way. Further, its possible to chain together scans with repeat or random distribution scans, if you so desired. "
   ]
  },
  {
   "cell_type": "markdown",
   "metadata": {},
   "source": [
    "## Repeat Scan Items\n",
    "Repeat scans are very useful for running multiple parameter estimations and for running stochastic time courses. The latter is not yet supported in PyCoTools."
   ]
  },
  {
   "cell_type": "code",
   "execution_count": 4,
   "metadata": {},
   "outputs": [
    {
     "data": {
      "text/plain": [
       "0"
      ]
     },
     "execution_count": 4,
     "metadata": {},
     "output_type": "execute_result"
    }
   ],
   "source": [
    "## Assume Parameter Estimation task already configured\n",
    "S=PyCoTools.pycopi.Scan(kholodenko_model,scan_type = 'repeat',\n",
    "                     subtask = 'parameter_estimation', \n",
    "                     report_type = 'parameter_estimation',\n",
    "                     report_name = 'estimations.txt',\n",
    "                     number_of_steps = 10, #10 parameter estimations\n",
    "                     run=False,   \n",
    "                     )\n",
    "\n",
    "\n",
    "## Set to True to open GUI to check scan task\n",
    "manually_check_model = False\n",
    "if manually_check_model:\n",
    "    os.system('CopasiUI {}'.format(kholodenko_model))"
   ]
  }
 ],
 "metadata": {
  "hide_input": false,
  "kernelspec": {
   "display_name": "Python [default]",
   "language": "python",
   "name": "python2"
  },
  "language_info": {
   "codemirror_mode": {
    "name": "ipython",
    "version": 2
   },
   "file_extension": ".py",
   "mimetype": "text/x-python",
   "name": "python",
   "nbconvert_exporter": "python",
   "pygments_lexer": "ipython2",
   "version": "2.7.13"
  },
  "latex_envs": {
   "LaTeX_envs_menu_present": true,
   "autocomplete": true,
   "bibliofile": "biblio.bib",
   "cite_by": "apalike",
   "current_citInitial": 1,
   "eqLabelWithNumbers": true,
   "eqNumInitial": 1,
   "hotkeys": {
    "equation": "Ctrl-E",
    "itemize": "Ctrl-I"
   },
   "labels_anchors": false,
   "latex_user_defs": false,
   "report_style_numbering": false,
   "user_envs_cfg": false
  },
  "toc": {
   "colors": {
    "hover_highlight": "#DAA520",
    "navigate_num": "#000000",
    "navigate_text": "#333333",
    "running_highlight": "#FF0000",
    "selected_highlight": "#FFD700",
    "sidebar_border": "#EEEEEE",
    "wrapper_background": "#FFFFFF"
   },
   "moveMenuLeft": true,
   "nav_menu": {
    "height": "102px",
    "width": "252px"
   },
   "navigate_menu": true,
   "number_sections": true,
   "sideBar": true,
   "threshold": 4,
   "toc_cell": false,
   "toc_section_display": "block",
   "toc_window_display": false,
   "widenNotebook": false
  },
  "varInspector": {
   "cols": {
    "lenName": 16,
    "lenType": 16,
    "lenVar": 40
   },
   "kernels_config": {
    "python": {
     "delete_cmd_postfix": "",
     "delete_cmd_prefix": "del ",
     "library": "var_list.py",
     "varRefreshCmd": "print(var_dic_list())"
    },
    "r": {
     "delete_cmd_postfix": ") ",
     "delete_cmd_prefix": "rm(",
     "library": "var_list.r",
     "varRefreshCmd": "cat(var_dic_list()) "
    }
   },
   "types_to_exclude": [
    "module",
    "function",
    "builtin_function_or_method",
    "instance",
    "_Feature"
   ],
   "window_display": false
  }
 },
 "nbformat": 4,
 "nbformat_minor": 2
}
