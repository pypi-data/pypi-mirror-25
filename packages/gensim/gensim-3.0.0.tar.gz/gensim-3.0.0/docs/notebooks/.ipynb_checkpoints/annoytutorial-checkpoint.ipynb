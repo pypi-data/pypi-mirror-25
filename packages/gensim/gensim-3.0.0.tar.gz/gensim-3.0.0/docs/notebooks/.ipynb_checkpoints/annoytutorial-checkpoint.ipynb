{
 "cells": [
  {
   "cell_type": "markdown",
   "metadata": {},
   "source": [
    "# Similarity Queries using Annoy Tutorial"
   ]
  },
  {
   "cell_type": "markdown",
   "metadata": {},
   "source": [
    "This tutorial is about using the ([Annoy Approximate Nearest Neighbors Oh Yeah](https://github.com/spotify/annoy \"Link to annoy repo\")) library for similarity queries with a Word2Vec model built with gensim.\n",
    "\n",
    "## Why use Annoy?\n",
    "The current implementation for finding k nearest neighbors in a vector space in gensim has linear complexity via brute force in the number of indexed documents, although with extremely low constant factors. The retrieved results are exact, which is an overkill in many applications: approximate results retrieved in sub-linear time may be enough. Annoy can find approximate nearest neighbors much faster.\n",
    "\n",
    "\n",
    "## Prerequisites\n",
    "Additional libraries needed for this tutorial:\n",
    "- annoy\n",
    "- psutil\n",
    "- matplotlib\n",
    "- watermark\n",
    "\n",
    "## Outline\n",
    "1. Download Text8 Corpus\n",
    "2. Build Word2Vec Model\n",
    "3. Construct AnnoyIndex with model & make a similarity query\n",
    "4. Verify & Evaluate performance\n",
    "5. Evaluate relationship of `num_trees` to initialization time and accuracy\n",
    "6. Work with Google's word2vec C formats"
   ]
  },
  {
   "cell_type": "code",
   "execution_count": 1,
   "metadata": {},
   "outputs": [
    {
     "name": "stderr",
     "output_type": "stream",
     "text": [
      "Using TensorFlow backend.\n"
     ]
    },
    {
     "name": "stdout",
     "output_type": "stream",
     "text": [
      "CPython 2.7.13\n",
      "IPython 5.5.0\n",
      "\n",
      "gensim 2.3.0\n",
      "numpy 1.13.1\n",
      "scipy 0.19.1\n",
      "psutil 5.3.1\n",
      "matplotlib 2.0.2\n",
      "\n",
      "compiler   : GCC 6.3.0 20170118\n",
      "system     : Linux\n",
      "release    : 4.10.0-33-generic\n",
      "machine    : x86_64\n",
      "processor  : x86_64\n",
      "CPU cores  : 8\n",
      "interpreter: 64bit\n"
     ]
    }
   ],
   "source": [
    "# pip install watermark\n",
    "%reload_ext watermark\n",
    "%watermark -v -m -p gensim,numpy,scipy,psutil,matplotlib"
   ]
  },
  {
   "cell_type": "markdown",
   "metadata": {},
   "source": [
    "### 1. Download Text8 Corpus"
   ]
  },
  {
   "cell_type": "code",
   "execution_count": 2,
   "metadata": {},
   "outputs": [
    {
     "name": "stdout",
     "output_type": "stream",
     "text": [
      "--2017-09-21 15:53:53--  http://mattmahoney.net/dc/text8.zip\n",
      "Resolving mattmahoney.net (mattmahoney.net)... 98.139.135.129\n",
      "Connecting to mattmahoney.net (mattmahoney.net)|98.139.135.129|:80... connected.\n",
      "HTTP request sent, awaiting response... 416 Requested Range Not Satisfiable\n",
      "\n",
      "    The file is already fully retrieved; nothing to do.\n",
      "\n",
      "Archive:  text8.zip\n",
      "  inflating: text8                   \n"
     ]
    }
   ],
   "source": [
    "import os.path\n",
    "if not os.path.isfile('text8'):\n",
    "    !wget -c http://mattmahoney.net/dc/text8.zip\n",
    "    !unzip text8.zip"
   ]
  },
  {
   "cell_type": "markdown",
   "metadata": {},
   "source": [
    "#### Import & Set up Logging\n",
    "I'm not going to set up logging due to the verbose input displaying in notebooks, but if you want that, uncomment the lines in the cell below."
   ]
  },
  {
   "cell_type": "code",
   "execution_count": 3,
   "metadata": {},
   "outputs": [],
   "source": [
    "LOGS = False\n",
    "\n",
    "if LOGS:\n",
    "    import logging\n",
    "    logging.basicConfig(format='%(asctime)s : %(levelname)s : %(message)s', level=logging.INFO)"
   ]
  },
  {
   "cell_type": "markdown",
   "metadata": {},
   "source": [
    "### 2. Build Word2Vec Model"
   ]
  },
  {
   "cell_type": "code",
   "execution_count": 4,
   "metadata": {
    "scrolled": true
   },
   "outputs": [
    {
     "name": "stdout",
     "output_type": "stream",
     "text": [
      "Word2Vec(vocab=71290, size=100, alpha=0.05)\n"
     ]
    }
   ],
   "source": [
    "from gensim.models import Word2Vec, KeyedVectors\n",
    "from gensim.models.word2vec import Text8Corpus\n",
    "\n",
    "\n",
    "# Using params from Word2Vec_FastText_Comparison. Same values as used for fastText training above\n",
    "params = {\n",
    "    'alpha': 0.05,\n",
    "    'size': 100,\n",
    "    'window': 5,\n",
    "    'iter': 5,\n",
    "    'min_count': 5,\n",
    "    'sample': 1e-4,\n",
    "    'sg': 1,\n",
    "    'hs': 0,\n",
    "    'negative': 5\n",
    "}\n",
    "\n",
    "model = Word2Vec(Text8Corpus('text8'), **params)\n",
    "print(model)"
   ]
  },
  {
   "cell_type": "markdown",
   "metadata": {},
   "source": [
    "See the [Word2Vec tutorial](word2vec.ipynb) for how to initialize and save this model."
   ]
  },
  {
   "cell_type": "markdown",
   "metadata": {},
   "source": [
    "#### Comparing the traditional implementation and the Annoy approximation"
   ]
  },
  {
   "cell_type": "code",
   "execution_count": 5,
   "metadata": {},
   "outputs": [],
   "source": [
    "# Set up the model and vector that we are using in the comparison\n",
    "from gensim.similarities.index import AnnoyIndexer\n",
    "\n",
    "model.init_sims()\n",
    "annoy_index = AnnoyIndexer(model, 100)"
   ]
  },
  {
   "cell_type": "code",
   "execution_count": 6,
   "metadata": {},
   "outputs": [
    {
     "data": {
      "text/plain": [
       "[(u'the', 1.0),\n",
       " (u'of', 0.8480451107025146),\n",
       " (u'in', 0.819101095199585),\n",
       " (u'a', 0.8053385019302368),\n",
       " (u'and', 0.7558349370956421)]"
      ]
     },
     "execution_count": 6,
     "metadata": {},
     "output_type": "execute_result"
    }
   ],
   "source": [
    "# Dry run to make sure both indices are fully in RAM\n",
    "vector = model.wv.syn0norm[0]\n",
    "model.most_similar([vector], topn=5, indexer=annoy_index)\n",
    "model.most_similar([vector], topn=5)"
   ]
  },
  {
   "cell_type": "code",
   "execution_count": 7,
   "metadata": {},
   "outputs": [],
   "source": [
    "import time\n",
    "import numpy as np\n",
    "\n",
    "\n",
    "def avg_query_time(annoy_index=None, queries=1000):\n",
    "    \"\"\"\n",
    "    Average query time of a most_similar method over 1000 random queries,\n",
    "    uses annoy if given an indexer\n",
    "    \"\"\"\n",
    "    total_time = 0\n",
    "    for _ in range(queries):\n",
    "        rand_vec = model.wv.syn0norm[np.random.randint(0, len(model.wv.vocab))]\n",
    "        start_time = time.clock()\n",
    "        model.most_similar([rand_vec], topn=5, indexer=annoy_index)\n",
    "        total_time += time.clock() - start_time\n",
    "    return total_time / queries"
   ]
  },
  {
   "cell_type": "code",
   "execution_count": 8,
   "metadata": {},
   "outputs": [
    {
     "name": "stdout",
     "output_type": "stream",
     "text": [
      "Gensim (s/query):\t0.02015\n",
      "Annoy (s/query):\t0.00037\n",
      "\n",
      "Annoy is 54.86 times faster on average on this particular run\n"
     ]
    }
   ],
   "source": [
    "queries = 10000\n",
    "\n",
    "gensim_time = avg_query_time(queries=queries)\n",
    "annoy_time = avg_query_time(annoy_index, queries=queries)\n",
    "print(\"Gensim (s/query):\\t{0:.5f}\".format(gensim_time))\n",
    "print(\"Annoy (s/query):\\t{0:.5f}\".format(annoy_time))\n",
    "speed_improvement = gensim_time / annoy_time\n",
    "print (\"\\nAnnoy is {0:.2f} times faster on average on this particular run\".format(speed_improvement))"
   ]
  },
  {
   "cell_type": "markdown",
   "metadata": {},
   "source": [
    "\n",
    "**This speedup factor is by no means constant** and will vary greatly from run to run and is particular to this data set, BLAS setup, Annoy parameters(as tree size increases speedup factor decreases), machine specifications, among other factors.\n",
    "\n",
    ">**Note**: Initialization time for the annoy indexer was not included in the times. The optimal knn algorithm for you to use will depend on how many queries you need to make and the size of the corpus. If you are making very few similarity queries, the time taken to initialize the annoy indexer will be longer than the time it would take the brute force method to retrieve results. If you are making many queries however, the time it takes to initialize the annoy indexer will be made up for by the incredibly fast retrieval times for queries once the indexer has been initialized\n",
    "\n",
    ">**Note** : Gensim's 'most_similar' method is using numpy operations in the form of dot product whereas Annoy's method isnt. If 'numpy' on your machine is using one of the BLAS libraries like ATLAS or LAPACK, it'll run on multiple cores(only if your machine has multicore support ). Check [SciPy Cookbook](http://scipy-cookbook.readthedocs.io/items/ParallelProgramming.html) for more details."
   ]
  },
  {
   "cell_type": "markdown",
   "metadata": {},
   "source": [
    "## 3. Construct AnnoyIndex with model & make a similarity query"
   ]
  },
  {
   "cell_type": "markdown",
   "metadata": {},
   "source": [
    "### Creating an indexer\n",
    "An instance of `AnnoyIndexer` needs to be created in order to use Annoy in gensim. The `AnnoyIndexer` class is located in `gensim.similarities.index`\n",
    "\n",
    "`AnnoyIndexer()` takes two parameters:\n",
    "\n",
    "**`model`**: A `Word2Vec` or `Doc2Vec` model\n",
    "\n",
    "**`num_trees`**: A positive integer. `num_trees` effects the build time and the index size. **A larger value will give more accurate results, but larger indexes**. More information on what trees in Annoy do can be found [here](https://github.com/spotify/annoy#how-does-it-work). The relationship between `num_trees`, build time, and accuracy will be investigated later in the tutorial.\n",
    "\n",
    "Now that we are ready to make a query, lets find the top 5 most similar words to \"science\" in the Text8 corpus. To make a similarity query we call `Word2Vec.most_similar` like we would traditionally, but with an added parameter, `indexer`. The only supported indexer in gensim as of now is Annoy."
   ]
  },
  {
   "cell_type": "code",
   "execution_count": 9,
   "metadata": {},
   "outputs": [
    {
     "name": "stdout",
     "output_type": "stream",
     "text": [
      "Approximate Neighbors\n",
      "(u'science', 1.0)\n",
      "(u'fiction', 0.6511130928993225)\n",
      "(u'astrobiology', 0.6057945191860199)\n",
      "(u'multidisciplinary', 0.5991605818271637)\n",
      "(u'actuarial', 0.5838341116905212)\n",
      "(u'astronautics', 0.583436518907547)\n",
      "(u'biostatistics', 0.5823797881603241)\n",
      "(u'scientific', 0.579769492149353)\n",
      "(u'nanomedicine', 0.5792297124862671)\n",
      "(u'psychohistory', 0.5790888369083405)\n",
      "(u'sciences', 0.5779414176940918)\n",
      "\n",
      "Normal (not Annoy-indexed) Neighbors\n",
      "(u'science', 0.9999998807907104)\n",
      "(u'fiction', 0.7565557956695557)\n",
      "(u'astrobiology', 0.6892037987709045)\n",
      "(u'multidisciplinary', 0.6786555051803589)\n",
      "(u'protoscience', 0.6618891954421997)\n",
      "(u'actuarial', 0.6536117792129517)\n",
      "(u'astronautics', 0.6529498100280762)\n",
      "(u'technology', 0.6519829034805298)\n",
      "(u'biostatistics', 0.6511867046356201)\n",
      "(u'crichton', 0.6504992842674255)\n",
      "(u'scientific', 0.6468126773834229)\n"
     ]
    }
   ],
   "source": [
    "# 100 trees are being used in this example\n",
    "annoy_index = AnnoyIndexer(model, 100)\n",
    "# Derive the vector for the word \"science\" in our model\n",
    "vector = model[\"science\"]\n",
    "# The instance of AnnoyIndexer we just created is passed\n",
    "approximate_neighbors = model.most_similar([vector], topn=11, indexer=annoy_index)\n",
    "# Neatly print the approximate_neighbors and their corresponding cosine similarity values\n",
    "print(\"Approximate Neighbors\")\n",
    "for neighbor in approximate_neighbors:\n",
    "    print(neighbor)\n",
    "\n",
    "normal_neighbors = model.most_similar([vector], topn=11)\n",
    "print(\"\\nNormal (not Annoy-indexed) Neighbors\")\n",
    "for neighbor in normal_neighbors:\n",
    "    print(neighbor)"
   ]
  },
  {
   "cell_type": "markdown",
   "metadata": {},
   "source": [
    "#### Analyzing the results"
   ]
  },
  {
   "cell_type": "markdown",
   "metadata": {},
   "source": [
    "The closer the cosine similarity of a vector is to 1, the more similar that word is to our query, which was the vector for \"science\". There are some differences in the ranking of similar words and the set of words included within the 10 most similar words."
   ]
  },
  {
   "cell_type": "markdown",
   "metadata": {},
   "source": [
    "### 4. Verify & Evaluate performance"
   ]
  },
  {
   "cell_type": "markdown",
   "metadata": {},
   "source": [
    "#### Persisting Indexes\n",
    "You can save and load your indexes from/to disk to prevent having to construct them each time. This will create two files on disk, _fname_ and _fname.d_. Both files are needed to correctly restore all attributes. Before loading an index, you will have to create an empty AnnoyIndexer object."
   ]
  },
  {
   "cell_type": "code",
   "execution_count": 10,
   "metadata": {},
   "outputs": [],
   "source": [
    "fname = '/tmp/mymodel.index'\n",
    "\n",
    "# Persist index to disk\n",
    "annoy_index.save(fname)\n",
    "\n",
    "# Load index back\n",
    "if os.path.exists(fname):\n",
    "    annoy_index2 = AnnoyIndexer()\n",
    "    annoy_index2.load(fname)\n",
    "    annoy_index2.model = model"
   ]
  },
  {
   "cell_type": "code",
   "execution_count": 11,
   "metadata": {},
   "outputs": [
    {
     "name": "stdout",
     "output_type": "stream",
     "text": [
      "(u'science', 1.0)\n",
      "(u'fiction', 0.6511130928993225)\n",
      "(u'astrobiology', 0.6057945191860199)\n",
      "(u'multidisciplinary', 0.5991605818271637)\n",
      "(u'actuarial', 0.5838341116905212)\n",
      "(u'astronautics', 0.583436518907547)\n",
      "(u'biostatistics', 0.5823797881603241)\n",
      "(u'scientific', 0.579769492149353)\n",
      "(u'nanomedicine', 0.5792297124862671)\n",
      "(u'psychohistory', 0.5790888369083405)\n",
      "(u'sciences', 0.5779414176940918)\n"
     ]
    }
   ],
   "source": [
    "# Results should be identical to above\n",
    "vector = model[\"science\"]\n",
    "approximate_neighbors2 = model.most_similar([vector], topn=11, indexer=annoy_index2)\n",
    "for neighbor in approximate_neighbors2:\n",
    "    print(neighbor)\n",
    "    \n",
    "assert approximate_neighbors == approximate_neighbors2"
   ]
  },
  {
   "cell_type": "markdown",
   "metadata": {},
   "source": [
    "Be sure to use the same model at load that was used originally, otherwise you will get unexpected behaviors."
   ]
  },
  {
   "cell_type": "markdown",
   "metadata": {},
   "source": [
    "#### Save memory by memory-mapping indices saved to disk\n",
    "\n",
    "Annoy library has a useful feature that indices can be memory-mapped from disk. It saves memory when the same index is used by several processes.\n",
    "\n",
    "Below are two snippets of code. First one has a separate index for each process. The second snipped shares the index between two processes via memory-mapping. The second example uses less total RAM as it is shared."
   ]
  },
  {
   "cell_type": "code",
   "execution_count": 12,
   "metadata": {},
   "outputs": [],
   "source": [
    "# Remove verbosity from code below (if logging active)\n",
    "\n",
    "if LOGS:\n",
    "    logging.disable(logging.CRITICAL)"
   ]
  },
  {
   "cell_type": "code",
   "execution_count": 13,
   "metadata": {},
   "outputs": [],
   "source": [
    "from multiprocessing import Process\n",
    "import os\n",
    "import psutil"
   ]
  },
  {
   "cell_type": "markdown",
   "metadata": {},
   "source": [
    "#### Bad Example: Two processes load the Word2vec model from disk and create there own Annoy indices from that model."
   ]
  },
  {
   "cell_type": "code",
   "execution_count": 14,
   "metadata": {},
   "outputs": [
    {
     "name": "stdout",
     "output_type": "stream",
     "text": [
      "Process Id: 13416\n",
      "\n",
      "Memory used by process 13416: pmem(rss=630013952, vms=2255237120, shared=10375168, text=3293184, lib=0, data=923406336, dirty=0)\n",
      "---\n",
      "Process Id: 13455\n",
      "\n",
      "Memory used by process 13455: pmem(rss=630022144, vms=2255237120, shared=10375168, text=3293184, lib=0, data=923439104, dirty=0)\n",
      "---\n",
      "CPU times: user 632 ms, sys: 60 ms, total: 692 ms\n",
      "Wall time: 1min\n"
     ]
    }
   ],
   "source": [
    "%%time\n",
    "\n",
    "model.save('/tmp/mymodel.pkl')\n",
    "\n",
    "def f(process_id):\n",
    "    print('Process Id: {}'.format(os.getpid()))\n",
    "    process = psutil.Process(os.getpid())\n",
    "    new_model = Word2Vec.load('/tmp/mymodel.pkl')\n",
    "    vector = new_model[\"science\"]\n",
    "    annoy_index = AnnoyIndexer(new_model,100)\n",
    "    approximate_neighbors = new_model.most_similar([vector], topn=5, indexer=annoy_index)\n",
    "    print('\\nMemory used by process {}: {}\\n---'.format(os.getpid(), process.memory_info()))\n",
    "\n",
    "# Creating and running two parallel process to share the same index file.\n",
    "p1 = Process(target=f, args=('1',))\n",
    "p1.start()\n",
    "p1.join()\n",
    "p2 = Process(target=f, args=('2',))\n",
    "p2.start()\n",
    "p2.join()"
   ]
  },
  {
   "cell_type": "markdown",
   "metadata": {},
   "source": [
    "#### Good example. Two processes load both the Word2vec model and index from disk and memory-map the index\n"
   ]
  },
  {
   "cell_type": "code",
   "execution_count": 15,
   "metadata": {},
   "outputs": [
    {
     "name": "stdout",
     "output_type": "stream",
     "text": [
      "Process Id: 13472\n",
      "\n",
      "Memory used by process 13472: pmem(rss=612229120, vms=2235908096, shared=139956224, text=3293184, lib=0, data=774463488, dirty=0)\n",
      "---\n",
      "Process Id: 13479\n",
      "\n",
      "Memory used by process 13479: pmem(rss=612229120, vms=2235908096, shared=139956224, text=3293184, lib=0, data=774463488, dirty=0)\n",
      "---\n",
      "CPU times: user 604 ms, sys: 96 ms, total: 700 ms\n",
      "Wall time: 1.96 s\n"
     ]
    }
   ],
   "source": [
    "%%time\n",
    "\n",
    "model.save('/tmp/mymodel.pkl')\n",
    "\n",
    "def f(process_id):\n",
    "    print('Process Id: {}'.format(os.getpid()))\n",
    "    process = psutil.Process(os.getpid())\n",
    "    new_model = Word2Vec.load('/tmp/mymodel.pkl')\n",
    "    vector = new_model[\"science\"]\n",
    "    annoy_index = AnnoyIndexer()\n",
    "    annoy_index.load('/tmp/mymodel.index')\n",
    "    annoy_index.model = new_model\n",
    "    approximate_neighbors = new_model.most_similar([vector], topn=5, indexer=annoy_index)\n",
    "    print('\\nMemory used by process {}: {}\\n---'.format(os.getpid(), process.memory_info()))\n",
    "\n",
    "# Creating and running two parallel process to share the same index file.\n",
    "p1 = Process(target=f, args=('1',))\n",
    "p1.start()\n",
    "p1.join()\n",
    "p2 = Process(target=f, args=('2',))\n",
    "p2.start()\n",
    "p2.join()"
   ]
  },
  {
   "cell_type": "markdown",
   "metadata": {},
   "source": [
    "### 5. Evaluate relationship of `num_trees` to initialization time and accuracy"
   ]
  },
  {
   "cell_type": "code",
   "execution_count": 16,
   "metadata": {},
   "outputs": [],
   "source": [
    "import matplotlib.pyplot as plt\n",
    "%matplotlib inline"
   ]
  },
  {
   "cell_type": "markdown",
   "metadata": {},
   "source": [
    "#### Build dataset of Initialization times and accuracy measures"
   ]
  },
  {
   "cell_type": "code",
   "execution_count": 17,
   "metadata": {},
   "outputs": [],
   "source": [
    "exact_results = [element[0] for element in model.most_similar([model.wv.syn0norm[0]], topn=100)]\n",
    "\n",
    "x_values = []\n",
    "y_values_init = []\n",
    "y_values_accuracy = []\n",
    "\n",
    "for x in range(1, 300, 20):\n",
    "    x_values.append(x)\n",
    "    start_time = time.time()\n",
    "    annoy_index = AnnoyIndexer(model, x)\n",
    "    y_values_init.append(time.time() - start_time)\n",
    "    approximate_results = model.most_similar([model.wv.syn0norm[0]], topn=100, indexer=annoy_index)\n",
    "    top_words = [result[0] for result in approximate_results]\n",
    "    y_values_accuracy.append(len(set(top_words).intersection(exact_results)))"
   ]
  },
  {
   "cell_type": "markdown",
   "metadata": {},
   "source": [
    "#### Plot results"
   ]
  },
  {
   "cell_type": "code",
   "execution_count": 18,
   "metadata": {},
   "outputs": [
    {
     "data": {
      "image/png": "[encoded data removed]",
      "text/plain": [
       "<matplotlib.figure.Figure at 0x7f9a42f23dd0>"
      ]
     },
     "metadata": {},
     "output_type": "display_data"
    }
   ],
   "source": [
    "plt.figure(1, figsize=(12, 6))\n",
    "plt.subplot(121)\n",
    "plt.plot(x_values, y_values_init)\n",
    "plt.title(\"num_trees vs initalization time\")\n",
    "plt.ylabel(\"Initialization time (s)\")\n",
    "plt.xlabel(\"num_trees\")\n",
    "plt.subplot(122)\n",
    "plt.plot(x_values, y_values_accuracy)\n",
    "plt.title(\"num_trees vs accuracy\")\n",
    "plt.ylabel(\"% accuracy\")\n",
    "plt.xlabel(\"num_trees\")\n",
    "plt.tight_layout()\n",
    "plt.show()"
   ]
  },
  {
   "cell_type": "markdown",
   "metadata": {},
   "source": [
    "##### Initialization:\n",
    "Initialization time of the annoy indexer increases in a linear fashion with num_trees. Initialization time will vary from corpus to corpus, in the graph above the lee corpus was used.\n",
    "\n",
    "##### Accuracy:\n",
    "In this dataset, the accuracy seems logarithmically related to the number of trees. We see an improvement in accuracy with more trees, but the relationship is nonlinear."
   ]
  },
  {
   "cell_type": "markdown",
   "metadata": {},
   "source": [
    "### 6. Work with Google word2vec files\n",
    "\n",
    "Our model can be exported to a word2vec C format. There is a binary and a plain text word2vec format. Both can be read with a variety of other software, or imported back into gensim as a `KeyedVectors` object."
   ]
  },
  {
   "cell_type": "code",
   "execution_count": 19,
   "metadata": {},
   "outputs": [],
   "source": [
    "# To export our model as text\n",
    "model.wv.save_word2vec_format('/tmp/vectors.txt', binary=False)"
   ]
  },
  {
   "cell_type": "code",
   "execution_count": 20,
   "metadata": {},
   "outputs": [
    {
     "name": "stdout",
     "output_type": "stream",
     "text": [
      "71290 100\n",
      "the 0.358103 0.203625 -0.082943 -0.161380 -0.091147 -0.018981 0.207596 -0.033350 -0.146758 -0.059217 -0.091136 -0.383496 0.103696 -0.013757 0.037420 0.188187 -0.041776 0.156648 -0.067239 -0.139905 0.054503 -0.293348 0.193726 0.230737 0.002330 -0.238864 -0.026896 -0.204247 -0.036562 -0.289247 -0.079685 0.140656 -0.034775 -0.046109 -0.007256 0.189578 0.078613 0.028746 0.043425 -0.301060 0.083097 -0.160067 0.383299 -0.187567 0.075390 0.041658 -0.113472 -0.006784 -0.102022 0.005216 -0.147094 0.075001 -0.001735 0.181325 -0.093496 0.078346 0.317645 0.123214 -0.196254 0.049644 -0.136339 -0.055067 -0.049970 -0.202782 0.133834 0.112190 0.016034 0.144678 0.252757 -0.066810 -0.050937 -0.097583 -0.078559 -0.044520 -0.052958 -0.041477 -0.010860 0.325727 -0.222283 -0.086979 -0.187342 0.106950 0.055197 -0.211555 0.079102 -0.137733 0.170524 -0.278524 0.051771 0.073617 0.372056 -0.190582 0.020970 -0.212209 0.036640 0.061858 -0.172753 -0.086021 -0.112327 -0.014691\n",
      "of 0.215954 0.101768 -0.068814 -0.080359 -0.106283 0.053443 0.255700 -0.177665 -0.220826 -0.155197 -0.196940 -0.461719 0.116096 0.069444 0.149459 -0.018139 -0.042471 0.047969 -0.048184 -0.053788 0.052818 -0.168447 0.189179 0.208347 0.012575 -0.214660 -0.014885 -0.217798 -0.015757 -0.353527 -0.038645 0.213279 -0.048242 -0.191656 -0.079207 0.056324 0.137635 -0.293193 0.171145 -0.213232 0.055798 -0.112443 0.389114 -0.301209 0.048349 0.046195 -0.246976 -0.112902 -0.199085 0.030827 -0.155250 0.030462 0.073438 0.051325 -0.211952 0.086424 0.179041 0.071418 -0.259455 0.025931 -0.276295 0.071558 -0.040413 -0.130514 0.113784 0.252160 0.036793 0.163872 0.216334 -0.012767 -0.016325 -0.061785 -0.088722 -0.076921 -0.099086 -0.006870 -0.104839 0.300578 -0.262098 -0.254093 -0.258072 0.149223 0.153772 -0.007123 0.057317 -0.067489 0.107666 -0.204942 -0.044076 0.095846 0.258329 -0.232838 0.096029 -0.092202 0.058510 0.223242 -0.255048 -0.000118 -0.044150 0.035137\n"
     ]
    }
   ],
   "source": [
    "# View the first 3 lines of the exported file\n",
    "\n",
    "# The first line has the total number of entries and the vector dimension count\n",
    "# The next lines have a key (a string) followed by its vector.\n",
    "with open('/tmp/vectors.txt') as myfile:\n",
    "    for i in range(3):\n",
    "        print(myfile.readline().strip())"
   ]
  },
  {
   "cell_type": "code",
   "execution_count": 21,
   "metadata": {},
   "outputs": [],
   "source": [
    "# To import a word2vec text model\n",
    "wv = KeyedVectors.load_word2vec_format('/tmp/vectors.txt', binary=False)"
   ]
  },
  {
   "cell_type": "code",
   "execution_count": 22,
   "metadata": {},
   "outputs": [],
   "source": [
    "# To export our model as binary\n",
    "model.wv.save_word2vec_format('/tmp/vectors.bin', binary=True)"
   ]
  },
  {
   "cell_type": "code",
   "execution_count": 23,
   "metadata": {},
   "outputs": [],
   "source": [
    "# To import a word2vec binary model\n",
    "wv = KeyedVectors.load_word2vec_format('/tmp/vectors.bin', binary=True)"
   ]
  },
  {
   "cell_type": "code",
   "execution_count": 24,
   "metadata": {},
   "outputs": [],
   "source": [
    "# To create and save Annoy Index from a loaded `KeyedVectors` object (with 100 trees)\n",
    "annoy_index = AnnoyIndexer(wv, 100)\n",
    "annoy_index.save('/tmp/mymodel.index')"
   ]
  },
  {
   "cell_type": "code",
   "execution_count": 25,
   "metadata": {},
   "outputs": [
    {
     "name": "stdout",
     "output_type": "stream",
     "text": [
      "Approximate Neighbors\n",
      "(u'cat', 1.0)\n",
      "(u'leopardus', 0.5925648808479309)\n",
      "(u'asinus', 0.5892291963100433)\n",
      "(u'prionailurus', 0.5838119387626648)\n",
      "(u'eared', 0.5815377831459045)\n",
      "(u'sighthound', 0.5808212757110596)\n",
      "(u'pug', 0.5791938602924347)\n",
      "(u'roars', 0.5786736905574799)\n",
      "(u'azawakh', 0.5771090984344482)\n",
      "(u'tapir', 0.5767132043838501)\n",
      "(u'bobtail', 0.5762960314750671)\n",
      "\n",
      "Normal (not Annoy-indexed) Neighbors\n",
      "(u'cat', 1.0)\n",
      "(u'crustacean', 0.6683488488197327)\n",
      "(u'leopardus', 0.6679932475090027)\n",
      "(u'asinus', 0.6625347137451172)\n",
      "(u'felis', 0.6616771817207336)\n",
      "(u'meow', 0.6597275733947754)\n",
      "(u'prionailurus', 0.6535748839378357)\n",
      "(u'cats', 0.6501241326332092)\n",
      "(u'eared', 0.6497787833213806)\n",
      "(u'sighthound', 0.6485786437988281)\n",
      "(u'pug', 0.6458443999290466)\n"
     ]
    }
   ],
   "source": [
    "# Load and test the saved word vectors and saved annoy index\n",
    "wv = KeyedVectors.load_word2vec_format('/tmp/vectors.bin', binary=True)\n",
    "annoy_index = AnnoyIndexer()\n",
    "annoy_index.load('/tmp/mymodel.index')\n",
    "annoy_index.model = wv\n",
    "\n",
    "vector = wv[\"cat\"]\n",
    "approximate_neighbors = wv.most_similar([vector], topn=11, indexer=annoy_index)\n",
    "# Neatly print the approximate_neighbors and their corresponding cosine similarity values\n",
    "print(\"Approximate Neighbors\")\n",
    "for neighbor in approximate_neighbors:\n",
    "    print(neighbor)\n",
    "\n",
    "normal_neighbors = wv.most_similar([vector], topn=11)\n",
    "print(\"\\nNormal (not Annoy-indexed) Neighbors\")\n",
    "for neighbor in normal_neighbors:\n",
    "    print(neighbor)"
   ]
  },
  {
   "cell_type": "markdown",
   "metadata": {},
   "source": [
    "### Recap\n",
    "In this notebook we used the Annoy module to build an indexed approximation of our word embeddings. To do so, we did the following steps:\n",
    "1. Download Text8 Corpus\n",
    "2. Build Word2Vec Model\n",
    "3. Construct AnnoyIndex with model & make a similarity query\n",
    "4. Verify & Evaluate performance\n",
    "5. Evaluate relationship of `num_trees` to initialization time and accuracy\n",
    "6. Work with Google's word2vec C formats"
   ]
  }
 ],
 "metadata": {
  "anaconda-cloud": {},
  "kernelspec": {
   "display_name": "Python 2",
   "language": "python",
   "name": "python2"
  },
  "language_info": {
   "codemirror_mode": {
    "name": "ipython",
    "version": 2
   },
   "file_extension": ".py",
   "mimetype": "text/x-python",
   "name": "python",
   "nbconvert_exporter": "python",
   "pygments_lexer": "ipython2",
   "version": "2.7.13"
  }
 },
 "nbformat": 4,
 "nbformat_minor": 1
}
