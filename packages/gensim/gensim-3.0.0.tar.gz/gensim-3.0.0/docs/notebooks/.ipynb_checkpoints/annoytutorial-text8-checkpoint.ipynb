{
 "cells": [
  {
   "cell_type": "markdown",
   "metadata": {},
   "source": [
    "# Similarity Queries using Annoy Tutorial"
   ]
  },
  {
   "cell_type": "markdown",
   "metadata": {},
   "source": [
    "This tutorial is about using the ([Annoy Approximate Nearest Neighbors Oh Yeah](https://github.com/spotify/annoy \"Link to annoy repo\")) library for similarity queries with a Word2Vec model built with gensim.\n",
    "\n",
    "## Why use Annoy?\n",
    "The current implementation for finding k nearest neighbors in a vector space in gensim has linear complexity via brute force in the number of indexed documents, although with extremely low constant factors. The retrieved results are exact, which is an overkill in many applications: approximate results retrieved in sub-linear time may be enough. Annoy can find approximate nearest neighbors much faster.\n",
    "\n",
    "\n",
    "## Prerequisites\n",
    "Additional libraries needed for this tutorial:\n",
    "- annoy\n",
    "- psutil\n",
    "- matplotlib\n",
    "- watermark\n",
    "\n",
    "## Outline\n",
    "1. Download Text8 Corpus\n",
    "2. Build Word2Vec Model\n",
    "3. Construct AnnoyIndex with model & make a similarity query\n",
    "4. Verify & Evaluate performance\n",
    "5. Evaluate relationship of `num_trees` to initialization time and accuracy"
   ]
  },
  {
   "cell_type": "code",
   "execution_count": 1,
   "metadata": {},
   "outputs": [
    {
     "name": "stderr",
     "output_type": "stream",
     "text": [
      "Using TensorFlow backend.\n"
     ]
    },
    {
     "name": "stdout",
     "output_type": "stream",
     "text": [
      "CPython 2.7.13\n",
      "IPython 5.5.0\n",
      "\n",
      "gensim 2.3.0\n",
      "numpy 1.13.1\n",
      "scipy 0.19.1\n",
      "psutil 5.3.1\n",
      "matplotlib 2.0.2\n",
      "\n",
      "compiler   : GCC 6.3.0 20170118\n",
      "system     : Linux\n",
      "release    : 4.10.0-33-generic\n",
      "machine    : x86_64\n",
      "processor  : x86_64\n",
      "CPU cores  : 8\n",
      "interpreter: 64bit\n"
     ]
    }
   ],
   "source": [
    "# pip install watermark\n",
    "%reload_ext watermark\n",
    "%watermark -v -m -p gensim,numpy,scipy,psutil,matplotlib"
   ]
  },
  {
   "cell_type": "markdown",
   "metadata": {},
   "source": [
    "### 1. Download Text8 Corpus"
   ]
  },
  {
   "cell_type": "code",
   "execution_count": 2,
   "metadata": {},
   "outputs": [],
   "source": [
    "import os.path\n",
    "if not os.path.isfile('text8'):\n",
    "    !wget -c http://mattmahoney.net/dc/text8.zip\n",
    "    !unzip text8.zip"
   ]
  },
  {
   "cell_type": "markdown",
   "metadata": {},
   "source": [
    "#### Import & Set up Logging\n",
    "I'm not going to set up logging due to the verbose input displaying in notebooks, but if you want that, uncomment the lines in the cell below."
   ]
  },
  {
   "cell_type": "code",
   "execution_count": 3,
   "metadata": {},
   "outputs": [],
   "source": [
    "LOGS = False\n",
    "\n",
    "if LOGS:\n",
    "    import logging\n",
    "    logging.basicConfig(format='%(asctime)s : %(levelname)s : %(message)s', level=logging.INFO)"
   ]
  },
  {
   "cell_type": "markdown",
   "metadata": {},
   "source": [
    "### 2. Build Word2Vec Model"
   ]
  },
  {
   "cell_type": "code",
   "execution_count": 4,
   "metadata": {
    "scrolled": true
   },
   "outputs": [
    {
     "name": "stdout",
     "output_type": "stream",
     "text": [
      "Word2Vec(vocab=71290, size=100, alpha=0.05)\n"
     ]
    }
   ],
   "source": [
    "from gensim.models import Word2Vec\n",
    "from gensim.models.word2vec import Text8Corpus\n",
    "\n",
    "# Using params from Word2Vec_FastText_Comparison. Same values as used for fastText training above\n",
    "params = {\n",
    "    'alpha': 0.05,\n",
    "    'size': 100,\n",
    "    'window': 5,\n",
    "    'iter': 5,\n",
    "    'min_count': 5,\n",
    "    'sample': 1e-4,\n",
    "    'sg': 1,\n",
    "    'hs': 0,\n",
    "    'negative': 5\n",
    "}\n",
    "\n",
    "model = Word2Vec(Text8Corpus('text8'), **params)\n",
    "print(model)"
   ]
  },
  {
   "cell_type": "markdown",
   "metadata": {},
   "source": [
    "See the [Word2Vec tutorial](word2vec.ipynb) for how to initialize and save this model."
   ]
  },
  {
   "cell_type": "markdown",
   "metadata": {},
   "source": [
    "#### Comparing the traditional implementation and the Annoy approximation"
   ]
  },
  {
   "cell_type": "code",
   "execution_count": 5,
   "metadata": {},
   "outputs": [],
   "source": [
    "# Set up the model and vector that we are using in the comparison\n",
    "from gensim.similarities.index import AnnoyIndexer\n",
    "\n",
    "model.init_sims()\n",
    "annoy_index = AnnoyIndexer(model, 100)"
   ]
  },
  {
   "cell_type": "code",
   "execution_count": 6,
   "metadata": {},
   "outputs": [
    {
     "data": {
      "text/plain": [
       "[(u'the', 0.9999999403953552),\n",
       " (u'of', 0.8322826027870178),\n",
       " (u'in', 0.8090551495552063),\n",
       " (u'a', 0.7914707660675049),\n",
       " (u'and', 0.7262790203094482)]"
      ]
     },
     "execution_count": 6,
     "metadata": {},
     "output_type": "execute_result"
    }
   ],
   "source": [
    "# Dry run to make sure both indices are fully in RAM\n",
    "vector = model.wv.syn0norm[0]\n",
    "model.most_similar([vector], topn=5, indexer=annoy_index)\n",
    "model.most_similar([vector], topn=5)"
   ]
  },
  {
   "cell_type": "code",
   "execution_count": 7,
   "metadata": {},
   "outputs": [],
   "source": [
    "import time\n",
    "import numpy as np"
   ]
  },
  {
   "cell_type": "code",
   "execution_count": 8,
   "metadata": {},
   "outputs": [],
   "source": [
    "def avg_query_time(annoy_index=None, queries=1000):\n",
    "    \"\"\"\n",
    "    Average query time of a most_similar method over 1000 random queries,\n",
    "    uses annoy if given an indexer\n",
    "    \"\"\"\n",
    "    total_time = 0\n",
    "    for _ in range(queries):\n",
    "        rand_vec = model.wv.syn0norm[np.random.randint(0, len(model.wv.vocab))]\n",
    "        start_time = time.clock()\n",
    "        model.most_similar([rand_vec], topn=5, indexer=annoy_index)\n",
    "        total_time += time.clock() - start_time\n",
    "    return total_time / queries"
   ]
  },
  {
   "cell_type": "code",
   "execution_count": 9,
   "metadata": {},
   "outputs": [
    {
     "name": "stdout",
     "output_type": "stream",
     "text": [
      "Gensim (s/query):\t0.02213\n",
      "Annoy (s/query):\t0.00036\n",
      "\n",
      "Annoy is 61.01 times faster on average on this particular run\n"
     ]
    }
   ],
   "source": [
    "queries = 10000\n",
    "\n",
    "gensim_time = avg_query_time(queries=queries)\n",
    "annoy_time = avg_query_time(annoy_index, queries=queries)\n",
    "print(\"Gensim (s/query):\\t{0:.5f}\".format(gensim_time))\n",
    "print(\"Annoy (s/query):\\t{0:.5f}\".format(annoy_time))\n",
    "speed_improvement = gensim_time / annoy_time\n",
    "print (\"\\nAnnoy is {0:.2f} times faster on average on this particular run\".format(speed_improvement))"
   ]
  },
  {
   "cell_type": "markdown",
   "metadata": {},
   "source": [
    "\n",
    "**This speedup factor is by no means constant** and will vary greatly from run to run and is particular to this data set, BLAS setup, Annoy parameters(as tree size increases speedup factor decreases), machine specifications, among other factors.\n",
    "\n",
    ">**Note**: Initialization time for the annoy indexer was not included in the times. The optimal knn algorithm for you to use will depend on how many queries you need to make and the size of the corpus. If you are making very few similarity queries, the time taken to initialize the annoy indexer will be longer than the time it would take the brute force method to retrieve results. If you are making many queries however, the time it takes to initialize the annoy indexer will be made up for by the incredibly fast retrieval times for queries once the indexer has been initialized\n",
    "\n",
    ">**Note** : Gensim's 'most_similar' method is using numpy operations in the form of dot product whereas Annoy's method isnt. If 'numpy' on your machine is using one of the BLAS libraries like ATLAS or LAPACK, it'll run on multiple cores(only if your machine has multicore support ). Check [SciPy Cookbook](http://scipy-cookbook.readthedocs.io/items/ParallelProgramming.html) for more details."
   ]
  },
  {
   "cell_type": "markdown",
   "metadata": {},
   "source": [
    "## 3. Construct AnnoyIndex with model & make a similarity query"
   ]
  },
  {
   "cell_type": "markdown",
   "metadata": {},
   "source": [
    "### Creating an indexer\n",
    "An instance of `AnnoyIndexer` needs to be created in order to use Annoy in gensim. The `AnnoyIndexer` class is located in `gensim.similarities.index`\n",
    "\n",
    "`AnnoyIndexer()` takes two parameters:\n",
    "\n",
    "**`model`**: A `Word2Vec` or `Doc2Vec` model\n",
    "\n",
    "**`num_trees`**: A positive integer. `num_trees` effects the build time and the index size. **A larger value will give more accurate results, but larger indexes**. More information on what trees in Annoy do can be found [here](https://github.com/spotify/annoy#how-does-it-work). The relationship between `num_trees`, build time, and accuracy will be investigated later in the tutorial.\n",
    "\n",
    "Now that we are ready to make a query, lets find the top 5 most similar words to \"science\" in the Text8 corpus. To make a similarity query we call `Word2Vec.most_similar` like we would traditionally, but with an added parameter, `indexer`. The only supported indexer in gensim as of now is Annoy."
   ]
  },
  {
   "cell_type": "code",
   "execution_count": 10,
   "metadata": {},
   "outputs": [
    {
     "name": "stdout",
     "output_type": "stream",
     "text": [
      "Approximate Neighbors\n",
      "(u'science', 1.0)\n",
      "(u'multidisciplinary', 0.6251502931118011)\n",
      "(u'astrobiology', 0.6015076637268066)\n",
      "(u'interdisciplinary', 0.596284419298172)\n",
      "(u'bimonthly', 0.5958010852336884)\n",
      "(u'bioethics', 0.5902806520462036)\n",
      "(u'actuarial', 0.5896544754505157)\n",
      "(u'robotics', 0.5860141217708588)\n",
      "(u'sciences', 0.583412230014801)\n",
      "(u'scientific', 0.5827092230319977)\n",
      "(u'biostatistics', 0.5778379142284393)\n",
      "\n",
      "Normal (not Annoy-indexed) Neighbors\n",
      "(u'science', 0.9999999403953552)\n",
      "(u'fiction', 0.7547709345817566)\n",
      "(u'multidisciplinary', 0.718975305557251)\n",
      "(u'astrobiology', 0.682407557964325)\n",
      "(u'interdisciplinary', 0.6740274429321289)\n",
      "(u'bimonthly', 0.6732463836669922)\n",
      "(u'bioethics', 0.6642602682113647)\n",
      "(u'actuarial', 0.6632330417633057)\n",
      "(u'protoscience', 0.6614617109298706)\n",
      "(u'robotics', 0.6572313904762268)\n",
      "(u'sciences', 0.6529091596603394)\n"
     ]
    }
   ],
   "source": [
    "# 100 trees are being used in this example\n",
    "annoy_index = AnnoyIndexer(model, 100)\n",
    "# Derive the vector for the word \"science\" in our model\n",
    "vector = model[\"science\"]\n",
    "# The instance of AnnoyIndexer we just created is passed\n",
    "approximate_neighbors = model.most_similar([vector], topn=11, indexer=annoy_index)\n",
    "# Neatly print the approximate_neighbors and their corresponding cosine similarity values\n",
    "print(\"Approximate Neighbors\")\n",
    "for neighbor in approximate_neighbors:\n",
    "    print(neighbor)\n",
    "\n",
    "normal_neighbors = model.most_similar([vector], topn=11)\n",
    "print(\"\\nNormal (not Annoy-indexed) Neighbors\")\n",
    "for neighbor in normal_neighbors:\n",
    "    print(neighbor)"
   ]
  },
  {
   "cell_type": "markdown",
   "metadata": {},
   "source": [
    "#### Analyzing the results"
   ]
  },
  {
   "cell_type": "markdown",
   "metadata": {},
   "source": [
    "The closer the cosine similarity of a vector is to 1, the more similar that word is to our query, which was the vector for \"science\". There are some differences in the ranking of similar words and the set of words included within the 10 most similar words."
   ]
  },
  {
   "cell_type": "markdown",
   "metadata": {},
   "source": [
    "### 4. Verify & Evaluate performance"
   ]
  },
  {
   "cell_type": "markdown",
   "metadata": {},
   "source": [
    "#### Persisting Indexes\n",
    "You can save and load your indexes from/to disk to prevent having to construct them each time. This will create two files on disk, _fname_ and _fname.d_. Both files are needed to correctly restore all attributes. Before loading an index, you will have to create an empty AnnoyIndexer object."
   ]
  },
  {
   "cell_type": "code",
   "execution_count": 11,
   "metadata": {},
   "outputs": [],
   "source": [
    "fname = 'index'\n",
    "\n",
    "# Persist index to disk\n",
    "annoy_index.save(fname)\n",
    "\n",
    "# Load index back\n",
    "if os.path.exists(fname):\n",
    "    annoy_index2 = AnnoyIndexer()\n",
    "    annoy_index2.load(fname)\n",
    "    annoy_index2.model = model"
   ]
  },
  {
   "cell_type": "code",
   "execution_count": 12,
   "metadata": {},
   "outputs": [
    {
     "name": "stdout",
     "output_type": "stream",
     "text": [
      "(u'science', 1.0)\n",
      "(u'multidisciplinary', 0.6251502931118011)\n",
      "(u'astrobiology', 0.6015076637268066)\n",
      "(u'interdisciplinary', 0.596284419298172)\n",
      "(u'bimonthly', 0.5958010852336884)\n",
      "(u'bioethics', 0.5902806520462036)\n",
      "(u'actuarial', 0.5896544754505157)\n",
      "(u'robotics', 0.5860141217708588)\n",
      "(u'sciences', 0.583412230014801)\n",
      "(u'scientific', 0.5827092230319977)\n",
      "(u'biostatistics', 0.5778379142284393)\n"
     ]
    }
   ],
   "source": [
    "# Results should be identical to above\n",
    "vector = model[\"science\"]\n",
    "approximate_neighbors2 = model.most_similar([vector], topn=11, indexer=annoy_index2)\n",
    "for neighbor in approximate_neighbors2:\n",
    "    print(neighbor)\n",
    "\n",
    "assert approximate_neighbors == approximate_neighbors2"
   ]
  },
  {
   "cell_type": "markdown",
   "metadata": {},
   "source": [
    "Be sure to use the same model at load that was used originally, otherwise you will get unexpected behaviors."
   ]
  },
  {
   "cell_type": "markdown",
   "metadata": {},
   "source": [
    "#### Save memory by memory-mapping indices saved to disk\n",
    "\n",
    "Annoy library has a useful feature that indices can be memory-mapped from disk. It saves memory when the same index is used by several processes.\n",
    "\n",
    "Below are two snippets of code. First one has a separate index for each process. The second snipped shares the index between two processes via memory-mapping. The second example uses less total RAM as it is shared."
   ]
  },
  {
   "cell_type": "code",
   "execution_count": 13,
   "metadata": {},
   "outputs": [],
   "source": [
    "# Remove verbosity from code below (if logging active)\n",
    "\n",
    "if LOGS:\n",
    "    logging.disable(logging.CRITICAL)"
   ]
  },
  {
   "cell_type": "code",
   "execution_count": 14,
   "metadata": {},
   "outputs": [],
   "source": [
    "from multiprocessing import Process\n",
    "import os\n",
    "import psutil"
   ]
  },
  {
   "cell_type": "markdown",
   "metadata": {},
   "source": [
    "#### Bad Example: Two processes load the Word2vec model from disk and create there own Annoy indices from that model."
   ]
  },
  {
   "cell_type": "code",
   "execution_count": 15,
   "metadata": {},
   "outputs": [
    {
     "name": "stdout",
     "output_type": "stream",
     "text": [
      "('Process Id: ', 10967)\n",
      "('\\nMemory used by process 10967: ', pmem(rss=645066752, vms=2246791168, shared=10723328, text=3293184, lib=0, data=923418624, dirty=0), '\\n---')\n",
      "('Process Id: ', 10972)\n",
      "('\\nMemory used by process 10972: ', pmem(rss=644583424, vms=2246791168, shared=10219520, text=3293184, lib=0, data=923451392, dirty=0), '\\n---')\n",
      "CPU times: user 568 ms, sys: 64 ms, total: 632 ms\n",
      "Wall time: 52.3 s\n"
     ]
    }
   ],
   "source": [
    "%%time\n",
    "\n",
    "model.save('/tmp/mymodel')\n",
    "\n",
    "def f(process_id):\n",
    "    print ('Process Id: ', os.getpid())\n",
    "    process = psutil.Process(os.getpid())\n",
    "    new_model = Word2Vec.load('/tmp/mymodel')\n",
    "    vector = new_model[\"science\"]\n",
    "    annoy_index = AnnoyIndexer(new_model,100)\n",
    "    approximate_neighbors = new_model.most_similar([vector], topn=5, indexer=annoy_index)\n",
    "    print('\\nMemory used by process {}: '.format(os.getpid()), process.memory_info(), \"\\n---\")\n",
    "\n",
    "# Creating and running two parallel process to share the same index file.\n",
    "p1 = Process(target=f, args=('1',))\n",
    "p1.start()\n",
    "p1.join()\n",
    "p2 = Process(target=f, args=('2',))\n",
    "p2.start()\n",
    "p2.join()"
   ]
  },
  {
   "cell_type": "markdown",
   "metadata": {},
   "source": [
    "#### Good example. Two processes load both the Word2vec model and index from disk and memory-map the index\n"
   ]
  },
  {
   "cell_type": "code",
   "execution_count": 16,
   "metadata": {},
   "outputs": [
    {
     "name": "stdout",
     "output_type": "stream",
     "text": [
      "('Process Id: ', 10985)\n",
      "('\\nMemory used by process 10985: ', pmem(rss=626900992, vms=2227568640, shared=139972608, text=3293184, lib=0, data=774475776, dirty=0), '\\n---')\n",
      "('Process Id: ', 10990)\n",
      "('\\nMemory used by process 10990: ', pmem(rss=626900992, vms=2227568640, shared=139972608, text=3293184, lib=0, data=774475776, dirty=0), '\\n---')\n",
      "CPU times: user 588 ms, sys: 56 ms, total: 644 ms\n",
      "Wall time: 1.71 s\n"
     ]
    }
   ],
   "source": [
    "%%time\n",
    "\n",
    "model.save('/tmp/mymodel')\n",
    "\n",
    "def f(process_id):\n",
    "    print('Process Id: ', os.getpid())\n",
    "    process = psutil.Process(os.getpid())\n",
    "    new_model = Word2Vec.load('/tmp/mymodel')\n",
    "    vector = new_model[\"science\"]\n",
    "    annoy_index = AnnoyIndexer()\n",
    "    annoy_index.load('index')\n",
    "    annoy_index.model = new_model\n",
    "    approximate_neighbors = new_model.most_similar([vector], topn=5, indexer=annoy_index)\n",
    "    print('\\nMemory used by process {}: '.format(os.getpid()), process.memory_info(), \"\\n---\")\n",
    "\n",
    "# Creating and running two parallel process to share the same index file.\n",
    "p1 = Process(target=f, args=('1',))\n",
    "p1.start()\n",
    "p1.join()\n",
    "p2 = Process(target=f, args=('2',))\n",
    "p2.start()\n",
    "p2.join()"
   ]
  },
  {
   "cell_type": "markdown",
   "metadata": {},
   "source": [
    "### 5. Evaluate relationship of `num_trees` to initialization time and accuracy"
   ]
  },
  {
   "cell_type": "code",
   "execution_count": 17,
   "metadata": {},
   "outputs": [],
   "source": [
    "import matplotlib.pyplot as plt\n",
    "%matplotlib inline"
   ]
  },
  {
   "cell_type": "markdown",
   "metadata": {},
   "source": [
    "#### Build dataset of Initialization times and accuracy measures"
   ]
  },
  {
   "cell_type": "code",
   "execution_count": 18,
   "metadata": {},
   "outputs": [],
   "source": [
    "exact_results = [element[0] for element in model.most_similar([model.wv.syn0norm[0]], topn=100)]\n",
    "\n",
    "x_values = []\n",
    "y_values_init = []\n",
    "y_values_accuracy = []\n",
    "\n",
    "for x in range(1, 300, 10):\n",
    "    x_values.append(x)\n",
    "    start_time = time.time()\n",
    "    annoy_index = AnnoyIndexer(model, x)\n",
    "    y_values_init.append(time.time() - start_time)\n",
    "    approximate_results = model.most_similar([model.wv.syn0norm[0]], topn=100, indexer=annoy_index)\n",
    "    top_words = [result[0] for result in approximate_results]\n",
    "    y_values_accuracy.append(len(set(top_words).intersection(exact_results)))"
   ]
  },
  {
   "cell_type": "markdown",
   "metadata": {},
   "source": [
    "#### Plot results"
   ]
  },
  {
   "cell_type": "code",
   "execution_count": 19,
   "metadata": {},
   "outputs": [
    {
     "data": {
      "image/png": "[encoded data removed]",
      "text/plain": [
       "<matplotlib.figure.Figure at 0x7fb32c5fc210>"
      ]
     },
     "metadata": {},
     "output_type": "display_data"
    }
   ],
   "source": [
    "plt.figure(1, figsize=(12, 6))\n",
    "plt.subplot(121)\n",
    "plt.plot(x_values, y_values_init)\n",
    "plt.title(\"num_trees vs initalization time\")\n",
    "plt.ylabel(\"Initialization time (s)\")\n",
    "plt.xlabel(\"num_trees\")\n",
    "plt.subplot(122)\n",
    "plt.plot(x_values, y_values_accuracy)\n",
    "plt.title(\"num_trees vs accuracy\")\n",
    "plt.ylabel(\"% accuracy\")\n",
    "plt.xlabel(\"num_trees\")\n",
    "plt.tight_layout()\n",
    "plt.show()"
   ]
  },
  {
   "cell_type": "markdown",
   "metadata": {},
   "source": [
    "##### Initialization:\n",
    "Initialization time of the annoy indexer increases in a linear fashion with num_trees. Initialization time will vary from corpus to corpus, in the graph above the lee corpus was used\n",
    "\n",
    "##### Accuracy:\n",
    "In this dataset, the accuracy seems logarithmically related to the number of trees. We see an improvement in accuracy with more trees, but the relationship is nonlinear."
   ]
  },
  {
   "cell_type": "markdown",
   "metadata": {},
   "source": [
    "### Recap\n",
    "In this notebook we used the Annoy module to build an indexed approximation of our word embeddings. To do so, we did the following steps:\n",
    "1. Download Text8 Corpus\n",
    "2. Build Word2Vec Model\n",
    "3. Construct AnnoyIndex with model & make a similarity query\n",
    "4. Verify & Evaluate performance\n",
    "5. Evaluate relationship of `num_trees` to initialization time and accuracy"
   ]
  }
 ],
 "metadata": {
  "anaconda-cloud": {},
  "kernelspec": {
   "display_name": "Python 2",
   "language": "python",
   "name": "python2"
  },
  "language_info": {
   "codemirror_mode": {
    "name": "ipython",
    "version": 2
   },
   "file_extension": ".py",
   "mimetype": "text/x-python",
   "name": "python",
   "nbconvert_exporter": "python",
   "pygments_lexer": "ipython2",
   "version": "2.7.13"
  }
 },
 "nbformat": 4,
 "nbformat_minor": 1
}
