{
 "cells": [
  {
   "cell_type": "code",
   "execution_count": 6,
   "metadata": {
    "collapsed": false,
    "scrolled": false
   },
   "outputs": [
    {
     "name": "stdout",
     "output_type": "stream",
     "text": [
      "https://test20.cartodb.solutions/user/andye/api/\n",
      "https://test20.cartodb.solutions/user/andye/api/\n"
     ]
    },
    {
     "name": "stderr",
     "output_type": "stream",
     "text": [
      "/Users/peschbacher/Desktop/CartoDB/repos/cartoframes/venv/lib/python3.6/site-packages/requests/packages/urllib3/connectionpool.py:852: InsecureRequestWarning: Unverified HTTPS request is being made. Adding certificate verification is strongly advised. See: https://urllib3.readthedocs.io/en/latest/advanced-usage.html#ssl-warnings\n",
      "  InsecureRequestWarning)\n",
      "/Users/peschbacher/Desktop/CartoDB/repos/cartoframes/venv/lib/python3.6/site-packages/requests/packages/urllib3/connectionpool.py:852: InsecureRequestWarning: Unverified HTTPS request is being made. Adding certificate verification is strongly advised. See: https://urllib3.readthedocs.io/en/latest/advanced-usage.html#ssl-warnings\n",
      "  InsecureRequestWarning)\n",
      "/Users/peschbacher/Desktop/CartoDB/repos/cartoframes/venv/lib/python3.6/site-packages/requests/packages/urllib3/connectionpool.py:852: InsecureRequestWarning: Unverified HTTPS request is being made. Adding certificate verification is strongly advised. See: https://urllib3.readthedocs.io/en/latest/advanced-usage.html#ssl-warnings\n",
      "  InsecureRequestWarning)\n"
     ]
    },
    {
     "name": "stdout",
     "output_type": "stream",
     "text": [
      "Named map name: research_team_1489682109_50462\n"
     ]
    }
   ],
   "source": [
    "import pandas as pd\n",
    "import cartoframes\n",
    "\n",
    "APIKEY = '0bac023e8640182fd797188bcca9cd53503d1199'\n",
    "USERNAME = 'andye'\n",
    "BASEURL = 'https://test20.cartodb.solutions'\n",
    "\n",
    "df = pd.read_carto(username=USERNAME,\n",
    "                   api_key=APIKEY,\n",
    "                   onprem_url=BASEURL,\n",
    "                   tablename='research_team')"
   ]
  },
  {
   "cell_type": "code",
   "execution_count": 7,
   "metadata": {
    "collapsed": false
   },
   "outputs": [
    {
     "data": {
      "text/html": [
       "<div>\n",
       "<table border=\"1\" class=\"dataframe\">\n",
       "  <thead>\n",
       "    <tr style=\"text-align: right;\">\n",
       "      <th></th>\n",
       "      <th>admin1</th>\n",
       "      <th>chocolate_likes</th>\n",
       "      <th>city</th>\n",
       "      <th>cookies</th>\n",
       "      <th>country</th>\n",
       "      <th>foo</th>\n",
       "      <th>high_school_diploma_2011_2015</th>\n",
       "      <th>likes_jellybeans</th>\n",
       "      <th>median_income_2011_2015</th>\n",
       "      <th>name</th>\n",
       "      <th>the_geom</th>\n",
       "      <th>the_geom_webmercator</th>\n",
       "      <th>total_pop_2011_2015</th>\n",
       "    </tr>\n",
       "    <tr>\n",
       "      <th>cartodb_id</th>\n",
       "      <th></th>\n",
       "      <th></th>\n",
       "      <th></th>\n",
       "      <th></th>\n",
       "      <th></th>\n",
       "      <th></th>\n",
       "      <th></th>\n",
       "      <th></th>\n",
       "      <th></th>\n",
       "      <th></th>\n",
       "      <th></th>\n",
       "      <th></th>\n",
       "      <th></th>\n",
       "    </tr>\n",
       "  </thead>\n",
       "  <tbody>\n",
       "    <tr>\n",
       "      <th>6</th>\n",
       "      <td>Gujarat</td>\n",
       "      <td>5.0</td>\n",
       "      <td>Vadodara</td>\n",
       "      <td>pecan</td>\n",
       "      <td>India</td>\n",
       "      <td>2.0</td>\n",
       "      <td>NaN</td>\n",
       "      <td>9.938511</td>\n",
       "      <td>NaN</td>\n",
       "      <td>Mehak</td>\n",
       "      <td>0101000020E6100000C39CA04D0E4C5240BAF42F49654E...</td>\n",
       "      <td>0101000020110F000031AE841A57145F41F253E60B3671...</td>\n",
       "      <td>NaN</td>\n",
       "    </tr>\n",
       "    <tr>\n",
       "      <th>3</th>\n",
       "      <td>Scotland</td>\n",
       "      <td>5.0</td>\n",
       "      <td>Edinburgh</td>\n",
       "      <td>pecan</td>\n",
       "      <td>United Kingdom</td>\n",
       "      <td>2.0</td>\n",
       "      <td>NaN</td>\n",
       "      <td>3.129859</td>\n",
       "      <td>NaN</td>\n",
       "      <td>Stuart</td>\n",
       "      <td>0101000020E6100000AF5C6F9BA9F009C088F6B182DFF8...</td>\n",
       "      <td>0101000020110F0000B2CE92B1EA0716C113C119E172CA...</td>\n",
       "      <td>NaN</td>\n",
       "    </tr>\n",
       "    <tr>\n",
       "      <th>1</th>\n",
       "      <td>Missouri</td>\n",
       "      <td>5.0</td>\n",
       "      <td>Kansas City</td>\n",
       "      <td>pecan</td>\n",
       "      <td>United States</td>\n",
       "      <td>2.0</td>\n",
       "      <td>0.266306</td>\n",
       "      <td>7.403299</td>\n",
       "      <td>48173.0</td>\n",
       "      <td>Andy</td>\n",
       "      <td>0101000020E6100000CEC3094CA7A257C0BB7F2C448786...</td>\n",
       "      <td>0101000020110F000090128469D21264C17559CEFC240A...</td>\n",
       "      <td>33.485322</td>\n",
       "    </tr>\n",
       "    <tr>\n",
       "      <th>2</th>\n",
       "      <td>California</td>\n",
       "      <td>5.0</td>\n",
       "      <td>Livermore</td>\n",
       "      <td>pecan</td>\n",
       "      <td>United States</td>\n",
       "      <td>2.0</td>\n",
       "      <td>0.184549</td>\n",
       "      <td>0.258142</td>\n",
       "      <td>61818.0</td>\n",
       "      <td>Mamata</td>\n",
       "      <td>0101000020E6100000BD6DA6423C725EC074B515FBCBD6...</td>\n",
       "      <td>0101000020110F0000C8EC7A85A5DB69C147BB58DAC84B...</td>\n",
       "      <td>90.623709</td>\n",
       "    </tr>\n",
       "    <tr>\n",
       "      <th>4</th>\n",
       "      <td>New York</td>\n",
       "      <td>5.0</td>\n",
       "      <td>Syracuse</td>\n",
       "      <td>pecan</td>\n",
       "      <td>United States</td>\n",
       "      <td>2.0</td>\n",
       "      <td>0.229243</td>\n",
       "      <td>9.655712</td>\n",
       "      <td>59269.0</td>\n",
       "      <td>John</td>\n",
       "      <td>0101000020E61000007CE7FE8747FF52C02607C3EB4084...</td>\n",
       "      <td>0101000020110F000063603F7E622260C1B79B3FD66948...</td>\n",
       "      <td>139.233474</td>\n",
       "    </tr>\n",
       "  </tbody>\n",
       "</table>\n",
       "</div>"
      ],
      "text/plain": [
       "                admin1  chocolate_likes         city cookies         country  \\\n",
       "cartodb_id                                                                     \n",
       "6              Gujarat              5.0     Vadodara   pecan           India   \n",
       "3             Scotland              5.0    Edinburgh   pecan  United Kingdom   \n",
       "1             Missouri              5.0  Kansas City   pecan   United States   \n",
       "2           California              5.0    Livermore   pecan   United States   \n",
       "4             New York              5.0     Syracuse   pecan   United States   \n",
       "\n",
       "            foo  high_school_diploma_2011_2015  likes_jellybeans  \\\n",
       "cartodb_id                                                         \n",
       "6           2.0                            NaN          9.938511   \n",
       "3           2.0                            NaN          3.129859   \n",
       "1           2.0                       0.266306          7.403299   \n",
       "2           2.0                       0.184549          0.258142   \n",
       "4           2.0                       0.229243          9.655712   \n",
       "\n",
       "            median_income_2011_2015    name  \\\n",
       "cartodb_id                                    \n",
       "6                               NaN   Mehak   \n",
       "3                               NaN  Stuart   \n",
       "1                           48173.0    Andy   \n",
       "2                           61818.0  Mamata   \n",
       "4                           59269.0    John   \n",
       "\n",
       "                                                     the_geom  \\\n",
       "cartodb_id                                                      \n",
       "6           0101000020E6100000C39CA04D0E4C5240BAF42F49654E...   \n",
       "3           0101000020E6100000AF5C6F9BA9F009C088F6B182DFF8...   \n",
       "1           0101000020E6100000CEC3094CA7A257C0BB7F2C448786...   \n",
       "2           0101000020E6100000BD6DA6423C725EC074B515FBCBD6...   \n",
       "4           0101000020E61000007CE7FE8747FF52C02607C3EB4084...   \n",
       "\n",
       "                                         the_geom_webmercator  \\\n",
       "cartodb_id                                                      \n",
       "6           0101000020110F000031AE841A57145F41F253E60B3671...   \n",
       "3           0101000020110F0000B2CE92B1EA0716C113C119E172CA...   \n",
       "1           0101000020110F000090128469D21264C17559CEFC240A...   \n",
       "2           0101000020110F0000C8EC7A85A5DB69C147BB58DAC84B...   \n",
       "4           0101000020110F000063603F7E622260C1B79B3FD66948...   \n",
       "\n",
       "            total_pop_2011_2015  \n",
       "cartodb_id                       \n",
       "6                           NaN  \n",
       "3                           NaN  \n",
       "1                     33.485322  \n",
       "2                     90.623709  \n",
       "4                    139.233474  "
      ]
     },
     "execution_count": 7,
     "metadata": {},
     "output_type": "execute_result"
    }
   ],
   "source": [
    "df.head()"
   ]
  },
  {
   "cell_type": "code",
   "execution_count": 14,
   "metadata": {
    "collapsed": false,
    "scrolled": false
   },
   "outputs": [
    {
     "name": "stderr",
     "output_type": "stream",
     "text": [
      "/Users/peschbacher/Desktop/CartoDB/repos/cartoframes/venv/lib/python3.6/site-packages/requests/packages/urllib3/connectionpool.py:852: InsecureRequestWarning: Unverified HTTPS request is being made. Adding certificate verification is strongly advised. See: https://urllib3.readthedocs.io/en/latest/advanced-usage.html#ssl-warnings\n",
      "  InsecureRequestWarning)\n",
      "/Users/peschbacher/Desktop/CartoDB/repos/cartoframes/venv/lib/python3.6/site-packages/requests/packages/urllib3/connectionpool.py:852: InsecureRequestWarning: Unverified HTTPS request is being made. Adding certificate verification is strongly advised. See: https://urllib3.readthedocs.io/en/latest/advanced-usage.html#ssl-warnings\n",
      "  InsecureRequestWarning)\n",
      "/Users/peschbacher/Desktop/CartoDB/repos/cartoframes/venv/lib/python3.6/site-packages/requests/packages/urllib3/connectionpool.py:852: InsecureRequestWarning: Unverified HTTPS request is being made. Adding certificate verification is strongly advised. See: https://urllib3.readthedocs.io/en/latest/advanced-usage.html#ssl-warnings\n",
      "  InsecureRequestWarning)\n"
     ]
    },
    {
     "data": {
      "text/html": [
       "<iframe src=\"https://rawgit.com/CartoDB/cartoframes/master/cartoframes/assets/cartoframes.html?username=andye&tablename=research_team&cartocss=%23layer+%7B+marker-width%3A+7%3B+marker-fill%3A+%23fff%3B+marker-fill-opacity%3A+1%3B+marker-allow-overlap%3A+true%3B+marker-line-width%3A+0.5%3B+marker-line-color%3A+%23000%3B+marker-line-opacity%3A+1%3B+%7D&basemap=http%3A%2F%2Fcartodb-basemaps-%7Bs%7D.global.ssl.fastly.net%2Fdark_all%2F%7Bz%7D%2F%7Bx%7D%2F%7By%7D.png&bounds=55.944321%2C73.188373%2C22.306233%2C-121.784928&show_position_data=True&baseurl=https%3A%2F%2Ftest20.cartodb.solutions%2Fuser%2Fandye%2Fapi%2F&q=%257B%250A%2520%2520%2520%2520%2520%2520%2522user_name%2522%253A%2520%2522andye%2522%252C%250A%2520%2520%2520%2520%2520%2520%2522maps_api_template%2522%253A%2520%2522https%253A%2F%2Ftest20.cartodb.solutions%2Fuser%2Fandye%2522%252C%250A%2520%2520%2520%2520%2520%2520%2522sql_api_template%2522%253A%2520%2522https%253A%2F%2Ftest20.cartodb.solutions%2Fuser%2Fandye%2522%252C%250A%2520%2520%2520%2520%2520%2520%2522tiler_protocol%2522%253A%2520%2522https%2522%252C%250A%2520%2520%2520%2520%2520%2520%2522tiler_domain%2522%253A%2520%2522test20.cartodb.solutions%2522%252C%250A%2520%2520%2520%2520%2520%2520%2522tiler_port%2522%253A%2520%252280%2522%252C%250A%2520%2520%2520%2520%2520%2520%2522type%2522%253A%2520%2522namedmap%2522%252C%250A%2520%2520%2520%2520%2520%2520%2522named_map%2522%253A%2520%257B%250A%2520%2520%2520%2520%2520%2520%2520%2520%2522name%2522%253A%2520%2522research_team_1489682109_50462%2522%250A%2520%2520%2520%2520%2520%2520%257D%252C%250A%2520%2520%2520%2520%2520%2520%2522subdomains%2522%253A%2520%255B%2520%2522a%2522%252C%2520%2522b%2522%252C%2520%2522c%2522%2520%255D%250A%2520%2520%2520%2520%2520%2520%257D\" width=647 height=400>Preview image: <img src=\"https://test20.cartodb.solutions/user/andye/api/v1/map/static/named/research_team_1489682109_50462/647/400.png?\" /></iframe>"
      ],
      "text/plain": [
       "<IPython.core.display.HTML object>"
      ]
     },
     "execution_count": 14,
     "metadata": {},
     "output_type": "execute_result"
    }
   ],
   "source": [
    "df.carto_map(interactive=True, color={'colname': 'likes_jellybeans', })"
   ]
  },
  {
   "cell_type": "markdown",
   "metadata": {},
   "source": [
    "## cloud version"
   ]
  },
  {
   "cell_type": "code",
   "execution_count": 5,
   "metadata": {
    "collapsed": false
   },
   "outputs": [
    {
     "name": "stderr",
     "output_type": "stream",
     "text": [
      "/Users/peschbacher/Desktop/CartoDB/repos/cartoframes/venv/lib/python3.6/site-packages/requests/packages/urllib3/connectionpool.py:852: InsecureRequestWarning: Unverified HTTPS request is being made. Adding certificate verification is strongly advised. See: https://urllib3.readthedocs.io/en/latest/advanced-usage.html#ssl-warnings\n",
      "  InsecureRequestWarning)\n",
      "/Users/peschbacher/Desktop/CartoDB/repos/cartoframes/venv/lib/python3.6/site-packages/requests/packages/urllib3/connectionpool.py:852: InsecureRequestWarning: Unverified HTTPS request is being made. Adding certificate verification is strongly advised. See: https://urllib3.readthedocs.io/en/latest/advanced-usage.html#ssl-warnings\n",
      "  InsecureRequestWarning)\n",
      "/Users/peschbacher/Desktop/CartoDB/repos/cartoframes/venv/lib/python3.6/site-packages/requests/packages/urllib3/connectionpool.py:852: InsecureRequestWarning: Unverified HTTPS request is being made. Adding certificate verification is strongly advised. See: https://urllib3.readthedocs.io/en/latest/advanced-usage.html#ssl-warnings\n",
      "  InsecureRequestWarning)\n"
     ]
    },
    {
     "name": "stdout",
     "output_type": "stream",
     "text": [
      "Named map name: research_team_1489682073_2849321\n"
     ]
    },
    {
     "name": "stderr",
     "output_type": "stream",
     "text": [
      "/Users/peschbacher/Desktop/CartoDB/repos/cartoframes/venv/lib/python3.6/site-packages/requests/packages/urllib3/connectionpool.py:852: InsecureRequestWarning: Unverified HTTPS request is being made. Adding certificate verification is strongly advised. See: https://urllib3.readthedocs.io/en/latest/advanced-usage.html#ssl-warnings\n",
      "  InsecureRequestWarning)\n",
      "/Users/peschbacher/Desktop/CartoDB/repos/cartoframes/venv/lib/python3.6/site-packages/requests/packages/urllib3/connectionpool.py:852: InsecureRequestWarning: Unverified HTTPS request is being made. Adding certificate verification is strongly advised. See: https://urllib3.readthedocs.io/en/latest/advanced-usage.html#ssl-warnings\n",
      "  InsecureRequestWarning)\n",
      "/Users/peschbacher/Desktop/CartoDB/repos/cartoframes/venv/lib/python3.6/site-packages/requests/packages/urllib3/connectionpool.py:852: InsecureRequestWarning: Unverified HTTPS request is being made. Adding certificate verification is strongly advised. See: https://urllib3.readthedocs.io/en/latest/advanced-usage.html#ssl-warnings\n",
      "  InsecureRequestWarning)\n"
     ]
    },
    {
     "data": {
      "text/html": [
       "<iframe src=\"https://rawgit.com/CartoDB/cartoframes/master/cartoframes/assets/cartoframes.html?username=eschbacher&tablename=research_team&cartocss=%23layer+%7B+marker-width%3A+7%3B+marker-fill%3A+%23DF5E26%3B+marker-fill-opacity%3A+1%3B+marker-allow-overlap%3A+true%3B+marker-line-width%3A+0.5%3B+marker-line-color%3A+%23000%3B+marker-line-opacity%3A+1%3B+%7D&basemap=http%3A%2F%2Fcartodb-basemaps-%7Bs%7D.global.ssl.fastly.net%2Fdark_all%2F%7Bz%7D%2F%7Bx%7D%2F%7By%7D.png&bounds=55.944321%2C73.188373%2C22.306233%2C-121.784928&show_position_data=True&baseurl=https%3A%2F%2Feschbacher.carto.com%2Fapi%2F&q=%257B%250A%2520%2520%2520%2520%2520%2520%2522user_name%2522%253A%2520%2522eschbacher%2522%252C%250A%2520%2520%2520%2520%2520%2520%2522maps_api_template%2522%253A%2520%2522https%253A%2F%2Feschbacher.carto.com%2522%252C%250A%2520%2520%2520%2520%2520%2520%2522sql_api_template%2522%253A%2520%2522https%253A%2F%2Feschbacher.carto.com%2522%252C%250A%2520%2520%2520%2520%2520%2520%2522tiler_protocol%2522%253A%2520%2522https%2522%252C%250A%2520%2520%2520%2520%2520%2520%2522tiler_domain%2522%253A%2520%2522eschbacher.carto.com%2522%252C%250A%2520%2520%2520%2520%2520%2520%2522tiler_port%2522%253A%2520%252280%2522%252C%250A%2520%2520%2520%2520%2520%2520%2522type%2522%253A%2520%2522namedmap%2522%252C%250A%2520%2520%2520%2520%2520%2520%2522named_map%2522%253A%2520%257B%250A%2520%2520%2520%2520%2520%2520%2520%2520%2522name%2522%253A%2520%2522research_team_1489682073_2849321%2522%250A%2520%2520%2520%2520%2520%2520%257D%252C%250A%2520%2520%2520%2520%2520%2520%2522subdomains%2522%253A%2520%255B%2520%2522a%2522%252C%2520%2522b%2522%252C%2520%2522c%2522%2520%255D%250A%2520%2520%2520%2520%2520%2520%257D\" width=647 height=400>Preview image: <img src=\"https://eschbacher.carto.com/api/v1/map/static/named/research_team_1489682073_2849321/647/400.png?\" /></iframe>"
      ],
      "text/plain": [
       "<IPython.core.display.HTML object>"
      ]
     },
     "execution_count": 5,
     "metadata": {},
     "output_type": "execute_result"
    }
   ],
   "source": [
    "import pandas as pd\n",
    "import cartoframes\n",
    "import json\n",
    "\n",
    "cred = json.loads(open('credentials.json').read())\n",
    "\n",
    "APIKEY = cred['api_key']\n",
    "USERNAME = cred['username']\n",
    "\n",
    "df = pd.read_carto(username=USERNAME,\n",
    "                   api_key=APIKEY,\n",
    "                   tablename='research_team')\n",
    "df.carto_map()"
   ]
  }
 ],
 "metadata": {
  "kernelspec": {
   "display_name": "Python 3",
   "language": "python",
   "name": "python3"
  },
  "language_info": {
   "codemirror_mode": {
    "name": "ipython",
    "version": 3
   },
   "file_extension": ".py",
   "mimetype": "text/x-python",
   "name": "python",
   "nbconvert_exporter": "python",
   "pygments_lexer": "ipython3",
   "version": "3.6.0"
  }
 },
 "nbformat": 4,
 "nbformat_minor": 2
}
