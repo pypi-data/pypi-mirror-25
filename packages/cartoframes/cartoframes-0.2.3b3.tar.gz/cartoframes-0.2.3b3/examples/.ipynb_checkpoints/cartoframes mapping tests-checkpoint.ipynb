{
 "cells": [
  {
   "cell_type": "code",
   "execution_count": 1,
   "metadata": {
    "collapsed": false
   },
   "outputs": [
    {
     "name": "stdout",
     "output_type": "stream",
     "text": [
      "SELECT * FROM \"all_month_3\"\n"
     ]
    }
   ],
   "source": [
    "import pandas as pd\n",
    "import cartoframes\n",
    "import json\n",
    "\n",
    "USERNAME = json.loads(open('credentials.json').read())['username']\n",
    "APIKEY = json.loads(open('credentials.json').read())['api_key']\n",
    "df = pd.read_carto(username=USERNAME,\n",
    "                   api_key=APIKEY,\n",
    "                   tablename='all_month_3',\n",
    "                   is_org_user=True,\n",
    "                   debug=True)"
   ]
  },
  {
   "cell_type": "code",
   "execution_count": 9,
   "metadata": {
    "collapsed": false,
    "scrolled": false
   },
   "outputs": [
    {
     "data": {
      "text/html": [
       "<iframe src=\"/files/cartoframes.html?username=eschbacher&tablename=all_month_3&cartocss=%23layer+%7B+marker-width%3A+ramp%28%5Bdepth%5D%2C+range%286%2C+20%29%2C+headtails%28%29%29%3B+marker-fill%3A+ramp%28%5Bnet%5D%2C+cartocolor%28Bold%29%2C+category%28%29%29%3B+marker-fill-opacity%3A+1%3B+marker-allow-overlap%3A+true%3B+marker-line-width%3A+1%3B+marker-line-color%3A+%23FFF%3B+marker-line-opacity%3A+1%3B+%7D&basemap=http%3A%2F%2F%7Bs%7D.tile.thunderforest.com%2Fspinal-map%2F%7Bz%7D%2F%7Bx%7D%2F%7By%7D.png&q=%257B%2522user_name%2522%253A%2520%2522eschbacher%2522%252C%250A%2520%2520%2520%2520%2520%2520%2520%2520%2520%2520%2520%2520%2520%2520%2520%2520%2520%2520%2520%2520%2522type%2522%253A%2520%2522cartodb%2522%252C%250A%2520%2520%2520%2520%2520%2520%2520%2520%2520%2520%2520%2520%2520%2520%2520%2520%2520%2520%2520%2520%2522sublayers%2522%253A%2520%255B%257B%250A%2520%2520%2520%2520%2520%2520%2520%2520%2520%2520%2520%2520%2520%2520%2520%2520%2520%2520%2520%2520%2520%2520%2522type%2522%253A%2520%2522http%2522%252C%250A%2520%2520%2520%2520%2520%2520%2520%2520%2520%2520%2520%2520%2520%2520%2520%2520%2520%2520%2520%2520%2520%2520%2522urlTemplate%2522%253A%2520%2522http%253A%2F%2F%257Bs%257D.tile.thunderforest.com%2Fspinal-map%2F%257Bz%257D%2F%257Bx%257D%2F%257By%257D.png%2522%250A%2520%2520%2520%2520%2520%2520%2520%2520%2520%2520%2520%2520%2520%2520%2520%2520%2520%2520%2520%2520%2520%2520%257D%252C%2520%257B%250A%2520%2520%2520%2520%2520%2520%2520%2520%2520%2520%2520%2520%2520%2520%2520%2520%2520%2520%2520%2520%2520%2520%2522sql%2522%253A%2520%2522select%2520%252A%2520from%2520all_month_3%2522%252C%250A%2520%2520%2520%2520%2520%2520%2520%2520%2520%2520%2520%2520%2520%2520%2520%2520%2520%2520%2520%2520%2520%2520%2522cartocss%2522%253A%2520%2522%2523layer%2520%257B%2520marker-width%253A%2520ramp%2528%255Bdepth%255D%252C%2520range%25286%252C%252020%2529%252C%2520headtails%2528%2529%2529%253B%2520marker-fill%253A%2520ramp%2528%255Bnet%255D%252C%2520cartocolor%2528Bold%2529%252C%2520category%2528%2529%2529%253B%2520marker-fill-opacity%253A%25201%253B%2520marker-allow-overlap%253A%2520true%253B%2520marker-line-width%253A%25201%253B%2520marker-line-color%253A%2520%2523FFF%253B%2520marker-line-opacity%253A%25201%253B%2520%257D%2522%250A%2520%2520%2520%2520%2520%2520%2520%2520%2520%2520%2520%2520%2520%2520%2520%2520%2520%2520%2520%2520%2520%2520%257D%255D%252C%250A%2520%2520%2520%2520%2520%2520%2520%2520%2520%2520%2520%2520%2520%2520%2520%2520%2520%2520%2520%2520%2520%2520%2522subdomains%2522%253A%2520%255B%2520%2522a%2522%252C%2520%2522b%2522%252C%2520%2522c%2522%2520%255D%250A%2520%2520%2520%2520%2520%2520%2520%2520%2520%2520%2520%2520%2520%2520%2520%2520%2520%2520%2520%2520%2520%2520%257D\" width=700 height=350></iframe>"
      ],
      "text/plain": [
       "<IPython.core.display.HTML object>"
      ]
     },
     "execution_count": 9,
     "metadata": {},
     "output_type": "execute_result"
    }
   ],
   "source": [
    "df.carto_map(color={'colname': 'net', 'ramp': 'Bold'},\n",
    "             size={'colname': 'depth', 'min': 6, 'max': 20, 'quant_method': 'headtails'},\n",
    "             basemap='http://{s}.tile.thunderforest.com/spinal-map/{z}/{x}/{y}.png')"
   ]
  },
  {
   "cell_type": "code",
   "execution_count": 15,
   "metadata": {
    "collapsed": false
   },
   "outputs": [
    {
     "name": "stdout",
     "output_type": "stream",
     "text": [
      "SELECT * FROM \"sf_housing\"\n"
     ]
    },
    {
     "data": {
      "text/html": [
       "<div>\n",
       "<table border=\"1\" class=\"dataframe\">\n",
       "  <thead>\n",
       "    <tr style=\"text-align: right;\">\n",
       "      <th></th>\n",
       "      <th>geoid</th>\n",
       "      <th>median_value_per_sqft_2013</th>\n",
       "      <th>median_value_per_sqft_2016</th>\n",
       "      <th>percent_change_median_value_2016_2013</th>\n",
       "      <th>the_geom</th>\n",
       "      <th>the_geom_webmercator</th>\n",
       "    </tr>\n",
       "    <tr>\n",
       "      <th>cartodb_id</th>\n",
       "      <th></th>\n",
       "      <th></th>\n",
       "      <th></th>\n",
       "      <th></th>\n",
       "      <th></th>\n",
       "      <th></th>\n",
       "    </tr>\n",
       "  </thead>\n",
       "  <tbody>\n",
       "    <tr>\n",
       "      <th>2</th>\n",
       "      <td>94123</td>\n",
       "      <td>953.0</td>\n",
       "      <td>1387.0</td>\n",
       "      <td>41.386340</td>\n",
       "      <td>0103000020E610000001000000840A000095BBDA49459B...</td>\n",
       "      <td>0103000020110F000001000000840A000044AFF2717FFE...</td>\n",
       "    </tr>\n",
       "    <tr>\n",
       "      <th>3</th>\n",
       "      <td>94124</td>\n",
       "      <td>333.0</td>\n",
       "      <td>556.0</td>\n",
       "      <td>62.099125</td>\n",
       "      <td>0103000020E610000001000000B5060000000000D07998...</td>\n",
       "      <td>0103000020110F000001000000B50600009B0787CA1FFC...</td>\n",
       "    </tr>\n",
       "    <tr>\n",
       "      <th>4</th>\n",
       "      <td>94610</td>\n",
       "      <td>388.0</td>\n",
       "      <td>611.0</td>\n",
       "      <td>53.517588</td>\n",
       "      <td>0103000020E610000001000000D50200004B69F1FF2A8E...</td>\n",
       "      <td>0103000020110F000001000000D502000075BD8AA55EF3...</td>\n",
       "    </tr>\n",
       "    <tr>\n",
       "      <th>140</th>\n",
       "      <td>94063</td>\n",
       "      <td>432.0</td>\n",
       "      <td>686.0</td>\n",
       "      <td>53.467562</td>\n",
       "      <td>0103000020E6100000010000002704000084080562678B...</td>\n",
       "      <td>0103000020110F0000010000002704000014E9DAAA05F1...</td>\n",
       "    </tr>\n",
       "    <tr>\n",
       "      <th>142</th>\n",
       "      <td>94066</td>\n",
       "      <td>429.0</td>\n",
       "      <td>639.0</td>\n",
       "      <td>42.316258</td>\n",
       "      <td>0103000020E6100000010000002A0200007EDB8273D799...</td>\n",
       "      <td>0103000020110F0000010000002A020000F4E948BD48FD...</td>\n",
       "    </tr>\n",
       "  </tbody>\n",
       "</table>\n",
       "</div>"
      ],
      "text/plain": [
       "            geoid  median_value_per_sqft_2013  median_value_per_sqft_2016  \\\n",
       "cartodb_id                                                                  \n",
       "2           94123                       953.0                      1387.0   \n",
       "3           94124                       333.0                       556.0   \n",
       "4           94610                       388.0                       611.0   \n",
       "140         94063                       432.0                       686.0   \n",
       "142         94066                       429.0                       639.0   \n",
       "\n",
       "            percent_change_median_value_2016_2013  \\\n",
       "cartodb_id                                          \n",
       "2                                       41.386340   \n",
       "3                                       62.099125   \n",
       "4                                       53.517588   \n",
       "140                                     53.467562   \n",
       "142                                     42.316258   \n",
       "\n",
       "                                                     the_geom  \\\n",
       "cartodb_id                                                      \n",
       "2           0103000020E610000001000000840A000095BBDA49459B...   \n",
       "3           0103000020E610000001000000B5060000000000D07998...   \n",
       "4           0103000020E610000001000000D50200004B69F1FF2A8E...   \n",
       "140         0103000020E6100000010000002704000084080562678B...   \n",
       "142         0103000020E6100000010000002A0200007EDB8273D799...   \n",
       "\n",
       "                                         the_geom_webmercator  \n",
       "cartodb_id                                                     \n",
       "2           0103000020110F000001000000840A000044AFF2717FFE...  \n",
       "3           0103000020110F000001000000B50600009B0787CA1FFC...  \n",
       "4           0103000020110F000001000000D502000075BD8AA55EF3...  \n",
       "140         0103000020110F0000010000002704000014E9DAAA05F1...  \n",
       "142         0103000020110F0000010000002A020000F4E948BD48FD...  "
      ]
     },
     "execution_count": 15,
     "metadata": {},
     "output_type": "execute_result"
    }
   ],
   "source": [
    "cartocss = '''@1: #5c53a5;\n",
    "@2: #b95e9a;\n",
    "@3: #eb7f86;\n",
    "@4: #fab27f;\n",
    "@5: #f3e79b;\n",
    "\n",
    "#sf_housing{\n",
    "  polygon-fill: @5;\n",
    "  polygon-opacity: 0.9;\n",
    "  line-color: #FFF;\n",
    "  line-width: 0.5;\n",
    "  line-opacity: 0.99;\n",
    "}\n",
    "#sf_housing [ median_value_per_sqft_2016 <= 1732] {\n",
    "   polygon-fill: @1;\n",
    "   line-color: lighten(@1, 10);\n",
    "}\n",
    "#sf_housing [ median_value_per_sqft_2016 <= 833] {\n",
    "   polygon-fill: @2;\n",
    "   line-color: lighten(@2, 10);\n",
    "}\n",
    "#sf_housing [ median_value_per_sqft_2016 <= 633] {\n",
    "   polygon-fill: @3;\n",
    "   line-color: lighten(@3, 10);\n",
    "}\n",
    "#sf_housing [ median_value_per_sqft_2016 <= 516] {\n",
    "   polygon-fill: @4;\n",
    "   line-color: lighten(@4, 10);\n",
    "}\n",
    "#sf_housing [ median_value_per_sqft_2016 <= 389] {\n",
    "   polygon-fill: @5;\n",
    "   line-color: lighten(@5, 10);\n",
    "}\n",
    "#sf_housing [ median_value_per_sqft_2016 = null] {\n",
    "  polygon-fill: #c3c3c3;\n",
    "  line-color: lighten(#c3c3c3, 5);\n",
    "}'''.replace('\\n', '')\n",
    "\n",
    "df = pd.read_carto(username=USERNAME,\n",
    "                   api_key=APIKEY,\n",
    "                   tablename='sf_housing',\n",
    "                   is_org_user=True,\n",
    "                   debug=True)\n",
    "df.head()"
   ]
  },
  {
   "cell_type": "code",
   "execution_count": 16,
   "metadata": {
    "collapsed": false
   },
   "outputs": [
    {
     "name": "stdout",
     "output_type": "stream",
     "text": [
      "inside new method\n"
     ]
    },
    {
     "data": {
      "text/html": [
       "<iframe src=\"/files/cartoframes.html?username=eschbacher&tablename=sf_housing&geomtype=polygon&cartocss=%401%3A+%235c53a5%3B%402%3A+%23b95e9a%3B%403%3A+%23eb7f86%3B%404%3A+%23fab27f%3B%405%3A+%23f3e79b%3B%23sf_housing%7B++polygon-fill%3A+%405%3B++polygon-opacity%3A+0.9%3B++line-color%3A+%23FFF%3B++line-width%3A+0.5%3B++line-opacity%3A+0.99%3B%7D%23sf_housing+%5B+median_value_per_sqft_2016+%3C%3D+1732%5D+%7B+++polygon-fill%3A+%401%3B+++line-color%3A+lighten%28%401%2C+10%29%3B%7D%23sf_housing+%5B+median_value_per_sqft_2016+%3C%3D+833%5D+%7B+++polygon-fill%3A+%402%3B+++line-color%3A+lighten%28%402%2C+10%29%3B%7D%23sf_housing+%5B+median_value_per_sqft_2016+%3C%3D+633%5D+%7B+++polygon-fill%3A+%403%3B+++line-color%3A+lighten%28%403%2C+10%29%3B%7D%23sf_housing+%5B+median_value_per_sqft_2016+%3C%3D+516%5D+%7B+++polygon-fill%3A+%404%3B+++line-color%3A+lighten%28%404%2C+10%29%3B%7D%23sf_housing+%5B+median_value_per_sqft_2016+%3C%3D+389%5D+%7B+++polygon-fill%3A+%405%3B+++line-color%3A+lighten%28%405%2C+10%29%3B%7D%23sf_housing+%5B+median_value_per_sqft_2016+%3D+null%5D+%7B++polygon-fill%3A+%23c3c3c3%3B++line-color%3A+lighten%28%23c3c3c3%2C+5%29%3B%7D&datatype=None&q=%257B%2522user_name%2522%253A%2520%2522eschbacher%2522%252C%250A%2520%2520%2520%2520%2520%2520%2520%2520%2520%2520%2520%2520%2520%2520%2520%2520%2520%2520%2520%2520%2522type%2522%253A%2520%2522cartodb%2522%252C%250A%2520%2520%2520%2520%2520%2520%2520%2520%2520%2520%2520%2520%2520%2520%2520%2520%2520%2520%2520%2520%2522sublayers%2522%253A%2520%255B%257B%250A%2520%2520%2520%2520%2520%2520%2520%2520%2520%2520%2520%2520%2520%2520%2520%2520%2520%2520%2520%2520%2520%2520%2522type%2522%253A%2520%2522http%2522%252C%250A%2520%2520%2520%2520%2520%2520%2520%2520%2520%2520%2520%2520%2520%2520%2520%2520%2520%2520%2520%2520%2520%2520%2522urlTemplate%2522%253A%2520%2522http%253A%2F%2F%257Bs%257D.basemaps.cartocdn.com%2Fdark_nolabels%2F%257Bz%257D%2F%257Bx%257D%2F%257By%257D.png%2522%250A%2520%2520%2520%2520%2520%2520%2520%2520%2520%2520%2520%2520%2520%2520%2520%2520%2520%2520%2520%2520%2520%2520%257D%252C%2520%257B%250A%2520%2520%2520%2520%2520%2520%2520%2520%2520%2520%2520%2520%2520%2520%2520%2520%2520%2520%2520%2520%2520%2520%2522sql%2522%253A%2520%2522select%2520%252A%2520from%2520sf_housing%2522%252C%250A%2520%2520%2520%2520%2520%2520%2520%2520%2520%2520%2520%2520%2520%2520%2520%2520%2520%2520%2520%2520%2520%2520%2522cartocss%2522%253A%2520%2522%25401%253A%2520%25235c53a5%253B%25402%253A%2520%2523b95e9a%253B%25403%253A%2520%2523eb7f86%253B%25404%253A%2520%2523fab27f%253B%25405%253A%2520%2523f3e79b%253B%2523sf_housing%257B%2520%2520polygon-fill%253A%2520%25405%253B%2520%2520polygon-opacity%253A%25200.9%253B%2520%2520line-color%253A%2520%2523FFF%253B%2520%2520line-width%253A%25200.5%253B%2520%2520line-opacity%253A%25200.99%253B%257D%2523sf_housing%2520%255B%2520median_value_per_sqft_2016%2520%253C%253D%25201732%255D%2520%257B%2520%2520%2520polygon-fill%253A%2520%25401%253B%2520%2520%2520line-color%253A%2520lighten%2528%25401%252C%252010%2529%253B%257D%2523sf_housing%2520%255B%2520median_value_per_sqft_2016%2520%253C%253D%2520833%255D%2520%257B%2520%2520%2520polygon-fill%253A%2520%25402%253B%2520%2520%2520line-color%253A%2520lighten%2528%25402%252C%252010%2529%253B%257D%2523sf_housing%2520%255B%2520median_value_per_sqft_2016%2520%253C%253D%2520633%255D%2520%257B%2520%2520%2520polygon-fill%253A%2520%25403%253B%2520%2520%2520line-color%253A%2520lighten%2528%25403%252C%252010%2529%253B%257D%2523sf_housing%2520%255B%2520median_value_per_sqft_2016%2520%253C%253D%2520516%255D%2520%257B%2520%2520%2520polygon-fill%253A%2520%25404%253B%2520%2520%2520line-color%253A%2520lighten%2528%25404%252C%252010%2529%253B%257D%2523sf_housing%2520%255B%2520median_value_per_sqft_2016%2520%253C%253D%2520389%255D%2520%257B%2520%2520%2520polygon-fill%253A%2520%25405%253B%2520%2520%2520line-color%253A%2520lighten%2528%25405%252C%252010%2529%253B%257D%2523sf_housing%2520%255B%2520median_value_per_sqft_2016%2520%253D%2520null%255D%2520%257B%2520%2520polygon-fill%253A%2520%2523c3c3c3%253B%2520%2520line-color%253A%2520lighten%2528%2523c3c3c3%252C%25205%2529%253B%257D%2522%250A%2520%2520%2520%2520%2520%2520%2520%2520%2520%2520%2520%2520%2520%2520%2520%2520%2520%2520%2520%2520%2520%2520%257D%255D%252C%250A%2520%2520%2520%2520%2520%2520%2520%2520%2520%2520%2520%2520%2520%2520%2520%2520%2520%2520%2520%2520%2520%2520%2522subdomains%2522%253A%2520%255B%2520%2522a%2522%252C%2520%2522b%2522%252C%2520%2522c%2522%2520%255D%250A%2520%2520%2520%2520%2520%2520%2520%2520%2520%2520%2520%2520%2520%2520%2520%2520%2520%2520%2520%2520%2520%2520%257D\" width=700 height=350></iframe>"
      ],
      "text/plain": [
       "<IPython.core.display.HTML object>"
      ]
     },
     "execution_count": 16,
     "metadata": {},
     "output_type": "execute_result"
    }
   ],
   "source": [
    "df.carto_map(cartocss=cartocss, debug=True)"
   ]
  },
  {
   "cell_type": "code",
   "execution_count": null,
   "metadata": {
    "collapsed": true
   },
   "outputs": [],
   "source": []
  }
 ],
 "metadata": {
  "kernelspec": {
   "display_name": "Python 3",
   "language": "python",
   "name": "python3"
  },
  "language_info": {
   "codemirror_mode": {
    "name": "ipython",
    "version": 3
   },
   "file_extension": ".py",
   "mimetype": "text/x-python",
   "name": "python",
   "nbconvert_exporter": "python",
   "pygments_lexer": "ipython3",
   "version": "3.6.0"
  }
 },
 "nbformat": 4,
 "nbformat_minor": 2
}
