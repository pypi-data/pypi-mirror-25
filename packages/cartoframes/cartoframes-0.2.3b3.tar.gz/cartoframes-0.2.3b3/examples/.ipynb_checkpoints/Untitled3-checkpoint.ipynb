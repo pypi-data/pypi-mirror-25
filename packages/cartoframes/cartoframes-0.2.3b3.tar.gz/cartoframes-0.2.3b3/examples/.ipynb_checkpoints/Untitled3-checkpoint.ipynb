{
 "cells": [
  {
   "cell_type": "markdown",
   "metadata": {},
   "source": [
    "## from query"
   ]
  },
  {
   "cell_type": "code",
   "execution_count": 1,
   "metadata": {
    "collapsed": true
   },
   "outputs": [],
   "source": [
    "import pandas as pd\n",
    "import cartoframes\n",
    "import json\n",
    "\n",
    "USERNAME = json.loads(open('credentials.json').read())['username']\n",
    "APIKEY = json.loads(open('credentials.json').read())['api_key']"
   ]
  },
  {
   "cell_type": "code",
   "execution_count": 2,
   "metadata": {
    "collapsed": false
   },
   "outputs": [
    {
     "ename": "BadRequestException",
     "evalue": "['relation \"cartoframes_earthquake_query_test2\" already exists']",
     "output_type": "error",
     "traceback": [
      "\u001b[0;31m---------------------------------------------------------------------------\u001b[0m",
      "\u001b[0;31mBadRequestException\u001b[0m                       Traceback (most recent call last)",
      "\u001b[0;32m<ipython-input-2-95d46ef20de1>\u001b[0m in \u001b[0;36m<module>\u001b[0;34m()\u001b[0m\n\u001b[1;32m      9\u001b[0m                      all_month_3''',\n\u001b[1;32m     10\u001b[0m                    \u001b[0mis_org_user\u001b[0m\u001b[0;34m=\u001b[0m\u001b[0;32mTrue\u001b[0m\u001b[0;34m,\u001b[0m\u001b[0;34m\u001b[0m\u001b[0m\n\u001b[0;32m---> 11\u001b[0;31m                    tablename='cartoframes_earthquake_query_test2')\n\u001b[0m",
      "\u001b[0;32m/Users/peschbacher/Desktop/CartoDB/repos/cartoframes/cartoframes/core.py\u001b[0m in \u001b[0;36mread_carto\u001b[0;34m(username, api_key, baseurl, tablename, query, include_geom, is_org_user, limit, cdb_client, index, debug)\u001b[0m\n\u001b[1;32m     82\u001b[0m         \u001b[0;31m# TODO: this would have to register a table on CARTO if sync=True\u001b[0m\u001b[0;34m\u001b[0m\u001b[0;34m\u001b[0m\u001b[0m\n\u001b[1;32m     83\u001b[0m         _df = utils.df_from_query(query, sql, is_org_user, username,\n\u001b[0;32m---> 84\u001b[0;31m                                   tablename=tablename, debug=debug)\n\u001b[0m\u001b[1;32m     85\u001b[0m     \u001b[0;32melse\u001b[0m\u001b[0;34m:\u001b[0m\u001b[0;34m\u001b[0m\u001b[0m\n\u001b[1;32m     86\u001b[0m         raise ValueError(\"Either `tablename` or `query` (or both) need to be \"\n",
      "\u001b[0;32m/Users/peschbacher/Desktop/CartoDB/repos/cartoframes/cartoframes/utils.py\u001b[0m in \u001b[0;36mdf_from_query\u001b[0;34m(query, carto_sql_client, is_org_user, username, tablename, debug)\u001b[0m\n\u001b[1;32m    261\u001b[0m                    org=username if is_org_user else 'public')\n\u001b[1;32m    262\u001b[0m         \u001b[0;32mif\u001b[0m \u001b[0mdebug\u001b[0m\u001b[0;34m:\u001b[0m \u001b[0mprint\u001b[0m\u001b[0;34m(\u001b[0m\u001b[0;34m\"Creating table: {}\"\u001b[0m\u001b[0;34m.\u001b[0m\u001b[0mformat\u001b[0m\u001b[0;34m(\u001b[0m\u001b[0mcreate_table\u001b[0m\u001b[0;34m)\u001b[0m\u001b[0;34m)\u001b[0m\u001b[0;34m\u001b[0m\u001b[0m\n\u001b[0;32m--> 263\u001b[0;31m         \u001b[0mresp\u001b[0m \u001b[0;34m=\u001b[0m \u001b[0mcarto_sql_client\u001b[0m\u001b[0;34m.\u001b[0m\u001b[0msend\u001b[0m\u001b[0;34m(\u001b[0m\u001b[0mcreate_table\u001b[0m\u001b[0;34m)\u001b[0m\u001b[0;34m\u001b[0m\u001b[0m\n\u001b[0m\u001b[1;32m    264\u001b[0m         \u001b[0;32mif\u001b[0m \u001b[0mdebug\u001b[0m\u001b[0;34m:\u001b[0m \u001b[0mprint\u001b[0m\u001b[0;34m(\u001b[0m\u001b[0mresp\u001b[0m\u001b[0;34m)\u001b[0m\u001b[0;34m\u001b[0m\u001b[0m\n\u001b[1;32m    265\u001b[0m         \u001b[0mnew_tablename\u001b[0m \u001b[0;34m=\u001b[0m \u001b[0mresp\u001b[0m\u001b[0;34m[\u001b[0m\u001b[0;34m'rows'\u001b[0m\u001b[0;34m]\u001b[0m\u001b[0;34m[\u001b[0m\u001b[0;36m0\u001b[0m\u001b[0;34m]\u001b[0m\u001b[0;34m[\u001b[0m\u001b[0;34m'cdb_cartodbfytable'\u001b[0m\u001b[0;34m]\u001b[0m\u001b[0;34m\u001b[0m\u001b[0m\n",
      "\u001b[0;32m/Users/peschbacher/Desktop/CartoDB/repos/cartoframes/venv/src/carto/carto/sql.py\u001b[0m in \u001b[0;36msend\u001b[0;34m(self, sql, parse_json, do_post, format)\u001b[0m\n\u001b[1;32m     38\u001b[0m             \u001b[0mresp\u001b[0m \u001b[0;34m=\u001b[0m \u001b[0mself\u001b[0m\u001b[0;34m.\u001b[0m\u001b[0mauth_client\u001b[0m\u001b[0;34m.\u001b[0m\u001b[0msend\u001b[0m\u001b[0;34m(\u001b[0m\u001b[0mself\u001b[0m\u001b[0;34m.\u001b[0m\u001b[0mapi_url\u001b[0m\u001b[0;34m,\u001b[0m \u001b[0;34m'POST'\u001b[0m\u001b[0;34m,\u001b[0m \u001b[0mdata\u001b[0m\u001b[0;34m=\u001b[0m\u001b[0mparams\u001b[0m\u001b[0;34m)\u001b[0m\u001b[0;34m\u001b[0m\u001b[0m\n\u001b[1;32m     39\u001b[0m \u001b[0;34m\u001b[0m\u001b[0m\n\u001b[0;32m---> 40\u001b[0;31m         \u001b[0;32mreturn\u001b[0m \u001b[0mself\u001b[0m\u001b[0;34m.\u001b[0m\u001b[0mauth_client\u001b[0m\u001b[0;34m.\u001b[0m\u001b[0mget_response_data\u001b[0m\u001b[0;34m(\u001b[0m\u001b[0mresp\u001b[0m\u001b[0;34m,\u001b[0m \u001b[0mparse_json\u001b[0m\u001b[0;34m)\u001b[0m\u001b[0;34m\u001b[0m\u001b[0m\n\u001b[0m\u001b[1;32m     41\u001b[0m \u001b[0;34m\u001b[0m\u001b[0m\n\u001b[1;32m     42\u001b[0m \u001b[0;34m\u001b[0m\u001b[0m\n",
      "\u001b[0;32m/Users/peschbacher/Desktop/CartoDB/repos/cartoframes/venv/lib/python3.6/site-packages/pyrestcli/auth.py\u001b[0m in \u001b[0;36mget_response_data\u001b[0;34m(self, response, parse_json)\u001b[0m\n\u001b[1;32m     48\u001b[0m             \u001b[0mresponse_json\u001b[0m \u001b[0;34m=\u001b[0m \u001b[0mresponse\u001b[0m\u001b[0;34m.\u001b[0m\u001b[0mjson\u001b[0m\u001b[0;34m(\u001b[0m\u001b[0;34m)\u001b[0m\u001b[0;34m\u001b[0m\u001b[0m\n\u001b[1;32m     49\u001b[0m             raise BadRequestException(response_json.get(\"error\", False) or response_json.get(\"errors\",\n\u001b[0;32m---> 50\u001b[0;31m                                                                                              _(\"Bad Request: {text}\").format(text=response.text)))\n\u001b[0m\u001b[1;32m     51\u001b[0m         \u001b[0;32melif\u001b[0m \u001b[0mresponse\u001b[0m\u001b[0;34m.\u001b[0m\u001b[0mstatus_code\u001b[0m \u001b[0;34m==\u001b[0m \u001b[0mrequests\u001b[0m\u001b[0;34m.\u001b[0m\u001b[0mcodes\u001b[0m\u001b[0;34m.\u001b[0m\u001b[0mnot_found\u001b[0m\u001b[0;34m:\u001b[0m\u001b[0;34m\u001b[0m\u001b[0m\n\u001b[1;32m     52\u001b[0m             \u001b[0;32mraise\u001b[0m \u001b[0mNotFoundException\u001b[0m\u001b[0;34m(\u001b[0m\u001b[0m_\u001b[0m\u001b[0;34m(\u001b[0m\u001b[0;34m\"Resource not found: {url}\"\u001b[0m\u001b[0;34m)\u001b[0m\u001b[0;34m.\u001b[0m\u001b[0mformat\u001b[0m\u001b[0;34m(\u001b[0m\u001b[0murl\u001b[0m\u001b[0;34m=\u001b[0m\u001b[0mresponse\u001b[0m\u001b[0;34m.\u001b[0m\u001b[0murl\u001b[0m\u001b[0;34m)\u001b[0m\u001b[0;34m)\u001b[0m\u001b[0;34m\u001b[0m\u001b[0m\n",
      "\u001b[0;31mBadRequestException\u001b[0m: ['relation \"cartoframes_earthquake_query_test2\" already exists']"
     ]
    }
   ],
   "source": [
    "df = pd.read_carto(username=USERNAME,\n",
    "                   api_key=APIKEY,\n",
    "                   query='''SELECT \n",
    "                     ST_Buffer(the_geom::geography, 500)::geometry As the_geom,\n",
    "                     cartodb_id,\n",
    "                     mag,\n",
    "                     depth\n",
    "                   FROM\n",
    "                     all_month_3''',\n",
    "                   is_org_user=True,\n",
    "                   tablename='cartoframes_earthquake_query_test2')"
   ]
  },
  {
   "cell_type": "code",
   "execution_count": 10,
   "metadata": {
    "collapsed": false
   },
   "outputs": [
    {
     "name": "stdout",
     "output_type": "stream",
     "text": [
      "#layer { polygon-fill: #f00; line-width: 0.5; line-color: #FFF; line-opacity: 0.5; }\n"
     ]
    },
    {
     "data": {
      "text/html": [
       "<img src=\"http://eschbacher.carto.com/api/v1/map/static/named/cartoframes_earthquake_query_test2_1489353621_7686558/647/400.png\" />"
      ],
      "text/plain": [
       "<IPython.core.display.HTML object>"
      ]
     },
     "execution_count": 10,
     "metadata": {},
     "output_type": "execute_result"
    }
   ],
   "source": [
    "df.carto_map(interactive=False,\n",
    "             color=None,\n",
    "             debug=True)"
   ]
  },
  {
   "cell_type": "code",
   "execution_count": 3,
   "metadata": {
    "collapsed": true
   },
   "outputs": [],
   "source": [
    "total_new = pd.read_carto(username=USERNAME,\n",
    "                    api_key=APIKEY,\n",
    "                    query='''SELECT \n",
    "                     ST_Buffer(the_geom::geography, 500)::geometry As the_geom,\n",
    "                     cartodb_id,\n",
    "                     mag,\n",
    "                     depth\n",
    "                   FROM\n",
    "                     all_month_3''')"
   ]
  },
  {
   "cell_type": "code",
   "execution_count": 4,
   "metadata": {
    "collapsed": false
   },
   "outputs": [
    {
     "data": {
      "text/plain": [
       "False"
      ]
     },
     "execution_count": 4,
     "metadata": {},
     "output_type": "execute_result"
    }
   ],
   "source": [
    "total_new.carto_registered()"
   ]
  },
  {
   "cell_type": "code",
   "execution_count": 19,
   "metadata": {
    "collapsed": false
   },
   "outputs": [
    {
     "data": {
      "text/plain": [
       "'cartoframes_earthquake_query_test2'"
      ]
     },
     "execution_count": 19,
     "metadata": {},
     "output_type": "execute_result"
    }
   ],
   "source": [
    "df.get_carto_tablename()"
   ]
  },
  {
   "cell_type": "code",
   "execution_count": 23,
   "metadata": {
    "collapsed": false
   },
   "outputs": [
    {
     "data": {
      "text/plain": [
       "True"
      ]
     },
     "execution_count": 23,
     "metadata": {},
     "output_type": "execute_result"
    }
   ],
   "source": [
    "pd.DataFrame.carto_registered(pd.DataFrame())"
   ]
  },
  {
   "cell_type": "code",
   "execution_count": 24,
   "metadata": {
    "collapsed": false
   },
   "outputs": [
    {
     "data": {
      "text/plain": [
       "True"
      ]
     },
     "execution_count": 24,
     "metadata": {},
     "output_type": "execute_result"
    }
   ],
   "source": [
    "pd.DataFrame().carto_registered()"
   ]
  },
  {
   "cell_type": "code",
   "execution_count": 25,
   "metadata": {
    "collapsed": false
   },
   "outputs": [
    {
     "data": {
      "text/plain": [
       "'{\"carto_table\": \"cartoframes_earthquake_query_test2\", \"carto_username\": \"eschbacher\", \"carto_api_key\": \"8e92c06c9a91f8d3c00455109e8e609ee4096d62\", \"carto_named_map\": \"cartoframes_earthquake_query_test2_1489353621_7686558\", \"carto_include_geom\": true, \"carto_limit\": null, \"carto_geomtype\": \"polygon\"}'"
      ]
     },
     "execution_count": 25,
     "metadata": {},
     "output_type": "execute_result"
    }
   ],
   "source": [
    "df._metadata[-1]"
   ]
  },
  {
   "cell_type": "code",
   "execution_count": 5,
   "metadata": {
    "collapsed": false
   },
   "outputs": [
    {
     "name": "stdout",
     "output_type": "stream",
     "text": [
      "Named map name: research_team_1489354381_229069\n"
     ]
    }
   ],
   "source": [
    "df = pd.read_carto(username=USERNAME,\n",
    "                   api_key=APIKEY,\n",
    "                   tablename='research_team',\n",
    "                   is_org_user=True)"
   ]
  },
  {
   "cell_type": "code",
   "execution_count": 6,
   "metadata": {
    "collapsed": false
   },
   "outputs": [
    {
     "data": {
      "text/plain": [
       "['{\"carto_table\": \"research_team\", \"carto_username\": \"eschbacher\", \"carto_api_key\": \"8e92c06c9a91f8d3c00455109e8e609ee4096d62\", \"carto_named_map\": \"research_team_1489354381_229069\", \"carto_include_geom\": true, \"carto_limit\": null, \"carto_geomtype\": \"point\"}']"
      ]
     },
     "execution_count": 6,
     "metadata": {},
     "output_type": "execute_result"
    }
   ],
   "source": [
    "df._metadata"
   ]
  },
  {
   "cell_type": "code",
   "execution_count": null,
   "metadata": {
    "collapsed": true
   },
   "outputs": [],
   "source": []
  }
 ],
 "metadata": {
  "kernelspec": {
   "display_name": "Python 3",
   "language": "python",
   "name": "python3"
  },
  "language_info": {
   "codemirror_mode": {
    "name": "ipython",
    "version": 3
   },
   "file_extension": ".py",
   "mimetype": "text/x-python",
   "name": "python",
   "nbconvert_exporter": "python",
   "pygments_lexer": "ipython3",
   "version": "3.6.0"
  }
 },
 "nbformat": 4,
 "nbformat_minor": 2
}
