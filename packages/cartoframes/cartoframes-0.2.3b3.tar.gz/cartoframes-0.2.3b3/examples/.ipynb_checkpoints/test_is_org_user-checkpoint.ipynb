{
 "cells": [
  {
   "cell_type": "code",
   "execution_count": 25,
   "metadata": {
    "collapsed": false,
    "deletable": true,
    "editable": true
   },
   "outputs": [
    {
     "name": "stdout",
     "output_type": "stream",
     "text": [
      "SELECT * FROM \"brooklyn_poverty\"\n",
      "Named map name: brooklyn_poverty_1490129069_680057\n"
     ]
    },
    {
     "data": {
      "text/html": [
       "<div>\n",
       "<table border=\"1\" class=\"dataframe\">\n",
       "  <thead>\n",
       "    <tr style=\"text-align: right;\">\n",
       "      <th></th>\n",
       "      <th>geoid</th>\n",
       "      <th>high_school_diploma_2011_2015</th>\n",
       "      <th>median_income_2011_2015</th>\n",
       "      <th>new_column</th>\n",
       "      <th>poverty_2011_2015</th>\n",
       "      <th>poverty_count</th>\n",
       "      <th>poverty_per_pop</th>\n",
       "      <th>the_geom</th>\n",
       "      <th>the_geom_webmercator</th>\n",
       "      <th>total_pop_2011_2015</th>\n",
       "      <th>total_population</th>\n",
       "    </tr>\n",
       "    <tr>\n",
       "      <th>cartodb_id</th>\n",
       "      <th></th>\n",
       "      <th></th>\n",
       "      <th></th>\n",
       "      <th></th>\n",
       "      <th></th>\n",
       "      <th></th>\n",
       "      <th></th>\n",
       "      <th></th>\n",
       "      <th></th>\n",
       "      <th></th>\n",
       "      <th></th>\n",
       "    </tr>\n",
       "  </thead>\n",
       "  <tbody>\n",
       "    <tr>\n",
       "      <th>155</th>\n",
       "      <td>360470021001</td>\n",
       "      <td>0.037004</td>\n",
       "      <td>208036.0</td>\n",
       "      <td>7698.083032</td>\n",
       "      <td>0.075573</td>\n",
       "      <td>46.242950</td>\n",
       "      <td>0.039728</td>\n",
       "      <td>0103000020E6100000010000007C0000004BE2AC889A7F...</td>\n",
       "      <td>0103000020110F0000010000007C0000006BB2B13AE66B...</td>\n",
       "      <td>7568.986964</td>\n",
       "      <td>1164.0</td>\n",
       "    </tr>\n",
       "    <tr>\n",
       "      <th>734</th>\n",
       "      <td>360470274002</td>\n",
       "      <td>0.292395</td>\n",
       "      <td>42266.0</td>\n",
       "      <td>12358.371504</td>\n",
       "      <td>0.146278</td>\n",
       "      <td>342.812734</td>\n",
       "      <td>0.210186</td>\n",
       "      <td>0103000020E6100000010000000F00000066BCADF4DA7F...</td>\n",
       "      <td>0103000020110F0000010000000F0000000D7705A8536C...</td>\n",
       "      <td>18914.903234</td>\n",
       "      <td>1631.0</td>\n",
       "    </tr>\n",
       "    <tr>\n",
       "      <th>735</th>\n",
       "      <td>360470275001</td>\n",
       "      <td>0.258389</td>\n",
       "      <td>55990.0</td>\n",
       "      <td>14467.214765</td>\n",
       "      <td>0.251098</td>\n",
       "      <td>172.323529</td>\n",
       "      <td>0.151560</td>\n",
       "      <td>0103000020E61000000100000007000000EB89AE0B3F7C...</td>\n",
       "      <td>0103000020110F000001000000070000003CB24E4D3266...</td>\n",
       "      <td>26814.609541</td>\n",
       "      <td>1137.0</td>\n",
       "    </tr>\n",
       "    <tr>\n",
       "      <th>736</th>\n",
       "      <td>360470275002</td>\n",
       "      <td>0.258389</td>\n",
       "      <td>55990.0</td>\n",
       "      <td>14467.214765</td>\n",
       "      <td>0.251098</td>\n",
       "      <td>383.567627</td>\n",
       "      <td>0.273977</td>\n",
       "      <td>0103000020E6100000010000000A00000052B7B3AF3C7C...</td>\n",
       "      <td>0103000020110F0000010000000A0000001F11634B2E66...</td>\n",
       "      <td>26814.318226</td>\n",
       "      <td>1400.0</td>\n",
       "    </tr>\n",
       "    <tr>\n",
       "      <th>737</th>\n",
       "      <td>360470275003</td>\n",
       "      <td>0.258389</td>\n",
       "      <td>55990.0</td>\n",
       "      <td>14467.214765</td>\n",
       "      <td>0.251098</td>\n",
       "      <td>132.253870</td>\n",
       "      <td>0.149102</td>\n",
       "      <td>0103000020E61000000100000009000000E868554B3A7C...</td>\n",
       "      <td>0103000020110F0000010000000900000071B8373B2A66...</td>\n",
       "      <td>26814.025271</td>\n",
       "      <td>887.0</td>\n",
       "    </tr>\n",
       "  </tbody>\n",
       "</table>\n",
       "</div>"
      ],
      "text/plain": [
       "                   geoid  high_school_diploma_2011_2015  \\\n",
       "cartodb_id                                                \n",
       "155         360470021001                       0.037004   \n",
       "734         360470274002                       0.292395   \n",
       "735         360470275001                       0.258389   \n",
       "736         360470275002                       0.258389   \n",
       "737         360470275003                       0.258389   \n",
       "\n",
       "            median_income_2011_2015    new_column  poverty_2011_2015  \\\n",
       "cartodb_id                                                             \n",
       "155                        208036.0   7698.083032           0.075573   \n",
       "734                         42266.0  12358.371504           0.146278   \n",
       "735                         55990.0  14467.214765           0.251098   \n",
       "736                         55990.0  14467.214765           0.251098   \n",
       "737                         55990.0  14467.214765           0.251098   \n",
       "\n",
       "            poverty_count  poverty_per_pop  \\\n",
       "cartodb_id                                   \n",
       "155             46.242950         0.039728   \n",
       "734            342.812734         0.210186   \n",
       "735            172.323529         0.151560   \n",
       "736            383.567627         0.273977   \n",
       "737            132.253870         0.149102   \n",
       "\n",
       "                                                     the_geom  \\\n",
       "cartodb_id                                                      \n",
       "155         0103000020E6100000010000007C0000004BE2AC889A7F...   \n",
       "734         0103000020E6100000010000000F00000066BCADF4DA7F...   \n",
       "735         0103000020E61000000100000007000000EB89AE0B3F7C...   \n",
       "736         0103000020E6100000010000000A00000052B7B3AF3C7C...   \n",
       "737         0103000020E61000000100000009000000E868554B3A7C...   \n",
       "\n",
       "                                         the_geom_webmercator  \\\n",
       "cartodb_id                                                      \n",
       "155         0103000020110F0000010000007C0000006BB2B13AE66B...   \n",
       "734         0103000020110F0000010000000F0000000D7705A8536C...   \n",
       "735         0103000020110F000001000000070000003CB24E4D3266...   \n",
       "736         0103000020110F0000010000000A0000001F11634B2E66...   \n",
       "737         0103000020110F0000010000000900000071B8373B2A66...   \n",
       "\n",
       "            total_pop_2011_2015  total_population  \n",
       "cartodb_id                                         \n",
       "155                 7568.986964            1164.0  \n",
       "734                18914.903234            1631.0  \n",
       "735                26814.609541            1137.0  \n",
       "736                26814.318226            1400.0  \n",
       "737                26814.025271             887.0  "
      ]
     },
     "execution_count": 25,
     "metadata": {},
     "output_type": "execute_result"
    }
   ],
   "source": [
    "import pandas as pd\n",
    "import carto\n",
    "import cartoframes\n",
    "\n",
    "import json\n",
    "from carto.auth import APIKeyAuthClient\n",
    "\n",
    "creds = json.loads(open('credentials.json').read())\n",
    "API_KEY = creds['api_key'] #  # '2c545e0e8a952b62537515cfe31ed31db210cee8' # \n",
    "USERNAME = creds['username'] # 'andye' \n",
    "BASEURL = 'https://{username}.carto.com/api/'.format(username='andye')\n",
    "\n",
    "auth_client = APIKeyAuthClient(BASEURL, API_KEY)\n",
    "\n",
    "df = pd.read_carto(username=USERNAME, api_key=API_KEY,\n",
    "                   tablename='brooklyn_poverty', debug=True)\n",
    "df.head()"
   ]
  },
  {
   "cell_type": "code",
   "execution_count": 15,
   "metadata": {
    "collapsed": false,
    "deletable": true,
    "editable": true
   },
   "outputs": [
    {
     "data": {
      "text/plain": [
       "False"
      ]
     },
     "execution_count": 15,
     "metadata": {},
     "output_type": "execute_result"
    }
   ],
   "source": [
    "df.get_carto_is_org_user()"
   ]
  },
  {
   "cell_type": "code",
   "execution_count": 24,
   "metadata": {
    "collapsed": false,
    "deletable": true,
    "editable": true
   },
   "outputs": [
    {
     "data": {
      "text/html": [
       "<iframe src=\"https://rawgit.com/CartoDB/cartoframes/master/cartoframes/assets/cartoframes.html?username=eschbacher&tablename=brooklyn_poverty&cartocss=%23layer+%7B+polygon-fill%3A+%234A5798%3B+polygon-opacity%3A+0.9%3Bpolygon-gamma%3A+0.5%3Bline-color%3A+%23fff%3Bline-width%3A+0.5%3Bline-opacity%3A+0.25%3Bline-comp-op%3A+hard-light%3B%7D&basemap=%5B%27http%3A%2F%2Fcartodb-basemaps-%7Bs%7D.global.ssl.fastly.net%2Fdark_all%2F%7Bz%7D%2F%7Bx%7D%2F%7By%7D.png%27%2C+%27http%3A%2F%2Fcartodb-basemaps-%7Bs%7D.global.ssl.fastly.net%2Fdark_only_labels%2F%7Bz%7D%2F%7Bx%7D%2F%7By%7D.png%27%5D&bounds=40.739158%2C-73.833422%2C40.569596%2C-74.041916&show_position_data=True&q=%257B%250A%2520%2520%2520%2520%2520%2520%2522user_name%2522%253A%2520%2522eschbacher%2522%252C%250A%2520%2520%2520%2520%2520%2520%2522type%2522%253A%2520%2522namedmap%2522%252C%250A%2520%2520%2520%2520%2520%2520%2522named_map%2522%253A%2520%257B%250A%2520%2520%2520%2520%2520%2520%2520%2520%2522name%2522%253A%2520%2522brooklyn_poverty_1490113793_454041%2522%250A%2520%2520%2520%2520%2520%2520%257D%252C%250A%2520%2520%2520%2520%2520%2520%2522subdomains%2522%253A%2520%255B%2520%2522a%2522%252C%2520%2522b%2522%252C%2520%2522c%2522%2520%255D%250A%2520%2520%2520%2520%2520%2520%257D\" width=647 height=400>Preview image: <img src=\"http://eschbacher.carto.com/api/v1/map/static/named/brooklyn_poverty_1490113793_454041/647/400.png?\" /></iframe>"
      ],
      "text/plain": [
       "<IPython.core.display.HTML object>"
      ]
     },
     "execution_count": 24,
     "metadata": {},
     "output_type": "execute_result"
    }
   ],
   "source": [
    "df.carto_map(interactive=True)"
   ]
  },
  {
   "cell_type": "code",
   "execution_count": 17,
   "metadata": {
    "collapsed": true,
    "deletable": true,
    "editable": true
   },
   "outputs": [],
   "source": [
    "df['new_col'] = 'cookies'"
   ]
  },
  {
   "cell_type": "code",
   "execution_count": 18,
   "metadata": {
    "collapsed": false,
    "deletable": true,
    "editable": true
   },
   "outputs": [
    {
     "name": "stdout",
     "output_type": "stream",
     "text": [
      "Sync completed successfully\n"
     ]
    }
   ],
   "source": [
    "df.sync_carto()"
   ]
  },
  {
   "cell_type": "code",
   "execution_count": 26,
   "metadata": {
    "collapsed": true,
    "deletable": true,
    "editable": true
   },
   "outputs": [],
   "source": [
    "import numpy as np\n",
    "data = {'texts': list('abcdefghijklmnopqrstuvwxyz'),\n",
    "        'latitude': np.random.random(26),\n",
    "        'longitude': np.random.random(26),\n",
    "        'dates': ['2017-03-21'] * 26,\n",
    "        'floats': np.random.random(26)}"
   ]
  },
  {
   "cell_type": "code",
   "execution_count": 27,
   "metadata": {
    "collapsed": true,
    "deletable": true,
    "editable": true
   },
   "outputs": [],
   "source": [
    "df = pd.DataFrame(data)"
   ]
  },
  {
   "cell_type": "code",
   "execution_count": 28,
   "metadata": {
    "collapsed": true
   },
   "outputs": [],
   "source": [
    "df.to_csv('test_upload.csv')"
   ]
  },
  {
   "cell_type": "code",
   "execution_count": 10,
   "metadata": {
    "collapsed": false,
    "deletable": true,
    "editable": true
   },
   "outputs": [
    {
     "name": "stdout",
     "output_type": "stream",
     "text": [
      "{'dates': 'text', 'floats': 'numeric', 'texts': 'text'}\n",
      "dates text, floats numeric, texts text\n",
      "\n",
      "        CREATE TABLE \"alphabet_soup_is_org_test\"(dates text, floats numeric, texts text);\n",
      "        SELECT CDB_CartodbfyTable('public', 'alphabet_soup_is_org_test');\n",
      "        \n",
      "{'rows': [{'cdb_cartodbfytable': 'alphabet_soup_is_org_test'}], 'time': 0.04, 'fields': {'cdb_cartodbfytable': {'type': 'regclass'}}, 'total_rows': 1, 'notices': ['trigger \"track_updates\" for relation \"alphabet_soup_is_org_test\" does not exist, skipping', 'trigger \"update_the_geom_webmercator_trigger\" for relation \"alphabet_soup_is_org_test\" does not exist, skipping', 'trigger \"test_quota\" for relation \"alphabet_soup_is_org_test\" does not exist, skipping', 'trigger \"test_quota_per_row\" for relation \"alphabet_soup_is_org_test\" does not exist, skipping']}\n",
      "final_tablename: alphabet_soup_is_org_test\n",
      "self has 26 rows\n",
      "insert_stem: INSERT INTO alphabet_soup_is_org_test(dates,floats,texts) VALUES \n"
     ]
    },
    {
     "ename": "AttributeError",
     "evalue": "'float' object has no attribute 'index'",
     "output_type": "error",
     "traceback": [
      "\u001b[0;31m---------------------------------------------------------------------------\u001b[0m",
      "\u001b[0;31mAttributeError\u001b[0m                            Traceback (most recent call last)",
      "\u001b[0;32m<ipython-input-10-324113c61baa>\u001b[0m in \u001b[0;36m<module>\u001b[0;34m()\u001b[0m\n\u001b[0;32m----> 1\u001b[0;31m \u001b[0mdf\u001b[0m\u001b[0;34m.\u001b[0m\u001b[0mcarto_create\u001b[0m\u001b[0;34m(\u001b[0m\u001b[0mUSERNAME\u001b[0m\u001b[0;34m,\u001b[0m \u001b[0mAPI_KEY\u001b[0m\u001b[0;34m,\u001b[0m \u001b[0;34m'alphabet_soup_is_org_test'\u001b[0m\u001b[0;34m,\u001b[0m \u001b[0mdebug\u001b[0m\u001b[0;34m=\u001b[0m\u001b[0;32mTrue\u001b[0m\u001b[0;34m)\u001b[0m\u001b[0;34m\u001b[0m\u001b[0m\n\u001b[0m",
      "\u001b[0;32m/Users/peschbacher/Desktop/CartoDB/repos/cartoframes/cartoframes/core.py\u001b[0m in \u001b[0;36mcarto_create\u001b[0;34m(self, username, api_key, tablename, lnglat_cols, debug)\u001b[0m\n\u001b[1;32m    373\u001b[0m     \u001b[0;31m# TODO: would it be better to cartodbfy after the inserts?\u001b[0m\u001b[0;34m\u001b[0m\u001b[0;34m\u001b[0m\u001b[0m\n\u001b[1;32m    374\u001b[0m     \u001b[0;31m# TODO: how to ensure some consistency between old index and new one? can cartodb_id be zero-valued?\u001b[0m\u001b[0;34m\u001b[0m\u001b[0;34m\u001b[0m\u001b[0m\n\u001b[0;32m--> 375\u001b[0;31m     \u001b[0mself\u001b[0m\u001b[0;34m.\u001b[0m\u001b[0m_carto_insert_values\u001b[0m\u001b[0;34m(\u001b[0m\u001b[0mdebug\u001b[0m\u001b[0;34m=\u001b[0m\u001b[0mdebug\u001b[0m\u001b[0;34m)\u001b[0m\u001b[0;34m\u001b[0m\u001b[0m\n\u001b[0m\u001b[1;32m    376\u001b[0m \u001b[0;34m\u001b[0m\u001b[0m\n\u001b[1;32m    377\u001b[0m     \u001b[0;31m# override index\u001b[0m\u001b[0;34m\u001b[0m\u001b[0;34m\u001b[0m\u001b[0m\n",
      "\u001b[0;32m/Users/peschbacher/Desktop/CartoDB/repos/cartoframes/cartoframes/core.py\u001b[0m in \u001b[0;36m_carto_insert_values\u001b[0;34m(self, n_batch, debug)\u001b[0m\n\u001b[1;32m    449\u001b[0m \u001b[0;34m\u001b[0m\u001b[0m\n\u001b[1;32m    450\u001b[0m     \u001b[0;32mfor\u001b[0m \u001b[0mrow_num\u001b[0m\u001b[0;34m,\u001b[0m \u001b[0mrow\u001b[0m \u001b[0;32min\u001b[0m \u001b[0menumerate\u001b[0m\u001b[0;34m(\u001b[0m\u001b[0mself\u001b[0m\u001b[0;34m.\u001b[0m\u001b[0miterrows\u001b[0m\u001b[0;34m(\u001b[0m\u001b[0;34m)\u001b[0m\u001b[0;34m)\u001b[0m\u001b[0;34m:\u001b[0m\u001b[0;34m\u001b[0m\u001b[0m\n\u001b[0;32m--> 451\u001b[0;31m         \u001b[0mrow_vals\u001b[0m\u001b[0;34m.\u001b[0m\u001b[0mappend\u001b[0m\u001b[0;34m(\u001b[0m\u001b[0;34m'({rowitems})'\u001b[0m\u001b[0;34m.\u001b[0m\u001b[0mformat\u001b[0m\u001b[0;34m(\u001b[0m\u001b[0mrowitems\u001b[0m\u001b[0;34m=\u001b[0m\u001b[0mutils\u001b[0m\u001b[0;34m.\u001b[0m\u001b[0mformat_row\u001b[0m\u001b[0;34m(\u001b[0m\u001b[0mrow\u001b[0m\u001b[0;34m[\u001b[0m\u001b[0;36m1\u001b[0m\u001b[0;34m]\u001b[0m\u001b[0;34m,\u001b[0m \u001b[0mself\u001b[0m\u001b[0;34m.\u001b[0m\u001b[0mdtypes\u001b[0m\u001b[0;34m)\u001b[0m\u001b[0;34m)\u001b[0m\u001b[0;34m)\u001b[0m\u001b[0;34m\u001b[0m\u001b[0m\n\u001b[0m\u001b[1;32m    452\u001b[0m         \u001b[0mchar_count\u001b[0m \u001b[0;34m+=\u001b[0m \u001b[0mlen\u001b[0m\u001b[0;34m(\u001b[0m\u001b[0mrow_vals\u001b[0m\u001b[0;34m[\u001b[0m\u001b[0;34m-\u001b[0m\u001b[0;36m1\u001b[0m\u001b[0;34m]\u001b[0m\u001b[0;34m)\u001b[0m\u001b[0;34m\u001b[0m\u001b[0m\n\u001b[1;32m    453\u001b[0m         \u001b[0;32mif\u001b[0m \u001b[0mdebug\u001b[0m\u001b[0;34m:\u001b[0m \u001b[0mprint\u001b[0m\u001b[0;34m(\u001b[0m\u001b[0;34m\"row_num: {0}, row: {1}\"\u001b[0m\u001b[0;34m.\u001b[0m\u001b[0mformat\u001b[0m\u001b[0;34m(\u001b[0m\u001b[0mrow_num\u001b[0m\u001b[0;34m,\u001b[0m \u001b[0mrow\u001b[0m\u001b[0;34m)\u001b[0m\u001b[0;34m)\u001b[0m\u001b[0;34m\u001b[0m\u001b[0m\n",
      "\u001b[0;32m/Users/peschbacher/Desktop/CartoDB/repos/cartoframes/cartoframes/utils.py\u001b[0m in \u001b[0;36mformat_row\u001b[0;34m(rowvals, dtypes)\u001b[0m\n\u001b[1;32m    193\u001b[0m     \u001b[0mmapped_vals\u001b[0m \u001b[0;34m=\u001b[0m \u001b[0;34m[\u001b[0m\u001b[0;34m]\u001b[0m\u001b[0;34m\u001b[0m\u001b[0m\n\u001b[1;32m    194\u001b[0m     \u001b[0;32mfor\u001b[0m \u001b[0mcolnum\u001b[0m\u001b[0;34m,\u001b[0m \u001b[0mval\u001b[0m \u001b[0;32min\u001b[0m \u001b[0menumerate\u001b[0m\u001b[0;34m(\u001b[0m\u001b[0mrowvals\u001b[0m\u001b[0;34m)\u001b[0m\u001b[0;34m:\u001b[0m\u001b[0;34m\u001b[0m\u001b[0m\n\u001b[0;32m--> 195\u001b[0;31m         \u001b[0mpgtype\u001b[0m \u001b[0;34m=\u001b[0m \u001b[0mdtype_to_pgtype\u001b[0m\u001b[0;34m(\u001b[0m\u001b[0mdtypes\u001b[0m\u001b[0;34m[\u001b[0m\u001b[0mcolnum\u001b[0m\u001b[0;34m]\u001b[0m\u001b[0;34m,\u001b[0m \u001b[0mrowvals\u001b[0m\u001b[0;34m[\u001b[0m\u001b[0;36m1\u001b[0m\u001b[0;34m]\u001b[0m\u001b[0;34m.\u001b[0m\u001b[0mindex\u001b[0m\u001b[0;34m[\u001b[0m\u001b[0mcolnum\u001b[0m\u001b[0;34m]\u001b[0m\u001b[0;34m)\u001b[0m\u001b[0;34m\u001b[0m\u001b[0m\n\u001b[0m\u001b[1;32m    196\u001b[0m         \u001b[0mmapped_vals\u001b[0m\u001b[0;34m.\u001b[0m\u001b[0mappend\u001b[0m\u001b[0;34m(\u001b[0m\u001b[0mnumpy_val_to_pg_val\u001b[0m\u001b[0;34m(\u001b[0m\u001b[0mval\u001b[0m\u001b[0;34m,\u001b[0m \u001b[0mpgtype\u001b[0m\u001b[0;34m)\u001b[0m\u001b[0;34m)\u001b[0m\u001b[0;34m\u001b[0m\u001b[0m\n\u001b[1;32m    197\u001b[0m \u001b[0;34m\u001b[0m\u001b[0m\n",
      "\u001b[0;31mAttributeError\u001b[0m: 'float' object has no attribute 'index'"
     ]
    }
   ],
   "source": [
    "df.carto_create(USERNAME, API_KEY, 'alphabet_soup_is_org_test', debug=True)"
   ]
  },
  {
   "cell_type": "code",
   "execution_count": 9,
   "metadata": {
    "collapsed": true,
    "deletable": true,
    "editable": true
   },
   "outputs": [],
   "source": [
    "for row_num, row in enumerate(df.iterrows()):\n",
    "    out_row = row\n",
    "    break"
   ]
  },
  {
   "cell_type": "code",
   "execution_count": 11,
   "metadata": {
    "collapsed": false,
    "deletable": true,
    "editable": true
   },
   "outputs": [
    {
     "data": {
      "text/plain": [
       "dates     2017-03-21\n",
       "floats      0.218278\n",
       "texts              a\n",
       "Name: 0, dtype: object"
      ]
     },
     "execution_count": 11,
     "metadata": {},
     "output_type": "execute_result"
    }
   ],
   "source": [
    "out_row[1]"
   ]
  },
  {
   "cell_type": "code",
   "execution_count": null,
   "metadata": {
    "collapsed": true,
    "deletable": true,
    "editable": true
   },
   "outputs": [],
   "source": [
    "def format_row(rowvals, dtypes):\n",
    "    \"\"\"Transform a DataFrame row into a comma-separated list for use in\n",
    "        a SQL query.\n",
    "\n",
    "    :param rowvals: An interable of the values in a row\n",
    "    :param type: list\n",
    "\n",
    "    :returns: string of the row values separated by a comma\n",
    "    :rtype: string\n",
    "    \"\"\"\n",
    "    mapped_vals = []\n",
    "    for colnum, val in enumerate(rowvals):\n",
    "        pgtype = dtype_to_pgtype(dtypes[colnum], rowvals[1].index[colnum])\n",
    "        mapped_vals.append(numpy_val_to_pg_val(val, pgtype))\n",
    "\n",
    "    return ','.join(mapped_vals)"
   ]
  },
  {
   "cell_type": "code",
   "execution_count": 6,
   "metadata": {
    "collapsed": true,
    "deletable": true,
    "editable": true
   },
   "outputs": [],
   "source": [
    "def get_org_user(carto_sql_client):\n",
    "    \"\"\"Retrieve whether user is in an organization or not\"\"\"\n",
    "    resp = carto_sql_client.send('SHOW search_path')\n",
    "    paths = resp['rows'][0]['search_path'].split(',')\n",
    "\n",
    "    if paths[0] != 'public':\n",
    "        return True\n",
    "    else:\n",
    "        return False\n",
    "\n",
    "    return None"
   ]
  },
  {
   "cell_type": "code",
   "execution_count": 8,
   "metadata": {
    "collapsed": false,
    "deletable": true,
    "editable": true
   },
   "outputs": [
    {
     "data": {
      "text/plain": [
       "'https://andye.carto.com/api/'"
      ]
     },
     "execution_count": 8,
     "metadata": {},
     "output_type": "execute_result"
    }
   ],
   "source": [
    "auth_client.base_url"
   ]
  },
  {
   "cell_type": "code",
   "execution_count": 11,
   "metadata": {
    "collapsed": false,
    "deletable": true,
    "editable": true
   },
   "outputs": [
    {
     "data": {
      "text/plain": [
       "True"
      ]
     },
     "execution_count": 11,
     "metadata": {},
     "output_type": "execute_result"
    }
   ],
   "source": [
    "from carto.sql import SQLClient\n",
    "sql = SQLClient(auth_client)\n",
    "get_org_user(sql)"
   ]
  },
  {
   "cell_type": "code",
   "execution_count": 18,
   "metadata": {
    "collapsed": false,
    "deletable": true,
    "editable": true,
    "scrolled": true
   },
   "outputs": [],
   "source": [
    "import requests\n",
    "import json\n",
    "apiendpoint = 'https://{username}.carto.com/api/v1/synchronizations/?api_key={apikey}'\n",
    "\n",
    "resp = requests.get(apiendpoint.format(username=creds['username'],\n",
    "                                       apikey=creds['api_key']))\n",
    "tables = [t['name'] for t in json.loads(resp.text)[\"synchronizations\"]]"
   ]
  },
  {
   "cell_type": "code",
   "execution_count": 19,
   "metadata": {
    "collapsed": false,
    "deletable": true,
    "editable": true,
    "scrolled": false
   },
   "outputs": [
    {
     "data": {
      "text/plain": [
       "[None,\n",
       " None,\n",
       " None,\n",
       " None,\n",
       " 'natural_t',\n",
       " 'world_borders_2',\n",
       " 'barrios',\n",
       " 'continents_2',\n",
       " None,\n",
       " 'all_month_11',\n",
       " 'all_month_13',\n",
       " 'ne_50m_admin_1_states_4',\n",
       " 'ne_50m_land',\n",
       " 'all_month_9',\n",
       " 'global_24h',\n",
       " 'histcounties_1979_present',\n",
       " 'counties_ny',\n",
       " 'all_month_1',\n",
       " 'ny_boroughs',\n",
       " 'all_month_2',\n",
       " None,\n",
       " 'cb_2013_cousub_500k',\n",
       " 'modis_c6_usa_contiguous_and_hawaii_24h',\n",
       " 'nyc_subway_entrance',\n",
       " None,\n",
       " None,\n",
       " None,\n",
       " 'all_month_10',\n",
       " 'barris_barcelona',\n",
       " None,\n",
       " 'dyfi_geo_10km',\n",
       " 'all_month_8',\n",
       " None,\n",
       " 'histcounties_1679_1729',\n",
       " 'all_month_6',\n",
       " 'cb_2013_us_county_500k_4',\n",
       " 'france_admin1_metro',\n",
       " 'all_day_3',\n",
       " 'ne_50m_admin_1_states_3',\n",
       " 'jamoat_tajikistan',\n",
       " 'continents_1',\n",
       " 'districts_tajikistan',\n",
       " 'gcma000b06a_eng',\n",
       " 'all_month',\n",
       " 'all_month_5',\n",
       " 'ne_10m_railroads',\n",
       " 'ne_50m_ocean',\n",
       " 'doc_2']"
      ]
     },
     "execution_count": 19,
     "metadata": {},
     "output_type": "execute_result"
    }
   ],
   "source": [
    "tables"
   ]
  },
  {
   "cell_type": "code",
   "execution_count": null,
   "metadata": {
    "collapsed": true,
    "deletable": true,
    "editable": true
   },
   "outputs": [],
   "source": []
  }
 ],
 "metadata": {
  "kernelspec": {
   "display_name": "Python 3",
   "language": "python",
   "name": "python3"
  },
  "language_info": {
   "codemirror_mode": {
    "name": "ipython",
    "version": 3
   },
   "file_extension": ".py",
   "mimetype": "text/x-python",
   "name": "python",
   "nbconvert_exporter": "python",
   "pygments_lexer": "ipython3",
   "version": "3.6.0"
  }
 },
 "nbformat": 4,
 "nbformat_minor": 2
}
