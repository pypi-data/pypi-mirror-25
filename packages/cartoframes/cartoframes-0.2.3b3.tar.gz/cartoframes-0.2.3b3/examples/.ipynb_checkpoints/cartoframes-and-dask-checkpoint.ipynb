{
 "cells": [
  {
   "cell_type": "markdown",
   "metadata": {},
   "source": [
    "# CARTOFrames in Action\n",
    "\n",
    "Data science workflows that leverage CARTO\n",
    "\n",
    "## Motivation\n",
    "\n",
    "A large number of data scientists rely on the de facto standards of analysis in a Jupyter notebook. We want to support that by creating a Python module that allows these users to develop analyses while seamlessly interacting with CARTO. We aim to feature:\n",
    "\n",
    "* Stunning cartography from CARTO maps\n",
    "* Seamless reading and writing to CARTO for arbitrary updates to a DataFrame\n",
    "* Interactions with the Data Observatory to enrich a user's analysis\n",
    "\n",
    "\n",
    "## Basics\n",
    "\n",
    "You'll need the following for this:\n",
    "\n",
    "1. Your CARTO username\n",
    "2. Your API key\n",
    "3. Your favorite table (I recommend duplicating it and using the copy because we will do some oprations on it)\n",
    "\n",
    "Paste these values in the quotes (`''`) below."
   ]
  },
  {
   "cell_type": "code",
   "execution_count": 1,
   "metadata": {},
   "outputs": [],
   "source": [
    "import pandas as pd\n",
    "import cartoframes\n",
    "\n",
    "# username = '' # <-- insert your username here\n",
    "# api_key = '' # <-- insert your API key here\n",
    "# tablename = '' # <-- insert your tablename here\n",
    "\n",
    "cc = cartoframes.CartoContext()"
   ]
  },
  {
   "cell_type": "markdown",
   "metadata": {},
   "source": [
    "### Read from your CARTO account"
   ]
  },
  {
   "cell_type": "code",
   "execution_count": null,
   "metadata": {
    "collapsed": true,
    "scrolled": false
   },
   "outputs": [],
   "source": [
    "df = cc.read(tablename)\n",
    "df.head()"
   ]
  },
  {
   "cell_type": "markdown",
   "metadata": {},
   "source": [
    "### Make updates to the DataFrame and Sync Changes"
   ]
  },
  {
   "cell_type": "code",
   "execution_count": null,
   "metadata": {
    "collapsed": true
   },
   "outputs": [],
   "source": [
    "df['favorite_cookie'] = 'pecan'\n",
    "df['favorite_cookie'][df.index % 2 == 0] = 'oatmeal'\n",
    "cc.write(df, tablename, overwrite=True)"
   ]
  },
  {
   "cell_type": "markdown",
   "metadata": {},
   "source": [
    "### Map it out"
   ]
  },
  {
   "cell_type": "code",
   "execution_count": null,
   "metadata": {
    "collapsed": true
   },
   "outputs": [],
   "source": [
    "df.carto_map(color='favorite_cookie')"
   ]
  },
  {
   "cell_type": "markdown",
   "metadata": {},
   "source": [
    "### cartoframe from query\n",
    "\n",
    "Query your CARTO account and create a table from the query. Finally, pull that new table into a pandas DataFrame."
   ]
  },
  {
   "cell_type": "code",
   "execution_count": null,
   "metadata": {
    "collapsed": true
   },
   "outputs": [],
   "source": [
    "df_buffer = cc.query(query='''\n",
    "                           SELECT ST_Buffer(the_geom::geography, 10000)::geometry as the_geom,\n",
    "                                  cartodb_id, mag, depth, place\n",
    "                             FROM all_month_3\n",
    "                           LIMIT 100\n",
    "                          ''',\n",
    "                     tablename='buffered_earthquakes')\n",
    "df_buffer.head()"
   ]
  },
  {
   "cell_type": "markdown",
   "metadata": {},
   "source": [
    "## Model workflow\n",
    "\n",
    "Let's recreate the workflow from <https://jakevdp.github.io/blog/2015/08/14/out-of-core-dataframes-in-python/>, where the author explores [`dask`](http://dask.pydata.org/en/latest/) for splitting up the computations between multiple cores in a machine to complete tasks more quickly. "
   ]
  },
  {
   "cell_type": "code",
   "execution_count": 3,
   "metadata": {},
   "outputs": [],
   "source": [
    "from dask import dataframe as dd\n",
    "import pandas as pd\n",
    "columns = [\"name\", \"amenity\", \"Longitude\", \"Latitude\"]\n",
    "data = dd.read_csv('POIWorld.csv', usecols=columns)"
   ]
  },
  {
   "cell_type": "code",
   "execution_count": 4,
   "metadata": {
    "collapsed": true
   },
   "outputs": [],
   "source": [
    "with_name = data[data.name.notnull()]\n",
    "with_amenity = data[data.amenity.notnull()]\n",
    "\n",
    "is_starbucks = with_name.name.str.contains('[Ss]tarbucks')\n",
    "is_dunkin = with_name.name.str.contains('[Dd]unkin')\n",
    "\n",
    "starbucks = with_name[is_starbucks].compute()\n",
    "dunkin = with_name[is_dunkin].compute()"
   ]
  },
  {
   "cell_type": "code",
   "execution_count": 5,
   "metadata": {},
   "outputs": [
    {
     "data": {
      "text/html": [
       "<div>\n",
       "<style>\n",
       "    .dataframe thead tr:only-child th {\n",
       "        text-align: right;\n",
       "    }\n",
       "\n",
       "    .dataframe thead th {\n",
       "        text-align: left;\n",
       "    }\n",
       "\n",
       "    .dataframe tbody tr th {\n",
       "        vertical-align: top;\n",
       "    }\n",
       "</style>\n",
       "<table border=\"1\" class=\"dataframe\">\n",
       "  <thead>\n",
       "    <tr style=\"text-align: right;\">\n",
       "      <th></th>\n",
       "      <th>name</th>\n",
       "      <th>amenity</th>\n",
       "      <th>Longitude</th>\n",
       "      <th>Latitude</th>\n",
       "      <th>type</th>\n",
       "    </tr>\n",
       "  </thead>\n",
       "  <tbody>\n",
       "    <tr>\n",
       "      <th>6696</th>\n",
       "      <td>Starbucks</td>\n",
       "      <td>cafe</td>\n",
       "      <td>121.035006</td>\n",
       "      <td>14.547281</td>\n",
       "      <td>starbucks</td>\n",
       "    </tr>\n",
       "    <tr>\n",
       "      <th>8322</th>\n",
       "      <td>Starbucks Coffee</td>\n",
       "      <td>cafe</td>\n",
       "      <td>120.978371</td>\n",
       "      <td>14.578929</td>\n",
       "      <td>starbucks</td>\n",
       "    </tr>\n",
       "    <tr>\n",
       "      <th>9505</th>\n",
       "      <td>星巴克咖啡 Starbucks</td>\n",
       "      <td>cafe</td>\n",
       "      <td>120.135887</td>\n",
       "      <td>30.271254</td>\n",
       "      <td>starbucks</td>\n",
       "    </tr>\n",
       "    <tr>\n",
       "      <th>12417</th>\n",
       "      <td>星巴克咖啡 Starbucks</td>\n",
       "      <td>cafe</td>\n",
       "      <td>120.158464</td>\n",
       "      <td>30.253061</td>\n",
       "      <td>starbucks</td>\n",
       "    </tr>\n",
       "    <tr>\n",
       "      <th>12418</th>\n",
       "      <td>星巴克咖啡 Starbucks</td>\n",
       "      <td>cafe</td>\n",
       "      <td>120.157341</td>\n",
       "      <td>30.256555</td>\n",
       "      <td>starbucks</td>\n",
       "    </tr>\n",
       "    <tr>\n",
       "      <th>28564</th>\n",
       "      <td>Starbucks</td>\n",
       "      <td>cafe</td>\n",
       "      <td>-76.934625</td>\n",
       "      <td>40.238707</td>\n",
       "      <td>starbucks</td>\n",
       "    </tr>\n",
       "    <tr>\n",
       "      <th>33017</th>\n",
       "      <td>Starbucks</td>\n",
       "      <td>cafe</td>\n",
       "      <td>-1.545032</td>\n",
       "      <td>53.797463</td>\n",
       "      <td>starbucks</td>\n",
       "    </tr>\n",
       "    <tr>\n",
       "      <th>36552</th>\n",
       "      <td>Starbucks Coffee</td>\n",
       "      <td>cafe</td>\n",
       "      <td>-79.390940</td>\n",
       "      <td>43.649976</td>\n",
       "      <td>starbucks</td>\n",
       "    </tr>\n",
       "    <tr>\n",
       "      <th>37719</th>\n",
       "      <td>Starbucks Coffee</td>\n",
       "      <td>cafe</td>\n",
       "      <td>-79.389462</td>\n",
       "      <td>43.645361</td>\n",
       "      <td>starbucks</td>\n",
       "    </tr>\n",
       "    <tr>\n",
       "      <th>40437</th>\n",
       "      <td>Starbucks Coffee</td>\n",
       "      <td>cafe</td>\n",
       "      <td>-79.393634</td>\n",
       "      <td>43.670435</td>\n",
       "      <td>starbucks</td>\n",
       "    </tr>\n",
       "    <tr>\n",
       "      <th>40439</th>\n",
       "      <td>Starbucks Coffee</td>\n",
       "      <td>cafe</td>\n",
       "      <td>-79.390089</td>\n",
       "      <td>43.670596</td>\n",
       "      <td>starbucks</td>\n",
       "    </tr>\n",
       "    <tr>\n",
       "      <th>41495</th>\n",
       "      <td>Starbucks Coffee</td>\n",
       "      <td>cafe</td>\n",
       "      <td>13.388738</td>\n",
       "      <td>52.519403</td>\n",
       "      <td>starbucks</td>\n",
       "    </tr>\n",
       "    <tr>\n",
       "      <th>41500</th>\n",
       "      <td>Starbucks Coffee</td>\n",
       "      <td>cafe</td>\n",
       "      <td>13.379787</td>\n",
       "      <td>52.516727</td>\n",
       "      <td>starbucks</td>\n",
       "    </tr>\n",
       "    <tr>\n",
       "      <th>41869</th>\n",
       "      <td>Starbucks Coffee</td>\n",
       "      <td>cafe</td>\n",
       "      <td>13.373732</td>\n",
       "      <td>52.507931</td>\n",
       "      <td>starbucks</td>\n",
       "    </tr>\n",
       "    <tr>\n",
       "      <th>42941</th>\n",
       "      <td>Starbucks Coffee</td>\n",
       "      <td>cafe</td>\n",
       "      <td>13.376430</td>\n",
       "      <td>52.510587</td>\n",
       "      <td>starbucks</td>\n",
       "    </tr>\n",
       "    <tr>\n",
       "      <th>43173</th>\n",
       "      <td>Starbucks</td>\n",
       "      <td>cafe</td>\n",
       "      <td>32.878538</td>\n",
       "      <td>39.895229</td>\n",
       "      <td>starbucks</td>\n",
       "    </tr>\n",
       "    <tr>\n",
       "      <th>43229</th>\n",
       "      <td>Starbucks</td>\n",
       "      <td>cafe</td>\n",
       "      <td>16.370443</td>\n",
       "      <td>48.203665</td>\n",
       "      <td>starbucks</td>\n",
       "    </tr>\n",
       "    <tr>\n",
       "      <th>45342</th>\n",
       "      <td>Starbucks</td>\n",
       "      <td>cafe</td>\n",
       "      <td>13.390018</td>\n",
       "      <td>52.511072</td>\n",
       "      <td>starbucks</td>\n",
       "    </tr>\n",
       "    <tr>\n",
       "      <th>50742</th>\n",
       "      <td>Starbucks Coffee</td>\n",
       "      <td>cafe</td>\n",
       "      <td>-79.385434</td>\n",
       "      <td>43.655530</td>\n",
       "      <td>starbucks</td>\n",
       "    </tr>\n",
       "    <tr>\n",
       "      <th>53643</th>\n",
       "      <td>Starbucks Coffee</td>\n",
       "      <td>cafe</td>\n",
       "      <td>-0.135514</td>\n",
       "      <td>51.498925</td>\n",
       "      <td>starbucks</td>\n",
       "    </tr>\n",
       "  </tbody>\n",
       "</table>\n",
       "</div>"
      ],
      "text/plain": [
       "                   name amenity   Longitude   Latitude       type\n",
       "6696          Starbucks    cafe  121.035006  14.547281  starbucks\n",
       "8322   Starbucks Coffee    cafe  120.978371  14.578929  starbucks\n",
       "9505    星巴克咖啡 Starbucks    cafe  120.135887  30.271254  starbucks\n",
       "12417   星巴克咖啡 Starbucks    cafe  120.158464  30.253061  starbucks\n",
       "12418   星巴克咖啡 Starbucks    cafe  120.157341  30.256555  starbucks\n",
       "28564         Starbucks    cafe  -76.934625  40.238707  starbucks\n",
       "33017         Starbucks    cafe   -1.545032  53.797463  starbucks\n",
       "36552  Starbucks Coffee    cafe  -79.390940  43.649976  starbucks\n",
       "37719  Starbucks Coffee    cafe  -79.389462  43.645361  starbucks\n",
       "40437  Starbucks Coffee    cafe  -79.393634  43.670435  starbucks\n",
       "40439  Starbucks Coffee    cafe  -79.390089  43.670596  starbucks\n",
       "41495  Starbucks Coffee    cafe   13.388738  52.519403  starbucks\n",
       "41500  Starbucks Coffee    cafe   13.379787  52.516727  starbucks\n",
       "41869  Starbucks Coffee    cafe   13.373732  52.507931  starbucks\n",
       "42941  Starbucks Coffee    cafe   13.376430  52.510587  starbucks\n",
       "43173         Starbucks    cafe   32.878538  39.895229  starbucks\n",
       "43229         Starbucks    cafe   16.370443  48.203665  starbucks\n",
       "45342         Starbucks    cafe   13.390018  52.511072  starbucks\n",
       "50742  Starbucks Coffee    cafe  -79.385434  43.655530  starbucks\n",
       "53643  Starbucks Coffee    cafe   -0.135514  51.498925  starbucks"
      ]
     },
     "execution_count": 5,
     "metadata": {},
     "output_type": "execute_result"
    }
   ],
   "source": [
    "starbucks['type'] = 'starbucks'\n",
    "dunkin['type'] = 'dunkin'\n",
    "coffee_places = pd.concat([starbucks, dunkin])\n",
    "coffee_places.head(20)"
   ]
  },
  {
   "cell_type": "markdown",
   "metadata": {},
   "source": [
    "## Write DataFrame to CARTO"
   ]
  },
  {
   "cell_type": "code",
   "execution_count": 6,
   "metadata": {
    "collapsed": true
   },
   "outputs": [],
   "source": [
    "import pandas as pd\n",
    "import cartoframes"
   ]
  },
  {
   "cell_type": "code",
   "execution_count": 9,
   "metadata": {},
   "outputs": [
    {
     "name": "stderr",
     "output_type": "stream",
     "text": [
      "/Users/peschbacher/git/CartoDB/cartoframes/cartoframes/context.py:360: UserWarning: DataFrame written to CARTO but table schema failed to update to match DataFrame. All columns have data type `text`. CARTO error: `['column \"Longitude\" does not exist']`. Query: ALTER TABLE \"coffee_places2\" ALTER COLUMN \"name\" TYPE text USING NULLIF(\"name\", '')::text, ALTER COLUMN \"amenity\" TYPE text USING NULLIF(\"amenity\", '')::text, ALTER COLUMN \"Longitude\" TYPE numeric USING NULLIF(\"Longitude\", '')::numeric, ALTER COLUMN \"Latitude\" TYPE numeric USING NULLIF(\"Latitude\", '')::numeric, ALTER COLUMN \"type\" TYPE text USING NULLIF(\"type\", '')::text;\n",
      "  query=alter_query))\n"
     ]
    },
    {
     "name": "stdout",
     "output_type": "stream",
     "text": [
      "Creating geometry out of columns `longitude`/`latitude`\n",
      "The following columns were renamed because of PostgreSQL column normalization requirements: `the_geom`, `Latitude`, `the_geom_webmercator`, `Longitude`, `longitude`, `latitude`, `field_1`\n",
      "Table written to CARTO: https://eschbacher.carto.com/dataset/coffee_places2\n"
     ]
    }
   ],
   "source": [
    "# specify columns for lng/lat so carto will create a geometry\n",
    "cc.write(coffee_places,\n",
    "         'coffee_places2',\n",
    "         lnglat=('longitude', 'latitude'))"
   ]
  },
  {
   "cell_type": "markdown",
   "metadata": {},
   "source": [
    "### Let's visualize this DataFrame\n",
    "\n",
    "Category map on Dunkin' Donuts vs. Starbucks (aka, color by 'type')"
   ]
  },
  {
   "cell_type": "code",
   "execution_count": 13,
   "metadata": {},
   "outputs": [
    {
     "data": {
      "text/html": [
       "<div>\n",
       "<style>\n",
       "    .dataframe thead tr:only-child th {\n",
       "        text-align: right;\n",
       "    }\n",
       "\n",
       "    .dataframe thead th {\n",
       "        text-align: left;\n",
       "    }\n",
       "\n",
       "    .dataframe tbody tr th {\n",
       "        vertical-align: top;\n",
       "    }\n",
       "</style>\n",
       "<table border=\"1\" class=\"dataframe\">\n",
       "  <thead>\n",
       "    <tr style=\"text-align: right;\">\n",
       "      <th></th>\n",
       "      <th>name</th>\n",
       "      <th>amenity</th>\n",
       "      <th>Longitude</th>\n",
       "      <th>Latitude</th>\n",
       "      <th>type</th>\n",
       "    </tr>\n",
       "  </thead>\n",
       "  <tbody>\n",
       "    <tr>\n",
       "      <th>6696</th>\n",
       "      <td>Starbucks</td>\n",
       "      <td>cafe</td>\n",
       "      <td>121.035006</td>\n",
       "      <td>14.547281</td>\n",
       "      <td>starbucks</td>\n",
       "    </tr>\n",
       "    <tr>\n",
       "      <th>8322</th>\n",
       "      <td>Starbucks Coffee</td>\n",
       "      <td>cafe</td>\n",
       "      <td>120.978371</td>\n",
       "      <td>14.578929</td>\n",
       "      <td>starbucks</td>\n",
       "    </tr>\n",
       "    <tr>\n",
       "      <th>9505</th>\n",
       "      <td>星巴克咖啡 Starbucks</td>\n",
       "      <td>cafe</td>\n",
       "      <td>120.135887</td>\n",
       "      <td>30.271254</td>\n",
       "      <td>starbucks</td>\n",
       "    </tr>\n",
       "    <tr>\n",
       "      <th>12417</th>\n",
       "      <td>星巴克咖啡 Starbucks</td>\n",
       "      <td>cafe</td>\n",
       "      <td>120.158464</td>\n",
       "      <td>30.253061</td>\n",
       "      <td>starbucks</td>\n",
       "    </tr>\n",
       "    <tr>\n",
       "      <th>12418</th>\n",
       "      <td>星巴克咖啡 Starbucks</td>\n",
       "      <td>cafe</td>\n",
       "      <td>120.157341</td>\n",
       "      <td>30.256555</td>\n",
       "      <td>starbucks</td>\n",
       "    </tr>\n",
       "  </tbody>\n",
       "</table>\n",
       "</div>"
      ],
      "text/plain": [
       "                   name amenity   Longitude   Latitude       type\n",
       "6696          Starbucks    cafe  121.035006  14.547281  starbucks\n",
       "8322   Starbucks Coffee    cafe  120.978371  14.578929  starbucks\n",
       "9505    星巴克咖啡 Starbucks    cafe  120.135887  30.271254  starbucks\n",
       "12417   星巴克咖啡 Starbucks    cafe  120.158464  30.253061  starbucks\n",
       "12418   星巴克咖啡 Starbucks    cafe  120.157341  30.256555  starbucks"
      ]
     },
     "execution_count": 13,
     "metadata": {},
     "output_type": "execute_result"
    }
   ],
   "source": [
    "coffee_places.head()"
   ]
  },
  {
   "cell_type": "code",
   "execution_count": 3,
   "metadata": {
    "scrolled": false
   },
   "outputs": [
    {
     "data": {
      "text/html": [
       "<img src=\"https://eschbacher.carto.com/api/v1/map/static/named/cartoframes_ver20170406_layers1_time0_baseid1_labels0_zoom0/800/400.png?config=%7B%22basemap_url%22%3A+%22https%3A%2F%2Fcartodb-basemaps-%7Bs%7D.global.ssl.fastly.net%2Fdark_all%2F%7Bz%7D%2F%7Bx%7D%2F%7By%7D.png%22%2C+%22cartocss_0%22%3A+%22%23layer%5B%27mapnik%3A%3Ageometry_type%27%3D1%5D+%7B++marker-width%3A+5%3B+marker-fill%3A+ramp%28%5Btype%5D%2C+cartocolor%28Bold%29%2C+category%287%29%29%3B+marker-fill-opacity%3A+1%3B+marker-allow-overlap%3A+true%3B+marker-line-width%3A+0.5%3B+marker-line-color%3A+%23000%3B+marker-line-opacity%3A+1%3B%7D+%23layer%5B%27mapnik%3A%3Ageometry_type%27%3D2%5D+%7B++line-width%3A+1.5%3B+line-color%3A+ramp%28%5Btype%5D%2C+cartocolor%28Bold%29%2C+category%287%29%29%3B%7D+%23layer%5B%27mapnik%3A%3Ageometry_type%27%3D3%5D+%7B++polygon-fill%3A+ramp%28%5Btype%5D%2C+cartocolor%28Bold%29%2C+category%287%29%29%3B+polygon-opacity%3A+0.9%3B+polygon-gamma%3A+0.5%3B+line-color%3A+%23FFF%3B+line-width%3A+0.5%3B+line-opacity%3A+0.25%3B+line-comp-op%3A+hard-light%3B%7D+%22%2C+%22sql_0%22%3A+%22SELECT+%2A+FROM+coffee_places2%22%7D&anti_cache=0.41472195266203227\" />"
      ],
      "text/plain": [
       "<IPython.core.display.HTML object>"
      ]
     },
     "execution_count": 3,
     "metadata": {},
     "output_type": "execute_result"
    }
   ],
   "source": [
    "from cartoframes import Layer, styling\n",
    "cc.map(layers=Layer('coffee_places2', color={'column': 'type',\n",
    "                                             'scheme': styling.bold(7)}, size=5),\n",
    "       interactive=False)"
   ]
  },
  {
   "cell_type": "markdown",
   "metadata": {},
   "source": [
    "## Fast Food"
   ]
  },
  {
   "cell_type": "code",
   "execution_count": 4,
   "metadata": {
    "scrolled": true
   },
   "outputs": [
    {
     "ename": "NameError",
     "evalue": "name 'with_amenity' is not defined",
     "output_type": "error",
     "traceback": [
      "\u001b[0;31m---------------------------------------------------------------------------\u001b[0m",
      "\u001b[0;31mNameError\u001b[0m                                 Traceback (most recent call last)",
      "\u001b[0;32m<ipython-input-4-ed0dcc125d5f>\u001b[0m in \u001b[0;36m<module>\u001b[0;34m()\u001b[0m\n\u001b[0;32m----> 1\u001b[0;31m \u001b[0mis_fastfood\u001b[0m \u001b[0;34m=\u001b[0m \u001b[0mwith_amenity\u001b[0m\u001b[0;34m.\u001b[0m\u001b[0mamenity\u001b[0m\u001b[0;34m.\u001b[0m\u001b[0mstr\u001b[0m\u001b[0;34m.\u001b[0m\u001b[0mcontains\u001b[0m\u001b[0;34m(\u001b[0m\u001b[0;34m'fast_food'\u001b[0m\u001b[0;34m)\u001b[0m\u001b[0;34m\u001b[0m\u001b[0m\n\u001b[0m\u001b[1;32m      2\u001b[0m \u001b[0mfastfood\u001b[0m \u001b[0;34m=\u001b[0m \u001b[0mwith_amenity\u001b[0m\u001b[0;34m[\u001b[0m\u001b[0mis_fastfood\u001b[0m\u001b[0;34m]\u001b[0m\u001b[0;34m\u001b[0m\u001b[0m\n\u001b[1;32m      3\u001b[0m \u001b[0mfastfood\u001b[0m\u001b[0;34m.\u001b[0m\u001b[0mname\u001b[0m\u001b[0;34m.\u001b[0m\u001b[0mvalue_counts\u001b[0m\u001b[0;34m(\u001b[0m\u001b[0;34m)\u001b[0m\u001b[0;34m.\u001b[0m\u001b[0mhead\u001b[0m\u001b[0;34m(\u001b[0m\u001b[0;36m12\u001b[0m\u001b[0;34m)\u001b[0m\u001b[0;34m\u001b[0m\u001b[0m\n",
      "\u001b[0;31mNameError\u001b[0m: name 'with_amenity' is not defined"
     ]
    }
   ],
   "source": [
    "is_fastfood = with_amenity.amenity.str.contains('fast_food')\n",
    "fastfood = with_amenity[is_fastfood]\n",
    "fastfood.name.value_counts().head(12)"
   ]
  },
  {
   "cell_type": "code",
   "execution_count": null,
   "metadata": {
    "collapsed": true
   },
   "outputs": [],
   "source": [
    "ff = fastfood.compute()\n",
    "ff.sync_carto(username=username,\n",
    "              api_key=api_key,\n",
    "              requested_tablename='fastfood_dask',\n",
    "              lnglat_cols=('longitude', 'latitude'))"
   ]
  },
  {
   "cell_type": "markdown",
   "metadata": {},
   "source": [
    "### Number of Fast Food places in this OSM dump"
   ]
  },
  {
   "cell_type": "code",
   "execution_count": null,
   "metadata": {
    "collapsed": true
   },
   "outputs": [],
   "source": [
    "len(ff)"
   ]
  },
  {
   "cell_type": "markdown",
   "metadata": {},
   "source": [
    "### Recreating the map from the blog"
   ]
  },
  {
   "cell_type": "code",
   "execution_count": null,
   "metadata": {
    "collapsed": true
   },
   "outputs": [],
   "source": [
    "cc.map(layers=Layer('fastfood_dask', size=2, color='#FFF'))"
   ]
  },
  {
   "cell_type": "markdown",
   "metadata": {},
   "source": [
    "### Going crazy with the Data Observatory\n",
    "\n",
    "This method relies in you having the `do_augment_table` function that John had you load into your account. This might be kinda slow given that we have "
   ]
  },
  {
   "cell_type": "code",
   "execution_count": null,
   "metadata": {
    "collapsed": true
   },
   "outputs": [],
   "source": [
    "# DO measures: Total Population,\n",
    "#              Children under 18 years of age\n",
    "#              Median income\n",
    "\n",
    "data_obs_measures = [{'numer_id': 'us.census.acs.B01003001'},\n",
    "                     {'numer_id': 'us.census.acs.B17001001'},\n",
    "                     {'numer_id': 'us.census.acs.B19013001'}]\n",
    "cc.data_augment('coffee_places', data_obs_measures)"
   ]
  }
 ],
 "metadata": {
  "kernelspec": {
   "display_name": "Python 3",
   "language": "python",
   "name": "python3"
  },
  "language_info": {
   "codemirror_mode": {
    "name": "ipython",
    "version": 3
   },
   "file_extension": ".py",
   "mimetype": "text/x-python",
   "name": "python",
   "nbconvert_exporter": "python",
   "pygments_lexer": "ipython3",
   "version": "3.6.2"
  }
 },
 "nbformat": 4,
 "nbformat_minor": 2
}
