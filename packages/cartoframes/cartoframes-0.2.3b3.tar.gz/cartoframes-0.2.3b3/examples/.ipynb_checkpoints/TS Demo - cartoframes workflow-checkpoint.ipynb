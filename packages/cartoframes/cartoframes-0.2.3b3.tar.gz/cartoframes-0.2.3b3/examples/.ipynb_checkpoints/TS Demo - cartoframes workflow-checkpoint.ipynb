{
 "cells": [
  {
   "cell_type": "markdown",
   "metadata": {},
   "source": [
    "# Two Sigma Demo\n",
    "\n",
    "March 7, 2017\n",
    "\n",
    "Demonstrating the features of [`cartoframes`](https://github.com/cartodb/cartoframes/)."
   ]
  },
  {
   "cell_type": "code",
   "execution_count": null,
   "metadata": {
    "collapsed": true,
    "deletable": true,
    "editable": true
   },
   "outputs": [],
   "source": [
    "import pandas as pd\n",
    "import cartoframes\n",
    "import json\n",
    "\n",
    "# load my CARTO credentials\n",
    "USERNAME = json.loads(open('credentials.json').read())['username']\n",
    "APIKEY = json.loads(open('credentials.json').read())['api_key']"
   ]
  },
  {
   "cell_type": "code",
   "execution_count": null,
   "metadata": {
    "collapsed": false,
    "deletable": true,
    "editable": true,
    "scrolled": true
   },
   "outputs": [],
   "source": [
    "# read from a CSV\n",
    "df = pd.read_csv('ts_demo/starbucks_manhattan.csv')\n",
    "df.head()"
   ]
  },
  {
   "cell_type": "code",
   "execution_count": null,
   "metadata": {
    "collapsed": false,
    "deletable": true,
    "editable": true,
    "scrolled": false
   },
   "outputs": [],
   "source": [
    "# link dataframe with CARTO\n",
    "df.sync_carto(requested_tablename='manhattan_starbucks',\n",
    "              latlng_cols=('latitude', 'longitude'),\n",
    "              username=USERNAME,\n",
    "              api_key=APIKEY,\n",
    "              is_org_user=True)\n",
    "df.head()"
   ]
  },
  {
   "cell_type": "code",
   "execution_count": null,
   "metadata": {
    "collapsed": false,
    "deletable": true,
    "editable": true,
    "scrolled": false
   },
   "outputs": [],
   "source": [
    "# style map by ownership_type column (will work soon with private data)\n",
    "df.carto_map(stylecol='owernship_type')"
   ]
  },
  {
   "cell_type": "code",
   "execution_count": null,
   "metadata": {
    "collapsed": false,
    "deletable": true,
    "editable": true
   },
   "outputs": [],
   "source": [
    "# get population, other measures within 5 minute walk time\n",
    "df_buffer = pd.read_carto(username=USERNAME,\n",
    "                          api_key=APIKEY,\n",
    "                          query=('''\n",
    "                              SELECT \n",
    "                                ST_Buffer(the_geom::geography, 400)::geometry as the_geom,\n",
    "                                brand, name, ownership_type, store_id\n",
    "                              FROM manhattan_starbucks\n",
    "                          '''),\n",
    "                          tablename='manhattan_starbucks_walkability')\n",
    "\n",
    "# Data Observatory measures: population, \n",
    "#                            normalized completed high school, \n",
    "#                            median income, \n",
    "#                            normalized poverty)\n",
    "\n",
    "data_obs_measures = [{'numer_id': 'us.census.acs.B01003001'},\n",
    "                     {'numer_id': 'us.census.acs.B15003017', 'denominator': 'predenominated'},\n",
    "                     {'numer_id': 'us.census.acs.B19013001'},\n",
    "                     {'numer_id': 'us.census.acs.B17001002', 'denominator': 'predenominated'}]\n",
    "df_buffer.carto_do_augment(data_obs_measures)\n",
    "df_buffer.head(10)"
   ]
  },
  {
   "cell_type": "code",
   "execution_count": null,
   "metadata": {
    "collapsed": false,
    "deletable": true,
    "editable": true
   },
   "outputs": [],
   "source": [
    "%pylab inline\n",
    "import matplotlib.pyplot as plt\n",
    "import matplotlib\n",
    "matplotlib.style.use('ggplot')\n",
    "\n",
    "# plt.figure(figsize=(20,10));\n",
    "# df_buffer.plot(x='total_pop_2011_2015', y='median_income_2011_2015', kind='scatter')\n",
    "df_buffer.hist(figsize=(16, 8));"
   ]
  },
  {
   "cell_type": "code",
   "execution_count": null,
   "metadata": {
    "collapsed": false,
    "deletable": true,
    "editable": true
   },
   "outputs": [],
   "source": [
    "df_buffer.carto_map(stylecol='total_pop_2011_2015')"
   ]
  },
  {
   "cell_type": "code",
   "execution_count": null,
   "metadata": {
    "collapsed": true,
    "deletable": true,
    "editable": true
   },
   "outputs": [],
   "source": []
  }
 ],
 "metadata": {
  "kernelspec": {
   "display_name": "Python 3",
   "language": "python",
   "name": "python3"
  },
  "language_info": {
   "codemirror_mode": {
    "name": "ipython",
    "version": 3
   },
   "file_extension": ".py",
   "mimetype": "text/x-python",
   "name": "python",
   "nbconvert_exporter": "python",
   "pygments_lexer": "ipython3",
   "version": "3.6.0"
  }
 },
 "nbformat": 4,
 "nbformat_minor": 2
}
