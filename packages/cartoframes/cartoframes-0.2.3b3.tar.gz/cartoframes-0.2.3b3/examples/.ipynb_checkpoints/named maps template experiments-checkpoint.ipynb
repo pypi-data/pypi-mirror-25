{
 "cells": [
  {
   "cell_type": "code",
   "execution_count": 18,
   "metadata": {
    "collapsed": true,
    "deletable": true,
    "editable": true
   },
   "outputs": [],
   "source": [
    "import requests\n",
    "import json\n",
    "from IPython.display import HTML\n",
    "from urllib.parse import quote\n",
    "APIKEY = '8e92c06c9a91f8d3c00455109e8e609ee4096d62'"
   ]
  },
  {
   "cell_type": "code",
   "execution_count": 2,
   "metadata": {
    "collapsed": false
   },
   "outputs": [
    {
     "data": {
      "text/plain": [
       "'{{\\n  \"version\": \"0.0.1\",\\n  \"name\": \"{mapname}\",\\n  \"auth\": {{\\n    \"method\": \"open\"\\n  }},\\n  \"placeholders\": {{\\n    \"cartocss\": {{\\n      \"type\": \"sql_ident\",\\n      \"default\": \"#layer {{marker-fill: #00F; marker-width: 7;}}\"\\n    }},\\n    \"basemap\": {{\\n      \"type\": \"sql_ident\",\\n      \"default\": \"http://cartodb-basemaps-{{s}}.global.ssl.fastly.net/dark_all/{{z}}/{{x}}/{{y}}.png\"\\n      }}\\n  }},\\n  \"layergroup\": {{\\n    \"version\": \"1.3.0\",\\n    \"layers\": [\\n      {{\\n        \"type\": \"http\",\\n        \"options\": {{\\n          \"urlTemplate\": \"<%= basemap %>\",\\n          \"subdomains\": [\\n            \"a\",\\n            \"b\",\\n            \"c\"\\n          ]\\n        }}\\n      }},\\n      {{\\n        \"type\": \"mapnik\",\\n        \"options\": {{\\n          \"sql\": \"select * from {tablename}\",\\n          \"cartocss\": \"<%= cartocss %>\",\\n          \"cartocss_version\": \"2.3.0\"\\n        }}\\n      }}\\n    ]\\n  }}\\n}}\\n'"
      ]
     },
     "execution_count": 2,
     "metadata": {},
     "output_type": "execute_result"
    }
   ],
   "source": [
    "named_map = open(\"named_map_template.json\").read()\n",
    "named_map"
   ]
  },
  {
   "cell_type": "code",
   "execution_count": 14,
   "metadata": {
    "collapsed": true
   },
   "outputs": [],
   "source": [
    "fill = {'mapname': 'cartoframes_test_basemap_cartocss2',\n",
    "        'tablename': 'all_month_3'}"
   ]
  },
  {
   "cell_type": "code",
   "execution_count": 15,
   "metadata": {
    "collapsed": false,
    "scrolled": true
   },
   "outputs": [
    {
     "data": {
      "text/plain": [
       "{'auth': {'method': 'open'},\n",
       " 'layergroup': {'layers': [{'options': {'subdomains': ['a', 'b', 'c'],\n",
       "     'urlTemplate': '<%= basemap %>'},\n",
       "    'type': 'http'},\n",
       "   {'options': {'cartocss': '<%= cartocss %>',\n",
       "     'cartocss_version': '2.3.0',\n",
       "     'sql': 'select * from all_month_3'},\n",
       "    'type': 'mapnik'}],\n",
       "  'version': '1.3.0'},\n",
       " 'name': 'cartoframes_test_basemap_cartocss2',\n",
       " 'placeholders': {'basemap': {'default': 'http://cartodb-basemaps-{s}.global.ssl.fastly.net/dark_all/{z}/{x}/{y}.png',\n",
       "   'type': 'sql_ident'},\n",
       "  'cartocss': {'default': '#layer {marker-fill: #00F; marker-width: 7;}',\n",
       "   'type': 'sql_ident'}},\n",
       " 'version': '0.0.1'}"
      ]
     },
     "execution_count": 15,
     "metadata": {},
     "output_type": "execute_result"
    }
   ],
   "source": [
    "json.loads(named_map.format(**fill))"
   ]
  },
  {
   "cell_type": "code",
   "execution_count": 16,
   "metadata": {
    "collapsed": false,
    "deletable": true,
    "editable": true
   },
   "outputs": [
    {
     "data": {
      "text/plain": [
       "'{\"template_id\":\"cartoframes_test_basemap_cartocss2\"}'"
      ]
     },
     "execution_count": 16,
     "metadata": {},
     "output_type": "execute_result"
    }
   ],
   "source": [
    "resp = requests.post(\"https://eschbacher.carto.com/api/v1/map/named?api_key={api_key}\".format(api_key=APIKEY), \n",
    "                     data=open(\"named_map_template.json\").read().format(**fill),\n",
    "                     headers={'content-type': 'application/json'})\n",
    "resp.text"
   ]
  },
  {
   "cell_type": "code",
   "execution_count": 17,
   "metadata": {
    "collapsed": false
   },
   "outputs": [
    {
     "name": "stdout",
     "output_type": "stream",
     "text": [
      "%7B%22cartocss%22%3A%20%22%23layer%7Bmarker-fill%3A%20%23F00%3B%20marker-width%3A%2020%3B%7D%22%7D\n",
      "https://eschbacher.carto.com/api/v1/map/static/named/cartoframes_test_basemap_cartocss/200/200.png?config=%7B%22cartocss%22%3A%20%22%23layer%7Bmarker-fill%3A%20%23F00%3B%20marker-width%3A%2020%3B%7D%22%7D\n"
     ]
    },
    {
     "data": {
      "text/html": [
       "<img src=\"https://eschbacher.carto.com/api/v1/map/static/named/cartoframes_test_basemap_cartocss/200/200.png?config=%7B%22cartocss%22%3A%20%22%23layer%7Bmarker-fill%3A%20%23F00%3B%20marker-width%3A%2020%3B%7D%22%7D\"/>"
      ],
      "text/plain": [
       "<IPython.core.display.HTML object>"
      ]
     },
     "execution_count": 17,
     "metadata": {},
     "output_type": "execute_result"
    }
   ],
   "source": [
    "params = urllib.parse.quote(\n",
    "    json.dumps({'cartocss': '#layer{marker-fill: #F00; marker-width: 20;}',\n",
    "                'basemap': 'http://{s}.tile.thunderforest.com/spinal-map/{z}/{x}/{y}.png'}))\n",
    "url = 'https://eschbacher.carto.com/api/v1/map/static/named/cartoframes_test_basemap_cartocss/200/200.png'\n",
    "out = '?'.join([url, \"config=\" + params])\n",
    "print(out)\n",
    "\n",
    "HTML('<img src=\"%(urlpattern)s\"/>' % {'urlpattern': out})"
   ]
  },
  {
   "cell_type": "code",
   "execution_count": 27,
   "metadata": {
    "collapsed": false,
    "deletable": true,
    "editable": true
   },
   "outputs": [],
   "source": [
    "resp = requests.get(\"https://eschbacher.carto.com/api/v1/map/named?api_key={api_key}\".format(api_key=APIKEY))"
   ]
  },
  {
   "cell_type": "code",
   "execution_count": 31,
   "metadata": {
    "collapsed": false
   },
   "outputs": [
    {
     "data": {
      "text/plain": [
       "2228"
      ]
     },
     "execution_count": 31,
     "metadata": {},
     "output_type": "execute_result"
    }
   ],
   "source": [
    "len(json.loads(resp.text)['template_ids'])"
   ]
  },
  {
   "cell_type": "code",
   "execution_count": 50,
   "metadata": {
    "collapsed": false,
    "deletable": true,
    "editable": true
   },
   "outputs": [],
   "source": [
    "base_map = 'https://%(username)s.cartodb.com/api/v1/map/named/%(map_name)s/all/0/0/0.png?config={\"table_name\":\"%(tablename)s\", \"cartocss\": \"%(cartocss)s\", \"basemap\": \"%(basemap)s\"}'"
   ]
  },
  {
   "cell_type": "code",
   "execution_count": 51,
   "metadata": {
    "collapsed": true,
    "deletable": true,
    "editable": true
   },
   "outputs": [],
   "source": [
    "import urllib"
   ]
  },
  {
   "cell_type": "code",
   "execution_count": 53,
   "metadata": {
    "collapsed": false,
    "deletable": true,
    "editable": true
   },
   "outputs": [
    {
     "name": "stdout",
     "output_type": "stream",
     "text": [
      "https%3A//eschbacher.cartodb.com/api/v1/map/named/cartoframes_default/all/0/0/0.png%3Fconfig%3D%7B%22table_name%22%3A%22all_month_3%22%2C%20%22cartocss%22%3A%20%22%23layer%7Bmarker-width%3A%2010%3B%20marker-fill%3A%20%23333%3B%7D%22%2C%20%22basemap%22%3A%20%22http%3A//%7Bs%7D.tile.thunderforest.com/spinal-map/%7Bz%7D/%7Bx%7D/%7By%7D.png%22%7D\n"
     ]
    }
   ],
   "source": [
    "out = base_map % {'username': 'eschbacher',\n",
    "            'map_name':'cartoframes_default',\n",
    "            'tablename': 'all_month_3',\n",
    "            'cartocss': '#layer{marker-width: 10; marker-fill: #333;}',\n",
    "            'basemap': 'http://{s}.tile.thunderforest.com/spinal-map/{z}/{x}/{y}.png'}\n",
    "print(quote(out))"
   ]
  },
  {
   "cell_type": "markdown",
   "metadata": {
    "deletable": true,
    "editable": true
   },
   "source": [
    "## Update an existing template"
   ]
  },
  {
   "cell_type": "code",
   "execution_count": 69,
   "metadata": {
    "collapsed": false,
    "deletable": true,
    "editable": true
   },
   "outputs": [
    {
     "name": "stdout",
     "output_type": "stream",
     "text": [
      "{\"version\": \"0.0.1\", \"name\": \"cartoframes_default\", \"auth\": {\"method\": \"open\"}, \"placeholders\": {}, \"layergroup\": {\"version\": \"1.3.0\", \"layers\": [{\"type\": \"http\", \"options\": {\"urlTemplate\": \"http://{s}.tile.thunderforest.com/spinal-map/{z}/{x}/{y}.png\", \"subdomains\": [\"a\", \"b\", \"c\"]}}, {\"type\": \"mapnik\", \"options\": {\"sql\": \"select * from all_month_3\", \"cartocss\": \"#layer{marker-width: 10; marker-fill: #00F;}\", \"cartocss_version\": \"2.3.0\"}}]}}\n",
      "200\n"
     ]
    }
   ],
   "source": [
    "map_params = {'named_map_name':'cartoframes_default',\n",
    "              'basemap': 'http://{s}.tile.thunderforest.com/spinal-map/{z}/{x}/{y}.png',\n",
    "              'tablename': 'all_month_3',\n",
    "              'cartocss': '#layer{marker-width: 10; marker-fill: #00F;}'}\n",
    "\n",
    "\n",
    "new_template = json.dumps(json.loads(open(\"named_map_template.json\").read())) % map_params\n",
    "print(new_template)\n",
    "\n",
    "resp = requests.put(\"https://eschbacher.carto.com/api/v1/map/named/{map_name}?api_key={api_key}\".format(api_key=APIKEY,\n",
    "                                                                                                        map_name='cartoframes_default'), \n",
    "                    data=new_template,\n",
    "                    headers={'content-type': 'application/json'})\n",
    "print(resp.status_code)"
   ]
  },
  {
   "cell_type": "code",
   "execution_count": 67,
   "metadata": {
    "collapsed": false,
    "deletable": true,
    "editable": true
   },
   "outputs": [
    {
     "name": "stdout",
     "output_type": "stream",
     "text": [
      "{\"template_id\":\"cartoframes_default\"}\n"
     ]
    }
   ],
   "source": [
    "print(resp.text)"
   ]
  },
  {
   "cell_type": "code",
   "execution_count": 59,
   "metadata": {
    "collapsed": false,
    "deletable": true,
    "editable": true
   },
   "outputs": [
    {
     "data": {
      "text/plain": [
       "'{\\n  \"version\": \"0.0.1\",\\n  \"name\": \"cartoframes_default\",\\n  \"auth\": {\\n    \"method\": \"open\"\\n  },\\n  \"placeholders\": {\\n  },\\n  \"layergroup\": {\\n    \"version\": \"1.3.0\",\\n    \"layers\": [\\n      {\\n        \"type\": \"http\",\\n        \"options\": {\\n          \"urlTemplate\": \"https://cartodb-basemaps-{s}.global.ssl.fastly.net/dark_all/{z}/{x}/{y}.png\",\\n          \"subdomains\": [\\n            \"a\",\\n            \"b\",\\n            \"c\"\\n          ]\\n        }\\n      },\\n      {\\n        \"type\": \"mapnik\",\\n        \"options\": {\\n          \"sql\": \"select * from all_month_3\",\\n          \"cartocss\": \"#layer{marker-width: 10; marker-fill: #333;}\",\\n          \"cartocss_version\": \"2.3.0\"\\n        }\\n      }\\n    ]\\n  }\\n}\\n'"
      ]
     },
     "execution_count": 59,
     "metadata": {},
     "output_type": "execute_result"
    }
   ],
   "source": [
    "open(\"named_map_template.json\").read() % map_params"
   ]
  },
  {
   "cell_type": "code",
   "execution_count": 72,
   "metadata": {
    "collapsed": false,
    "deletable": true,
    "editable": true
   },
   "outputs": [
    {
     "data": {
      "text/plain": [
       "'1489074512_023356'"
      ]
     },
     "execution_count": 72,
     "metadata": {},
     "output_type": "execute_result"
    }
   ],
   "source": [
    "import time\n",
    "str(time.time()).replace('.', '_')"
   ]
  },
  {
   "cell_type": "code",
   "execution_count": 1,
   "metadata": {
    "collapsed": false,
    "deletable": true,
    "editable": true
   },
   "outputs": [],
   "source": [
    "import pandas as pd\n",
    "import cartoframes\n",
    "import json\n",
    "APIKEY = json.loads(open('credentials.json').read())['api_key']\n",
    "USERNAME = json.loads(open('credentials.json').read())['username']"
   ]
  },
  {
   "cell_type": "code",
   "execution_count": 2,
   "metadata": {
    "collapsed": false,
    "deletable": true,
    "editable": true
   },
   "outputs": [
    {
     "name": "stdout",
     "output_type": "stream",
     "text": [
      "Named map name: brooklyn_poverty_1489092298_8988311\n"
     ]
    },
    {
     "data": {
      "text/html": [
       "<div>\n",
       "<table border=\"1\" class=\"dataframe\">\n",
       "  <thead>\n",
       "    <tr style=\"text-align: right;\">\n",
       "      <th></th>\n",
       "      <th>geoid</th>\n",
       "      <th>poverty_count</th>\n",
       "      <th>poverty_per_pop</th>\n",
       "      <th>the_geom</th>\n",
       "      <th>the_geom_webmercator</th>\n",
       "      <th>total_population</th>\n",
       "    </tr>\n",
       "    <tr>\n",
       "      <th>cartodb_id</th>\n",
       "      <th></th>\n",
       "      <th></th>\n",
       "      <th></th>\n",
       "      <th></th>\n",
       "      <th></th>\n",
       "      <th></th>\n",
       "    </tr>\n",
       "  </thead>\n",
       "  <tbody>\n",
       "    <tr>\n",
       "      <th>34</th>\n",
       "      <td>360470341002</td>\n",
       "      <td>100.682065</td>\n",
       "      <td>0.135144</td>\n",
       "      <td>0103000020E61000000100000005000000D784B4C6A07C...</td>\n",
       "      <td>0103000020110F00000100000005000000D0DEA24ED866...</td>\n",
       "      <td>745.0</td>\n",
       "    </tr>\n",
       "    <tr>\n",
       "      <th>1</th>\n",
       "      <td>360470043001</td>\n",
       "      <td>0.000000</td>\n",
       "      <td>NaN</td>\n",
       "      <td>0103000020E6100000010000000700000037FC6EBA657F...</td>\n",
       "      <td>0103000020110F00000100000007000000B7A199888C6B...</td>\n",
       "      <td>140.0</td>\n",
       "    </tr>\n",
       "  </tbody>\n",
       "</table>\n",
       "</div>"
      ],
      "text/plain": [
       "                   geoid  poverty_count  poverty_per_pop  \\\n",
       "cartodb_id                                                 \n",
       "34          360470341002     100.682065         0.135144   \n",
       "1           360470043001       0.000000              NaN   \n",
       "\n",
       "                                                     the_geom  \\\n",
       "cartodb_id                                                      \n",
       "34          0103000020E61000000100000005000000D784B4C6A07C...   \n",
       "1           0103000020E6100000010000000700000037FC6EBA657F...   \n",
       "\n",
       "                                         the_geom_webmercator  \\\n",
       "cartodb_id                                                      \n",
       "34          0103000020110F00000100000005000000D0DEA24ED866...   \n",
       "1           0103000020110F00000100000007000000B7A199888C6B...   \n",
       "\n",
       "            total_population  \n",
       "cartodb_id                    \n",
       "34                     745.0  \n",
       "1                      140.0  "
      ]
     },
     "execution_count": 2,
     "metadata": {},
     "output_type": "execute_result"
    }
   ],
   "source": [
    "df = pd.read_carto(username=USERNAME,\n",
    "                   api_key=APIKEY,\n",
    "                   is_org_user=True,\n",
    "                   tablename='brooklyn_poverty')\n",
    "df.head(2)"
   ]
  },
  {
   "cell_type": "code",
   "execution_count": 9,
   "metadata": {
    "collapsed": false,
    "deletable": true,
    "editable": true
   },
   "outputs": [
    {
     "data": {
      "text/html": [
       "<img src=\"http://eschbacher.carto.com/api/v1/map/static/named/brooklyn_poverty_1489092298_8988311/647/400.png\" />"
      ],
      "text/plain": [
       "<IPython.core.display.HTML object>"
      ]
     },
     "execution_count": 9,
     "metadata": {},
     "output_type": "execute_result"
    }
   ],
   "source": [
    "df.carto_map(interactive=False, \n",
    "             color={'colname': 'poverty_count', 'ramp': 'Spectral', 'ramp_provider': 'colorbrewer'}, \n",
    "             basemap='https://cartodb-basemaps-{s}.global.ssl.fastly.net/dark_all/{z}/{x}/{y}.png')"
   ]
  },
  {
   "cell_type": "code",
   "execution_count": 8,
   "metadata": {
    "collapsed": false,
    "deletable": true,
    "editable": true
   },
   "outputs": [
    {
     "data": {
      "text/html": [
       "<iframe src=\"/files/cartoframes.html?username=eschbacher&tablename=brooklyn_poverty&cartocss=%23layer+%7B+polygon-fill%3A+ramp%28%5Bpoverty_count%5D%2C+cartocolor%28RedOr%29%2C+quantiles%28%29%29%3B+line-width%3A+0.5%3B+line-color%3A+%23FFF%3B+line-opacity%3A+0.5%3B+%7D&basemap=https%3A%2F%2Fcartodb-basemaps-%7Bs%7D.global.ssl.fastly.net%2Fdark_all%2F%7Bz%7D%2F%7Bx%7D%2F%7By%7D.png&bounds=40.739158%2C-73.833422%2C40.569596%2C-74.041916&q=%257B%250A%2520%2520%2520%2520%2520%2520%2522user_name%2522%253A%2520%2522eschbacher%2522%252C%250A%2520%2520%2520%2520%2520%2520%2522type%2522%253A%2520%2522namedmap%2522%252C%250A%2520%2520%2520%2520%2520%2520%2522named_map%2522%253A%2520%257B%250A%2520%2520%2520%2520%2520%2520%2520%2520%2522name%2522%253A%2520%2522brooklyn_poverty_1489092298_8988311%2522%250A%2520%2520%2520%2520%2520%2520%257D%252C%250A%2520%2520%2520%2520%2520%2520%2522subdomains%2522%253A%2520%255B%2520%2522a%2522%252C%2520%2522b%2522%252C%2520%2522c%2522%2520%255D%250A%2520%2520%2520%2520%2520%2520%257D\" width=647 height=400>Preview image: <img src=\"http://eschbacher.carto.com/api/v1/map/static/named/brooklyn_poverty_1489092298_8988311/647/400.png\" /></iframe>"
      ],
      "text/plain": [
       "<IPython.core.display.HTML object>"
      ]
     },
     "execution_count": 8,
     "metadata": {},
     "output_type": "execute_result"
    }
   ],
   "source": [
    "df.carto_map(interactive=True, \n",
    "             color={'colname': 'poverty_count', 'ramp': 'RedOr'},\n",
    "             basemap='https://cartodb-basemaps-{s}.global.ssl.fastly.net/dark_all/{z}/{x}/{y}.png')"
   ]
  },
  {
   "cell_type": "code",
   "execution_count": 48,
   "metadata": {
    "collapsed": false,
    "deletable": true,
    "editable": true
   },
   "outputs": [
    {
     "name": "stdout",
     "output_type": "stream",
     "text": [
      "%7B%22cartocss%22%3A%20%22%23layer%7Bmarker-fill%3A%20%23F00%3B%20marker-width%3A%2020%3B%7D%22%7D\n",
      "https://eschbacher.carto.com/api/v1/map/static/named/cartoframes_test27/100/100.png?config=%7B%22cartocss%22%3A%20%22%23layer%7Bmarker-fill%3A%20%23F00%3B%20marker-width%3A%2020%3B%7D%22%7D\n"
     ]
    },
    {
     "data": {
      "text/html": [
       "<img src=\"https://eschbacher.carto.com/api/v1/map/static/named/cartoframes_test27/100/100.png?config=%7B%22cartocss%22%3A%20%22%23layer%7Bmarker-fill%3A%20%23F00%3B%20marker-width%3A%2020%3B%7D%22%7D\"/>"
      ],
      "text/plain": [
       "<IPython.core.display.HTML object>"
      ]
     },
     "execution_count": 48,
     "metadata": {},
     "output_type": "execute_result"
    }
   ],
   "source": [
    "from IPython.display import HTML\n",
    "from urllib.parse import quote\n",
    "params = quote(str(json.dumps({'cartocss': \"#layer{marker-fill: #F00; marker-width: 20;}\"})))\n",
    "print(params)\n",
    "url = 'https://eschbacher.carto.com/api/v1/map/static/named/cartoframes_test27/100/100.png'\n",
    "out = '?'.join([url, \"config=\" + params])\n",
    "print(out)\n",
    "\n",
    "HTML('<img src=\"%(urlpattern)s\"/>' % {'urlpattern': out})"
   ]
  },
  {
   "cell_type": "code",
   "execution_count": null,
   "metadata": {
    "collapsed": true
   },
   "outputs": [],
   "source": []
  }
 ],
 "metadata": {
  "kernelspec": {
   "display_name": "Python 3",
   "language": "python",
   "name": "python3"
  },
  "language_info": {
   "codemirror_mode": {
    "name": "ipython",
    "version": 3
   },
   "file_extension": ".py",
   "mimetype": "text/x-python",
   "name": "python",
   "nbconvert_exporter": "python",
   "pygments_lexer": "ipython3",
   "version": "3.6.0"
  }
 },
 "nbformat": 4,
 "nbformat_minor": 2
}
