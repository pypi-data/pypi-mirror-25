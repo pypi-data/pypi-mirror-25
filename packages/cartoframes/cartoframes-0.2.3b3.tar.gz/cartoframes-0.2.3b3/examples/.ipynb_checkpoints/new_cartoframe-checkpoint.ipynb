{
 "cells": [
  {
   "cell_type": "markdown",
   "metadata": {
    "deletable": true,
    "editable": true
   },
   "source": [
    "## Create a new cartoframe from a pandas.DataFrame"
   ]
  },
  {
   "cell_type": "code",
   "execution_count": 5,
   "metadata": {
    "collapsed": true
   },
   "outputs": [],
   "source": [
    "import pandas as pd\n",
    "import cartoframes\n",
    "import numpy as np\n",
    "import json\n",
    "APIKEY = json.loads(open('credentials.json').read())['api_key']\n",
    "USERNAME = json.loads(open('credentials.json').read())['username']"
   ]
  },
  {
   "cell_type": "code",
   "execution_count": 6,
   "metadata": {
    "collapsed": false,
    "deletable": true,
    "editable": true
   },
   "outputs": [
    {
     "data": {
      "text/html": [
       "<div>\n",
       "<table border=\"1\" class=\"dataframe\">\n",
       "  <thead>\n",
       "    <tr style=\"text-align: right;\">\n",
       "      <th></th>\n",
       "      <th>ids</th>\n",
       "      <th>lat</th>\n",
       "      <th>lon</th>\n",
       "      <th>scores</th>\n",
       "    </tr>\n",
       "  </thead>\n",
       "  <tbody>\n",
       "    <tr>\n",
       "      <th>0</th>\n",
       "      <td>a</td>\n",
       "      <td>40.398669</td>\n",
       "      <td>-74.232594</td>\n",
       "      <td>0.646543</td>\n",
       "    </tr>\n",
       "    <tr>\n",
       "      <th>1</th>\n",
       "      <td>b</td>\n",
       "      <td>41.174096</td>\n",
       "      <td>-73.757894</td>\n",
       "      <td>0.877553</td>\n",
       "    </tr>\n",
       "    <tr>\n",
       "      <th>2</th>\n",
       "      <td>c</td>\n",
       "      <td>40.406401</td>\n",
       "      <td>-74.271609</td>\n",
       "      <td>0.277463</td>\n",
       "    </tr>\n",
       "    <tr>\n",
       "      <th>3</th>\n",
       "      <td>d</td>\n",
       "      <td>40.593725</td>\n",
       "      <td>-73.776013</td>\n",
       "      <td>0.691091</td>\n",
       "    </tr>\n",
       "    <tr>\n",
       "      <th>4</th>\n",
       "      <td>e</td>\n",
       "      <td>40.743963</td>\n",
       "      <td>-74.321824</td>\n",
       "      <td>0.245809</td>\n",
       "    </tr>\n",
       "  </tbody>\n",
       "</table>\n",
       "</div>"
      ],
      "text/plain": [
       "  ids        lat        lon    scores\n",
       "0   a  40.398669 -74.232594  0.646543\n",
       "1   b  41.174096 -73.757894  0.877553\n",
       "2   c  40.406401 -74.271609  0.277463\n",
       "3   d  40.593725 -73.776013  0.691091\n",
       "4   e  40.743963 -74.321824  0.245809"
      ]
     },
     "execution_count": 6,
     "metadata": {},
     "output_type": "execute_result"
    }
   ],
   "source": [
    "multiplier = 2000\n",
    "awesome = {'ids': list('abcdefghij') * multiplier,\n",
    "           'scores': np.random.random(10 * multiplier),\n",
    "           'lat': 40.7128 + (0.5 - np.random.random(10 * multiplier)),\n",
    "           'lon': -74.0059 + (0.5 - np.random.random(10 * multiplier))}\n",
    "df = pd.DataFrame(awesome)\n",
    "df.head()"
   ]
  },
  {
   "cell_type": "code",
   "execution_count": 7,
   "metadata": {
    "collapsed": false,
    "deletable": true,
    "editable": true,
    "scrolled": false
   },
   "outputs": [
    {
     "name": "stdout",
     "output_type": "stream",
     "text": [
      "New cartoframe created. Table on CARTO is called `awesome_new_table_20000_rowsx`\n"
     ]
    }
   ],
   "source": [
    "df.sync_carto(username=USERNAME,\n",
    "              api_key=APIKEY,\n",
    "              requested_tablename='awesome_new_table_20000_rows_tsmeeting',\n",
    "              createtable=True,\n",
    "              is_org_user=True, \n",
    "              latlng_cols=('lat', 'lon'))"
   ]
  },
  {
   "cell_type": "code",
   "execution_count": 8,
   "metadata": {
    "collapsed": false,
    "deletable": true,
    "editable": true,
    "scrolled": true
   },
   "outputs": [
    {
     "data": {
      "text/html": [
       "<div>\n",
       "<table border=\"1\" class=\"dataframe\">\n",
       "  <thead>\n",
       "    <tr style=\"text-align: right;\">\n",
       "      <th></th>\n",
       "      <th>ids</th>\n",
       "      <th>lat</th>\n",
       "      <th>lon</th>\n",
       "      <th>scores</th>\n",
       "      <th>the_geom</th>\n",
       "    </tr>\n",
       "    <tr>\n",
       "      <th>cartodb_id</th>\n",
       "      <th></th>\n",
       "      <th></th>\n",
       "      <th></th>\n",
       "      <th></th>\n",
       "      <th></th>\n",
       "    </tr>\n",
       "  </thead>\n",
       "  <tbody>\n",
       "    <tr>\n",
       "      <th>1</th>\n",
       "      <td>a</td>\n",
       "      <td>40.398669</td>\n",
       "      <td>-74.232594</td>\n",
       "      <td>0.646543</td>\n",
       "      <td>0101000020E6100000E57F0054817052C025E31EC84896...</td>\n",
       "    </tr>\n",
       "    <tr>\n",
       "      <th>2</th>\n",
       "      <td>b</td>\n",
       "      <td>41.174096</td>\n",
       "      <td>-73.757894</td>\n",
       "      <td>0.877553</td>\n",
       "      <td>0101000020E6100000ED97E808629152C0A23DD5F40434...</td>\n",
       "    </tr>\n",
       "    <tr>\n",
       "      <th>3</th>\n",
       "      <td>c</td>\n",
       "      <td>40.406401</td>\n",
       "      <td>-74.271609</td>\n",
       "      <td>0.277463</td>\n",
       "      <td>0101000020E61000009F0C8B30AA7152C039C91A32FF4B...</td>\n",
       "    </tr>\n",
       "    <tr>\n",
       "      <th>4</th>\n",
       "      <td>d</td>\n",
       "      <td>40.593725</td>\n",
       "      <td>-73.776013</td>\n",
       "      <td>0.691091</td>\n",
       "      <td>0101000020E6100000A5B669C5989452C0D1B5552D3A5F...</td>\n",
       "    </tr>\n",
       "    <tr>\n",
       "      <th>5</th>\n",
       "      <td>e</td>\n",
       "      <td>40.743963</td>\n",
       "      <td>-74.321824</td>\n",
       "      <td>0.245809</td>\n",
       "      <td>0101000020E610000003654450CA7352C0041283D6175F...</td>\n",
       "    </tr>\n",
       "  </tbody>\n",
       "</table>\n",
       "</div>"
      ],
      "text/plain": [
       "           ids        lat        lon    scores  \\\n",
       "cartodb_id                                       \n",
       "1            a  40.398669 -74.232594  0.646543   \n",
       "2            b  41.174096 -73.757894  0.877553   \n",
       "3            c  40.406401 -74.271609  0.277463   \n",
       "4            d  40.593725 -73.776013  0.691091   \n",
       "5            e  40.743963 -74.321824  0.245809   \n",
       "\n",
       "                                                     the_geom  \n",
       "cartodb_id                                                     \n",
       "1           0101000020E6100000E57F0054817052C025E31EC84896...  \n",
       "2           0101000020E6100000ED97E808629152C0A23DD5F40434...  \n",
       "3           0101000020E61000009F0C8B30AA7152C039C91A32FF4B...  \n",
       "4           0101000020E6100000A5B669C5989452C0D1B5552D3A5F...  \n",
       "5           0101000020E610000003654450CA7352C0041283D6175F...  "
      ]
     },
     "execution_count": 8,
     "metadata": {},
     "output_type": "execute_result"
    }
   ],
   "source": [
    "df.head()"
   ]
  },
  {
   "cell_type": "code",
   "execution_count": null,
   "metadata": {
    "collapsed": true
   },
   "outputs": [],
   "source": []
  }
 ],
 "metadata": {
  "kernelspec": {
   "display_name": "Python 3",
   "language": "python",
   "name": "python3"
  },
  "language_info": {
   "codemirror_mode": {
    "name": "ipython",
    "version": 3
   },
   "file_extension": ".py",
   "mimetype": "text/x-python",
   "name": "python",
   "nbconvert_exporter": "python",
   "pygments_lexer": "ipython3",
   "version": "3.6.0"
  }
 },
 "nbformat": 4,
 "nbformat_minor": 2
}
