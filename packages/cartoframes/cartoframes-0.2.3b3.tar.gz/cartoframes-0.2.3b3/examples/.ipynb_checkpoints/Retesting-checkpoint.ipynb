{
 "cells": [
  {
   "cell_type": "markdown",
   "metadata": {
    "deletable": true,
    "editable": true
   },
   "source": [
    "## cartoframes demo\n",
    "\n",
    "Workflow smoketest\n",
    "\n",
    "1. read table from carto\n",
    "2. add new column\n",
    "3. sync with carto\n",
    "4. drop newly added column\n",
    "5. sync with carto\n",
    "6. alter the values in a column\n",
    "7. sync with carto"
   ]
  },
  {
   "cell_type": "code",
   "execution_count": null,
   "metadata": {
    "collapsed": true,
    "deletable": true,
    "editable": true
   },
   "outputs": [],
   "source": [
    "# andye 2c545e0e8a952b62537515cfe31ed31db210cee8\n",
    "# eschbacher 05a458d3a45d1237699a4ee05297bb92accce3f4"
   ]
  },
  {
   "cell_type": "code",
   "execution_count": 1,
   "metadata": {
    "collapsed": false,
    "deletable": true,
    "editable": true,
    "scrolled": false
   },
   "outputs": [
    {
     "data": {
      "text/html": [
       "<div>\n",
       "<table border=\"1\" class=\"dataframe\">\n",
       "  <thead>\n",
       "    <tr style=\"text-align: right;\">\n",
       "      <th></th>\n",
       "      <th>geoid</th>\n",
       "      <th>high_school_diploma_2011_2015</th>\n",
       "      <th>median_income_2011_2015</th>\n",
       "      <th>poverty_2011_2015</th>\n",
       "      <th>the_geom</th>\n",
       "      <th>the_geom_webmercator</th>\n",
       "      <th>total_pop_2011_2015</th>\n",
       "    </tr>\n",
       "    <tr>\n",
       "      <th>cartodb_id</th>\n",
       "      <th></th>\n",
       "      <th></th>\n",
       "      <th></th>\n",
       "      <th></th>\n",
       "      <th></th>\n",
       "      <th></th>\n",
       "      <th></th>\n",
       "    </tr>\n",
       "  </thead>\n",
       "  <tbody>\n",
       "    <tr>\n",
       "      <th>20</th>\n",
       "      <td>360470610031</td>\n",
       "      <td>0.229163</td>\n",
       "      <td>32144.0</td>\n",
       "      <td>0.264551</td>\n",
       "      <td>0106000020E6100000010000000103000000010000000E...</td>\n",
       "      <td>0103000020110F0000010000000E0000004666302F3668...</td>\n",
       "      <td>3582.087451</td>\n",
       "    </tr>\n",
       "    <tr>\n",
       "      <th>3</th>\n",
       "      <td>360470108003</td>\n",
       "      <td>0.169577</td>\n",
       "      <td>45509.0</td>\n",
       "      <td>0.292052</td>\n",
       "      <td>0106000020E61000000100000001030000000100000009...</td>\n",
       "      <td>0103000020110F000001000000090000009188EE63476D...</td>\n",
       "      <td>10080.381952</td>\n",
       "    </tr>\n",
       "    <tr>\n",
       "      <th>4</th>\n",
       "      <td>360470110001</td>\n",
       "      <td>0.169577</td>\n",
       "      <td>45509.0</td>\n",
       "      <td>0.292052</td>\n",
       "      <td>0106000020E6100000010000000103000000010000000E...</td>\n",
       "      <td>0103000020110F0000010000000E000000F2591B1A0A6C...</td>\n",
       "      <td>10080.381952</td>\n",
       "    </tr>\n",
       "    <tr>\n",
       "      <th>5</th>\n",
       "      <td>360470122001</td>\n",
       "      <td>0.169577</td>\n",
       "      <td>45509.0</td>\n",
       "      <td>0.292052</td>\n",
       "      <td>0106000020E61000000100000001030000000100000007...</td>\n",
       "      <td>0103000020110F00000100000007000000CF96F742936E...</td>\n",
       "      <td>10080.381952</td>\n",
       "    </tr>\n",
       "    <tr>\n",
       "      <th>11</th>\n",
       "      <td>360470317022</td>\n",
       "      <td>0.211106</td>\n",
       "      <td>42796.0</td>\n",
       "      <td>0.258617</td>\n",
       "      <td>0106000020E61000000100000001030000000100000009...</td>\n",
       "      <td>0103000020110F000001000000090000009E255B817D67...</td>\n",
       "      <td>21798.755477</td>\n",
       "    </tr>\n",
       "    <tr>\n",
       "      <th>17</th>\n",
       "      <td>360470534004</td>\n",
       "      <td>0.223679</td>\n",
       "      <td>45316.0</td>\n",
       "      <td>0.215440</td>\n",
       "      <td>0106000020E6100000010000000103000000010000000B...</td>\n",
       "      <td>0103000020110F0000010000000B0000000F584459C968...</td>\n",
       "      <td>21409.565659</td>\n",
       "    </tr>\n",
       "    <tr>\n",
       "      <th>18</th>\n",
       "      <td>360470548002</td>\n",
       "      <td>0.253035</td>\n",
       "      <td>51853.0</td>\n",
       "      <td>0.164311</td>\n",
       "      <td>0106000020E6100000010000000103000000010000000D...</td>\n",
       "      <td>0103000020110F0000010000000D0000005C763C682B67...</td>\n",
       "      <td>11759.118118</td>\n",
       "    </tr>\n",
       "    <tr>\n",
       "      <th>19</th>\n",
       "      <td>360470596001</td>\n",
       "      <td>0.253035</td>\n",
       "      <td>51853.0</td>\n",
       "      <td>0.164311</td>\n",
       "      <td>0106000020E61000000100000001030000000100000009...</td>\n",
       "      <td>0103000020110F000001000000090000005E2CE0CB0266...</td>\n",
       "      <td>11759.118118</td>\n",
       "    </tr>\n",
       "    <tr>\n",
       "      <th>16</th>\n",
       "      <td>360470534003</td>\n",
       "      <td>0.223679</td>\n",
       "      <td>45316.0</td>\n",
       "      <td>0.215440</td>\n",
       "      <td>0106000020E61000000100000001030000000100000008...</td>\n",
       "      <td>0103000020110F000001000000080000008ECED184AD68...</td>\n",
       "      <td>21409.565659</td>\n",
       "    </tr>\n",
       "    <tr>\n",
       "      <th>7</th>\n",
       "      <td>360470169003</td>\n",
       "      <td>0.169577</td>\n",
       "      <td>45509.0</td>\n",
       "      <td>0.292052</td>\n",
       "      <td>0106000020E6100000010000000103000000010000000C...</td>\n",
       "      <td>0103000020110F0000010000000C0000008FF54811C06A...</td>\n",
       "      <td>10080.381952</td>\n",
       "    </tr>\n",
       "  </tbody>\n",
       "</table>\n",
       "</div>"
      ],
      "text/plain": [
       "                   geoid  high_school_diploma_2011_2015  \\\n",
       "cartodb_id                                                \n",
       "20          360470610031                       0.229163   \n",
       "3           360470108003                       0.169577   \n",
       "4           360470110001                       0.169577   \n",
       "5           360470122001                       0.169577   \n",
       "11          360470317022                       0.211106   \n",
       "17          360470534004                       0.223679   \n",
       "18          360470548002                       0.253035   \n",
       "19          360470596001                       0.253035   \n",
       "16          360470534003                       0.223679   \n",
       "7           360470169003                       0.169577   \n",
       "\n",
       "            median_income_2011_2015  poverty_2011_2015  \\\n",
       "cartodb_id                                               \n",
       "20                          32144.0           0.264551   \n",
       "3                           45509.0           0.292052   \n",
       "4                           45509.0           0.292052   \n",
       "5                           45509.0           0.292052   \n",
       "11                          42796.0           0.258617   \n",
       "17                          45316.0           0.215440   \n",
       "18                          51853.0           0.164311   \n",
       "19                          51853.0           0.164311   \n",
       "16                          45316.0           0.215440   \n",
       "7                           45509.0           0.292052   \n",
       "\n",
       "                                                     the_geom  \\\n",
       "cartodb_id                                                      \n",
       "20          0106000020E6100000010000000103000000010000000E...   \n",
       "3           0106000020E61000000100000001030000000100000009...   \n",
       "4           0106000020E6100000010000000103000000010000000E...   \n",
       "5           0106000020E61000000100000001030000000100000007...   \n",
       "11          0106000020E61000000100000001030000000100000009...   \n",
       "17          0106000020E6100000010000000103000000010000000B...   \n",
       "18          0106000020E6100000010000000103000000010000000D...   \n",
       "19          0106000020E61000000100000001030000000100000009...   \n",
       "16          0106000020E61000000100000001030000000100000008...   \n",
       "7           0106000020E6100000010000000103000000010000000C...   \n",
       "\n",
       "                                         the_geom_webmercator  \\\n",
       "cartodb_id                                                      \n",
       "20          0103000020110F0000010000000E0000004666302F3668...   \n",
       "3           0103000020110F000001000000090000009188EE63476D...   \n",
       "4           0103000020110F0000010000000E000000F2591B1A0A6C...   \n",
       "5           0103000020110F00000100000007000000CF96F742936E...   \n",
       "11          0103000020110F000001000000090000009E255B817D67...   \n",
       "17          0103000020110F0000010000000B0000000F584459C968...   \n",
       "18          0103000020110F0000010000000D0000005C763C682B67...   \n",
       "19          0103000020110F000001000000090000005E2CE0CB0266...   \n",
       "16          0103000020110F000001000000080000008ECED184AD68...   \n",
       "7           0103000020110F0000010000000C0000008FF54811C06A...   \n",
       "\n",
       "            total_pop_2011_2015  \n",
       "cartodb_id                       \n",
       "20                  3582.087451  \n",
       "3                  10080.381952  \n",
       "4                  10080.381952  \n",
       "5                  10080.381952  \n",
       "11                 21798.755477  \n",
       "17                 21409.565659  \n",
       "18                 11759.118118  \n",
       "19                 11759.118118  \n",
       "16                 21409.565659  \n",
       "7                  10080.381952  "
      ]
     },
     "execution_count": 1,
     "metadata": {},
     "output_type": "execute_result"
    }
   ],
   "source": [
    "import pandas as pd\n",
    "import cartoframes\n",
    "USERNAME = 'eschbacher'\n",
    "APIKEY = '05a458d3a45d1237699a4ee05297bb92accce3f4'\n",
    "df = pd.read_carto(username=USERNAME,\n",
    "                   api_key=APIKEY,\n",
    "                   tablename='brooklyn_poverty_census_tracts')\n",
    "df.head(10)"
   ]
  },
  {
   "cell_type": "code",
   "execution_count": 2,
   "metadata": {
    "collapsed": false,
    "deletable": true,
    "editable": true,
    "scrolled": true
   },
   "outputs": [
    {
     "name": "stdout",
     "output_type": "stream",
     "text": [
      "Create new column foo\n",
      "\n",
      "        ALTER TABLE \"brooklyn_poverty_census_tracts\"\n",
      "        ADD COLUMN \"foo\" int;\n",
      "    \n",
      "{'rows': [], 'time': 0.007, 'fields': {}, 'total_rows': 0}\n",
      "UPDATE \"brooklyn_poverty_census_tracts\"\n",
      "        SET \"foo\" = 2\n",
      "        WHERE \"cartodb_id\" = 20;\n",
      "UPDATE \"brooklyn_poverty_census_tracts\"\n",
      "        SET \"foo\" = 2\n",
      "        WHERE \"cartodb_id\" = 3;\n",
      "UPDATE \"brooklyn_poverty_census_tracts\"\n",
      "        SET \"foo\" = 2\n",
      "        WHERE \"cartodb_id\" = 4;\n",
      "UPDATE \"brooklyn_poverty_census_tracts\"\n",
      "        SET \"foo\" = 2\n",
      "        WHERE \"cartodb_id\" = 5;\n",
      "UPDATE \"brooklyn_poverty_census_tracts\"\n",
      "        SET \"foo\" = 2\n",
      "        WHERE \"cartodb_id\" = 11;\n",
      "UPDATE \"brooklyn_poverty_census_tracts\"\n",
      "        SET \"foo\" = 2\n",
      "        WHERE \"cartodb_id\" = 17;\n",
      "UPDATE \"brooklyn_poverty_census_tracts\"\n",
      "        SET \"foo\" = 2\n",
      "        WHERE \"cartodb_id\" = 18;\n",
      "UPDATE \"brooklyn_poverty_census_tracts\"\n",
      "        SET \"foo\" = 2\n",
      "        WHERE \"cartodb_id\" = 19;\n",
      "UPDATE \"brooklyn_poverty_census_tracts\"\n",
      "        SET \"foo\" = 2\n",
      "        WHERE \"cartodb_id\" = 16;\n",
      "UPDATE \"brooklyn_poverty_census_tracts\"\n",
      "        SET \"foo\" = 2\n",
      "        WHERE \"cartodb_id\" = 7;\n",
      "UPDATE \"brooklyn_poverty_census_tracts\"\n",
      "        SET \"foo\" = 2\n",
      "        WHERE \"cartodb_id\" = 6;\n",
      "UPDATE \"brooklyn_poverty_census_tracts\"\n",
      "        SET \"foo\" = 2\n",
      "        WHERE \"cartodb_id\" = 8;\n",
      "UPDATE \"brooklyn_poverty_census_tracts\"\n",
      "        SET \"foo\" = 2\n",
      "        WHERE \"cartodb_id\" = 9;\n",
      "UPDATE \"brooklyn_poverty_census_tracts\"\n",
      "        SET \"foo\" = 2\n",
      "        WHERE \"cartodb_id\" = 10;\n",
      "UPDATE \"brooklyn_poverty_census_tracts\"\n",
      "        SET \"foo\" = 2\n",
      "        WHERE \"cartodb_id\" = 12;\n",
      "UPDATE \"brooklyn_poverty_census_tracts\"\n",
      "        SET \"foo\" = 2\n",
      "        WHERE \"cartodb_id\" = 14;\n",
      "UPDATE \"brooklyn_poverty_census_tracts\"\n",
      "        SET \"foo\" = 2\n",
      "        WHERE \"cartodb_id\" = 15;\n",
      "UPDATE \"brooklyn_poverty_census_tracts\"\n",
      "        SET \"foo\" = 2\n",
      "        WHERE \"cartodb_id\" = 13;\n",
      "UPDATE \"brooklyn_poverty_census_tracts\"\n",
      "        SET \"foo\" = 2\n",
      "        WHERE \"cartodb_id\" = 2;\n",
      "UPDATE \"brooklyn_poverty_census_tracts\"\n",
      "        SET \"foo\" = 2\n",
      "        WHERE \"cartodb_id\" = 1;\n",
      "Num chars in query: 1890\n",
      "Sync completed successfully\n"
     ]
    }
   ],
   "source": [
    "df['foo'] = 2\n",
    "df.sync_carto(debug=True)"
   ]
  },
  {
   "cell_type": "code",
   "execution_count": 3,
   "metadata": {
    "collapsed": false,
    "deletable": true,
    "editable": true,
    "scrolled": false
   },
   "outputs": [
    {
     "data": {
      "text/html": [
       "<div>\n",
       "<table border=\"1\" class=\"dataframe\">\n",
       "  <thead>\n",
       "    <tr style=\"text-align: right;\">\n",
       "      <th></th>\n",
       "      <th>numer_aggregate</th>\n",
       "      <th>numer_description</th>\n",
       "      <th>numer_extra</th>\n",
       "      <th>numer_id</th>\n",
       "      <th>numer_license</th>\n",
       "      <th>numer_name</th>\n",
       "      <th>numer_source</th>\n",
       "      <th>numer_tags</th>\n",
       "      <th>numer_type</th>\n",
       "      <th>numer_weight</th>\n",
       "      <th>valid_denom</th>\n",
       "      <th>valid_geom</th>\n",
       "      <th>valid_timespan</th>\n",
       "    </tr>\n",
       "  </thead>\n",
       "  <tbody>\n",
       "    <tr>\n",
       "      <th>0</th>\n",
       "      <td>median</td>\n",
       "      <td>None</td>\n",
       "      <td>None</td>\n",
       "      <td>us.zillow.Sfr_MedianRentalPricePerSqft</td>\n",
       "      <td>None</td>\n",
       "      <td>Median rental price per square foot for Single...</td>\n",
       "      <td>None</td>\n",
       "      <td>{'unit/tags.money': 'Money', 'subsection/tags....</td>\n",
       "      <td>Numeric</td>\n",
       "      <td>1</td>\n",
       "      <td>False</td>\n",
       "      <td>False</td>\n",
       "      <td>False</td>\n",
       "    </tr>\n",
       "    <tr>\n",
       "      <th>1</th>\n",
       "      <td>average</td>\n",
       "      <td>None</td>\n",
       "      <td>None</td>\n",
       "      <td>us.epa.enviroatlas.avgprecip_meanprecip</td>\n",
       "      <td>None</td>\n",
       "      <td>Average annual precipitation</td>\n",
       "      <td>None</td>\n",
       "      <td>{'unit/tags.inches': 'Inches', 'section/tags.u...</td>\n",
       "      <td>Numeric</td>\n",
       "      <td>5</td>\n",
       "      <td>False</td>\n",
       "      <td>False</td>\n",
       "      <td>False</td>\n",
       "    </tr>\n",
       "    <tr>\n",
       "      <th>2</th>\n",
       "      <td>None</td>\n",
       "      <td>None</td>\n",
       "      <td>None</td>\n",
       "      <td>us.epa.enviroatlas.landcover_pagp</td>\n",
       "      <td>None</td>\n",
       "      <td>Agricultural pasture land cover</td>\n",
       "      <td>None</td>\n",
       "      <td>{'unit/tags.ratio': 'Ratio', 'section/tags.uni...</td>\n",
       "      <td>Numeric</td>\n",
       "      <td>5</td>\n",
       "      <td>False</td>\n",
       "      <td>False</td>\n",
       "      <td>False</td>\n",
       "    </tr>\n",
       "    <tr>\n",
       "      <th>3</th>\n",
       "      <td>None</td>\n",
       "      <td>None</td>\n",
       "      <td>None</td>\n",
       "      <td>us.epa.enviroatlas.landcover_pagt</td>\n",
       "      <td>None</td>\n",
       "      <td>Agricultural/cultivated land cover</td>\n",
       "      <td>None</td>\n",
       "      <td>{'unit/tags.ratio': 'Ratio', 'section/tags.uni...</td>\n",
       "      <td>Numeric</td>\n",
       "      <td>5</td>\n",
       "      <td>False</td>\n",
       "      <td>False</td>\n",
       "      <td>False</td>\n",
       "    </tr>\n",
       "    <tr>\n",
       "      <th>4</th>\n",
       "      <td>None</td>\n",
       "      <td>None</td>\n",
       "      <td>None</td>\n",
       "      <td>us.epa.enviroatlas.landcover_pfor</td>\n",
       "      <td>None</td>\n",
       "      <td>Forest land cover</td>\n",
       "      <td>None</td>\n",
       "      <td>{'unit/tags.ratio': 'Ratio', 'section/tags.uni...</td>\n",
       "      <td>Numeric</td>\n",
       "      <td>5</td>\n",
       "      <td>False</td>\n",
       "      <td>False</td>\n",
       "      <td>False</td>\n",
       "    </tr>\n",
       "  </tbody>\n",
       "</table>\n",
       "</div>"
      ],
      "text/plain": [
       "  numer_aggregate numer_description numer_extra  \\\n",
       "0          median              None        None   \n",
       "1         average              None        None   \n",
       "2            None              None        None   \n",
       "3            None              None        None   \n",
       "4            None              None        None   \n",
       "\n",
       "                                  numer_id numer_license  \\\n",
       "0   us.zillow.Sfr_MedianRentalPricePerSqft          None   \n",
       "1  us.epa.enviroatlas.avgprecip_meanprecip          None   \n",
       "2        us.epa.enviroatlas.landcover_pagp          None   \n",
       "3        us.epa.enviroatlas.landcover_pagt          None   \n",
       "4        us.epa.enviroatlas.landcover_pfor          None   \n",
       "\n",
       "                                          numer_name numer_source  \\\n",
       "0  Median rental price per square foot for Single...         None   \n",
       "1                       Average annual precipitation         None   \n",
       "2                    Agricultural pasture land cover         None   \n",
       "3                 Agricultural/cultivated land cover         None   \n",
       "4                                  Forest land cover         None   \n",
       "\n",
       "                                          numer_tags numer_type numer_weight  \\\n",
       "0  {'unit/tags.money': 'Money', 'subsection/tags....    Numeric            1   \n",
       "1  {'unit/tags.inches': 'Inches', 'section/tags.u...    Numeric            5   \n",
       "2  {'unit/tags.ratio': 'Ratio', 'section/tags.uni...    Numeric            5   \n",
       "3  {'unit/tags.ratio': 'Ratio', 'section/tags.uni...    Numeric            5   \n",
       "4  {'unit/tags.ratio': 'Ratio', 'section/tags.uni...    Numeric            5   \n",
       "\n",
       "  valid_denom valid_geom valid_timespan  \n",
       "0       False      False          False  \n",
       "1       False      False          False  \n",
       "2       False      False          False  \n",
       "3       False      False          False  \n",
       "4       False      False          False  "
      ]
     },
     "execution_count": 3,
     "metadata": {},
     "output_type": "execute_result"
    }
   ],
   "source": [
    "df_do_numerators = df.read_data_obs('{section/tags.united_states}')\n",
    "df_do_numerators.head()"
   ]
  },
  {
   "cell_type": "code",
   "execution_count": 9,
   "metadata": {
    "collapsed": true,
    "deletable": true,
    "editable": true
   },
   "outputs": [],
   "source": [
    "del df['chocolate_preference']"
   ]
  },
  {
   "cell_type": "code",
   "execution_count": 4,
   "metadata": {
    "collapsed": false,
    "deletable": true,
    "editable": true
   },
   "outputs": [
    {
     "data": {
      "text/html": [
       "<div>\n",
       "<table border=\"1\" class=\"dataframe\">\n",
       "  <thead>\n",
       "    <tr style=\"text-align: right;\">\n",
       "      <th></th>\n",
       "      <th>geoid</th>\n",
       "      <th>high_school_diploma_2011_2015</th>\n",
       "      <th>median_income_2011_2015</th>\n",
       "      <th>poverty_2011_2015</th>\n",
       "      <th>the_geom</th>\n",
       "      <th>the_geom_webmercator</th>\n",
       "      <th>total_pop_2011_2015</th>\n",
       "      <th>foo</th>\n",
       "    </tr>\n",
       "    <tr>\n",
       "      <th>cartodb_id</th>\n",
       "      <th></th>\n",
       "      <th></th>\n",
       "      <th></th>\n",
       "      <th></th>\n",
       "      <th></th>\n",
       "      <th></th>\n",
       "      <th></th>\n",
       "      <th></th>\n",
       "    </tr>\n",
       "  </thead>\n",
       "  <tbody>\n",
       "    <tr>\n",
       "      <th>20</th>\n",
       "      <td>360470610031</td>\n",
       "      <td>0.229163</td>\n",
       "      <td>32144.0</td>\n",
       "      <td>0.264551</td>\n",
       "      <td>0106000020E6100000010000000103000000010000000E...</td>\n",
       "      <td>0103000020110F0000010000000E0000004666302F3668...</td>\n",
       "      <td>3582.087451</td>\n",
       "      <td>2</td>\n",
       "    </tr>\n",
       "    <tr>\n",
       "      <th>3</th>\n",
       "      <td>360470108003</td>\n",
       "      <td>0.169577</td>\n",
       "      <td>45509.0</td>\n",
       "      <td>0.292052</td>\n",
       "      <td>0106000020E61000000100000001030000000100000009...</td>\n",
       "      <td>0103000020110F000001000000090000009188EE63476D...</td>\n",
       "      <td>10080.381952</td>\n",
       "      <td>2</td>\n",
       "    </tr>\n",
       "    <tr>\n",
       "      <th>4</th>\n",
       "      <td>360470110001</td>\n",
       "      <td>0.169577</td>\n",
       "      <td>45509.0</td>\n",
       "      <td>0.292052</td>\n",
       "      <td>0106000020E6100000010000000103000000010000000E...</td>\n",
       "      <td>0103000020110F0000010000000E000000F2591B1A0A6C...</td>\n",
       "      <td>10080.381952</td>\n",
       "      <td>2</td>\n",
       "    </tr>\n",
       "    <tr>\n",
       "      <th>5</th>\n",
       "      <td>360470122001</td>\n",
       "      <td>0.169577</td>\n",
       "      <td>45509.0</td>\n",
       "      <td>0.292052</td>\n",
       "      <td>0106000020E61000000100000001030000000100000007...</td>\n",
       "      <td>0103000020110F00000100000007000000CF96F742936E...</td>\n",
       "      <td>10080.381952</td>\n",
       "      <td>2</td>\n",
       "    </tr>\n",
       "    <tr>\n",
       "      <th>11</th>\n",
       "      <td>360470317022</td>\n",
       "      <td>0.211106</td>\n",
       "      <td>42796.0</td>\n",
       "      <td>0.258617</td>\n",
       "      <td>0106000020E61000000100000001030000000100000009...</td>\n",
       "      <td>0103000020110F000001000000090000009E255B817D67...</td>\n",
       "      <td>21798.755477</td>\n",
       "      <td>2</td>\n",
       "    </tr>\n",
       "  </tbody>\n",
       "</table>\n",
       "</div>"
      ],
      "text/plain": [
       "                   geoid  high_school_diploma_2011_2015  \\\n",
       "cartodb_id                                                \n",
       "20          360470610031                       0.229163   \n",
       "3           360470108003                       0.169577   \n",
       "4           360470110001                       0.169577   \n",
       "5           360470122001                       0.169577   \n",
       "11          360470317022                       0.211106   \n",
       "\n",
       "            median_income_2011_2015  poverty_2011_2015  \\\n",
       "cartodb_id                                               \n",
       "20                          32144.0           0.264551   \n",
       "3                           45509.0           0.292052   \n",
       "4                           45509.0           0.292052   \n",
       "5                           45509.0           0.292052   \n",
       "11                          42796.0           0.258617   \n",
       "\n",
       "                                                     the_geom  \\\n",
       "cartodb_id                                                      \n",
       "20          0106000020E6100000010000000103000000010000000E...   \n",
       "3           0106000020E61000000100000001030000000100000009...   \n",
       "4           0106000020E6100000010000000103000000010000000E...   \n",
       "5           0106000020E61000000100000001030000000100000007...   \n",
       "11          0106000020E61000000100000001030000000100000009...   \n",
       "\n",
       "                                         the_geom_webmercator  \\\n",
       "cartodb_id                                                      \n",
       "20          0103000020110F0000010000000E0000004666302F3668...   \n",
       "3           0103000020110F000001000000090000009188EE63476D...   \n",
       "4           0103000020110F0000010000000E000000F2591B1A0A6C...   \n",
       "5           0103000020110F00000100000007000000CF96F742936E...   \n",
       "11          0103000020110F000001000000090000009E255B817D67...   \n",
       "\n",
       "            total_pop_2011_2015  foo  \n",
       "cartodb_id                            \n",
       "20                  3582.087451    2  \n",
       "3                  10080.381952    2  \n",
       "4                  10080.381952    2  \n",
       "5                  10080.381952    2  \n",
       "11                 21798.755477    2  "
      ]
     },
     "execution_count": 4,
     "metadata": {},
     "output_type": "execute_result"
    }
   ],
   "source": [
    "df.head()"
   ]
  },
  {
   "cell_type": "code",
   "execution_count": 5,
   "metadata": {
    "collapsed": false,
    "deletable": true,
    "editable": true
   },
   "outputs": [
    {
     "name": "stdout",
     "output_type": "stream",
     "text": [
      "1 of 0.6666666666666666\n",
      "Num chars in batch: 3341\n",
      "INSERT INTO \"brooklyn_poverty_census_tracts\"(\"cartodb_id\", \"foo\") VALUES (20, 10) ON CONFLICT (\"cartodb_id\") DO UPDATE SET \"foo\" = 10 WHERE EXCLUDED.\"cartodb_id\" = 20;\n",
      "INSERT INTO \"brooklyn_poverty_census_tracts\"(\"cartodb_id\", \"foo\") VALUES (3, 10) ON CONFLICT (\"cartodb_id\") DO UPDATE SET \"foo\" = 10 WHERE EXCLUDED.\"cartodb_id\" = 3;\n",
      "INSERT INTO \"brooklyn_poverty_census_tracts\"(\"cartodb_id\", \"foo\") VALUES (4, 10) ON CONFLICT (\"cartodb_id\") DO UPDATE SET \"foo\" = 10 WHERE EXCLUDED.\"cartodb_id\" = 4;\n",
      "INSERT INTO \"brooklyn_poverty_census_tracts\"(\"cartodb_id\", \"foo\") VALUES (5, 10) ON CONFLICT (\"cartodb_id\") DO UPDATE SET \"foo\" = 10 WHERE EXCLUDED.\"cartodb_id\" = 5;\n",
      "INSERT INTO \"brooklyn_poverty_census_tracts\"(\"cartodb_id\", \"foo\") VALUES (11, 10) ON CONFLICT (\"cartodb_id\") DO UPDATE SET \"foo\" = 10 WHERE EXCLUDED.\"cartodb_id\" = 11;\n",
      "INSERT INTO \"brooklyn_poverty_census_tracts\"(\"cartodb_id\", \"foo\") VALUES (17, 10) ON CONFLICT (\"cartodb_id\") DO UPDATE SET \"foo\" = 10 WHERE EXCLUDED.\"cartodb_id\" = 17;\n",
      "INSERT INTO \"brooklyn_poverty_census_tracts\"(\"cartodb_id\", \"foo\") VALUES (18, 10) ON CONFLICT (\"cartodb_id\") DO UPDATE SET \"foo\" = 10 WHERE EXCLUDED.\"cartodb_id\" = 18;\n",
      "INSERT INTO \"brooklyn_poverty_census_tracts\"(\"cartodb_id\", \"foo\") VALUES (19, 10) ON CONFLICT (\"cartodb_id\") DO UPDATE SET \"foo\" = 10 WHERE EXCLUDED.\"cartodb_id\" = 19;\n",
      "INSERT INTO \"brooklyn_poverty_census_tracts\"(\"cartodb_id\", \"foo\") VALUES (16, 10) ON CONFLICT (\"cartodb_id\") DO UPDATE SET \"foo\" = 10 WHERE EXCLUDED.\"cartodb_id\" = 16;\n",
      "INSERT INTO \"brooklyn_poverty_census_tracts\"(\"cartodb_id\", \"foo\") VALUES (7, 10) ON CONFLICT (\"cartodb_id\") DO UPDATE SET \"foo\" = 10 WHERE EXCLUDED.\"cartodb_id\" = 7;\n",
      "INSERT INTO \"brooklyn_poverty_census_tracts\"(\"cartodb_id\", \"foo\") VALUES (6, 10) ON CONFLICT (\"cartodb_id\") DO UPDATE SET \"foo\" = 10 WHERE EXCLUDED.\"cartodb_id\" = 6;\n",
      "INSERT INTO \"brooklyn_poverty_census_tracts\"(\"cartodb_id\", \"foo\") VALUES (8, 10) ON CONFLICT (\"cartodb_id\") DO UPDATE SET \"foo\" = 10 WHERE EXCLUDED.\"cartodb_id\" = 8;\n",
      "INSERT INTO \"brooklyn_poverty_census_tracts\"(\"cartodb_id\", \"foo\") VALUES (9, 10) ON CONFLICT (\"cartodb_id\") DO UPDATE SET \"foo\" = 10 WHERE EXCLUDED.\"cartodb_id\" = 9;\n",
      "INSERT INTO \"brooklyn_poverty_census_tracts\"(\"cartodb_id\", \"foo\") VALUES (10, 10) ON CONFLICT (\"cartodb_id\") DO UPDATE SET \"foo\" = 10 WHERE EXCLUDED.\"cartodb_id\" = 10;\n",
      "INSERT INTO \"brooklyn_poverty_census_tracts\"(\"cartodb_id\", \"foo\") VALUES (12, 10) ON CONFLICT (\"cartodb_id\") DO UPDATE SET \"foo\" = 10 WHERE EXCLUDED.\"cartodb_id\" = 12;\n",
      "INSERT INTO \"brooklyn_poverty_census_tracts\"(\"cartodb_id\", \"foo\") VALUES (14, 10) ON CONFLICT (\"cartodb_id\") DO UPDATE SET \"foo\" = 10 WHERE EXCLUDED.\"cartodb_id\" = 14;\n",
      "INSERT INTO \"brooklyn_poverty_census_tracts\"(\"cartodb_id\", \"foo\") VALUES (15, 10) ON CONFLICT (\"cartodb_id\") DO UPDATE SET \"foo\" = 10 WHERE EXCLUDED.\"cartodb_id\" = 15;\n",
      "INSERT INTO \"brooklyn_poverty_census_tracts\"(\"cartodb_id\", \"foo\") VALUES (13, 10) ON CONFLICT (\"cartodb_id\") DO UPDATE SET \"foo\" = 10 WHERE EXCLUDED.\"cartodb_id\" = 13;\n",
      "INSERT INTO \"brooklyn_poverty_census_tracts\"(\"cartodb_id\", \"foo\") VALUES (2, 10) ON CONFLICT (\"cartodb_id\") DO UPDATE SET \"foo\" = 10 WHERE EXCLUDED.\"cartodb_id\" = 2;\n",
      "INSERT INTO \"brooklyn_poverty_census_tracts\"(\"cartodb_id\", \"foo\") VALUES (1, 10) ON CONFLICT (\"cartodb_id\") DO UPDATE SET \"foo\" = 10 WHERE EXCLUDED.\"cartodb_id\" = 1;\n",
      "{'rows': [], 'time': 8.02, 'fields': {}, 'total_rows': 1}\n",
      "Sync completed successfully\n"
     ]
    }
   ],
   "source": [
    "df['foo'] = 10\n",
    "df.sync_carto(debug=True)"
   ]
  },
  {
   "cell_type": "code",
   "execution_count": 6,
   "metadata": {
    "collapsed": false,
    "deletable": true,
    "editable": true
   },
   "outputs": [
    {
     "data": {
      "text/html": [
       "<iframe src=\"/files/cartoframes.html?username=eschbacher&tablename=brooklyn_poverty_census_tracts&geomtype=polygon&stylecol=median_income_2011_2015&datatype=float64&q=%257B%2522user_name%2522%253A%2520%2522eschbacher%2522%252C%250A%2520%2520%2520%2520%2520%2520%2520%2520%2520%2520%2520%2520%2520%2520%2520%2520%2520%2520%2520%2520%2522type%2522%253A%2520%2522cartodb%2522%252C%250A%2520%2520%2520%2520%2520%2520%2520%2520%2520%2520%2520%2520%2520%2520%2520%2520%2520%2520%2520%2520%2522sublayers%2522%253A%2520%255B%257B%250A%2520%2520%2520%2520%2520%2520%2520%2520%2520%2520%2520%2520%2520%2520%2520%2520%2520%2520%2520%2520%2520%2520%2522type%2522%253A%2520%2522http%2522%252C%250A%2520%2520%2520%2520%2520%2520%2520%2520%2520%2520%2520%2520%2520%2520%2520%2520%2520%2520%2520%2520%2520%2520%2522urlTemplate%2522%253A%2520%2522http%253A%2F%2F%257Bs%257D.basemaps.cartocdn.com%2Fdark_nolabels%2F%257Bz%257D%2F%257Bx%257D%2F%257By%257D.png%2522%250A%2520%2520%2520%2520%2520%2520%2520%2520%2520%2520%2520%2520%2520%2520%2520%2520%2520%2520%2520%2520%2520%2520%257D%252C%2520%257B%250A%2520%2520%2520%2520%2520%2520%2520%2520%2520%2520%2520%2520%2520%2520%2520%2520%2520%2520%2520%2520%2520%2520%2522sql%2522%253A%2520%2522select%2520%252A%2520from%2520brooklyn_poverty_census_tracts%2522%252C%250A%2520%2520%2520%2520%2520%2520%2520%2520%2520%2520%2520%2520%2520%2520%2520%2520%2520%2520%2520%2520%2520%2520%2522cartocss%2522%253A%2520%2522%2520%2520%2520%2520%2520%2520%2520%2520%2520%2520%2520%2520%2523layer%2520%257B%2520%2520%2520%2520%2520%2520%2520%2520%2520%2520%2520%2520%2520%2520polygon-fill%253A%2520ramp%2528%255Bmedian_income_2011_2015%255D%252C%2520cartocolor%2528RedOr%2529%252C%2520quantiles%2528%2529%2529%253B%2520%2520%2520%2520%2520%2520%2520%2520%2520%2520%2520%2520%2520%2520line-width%253A%25200.5%253B%2520%2520%2520%2520%2520%2520%2520%2520%2520%2520%2520%2520%2520%2520line-color%253A%2520%2523FFF%253B%2520%2520%2520%2520%2520%2520%2520%2520%2520%2520%2520%2520%2520%2520line-opacity%253A%25200.5%253B%2520%2520%2520%2520%2520%2520%2520%2520%2520%2520%2520%2520%257D%2520%2520%2520%2520%2520%2520%2520%2520%2522%250A%2520%2520%2520%2520%2520%2520%2520%2520%2520%2520%2520%2520%2520%2520%2520%2520%2520%2520%2520%2520%2520%2520%257D%255D%252C%250A%2520%2520%2520%2520%2520%2520%2520%2520%2520%2520%2520%2520%2520%2520%2520%2520%2520%2520%2520%2520%2520%2520%2522subdomains%2522%253A%2520%255B%2520%2522a%2522%252C%2520%2522b%2522%252C%2520%2522c%2522%2520%255D%250A%2520%2520%2520%2520%2520%2520%2520%2520%2520%2520%2520%2520%2520%2520%2520%2520%2520%2520%2520%2520%2520%2520%257D\" width=700 height=350></iframe>"
      ],
      "text/plain": [
       "<IPython.core.display.HTML object>"
      ]
     },
     "execution_count": 6,
     "metadata": {},
     "output_type": "execute_result"
    }
   ],
   "source": [
    "df.carto_map(stylecol='median_income_2011_2015')"
   ]
  },
  {
   "cell_type": "code",
   "execution_count": 12,
   "metadata": {
    "collapsed": true,
    "deletable": true,
    "editable": true
   },
   "outputs": [],
   "source": [
    "df['chocolate_likes'] = 10 - df['likes_jellybeans']"
   ]
  },
  {
   "cell_type": "code",
   "execution_count": 13,
   "metadata": {
    "collapsed": false,
    "deletable": true,
    "editable": true
   },
   "outputs": [
    {
     "data": {
      "text/html": [
       "<div>\n",
       "<table border=\"1\" class=\"dataframe\">\n",
       "  <thead>\n",
       "    <tr style=\"text-align: right;\">\n",
       "      <th></th>\n",
       "      <th>admin1</th>\n",
       "      <th>city</th>\n",
       "      <th>country</th>\n",
       "      <th>likes_jellybeans</th>\n",
       "      <th>name</th>\n",
       "      <th>the_geom</th>\n",
       "      <th>the_geom_webmercator</th>\n",
       "      <th>chocolate_likes</th>\n",
       "    </tr>\n",
       "    <tr>\n",
       "      <th>cartodb_id</th>\n",
       "      <th></th>\n",
       "      <th></th>\n",
       "      <th></th>\n",
       "      <th></th>\n",
       "      <th></th>\n",
       "      <th></th>\n",
       "      <th></th>\n",
       "      <th></th>\n",
       "    </tr>\n",
       "  </thead>\n",
       "  <tbody>\n",
       "    <tr>\n",
       "      <th>1</th>\n",
       "      <td>Missouri</td>\n",
       "      <td>Kansas City</td>\n",
       "      <td>United States</td>\n",
       "      <td>6.247984</td>\n",
       "      <td>Andy</td>\n",
       "      <td>0101000020E6100000CEC3094CA7A257C0BB7F2C448786...</td>\n",
       "      <td>0101000020110F000090128469D21264C17559CEFC240A...</td>\n",
       "      <td>3.752016</td>\n",
       "    </tr>\n",
       "    <tr>\n",
       "      <th>2</th>\n",
       "      <td>California</td>\n",
       "      <td>Livermore</td>\n",
       "      <td>United States</td>\n",
       "      <td>5.530420</td>\n",
       "      <td>Mamata</td>\n",
       "      <td>0101000020E6100000BD6DA6423C725EC074B515FBCBD6...</td>\n",
       "      <td>0101000020110F0000C8EC7A85A5DB69C147BB58DAC84B...</td>\n",
       "      <td>4.469580</td>\n",
       "    </tr>\n",
       "    <tr>\n",
       "      <th>5</th>\n",
       "      <td>Massassachusetts</td>\n",
       "      <td>Boston</td>\n",
       "      <td>United States</td>\n",
       "      <td>4.228290</td>\n",
       "      <td>Michelle</td>\n",
       "      <td>0101000020E6100000821ABE8575C251C003ECA353572C...</td>\n",
       "      <td>0101000020110F000042B8CE449E2A5EC16AEED633D5E2...</td>\n",
       "      <td>5.771710</td>\n",
       "    </tr>\n",
       "    <tr>\n",
       "      <th>6</th>\n",
       "      <td>Gujarat</td>\n",
       "      <td>Vadodara</td>\n",
       "      <td>India</td>\n",
       "      <td>9.667853</td>\n",
       "      <td>Mehak</td>\n",
       "      <td>0101000020E6100000C39CA04D0E4C5240BAF42F49654E...</td>\n",
       "      <td>0101000020110F000030AE841A57145F41F253E60B3671...</td>\n",
       "      <td>0.332147</td>\n",
       "    </tr>\n",
       "    <tr>\n",
       "      <th>3</th>\n",
       "      <td>Scotland</td>\n",
       "      <td>Edinburgh</td>\n",
       "      <td>United Kingdom</td>\n",
       "      <td>8.042204</td>\n",
       "      <td>Stuart</td>\n",
       "      <td>0101000020E6100000AF5C6F9BA9F009C088F6B182DFF8...</td>\n",
       "      <td>0101000020110F0000BFCE92B1EA0716C113C119E172CA...</td>\n",
       "      <td>1.957796</td>\n",
       "    </tr>\n",
       "  </tbody>\n",
       "</table>\n",
       "</div>"
      ],
      "text/plain": [
       "                      admin1         city         country  likes_jellybeans  \\\n",
       "cartodb_id                                                                    \n",
       "1                   Missouri  Kansas City   United States          6.247984   \n",
       "2                 California    Livermore   United States          5.530420   \n",
       "5           Massassachusetts       Boston   United States          4.228290   \n",
       "6                    Gujarat     Vadodara           India          9.667853   \n",
       "3                   Scotland    Edinburgh  United Kingdom          8.042204   \n",
       "\n",
       "                name                                           the_geom  \\\n",
       "cartodb_id                                                                \n",
       "1               Andy  0101000020E6100000CEC3094CA7A257C0BB7F2C448786...   \n",
       "2             Mamata  0101000020E6100000BD6DA6423C725EC074B515FBCBD6...   \n",
       "5           Michelle  0101000020E6100000821ABE8575C251C003ECA353572C...   \n",
       "6              Mehak  0101000020E6100000C39CA04D0E4C5240BAF42F49654E...   \n",
       "3             Stuart  0101000020E6100000AF5C6F9BA9F009C088F6B182DFF8...   \n",
       "\n",
       "                                         the_geom_webmercator  chocolate_likes  \n",
       "cartodb_id                                                                      \n",
       "1           0101000020110F000090128469D21264C17559CEFC240A...         3.752016  \n",
       "2           0101000020110F0000C8EC7A85A5DB69C147BB58DAC84B...         4.469580  \n",
       "5           0101000020110F000042B8CE449E2A5EC16AEED633D5E2...         5.771710  \n",
       "6           0101000020110F000030AE841A57145F41F253E60B3671...         0.332147  \n",
       "3           0101000020110F0000BFCE92B1EA0716C113C119E172CA...         1.957796  "
      ]
     },
     "execution_count": 13,
     "metadata": {},
     "output_type": "execute_result"
    }
   ],
   "source": [
    "df.head()"
   ]
  },
  {
   "cell_type": "code",
   "execution_count": 14,
   "metadata": {
    "collapsed": false,
    "deletable": true,
    "editable": true
   },
   "outputs": [
    {
     "name": "stdout",
     "output_type": "stream",
     "text": [
      "Create new column chocolate_likes\n",
      "\n",
      "        ALTER TABLE \"research_team\"\n",
      "        ADD COLUMN \"chocolate_likes\" numeric;\n",
      "    \n",
      "{'rows': [], 'time': 0.387, 'fields': {}, 'total_rows': 0}\n",
      "(1, 3.7520161736756599)\n",
      "(2, 4.4695795979350796)\n",
      "(5, 5.7717096433043498)\n",
      "(6, 0.33214748837053953)\n",
      "(3, 1.9577955408021808)\n",
      "(4, 9.5800000000000001)\n",
      "UPDATE \"research_team\"\n",
      "        SET \"chocolate_likes\" = 3.75201617368\n",
      "        WHERE \"cartodb_id\" = 1;\n",
      "UPDATE \"research_team\"\n",
      "        SET \"chocolate_likes\" = 4.46957959794\n",
      "        WHERE \"cartodb_id\" = 2;\n",
      "UPDATE \"research_team\"\n",
      "        SET \"chocolate_likes\" = 5.7717096433\n",
      "        WHERE \"cartodb_id\" = 5;\n",
      "UPDATE \"research_team\"\n",
      "        SET \"chocolate_likes\" = 0.332147488371\n",
      "        WHERE \"cartodb_id\" = 6;\n",
      "UPDATE \"research_team\"\n",
      "        SET \"chocolate_likes\" = 1.9577955408\n",
      "        WHERE \"cartodb_id\" = 3;\n",
      "UPDATE \"research_team\"\n",
      "        SET \"chocolate_likes\" = 9.58\n",
      "        WHERE \"cartodb_id\" = 4;\n",
      "Num chars in query: 595\n",
      "Sync completed successfully\n"
     ]
    }
   ],
   "source": [
    "df.sync_carto(debug=True)"
   ]
  },
  {
   "cell_type": "code",
   "execution_count": 17,
   "metadata": {
    "collapsed": false,
    "deletable": true,
    "editable": true
   },
   "outputs": [
    {
     "name": "stdout",
     "output_type": "stream",
     "text": [
      "Create new column foo\n",
      "\n",
      "        ALTER TABLE \"research_team\"\n",
      "        ADD COLUMN \"foo\" int;\n",
      "    \n",
      "{'rows': [], 'time': 0.007, 'fields': {}, 'total_rows': 0}\n",
      "(1, 2)\n",
      "(2, 2)\n",
      "(5, 2)\n",
      "(6, 2)\n",
      "(3, 2)\n",
      "(4, 2)\n",
      "UPDATE \"research_team\"\n",
      "        SET \"foo\" = 2\n",
      "        WHERE \"cartodb_id\" = 1;\n",
      "UPDATE \"research_team\"\n",
      "        SET \"foo\" = 2\n",
      "        WHERE \"cartodb_id\" = 2;\n",
      "UPDATE \"research_team\"\n",
      "        SET \"foo\" = 2\n",
      "        WHERE \"cartodb_id\" = 5;\n",
      "UPDATE \"research_team\"\n",
      "        SET \"foo\" = 2\n",
      "        WHERE \"cartodb_id\" = 6;\n",
      "UPDATE \"research_team\"\n",
      "        SET \"foo\" = 2\n",
      "        WHERE \"cartodb_id\" = 3;\n",
      "UPDATE \"research_team\"\n",
      "        SET \"foo\" = 2\n",
      "        WHERE \"cartodb_id\" = 4;\n",
      "Num chars in query: 461\n",
      "Sync completed successfully\n"
     ]
    }
   ],
   "source": [
    "df['foo'] = 2\n",
    "df.sync_carto(debug=True)"
   ]
  },
  {
   "cell_type": "code",
   "execution_count": 16,
   "metadata": {
    "collapsed": false,
    "deletable": true,
    "editable": true
   },
   "outputs": [
    {
     "name": "stdout",
     "output_type": "stream",
     "text": [
      "1 of 0.2\n",
      "Num chars in batch: 1025\n",
      "INSERT INTO \"research_team\"(\"cartodb_id\", \"chocolate_likes\") VALUES (1, 5) ON CONFLICT (\"cartodb_id\") DO UPDATE SET \"chocolate_likes\" = 5 WHERE EXCLUDED.\"cartodb_id\" = 1;\n",
      "INSERT INTO \"research_team\"(\"cartodb_id\", \"chocolate_likes\") VALUES (2, 5) ON CONFLICT (\"cartodb_id\") DO UPDATE SET \"chocolate_likes\" = 5 WHERE EXCLUDED.\"cartodb_id\" = 2;\n",
      "INSERT INTO \"research_team\"(\"cartodb_id\", \"chocolate_likes\") VALUES (5, 5) ON CONFLICT (\"cartodb_id\") DO UPDATE SET \"chocolate_likes\" = 5 WHERE EXCLUDED.\"cartodb_id\" = 5;\n",
      "INSERT INTO \"research_team\"(\"cartodb_id\", \"chocolate_likes\") VALUES (6, 5) ON CONFLICT (\"cartodb_id\") DO UPDATE SET \"chocolate_likes\" = 5 WHERE EXCLUDED.\"cartodb_id\" = 6;\n",
      "INSERT INTO \"research_team\"(\"cartodb_id\", \"chocolate_likes\") VALUES (3, 5) ON CONFLICT (\"cartodb_id\") DO UPDATE SET \"chocolate_likes\" = 5 WHERE EXCLUDED.\"cartodb_id\" = 3;\n",
      "INSERT INTO \"research_team\"(\"cartodb_id\", \"chocolate_likes\") VALUES (4, 5) ON CONFLICT (\"cartodb_id\") DO UPDATE SET \"chocolate_likes\" = 5 WHERE EXCLUDED.\"cartodb_id\" = 4;\n",
      "{'rows': [], 'time': 1.709, 'fields': {}, 'total_rows': 1}\n",
      "Sync completed successfully\n"
     ]
    }
   ],
   "source": [
    "df['chocolate_likes'] = 5\n",
    "df.sync_carto(debug=True)"
   ]
  },
  {
   "cell_type": "code",
   "execution_count": 7,
   "metadata": {
    "collapsed": false,
    "deletable": true,
    "editable": true,
    "scrolled": false
   },
   "outputs": [
    {
     "name": "stdout",
     "output_type": "stream",
     "text": [
      "Create new column poverty_per_pop\n",
      "\n",
      "        ALTER TABLE \"brooklyn_poverty_census_tracts\"\n",
      "        ADD COLUMN \"poverty_per_pop\" numeric;\n",
      "    \n"
     ]
    },
    {
     "ename": "BadRequestException",
     "evalue": "['column \"poverty_per_pop\" of relation \"brooklyn_poverty_census_tracts\" already exists']",
     "output_type": "error",
     "traceback": [
      "\u001b[0;31m---------------------------------------------------------------------------\u001b[0m",
      "\u001b[0;31mBadRequestException\u001b[0m                       Traceback (most recent call last)",
      "\u001b[0;32m<ipython-input-7-d7913c0c92ed>\u001b[0m in \u001b[0;36m<module>\u001b[0;34m()\u001b[0m\n\u001b[1;32m      1\u001b[0m \u001b[0mdf\u001b[0m\u001b[0;34m[\u001b[0m\u001b[0;34m'poverty_per_pop'\u001b[0m\u001b[0;34m]\u001b[0m \u001b[0;34m=\u001b[0m \u001b[0mdf\u001b[0m\u001b[0;34m[\u001b[0m\u001b[0;34m'poverty_count'\u001b[0m\u001b[0;34m]\u001b[0m \u001b[0;34m/\u001b[0m \u001b[0mdf\u001b[0m\u001b[0;34m[\u001b[0m\u001b[0;34m'total_population'\u001b[0m\u001b[0;34m]\u001b[0m\u001b[0;34m\u001b[0m\u001b[0m\n\u001b[0;32m----> 2\u001b[0;31m \u001b[0mdf\u001b[0m\u001b[0;34m.\u001b[0m\u001b[0msync_carto\u001b[0m\u001b[0;34m(\u001b[0m\u001b[0mn_batch\u001b[0m\u001b[0;34m=\u001b[0m\u001b[0;36m40\u001b[0m\u001b[0;34m,\u001b[0m \u001b[0mdebug\u001b[0m\u001b[0;34m=\u001b[0m\u001b[0;32mTrue\u001b[0m\u001b[0;34m)\u001b[0m\u001b[0;34m\u001b[0m\u001b[0m\n\u001b[0m",
      "\u001b[0;32m/Users/peschbacher/Desktop/CartoDB/repos/cartoframes/cartoframes/core.py\u001b[0m in \u001b[0;36msync_carto\u001b[0;34m(self, createtable, auth_client, new_tablename, n_batch, debug)\u001b[0m\n\u001b[1;32m    175\u001b[0m         \u001b[0;32mfor\u001b[0m \u001b[0mcol\u001b[0m \u001b[0;32min\u001b[0m \u001b[0mnewcols\u001b[0m\u001b[0;34m:\u001b[0m\u001b[0;34m\u001b[0m\u001b[0m\n\u001b[1;32m    176\u001b[0m             utils.add_col(self, col, n_batch=n_batch,\n\u001b[0;32m--> 177\u001b[0;31m                                       debug=debug)\n\u001b[0m\u001b[1;32m    178\u001b[0m \u001b[0;34m\u001b[0m\u001b[0m\n\u001b[1;32m    179\u001b[0m     \u001b[0;31m# drop column if needed\u001b[0m\u001b[0;34m\u001b[0m\u001b[0;34m\u001b[0m\u001b[0m\n",
      "\u001b[0;32m/Users/peschbacher/Desktop/CartoDB/repos/cartoframes/cartoframes/utils.py\u001b[0m in \u001b[0;36madd_col\u001b[0;34m(self, colname, n_batch, debug)\u001b[0m\n\u001b[1;32m    246\u001b[0m \u001b[0;34m\u001b[0m\u001b[0m\n\u001b[1;32m    247\u001b[0m     \u001b[0;31m# add column\u001b[0m\u001b[0;34m\u001b[0m\u001b[0;34m\u001b[0m\u001b[0m\n\u001b[0;32m--> 248\u001b[0;31m     \u001b[0mresp\u001b[0m \u001b[0;34m=\u001b[0m \u001b[0mself\u001b[0m\u001b[0;34m.\u001b[0m\u001b[0mcarto_sql_client\u001b[0m\u001b[0;34m.\u001b[0m\u001b[0msend\u001b[0m\u001b[0;34m(\u001b[0m\u001b[0malter_query\u001b[0m\u001b[0;34m)\u001b[0m\u001b[0;34m\u001b[0m\u001b[0m\n\u001b[0m\u001b[1;32m    249\u001b[0m     \u001b[0;32mif\u001b[0m \u001b[0mdebug\u001b[0m\u001b[0;34m:\u001b[0m \u001b[0mprint\u001b[0m\u001b[0;34m(\u001b[0m\u001b[0mresp\u001b[0m\u001b[0;34m)\u001b[0m\u001b[0;34m\u001b[0m\u001b[0m\n\u001b[1;32m    250\u001b[0m \u001b[0;34m\u001b[0m\u001b[0m\n",
      "\u001b[0;32m/Users/peschbacher/Desktop/CartoDB/repos/cartoframes/venv/src/carto/carto/sql.py\u001b[0m in \u001b[0;36msend\u001b[0;34m(self, sql, parse_json, do_post, format)\u001b[0m\n\u001b[1;32m     38\u001b[0m             \u001b[0mresp\u001b[0m \u001b[0;34m=\u001b[0m \u001b[0mself\u001b[0m\u001b[0;34m.\u001b[0m\u001b[0mauth_client\u001b[0m\u001b[0;34m.\u001b[0m\u001b[0msend\u001b[0m\u001b[0;34m(\u001b[0m\u001b[0mself\u001b[0m\u001b[0;34m.\u001b[0m\u001b[0mapi_url\u001b[0m\u001b[0;34m,\u001b[0m \u001b[0;34m'POST'\u001b[0m\u001b[0;34m,\u001b[0m \u001b[0mdata\u001b[0m\u001b[0;34m=\u001b[0m\u001b[0mparams\u001b[0m\u001b[0;34m)\u001b[0m\u001b[0;34m\u001b[0m\u001b[0m\n\u001b[1;32m     39\u001b[0m \u001b[0;34m\u001b[0m\u001b[0m\n\u001b[0;32m---> 40\u001b[0;31m         \u001b[0;32mreturn\u001b[0m \u001b[0mself\u001b[0m\u001b[0;34m.\u001b[0m\u001b[0mauth_client\u001b[0m\u001b[0;34m.\u001b[0m\u001b[0mget_response_data\u001b[0m\u001b[0;34m(\u001b[0m\u001b[0mresp\u001b[0m\u001b[0;34m,\u001b[0m \u001b[0mparse_json\u001b[0m\u001b[0;34m)\u001b[0m\u001b[0;34m\u001b[0m\u001b[0m\n\u001b[0m\u001b[1;32m     41\u001b[0m \u001b[0;34m\u001b[0m\u001b[0m\n\u001b[1;32m     42\u001b[0m \u001b[0;34m\u001b[0m\u001b[0m\n",
      "\u001b[0;32m/Users/peschbacher/Desktop/CartoDB/repos/cartoframes/venv/lib/python3.6/site-packages/pyrestcli/auth.py\u001b[0m in \u001b[0;36mget_response_data\u001b[0;34m(self, response, parse_json)\u001b[0m\n\u001b[1;32m     48\u001b[0m             \u001b[0mresponse_json\u001b[0m \u001b[0;34m=\u001b[0m \u001b[0mresponse\u001b[0m\u001b[0;34m.\u001b[0m\u001b[0mjson\u001b[0m\u001b[0;34m(\u001b[0m\u001b[0;34m)\u001b[0m\u001b[0;34m\u001b[0m\u001b[0m\n\u001b[1;32m     49\u001b[0m             raise BadRequestException(response_json.get(\"error\", False) or response_json.get(\"errors\",\n\u001b[0;32m---> 50\u001b[0;31m                                                                                              _(\"Bad Request: {text}\").format(text=response.text)))\n\u001b[0m\u001b[1;32m     51\u001b[0m         \u001b[0;32melif\u001b[0m \u001b[0mresponse\u001b[0m\u001b[0;34m.\u001b[0m\u001b[0mstatus_code\u001b[0m \u001b[0;34m==\u001b[0m \u001b[0mrequests\u001b[0m\u001b[0;34m.\u001b[0m\u001b[0mcodes\u001b[0m\u001b[0;34m.\u001b[0m\u001b[0mnot_found\u001b[0m\u001b[0;34m:\u001b[0m\u001b[0;34m\u001b[0m\u001b[0m\n\u001b[1;32m     52\u001b[0m             \u001b[0;32mraise\u001b[0m \u001b[0mNotFoundException\u001b[0m\u001b[0;34m(\u001b[0m\u001b[0m_\u001b[0m\u001b[0;34m(\u001b[0m\u001b[0;34m\"Resource not found: {url}\"\u001b[0m\u001b[0;34m)\u001b[0m\u001b[0;34m.\u001b[0m\u001b[0mformat\u001b[0m\u001b[0;34m(\u001b[0m\u001b[0murl\u001b[0m\u001b[0;34m=\u001b[0m\u001b[0mresponse\u001b[0m\u001b[0;34m.\u001b[0m\u001b[0murl\u001b[0m\u001b[0;34m)\u001b[0m\u001b[0;34m)\u001b[0m\u001b[0;34m\u001b[0m\u001b[0m\n",
      "\u001b[0;31mBadRequestException\u001b[0m: ['column \"poverty_per_pop\" of relation \"brooklyn_poverty_census_tracts\" already exists']"
     ]
    }
   ],
   "source": [
    "df['poverty_per_pop'] = df['poverty_count'] / df['total_population']\n",
    "df.sync_carto(n_batch=40, debug=True)"
   ]
  },
  {
   "cell_type": "code",
   "execution_count": null,
   "metadata": {
    "collapsed": false,
    "deletable": true,
    "editable": true
   },
   "outputs": [],
   "source": [
    "# sync back up with carto\n",
    "# check to see if it tells you that you haven't done anything yet\n",
    "df.sync_carto()"
   ]
  },
  {
   "cell_type": "code",
   "execution_count": null,
   "metadata": {
    "collapsed": false,
    "deletable": true,
    "editable": true
   },
   "outputs": [],
   "source": [
    "import numpy as np\n",
    "col = 'likes_jellybeans'\n",
    "max_jellies = (1.0 / df[col]).max()\n",
    "min_jellies = (1.0 / df[col]).min()\n",
    "df['chocolate_preference'] = (1./df[col] + np.random.random() - min_jellies) / (max_jellies - min_jellies)\n",
    "df['chocolate_preference'] = 10.0 * df['chocolate_preference'] / df['chocolate_preference'].max()"
   ]
  },
  {
   "cell_type": "code",
   "execution_count": null,
   "metadata": {
    "collapsed": false,
    "deletable": true,
    "editable": true
   },
   "outputs": [],
   "source": [
    "df.head(6)"
   ]
  },
  {
   "cell_type": "code",
   "execution_count": null,
   "metadata": {
    "collapsed": false,
    "deletable": true,
    "editable": true,
    "scrolled": false
   },
   "outputs": [],
   "source": [
    "# Test add column\n",
    "df.sync_carto(n_batch=20, debug=True)"
   ]
  },
  {
   "cell_type": "code",
   "execution_count": 6,
   "metadata": {
    "collapsed": false,
    "deletable": true,
    "editable": true,
    "scrolled": false
   },
   "outputs": [
    {
     "data": {
      "text/html": [
       "<iframe src=\"/files/cartoframes.html?username=eschbacher&geomtype=polygon&stylecol=poverty_per_pop&datatype=float64&tablename=brooklyn_poverty_census_tracts&q=%257B%2522user_name%2522%253A%2520%2522eschbacher%2522%252C%250A%2520%2520%2520%2520%2520%2520%2520%2520%2520%2520%2520%2520%2520%2520%2520%2520%2520%2520%2520%2520%2522type%2522%253A%2520%2522cartodb%2522%252C%250A%2520%2520%2520%2520%2520%2520%2520%2520%2520%2520%2520%2520%2520%2520%2520%2520%2520%2520%2520%2520%2522sublayers%2522%253A%2520%255B%257B%250A%2520%2520%2520%2520%2520%2520%2520%2520%2520%2520%2520%2520%2520%2520%2520%2520%2520%2520%2520%2520%2520%2520%2522type%2522%253A%2520%2522http%2522%252C%250A%2520%2520%2520%2520%2520%2520%2520%2520%2520%2520%2520%2520%2520%2520%2520%2520%2520%2520%2520%2520%2520%2520%2522urlTemplate%2522%253A%2520%2522http%253A%2F%2F%257Bs%257D.basemaps.cartocdn.com%2Fdark_nolabels%2F%257Bz%257D%2F%257Bx%257D%2F%257By%257D.png%2522%250A%2520%2520%2520%2520%2520%2520%2520%2520%2520%2520%2520%2520%2520%2520%2520%2520%2520%2520%2520%2520%2520%2520%257D%252C%2520%257B%250A%2520%2520%2520%2520%2520%2520%2520%2520%2520%2520%2520%2520%2520%2520%2520%2520%2520%2520%2520%2520%2520%2520%2522sql%2522%253A%2520%2522select%2520%252A%2520from%2520brooklyn_poverty_census_tracts%2522%252C%250A%2520%2520%2520%2520%2520%2520%2520%2520%2520%2520%2520%2520%2520%2520%2520%2520%2520%2520%2520%2520%2520%2520%2522cartocss%2522%253A%2520%2522%2520%2520%2520%2520%2520%2520%2520%2520%2520%2520%2520%2520%2523layer%2520%257B%2520%2520%2520%2520%2520%2520%2520%2520%2520%2520%2520%2520%2520%2520polygon-fill%253A%2520ramp%2528%255Bpoverty_per_pop%255D%252C%2520cartocolor%2528RedOr%2529%252C%2520quantiles%2528%2529%2529%253B%2520%2520%2520%2520%2520%2520%2520%2520%2520%2520%2520%2520%2520%2520line-width%253A%25200.5%253B%2520%2520%2520%2520%2520%2520%2520%2520%2520%2520%2520%2520%2520%2520line-color%253A%2520%2523FFF%253B%2520%2520%2520%2520%2520%2520%2520%2520%2520%2520%2520%2520%2520%2520line-opacity%253A%25200.5%253B%2520%2520%2520%2520%2520%2520%2520%2520%2520%2520%2520%2520%257D%2520%2520%2520%2520%2520%2520%2520%2520%2522%250A%2520%2520%2520%2520%2520%2520%2520%2520%2520%2520%2520%2520%2520%2520%2520%2520%2520%2520%2520%2520%2520%2520%257D%255D%252C%250A%2520%2520%2520%2520%2520%2520%2520%2520%2520%2520%2520%2520%2520%2520%2520%2520%2520%2520%2520%2520%2520%2520%2522subdomains%2522%253A%2520%255B%2520%2522a%2522%252C%2520%2522b%2522%252C%2520%2522c%2522%2520%255D%250A%2520%2520%2520%2520%2520%2520%2520%2520%2520%2520%2520%2520%2520%2520%2520%2520%2520%2520%2520%2520%2520%2520%257D\" width=700 height=350></iframe>"
      ],
      "text/plain": [
       "<IPython.core.display.HTML object>"
      ]
     },
     "execution_count": 6,
     "metadata": {},
     "output_type": "execute_result"
    }
   ],
   "source": [
    "df.carto_map(interactive=True, stylecol='poverty_per_pop')"
   ]
  },
  {
   "cell_type": "code",
   "execution_count": null,
   "metadata": {
    "collapsed": true,
    "deletable": true,
    "editable": true
   },
   "outputs": [],
   "source": [
    "del df['chocolate_preference']"
   ]
  },
  {
   "cell_type": "code",
   "execution_count": null,
   "metadata": {
    "collapsed": false,
    "deletable": true,
    "editable": true
   },
   "outputs": [],
   "source": [
    "df.head()"
   ]
  },
  {
   "cell_type": "code",
   "execution_count": null,
   "metadata": {
    "collapsed": false,
    "deletable": true,
    "editable": true
   },
   "outputs": [],
   "source": [
    "df.sync_carto(debug=True)"
   ]
  },
  {
   "cell_type": "code",
   "execution_count": null,
   "metadata": {
    "collapsed": false,
    "deletable": true,
    "editable": true
   },
   "outputs": [],
   "source": [
    "df.sync_carto(n_batch=7, debug=True)"
   ]
  },
  {
   "cell_type": "code",
   "execution_count": null,
   "metadata": {
    "collapsed": false,
    "deletable": true,
    "editable": true
   },
   "outputs": [],
   "source": [
    "df.carto_map(interactive=True, stylecol='')"
   ]
  },
  {
   "cell_type": "markdown",
   "metadata": {
    "collapsed": true,
    "deletable": true,
    "editable": true
   },
   "source": [
    "## Examples\n",
    "\n",
    "### drop unneeded columns\n",
    "\n",
    "`cartoframes` works best with inplace operations, so use them whenever possible. Operations which give a new dataframe unfortunately do not carry over the cartoframe attributes like the CARTO SQL Auth Client, so that has to be reset.\n",
    "\n",
    "```python\n",
    "df.drop(['eobs_start_timestamp', 'eobs_battery_voltage', 'tag_local_identifier', 'individual_taxon_canonical_name', 'event_id', 'eobs_status', 'eobs_used_time_to_get_fix', 'lat', 'eobs_type_of_fix', 'sensor_type', 'eobs_fix_battery_voltage', 'eobs_horizontal_accuracy_estimate', 'eobs_key_bin_checksum', 'eobs_speed_accuracy_estimate', 'individual_local_identifier'], axis=1, inplace=True)\n",
    "df.head()\n",
    "```\n",
    "\n",
    "### Setting the sql auth client from another df\n",
    "\n",
    "```python\n",
    "new_df.set_carto_sql_client(old_df.carto_sql_client)\n",
    "```\n"
   ]
  },
  {
   "cell_type": "code",
   "execution_count": 4,
   "metadata": {
    "collapsed": false,
    "deletable": true,
    "editable": true
   },
   "outputs": [],
   "source": [
    "import sys, time\n",
    "from __future__ import print_function\n",
    "try:\n",
    "    from IPython.core.display import clear_output\n",
    "    have_ipython = True\n",
    "except ImportError:\n",
    "    have_ipython = False\n",
    "\n",
    "class ProgressBar:\n",
    "    def __init__(self, iterations):\n",
    "        self.iterations = iterations\n",
    "        self.prog_bar = '[]'\n",
    "        self.fill_char = '*'\n",
    "        self.width = 40\n",
    "        self.__update_amount(0)\n",
    "        if have_ipython:\n",
    "            self.animate = self.animate_ipython\n",
    "        else:\n",
    "            self.animate = self.animate_noipython\n",
    "\n",
    "    def animate_ipython(self, iter):\n",
    "        try:\n",
    "            clear_output()\n",
    "        except Exception:\n",
    "            # terminal IPython has no clear_output\n",
    "            pass\n",
    "        print('\\r', self, end='')\n",
    "        sys.stdout.flush()\n",
    "        self.update_iteration(iter + 1)\n",
    "\n",
    "    def update_iteration(self, elapsed_iter):\n",
    "        self.__update_amount((elapsed_iter / float(self.iterations)) * 100.0)\n",
    "        self.prog_bar += '  %d of %s complete' % (elapsed_iter, self.iterations)\n",
    "\n",
    "    def __update_amount(self, new_amount):\n",
    "        percent_done = int(round((new_amount / 100.0) * 100.0))\n",
    "        all_full = self.width - 2\n",
    "        num_hashes = int(round((percent_done / 100.0) * all_full))\n",
    "        self.prog_bar = '[' + self.fill_char * num_hashes + ' ' * (all_full - num_hashes) + ']'\n",
    "        pct_place = (len(self.prog_bar) // 2) - len(str(percent_done))\n",
    "        pct_string = '%d%%' % percent_done\n",
    "        self.prog_bar = self.prog_bar[0:pct_place] + \\\n",
    "            (pct_string + self.prog_bar[pct_place + len(pct_string):])\n",
    "\n",
    "    def __str__(self):\n",
    "        return str(self.prog_bar)\n"
   ]
  },
  {
   "cell_type": "code",
   "execution_count": 5,
   "metadata": {
    "collapsed": false,
    "deletable": true,
    "editable": true
   },
   "outputs": [
    {
     "name": "stdout",
     "output_type": "stream",
     "text": [
      "\r",
      " [*****************99%******************]  79 of 80 complete"
     ]
    }
   ],
   "source": [
    "p = ProgressBar(80)\n",
    "for i in range(80):\n",
    "    p.animate(i)\n",
    "    time.sleep(0.1)"
   ]
  },
  {
   "cell_type": "code",
   "execution_count": null,
   "metadata": {
    "collapsed": true,
    "deletable": true,
    "editable": true
   },
   "outputs": [],
   "source": []
  }
 ],
 "metadata": {
  "kernelspec": {
   "display_name": "Python 3",
   "language": "python",
   "name": "python3"
  },
  "language_info": {
   "codemirror_mode": {
    "name": "ipython",
    "version": 3
   },
   "file_extension": ".py",
   "mimetype": "text/x-python",
   "name": "python",
   "nbconvert_exporter": "python",
   "pygments_lexer": "ipython3",
   "version": "3.6.0"
  }
 },
 "nbformat": 4,
 "nbformat_minor": 2
}
