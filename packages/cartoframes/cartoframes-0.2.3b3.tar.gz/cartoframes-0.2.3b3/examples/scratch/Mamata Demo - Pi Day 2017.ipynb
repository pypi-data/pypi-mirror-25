{
 "cells": [
  {
   "cell_type": "code",
   "execution_count": 1,
   "metadata": {
    "collapsed": false
   },
   "outputs": [
    {
     "name": "stdout",
     "output_type": "stream",
     "text": [
      "Named map name: us_counties_1489496224_592441\n"
     ]
    }
   ],
   "source": [
    "import pandas as pd\n",
    "import cartoframes\n",
    "import json\n",
    "\n",
    "USERNAME = json.loads(open('credentials.json').read())['username']\n",
    "APIKEY = json.loads(open('credentials.json').read())['api_key']\n",
    "\n",
    "df = pd.read_carto(username=USERNAME,\n",
    "                   api_key=APIKEY,\n",
    "                   tablename='us_counties')"
   ]
  },
  {
   "cell_type": "code",
   "execution_count": 2,
   "metadata": {
    "collapsed": false
   },
   "outputs": [
    {
     "data": {
      "text/html": [
       "<div>\n",
       "<table border=\"1\" class=\"dataframe\">\n",
       "  <thead>\n",
       "    <tr style=\"text-align: right;\">\n",
       "      <th></th>\n",
       "      <th>created_at</th>\n",
       "      <th>name</th>\n",
       "      <th>pop</th>\n",
       "      <th>pop_sqkm</th>\n",
       "      <th>the_geom</th>\n",
       "      <th>the_geom_webmercator</th>\n",
       "      <th>updated_at</th>\n",
       "    </tr>\n",
       "    <tr>\n",
       "      <th>cartodb_id</th>\n",
       "      <th></th>\n",
       "      <th></th>\n",
       "      <th></th>\n",
       "      <th></th>\n",
       "      <th></th>\n",
       "      <th></th>\n",
       "      <th></th>\n",
       "    </tr>\n",
       "  </thead>\n",
       "  <tbody>\n",
       "    <tr>\n",
       "      <th>474</th>\n",
       "      <td>2014-01-14</td>\n",
       "      <td>Itawamba County</td>\n",
       "      <td>23401.0</td>\n",
       "      <td>17.0</td>\n",
       "      <td>0106000020E61000000100000001030000000100000006...</td>\n",
       "      <td>0106000020110F00000100000001030000000100000006...</td>\n",
       "      <td>2014-01-14</td>\n",
       "    </tr>\n",
       "    <tr>\n",
       "      <th>562</th>\n",
       "      <td>2014-01-14</td>\n",
       "      <td>Jefferson County</td>\n",
       "      <td>83686.0</td>\n",
       "      <td>55.0</td>\n",
       "      <td>0106000020E61000000100000001030000000100000006...</td>\n",
       "      <td>0106000020110F00000100000001030000000100000006...</td>\n",
       "      <td>2014-01-14</td>\n",
       "    </tr>\n",
       "    <tr>\n",
       "      <th>688</th>\n",
       "      <td>2014-01-14</td>\n",
       "      <td>Waynesboro city</td>\n",
       "      <td>21006.0</td>\n",
       "      <td>492.0</td>\n",
       "      <td>0106000020E61000000100000001030000000100000006...</td>\n",
       "      <td>0106000020110F00000100000001030000000100000006...</td>\n",
       "      <td>2014-01-14</td>\n",
       "    </tr>\n",
       "    <tr>\n",
       "      <th>941</th>\n",
       "      <td>2014-01-14</td>\n",
       "      <td>Rock County</td>\n",
       "      <td>160331.0</td>\n",
       "      <td>86.0</td>\n",
       "      <td>0106000020E61000000100000001030000000100000006...</td>\n",
       "      <td>0106000020110F00000100000001030000000100000006...</td>\n",
       "      <td>2014-01-14</td>\n",
       "    </tr>\n",
       "    <tr>\n",
       "      <th>899</th>\n",
       "      <td>2014-01-14</td>\n",
       "      <td>Sheridan County</td>\n",
       "      <td>2556.0</td>\n",
       "      <td>1.0</td>\n",
       "      <td>0106000020E61000000100000001030000000100000006...</td>\n",
       "      <td>0106000020110F00000100000001030000000100000006...</td>\n",
       "      <td>2014-01-14</td>\n",
       "    </tr>\n",
       "  </tbody>\n",
       "</table>\n",
       "</div>"
      ],
      "text/plain": [
       "           created_at              name       pop  pop_sqkm  \\\n",
       "cartodb_id                                                    \n",
       "474        2014-01-14   Itawamba County   23401.0      17.0   \n",
       "562        2014-01-14  Jefferson County   83686.0      55.0   \n",
       "688        2014-01-14   Waynesboro city   21006.0     492.0   \n",
       "941        2014-01-14       Rock County  160331.0      86.0   \n",
       "899        2014-01-14   Sheridan County    2556.0       1.0   \n",
       "\n",
       "                                                     the_geom  \\\n",
       "cartodb_id                                                      \n",
       "474         0106000020E61000000100000001030000000100000006...   \n",
       "562         0106000020E61000000100000001030000000100000006...   \n",
       "688         0106000020E61000000100000001030000000100000006...   \n",
       "941         0106000020E61000000100000001030000000100000006...   \n",
       "899         0106000020E61000000100000001030000000100000006...   \n",
       "\n",
       "                                         the_geom_webmercator updated_at  \n",
       "cartodb_id                                                                \n",
       "474         0106000020110F00000100000001030000000100000006... 2014-01-14  \n",
       "562         0106000020110F00000100000001030000000100000006... 2014-01-14  \n",
       "688         0106000020110F00000100000001030000000100000006... 2014-01-14  \n",
       "941         0106000020110F00000100000001030000000100000006... 2014-01-14  \n",
       "899         0106000020110F00000100000001030000000100000006... 2014-01-14  "
      ]
     },
     "execution_count": 2,
     "metadata": {},
     "output_type": "execute_result"
    }
   ],
   "source": [
    "df.head()"
   ]
  },
  {
   "cell_type": "code",
   "execution_count": 7,
   "metadata": {
    "collapsed": false,
    "scrolled": false
   },
   "outputs": [
    {
     "name": "stdout",
     "output_type": "stream",
     "text": [
      "#layer { polygon-fill: ramp([pop_sqkm], cartocolor(SunsetDark), quantiles()); polygon-opacity: 0.9;polygon-gamma: 0.5;line-color: #fff;line-width: 0.5;line-opacity: 0.25;line-comp-op: hard-light;}\n",
      "https://cdn.rawgit.com/andy-esch/6d993d3f25c5856ea38d1f374e57722e/raw/ce30379f35aafd027816f065b4e5c52f881c4a86/index.html?username=eschbacher&tablename=us_counties&cartocss=%23layer+%7B+polygon-fill%3A+ramp%28%5Bpop_sqkm%5D%2C+cartocolor%28SunsetDark%29%2C+quantiles%28%29%29%3B+polygon-opacity%3A+0.9%3Bpolygon-gamma%3A+0.5%3Bline-color%3A+%23fff%3Bline-width%3A+0.5%3Bline-opacity%3A+0.25%3Bline-comp-op%3A+hard-light%3B%7D&basemap=%5B%27http%3A%2F%2Fcartodb-basemaps-%7Bs%7D.global.ssl.fastly.net%2Fdark_all%2F%7Bz%7D%2F%7Bx%7D%2F%7By%7D.png%27%2C+%27http%3A%2F%2Fcartodb-basemaps-%7Bs%7D.global.ssl.fastly.net%2Fdark_only_labels%2F%7Bz%7D%2F%7Bx%7D%2F%7By%7D.png%27%5D&bounds=49.384358%2C-66.885444%2C24.3963080000001%2C-124.848974&q=%257B%250A%2520%2520%2520%2520%2520%2520%2522user_name%2522%253A%2520%2522eschbacher%2522%252C%250A%2520%2520%2520%2520%2520%2520%2522type%2522%253A%2520%2522namedmap%2522%252C%250A%2520%2520%2520%2520%2520%2520%2522named_map%2522%253A%2520%257B%250A%2520%2520%2520%2520%2520%2520%2520%2520%2522name%2522%253A%2520%2522us_counties_1489496224_592441%2522%250A%2520%2520%2520%2520%2520%2520%257D%252C%250A%2520%2520%2520%2520%2520%2520%2522subdomains%2522%253A%2520%255B%2520%2522a%2522%252C%2520%2522b%2522%252C%2520%2522c%2522%2520%255D%250A%2520%2520%2520%2520%2520%2520%257D\n"
     ]
    },
    {
     "data": {
      "text/html": [
       "<iframe src=\"https://cdn.rawgit.com/andy-esch/6d993d3f25c5856ea38d1f374e57722e/raw/ce30379f35aafd027816f065b4e5c52f881c4a86/index.html?username=eschbacher&tablename=us_counties&cartocss=%23layer+%7B+polygon-fill%3A+ramp%28%5Bpop_sqkm%5D%2C+cartocolor%28SunsetDark%29%2C+quantiles%28%29%29%3B+polygon-opacity%3A+0.9%3Bpolygon-gamma%3A+0.5%3Bline-color%3A+%23fff%3Bline-width%3A+0.5%3Bline-opacity%3A+0.25%3Bline-comp-op%3A+hard-light%3B%7D&basemap=%5B%27http%3A%2F%2Fcartodb-basemaps-%7Bs%7D.global.ssl.fastly.net%2Fdark_all%2F%7Bz%7D%2F%7Bx%7D%2F%7By%7D.png%27%2C+%27http%3A%2F%2Fcartodb-basemaps-%7Bs%7D.global.ssl.fastly.net%2Fdark_only_labels%2F%7Bz%7D%2F%7Bx%7D%2F%7By%7D.png%27%5D&bounds=49.384358%2C-66.885444%2C24.3963080000001%2C-124.848974&q=%257B%250A%2520%2520%2520%2520%2520%2520%2522user_name%2522%253A%2520%2522eschbacher%2522%252C%250A%2520%2520%2520%2520%2520%2520%2522type%2522%253A%2520%2522namedmap%2522%252C%250A%2520%2520%2520%2520%2520%2520%2522named_map%2522%253A%2520%257B%250A%2520%2520%2520%2520%2520%2520%2520%2520%2522name%2522%253A%2520%2522us_counties_1489496224_592441%2522%250A%2520%2520%2520%2520%2520%2520%257D%252C%250A%2520%2520%2520%2520%2520%2520%2522subdomains%2522%253A%2520%255B%2520%2522a%2522%252C%2520%2522b%2522%252C%2520%2522c%2522%2520%255D%250A%2520%2520%2520%2520%2520%2520%257D\" width=647 height=400>Preview image: <img src=\"http://eschbacher.carto.com/api/v1/map/static/named/us_counties_1489496224_592441/647/400.png\" /></iframe>"
      ],
      "text/plain": [
       "<IPython.core.display.HTML object>"
      ]
     },
     "execution_count": 7,
     "metadata": {},
     "output_type": "execute_result"
    }
   ],
   "source": [
    "df.carto_map(interactive=True,\n",
    "             color={'colname': 'pop_sqkm', 'ramp': 'SunsetDark'},\n",
    "             basemap=None,\n",
    "             debug=True)"
   ]
  },
  {
   "cell_type": "code",
   "execution_count": 34,
   "metadata": {
    "collapsed": true
   },
   "outputs": [],
   "source": [
    "name = 'corinne'"
   ]
  },
  {
   "cell_type": "code",
   "execution_count": 35,
   "metadata": {
    "collapsed": false
   },
   "outputs": [
    {
     "data": {
      "text/plain": [
       "'cori'"
      ]
     },
     "execution_count": 35,
     "metadata": {},
     "output_type": "execute_result"
    }
   ],
   "source": [
    "name[0:4]"
   ]
  },
  {
   "cell_type": "code",
   "execution_count": null,
   "metadata": {
    "collapsed": true
   },
   "outputs": [],
   "source": []
  }
 ],
 "metadata": {
  "kernelspec": {
   "display_name": "Python 3",
   "language": "python",
   "name": "python3"
  },
  "language_info": {
   "codemirror_mode": {
    "name": "ipython",
    "version": 3
   },
   "file_extension": ".py",
   "mimetype": "text/x-python",
   "name": "python",
   "nbconvert_exporter": "python",
   "pygments_lexer": "ipython3",
   "version": "3.6.0"
  }
 },
 "nbformat": 4,
 "nbformat_minor": 2
}
