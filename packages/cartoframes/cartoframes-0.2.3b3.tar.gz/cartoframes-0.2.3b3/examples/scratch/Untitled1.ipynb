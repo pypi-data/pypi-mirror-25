{
 "cells": [
  {
   "cell_type": "code",
   "execution_count": 1,
   "metadata": {},
   "outputs": [],
   "source": [
    "import cartoframes\n",
    "import pandas as pd\n",
    "import numpy as np\n",
    "\n",
    "APIKEY = '678b44cb2affbc52ea3e319f9e2a0d73ac86623c'\n",
    "BASEURL = 'https://iccmtest.carto.com/'\n",
    "\n",
    "# cc = cartoframes.CartoContext(api_key=APIKEY, base_url=BASEURL, verbose=True)\n",
    "cc = cartoframes.CartoContext(api_key='7db1d0957a6f4a10c9ab8bd437ed6b3e28b3d960',\n",
    "                              base_url='https://eschbacher.carto.com/',\n",
    "                              verbose=False)"
   ]
  },
  {
   "cell_type": "code",
   "execution_count": 2,
   "metadata": {
    "collapsed": true
   },
   "outputs": [],
   "source": [
    "from cartoframes import Layer, QueryLayer"
   ]
  },
  {
   "cell_type": "code",
   "execution_count": 3,
   "metadata": {
    "collapsed": true
   },
   "outputs": [],
   "source": [
    "l = Layer('watermelon')"
   ]
  },
  {
   "cell_type": "code",
   "execution_count": 3,
   "metadata": {},
   "outputs": [],
   "source": [
    "N = 17000\n",
    "data = {'id': range(N),\n",
    "        'lat': 2. * np.random.randn(N),\n",
    "        'long': 2. * np.random.randn(N),\n",
    "        'outside_range': abs(np.random.randn(N)) > 1,\n",
    "        'new_id': list('a{}'.format(i) for i in range(N))}\n",
    "\n",
    "df = pd.DataFrame(data)\n",
    "\n",
    "def print_me(row):\n",
    "    p_text = 'Point ({0} {1})'.format(row['long'], row['lat'])\n",
    "    return p_text\n",
    "\n",
    "df['the_geom'] = df.apply(print_me, axis=1)"
   ]
  },
  {
   "cell_type": "code",
   "execution_count": 3,
   "metadata": {},
   "outputs": [
    {
     "data": {
      "text/html": [
       "<div>\n",
       "<style>\n",
       "    .dataframe thead tr:only-child th {\n",
       "        text-align: right;\n",
       "    }\n",
       "\n",
       "    .dataframe thead th {\n",
       "        text-align: left;\n",
       "    }\n",
       "\n",
       "    .dataframe tbody tr th {\n",
       "        vertical-align: top;\n",
       "    }\n",
       "</style>\n",
       "<table border=\"1\" class=\"dataframe\">\n",
       "  <thead>\n",
       "    <tr style=\"text-align: right;\">\n",
       "      <th></th>\n",
       "      <th>id</th>\n",
       "      <th>lat</th>\n",
       "      <th>long</th>\n",
       "      <th>new_id</th>\n",
       "      <th>outside_range</th>\n",
       "      <th>the_geom</th>\n",
       "    </tr>\n",
       "  </thead>\n",
       "  <tbody>\n",
       "    <tr>\n",
       "      <th>0</th>\n",
       "      <td>0</td>\n",
       "      <td>1.015654</td>\n",
       "      <td>-2.982029</td>\n",
       "      <td>a0</td>\n",
       "      <td>False</td>\n",
       "      <td>Point (-2.982028758797373 1.0156535292587272)</td>\n",
       "    </tr>\n",
       "    <tr>\n",
       "      <th>1</th>\n",
       "      <td>1</td>\n",
       "      <td>0.441646</td>\n",
       "      <td>1.073033</td>\n",
       "      <td>a1</td>\n",
       "      <td>True</td>\n",
       "      <td>Point (1.0730334543370934 0.4416458130963483)</td>\n",
       "    </tr>\n",
       "    <tr>\n",
       "      <th>2</th>\n",
       "      <td>2</td>\n",
       "      <td>0.633870</td>\n",
       "      <td>2.170501</td>\n",
       "      <td>a2</td>\n",
       "      <td>True</td>\n",
       "      <td>Point (2.1705012509644934 0.6338695850680947)</td>\n",
       "    </tr>\n",
       "    <tr>\n",
       "      <th>3</th>\n",
       "      <td>3</td>\n",
       "      <td>1.197145</td>\n",
       "      <td>-1.550228</td>\n",
       "      <td>a3</td>\n",
       "      <td>False</td>\n",
       "      <td>Point (-1.5502283081342452 1.197144582690541)</td>\n",
       "    </tr>\n",
       "    <tr>\n",
       "      <th>4</th>\n",
       "      <td>4</td>\n",
       "      <td>-0.101693</td>\n",
       "      <td>0.377303</td>\n",
       "      <td>a4</td>\n",
       "      <td>True</td>\n",
       "      <td>Point (0.37730346734896647 -0.10169294799027497)</td>\n",
       "    </tr>\n",
       "  </tbody>\n",
       "</table>\n",
       "</div>"
      ],
      "text/plain": [
       "   id       lat      long new_id  outside_range  \\\n",
       "0   0  1.015654 -2.982029     a0          False   \n",
       "1   1  0.441646  1.073033     a1           True   \n",
       "2   2  0.633870  2.170501     a2           True   \n",
       "3   3  1.197145 -1.550228     a3          False   \n",
       "4   4 -0.101693  0.377303     a4           True   \n",
       "\n",
       "                                           the_geom  \n",
       "0     Point (-2.982028758797373 1.0156535292587272)  \n",
       "1     Point (1.0730334543370934 0.4416458130963483)  \n",
       "2     Point (2.1705012509644934 0.6338695850680947)  \n",
       "3     Point (-1.5502283081342452 1.197144582690541)  \n",
       "4  Point (0.37730346734896647 -0.10169294799027497)  "
      ]
     },
     "execution_count": 3,
     "metadata": {},
     "output_type": "execute_result"
    }
   ],
   "source": [
    "df.head()"
   ]
  },
  {
   "cell_type": "code",
   "execution_count": 6,
   "metadata": {},
   "outputs": [
    {
     "data": {
      "text/plain": [
       "id                 int64\n",
       "lat              float64\n",
       "long             float64\n",
       "new_id            object\n",
       "outside_range       bool\n",
       "the_geom          object\n",
       "dtype: object"
      ]
     },
     "execution_count": 6,
     "metadata": {},
     "output_type": "execute_result"
    }
   ],
   "source": [
    "df.dtypes"
   ]
  },
  {
   "cell_type": "code",
   "execution_count": 4,
   "metadata": {},
   "outputs": [
    {
     "data": {
      "text/plain": [
       "(1700000, 6)"
      ]
     },
     "execution_count": 4,
     "metadata": {},
     "output_type": "execute_result"
    }
   ],
   "source": [
    "df.shape"
   ]
  },
  {
   "cell_type": "code",
   "execution_count": 4,
   "metadata": {
    "scrolled": false
   },
   "outputs": [
    {
     "name": "stdout",
     "output_type": "stream",
     "text": [
      "The following columns were renamed because of PostgreSQL column normalization requirements: `field_1`, `the_geom_webmercator`\n",
      "Table written to CARTO: https://eschbacher.carto.com/dataset/cartoframes_upload_test3\n"
     ]
    }
   ],
   "source": [
    "cc.write(df, 'cartoframes_upload_test3',\n",
    "         overwrite=True)"
   ]
  },
  {
   "cell_type": "code",
   "execution_count": 11,
   "metadata": {
    "collapsed": true
   },
   "outputs": [],
   "source": [
    "df2 = cc.read('cartoframes_upload_test2')"
   ]
  },
  {
   "cell_type": "code",
   "execution_count": 12,
   "metadata": {},
   "outputs": [
    {
     "data": {
      "text/html": [
       "<div>\n",
       "<style>\n",
       "    .dataframe thead tr:only-child th {\n",
       "        text-align: right;\n",
       "    }\n",
       "\n",
       "    .dataframe thead th {\n",
       "        text-align: left;\n",
       "    }\n",
       "\n",
       "    .dataframe tbody tr th {\n",
       "        vertical-align: top;\n",
       "    }\n",
       "</style>\n",
       "<table border=\"1\" class=\"dataframe\">\n",
       "  <thead>\n",
       "    <tr style=\"text-align: right;\">\n",
       "      <th></th>\n",
       "      <th>the_geom</th>\n",
       "      <th>the_geom_webmercator</th>\n",
       "      <th>field_1</th>\n",
       "      <th>id</th>\n",
       "      <th>lat</th>\n",
       "      <th>long</th>\n",
       "      <th>new_id</th>\n",
       "      <th>outside_range</th>\n",
       "    </tr>\n",
       "    <tr>\n",
       "      <th>cartodb_id</th>\n",
       "      <th></th>\n",
       "      <th></th>\n",
       "      <th></th>\n",
       "      <th></th>\n",
       "      <th></th>\n",
       "      <th></th>\n",
       "      <th></th>\n",
       "      <th></th>\n",
       "    </tr>\n",
       "  </thead>\n",
       "  <tbody>\n",
       "    <tr>\n",
       "      <th>3998</th>\n",
       "      <td>0101000020E61000003ACF7730657E1040F55D49C58BAA...</td>\n",
       "      <td>0101000020110F00000C8F79CB29041C41D63ECA0249CF...</td>\n",
       "      <td>3997</td>\n",
       "      <td>3997.0</td>\n",
       "      <td>3.208274</td>\n",
       "      <td>4.123433</td>\n",
       "      <td>a3997</td>\n",
       "      <td>True</td>\n",
       "    </tr>\n",
       "    <tr>\n",
       "      <th>1400</th>\n",
       "      <td>0101000020E6100000F925E46DFED8DBBFCA83A2BF6126...</td>\n",
       "      <td>0101000020110F0000A7E66B1FA8A6E7C096912D1CD8F6...</td>\n",
       "      <td>1399</td>\n",
       "      <td>1399.0</td>\n",
       "      <td>1.321871</td>\n",
       "      <td>-0.435119</td>\n",
       "      <td>a1399</td>\n",
       "      <td>False</td>\n",
       "    </tr>\n",
       "    <tr>\n",
       "      <th>1588</th>\n",
       "      <td>0101000020E6100000A56834E2B5A400409F95458522AD...</td>\n",
       "      <td>0101000020110F0000F79A5ED93E450C418AA16B997CBB...</td>\n",
       "      <td>1587</td>\n",
       "      <td>1587.0</td>\n",
       "      <td>-2.334538</td>\n",
       "      <td>2.080425</td>\n",
       "      <td>a1587</td>\n",
       "      <td>False</td>\n",
       "    </tr>\n",
       "    <tr>\n",
       "      <th>2594</th>\n",
       "      <td>0101000020E610000025E79EBFC8CCF53F325F86E36039...</td>\n",
       "      <td>0101000020110F0000949C3B02C3830241FAC14FDF0854...</td>\n",
       "      <td>2593</td>\n",
       "      <td>2593.0</td>\n",
       "      <td>-1.201508</td>\n",
       "      <td>1.362496</td>\n",
       "      <td>a2593</td>\n",
       "      <td>False</td>\n",
       "    </tr>\n",
       "    <tr>\n",
       "      <th>3205</th>\n",
       "      <td>0101000020E61000008EF53BD812E8F83FE7923ACA72D0...</td>\n",
       "      <td>0101000020110F00002462DF89332705410AAD09B17806...</td>\n",
       "      <td>3204</td>\n",
       "      <td>3204.0</td>\n",
       "      <td>1.988391</td>\n",
       "      <td>1.556659</td>\n",
       "      <td>a3204</td>\n",
       "      <td>False</td>\n",
       "    </tr>\n",
       "  </tbody>\n",
       "</table>\n",
       "</div>"
      ],
      "text/plain": [
       "                                                     the_geom  \\\n",
       "cartodb_id                                                      \n",
       "3998        0101000020E61000003ACF7730657E1040F55D49C58BAA...   \n",
       "1400        0101000020E6100000F925E46DFED8DBBFCA83A2BF6126...   \n",
       "1588        0101000020E6100000A56834E2B5A400409F95458522AD...   \n",
       "2594        0101000020E610000025E79EBFC8CCF53F325F86E36039...   \n",
       "3205        0101000020E61000008EF53BD812E8F83FE7923ACA72D0...   \n",
       "\n",
       "                                         the_geom_webmercator field_1      id  \\\n",
       "cartodb_id                                                                      \n",
       "3998        0101000020110F00000C8F79CB29041C41D63ECA0249CF...    3997  3997.0   \n",
       "1400        0101000020110F0000A7E66B1FA8A6E7C096912D1CD8F6...    1399  1399.0   \n",
       "1588        0101000020110F0000F79A5ED93E450C418AA16B997CBB...    1587  1587.0   \n",
       "2594        0101000020110F0000949C3B02C3830241FAC14FDF0854...    2593  2593.0   \n",
       "3205        0101000020110F00002462DF89332705410AAD09B17806...    3204  3204.0   \n",
       "\n",
       "                 lat      long new_id  outside_range  \n",
       "cartodb_id                                            \n",
       "3998        3.208274  4.123433  a3997           True  \n",
       "1400        1.321871 -0.435119  a1399          False  \n",
       "1588       -2.334538  2.080425  a1587          False  \n",
       "2594       -1.201508  1.362496  a2593          False  \n",
       "3205        1.988391  1.556659  a3204          False  "
      ]
     },
     "execution_count": 12,
     "metadata": {},
     "output_type": "execute_result"
    }
   ],
   "source": [
    "df2.head()"
   ]
  },
  {
   "cell_type": "code",
   "execution_count": 4,
   "metadata": {},
   "outputs": [
    {
     "data": {
      "text/html": [
       "<img src=\"https://iccmtest.carto.com/api/v1/map/static/named/cartoframes_ver20170406_layers5_time0_baseid1_labels0_zoom0/800/400.png?config=%7B%22basemap_url%22%3A+%22https%3A%2F%2Fcartodb-basemaps-%7Bs%7D.global.ssl.fastly.net%2Fdark_nolabels%2F%7Bz%7D%2F%7Bx%7D%2F%7By%7D.png%22%2C+%22cartocss_0%22%3A+%22%23layer%5B%27mapnik%3A%3Ageometry_type%27%3D1%5D+%7B++marker-width%3A+10%3B+marker-fill%3A+%235D69B1%3B+marker-fill-opacity%3A+1%3B+marker-allow-overlap%3A+true%3B+marker-line-width%3A+0.5%3B+marker-line-color%3A+%23000%3B+marker-line-opacity%3A+1%3B%7D+%23layer%5B%27mapnik%3A%3Ageometry_type%27%3D2%5D+%7B++line-width%3A+1.5%3B+line-color%3A+%235D69B1%3B%7D+%23layer%5B%27mapnik%3A%3Ageometry_type%27%3D3%5D+%7B++polygon-fill%3A+%235D69B1%3B+polygon-opacity%3A+0.9%3B+polygon-gamma%3A+0.5%3B+line-color%3A+%23FFF%3B+line-width%3A+0.5%3B+line-opacity%3A+0.25%3B+line-comp-op%3A+hard-light%3B%7D+%22%2C+%22sql_0%22%3A+%22SELECT+%2A+FROM+cartoframes_upload_test2%22%2C+%22cartocss_1%22%3A+%22%23layer%5B%27mapnik%3A%3Ageometry_type%27%3D1%5D+%7B++marker-width%3A+10%3B+marker-fill%3A+%2352BCA3%3B+marker-fill-opacity%3A+1%3B+marker-allow-overlap%3A+true%3B+marker-line-width%3A+0.5%3B+marker-line-color%3A+%23000%3B+marker-line-opacity%3A+1%3B%7D+%23layer%5B%27mapnik%3A%3Ageometry_type%27%3D2%5D+%7B++line-width%3A+1.5%3B+line-color%3A+%2352BCA3%3B%7D+%23layer%5B%27mapnik%3A%3Ageometry_type%27%3D3%5D+%7B++polygon-fill%3A+%2352BCA3%3B+polygon-opacity%3A+0.9%3B+polygon-gamma%3A+0.5%3B+line-color%3A+%23FFF%3B+line-width%3A+0.5%3B+line-opacity%3A+0.25%3B+line-comp-op%3A+hard-light%3B%7D+%22%2C+%22sql_1%22%3A+%22select+%2A+from+cartoframes_upload_test2+where+random%28%29+%3C+0.25%22%2C+%22cartocss_2%22%3A+%22%23layer%5B%27mapnik%3A%3Ageometry_type%27%3D1%5D+%7B++marker-width%3A+10%3B+marker-fill%3A+%2399C945%3B+marker-fill-opacity%3A+1%3B+marker-allow-overlap%3A+true%3B+marker-line-width%3A+0.5%3B+marker-line-color%3A+%23000%3B+marker-line-opacity%3A+1%3B%7D+%23layer%5B%27mapnik%3A%3Ageometry_type%27%3D2%5D+%7B++line-width%3A+1.5%3B+line-color%3A+%2399C945%3B%7D+%23layer%5B%27mapnik%3A%3Ageometry_type%27%3D3%5D+%7B++polygon-fill%3A+%2399C945%3B+polygon-opacity%3A+0.9%3B+polygon-gamma%3A+0.5%3B+line-color%3A+%23FFF%3B+line-width%3A+0.5%3B+line-opacity%3A+0.25%3B+line-comp-op%3A+hard-light%3B%7D+%22%2C+%22sql_2%22%3A+%22select+%2A+from+cartoframes_upload_test2+where+random%28%29+%3C+0.0625%22%2C+%22cartocss_3%22%3A+%22%23layer%5B%27mapnik%3A%3Ageometry_type%27%3D1%5D+%7B++marker-width%3A+10%3B+marker-fill%3A+%23CC61B0%3B+marker-fill-opacity%3A+1%3B+marker-allow-overlap%3A+true%3B+marker-line-width%3A+0.5%3B+marker-line-color%3A+%23000%3B+marker-line-opacity%3A+1%3B%7D+%23layer%5B%27mapnik%3A%3Ageometry_type%27%3D2%5D+%7B++line-width%3A+1.5%3B+line-color%3A+%23CC61B0%3B%7D+%23layer%5B%27mapnik%3A%3Ageometry_type%27%3D3%5D+%7B++polygon-fill%3A+%23CC61B0%3B+polygon-opacity%3A+0.9%3B+polygon-gamma%3A+0.5%3B+line-color%3A+%23FFF%3B+line-width%3A+0.5%3B+line-opacity%3A+0.25%3B+line-comp-op%3A+hard-light%3B%7D+%22%2C+%22sql_3%22%3A+%22select+%2A+from+cartoframes_upload_test2+where+random%28%29+%3C+0.015625%22%2C+%22cartocss_4%22%3A+%22%23layer%5B%27mapnik%3A%3Ageometry_type%27%3D1%5D+%7B++marker-width%3A+10%3B+marker-fill%3A+%2324796C%3B+marker-fill-opacity%3A+1%3B+marker-allow-overlap%3A+true%3B+marker-line-width%3A+0.5%3B+marker-line-color%3A+%23000%3B+marker-line-opacity%3A+1%3B%7D+%23layer%5B%27mapnik%3A%3Ageometry_type%27%3D2%5D+%7B++line-width%3A+1.5%3B+line-color%3A+%2324796C%3B%7D+%23layer%5B%27mapnik%3A%3Ageometry_type%27%3D3%5D+%7B++polygon-fill%3A+%2324796C%3B+polygon-opacity%3A+0.9%3B+polygon-gamma%3A+0.5%3B+line-color%3A+%23FFF%3B+line-width%3A+0.5%3B+line-opacity%3A+0.25%3B+line-comp-op%3A+hard-light%3B%7D+%22%2C+%22sql_4%22%3A+%22select+%2A+from+cartoframes_upload_test2+where+random%28%29+%3C+0.00390625%22%7D&anti_cache=0.1426253151337652\" />"
      ],
      "text/plain": [
       "<IPython.core.display.HTML object>"
      ]
     },
     "execution_count": 4,
     "metadata": {},
     "output_type": "execute_result"
    }
   ],
   "source": [
    "from cartoframes import Layer, BaseMap, QueryLayer\n",
    "cc.map(layers=[BaseMap('dark', labels=None),\n",
    "               Layer('cartoframes_upload_test2'),\n",
    "               QueryLayer('select * from cartoframes_upload_test2 where random() < 0.25'),\n",
    "               QueryLayer('select * from cartoframes_upload_test2 where random() < 0.0625'),\n",
    "               QueryLayer('select * from cartoframes_upload_test2 where random() < 0.015625'),\n",
    "               QueryLayer('select * from cartoframes_upload_test2 where random() < 0.00390625')],\n",
    "       interactive=False)"
   ]
  },
  {
   "cell_type": "code",
   "execution_count": 2,
   "metadata": {},
   "outputs": [
    {
     "data": {
      "text/html": [
       "<img src=\"https://eschbacher.carto.com/api/v1/map/static/named/cartoframes_ver20170406_layers1_time0_baseid1_labels0_zoom0/800/400.png?config=%7B%22basemap_url%22%3A+%22https%3A%2F%2Fcartodb-basemaps-%7Bs%7D.global.ssl.fastly.net%2Fdark_nolabels%2F%7Bz%7D%2F%7Bx%7D%2F%7By%7D.png%22%2C+%22cartocss_0%22%3A+%22%23layer%5B%27mapnik%3A%3Ageometry_type%27%3D1%5D+%7B++marker-width%3A+10%3B+marker-fill%3A+ramp%28%5Bnet%5D%2C+cartocolor%28Vivid%29%2C+category%287%29%29%3B+marker-fill-opacity%3A+1%3B+marker-allow-overlap%3A+true%3B+marker-line-width%3A+0.5%3B+marker-line-color%3A+%23000%3B+marker-line-opacity%3A+1%3B%7D+%23layer%5B%27mapnik%3A%3Ageometry_type%27%3D2%5D+%7B++line-width%3A+1.5%3B+line-color%3A+ramp%28%5Bnet%5D%2C+cartocolor%28Vivid%29%2C+category%287%29%29%3B%7D+%23layer%5B%27mapnik%3A%3Ageometry_type%27%3D3%5D+%7B++polygon-fill%3A+ramp%28%5Bnet%5D%2C+cartocolor%28Vivid%29%2C+category%287%29%29%3B+polygon-opacity%3A+0.9%3B+polygon-gamma%3A+0.5%3B+line-color%3A+%23FFF%3B+line-width%3A+0.5%3B+line-opacity%3A+0.25%3B+line-comp-op%3A+hard-light%3B%7D+%22%2C+%22sql_0%22%3A+%22select+%2A+from+all_month_3+where+random%28%29+%3C+0.25%22%7D&anti_cache=0.3967711548173125\" />"
      ],
      "text/plain": [
       "<IPython.core.display.HTML object>"
      ]
     },
     "execution_count": 2,
     "metadata": {},
     "output_type": "execute_result"
    }
   ],
   "source": [
    "from cartoframes import Layer, BaseMap, QueryLayer, styling\n",
    "cc.map(layers=[BaseMap('dark', labels=None),\n",
    "               QueryLayer('select * from all_month_3 where random() < 0.25',\n",
    "                          color={'column': 'net', 'scheme': styling.vivid(7)})],\n",
    "       interactive=False)"
   ]
  },
  {
   "cell_type": "code",
   "execution_count": 8,
   "metadata": {},
   "outputs": [
    {
     "data": {
      "text/plain": [
       "Index(['the_geom', 'the_geom_webmercator', 'description', 'amount',\n",
       "       'amt_healthcare', 'amt_person', 'amt_transaction', 'card_account_id',\n",
       "       'card_transaction_id', 'chain_name', 'city', 'cobrand_id',\n",
       "       'confidence_score', 'currency_id', 'factual_category', 'factual_id',\n",
       "       'fax_number', 'file_created_date', 'latitude', 'longitude', 'mem_id',\n",
       "       'merchant_name', 'neighbourhood', 'phone_number', 'post_date', 'state',\n",
       "       'store_id', 'street', 'sum_info_id', 'transaction_base_type',\n",
       "       'transaction_category_name', 'transaction_date', 'transaction_origin',\n",
       "       'transaction_src_element_id', 'transactions_person',\n",
       "       'unique_card_account_id', 'unique_card_transaction_id', 'unique_mem_id',\n",
       "       'website', 'zip_code', 'transaction_category_id'],\n",
       "      dtype='object')"
      ]
     },
     "execution_count": 8,
     "metadata": {},
     "output_type": "execute_result"
    }
   ],
   "source": [
    "df.columns"
   ]
  },
  {
   "cell_type": "code",
   "execution_count": 9,
   "metadata": {},
   "outputs": [],
   "source": [
    "df = cc.read('yodlee_points',\n",
    "             limit=1)\n",
    "cols = set(df.columns) - {'the_geom_webmercator'}\n",
    "N = 800000\n",
    "df = cc.query('''select {cols} \n",
    "                 from yodlee_points\n",
    "                 limit {n}'''.format(cols=','.join(cols),\n",
    "                                     n=N))"
   ]
  },
  {
   "cell_type": "code",
   "execution_count": 10,
   "metadata": {},
   "outputs": [
    {
     "data": {
      "text/html": [
       "<div>\n",
       "<style>\n",
       "    .dataframe thead tr:only-child th {\n",
       "        text-align: right;\n",
       "    }\n",
       "\n",
       "    .dataframe thead th {\n",
       "        text-align: left;\n",
       "    }\n",
       "\n",
       "    .dataframe tbody tr th {\n",
       "        vertical-align: top;\n",
       "    }\n",
       "</style>\n",
       "<table border=\"1\" class=\"dataframe\">\n",
       "  <thead>\n",
       "    <tr style=\"text-align: right;\">\n",
       "      <th></th>\n",
       "      <th>city</th>\n",
       "      <th>amount</th>\n",
       "      <th>factual_category</th>\n",
       "      <th>post_date</th>\n",
       "      <th>longitude</th>\n",
       "      <th>file_created_date</th>\n",
       "      <th>latitude</th>\n",
       "      <th>card_account_id</th>\n",
       "      <th>transaction_base_type</th>\n",
       "      <th>website</th>\n",
       "      <th>...</th>\n",
       "      <th>transaction_date</th>\n",
       "      <th>cobrand_id</th>\n",
       "      <th>transaction_src_element_id</th>\n",
       "      <th>amt_healthcare</th>\n",
       "      <th>sum_info_id</th>\n",
       "      <th>amt_person</th>\n",
       "      <th>neighbourhood</th>\n",
       "      <th>transaction_origin</th>\n",
       "      <th>amt_transaction</th>\n",
       "      <th>the_geom</th>\n",
       "    </tr>\n",
       "  </thead>\n",
       "  <tbody>\n",
       "    <tr>\n",
       "      <th>0</th>\n",
       "      <td>Newark</td>\n",
       "      <td>50.00</td>\n",
       "      <td>[\"Transportation\"]</td>\n",
       "      <td>2015-07-18</td>\n",
       "      <td>-74.180278</td>\n",
       "      <td>2015-07-22</td>\n",
       "      <td>40.721478</td>\n",
       "      <td>14357345.0</td>\n",
       "      <td>debit</td>\n",
       "      <td>http://www.ezpass.com</td>\n",
       "      <td>...</td>\n",
       "      <td>2015-07-18</td>\n",
       "      <td>1.000564e+07</td>\n",
       "      <td>-75546255</td>\n",
       "      <td>0.0</td>\n",
       "      <td>16455.0</td>\n",
       "      <td>0.0</td>\n",
       "      <td>[\"Newark North\",\"South Broad Street\"]</td>\n",
       "      <td>Physical</td>\n",
       "      <td>0.0</td>\n",
       "      <td>0104000020E61000000100000001010000000D8CBCAC89...</td>\n",
       "    </tr>\n",
       "    <tr>\n",
       "      <th>1</th>\n",
       "      <td>Manhasset</td>\n",
       "      <td>55.00</td>\n",
       "      <td>[\"Services and Supplies\",\"Personal Care\",\"Beau...</td>\n",
       "      <td>2015-05-02</td>\n",
       "      <td>-73.691851</td>\n",
       "      <td>2015-07-22</td>\n",
       "      <td>40.793338</td>\n",
       "      <td>4347042.0</td>\n",
       "      <td>debit</td>\n",
       "      <td>http://www.nubestsalon.com</td>\n",
       "      <td>...</td>\n",
       "      <td>2015-05-02</td>\n",
       "      <td>1.000616e+07</td>\n",
       "      <td>765741146</td>\n",
       "      <td>0.0</td>\n",
       "      <td>19267.0</td>\n",
       "      <td>0.0</td>\n",
       "      <td></td>\n",
       "      <td>Physical</td>\n",
       "      <td>0.0</td>\n",
       "      <td>0104000020E61000000100000001010000001DAD6A4947...</td>\n",
       "    </tr>\n",
       "    <tr>\n",
       "      <th>2</th>\n",
       "      <td>Clifton</td>\n",
       "      <td>58.74</td>\n",
       "      <td>[\"Social\",\"Food and Dining\",\"Restaurants\",\"Del...</td>\n",
       "      <td>2015-07-16</td>\n",
       "      <td>-74.173989</td>\n",
       "      <td>2015-07-22</td>\n",
       "      <td>40.894212</td>\n",
       "      <td>41936783.0</td>\n",
       "      <td>debit</td>\n",
       "      <td></td>\n",
       "      <td>...</td>\n",
       "      <td>2015-07-14</td>\n",
       "      <td>1.000137e+07</td>\n",
       "      <td>1620544585</td>\n",
       "      <td>0.0</td>\n",
       "      <td>12847.0</td>\n",
       "      <td>0.0</td>\n",
       "      <td>[\"Great Notch\"]</td>\n",
       "      <td>Physical</td>\n",
       "      <td>0.0</td>\n",
       "      <td>0104000020E61000000100000001010000004837C2A222...</td>\n",
       "    </tr>\n",
       "    <tr>\n",
       "      <th>3</th>\n",
       "      <td>Englewood Cliffs</td>\n",
       "      <td>34.29</td>\n",
       "      <td></td>\n",
       "      <td>2015-07-22</td>\n",
       "      <td>-73.947418</td>\n",
       "      <td>2015-07-22</td>\n",
       "      <td>40.881950</td>\n",
       "      <td>1195961.0</td>\n",
       "      <td>debit</td>\n",
       "      <td></td>\n",
       "      <td>...</td>\n",
       "      <td>2015-07-20</td>\n",
       "      <td>1.000616e+07</td>\n",
       "      <td>1646705609</td>\n",
       "      <td>0.0</td>\n",
       "      <td>19267.0</td>\n",
       "      <td>0.0</td>\n",
       "      <td></td>\n",
       "      <td>Physical</td>\n",
       "      <td>0.0</td>\n",
       "      <td>0104000020E610000001000000010100000012691B7FA2...</td>\n",
       "    </tr>\n",
       "    <tr>\n",
       "      <th>4</th>\n",
       "      <td>Staten Island</td>\n",
       "      <td>9.01</td>\n",
       "      <td></td>\n",
       "      <td>NaT</td>\n",
       "      <td>-74.065463</td>\n",
       "      <td>2015-07-22</td>\n",
       "      <td>40.598220</td>\n",
       "      <td>12317381.0</td>\n",
       "      <td>debit</td>\n",
       "      <td></td>\n",
       "      <td>...</td>\n",
       "      <td>2015-07-16</td>\n",
       "      <td>2.125103e+09</td>\n",
       "      <td>743737414</td>\n",
       "      <td>0.0</td>\n",
       "      <td>1503.0</td>\n",
       "      <td>0.0</td>\n",
       "      <td>[\"Fort Wadsworth\"]</td>\n",
       "      <td>Physical</td>\n",
       "      <td>0.0</td>\n",
       "      <td>0104000020E61000000100000001010000004606B98B30...</td>\n",
       "    </tr>\n",
       "  </tbody>\n",
       "</table>\n",
       "<p>5 rows × 40 columns</p>\n",
       "</div>"
      ],
      "text/plain": [
       "               city  amount  \\\n",
       "0            Newark   50.00   \n",
       "1         Manhasset   55.00   \n",
       "2           Clifton   58.74   \n",
       "3  Englewood Cliffs   34.29   \n",
       "4     Staten Island    9.01   \n",
       "\n",
       "                                    factual_category  post_date  longitude  \\\n",
       "0                                 [\"Transportation\"] 2015-07-18 -74.180278   \n",
       "1  [\"Services and Supplies\",\"Personal Care\",\"Beau... 2015-05-02 -73.691851   \n",
       "2  [\"Social\",\"Food and Dining\",\"Restaurants\",\"Del... 2015-07-16 -74.173989   \n",
       "3                                                    2015-07-22 -73.947418   \n",
       "4                                                           NaT -74.065463   \n",
       "\n",
       "  file_created_date   latitude  card_account_id transaction_base_type  \\\n",
       "0        2015-07-22  40.721478       14357345.0                 debit   \n",
       "1        2015-07-22  40.793338        4347042.0                 debit   \n",
       "2        2015-07-22  40.894212       41936783.0                 debit   \n",
       "3        2015-07-22  40.881950        1195961.0                 debit   \n",
       "4        2015-07-22  40.598220       12317381.0                 debit   \n",
       "\n",
       "                      website  \\\n",
       "0       http://www.ezpass.com   \n",
       "1  http://www.nubestsalon.com   \n",
       "2                               \n",
       "3                               \n",
       "4                               \n",
       "\n",
       "                         ...                          transaction_date  \\\n",
       "0                        ...                                2015-07-18   \n",
       "1                        ...                                2015-05-02   \n",
       "2                        ...                                2015-07-14   \n",
       "3                        ...                                2015-07-20   \n",
       "4                        ...                                2015-07-16   \n",
       "\n",
       "     cobrand_id transaction_src_element_id amt_healthcare sum_info_id  \\\n",
       "0  1.000564e+07                  -75546255            0.0     16455.0   \n",
       "1  1.000616e+07                  765741146            0.0     19267.0   \n",
       "2  1.000137e+07                 1620544585            0.0     12847.0   \n",
       "3  1.000616e+07                 1646705609            0.0     19267.0   \n",
       "4  2.125103e+09                  743737414            0.0      1503.0   \n",
       "\n",
       "   amt_person                          neighbourhood  transaction_origin  \\\n",
       "0         0.0  [\"Newark North\",\"South Broad Street\"]            Physical   \n",
       "1         0.0                                                   Physical   \n",
       "2         0.0                        [\"Great Notch\"]            Physical   \n",
       "3         0.0                                                   Physical   \n",
       "4         0.0                     [\"Fort Wadsworth\"]            Physical   \n",
       "\n",
       "  amt_transaction                                           the_geom  \n",
       "0             0.0  0104000020E61000000100000001010000000D8CBCAC89...  \n",
       "1             0.0  0104000020E61000000100000001010000001DAD6A4947...  \n",
       "2             0.0  0104000020E61000000100000001010000004837C2A222...  \n",
       "3             0.0  0104000020E610000001000000010100000012691B7FA2...  \n",
       "4             0.0  0104000020E61000000100000001010000004606B98B30...  \n",
       "\n",
       "[5 rows x 40 columns]"
      ]
     },
     "execution_count": 10,
     "metadata": {},
     "output_type": "execute_result"
    }
   ],
   "source": [
    "df.head()"
   ]
  },
  {
   "cell_type": "code",
   "execution_count": 11,
   "metadata": {},
   "outputs": [
    {
     "name": "stderr",
     "output_type": "stream",
     "text": [
      "Uploading in batches: : 100%|██████████| 2/2 [13:08<00:00, 483.86s/it]\n"
     ]
    },
    {
     "name": "stdout",
     "output_type": "stream",
     "text": [
      "The following columns were renamed because of PostgreSQL column normalization requirements: `the_geom_webmercator`\n",
      "Table written to CARTO: https://eschbacher.carto.com/dataset/yodlee_subset_cartoframes_upload3\n"
     ]
    }
   ],
   "source": [
    "cc.write(df, 'yodlee_subset_cartoframes_upload3',\n",
    "         overwrite=True)"
   ]
  },
  {
   "cell_type": "code",
   "execution_count": 6,
   "metadata": {
    "collapsed": true
   },
   "outputs": [],
   "source": [
    "import requests\n",
    "import binascii as ba\n",
    "from shapely import wkb, wkt"
   ]
  },
  {
   "cell_type": "code",
   "execution_count": 19,
   "metadata": {},
   "outputs": [
    {
     "data": {
      "text/plain": [
       "'01010000000000000000805ec00000000000004340'"
      ]
     },
     "execution_count": 19,
     "metadata": {},
     "output_type": "execute_result"
    }
   ],
   "source": [
    "p = 'Point (-122 38)'\n",
    "ba.hexlify(wkb.dumps(wkt.loads(p))).decode()"
   ]
  },
  {
   "cell_type": "code",
   "execution_count": 4,
   "metadata": {
    "collapsed": true
   },
   "outputs": [],
   "source": [
    "df_t = cc.read('all_month_3', decode_geom=True)"
   ]
  },
  {
   "cell_type": "code",
   "execution_count": 5,
   "metadata": {},
   "outputs": [
    {
     "data": {
      "text/plain": [
       "'0101000020E6100000F7F2F1BF4B775EC0B4C068A0432B4440'"
      ]
     },
     "execution_count": 5,
     "metadata": {},
     "output_type": "execute_result"
    }
   ],
   "source": [
    "df_t.the_geom[1]"
   ]
  },
  {
   "cell_type": "code",
   "execution_count": 14,
   "metadata": {},
   "outputs": [
    {
     "data": {
      "text/plain": [
       "'7db1d0957a6f4a10c9ab8bd437ed6b3e28b3d960'"
      ]
     },
     "execution_count": 14,
     "metadata": {},
     "output_type": "execute_result"
    }
   ],
   "source": [
    "cc.api_key"
   ]
  },
  {
   "cell_type": "code",
   "execution_count": 20,
   "metadata": {},
   "outputs": [
    {
     "data": {
      "text/html": [
       "<div>\n",
       "<style>\n",
       "    .dataframe thead tr:only-child th {\n",
       "        text-align: right;\n",
       "    }\n",
       "\n",
       "    .dataframe thead th {\n",
       "        text-align: left;\n",
       "    }\n",
       "\n",
       "    .dataframe tbody tr th {\n",
       "        vertical-align: top;\n",
       "    }\n",
       "</style>\n",
       "<table border=\"1\" class=\"dataframe\">\n",
       "  <thead>\n",
       "    <tr style=\"text-align: right;\">\n",
       "      <th></th>\n",
       "      <th>Unnamed: 0</th>\n",
       "      <th>VendorID</th>\n",
       "      <th>tpep_pickup_datetime</th>\n",
       "      <th>tpep_dropoff_datetime</th>\n",
       "      <th>passenger_count</th>\n",
       "      <th>trip_distance</th>\n",
       "      <th>pickup_longitude</th>\n",
       "      <th>pickup_latitude</th>\n",
       "      <th>RatecodeID</th>\n",
       "      <th>store_and_fwd_flag</th>\n",
       "      <th>dropoff_longitude</th>\n",
       "      <th>dropoff_latitude</th>\n",
       "      <th>payment_type</th>\n",
       "      <th>fare_amount</th>\n",
       "      <th>extra</th>\n",
       "      <th>mta_tax</th>\n",
       "      <th>tip_amount</th>\n",
       "      <th>tolls_amount</th>\n",
       "      <th>improvement_surcharge</th>\n",
       "      <th>total_amount</th>\n",
       "    </tr>\n",
       "  </thead>\n",
       "  <tbody>\n",
       "    <tr>\n",
       "      <th>0</th>\n",
       "      <td>303227</td>\n",
       "      <td>2</td>\n",
       "      <td>2016-05-01 14:52:11</td>\n",
       "      <td>2016-05-01 15:00:36</td>\n",
       "      <td>2</td>\n",
       "      <td>2.08</td>\n",
       "      <td>-74.006706</td>\n",
       "      <td>40.730461</td>\n",
       "      <td>1.0</td>\n",
       "      <td>N</td>\n",
       "      <td>-74.012383</td>\n",
       "      <td>40.706779</td>\n",
       "      <td>1.0</td>\n",
       "      <td>8.5</td>\n",
       "      <td>0.0</td>\n",
       "      <td>0.5</td>\n",
       "      <td>1.00</td>\n",
       "      <td>0.0</td>\n",
       "      <td>0.3</td>\n",
       "      <td>10.30</td>\n",
       "    </tr>\n",
       "    <tr>\n",
       "      <th>1</th>\n",
       "      <td>183993</td>\n",
       "      <td>1</td>\n",
       "      <td>2016-05-01 08:34:08</td>\n",
       "      <td>2016-05-01 08:49:02</td>\n",
       "      <td>1</td>\n",
       "      <td>3.00</td>\n",
       "      <td>-73.924957</td>\n",
       "      <td>40.744125</td>\n",
       "      <td>1.0</td>\n",
       "      <td>N</td>\n",
       "      <td>-73.973824</td>\n",
       "      <td>40.762779</td>\n",
       "      <td>1.0</td>\n",
       "      <td>13.5</td>\n",
       "      <td>0.0</td>\n",
       "      <td>0.5</td>\n",
       "      <td>2.00</td>\n",
       "      <td>0.0</td>\n",
       "      <td>0.3</td>\n",
       "      <td>16.30</td>\n",
       "    </tr>\n",
       "    <tr>\n",
       "      <th>2</th>\n",
       "      <td>1434785</td>\n",
       "      <td>1</td>\n",
       "      <td>2016-05-04 09:44:40</td>\n",
       "      <td>2016-05-04 10:07:09</td>\n",
       "      <td>1</td>\n",
       "      <td>2.10</td>\n",
       "      <td>-73.973488</td>\n",
       "      <td>40.748501</td>\n",
       "      <td>1.0</td>\n",
       "      <td>N</td>\n",
       "      <td>-73.998955</td>\n",
       "      <td>40.740833</td>\n",
       "      <td>2.0</td>\n",
       "      <td>14.5</td>\n",
       "      <td>0.0</td>\n",
       "      <td>0.5</td>\n",
       "      <td>0.00</td>\n",
       "      <td>0.0</td>\n",
       "      <td>0.3</td>\n",
       "      <td>15.30</td>\n",
       "    </tr>\n",
       "    <tr>\n",
       "      <th>3</th>\n",
       "      <td>421142</td>\n",
       "      <td>2</td>\n",
       "      <td>2016-05-01 20:50:11</td>\n",
       "      <td>2016-05-01 21:05:24</td>\n",
       "      <td>1</td>\n",
       "      <td>4.41</td>\n",
       "      <td>-73.999786</td>\n",
       "      <td>40.743267</td>\n",
       "      <td>1.0</td>\n",
       "      <td>N</td>\n",
       "      <td>-73.966362</td>\n",
       "      <td>40.792370</td>\n",
       "      <td>2.0</td>\n",
       "      <td>15.0</td>\n",
       "      <td>0.5</td>\n",
       "      <td>0.5</td>\n",
       "      <td>0.00</td>\n",
       "      <td>0.0</td>\n",
       "      <td>0.3</td>\n",
       "      <td>16.30</td>\n",
       "    </tr>\n",
       "    <tr>\n",
       "      <th>4</th>\n",
       "      <td>547655</td>\n",
       "      <td>2</td>\n",
       "      <td>2016-05-02 07:26:56</td>\n",
       "      <td>2016-05-02 07:53:53</td>\n",
       "      <td>2</td>\n",
       "      <td>4.01</td>\n",
       "      <td>-73.963631</td>\n",
       "      <td>40.803360</td>\n",
       "      <td>1.0</td>\n",
       "      <td>N</td>\n",
       "      <td>-73.956963</td>\n",
       "      <td>40.784939</td>\n",
       "      <td>1.0</td>\n",
       "      <td>19.5</td>\n",
       "      <td>0.0</td>\n",
       "      <td>0.5</td>\n",
       "      <td>4.06</td>\n",
       "      <td>0.0</td>\n",
       "      <td>0.3</td>\n",
       "      <td>24.36</td>\n",
       "    </tr>\n",
       "  </tbody>\n",
       "</table>\n",
       "</div>"
      ],
      "text/plain": [
       "   Unnamed: 0  VendorID tpep_pickup_datetime tpep_dropoff_datetime  \\\n",
       "0      303227         2  2016-05-01 14:52:11   2016-05-01 15:00:36   \n",
       "1      183993         1  2016-05-01 08:34:08   2016-05-01 08:49:02   \n",
       "2     1434785         1  2016-05-04 09:44:40   2016-05-04 10:07:09   \n",
       "3      421142         2  2016-05-01 20:50:11   2016-05-01 21:05:24   \n",
       "4      547655         2  2016-05-02 07:26:56   2016-05-02 07:53:53   \n",
       "\n",
       "   passenger_count  trip_distance  pickup_longitude  pickup_latitude  \\\n",
       "0                2           2.08        -74.006706        40.730461   \n",
       "1                1           3.00        -73.924957        40.744125   \n",
       "2                1           2.10        -73.973488        40.748501   \n",
       "3                1           4.41        -73.999786        40.743267   \n",
       "4                2           4.01        -73.963631        40.803360   \n",
       "\n",
       "   RatecodeID store_and_fwd_flag  dropoff_longitude  dropoff_latitude  \\\n",
       "0         1.0                  N         -74.012383         40.706779   \n",
       "1         1.0                  N         -73.973824         40.762779   \n",
       "2         1.0                  N         -73.998955         40.740833   \n",
       "3         1.0                  N         -73.966362         40.792370   \n",
       "4         1.0                  N         -73.956963         40.784939   \n",
       "\n",
       "   payment_type  fare_amount  extra  mta_tax  tip_amount  tolls_amount  \\\n",
       "0           1.0          8.5    0.0      0.5        1.00           0.0   \n",
       "1           1.0         13.5    0.0      0.5        2.00           0.0   \n",
       "2           2.0         14.5    0.0      0.5        0.00           0.0   \n",
       "3           2.0         15.0    0.5      0.5        0.00           0.0   \n",
       "4           1.0         19.5    0.0      0.5        4.06           0.0   \n",
       "\n",
       "   improvement_surcharge  total_amount  \n",
       "0                    0.3         10.30  \n",
       "1                    0.3         16.30  \n",
       "2                    0.3         15.30  \n",
       "3                    0.3         16.30  \n",
       "4                    0.3         24.36  "
      ]
     },
     "execution_count": 20,
     "metadata": {},
     "output_type": "execute_result"
    }
   ],
   "source": [
    "df = pd.read_csv('taxi_smallest.csv')\n",
    "df.head()"
   ]
  },
  {
   "cell_type": "code",
   "execution_count": 43,
   "metadata": {},
   "outputs": [],
   "source": [
    "def print_me(row):\n",
    "    p_text = 'Point ({0} {1})'.format(row['pickup_longitude'], row['pickup_latitude'])\n",
    "    return ba.hexlify(wkb.dumps(wkt.loads(p_text))).decode()\n",
    "\n",
    "df['the_geom'] = df.apply(print_me, axis=1)"
   ]
  },
  {
   "cell_type": "code",
   "execution_count": 44,
   "metadata": {},
   "outputs": [
    {
     "data": {
      "text/html": [
       "<div>\n",
       "<style>\n",
       "    .dataframe thead tr:only-child th {\n",
       "        text-align: right;\n",
       "    }\n",
       "\n",
       "    .dataframe thead th {\n",
       "        text-align: left;\n",
       "    }\n",
       "\n",
       "    .dataframe tbody tr th {\n",
       "        vertical-align: top;\n",
       "    }\n",
       "</style>\n",
       "<table border=\"1\" class=\"dataframe\">\n",
       "  <thead>\n",
       "    <tr style=\"text-align: right;\">\n",
       "      <th></th>\n",
       "      <th>Unnamed: 0</th>\n",
       "      <th>VendorID</th>\n",
       "      <th>tpep_pickup_datetime</th>\n",
       "      <th>tpep_dropoff_datetime</th>\n",
       "      <th>passenger_count</th>\n",
       "      <th>trip_distance</th>\n",
       "      <th>pickup_longitude</th>\n",
       "      <th>pickup_latitude</th>\n",
       "      <th>RatecodeID</th>\n",
       "      <th>store_and_fwd_flag</th>\n",
       "      <th>...</th>\n",
       "      <th>dropoff_latitude</th>\n",
       "      <th>payment_type</th>\n",
       "      <th>fare_amount</th>\n",
       "      <th>extra</th>\n",
       "      <th>mta_tax</th>\n",
       "      <th>tip_amount</th>\n",
       "      <th>tolls_amount</th>\n",
       "      <th>improvement_surcharge</th>\n",
       "      <th>total_amount</th>\n",
       "      <th>the_geom</th>\n",
       "    </tr>\n",
       "  </thead>\n",
       "  <tbody>\n",
       "    <tr>\n",
       "      <th>0</th>\n",
       "      <td>303227</td>\n",
       "      <td>2</td>\n",
       "      <td>2016-05-01 14:52:11</td>\n",
       "      <td>2016-05-01 15:00:36</td>\n",
       "      <td>2</td>\n",
       "      <td>2.08</td>\n",
       "      <td>-74.006706</td>\n",
       "      <td>40.730461</td>\n",
       "      <td>1.0</td>\n",
       "      <td>N</td>\n",
       "      <td>...</td>\n",
       "      <td>40.706779</td>\n",
       "      <td>1.0</td>\n",
       "      <td>8.5</td>\n",
       "      <td>0.0</td>\n",
       "      <td>0.5</td>\n",
       "      <td>1.00</td>\n",
       "      <td>0.0</td>\n",
       "      <td>0.3</td>\n",
       "      <td>10.30</td>\n",
       "      <td>0101000000010000e06d8052c0000000c07f5d4440</td>\n",
       "    </tr>\n",
       "    <tr>\n",
       "      <th>1</th>\n",
       "      <td>183993</td>\n",
       "      <td>1</td>\n",
       "      <td>2016-05-01 08:34:08</td>\n",
       "      <td>2016-05-01 08:49:02</td>\n",
       "      <td>1</td>\n",
       "      <td>3.00</td>\n",
       "      <td>-73.924957</td>\n",
       "      <td>40.744125</td>\n",
       "      <td>1.0</td>\n",
       "      <td>N</td>\n",
       "      <td>...</td>\n",
       "      <td>40.762779</td>\n",
       "      <td>1.0</td>\n",
       "      <td>13.5</td>\n",
       "      <td>0.0</td>\n",
       "      <td>0.5</td>\n",
       "      <td>2.00</td>\n",
       "      <td>0.0</td>\n",
       "      <td>0.3</td>\n",
       "      <td>16.30</td>\n",
       "      <td>010100000000000080327b52c0000000803f5f4440</td>\n",
       "    </tr>\n",
       "    <tr>\n",
       "      <th>2</th>\n",
       "      <td>1434785</td>\n",
       "      <td>1</td>\n",
       "      <td>2016-05-04 09:44:40</td>\n",
       "      <td>2016-05-04 10:07:09</td>\n",
       "      <td>1</td>\n",
       "      <td>2.10</td>\n",
       "      <td>-73.973488</td>\n",
       "      <td>40.748501</td>\n",
       "      <td>1.0</td>\n",
       "      <td>N</td>\n",
       "      <td>...</td>\n",
       "      <td>40.740833</td>\n",
       "      <td>2.0</td>\n",
       "      <td>14.5</td>\n",
       "      <td>0.0</td>\n",
       "      <td>0.5</td>\n",
       "      <td>0.00</td>\n",
       "      <td>0.0</td>\n",
       "      <td>0.3</td>\n",
       "      <td>15.30</td>\n",
       "      <td>0101000000000000a04d7e52c0000000e0ce5f4440</td>\n",
       "    </tr>\n",
       "    <tr>\n",
       "      <th>3</th>\n",
       "      <td>421142</td>\n",
       "      <td>2</td>\n",
       "      <td>2016-05-01 20:50:11</td>\n",
       "      <td>2016-05-01 21:05:24</td>\n",
       "      <td>1</td>\n",
       "      <td>4.41</td>\n",
       "      <td>-73.999786</td>\n",
       "      <td>40.743267</td>\n",
       "      <td>1.0</td>\n",
       "      <td>N</td>\n",
       "      <td>...</td>\n",
       "      <td>40.792370</td>\n",
       "      <td>2.0</td>\n",
       "      <td>15.0</td>\n",
       "      <td>0.5</td>\n",
       "      <td>0.5</td>\n",
       "      <td>0.00</td>\n",
       "      <td>0.0</td>\n",
       "      <td>0.3</td>\n",
       "      <td>16.30</td>\n",
       "      <td>010100000000000080fc7f52c000000060235f4440</td>\n",
       "    </tr>\n",
       "    <tr>\n",
       "      <th>4</th>\n",
       "      <td>547655</td>\n",
       "      <td>2</td>\n",
       "      <td>2016-05-02 07:26:56</td>\n",
       "      <td>2016-05-02 07:53:53</td>\n",
       "      <td>2</td>\n",
       "      <td>4.01</td>\n",
       "      <td>-73.963631</td>\n",
       "      <td>40.803360</td>\n",
       "      <td>1.0</td>\n",
       "      <td>N</td>\n",
       "      <td>...</td>\n",
       "      <td>40.784939</td>\n",
       "      <td>1.0</td>\n",
       "      <td>19.5</td>\n",
       "      <td>0.0</td>\n",
       "      <td>0.5</td>\n",
       "      <td>4.06</td>\n",
       "      <td>0.0</td>\n",
       "      <td>0.3</td>\n",
       "      <td>24.36</td>\n",
       "      <td>010100000001000020ac7d52c000000080d4664440</td>\n",
       "    </tr>\n",
       "  </tbody>\n",
       "</table>\n",
       "<p>5 rows × 21 columns</p>\n",
       "</div>"
      ],
      "text/plain": [
       "   Unnamed: 0  VendorID tpep_pickup_datetime tpep_dropoff_datetime  \\\n",
       "0      303227         2  2016-05-01 14:52:11   2016-05-01 15:00:36   \n",
       "1      183993         1  2016-05-01 08:34:08   2016-05-01 08:49:02   \n",
       "2     1434785         1  2016-05-04 09:44:40   2016-05-04 10:07:09   \n",
       "3      421142         2  2016-05-01 20:50:11   2016-05-01 21:05:24   \n",
       "4      547655         2  2016-05-02 07:26:56   2016-05-02 07:53:53   \n",
       "\n",
       "   passenger_count  trip_distance  pickup_longitude  pickup_latitude  \\\n",
       "0                2           2.08        -74.006706        40.730461   \n",
       "1                1           3.00        -73.924957        40.744125   \n",
       "2                1           2.10        -73.973488        40.748501   \n",
       "3                1           4.41        -73.999786        40.743267   \n",
       "4                2           4.01        -73.963631        40.803360   \n",
       "\n",
       "   RatecodeID store_and_fwd_flag                     ...                      \\\n",
       "0         1.0                  N                     ...                       \n",
       "1         1.0                  N                     ...                       \n",
       "2         1.0                  N                     ...                       \n",
       "3         1.0                  N                     ...                       \n",
       "4         1.0                  N                     ...                       \n",
       "\n",
       "   dropoff_latitude  payment_type  fare_amount  extra  mta_tax  tip_amount  \\\n",
       "0         40.706779           1.0          8.5    0.0      0.5        1.00   \n",
       "1         40.762779           1.0         13.5    0.0      0.5        2.00   \n",
       "2         40.740833           2.0         14.5    0.0      0.5        0.00   \n",
       "3         40.792370           2.0         15.0    0.5      0.5        0.00   \n",
       "4         40.784939           1.0         19.5    0.0      0.5        4.06   \n",
       "\n",
       "   tolls_amount  improvement_surcharge  total_amount  \\\n",
       "0           0.0                    0.3         10.30   \n",
       "1           0.0                    0.3         16.30   \n",
       "2           0.0                    0.3         15.30   \n",
       "3           0.0                    0.3         16.30   \n",
       "4           0.0                    0.3         24.36   \n",
       "\n",
       "                                     the_geom  \n",
       "0  0101000000010000e06d8052c0000000c07f5d4440  \n",
       "1  010100000000000080327b52c0000000803f5f4440  \n",
       "2  0101000000000000a04d7e52c0000000e0ce5f4440  \n",
       "3  010100000000000080fc7f52c000000060235f4440  \n",
       "4  010100000001000020ac7d52c000000080d4664440  \n",
       "\n",
       "[5 rows x 21 columns]"
      ]
     },
     "execution_count": 44,
     "metadata": {},
     "output_type": "execute_result"
    }
   ],
   "source": [
    "df.head()"
   ]
  },
  {
   "cell_type": "code",
   "execution_count": 45,
   "metadata": {
    "collapsed": true
   },
   "outputs": [],
   "source": [
    "df.to_csv('test_geom_table.csv')"
   ]
  },
  {
   "cell_type": "code",
   "execution_count": 8,
   "metadata": {},
   "outputs": [],
   "source": [
    "import requests\n",
    "with open('test_geom_table.csv') as f:\n",
    "    resp = requests.post('https://eschbacher.carto.com/api/v1/imports?api_key=7db1d0957a6f4a10c9ab8bd437ed6b3e28b3d960', \n",
    "                         files={'file': f},\n",
    "                         params={'type_guessing': 'false',\n",
    "                                 'table_name': 'testing_content_guessing_false'},\n",
    "                         stream=True)\n"
   ]
  },
  {
   "cell_type": "code",
   "execution_count": 9,
   "metadata": {},
   "outputs": [
    {
     "data": {
      "text/plain": [
       "'{\"item_queue_id\":\"2368ce5c-6df2-4f6f-921e-a4901ec61221\",\"success\":true}'"
      ]
     },
     "execution_count": 9,
     "metadata": {},
     "output_type": "execute_result"
    }
   ],
   "source": [
    "resp.text"
   ]
  },
  {
   "cell_type": "code",
   "execution_count": null,
   "metadata": {
    "collapsed": true
   },
   "outputs": [],
   "source": []
  }
 ],
 "metadata": {
  "kernelspec": {
   "display_name": "Python 3",
   "language": "python",
   "name": "python3"
  },
  "language_info": {
   "codemirror_mode": {
    "name": "ipython",
    "version": 3
   },
   "file_extension": ".py",
   "mimetype": "text/x-python",
   "name": "python",
   "nbconvert_exporter": "python",
   "pygments_lexer": "ipython3",
   "version": "3.6.1"
  }
 },
 "nbformat": 4,
 "nbformat_minor": 2
}
