{
 "cells": [
  {
   "cell_type": "code",
   "execution_count": 1,
   "metadata": {
    "collapsed": false
   },
   "outputs": [
    {
     "name": "stdout",
     "output_type": "stream",
     "text": [
      "{'rows': [], 'time': 0.001, 'fields': {'cartodb_id': {'type': 'number'}, 'the_geom': {'type': 'geometry'}, 'the_geom_webmercator': {'type': 'geometry'}, 'geom_refs': {'type': 'string'}}, 'total_rows': 0}\n",
      "Named map name: cartoframes_nuts2_test_spain12_1489420682_505823\n",
      "Cannot create a map from `cartoframes_nuts2_test_spain12` because this table does not have geometries (None)\n"
     ]
    }
   ],
   "source": [
    "import pandas as pd\n",
    "import cartoframes\n",
    "import json\n",
    "\n",
    "USERNAME = json.loads(open('credentials.json').read())['username']\n",
    "APIKEY = json.loads(open('credentials.json').read())['api_key']\n",
    "\n",
    "query = '''SELECT *\n",
    "  FROM OBS_GetBoundariesByGeometry(\n",
    "    ST_Buffer(CDB_LatLng(40.4168, 3.7038), 0.11),\n",
    "    'eu.geo.nuts2'\n",
    "  )'''\n",
    "\n",
    "df = pd.read_carto(username=USERNAME,\n",
    "                   api_key=APIKEY,\n",
    "                   query=query,\n",
    "                   tablename='cartoframes_nuts2_test_spain12',\n",
    "                   is_org_user=True)"
   ]
  },
  {
   "cell_type": "code",
   "execution_count": 4,
   "metadata": {
    "collapsed": false
   },
   "outputs": [
    {
     "ename": "ValueError",
     "evalue": "Cannot make a map because geometries are all null.",
     "output_type": "error",
     "traceback": [
      "\u001b[0;31m---------------------------------------------------------------------------\u001b[0m",
      "\u001b[0;31mValueError\u001b[0m                                Traceback (most recent call last)",
      "\u001b[0;32m<ipython-input-4-dd22e7082452>\u001b[0m in \u001b[0;36m<module>\u001b[0;34m()\u001b[0m\n\u001b[0;32m----> 1\u001b[0;31m \u001b[0mdf\u001b[0m\u001b[0;34m.\u001b[0m\u001b[0mcarto_map\u001b[0m\u001b[0;34m(\u001b[0m\u001b[0mcolor\u001b[0m\u001b[0;34m=\u001b[0m\u001b[0;34m'red'\u001b[0m\u001b[0;34m)\u001b[0m\u001b[0;34m\u001b[0m\u001b[0m\n\u001b[0m",
      "\u001b[0;32m/Users/peschbacher/Desktop/CartoDB/repos/cartoframes/cartoframes/core.py\u001b[0m in \u001b[0;36mcarto_map\u001b[0;34m(self, interactive, color, size, cartocss, basemap, figsize, debug)\u001b[0m\n\u001b[1;32m    526\u001b[0m \u001b[0;34m\u001b[0m\u001b[0m\n\u001b[1;32m    527\u001b[0m     \u001b[0;32mif\u001b[0m \u001b[0mself\u001b[0m\u001b[0;34m.\u001b[0m\u001b[0mget_carto_geomtype\u001b[0m\u001b[0;34m(\u001b[0m\u001b[0;34m)\u001b[0m \u001b[0;32mis\u001b[0m \u001b[0;32mNone\u001b[0m\u001b[0;34m:\u001b[0m\u001b[0;34m\u001b[0m\u001b[0m\n\u001b[0;32m--> 528\u001b[0;31m         \u001b[0;32mraise\u001b[0m \u001b[0mValueError\u001b[0m\u001b[0;34m(\u001b[0m\u001b[0;34m\"Cannot make a map because geometries are all null.\"\u001b[0m\u001b[0;34m)\u001b[0m\u001b[0;34m\u001b[0m\u001b[0m\n\u001b[0m\u001b[1;32m    529\u001b[0m \u001b[0;34m\u001b[0m\u001b[0m\n\u001b[1;32m    530\u001b[0m     \u001b[0;32mif\u001b[0m \u001b[0mcartocss\u001b[0m \u001b[0;32mis\u001b[0m \u001b[0;32mNone\u001b[0m\u001b[0;34m:\u001b[0m\u001b[0;34m\u001b[0m\u001b[0m\n",
      "\u001b[0;31mValueError\u001b[0m: Cannot make a map because geometries are all null."
     ]
    }
   ],
   "source": [
    "df.carto_map(color='red')"
   ]
  },
  {
   "cell_type": "code",
   "execution_count": null,
   "metadata": {
    "collapsed": true
   },
   "outputs": [],
   "source": []
  }
 ],
 "metadata": {
  "kernelspec": {
   "display_name": "Python 3",
   "language": "python",
   "name": "python3"
  },
  "language_info": {
   "codemirror_mode": {
    "name": "ipython",
    "version": 3
   },
   "file_extension": ".py",
   "mimetype": "text/x-python",
   "name": "python",
   "nbconvert_exporter": "python",
   "pygments_lexer": "ipython3",
   "version": "3.6.0"
  }
 },
 "nbformat": 4,
 "nbformat_minor": 2
}
