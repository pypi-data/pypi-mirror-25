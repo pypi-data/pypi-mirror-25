{
 "cells": [
  {
   "cell_type": "code",
   "execution_count": 7,
   "metadata": {
    "collapsed": true
   },
   "outputs": [],
   "source": [
    "import numpy as np\n",
    "APIKEY = '8e92c06c9a91f8d3c00455109e8e609ee4096d62'\n",
    "USERNAME = 'eschbacher'\n",
    "\n",
    "def get_auth_client(username=None, api_key=None, cdb_client=None):\n",
    "    \"\"\"\n",
    "    \"\"\"\n",
    "    from carto.sql import SQLClient\n",
    "    from carto.auth import APIKeyAuthClient\n",
    "    if cdb_client is None:\n",
    "        BASEURL = 'https://{username}.carto.com/api/'.format(username=username)\n",
    "        auth_client = APIKeyAuthClient(BASEURL, api_key)\n",
    "        sql = SQLClient(auth_client)\n",
    "    elif (username is not None) and (api_key is not None):\n",
    "        sql = SQLClient(cdb_client)\n",
    "    else:\n",
    "        raise Exception(\"`username` and `api_key` or `cdb_client` has to be \"\n",
    "                        \"specified.\")\n",
    "    return sql"
   ]
  },
  {
   "cell_type": "code",
   "execution_count": 8,
   "metadata": {
    "collapsed": true
   },
   "outputs": [],
   "source": [
    "# create table\n",
    "sql = get_auth_client(USERNAME, APIKEY)"
   ]
  },
  {
   "cell_type": "code",
   "execution_count": null,
   "metadata": {
    "collapsed": false
   },
   "outputs": [],
   "source": [
    "create_table = \"CREATE TABLE batch_size_test(rand_num numeric, int_val int, name text);\"\n",
    "resp = sql.send(create_table)\n",
    "print(resp)"
   ]
  },
  {
   "cell_type": "code",
   "execution_count": 18,
   "metadata": {
    "collapsed": false
   },
   "outputs": [
    {
     "name": "stdout",
     "output_type": "stream",
     "text": [
      "Trying batch size 25000\n",
      "num chars in 25000: 970655\n",
      "{'rows': [], 'time': 0.092, 'fields': {}, 'total_rows': 25000}\n",
      "Trying batch size 26000\n",
      "num chars in 26000: 1009950\n",
      "{'rows': [], 'time': 0.094, 'fields': {}, 'total_rows': 26000}\n"
     ]
    }
   ],
   "source": [
    "batch_sizes = (100, 500, 1000, 1500, 2000, 2500, 3000, 3500, 4000, 4500, 5500, 6000, 7000, 8000, 9000, 10000, 11000, 12000, 13000, 14000)\n",
    "names = ['andy', 'corinne', 'mr. pomelo']\n",
    "query = '''\n",
    "INSERT INTO batch_size_test(rand_num, int_val, name)\n",
    "VALUES {values};\n",
    "'''\n",
    "value_query = \"({rand_num}, {int_val}, '{name}')\"\n",
    "\n",
    "for i in range(25, 27):\n",
    "    val_entries = []\n",
    "    batch = int(1000 * i)\n",
    "    print(\"Trying batch size {}\".format(batch))\n",
    "    for i in range(batch):\n",
    "        val_entries.append(value_query.format(rand_num=np.random.random(),\n",
    "                                              int_val=i,\n",
    "                                              name=names[i % 3]))\n",
    "    val_entry = ','.join(val_entries)\n",
    "    if batch == 26000:\n",
    "        with open('batch_26k.txt', 'w') as f:\n",
    "            f.write(val_entry)\n",
    "    print(\"num chars in {batch}: {n_chars}\".format(batch=batch, n_chars=len(val_entry)))\n",
    "    resp = sql.send(query.format(values=val_entry))\n",
    "    print(resp)\n"
   ]
  },
  {
   "cell_type": "code",
   "execution_count": null,
   "metadata": {
    "collapsed": true
   },
   "outputs": [],
   "source": []
  }
 ],
 "metadata": {
  "kernelspec": {
   "display_name": "Python 3",
   "language": "python",
   "name": "python3"
  },
  "language_info": {
   "codemirror_mode": {
    "name": "ipython",
    "version": 3
   },
   "file_extension": ".py",
   "mimetype": "text/x-python",
   "name": "python",
   "nbconvert_exporter": "python",
   "pygments_lexer": "ipython3",
   "version": "3.6.0"
  }
 },
 "nbformat": 4,
 "nbformat_minor": 2
}
