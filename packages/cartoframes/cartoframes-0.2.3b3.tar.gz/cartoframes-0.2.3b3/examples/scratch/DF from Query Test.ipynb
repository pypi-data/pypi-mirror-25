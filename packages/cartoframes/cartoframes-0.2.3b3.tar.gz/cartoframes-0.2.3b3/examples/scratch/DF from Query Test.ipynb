{
 "cells": [
  {
   "cell_type": "code",
   "execution_count": 3,
   "metadata": {
    "collapsed": false,
    "deletable": true,
    "editable": true
   },
   "outputs": [],
   "source": [
    "import pandas as pd\n",
    "import cartoframes\n",
    "\n",
    "import json\n",
    "\n",
    "USERNAME = json.loads(open('credentials.json').read())['username']\n",
    "APIKEY = json.loads(open('credentials.json').read())['api_key']"
   ]
  },
  {
   "cell_type": "code",
   "execution_count": 3,
   "metadata": {
    "collapsed": false,
    "deletable": true,
    "editable": true,
    "scrolled": false
   },
   "outputs": [
    {
     "name": "stdout",
     "output_type": "stream",
     "text": [
      "Named map name: cartoframes_california_earthquakes_1489415943_5593002\n"
     ]
    },
    {
     "data": {
      "text/html": [
       "<div>\n",
       "<table border=\"1\" class=\"dataframe\">\n",
       "  <thead>\n",
       "    <tr style=\"text-align: right;\">\n",
       "      <th></th>\n",
       "      <th>created_at</th>\n",
       "      <th>depth</th>\n",
       "      <th>dmin</th>\n",
       "      <th>gap</th>\n",
       "      <th>id</th>\n",
       "      <th>latitude</th>\n",
       "      <th>longitude</th>\n",
       "      <th>mag</th>\n",
       "      <th>magtype</th>\n",
       "      <th>net</th>\n",
       "      <th>nst</th>\n",
       "      <th>place</th>\n",
       "      <th>rms</th>\n",
       "      <th>the_geom</th>\n",
       "      <th>the_geom_webmercator</th>\n",
       "      <th>time</th>\n",
       "      <th>type</th>\n",
       "      <th>updated</th>\n",
       "      <th>updated_at</th>\n",
       "    </tr>\n",
       "    <tr>\n",
       "      <th>cartodb_id</th>\n",
       "      <th></th>\n",
       "      <th></th>\n",
       "      <th></th>\n",
       "      <th></th>\n",
       "      <th></th>\n",
       "      <th></th>\n",
       "      <th></th>\n",
       "      <th></th>\n",
       "      <th></th>\n",
       "      <th></th>\n",
       "      <th></th>\n",
       "      <th></th>\n",
       "      <th></th>\n",
       "      <th></th>\n",
       "      <th></th>\n",
       "      <th></th>\n",
       "      <th></th>\n",
       "      <th></th>\n",
       "      <th></th>\n",
       "    </tr>\n",
       "  </thead>\n",
       "  <tbody>\n",
       "    <tr>\n",
       "      <th>12</th>\n",
       "      <td>2015-02-17 18:36:45</td>\n",
       "      <td>2.45</td>\n",
       "      <td>0.005465</td>\n",
       "      <td>48.0</td>\n",
       "      <td>nc72396220</td>\n",
       "      <td>38.822666</td>\n",
       "      <td>-122.842003</td>\n",
       "      <td>0.78</td>\n",
       "      <td>md</td>\n",
       "      <td>nc</td>\n",
       "      <td>15.0</td>\n",
       "      <td>8km NW of The Geysers, California</td>\n",
       "      <td>0.02</td>\n",
       "      <td>0101000020E6100000C7A82160E3B55EC0264344204D69...</td>\n",
       "      <td>0101000020110F00008B50BFA61A156AC1700908713BEA...</td>\n",
       "      <td>2015-02-17 16:41:20</td>\n",
       "      <td>earthquake</td>\n",
       "      <td>2015-02-17 17:17:02</td>\n",
       "      <td>2015-02-17 18:36:45</td>\n",
       "    </tr>\n",
       "    <tr>\n",
       "      <th>51</th>\n",
       "      <td>2015-02-17 18:36:45</td>\n",
       "      <td>2.02</td>\n",
       "      <td>0.014780</td>\n",
       "      <td>68.0</td>\n",
       "      <td>nc72396100</td>\n",
       "      <td>38.822334</td>\n",
       "      <td>-122.839165</td>\n",
       "      <td>0.81</td>\n",
       "      <td>md</td>\n",
       "      <td>nc</td>\n",
       "      <td>16.0</td>\n",
       "      <td>8km NW of The Geysers, California</td>\n",
       "      <td>0.05</td>\n",
       "      <td>0101000020E61000004A9DDBDFB4B55EC0857016404269...</td>\n",
       "      <td>0101000020110F00001FAA7128F3146AC1BF32F4952FEA...</td>\n",
       "      <td>2015-02-17 12:04:38</td>\n",
       "      <td>earthquake</td>\n",
       "      <td>2015-02-17 14:29:03</td>\n",
       "      <td>2015-02-17 18:36:45</td>\n",
       "    </tr>\n",
       "    <tr>\n",
       "      <th>55</th>\n",
       "      <td>2015-02-17 18:36:45</td>\n",
       "      <td>2.84</td>\n",
       "      <td>0.002929</td>\n",
       "      <td>96.0</td>\n",
       "      <td>nc72396095</td>\n",
       "      <td>38.840500</td>\n",
       "      <td>-122.838333</td>\n",
       "      <td>0.55</td>\n",
       "      <td>md</td>\n",
       "      <td>nc</td>\n",
       "      <td>12.0</td>\n",
       "      <td>9km NW of The Geysers, California</td>\n",
       "      <td>0.02</td>\n",
       "      <td>0101000020E6100000E0E9DF3FA7B55EC048652F80956B...</td>\n",
       "      <td>0101000020110F0000E9481996E7146AC1CBF4128FB8EC...</td>\n",
       "      <td>2015-02-17 11:24:54</td>\n",
       "      <td>earthquake</td>\n",
       "      <td>2015-02-17 11:54:04</td>\n",
       "      <td>2015-02-17 18:36:45</td>\n",
       "    </tr>\n",
       "    <tr>\n",
       "      <th>59</th>\n",
       "      <td>2015-02-17 18:36:45</td>\n",
       "      <td>2.62</td>\n",
       "      <td>0.012680</td>\n",
       "      <td>71.0</td>\n",
       "      <td>nc72396085</td>\n",
       "      <td>38.822166</td>\n",
       "      <td>-122.842163</td>\n",
       "      <td>0.97</td>\n",
       "      <td>md</td>\n",
       "      <td>nc</td>\n",
       "      <td>20.0</td>\n",
       "      <td>8km NW of The Geysers, California</td>\n",
       "      <td>0.02</td>\n",
       "      <td>0101000020E610000078190F00E6B55EC05EEFA3BF3C69...</td>\n",
       "      <td>0101000020110F000029626AE11C156AC173B2969629EA...</td>\n",
       "      <td>2015-02-17 11:04:08</td>\n",
       "      <td>earthquake</td>\n",
       "      <td>2015-02-17 11:33:06</td>\n",
       "      <td>2015-02-17 18:36:45</td>\n",
       "    </tr>\n",
       "    <tr>\n",
       "      <th>153</th>\n",
       "      <td>2015-02-17 18:36:45</td>\n",
       "      <td>2.37</td>\n",
       "      <td>0.005214</td>\n",
       "      <td>71.0</td>\n",
       "      <td>nc72395760</td>\n",
       "      <td>38.823666</td>\n",
       "      <td>-122.841667</td>\n",
       "      <td>0.55</td>\n",
       "      <td>md</td>\n",
       "      <td>nc</td>\n",
       "      <td>11.0</td>\n",
       "      <td>9km NW of The Geysers, California</td>\n",
       "      <td>0.02</td>\n",
       "      <td>0101000020E61000006B871AE0DDB55EC08C6BD7DF6D69...</td>\n",
       "      <td>0101000020110F0000BFA8E8FA15156AC172252F245FEA...</td>\n",
       "      <td>2015-02-17 01:49:00</td>\n",
       "      <td>earthquake</td>\n",
       "      <td>2015-02-17 04:26:02</td>\n",
       "      <td>2015-02-17 18:36:45</td>\n",
       "    </tr>\n",
       "  </tbody>\n",
       "</table>\n",
       "</div>"
      ],
      "text/plain": [
       "                    created_at  depth      dmin   gap          id   latitude  \\\n",
       "cartodb_id                                                                     \n",
       "12         2015-02-17 18:36:45   2.45  0.005465  48.0  nc72396220  38.822666   \n",
       "51         2015-02-17 18:36:45   2.02  0.014780  68.0  nc72396100  38.822334   \n",
       "55         2015-02-17 18:36:45   2.84  0.002929  96.0  nc72396095  38.840500   \n",
       "59         2015-02-17 18:36:45   2.62  0.012680  71.0  nc72396085  38.822166   \n",
       "153        2015-02-17 18:36:45   2.37  0.005214  71.0  nc72395760  38.823666   \n",
       "\n",
       "             longitude   mag magtype net   nst  \\\n",
       "cartodb_id                                       \n",
       "12         -122.842003  0.78      md  nc  15.0   \n",
       "51         -122.839165  0.81      md  nc  16.0   \n",
       "55         -122.838333  0.55      md  nc  12.0   \n",
       "59         -122.842163  0.97      md  nc  20.0   \n",
       "153        -122.841667  0.55      md  nc  11.0   \n",
       "\n",
       "                                        place   rms  \\\n",
       "cartodb_id                                            \n",
       "12          8km NW of The Geysers, California  0.02   \n",
       "51          8km NW of The Geysers, California  0.05   \n",
       "55          9km NW of The Geysers, California  0.02   \n",
       "59          8km NW of The Geysers, California  0.02   \n",
       "153         9km NW of The Geysers, California  0.02   \n",
       "\n",
       "                                                     the_geom  \\\n",
       "cartodb_id                                                      \n",
       "12          0101000020E6100000C7A82160E3B55EC0264344204D69...   \n",
       "51          0101000020E61000004A9DDBDFB4B55EC0857016404269...   \n",
       "55          0101000020E6100000E0E9DF3FA7B55EC048652F80956B...   \n",
       "59          0101000020E610000078190F00E6B55EC05EEFA3BF3C69...   \n",
       "153         0101000020E61000006B871AE0DDB55EC08C6BD7DF6D69...   \n",
       "\n",
       "                                         the_geom_webmercator  \\\n",
       "cartodb_id                                                      \n",
       "12          0101000020110F00008B50BFA61A156AC1700908713BEA...   \n",
       "51          0101000020110F00001FAA7128F3146AC1BF32F4952FEA...   \n",
       "55          0101000020110F0000E9481996E7146AC1CBF4128FB8EC...   \n",
       "59          0101000020110F000029626AE11C156AC173B2969629EA...   \n",
       "153         0101000020110F0000BFA8E8FA15156AC172252F245FEA...   \n",
       "\n",
       "                          time        type             updated  \\\n",
       "cartodb_id                                                       \n",
       "12         2015-02-17 16:41:20  earthquake 2015-02-17 17:17:02   \n",
       "51         2015-02-17 12:04:38  earthquake 2015-02-17 14:29:03   \n",
       "55         2015-02-17 11:24:54  earthquake 2015-02-17 11:54:04   \n",
       "59         2015-02-17 11:04:08  earthquake 2015-02-17 11:33:06   \n",
       "153        2015-02-17 01:49:00  earthquake 2015-02-17 04:26:02   \n",
       "\n",
       "                    updated_at  \n",
       "cartodb_id                      \n",
       "12         2015-02-17 18:36:45  \n",
       "51         2015-02-17 18:36:45  \n",
       "55         2015-02-17 18:36:45  \n",
       "59         2015-02-17 18:36:45  \n",
       "153        2015-02-17 18:36:45  "
      ]
     },
     "execution_count": 3,
     "metadata": {},
     "output_type": "execute_result"
    }
   ],
   "source": [
    "df = pd.read_carto(username=USERNAME,\n",
    "                   api_key=APIKEY,\n",
    "#                    query=(\"SELECT a.* \"\n",
    "#                           \"FROM all_month_3 As a \"\n",
    "#                           \"JOIN ne_50m_admin_1_states as u \"\n",
    "#                           \"ON ST_Intersects(a.the_geom, u.the_geom) \"\n",
    "#                           \"WHERE u.name = 'California'\"),\n",
    "                  tablename='cartoframes_california_earthquakes',\n",
    "                  is_org_user=True)\n",
    "df.head()"
   ]
  },
  {
   "cell_type": "code",
   "execution_count": 7,
   "metadata": {
    "collapsed": false,
    "deletable": true,
    "editable": true
   },
   "outputs": [
    {
     "data": {
      "text/html": [
       "<iframe src=\"https://cdn.rawgit.com/andy-esch/6d993d3f25c5856ea38d1f374e57722e/raw/ce30379f35aafd027816f065b4e5c52f881c4a86/index.html?username=eschbacher&tablename=cartoframes_california_earthquakes&cartocss=%23layer+%7B+marker-width%3A+ramp%28%5Bdepth%5D%2C+range%288%2C+20%29%2C+headtails%28%29%29%3B+marker-fill%3A+ramp%28%5Bmag%5D%2C+cartocolor%28Mint%29%2C+quantiles%28%29%29%3B+marker-fill-opacity%3A+1%3B+marker-allow-overlap%3A+true%3B+marker-line-width%3A+1%3B+marker-line-color%3A+%23FFF%3B+marker-line-opacity%3A+1%3B+%7D&basemap=None&bounds=41.3331667%2C-114.9735%2C32.5966667%2C-124.3316667&q=%257B%250A%2520%2520%2520%2520%2520%2520%2522user_name%2522%253A%2520%2522eschbacher%2522%252C%250A%2520%2520%2520%2520%2520%2520%2522type%2522%253A%2520%2522namedmap%2522%252C%250A%2520%2520%2520%2520%2520%2520%2522named_map%2522%253A%2520%257B%250A%2520%2520%2520%2520%2520%2520%2520%2520%2522name%2522%253A%2520%2522cartoframes_california_earthquakes_1489415943_5593002%2522%250A%2520%2520%2520%2520%2520%2520%257D%252C%250A%2520%2520%2520%2520%2520%2520%2522subdomains%2522%253A%2520%255B%2520%2522a%2522%252C%2520%2522b%2522%252C%2520%2522c%2522%2520%255D%250A%2520%2520%2520%2520%2520%2520%257D\" width=647 height=400>Preview image: <img src=\"http://eschbacher.carto.com/api/v1/map/static/named/cartoframes_california_earthquakes_1489415943_5593002/647/400.png\" /></iframe>"
      ],
      "text/plain": [
       "<IPython.core.display.HTML object>"
      ]
     },
     "execution_count": 7,
     "metadata": {},
     "output_type": "execute_result"
    }
   ],
   "source": [
    "df.carto_map(interactive=True, color={'colname': 'mag', 'ramp': 'Mint'},\n",
    "             size={'colname': 'depth', \n",
    "                   'min': 8, \n",
    "                   'max': 20, \n",
    "                   'quant_method': 'headtails'})"
   ]
  },
  {
   "cell_type": "code",
   "execution_count": 9,
   "metadata": {
    "collapsed": false
   },
   "outputs": [],
   "source": [
    "df = pd.DataFrame(columns=['cartodb_id', 'andy', 'corinne'])"
   ]
  },
  {
   "cell_type": "code",
   "execution_count": 10,
   "metadata": {
    "collapsed": false
   },
   "outputs": [
    {
     "data": {
      "text/html": [
       "<div>\n",
       "<table border=\"1\" class=\"dataframe\">\n",
       "  <thead>\n",
       "    <tr style=\"text-align: right;\">\n",
       "      <th></th>\n",
       "      <th>andy</th>\n",
       "      <th>corinne</th>\n",
       "    </tr>\n",
       "    <tr>\n",
       "      <th>cartodb_id</th>\n",
       "      <th></th>\n",
       "      <th></th>\n",
       "    </tr>\n",
       "  </thead>\n",
       "  <tbody>\n",
       "  </tbody>\n",
       "</table>\n",
       "</div>"
      ],
      "text/plain": [
       "Empty DataFrame\n",
       "Columns: [andy, corinne]\n",
       "Index: []"
      ]
     },
     "execution_count": 10,
     "metadata": {},
     "output_type": "execute_result"
    }
   ],
   "source": [
    "df.set_index('cartodb_id')"
   ]
  },
  {
   "cell_type": "code",
   "execution_count": 4,
   "metadata": {
    "collapsed": false
   },
   "outputs": [],
   "source": [
    "from cartoframes.utils import get_auth_client, transform_schema\n",
    "\n",
    "sql = get_auth_client(username=USERNAME, api_key=APIKEY)"
   ]
  },
  {
   "cell_type": "code",
   "execution_count": 7,
   "metadata": {
    "collapsed": false
   },
   "outputs": [],
   "source": [
    "resp = sql.send('''SELECT *\n",
    "  FROM OBS_GetBoundariesByGeometry(\n",
    "    ST_Buffer(CDB_LatLng(40.4168, 3.7038), 0.11),\n",
    "    'eu.geo.nuts2'\n",
    "  )''')"
   ]
  },
  {
   "cell_type": "code",
   "execution_count": 8,
   "metadata": {
    "collapsed": false
   },
   "outputs": [
    {
     "data": {
      "text/plain": [
       "{'fields': {'geom_refs': {'type': 'string'}, 'the_geom': {'type': 'geometry'}},\n",
       " 'rows': [],\n",
       " 'time': 0.614,\n",
       " 'total_rows': 0}"
      ]
     },
     "execution_count": 8,
     "metadata": {},
     "output_type": "execute_result"
    }
   ],
   "source": [
    "resp"
   ]
  },
  {
   "cell_type": "code",
   "execution_count": 9,
   "metadata": {
    "collapsed": false
   },
   "outputs": [
    {
     "data": {
      "text/plain": [
       "0"
      ]
     },
     "execution_count": 9,
     "metadata": {},
     "output_type": "execute_result"
    }
   ],
   "source": [
    "resp['total_rows']"
   ]
  },
  {
   "cell_type": "code",
   "execution_count": 27,
   "metadata": {
    "collapsed": false
   },
   "outputs": [],
   "source": [
    "schema = transform_schema(resp['fields'])"
   ]
  },
  {
   "cell_type": "code",
   "execution_count": 16,
   "metadata": {
    "collapsed": false
   },
   "outputs": [
    {
     "data": {
      "text/plain": [
       "{'geom_refs': {'type': 'string'}, 'the_geom': {'type': 'geometry'}}"
      ]
     },
     "execution_count": 16,
     "metadata": {},
     "output_type": "execute_result"
    }
   ],
   "source": [
    "resp['fields']"
   ]
  },
  {
   "cell_type": "code",
   "execution_count": 35,
   "metadata": {
    "collapsed": false
   },
   "outputs": [
    {
     "ename": "KeyError",
     "evalue": "'cartodb_id'",
     "output_type": "error",
     "traceback": [
      "\u001b[0;31m---------------------------------------------------------------------------\u001b[0m",
      "\u001b[0;31mKeyError\u001b[0m                                  Traceback (most recent call last)",
      "\u001b[0;32m/Users/peschbacher/Desktop/CartoDB/repos/cartoframes/venv/lib/python3.6/site-packages/pandas/indexes/base.py\u001b[0m in \u001b[0;36mget_loc\u001b[0;34m(self, key, method, tolerance)\u001b[0m\n\u001b[1;32m   2133\u001b[0m             \u001b[0;32mtry\u001b[0m\u001b[0;34m:\u001b[0m\u001b[0;34m\u001b[0m\u001b[0m\n\u001b[0;32m-> 2134\u001b[0;31m                 \u001b[0;32mreturn\u001b[0m \u001b[0mself\u001b[0m\u001b[0;34m.\u001b[0m\u001b[0m_engine\u001b[0m\u001b[0;34m.\u001b[0m\u001b[0mget_loc\u001b[0m\u001b[0;34m(\u001b[0m\u001b[0mkey\u001b[0m\u001b[0;34m)\u001b[0m\u001b[0;34m\u001b[0m\u001b[0m\n\u001b[0m\u001b[1;32m   2135\u001b[0m             \u001b[0;32mexcept\u001b[0m \u001b[0mKeyError\u001b[0m\u001b[0;34m:\u001b[0m\u001b[0;34m\u001b[0m\u001b[0m\n",
      "\u001b[0;32mpandas/index.pyx\u001b[0m in \u001b[0;36mpandas.index.IndexEngine.get_loc (pandas/index.c:4433)\u001b[0;34m()\u001b[0m\n",
      "\u001b[0;32mpandas/index.pyx\u001b[0m in \u001b[0;36mpandas.index.IndexEngine.get_loc (pandas/index.c:4279)\u001b[0;34m()\u001b[0m\n",
      "\u001b[0;32mpandas/src/hashtable_class_helper.pxi\u001b[0m in \u001b[0;36mpandas.hashtable.PyObjectHashTable.get_item (pandas/hashtable.c:13742)\u001b[0;34m()\u001b[0m\n",
      "\u001b[0;32mpandas/src/hashtable_class_helper.pxi\u001b[0m in \u001b[0;36mpandas.hashtable.PyObjectHashTable.get_item (pandas/hashtable.c:13696)\u001b[0;34m()\u001b[0m\n",
      "\u001b[0;31mKeyError\u001b[0m: 'cartodb_id'",
      "\nDuring handling of the above exception, another exception occurred:\n",
      "\u001b[0;31mKeyError\u001b[0m                                  Traceback (most recent call last)",
      "\u001b[0;32m<ipython-input-35-16c77ac849b3>\u001b[0m in \u001b[0;36m<module>\u001b[0;34m()\u001b[0m\n\u001b[1;32m      1\u001b[0m df = pd.DataFrame(data=resp['rows'],\n\u001b[0;32m----> 2\u001b[0;31m                   columns=[k for k in resp['fields']].append('cartodb_id')).set_index('cartodb_id').astype(schema)\n\u001b[0m",
      "\u001b[0;32m/Users/peschbacher/Desktop/CartoDB/repos/cartoframes/venv/lib/python3.6/site-packages/pandas/core/frame.py\u001b[0m in \u001b[0;36mset_index\u001b[0;34m(self, keys, drop, append, inplace, verify_integrity)\u001b[0m\n\u001b[1;32m   2915\u001b[0m                 \u001b[0mnames\u001b[0m\u001b[0;34m.\u001b[0m\u001b[0mappend\u001b[0m\u001b[0;34m(\u001b[0m\u001b[0;32mNone\u001b[0m\u001b[0;34m)\u001b[0m\u001b[0;34m\u001b[0m\u001b[0m\n\u001b[1;32m   2916\u001b[0m             \u001b[0;32melse\u001b[0m\u001b[0;34m:\u001b[0m\u001b[0;34m\u001b[0m\u001b[0m\n\u001b[0;32m-> 2917\u001b[0;31m                 \u001b[0mlevel\u001b[0m \u001b[0;34m=\u001b[0m \u001b[0mframe\u001b[0m\u001b[0;34m[\u001b[0m\u001b[0mcol\u001b[0m\u001b[0;34m]\u001b[0m\u001b[0;34m.\u001b[0m\u001b[0m_values\u001b[0m\u001b[0;34m\u001b[0m\u001b[0m\n\u001b[0m\u001b[1;32m   2918\u001b[0m                 \u001b[0mnames\u001b[0m\u001b[0;34m.\u001b[0m\u001b[0mappend\u001b[0m\u001b[0;34m(\u001b[0m\u001b[0mcol\u001b[0m\u001b[0;34m)\u001b[0m\u001b[0;34m\u001b[0m\u001b[0m\n\u001b[1;32m   2919\u001b[0m                 \u001b[0;32mif\u001b[0m \u001b[0mdrop\u001b[0m\u001b[0;34m:\u001b[0m\u001b[0;34m\u001b[0m\u001b[0m\n",
      "\u001b[0;32m/Users/peschbacher/Desktop/CartoDB/repos/cartoframes/venv/lib/python3.6/site-packages/pandas/core/frame.py\u001b[0m in \u001b[0;36m__getitem__\u001b[0;34m(self, key)\u001b[0m\n\u001b[1;32m   2057\u001b[0m             \u001b[0;32mreturn\u001b[0m \u001b[0mself\u001b[0m\u001b[0;34m.\u001b[0m\u001b[0m_getitem_multilevel\u001b[0m\u001b[0;34m(\u001b[0m\u001b[0mkey\u001b[0m\u001b[0;34m)\u001b[0m\u001b[0;34m\u001b[0m\u001b[0m\n\u001b[1;32m   2058\u001b[0m         \u001b[0;32melse\u001b[0m\u001b[0;34m:\u001b[0m\u001b[0;34m\u001b[0m\u001b[0m\n\u001b[0;32m-> 2059\u001b[0;31m             \u001b[0;32mreturn\u001b[0m \u001b[0mself\u001b[0m\u001b[0;34m.\u001b[0m\u001b[0m_getitem_column\u001b[0m\u001b[0;34m(\u001b[0m\u001b[0mkey\u001b[0m\u001b[0;34m)\u001b[0m\u001b[0;34m\u001b[0m\u001b[0m\n\u001b[0m\u001b[1;32m   2060\u001b[0m \u001b[0;34m\u001b[0m\u001b[0m\n\u001b[1;32m   2061\u001b[0m     \u001b[0;32mdef\u001b[0m \u001b[0m_getitem_column\u001b[0m\u001b[0;34m(\u001b[0m\u001b[0mself\u001b[0m\u001b[0;34m,\u001b[0m \u001b[0mkey\u001b[0m\u001b[0;34m)\u001b[0m\u001b[0;34m:\u001b[0m\u001b[0;34m\u001b[0m\u001b[0m\n",
      "\u001b[0;32m/Users/peschbacher/Desktop/CartoDB/repos/cartoframes/venv/lib/python3.6/site-packages/pandas/core/frame.py\u001b[0m in \u001b[0;36m_getitem_column\u001b[0;34m(self, key)\u001b[0m\n\u001b[1;32m   2064\u001b[0m         \u001b[0;31m# get column\u001b[0m\u001b[0;34m\u001b[0m\u001b[0;34m\u001b[0m\u001b[0m\n\u001b[1;32m   2065\u001b[0m         \u001b[0;32mif\u001b[0m \u001b[0mself\u001b[0m\u001b[0;34m.\u001b[0m\u001b[0mcolumns\u001b[0m\u001b[0;34m.\u001b[0m\u001b[0mis_unique\u001b[0m\u001b[0;34m:\u001b[0m\u001b[0;34m\u001b[0m\u001b[0m\n\u001b[0;32m-> 2066\u001b[0;31m             \u001b[0;32mreturn\u001b[0m \u001b[0mself\u001b[0m\u001b[0;34m.\u001b[0m\u001b[0m_get_item_cache\u001b[0m\u001b[0;34m(\u001b[0m\u001b[0mkey\u001b[0m\u001b[0;34m)\u001b[0m\u001b[0;34m\u001b[0m\u001b[0m\n\u001b[0m\u001b[1;32m   2067\u001b[0m \u001b[0;34m\u001b[0m\u001b[0m\n\u001b[1;32m   2068\u001b[0m         \u001b[0;31m# duplicate columns & possible reduce dimensionality\u001b[0m\u001b[0;34m\u001b[0m\u001b[0;34m\u001b[0m\u001b[0m\n",
      "\u001b[0;32m/Users/peschbacher/Desktop/CartoDB/repos/cartoframes/venv/lib/python3.6/site-packages/pandas/core/generic.py\u001b[0m in \u001b[0;36m_get_item_cache\u001b[0;34m(self, item)\u001b[0m\n\u001b[1;32m   1384\u001b[0m         \u001b[0mres\u001b[0m \u001b[0;34m=\u001b[0m \u001b[0mcache\u001b[0m\u001b[0;34m.\u001b[0m\u001b[0mget\u001b[0m\u001b[0;34m(\u001b[0m\u001b[0mitem\u001b[0m\u001b[0;34m)\u001b[0m\u001b[0;34m\u001b[0m\u001b[0m\n\u001b[1;32m   1385\u001b[0m         \u001b[0;32mif\u001b[0m \u001b[0mres\u001b[0m \u001b[0;32mis\u001b[0m \u001b[0;32mNone\u001b[0m\u001b[0;34m:\u001b[0m\u001b[0;34m\u001b[0m\u001b[0m\n\u001b[0;32m-> 1386\u001b[0;31m             \u001b[0mvalues\u001b[0m \u001b[0;34m=\u001b[0m \u001b[0mself\u001b[0m\u001b[0;34m.\u001b[0m\u001b[0m_data\u001b[0m\u001b[0;34m.\u001b[0m\u001b[0mget\u001b[0m\u001b[0;34m(\u001b[0m\u001b[0mitem\u001b[0m\u001b[0;34m)\u001b[0m\u001b[0;34m\u001b[0m\u001b[0m\n\u001b[0m\u001b[1;32m   1387\u001b[0m             \u001b[0mres\u001b[0m \u001b[0;34m=\u001b[0m \u001b[0mself\u001b[0m\u001b[0;34m.\u001b[0m\u001b[0m_box_item_values\u001b[0m\u001b[0;34m(\u001b[0m\u001b[0mitem\u001b[0m\u001b[0;34m,\u001b[0m \u001b[0mvalues\u001b[0m\u001b[0;34m)\u001b[0m\u001b[0;34m\u001b[0m\u001b[0m\n\u001b[1;32m   1388\u001b[0m             \u001b[0mcache\u001b[0m\u001b[0;34m[\u001b[0m\u001b[0mitem\u001b[0m\u001b[0;34m]\u001b[0m \u001b[0;34m=\u001b[0m \u001b[0mres\u001b[0m\u001b[0;34m\u001b[0m\u001b[0m\n",
      "\u001b[0;32m/Users/peschbacher/Desktop/CartoDB/repos/cartoframes/venv/lib/python3.6/site-packages/pandas/core/internals.py\u001b[0m in \u001b[0;36mget\u001b[0;34m(self, item, fastpath)\u001b[0m\n\u001b[1;32m   3541\u001b[0m \u001b[0;34m\u001b[0m\u001b[0m\n\u001b[1;32m   3542\u001b[0m             \u001b[0;32mif\u001b[0m \u001b[0;32mnot\u001b[0m \u001b[0misnull\u001b[0m\u001b[0;34m(\u001b[0m\u001b[0mitem\u001b[0m\u001b[0;34m)\u001b[0m\u001b[0;34m:\u001b[0m\u001b[0;34m\u001b[0m\u001b[0m\n\u001b[0;32m-> 3543\u001b[0;31m                 \u001b[0mloc\u001b[0m \u001b[0;34m=\u001b[0m \u001b[0mself\u001b[0m\u001b[0;34m.\u001b[0m\u001b[0mitems\u001b[0m\u001b[0;34m.\u001b[0m\u001b[0mget_loc\u001b[0m\u001b[0;34m(\u001b[0m\u001b[0mitem\u001b[0m\u001b[0;34m)\u001b[0m\u001b[0;34m\u001b[0m\u001b[0m\n\u001b[0m\u001b[1;32m   3544\u001b[0m             \u001b[0;32melse\u001b[0m\u001b[0;34m:\u001b[0m\u001b[0;34m\u001b[0m\u001b[0m\n\u001b[1;32m   3545\u001b[0m                 \u001b[0mindexer\u001b[0m \u001b[0;34m=\u001b[0m \u001b[0mnp\u001b[0m\u001b[0;34m.\u001b[0m\u001b[0marange\u001b[0m\u001b[0;34m(\u001b[0m\u001b[0mlen\u001b[0m\u001b[0;34m(\u001b[0m\u001b[0mself\u001b[0m\u001b[0;34m.\u001b[0m\u001b[0mitems\u001b[0m\u001b[0;34m)\u001b[0m\u001b[0;34m)\u001b[0m\u001b[0;34m[\u001b[0m\u001b[0misnull\u001b[0m\u001b[0;34m(\u001b[0m\u001b[0mself\u001b[0m\u001b[0;34m.\u001b[0m\u001b[0mitems\u001b[0m\u001b[0;34m)\u001b[0m\u001b[0;34m]\u001b[0m\u001b[0;34m\u001b[0m\u001b[0m\n",
      "\u001b[0;32m/Users/peschbacher/Desktop/CartoDB/repos/cartoframes/venv/lib/python3.6/site-packages/pandas/indexes/base.py\u001b[0m in \u001b[0;36mget_loc\u001b[0;34m(self, key, method, tolerance)\u001b[0m\n\u001b[1;32m   2134\u001b[0m                 \u001b[0;32mreturn\u001b[0m \u001b[0mself\u001b[0m\u001b[0;34m.\u001b[0m\u001b[0m_engine\u001b[0m\u001b[0;34m.\u001b[0m\u001b[0mget_loc\u001b[0m\u001b[0;34m(\u001b[0m\u001b[0mkey\u001b[0m\u001b[0;34m)\u001b[0m\u001b[0;34m\u001b[0m\u001b[0m\n\u001b[1;32m   2135\u001b[0m             \u001b[0;32mexcept\u001b[0m \u001b[0mKeyError\u001b[0m\u001b[0;34m:\u001b[0m\u001b[0;34m\u001b[0m\u001b[0m\n\u001b[0;32m-> 2136\u001b[0;31m                 \u001b[0;32mreturn\u001b[0m \u001b[0mself\u001b[0m\u001b[0;34m.\u001b[0m\u001b[0m_engine\u001b[0m\u001b[0;34m.\u001b[0m\u001b[0mget_loc\u001b[0m\u001b[0;34m(\u001b[0m\u001b[0mself\u001b[0m\u001b[0;34m.\u001b[0m\u001b[0m_maybe_cast_indexer\u001b[0m\u001b[0;34m(\u001b[0m\u001b[0mkey\u001b[0m\u001b[0;34m)\u001b[0m\u001b[0;34m)\u001b[0m\u001b[0;34m\u001b[0m\u001b[0m\n\u001b[0m\u001b[1;32m   2137\u001b[0m \u001b[0;34m\u001b[0m\u001b[0m\n\u001b[1;32m   2138\u001b[0m         \u001b[0mindexer\u001b[0m \u001b[0;34m=\u001b[0m \u001b[0mself\u001b[0m\u001b[0;34m.\u001b[0m\u001b[0mget_indexer\u001b[0m\u001b[0;34m(\u001b[0m\u001b[0;34m[\u001b[0m\u001b[0mkey\u001b[0m\u001b[0;34m]\u001b[0m\u001b[0;34m,\u001b[0m \u001b[0mmethod\u001b[0m\u001b[0;34m=\u001b[0m\u001b[0mmethod\u001b[0m\u001b[0;34m,\u001b[0m \u001b[0mtolerance\u001b[0m\u001b[0;34m=\u001b[0m\u001b[0mtolerance\u001b[0m\u001b[0;34m)\u001b[0m\u001b[0;34m\u001b[0m\u001b[0m\n",
      "\u001b[0;32mpandas/index.pyx\u001b[0m in \u001b[0;36mpandas.index.IndexEngine.get_loc (pandas/index.c:4433)\u001b[0;34m()\u001b[0m\n",
      "\u001b[0;32mpandas/index.pyx\u001b[0m in \u001b[0;36mpandas.index.IndexEngine.get_loc (pandas/index.c:4279)\u001b[0;34m()\u001b[0m\n",
      "\u001b[0;32mpandas/src/hashtable_class_helper.pxi\u001b[0m in \u001b[0;36mpandas.hashtable.PyObjectHashTable.get_item (pandas/hashtable.c:13742)\u001b[0;34m()\u001b[0m\n",
      "\u001b[0;32mpandas/src/hashtable_class_helper.pxi\u001b[0m in \u001b[0;36mpandas.hashtable.PyObjectHashTable.get_item (pandas/hashtable.c:13696)\u001b[0;34m()\u001b[0m\n",
      "\u001b[0;31mKeyError\u001b[0m: 'cartodb_id'"
     ]
    }
   ],
   "source": [
    "df = pd.DataFrame(data=resp['rows'],\n",
    "                  columns=[k for k in resp['fields']].append('cartodb_id')).set_index('cartodb_id').astype(schema)"
   ]
  },
  {
   "cell_type": "code",
   "execution_count": 33,
   "metadata": {
    "collapsed": false
   },
   "outputs": [
    {
     "data": {
      "text/plain": [
       "Index(['the_geom', 'geom_refs'], dtype='object')"
      ]
     },
     "execution_count": 33,
     "metadata": {},
     "output_type": "execute_result"
    }
   ],
   "source": [
    "df.columns"
   ]
  },
  {
   "cell_type": "code",
   "execution_count": null,
   "metadata": {
    "collapsed": true
   },
   "outputs": [],
   "source": []
  }
 ],
 "metadata": {
  "kernelspec": {
   "display_name": "Python 3",
   "language": "python",
   "name": "python3"
  },
  "language_info": {
   "codemirror_mode": {
    "name": "ipython",
    "version": 3
   },
   "file_extension": ".py",
   "mimetype": "text/x-python",
   "name": "python",
   "nbconvert_exporter": "python",
   "pygments_lexer": "ipython3",
   "version": "3.6.0"
  }
 },
 "nbformat": 4,
 "nbformat_minor": 2
}
