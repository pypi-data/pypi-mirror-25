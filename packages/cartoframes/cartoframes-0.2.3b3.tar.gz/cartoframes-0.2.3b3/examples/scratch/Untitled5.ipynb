{
 "cells": [
  {
   "cell_type": "code",
   "execution_count": 2,
   "metadata": {},
   "outputs": [
    {
     "data": {
      "text/plain": [
       "b'{\"user\":\"eschbacher\",\"status\":\"running\",\"query\":\"CREATE TABLE distance_matrix_5831_by_10 As\\\\nSELECT * FROM cdb_distancematrix(\\'sources_5831\\'::text, \\'drains_10\\'::text, \\'car\\')\",\"created_at\":\"2017-05-22T17:09:02.165Z\",\"updated_at\":\"2017-05-22T17:09:02.186Z\",\"job_id\":\"19aaeafc-b392-4ac2-9905-06d776614203\"}'"
      ]
     },
     "execution_count": 2,
     "metadata": {},
     "output_type": "execute_result"
    }
   ],
   "source": [
    "import requests\n",
    "jobid = '19aaeafc-b392-4ac2-9905-06d776614203'\n",
    "resp = requests.get('https://eschbacher.carto.com/api/v2/sql/job/{jobid}?api_key=8e92c06c9a91f8d3c00455109e8e609ee4096d62'.format(jobid=jobid))\n",
    "resp.content"
   ]
  }
 ],
 "metadata": {
  "kernelspec": {
   "display_name": "Python 3",
   "language": "python",
   "name": "python3"
  },
  "language_info": {
   "codemirror_mode": {
    "name": "ipython",
    "version": 3
   },
   "file_extension": ".py",
   "mimetype": "text/x-python",
   "name": "python",
   "nbconvert_exporter": "python",
   "pygments_lexer": "ipython3",
   "version": "3.6.1"
  }
 },
 "nbformat": 4,
 "nbformat_minor": 2
}
