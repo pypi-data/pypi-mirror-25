{
 "cells": [
  {
   "cell_type": "code",
   "execution_count": 4,
   "metadata": {},
   "outputs": [
    {
     "data": {
      "text/plain": [
       "b'{\"user\":\"eschbacher\",\"status\":\"failed\",\"query\":\"CREATE TABLE distance_matrix_5831_by_10 As\\\\nSELECT * FROM cdb_distancematrix(\\'sources_5831\\'::text, \\'drains_10\\'::text, \\'car\\')\",\"created_at\":\"2017-05-22T16:17:06.872Z\",\"updated_at\":\"2017-05-22T16:55:24.649Z\",\"failed_reason\":\"cdb_dataservices_client._cdb_route_point_to_point(7): [cartodb_user_a6f0d0fe-4f4f-4217-8150-22b0010fe409_db] REMOTE ERROR: spiexceptions.ExternalRoutineException: Exception: Error trying to calculate mapzen routing\",\"job_id\":\"abcf288c-209a-47de-a05e-d75d1d78e61f\"}'"
      ]
     },
     "execution_count": 4,
     "metadata": {},
     "output_type": "execute_result"
    }
   ],
   "source": [
    "import requests\n",
    "jobid = '19aaeafc-b392-4ac2-9905-06d776614203'\n",
    "resp = requests.get('https://eschbacher.carto.com/api/v2/sql/job/{jobid}?api_key=8e92c06c9a91f8d3c00455109e8e609ee4096d62'.format(jobid=jobid))\n",
    "resp.content"
   ]
  }
 ],
 "metadata": {
  "kernelspec": {
   "display_name": "Python 3",
   "language": "python",
   "name": "python3"
  },
  "language_info": {
   "codemirror_mode": {
    "name": "ipython",
    "version": 3
   },
   "file_extension": ".py",
   "mimetype": "text/x-python",
   "name": "python",
   "nbconvert_exporter": "python",
   "pygments_lexer": "ipython3",
   "version": "3.6.1"
  }
 },
 "nbformat": 4,
 "nbformat_minor": 2
}
