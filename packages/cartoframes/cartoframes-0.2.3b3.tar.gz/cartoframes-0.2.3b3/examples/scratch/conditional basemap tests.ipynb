{
 "cells": [
  {
   "cell_type": "code",
   "execution_count": 1,
   "metadata": {
    "collapsed": false,
    "deletable": true,
    "editable": true
   },
   "outputs": [
    {
     "name": "stderr",
     "output_type": "stream",
     "text": [
      "/Users/peschbacher/Desktop/CartoDB/repos/cartoframes/venv/lib/python3.6/site-packages/requests/packages/urllib3/connectionpool.py:852: InsecureRequestWarning: Unverified HTTPS request is being made. Adding certificate verification is strongly advised. See: https://urllib3.readthedocs.io/en/latest/advanced-usage.html#ssl-warnings\n",
      "  InsecureRequestWarning)\n"
     ]
    },
    {
     "name": "stdout",
     "output_type": "stream",
     "text": [
      "Named map name: brooklyn_poverty_1489686974_758156\n"
     ]
    },
    {
     "name": "stderr",
     "output_type": "stream",
     "text": [
      "/Users/peschbacher/Desktop/CartoDB/repos/cartoframes/venv/lib/python3.6/site-packages/requests/packages/urllib3/connectionpool.py:852: InsecureRequestWarning: Unverified HTTPS request is being made. Adding certificate verification is strongly advised. See: https://urllib3.readthedocs.io/en/latest/advanced-usage.html#ssl-warnings\n",
      "  InsecureRequestWarning)\n"
     ]
    }
   ],
   "source": [
    "import pandas as pd\n",
    "import cartoframes\n",
    "import json\n",
    "\n",
    "USERNAME = json.loads(open('credentials.json').read())['username']\n",
    "APIKEY = json.loads(open('credentials.json').read())['api_key']\n",
    "\n",
    "df = pd.read_carto(username=USERNAME,\n",
    "                   api_key=APIKEY,\n",
    "                   tablename='brooklyn_poverty')"
   ]
  },
  {
   "cell_type": "code",
   "execution_count": 2,
   "metadata": {
    "collapsed": false
   },
   "outputs": [
    {
     "data": {
      "text/plain": [
       "'https://eschbacher.carto.com/dataset/brooklyn_poverty'"
      ]
     },
     "execution_count": 2,
     "metadata": {},
     "output_type": "execute_result"
    }
   ],
   "source": [
    "df.get_carto_datapage()"
   ]
  },
  {
   "cell_type": "code",
   "execution_count": 3,
   "metadata": {
    "collapsed": false
   },
   "outputs": [
    {
     "data": {
      "text/plain": [
       "ParseResult(scheme='https', netloc='eschbacher.carto.com', path='/api//dataset/brooklyn_poverty', params='', query='', fragment='')"
      ]
     },
     "execution_count": 3,
     "metadata": {},
     "output_type": "execute_result"
    }
   ],
   "source": [
    "from urllib.parse import urlparse\n",
    "\n",
    "urlparse('https://eschbacher.carto.com/api//dataset/brooklyn_poverty')"
   ]
  },
  {
   "cell_type": "code",
   "execution_count": 2,
   "metadata": {
    "collapsed": false
   },
   "outputs": [
    {
     "data": {
      "text/html": [
       "<div>\n",
       "<table border=\"1\" class=\"dataframe\">\n",
       "  <thead>\n",
       "    <tr style=\"text-align: right;\">\n",
       "      <th></th>\n",
       "      <th>geoid</th>\n",
       "      <th>high_school_diploma_2011_2015</th>\n",
       "      <th>median_income_2011_2015</th>\n",
       "      <th>new_column</th>\n",
       "      <th>poverty_2011_2015</th>\n",
       "      <th>poverty_count</th>\n",
       "      <th>poverty_per_pop</th>\n",
       "      <th>the_geom</th>\n",
       "      <th>the_geom_webmercator</th>\n",
       "      <th>total_pop_2011_2015</th>\n",
       "      <th>total_population</th>\n",
       "    </tr>\n",
       "    <tr>\n",
       "      <th>cartodb_id</th>\n",
       "      <th></th>\n",
       "      <th></th>\n",
       "      <th></th>\n",
       "      <th></th>\n",
       "      <th></th>\n",
       "      <th></th>\n",
       "      <th></th>\n",
       "      <th></th>\n",
       "      <th></th>\n",
       "      <th></th>\n",
       "      <th></th>\n",
       "    </tr>\n",
       "  </thead>\n",
       "  <tbody>\n",
       "    <tr>\n",
       "      <th>155</th>\n",
       "      <td>360470021001</td>\n",
       "      <td>0.037004</td>\n",
       "      <td>208036.0</td>\n",
       "      <td>7698.083032</td>\n",
       "      <td>0.075573</td>\n",
       "      <td>46.242950</td>\n",
       "      <td>0.039728</td>\n",
       "      <td>0103000020E6100000010000007C0000004BE2AC889A7F...</td>\n",
       "      <td>0103000020110F0000010000007C0000006BB2B13AE66B...</td>\n",
       "      <td>7568.986964</td>\n",
       "      <td>1164.0</td>\n",
       "    </tr>\n",
       "    <tr>\n",
       "      <th>734</th>\n",
       "      <td>360470274002</td>\n",
       "      <td>0.292395</td>\n",
       "      <td>42266.0</td>\n",
       "      <td>12358.371504</td>\n",
       "      <td>0.146278</td>\n",
       "      <td>342.812734</td>\n",
       "      <td>0.210186</td>\n",
       "      <td>0103000020E6100000010000000F00000066BCADF4DA7F...</td>\n",
       "      <td>0103000020110F0000010000000F0000000D7705A8536C...</td>\n",
       "      <td>18914.903234</td>\n",
       "      <td>1631.0</td>\n",
       "    </tr>\n",
       "    <tr>\n",
       "      <th>735</th>\n",
       "      <td>360470275001</td>\n",
       "      <td>0.258389</td>\n",
       "      <td>55990.0</td>\n",
       "      <td>14467.214765</td>\n",
       "      <td>0.251098</td>\n",
       "      <td>172.323529</td>\n",
       "      <td>0.151560</td>\n",
       "      <td>0103000020E61000000100000007000000EB89AE0B3F7C...</td>\n",
       "      <td>0103000020110F000001000000070000003CB24E4D3266...</td>\n",
       "      <td>26814.609541</td>\n",
       "      <td>1137.0</td>\n",
       "    </tr>\n",
       "    <tr>\n",
       "      <th>736</th>\n",
       "      <td>360470275002</td>\n",
       "      <td>0.258389</td>\n",
       "      <td>55990.0</td>\n",
       "      <td>14467.214765</td>\n",
       "      <td>0.251098</td>\n",
       "      <td>383.567627</td>\n",
       "      <td>0.273977</td>\n",
       "      <td>0103000020E6100000010000000A00000052B7B3AF3C7C...</td>\n",
       "      <td>0103000020110F0000010000000A0000001F11634B2E66...</td>\n",
       "      <td>26814.318226</td>\n",
       "      <td>1400.0</td>\n",
       "    </tr>\n",
       "    <tr>\n",
       "      <th>737</th>\n",
       "      <td>360470275003</td>\n",
       "      <td>0.258389</td>\n",
       "      <td>55990.0</td>\n",
       "      <td>14467.214765</td>\n",
       "      <td>0.251098</td>\n",
       "      <td>132.253870</td>\n",
       "      <td>0.149102</td>\n",
       "      <td>0103000020E61000000100000009000000E868554B3A7C...</td>\n",
       "      <td>0103000020110F0000010000000900000071B8373B2A66...</td>\n",
       "      <td>26814.025271</td>\n",
       "      <td>887.0</td>\n",
       "    </tr>\n",
       "  </tbody>\n",
       "</table>\n",
       "</div>"
      ],
      "text/plain": [
       "                   geoid  high_school_diploma_2011_2015  \\\n",
       "cartodb_id                                                \n",
       "155         360470021001                       0.037004   \n",
       "734         360470274002                       0.292395   \n",
       "735         360470275001                       0.258389   \n",
       "736         360470275002                       0.258389   \n",
       "737         360470275003                       0.258389   \n",
       "\n",
       "            median_income_2011_2015    new_column  poverty_2011_2015  \\\n",
       "cartodb_id                                                             \n",
       "155                        208036.0   7698.083032           0.075573   \n",
       "734                         42266.0  12358.371504           0.146278   \n",
       "735                         55990.0  14467.214765           0.251098   \n",
       "736                         55990.0  14467.214765           0.251098   \n",
       "737                         55990.0  14467.214765           0.251098   \n",
       "\n",
       "            poverty_count  poverty_per_pop  \\\n",
       "cartodb_id                                   \n",
       "155             46.242950         0.039728   \n",
       "734            342.812734         0.210186   \n",
       "735            172.323529         0.151560   \n",
       "736            383.567627         0.273977   \n",
       "737            132.253870         0.149102   \n",
       "\n",
       "                                                     the_geom  \\\n",
       "cartodb_id                                                      \n",
       "155         0103000020E6100000010000007C0000004BE2AC889A7F...   \n",
       "734         0103000020E6100000010000000F00000066BCADF4DA7F...   \n",
       "735         0103000020E61000000100000007000000EB89AE0B3F7C...   \n",
       "736         0103000020E6100000010000000A00000052B7B3AF3C7C...   \n",
       "737         0103000020E61000000100000009000000E868554B3A7C...   \n",
       "\n",
       "                                         the_geom_webmercator  \\\n",
       "cartodb_id                                                      \n",
       "155         0103000020110F0000010000007C0000006BB2B13AE66B...   \n",
       "734         0103000020110F0000010000000F0000000D7705A8536C...   \n",
       "735         0103000020110F000001000000070000003CB24E4D3266...   \n",
       "736         0103000020110F0000010000000A0000001F11634B2E66...   \n",
       "737         0103000020110F0000010000000900000071B8373B2A66...   \n",
       "\n",
       "            total_pop_2011_2015  total_population  \n",
       "cartodb_id                                         \n",
       "155                 7568.986964            1164.0  \n",
       "734                18914.903234            1631.0  \n",
       "735                26814.609541            1137.0  \n",
       "736                26814.318226            1400.0  \n",
       "737                26814.025271             887.0  "
      ]
     },
     "execution_count": 2,
     "metadata": {},
     "output_type": "execute_result"
    }
   ],
   "source": [
    "df.head()"
   ]
  },
  {
   "cell_type": "code",
   "execution_count": 3,
   "metadata": {
    "collapsed": false,
    "deletable": true,
    "editable": true,
    "scrolled": false
   },
   "outputs": [
    {
     "name": "stderr",
     "output_type": "stream",
     "text": [
      "/Users/peschbacher/Desktop/CartoDB/repos/cartoframes/venv/lib/python3.6/site-packages/requests/packages/urllib3/connectionpool.py:852: InsecureRequestWarning: Unverified HTTPS request is being made. Adding certificate verification is strongly advised. See: https://urllib3.readthedocs.io/en/latest/advanced-usage.html#ssl-warnings\n",
      "  InsecureRequestWarning)\n",
      "/Users/peschbacher/Desktop/CartoDB/repos/cartoframes/venv/lib/python3.6/site-packages/requests/packages/urllib3/connectionpool.py:852: InsecureRequestWarning: Unverified HTTPS request is being made. Adding certificate verification is strongly advised. See: https://urllib3.readthedocs.io/en/latest/advanced-usage.html#ssl-warnings\n",
      "  InsecureRequestWarning)\n",
      "/Users/peschbacher/Desktop/CartoDB/repos/cartoframes/venv/lib/python3.6/site-packages/requests/packages/urllib3/connectionpool.py:852: InsecureRequestWarning: Unverified HTTPS request is being made. Adding certificate verification is strongly advised. See: https://urllib3.readthedocs.io/en/latest/advanced-usage.html#ssl-warnings\n",
      "  InsecureRequestWarning)\n"
     ]
    },
    {
     "data": {
      "text/html": [
       "<iframe src=\"https://rawgit.com/CartoDB/cartoframes/master/cartoframes/assets/cartoframes.html?username=eschbacher&tablename=brooklyn_poverty&cartocss=%23layer+%7B+polygon-fill%3A+ramp%28%5Bmedian_income_2011_2015%5D%2C+cartocolor%28BluGrn%29%2C+quantiles%28%29%29%3B+polygon-opacity%3A+0.9%3Bpolygon-gamma%3A+0.5%3Bline-color%3A+%23fff%3Bline-width%3A+0.5%3Bline-opacity%3A+0.25%3Bline-comp-op%3A+hard-light%3B%7D&basemap=%5B%27http%3A%2F%2Fcartodb-basemaps-%7Bs%7D.global.ssl.fastly.net%2Fdark_all%2F%7Bz%7D%2F%7Bx%7D%2F%7By%7D.png%27%2C+%27http%3A%2F%2Fcartodb-basemaps-%7Bs%7D.global.ssl.fastly.net%2Fdark_only_labels%2F%7Bz%7D%2F%7Bx%7D%2F%7By%7D.png%27%5D&bounds=40.739158%2C-73.833422%2C40.569596%2C-74.041916&show_position_data=True&baseurl=https%3A%2F%2Feschbacher.carto.com%2Fapi%2F&q=%257B%250A%2520%2520%2520%2520%2520%2520%2522user_name%2522%253A%2520%2522eschbacher%2522%252C%250A%2520%2520%2520%2520%2520%2520%2522maps_api_template%2522%253A%2520%2522https%253A%2F%2Feschbacher.carto.com%2522%252C%250A%2520%2520%2520%2520%2520%2520%2522sql_api_template%2522%253A%2520%2522https%253A%2F%2Feschbacher.carto.com%2522%252C%250A%2520%2520%2520%2520%2520%2520%2522tiler_protocol%2522%253A%2520%2522https%2522%252C%250A%2520%2520%2520%2520%2520%2520%2522tiler_domain%2522%253A%2520%2522eschbacher.carto.com%2522%252C%250A%2520%2520%2520%2520%2520%2520%2522tiler_port%2522%253A%2520%252280%2522%252C%250A%2520%2520%2520%2520%2520%2520%2522type%2522%253A%2520%2522namedmap%2522%252C%250A%2520%2520%2520%2520%2520%2520%2522named_map%2522%253A%2520%257B%250A%2520%2520%2520%2520%2520%2520%2520%2520%2522name%2522%253A%2520%2522brooklyn_poverty_1489685129_875377%2522%250A%2520%2520%2520%2520%2520%2520%257D%252C%250A%2520%2520%2520%2520%2520%2520%2522subdomains%2522%253A%2520%255B%2520%2522a%2522%252C%2520%2522b%2522%252C%2520%2522c%2522%2520%255D%250A%2520%2520%2520%2520%2520%2520%257D\" width=647 height=400>Preview image: <img src=\"https://eschbacher.carto.com/api/v1/map/static/named/brooklyn_poverty_1489685129_875377/647/400.png?\" /></iframe>"
      ],
      "text/plain": [
       "<IPython.core.display.HTML object>"
      ]
     },
     "execution_count": 3,
     "metadata": {},
     "output_type": "execute_result"
    }
   ],
   "source": [
    "df.carto_map(color={'colname': 'median_income_2011_2015'},\n",
    "             interactive=True,\n",
    "             show_position_data=True)"
   ]
  },
  {
   "cell_type": "code",
   "execution_count": 5,
   "metadata": {
    "collapsed": false,
    "deletable": true,
    "editable": true,
    "scrolled": false
   },
   "outputs": [
    {
     "name": "stderr",
     "output_type": "stream",
     "text": [
      "/Users/peschbacher/Desktop/CartoDB/repos/cartoframes/venv/lib/python3.6/site-packages/requests/packages/urllib3/connectionpool.py:852: InsecureRequestWarning: Unverified HTTPS request is being made. Adding certificate verification is strongly advised. See: https://urllib3.readthedocs.io/en/latest/advanced-usage.html#ssl-warnings\n",
      "  InsecureRequestWarning)\n",
      "/Users/peschbacher/Desktop/CartoDB/repos/cartoframes/venv/lib/python3.6/site-packages/requests/packages/urllib3/connectionpool.py:852: InsecureRequestWarning: Unverified HTTPS request is being made. Adding certificate verification is strongly advised. See: https://urllib3.readthedocs.io/en/latest/advanced-usage.html#ssl-warnings\n",
      "  InsecureRequestWarning)\n",
      "/Users/peschbacher/Desktop/CartoDB/repos/cartoframes/venv/lib/python3.6/site-packages/requests/packages/urllib3/connectionpool.py:852: InsecureRequestWarning: Unverified HTTPS request is being made. Adding certificate verification is strongly advised. See: https://urllib3.readthedocs.io/en/latest/advanced-usage.html#ssl-warnings\n",
      "  InsecureRequestWarning)\n",
      "/Users/peschbacher/Desktop/CartoDB/repos/cartoframes/venv/lib/python3.6/site-packages/requests/packages/urllib3/connectionpool.py:852: InsecureRequestWarning: Unverified HTTPS request is being made. Adding certificate verification is strongly advised. See: https://urllib3.readthedocs.io/en/latest/advanced-usage.html#ssl-warnings\n",
      "  InsecureRequestWarning)\n"
     ]
    },
    {
     "name": "stdout",
     "output_type": "stream",
     "text": [
      "Named map name: brooklyn_poverty_points2_1489685221_581295\n"
     ]
    }
   ],
   "source": [
    "import pandas as pd\n",
    "import cartoframes\n",
    "import json\n",
    "\n",
    "USERNAME = json.loads(open('credentials.json').read())['username']\n",
    "APIKEY = json.loads(open('credentials.json').read())['api_key']\n",
    "\n",
    "df = pd.read_carto(username=USERNAME,\n",
    "                   api_key=APIKEY,\n",
    "                   query='''\n",
    "                   select \n",
    "                     st_centroid(the_geom) as the_geom, \n",
    "                     cartodb_id, \n",
    "                     median_income_2011_2015,\n",
    "                     poverty_per_pop\n",
    "                   from brooklyn_poverty\n",
    "                     ''',\n",
    "                   tablename='brooklyn_poverty_points2',\n",
    "                  is_org_user=True)"
   ]
  },
  {
   "cell_type": "code",
   "execution_count": 6,
   "metadata": {
    "collapsed": false
   },
   "outputs": [
    {
     "name": "stderr",
     "output_type": "stream",
     "text": [
      "/Users/peschbacher/Desktop/CartoDB/repos/cartoframes/venv/lib/python3.6/site-packages/requests/packages/urllib3/connectionpool.py:852: InsecureRequestWarning: Unverified HTTPS request is being made. Adding certificate verification is strongly advised. See: https://urllib3.readthedocs.io/en/latest/advanced-usage.html#ssl-warnings\n",
      "  InsecureRequestWarning)\n",
      "/Users/peschbacher/Desktop/CartoDB/repos/cartoframes/venv/lib/python3.6/site-packages/requests/packages/urllib3/connectionpool.py:852: InsecureRequestWarning: Unverified HTTPS request is being made. Adding certificate verification is strongly advised. See: https://urllib3.readthedocs.io/en/latest/advanced-usage.html#ssl-warnings\n",
      "  InsecureRequestWarning)\n",
      "/Users/peschbacher/Desktop/CartoDB/repos/cartoframes/venv/lib/python3.6/site-packages/requests/packages/urllib3/connectionpool.py:852: InsecureRequestWarning: Unverified HTTPS request is being made. Adding certificate verification is strongly advised. See: https://urllib3.readthedocs.io/en/latest/advanced-usage.html#ssl-warnings\n",
      "  InsecureRequestWarning)\n"
     ]
    },
    {
     "data": {
      "text/html": [
       "<iframe src=\"https://rawgit.com/CartoDB/cartoframes/master/cartoframes/assets/cartoframes.html?username=eschbacher&tablename=brooklyn_poverty_points2&cartocss=%23layer+%7B+marker-width%3A+7%3B+marker-fill%3A+%23DF5E26%3B+marker-fill-opacity%3A+1%3B+marker-allow-overlap%3A+true%3B+marker-line-width%3A+0.5%3B+marker-line-color%3A+%23000%3B+marker-line-opacity%3A+1%3B+%7D&basemap=http%3A%2F%2Fcartodb-basemaps-%7Bs%7D.global.ssl.fastly.net%2Fdark_all%2F%7Bz%7D%2F%7Bx%7D%2F%7By%7D.png&bounds=40.7375377922012%2C-73.8605435272869%2C40.5723014136492%2C-74.0407574694437&show_position_data=True&baseurl=https%3A%2F%2Feschbacher.carto.com%2Fapi%2F&q=%257B%250A%2520%2520%2520%2520%2520%2520%2522user_name%2522%253A%2520%2522eschbacher%2522%252C%250A%2520%2520%2520%2520%2520%2520%2522maps_api_template%2522%253A%2520%2522https%253A%2F%2Feschbacher.carto.com%2522%252C%250A%2520%2520%2520%2520%2520%2520%2522sql_api_template%2522%253A%2520%2522https%253A%2F%2Feschbacher.carto.com%2522%252C%250A%2520%2520%2520%2520%2520%2520%2522tiler_protocol%2522%253A%2520%2522https%2522%252C%250A%2520%2520%2520%2520%2520%2520%2522tiler_domain%2522%253A%2520%2522eschbacher.carto.com%2522%252C%250A%2520%2520%2520%2520%2520%2520%2522tiler_port%2522%253A%2520%252280%2522%252C%250A%2520%2520%2520%2520%2520%2520%2522type%2522%253A%2520%2522namedmap%2522%252C%250A%2520%2520%2520%2520%2520%2520%2522named_map%2522%253A%2520%257B%250A%2520%2520%2520%2520%2520%2520%2520%2520%2522name%2522%253A%2520%2522brooklyn_poverty_points2_1489685221_581295%2522%250A%2520%2520%2520%2520%2520%2520%257D%252C%250A%2520%2520%2520%2520%2520%2520%2522subdomains%2522%253A%2520%255B%2520%2522a%2522%252C%2520%2522b%2522%252C%2520%2522c%2522%2520%255D%250A%2520%2520%2520%2520%2520%2520%257D\" width=647 height=400>Preview image: <img src=\"https://eschbacher.carto.com/api/v1/map/static/named/brooklyn_poverty_points2_1489685221_581295/647/400.png?\" /></iframe>"
      ],
      "text/plain": [
       "<IPython.core.display.HTML object>"
      ]
     },
     "execution_count": 6,
     "metadata": {},
     "output_type": "execute_result"
    }
   ],
   "source": [
    "df.carto_map()"
   ]
  },
  {
   "cell_type": "code",
   "execution_count": 22,
   "metadata": {
    "collapsed": false,
    "deletable": true,
    "editable": true
   },
   "outputs": [
    {
     "data": {
      "text/plain": [
       "[0.448571428571429,\n",
       " 1.55714285714286,\n",
       " 2.66571428571429,\n",
       " 3.77428571428571,\n",
       " 4.88285714285714,\n",
       " 5.99142857142857,\n",
       " 7.1]"
      ]
     },
     "execution_count": 22,
     "metadata": {},
     "output_type": "execute_result"
    }
   ],
   "source": [
    "resp = sql.send('select CDB_EqualIntervalBins(array_agg(mag), 7) from all_month_3')\n",
    "resp['rows'][0]['cdb_equalintervalbins']"
   ]
  }
 ],
 "metadata": {
  "kernelspec": {
   "display_name": "Python 3",
   "language": "python",
   "name": "python3"
  },
  "language_info": {
   "codemirror_mode": {
    "name": "ipython",
    "version": 3
   },
   "file_extension": ".py",
   "mimetype": "text/x-python",
   "name": "python",
   "nbconvert_exporter": "python",
   "pygments_lexer": "ipython3",
   "version": "3.6.0"
  }
 },
 "nbformat": 4,
 "nbformat_minor": 2
}
