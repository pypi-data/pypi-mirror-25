{
 "cells": [
  {
   "cell_type": "code",
   "execution_count": 1,
   "metadata": {
    "collapsed": true,
    "nbsphinx": "hidden"
   },
   "outputs": [],
   "source": [
    "%load_ext autoreload\n",
    "%autoreload 2\n",
    "import os\n",
    "os.sys.path.insert(0, '/home/schirrmr/braindecode/code/braindecode/')"
   ]
  },
  {
   "cell_type": "markdown",
   "metadata": {},
   "source": [
    "# Amplitude Perturbation Visualization"
   ]
  },
  {
   "cell_type": "markdown",
   "metadata": {},
   "source": [
    "In this tutorial, we show how to use perturbations of the input amplitudes to learn something about the trained convolutional networks. For more background, see [Deep learning with convolutional neural networks for EEG decoding and visualization](https://arxiv.org/abs/1703.05051), Section A.5.2.\n",
    "\n",
    "First we will do some cross-subject decoding, again using the [Physiobank EEG Motor Movement/Imagery Dataset](https://www.physionet.org/physiobank/database/eegmmidb/), this time to decode imagined left hand vs. imagined right hand movement.\n",
    "\n",
    "\n",
    "<div class=\"alert alert-warning\">\n",
    "\n",
    "This tutorial might be very slow if you are not using a GPU.\n",
    "\n",
    "</div>"
   ]
  },
  {
   "cell_type": "markdown",
   "metadata": {},
   "source": [
    "## Load data"
   ]
  },
  {
   "cell_type": "code",
   "execution_count": 2,
   "metadata": {
    "collapsed": true
   },
   "outputs": [],
   "source": [
    "%%capture\n",
    "import mne\n",
    "import numpy as np\n",
    "from mne.io import concatenate_raws\n",
    "from braindecode.datautil.signal_target import SignalAndTarget\n",
    "\n",
    "# First 50 subjects as train\n",
    "physionet_paths = [ mne.datasets.eegbci.load_data(sub_id,[4,8,12,]) for sub_id in range(1,51)]\n",
    "physionet_paths = np.concatenate(physionet_paths)\n",
    "parts = [mne.io.read_raw_edf(path, preload=True,stim_channel='auto')\n",
    "         for path in physionet_paths]\n",
    "\n",
    "raw = concatenate_raws(parts)\n",
    "\n",
    "picks = mne.pick_types(raw.info, meg=False, eeg=True, stim=False, eog=False,\n",
    "                   exclude='bads')\n",
    "\n",
    "events = mne.find_events(raw, shortest_event=0, stim_channel='STI 014')\n",
    "\n",
    "# Read epochs (train will be done only between 1 and 2s)\n",
    "# Testing will be done with a running classifier\n",
    "epoched = mne.Epochs(raw, events, dict(hands=2, feet=3), tmin=1, tmax=4.1, proj=False, picks=picks,\n",
    "                baseline=None, preload=True)\n",
    "\n",
    "# Next 5 subjects as test\n",
    "physionet_paths_test = [mne.datasets.eegbci.load_data(sub_id,[4,8,12,]) for sub_id in range(51,56)]\n",
    "physionet_paths_test = np.concatenate(physionet_paths_test)\n",
    "parts_test = [mne.io.read_raw_edf(path, preload=True,stim_channel='auto')\n",
    "         for path in physionet_paths_test]\n",
    "raw_test = concatenate_raws(parts_test)\n",
    "\n",
    "picks_test = mne.pick_types(raw_test.info, meg=False, eeg=True, stim=False, eog=False,\n",
    "                   exclude='bads')\n",
    "\n",
    "events_test = mne.find_events(raw_test, shortest_event=0, stim_channel='STI 014')\n",
    "\n",
    "# Read epochs (train will be done only between 1 and 2s)\n",
    "# Testing will be done with a running classifier\n",
    "epoched_test = mne.Epochs(raw_test, events_test, dict(hands=2, feet=3), tmin=1, tmax=4.1, proj=False, picks=picks_test,\n",
    "                baseline=None, preload=True)\n",
    "\n",
    "train_X = (epoched.get_data() * 1e6).astype(np.float32)\n",
    "train_y = (epoched.events[:,2] - 2).astype(np.int64) #2,3 -> 0,1\n",
    "test_X = (epoched_test.get_data() * 1e6).astype(np.float32)\n",
    "test_y = (epoched_test.events[:,2] - 2).astype(np.int64) #2,3 -> 0,1\n",
    "train_set = SignalAndTarget(train_X, y=train_y)\n",
    "test_set = SignalAndTarget(test_X, y=test_y)"
   ]
  },
  {
   "cell_type": "markdown",
   "metadata": {},
   "source": [
    "## Create the model, optimizer, iterator"
   ]
  },
  {
   "cell_type": "markdown",
   "metadata": {},
   "source": [
    "We use the deep ConvNet from [Deep learning with convolutional neural networks for EEG decoding and visualization](https://arxiv.org/abs/1703.05051) (Section 2.4.2).\n"
   ]
  },
  {
   "cell_type": "code",
   "execution_count": 3,
   "metadata": {},
   "outputs": [
    {
     "name": "stdout",
     "output_type": "stream",
     "text": [
      "315 predictions per input/trial\n"
     ]
    }
   ],
   "source": [
    "from braindecode.models.deep4 import Deep4Net\n",
    "from torch import nn\n",
    "from braindecode.torch_ext.util import set_random_seeds\n",
    "from braindecode.models.util import to_dense_prediction_model\n",
    "\n",
    "# Set if you want to use GPU\n",
    "# You can also use torch.cuda.is_available() to determine if cuda is available on your machine.\n",
    "cuda = True\n",
    "set_random_seeds(seed=20170629, cuda=cuda)\n",
    "\n",
    "# This will determine how many crops are processed in parallel\n",
    "input_time_length = 450\n",
    "# final_conv_length determines the size of the receptive field of the ConvNet\n",
    "model = Deep4Net(in_chans=64, n_classes=2, input_time_length=input_time_length,\n",
    "                 filter_length_3=5, filter_length_4=5,\n",
    "                 pool_time_stride=2,\n",
    "                        final_conv_length=1).create_network()\n",
    "to_dense_prediction_model(model)\n",
    "\n",
    "if cuda:\n",
    "    model.cuda()\n",
    "\n",
    "from torch import optim\n",
    "\n",
    "optimizer = optim.Adam(model.parameters())\n",
    "\n",
    "from braindecode.torch_ext.util import np_to_var\n",
    "# determine output size\n",
    "test_input = np_to_var(np.ones((2, 64, input_time_length, 1), dtype=np.float32))\n",
    "if cuda:\n",
    "    test_input = test_input.cuda()\n",
    "out = model(test_input)\n",
    "n_preds_per_input = out.cpu().data.numpy().shape[2]\n",
    "print(\"{:d} predictions per input/trial\".format(n_preds_per_input))\n",
    "\n",
    "from braindecode.datautil.iterators import CropsFromTrialsIterator\n",
    "iterator = CropsFromTrialsIterator(batch_size=32,input_time_length=input_time_length,\n",
    "                                  n_preds_per_input=n_preds_per_input)"
   ]
  },
  {
   "cell_type": "markdown",
   "metadata": {},
   "source": [
    "## Training loop"
   ]
  },
  {
   "cell_type": "code",
   "execution_count": 4,
   "metadata": {
    "scrolled": false
   },
   "outputs": [
    {
     "name": "stdout",
     "output_type": "stream",
     "text": [
      "Epoch 0\n",
      "Train....\n",
      "Train  Loss: 0.71495\n",
      "Train  Accuracy: 52.1%\n",
      "Test   Loss: 0.71683\n",
      "Test   Accuracy: 48.8%\n",
      "Epoch 1\n",
      "Train....\n",
      "Train  Loss: 0.66374\n",
      "Train  Accuracy: 61.8%\n",
      "Test   Loss: 0.64029\n",
      "Test   Accuracy: 63.8%\n",
      "Epoch 2\n",
      "Train....\n",
      "Train  Loss: 0.64218\n",
      "Train  Accuracy: 69.2%\n",
      "Test   Loss: 0.59227\n",
      "Test   Accuracy: 80.3%\n",
      "Epoch 3\n",
      "Train....\n",
      "Train  Loss: 0.64059\n",
      "Train  Accuracy: 69.0%\n",
      "Test   Loss: 0.58956\n",
      "Test   Accuracy: 84.0%\n",
      "Epoch 4\n",
      "Train....\n",
      "Train  Loss: 0.63735\n",
      "Train  Accuracy: 70.3%\n",
      "Test   Loss: 0.58765\n",
      "Test   Accuracy: 84.0%\n",
      "Epoch 5\n",
      "Train....\n",
      "Train  Loss: 0.62778\n",
      "Train  Accuracy: 70.2%\n",
      "Test   Loss: 0.56151\n",
      "Test   Accuracy: 87.3%\n",
      "Epoch 6\n",
      "Train....\n",
      "Train  Loss: 0.62644\n",
      "Train  Accuracy: 70.6%\n",
      "Test   Loss: 0.54780\n",
      "Test   Accuracy: 89.2%\n",
      "Epoch 7\n",
      "Train....\n",
      "Train  Loss: 0.62846\n",
      "Train  Accuracy: 69.1%\n",
      "Test   Loss: 0.54726\n",
      "Test   Accuracy: 86.4%\n",
      "Epoch 8\n",
      "Train....\n",
      "Train  Loss: 0.62878\n",
      "Train  Accuracy: 69.9%\n",
      "Test   Loss: 0.54195\n",
      "Test   Accuracy: 87.3%\n",
      "Epoch 9\n",
      "Train....\n",
      "Train  Loss: 0.63297\n",
      "Train  Accuracy: 67.7%\n",
      "Test   Loss: 0.54980\n",
      "Test   Accuracy: 80.3%\n",
      "Epoch 10\n",
      "Train....\n",
      "Train  Loss: 0.64184\n",
      "Train  Accuracy: 68.4%\n",
      "Test   Loss: 0.55285\n",
      "Test   Accuracy: 77.5%\n",
      "Epoch 11\n",
      "Train....\n",
      "Train  Loss: 0.63984\n",
      "Train  Accuracy: 68.9%\n",
      "Test   Loss: 0.54855\n",
      "Test   Accuracy: 80.3%\n",
      "Epoch 12\n",
      "Train....\n",
      "Train  Loss: 0.63808\n",
      "Train  Accuracy: 70.0%\n",
      "Test   Loss: 0.54667\n",
      "Test   Accuracy: 83.6%\n",
      "Epoch 13\n",
      "Train....\n",
      "Train  Loss: 0.62974\n",
      "Train  Accuracy: 71.5%\n",
      "Test   Loss: 0.54102\n",
      "Test   Accuracy: 85.0%\n",
      "Epoch 14\n",
      "Train....\n",
      "Train  Loss: 0.64660\n",
      "Train  Accuracy: 70.8%\n",
      "Test   Loss: 0.55155\n",
      "Test   Accuracy: 84.5%\n",
      "Epoch 15\n",
      "Train....\n",
      "Train  Loss: 0.63522\n",
      "Train  Accuracy: 72.0%\n",
      "Test   Loss: 0.54177\n",
      "Test   Accuracy: 82.6%\n",
      "Epoch 16\n",
      "Train....\n",
      "Train  Loss: 0.63372\n",
      "Train  Accuracy: 70.3%\n",
      "Test   Loss: 0.55038\n",
      "Test   Accuracy: 81.2%\n",
      "Epoch 17\n",
      "Train....\n",
      "Train  Loss: 0.62543\n",
      "Train  Accuracy: 69.7%\n",
      "Test   Loss: 0.54641\n",
      "Test   Accuracy: 83.1%\n",
      "Epoch 18\n",
      "Train....\n",
      "Train  Loss: 0.61546\n",
      "Train  Accuracy: 70.5%\n",
      "Test   Loss: 0.53416\n",
      "Test   Accuracy: 84.0%\n",
      "Epoch 19\n",
      "Train....\n",
      "Train  Loss: 0.62389\n",
      "Train  Accuracy: 70.3%\n",
      "Test   Loss: 0.53814\n",
      "Test   Accuracy: 86.9%\n"
     ]
    }
   ],
   "source": [
    "from braindecode.torch_ext.util import np_to_var, var_to_np\n",
    "import torch.nn.functional as F\n",
    "from numpy.random import RandomState\n",
    "import torch as th\n",
    "from braindecode.experiments.monitors import compute_preds_per_trial_for_set\n",
    "rng = RandomState((2017,6,30))\n",
    "for i_epoch in range(20):\n",
    "    print(\"Epoch {:d}\".format(i_epoch))\n",
    "    print(\"Train....\")\n",
    "    # Set model to training mode\n",
    "    model.train()\n",
    "    for batch_X, batch_y in iterator.get_batches(train_set, shuffle=False):\n",
    "        net_in = np_to_var(batch_X)\n",
    "        if cuda:\n",
    "            net_in = net_in.cuda()\n",
    "        net_target = np_to_var(batch_y)\n",
    "        if cuda:\n",
    "            net_target = net_target.cuda()\n",
    "        # Remove gradients of last backward pass from all parameters \n",
    "        optimizer.zero_grad()\n",
    "        outputs = model(net_in)\n",
    "        # Mean predictions across trial\n",
    "        # Note that this will give identical gradients to computing\n",
    "        # a per-prediction loss (at least for the combination of log softmax activation \n",
    "        # and negative log likelihood loss which we are using here)\n",
    "        outputs = th.mean(outputs, dim=2, keepdim=False)\n",
    "        loss = F.nll_loss(outputs, net_target)\n",
    "        loss.backward()\n",
    "        optimizer.step()\n",
    "    \n",
    "    # Print some statistics each epoch\n",
    "    model.eval()\n",
    "    for setname, dataset in (('Train', train_set),('Test', test_set)):\n",
    "        # Collect all predictions and losses\n",
    "        all_preds = []\n",
    "        all_losses = []\n",
    "        batch_sizes = []\n",
    "        for batch_X, batch_y in iterator.get_batches(dataset, shuffle=False):\n",
    "            net_in = np_to_var(batch_X)\n",
    "            if cuda:\n",
    "                net_in = net_in.cuda()\n",
    "            net_target = np_to_var(batch_y)\n",
    "            if cuda:\n",
    "                net_target = net_target.cuda()\n",
    "            outputs = model(net_in)\n",
    "            all_preds.append(var_to_np(outputs))\n",
    "            outputs = th.mean(outputs, dim=2, keepdim=False)\n",
    "            loss = F.nll_loss(outputs, net_target)\n",
    "            loss = float(var_to_np(loss))\n",
    "            all_losses.append(loss)\n",
    "            batch_sizes.append(len(batch_X))\n",
    "        # Compute mean per-input loss \n",
    "        loss = np.mean(np.array(all_losses) * np.array(batch_sizes) /\n",
    "                       np.mean(batch_sizes))\n",
    "        print(\"{:6s} Loss: {:.5f}\".format(setname, loss))\n",
    "        preds_per_trial = compute_preds_per_trial_for_set(all_preds,\n",
    "                                                          input_time_length,\n",
    "                                                          dataset)\n",
    "        # preds per trial are now trials x classes x timesteps/predictions\n",
    "        # Now mean across timesteps for each trial to get per-trial predictions\n",
    "        meaned_preds_per_trial = np.array([np.mean(p, axis=1) for p in preds_per_trial])\n",
    "        predicted_labels = np.argmax(meaned_preds_per_trial, axis=1)\n",
    "        accuracy = np.mean(predicted_labels == dataset.y)\n",
    "        print(\"{:6s} Accuracy: {:.1f}%\".format(\n",
    "            setname, accuracy * 100))\n"
   ]
  },
  {
   "cell_type": "markdown",
   "metadata": {},
   "source": [
    "## Compute correlation: amplitude perturbation - prediction change"
   ]
  },
  {
   "cell_type": "markdown",
   "metadata": {},
   "source": [
    "First collect all batches and concatenate them into one array of examples:"
   ]
  },
  {
   "cell_type": "code",
   "execution_count": 5,
   "metadata": {
    "collapsed": true
   },
   "outputs": [],
   "source": [
    "train_batches = list(iterator.get_batches(train_set, shuffle=False))\n",
    "train_X_batches = np.concatenate(list(zip(*train_batches))[0])"
   ]
  },
  {
   "cell_type": "markdown",
   "metadata": {},
   "source": [
    "Next, create a prediction function that that wraps the model prediction function and returns the predictions as numpy arrays."
   ]
  },
  {
   "cell_type": "code",
   "execution_count": 6,
   "metadata": {
    "collapsed": true
   },
   "outputs": [],
   "source": [
    "model.eval();\n",
    "pred_fn = lambda x: var_to_np(th.mean(model(np_to_var(x).cuda()), dim=2, keepdim=False))"
   ]
  },
  {
   "cell_type": "markdown",
   "metadata": {},
   "source": [
    "Setup logging and compute the correlations between amplitude perturbations and prediction changes."
   ]
  },
  {
   "cell_type": "code",
   "execution_count": 7,
   "metadata": {},
   "outputs": [
    {
     "name": "stdout",
     "output_type": "stream",
     "text": [
      "2017-09-04 17:27:18,428 INFO : Compute original predictions...\n",
      "2017-09-04 17:27:31,206 INFO : Iteration 0...\n",
      "2017-09-04 17:27:31,207 INFO : Sample perturbation...\n",
      "2017-09-04 17:27:37,230 INFO : Compute new amplitudes...\n",
      "2017-09-04 17:27:37,853 INFO : Compute new  complex inputs...\n",
      "2017-09-04 17:27:46,106 INFO : Compute new real inputs...\n",
      "2017-09-04 17:27:48,971 INFO : Compute new predictions...\n",
      "2017-09-04 17:27:49,993 INFO : Compute correlation...\n",
      "2017-09-04 17:27:50,812 INFO : Iteration 1...\n",
      "2017-09-04 17:27:50,813 INFO : Sample perturbation...\n",
      "2017-09-04 17:27:54,581 INFO : Compute new amplitudes...\n",
      "2017-09-04 17:27:55,213 INFO : Compute new  complex inputs...\n",
      "2017-09-04 17:28:01,076 INFO : Compute new real inputs...\n",
      "2017-09-04 17:28:03,970 INFO : Compute new predictions...\n",
      "2017-09-04 17:28:04,972 INFO : Compute correlation...\n",
      "2017-09-04 17:28:05,598 INFO : Iteration 2...\n",
      "2017-09-04 17:28:05,599 INFO : Sample perturbation...\n",
      "2017-09-04 17:28:09,366 INFO : Compute new amplitudes...\n",
      "2017-09-04 17:28:09,999 INFO : Compute new  complex inputs...\n",
      "2017-09-04 17:28:15,846 INFO : Compute new real inputs...\n",
      "2017-09-04 17:28:18,740 INFO : Compute new predictions...\n",
      "2017-09-04 17:28:19,741 INFO : Compute correlation...\n",
      "2017-09-04 17:28:20,388 INFO : Iteration 3...\n",
      "2017-09-04 17:28:20,389 INFO : Sample perturbation...\n",
      "2017-09-04 17:28:24,159 INFO : Compute new amplitudes...\n",
      "2017-09-04 17:28:24,790 INFO : Compute new  complex inputs...\n",
      "2017-09-04 17:28:30,650 INFO : Compute new real inputs...\n",
      "2017-09-04 17:28:33,545 INFO : Compute new predictions...\n",
      "2017-09-04 17:28:34,575 INFO : Compute correlation...\n",
      "2017-09-04 17:28:35,191 INFO : Iteration 4...\n",
      "2017-09-04 17:28:35,192 INFO : Sample perturbation...\n",
      "2017-09-04 17:28:38,959 INFO : Compute new amplitudes...\n",
      "2017-09-04 17:28:39,591 INFO : Compute new  complex inputs...\n",
      "2017-09-04 17:28:45,443 INFO : Compute new real inputs...\n",
      "2017-09-04 17:28:48,337 INFO : Compute new predictions...\n",
      "2017-09-04 17:28:49,342 INFO : Compute correlation...\n",
      "2017-09-04 17:28:49,961 INFO : Iteration 5...\n",
      "2017-09-04 17:28:49,962 INFO : Sample perturbation...\n",
      "2017-09-04 17:28:53,729 INFO : Compute new amplitudes...\n",
      "2017-09-04 17:28:54,362 INFO : Compute new  complex inputs...\n",
      "2017-09-04 17:29:00,220 INFO : Compute new real inputs...\n",
      "2017-09-04 17:29:03,117 INFO : Compute new predictions...\n",
      "2017-09-04 17:29:04,124 INFO : Compute correlation...\n",
      "2017-09-04 17:29:04,742 INFO : Iteration 6...\n",
      "2017-09-04 17:29:04,743 INFO : Sample perturbation...\n",
      "2017-09-04 17:29:08,510 INFO : Compute new amplitudes...\n",
      "2017-09-04 17:29:09,144 INFO : Compute new  complex inputs...\n",
      "2017-09-04 17:29:14,993 INFO : Compute new real inputs...\n",
      "2017-09-04 17:29:17,886 INFO : Compute new predictions...\n",
      "2017-09-04 17:29:18,911 INFO : Compute correlation...\n",
      "2017-09-04 17:29:19,534 INFO : Iteration 7...\n",
      "2017-09-04 17:29:19,535 INFO : Sample perturbation...\n",
      "2017-09-04 17:29:23,303 INFO : Compute new amplitudes...\n",
      "2017-09-04 17:29:23,936 INFO : Compute new  complex inputs...\n",
      "2017-09-04 17:29:29,794 INFO : Compute new real inputs...\n",
      "2017-09-04 17:29:32,691 INFO : Compute new predictions...\n",
      "2017-09-04 17:29:33,696 INFO : Compute correlation...\n",
      "2017-09-04 17:29:34,318 INFO : Iteration 8...\n",
      "2017-09-04 17:29:34,319 INFO : Sample perturbation...\n",
      "2017-09-04 17:29:38,089 INFO : Compute new amplitudes...\n",
      "2017-09-04 17:29:38,723 INFO : Compute new  complex inputs...\n",
      "2017-09-04 17:29:44,573 INFO : Compute new real inputs...\n",
      "2017-09-04 17:29:47,465 INFO : Compute new predictions...\n",
      "2017-09-04 17:29:48,471 INFO : Compute correlation...\n",
      "2017-09-04 17:29:49,095 INFO : Iteration 9...\n",
      "2017-09-04 17:29:49,096 INFO : Sample perturbation...\n",
      "2017-09-04 17:29:52,864 INFO : Compute new amplitudes...\n",
      "2017-09-04 17:29:53,497 INFO : Compute new  complex inputs...\n",
      "2017-09-04 17:29:59,356 INFO : Compute new real inputs...\n",
      "2017-09-04 17:30:02,253 INFO : Compute new predictions...\n",
      "2017-09-04 17:30:03,283 INFO : Compute correlation...\n",
      "2017-09-04 17:30:03,897 INFO : Iteration 10...\n",
      "2017-09-04 17:30:03,898 INFO : Sample perturbation...\n",
      "2017-09-04 17:30:07,667 INFO : Compute new amplitudes...\n",
      "2017-09-04 17:30:08,301 INFO : Compute new  complex inputs...\n",
      "2017-09-04 17:30:14,150 INFO : Compute new real inputs...\n",
      "2017-09-04 17:30:17,043 INFO : Compute new predictions...\n",
      "2017-09-04 17:30:18,048 INFO : Compute correlation...\n",
      "2017-09-04 17:30:18,675 INFO : Iteration 11...\n",
      "2017-09-04 17:30:18,676 INFO : Sample perturbation...\n",
      "2017-09-04 17:30:22,443 INFO : Compute new amplitudes...\n",
      "2017-09-04 17:30:23,076 INFO : Compute new  complex inputs...\n",
      "2017-09-04 17:30:28,934 INFO : Compute new real inputs...\n",
      "2017-09-04 17:30:31,831 INFO : Compute new predictions...\n",
      "2017-09-04 17:30:32,837 INFO : Compute correlation...\n"
     ]
    }
   ],
   "source": [
    "from braindecode.visualization.perturbation import compute_amplitude_prediction_correlations\n",
    "import logging\n",
    "import sys\n",
    "logging.basicConfig(format='%(asctime)s %(levelname)s : %(message)s',\n",
    "                     level=logging.DEBUG, stream=sys.stdout)\n",
    "\n",
    "amp_pred_corrs = compute_amplitude_prediction_correlations(pred_fn, train_X_batches, n_iterations=12,\n",
    "                                         batch_size=30)"
   ]
  },
  {
   "cell_type": "markdown",
   "metadata": {},
   "source": [
    "## Plot correlations"
   ]
  },
  {
   "cell_type": "markdown",
   "metadata": {},
   "source": [
    "Compute the mean correlations across iterations."
   ]
  },
  {
   "cell_type": "code",
   "execution_count": 8,
   "metadata": {
    "collapsed": true
   },
   "outputs": [],
   "source": [
    "mean_corr = np.mean(amp_pred_corrs, axis=0)"
   ]
  },
  {
   "cell_type": "markdown",
   "metadata": {},
   "source": [
    "Pick out one frequency range and mean correlations within that frequency range to make a scalp plot.\n",
    "Here we use the alpha frequency range."
   ]
  },
  {
   "cell_type": "code",
   "execution_count": 9,
   "metadata": {
    "collapsed": true
   },
   "outputs": [],
   "source": [
    "\n",
    "fs = epoched.info['sfreq']\n",
    "freqs = np.fft.rfftfreq(train_X_batches.shape[2], d=1.0/fs)\n",
    "start_freq = 7\n",
    "stop_freq = 14\n",
    "\n",
    "i_start = np.searchsorted(freqs,start_freq)\n",
    "i_stop = np.searchsorted(freqs, stop_freq) + 1\n",
    "\n",
    "freq_corr = np.mean(mean_corr[:,i_start:i_stop], axis=1)"
   ]
  },
  {
   "cell_type": "markdown",
   "metadata": {},
   "source": [
    "Now get approximate positions of the channels in the 10-20 system."
   ]
  },
  {
   "cell_type": "code",
   "execution_count": 10,
   "metadata": {
    "collapsed": true
   },
   "outputs": [],
   "source": [
    "from braindecode.datasets.sensor_positions import get_channelpos, CHANNEL_10_20_APPROX\n",
    "\n",
    "ch_names = [s.strip('.') for s in epoched.ch_names]\n",
    "positions = [get_channelpos(name, CHANNEL_10_20_APPROX) for name in ch_names]\n",
    "positions = np.array(positions)"
   ]
  },
  {
   "cell_type": "markdown",
   "metadata": {},
   "source": [
    "### Plot with MNE"
   ]
  },
  {
   "cell_type": "code",
   "execution_count": 11,
   "metadata": {
    "collapsed": true
   },
   "outputs": [],
   "source": [
    "import matplotlib.pyplot as plt\n",
    "from matplotlib import cm\n",
    "%matplotlib inline\n",
    "max_abs_val = np.max(np.abs(freq_corr))"
   ]
  },
  {
   "cell_type": "code",
   "execution_count": 12,
   "metadata": {},
   "outputs": [
    {
     "data": {
      "image/png": "[encoded data removed]",
      "text/plain": [
       "<matplotlib.figure.Figure at 0x7fa2b4724c88>"
      ]
     },
     "metadata": {},
     "output_type": "display_data"
    }
   ],
   "source": [
    "fig, axes = plt.subplots(1, 2)\n",
    "class_names = ['Left Hand', 'Right Hand']\n",
    "for i_class in range(2):\n",
    "    ax = axes[i_class]\n",
    "    mne.viz.plot_topomap(freq_corr[:,i_class], positions,\n",
    "                     vmin=-max_abs_val, vmax=max_abs_val, contours=0,\n",
    "                    cmap=cm.coolwarm, axes=ax, show=False);\n",
    "    ax.set_title(class_names[i_class])"
   ]
  },
  {
   "cell_type": "markdown",
   "metadata": {},
   "source": [
    "### Plot with Braindecode"
   ]
  },
  {
   "cell_type": "code",
   "execution_count": 13,
   "metadata": {},
   "outputs": [
    {
     "data": {
      "image/png": "[encoded data removed]",
      "text/plain": [
       "<matplotlib.figure.Figure at 0x7fa2b4724ba8>"
      ]
     },
     "metadata": {},
     "output_type": "display_data"
    }
   ],
   "source": [
    "from braindecode.visualization.plot import ax_scalp\n",
    "\n",
    "fig, axes = plt.subplots(1, 2)\n",
    "class_names = ['Left Hand', 'Right Hand']\n",
    "for i_class in range(2):\n",
    "    ax = axes[i_class]\n",
    "    ax_scalp(freq_corr[:,i_class], ch_names, chan_pos_list=CHANNEL_10_20_APPROX, cmap=cm.coolwarm,\n",
    "            vmin=-max_abs_val, vmax=max_abs_val, ax=ax)\n",
    "    ax.set_title(class_names[i_class])"
   ]
  },
  {
   "cell_type": "markdown",
   "metadata": {},
   "source": [
    "From these plots we can see the ConvNet clearly learned to use the lateralized response in the alpha band. Note that the positive correlations for the left hand on the left side do not imply an increase of alpha activity for the left hand in the data, see  [Deep learning with convolutional neural networks for EEG decoding and visualization](https://arxiv.org/abs/1703.05051) Result 12 for some notes on interpretability."
   ]
  },
  {
   "cell_type": "markdown",
   "metadata": {},
   "source": [
    "## Dataset References\n"
   ]
  },
  {
   "cell_type": "markdown",
   "metadata": {},
   "source": [
    " This dataset was created and contributed to PhysioNet by the developers of the [BCI2000](http://www.schalklab.org/research/bci2000) instrumentation system, which they used in making these recordings. The system is described in:\n",
    " \n",
    "     Schalk, G., McFarland, D.J., Hinterberger, T., Birbaumer, N., Wolpaw, J.R. (2004) BCI2000: A General-Purpose Brain-Computer Interface (BCI) System. IEEE TBME 51(6):1034-1043.\n",
    "\n",
    "[PhysioBank](https://physionet.org/physiobank/) is a large and growing archive of well-characterized digital recordings of physiologic signals and related data for use by the biomedical research community and further described in:\n",
    "\n",
    "    Goldberger AL, Amaral LAN, Glass L, Hausdorff JM, Ivanov PCh, Mark RG, Mietus JE, Moody GB, Peng C-K, Stanley HE. (2000) PhysioBank, PhysioToolkit, and PhysioNet: Components of a New Research Resource for Complex Physiologic Signals. Circulation 101(23):e215-e220."
   ]
  }
 ],
 "metadata": {
  "celltoolbar": "Edit Metadata",
  "git": {
   "keep_outputs": true
  },
  "kernelspec": {
   "display_name": "Python 3",
   "language": "python",
   "name": "python3"
  },
  "language_info": {
   "codemirror_mode": {
    "name": "ipython",
    "version": 3
   },
   "file_extension": ".py",
   "mimetype": "text/x-python",
   "name": "python",
   "nbconvert_exporter": "python",
   "pygments_lexer": "ipython3",
   "version": "3.6.2"
  }
 },
 "nbformat": 4,
 "nbformat_minor": 2
}
