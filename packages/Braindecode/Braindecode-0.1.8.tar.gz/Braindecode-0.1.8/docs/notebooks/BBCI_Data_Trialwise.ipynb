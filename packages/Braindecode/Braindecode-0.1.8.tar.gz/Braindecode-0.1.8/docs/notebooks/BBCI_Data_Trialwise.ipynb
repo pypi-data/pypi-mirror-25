{
 "cells": [
  {
   "cell_type": "code",
   "execution_count": 1,
   "metadata": {
    "collapsed": true,
    "nbsphinx": "hidden"
   },
   "outputs": [],
   "source": [
    "%load_ext autoreload\n",
    "%autoreload 2\n",
    "import os\n",
    "os.sys.path.insert(0, '/home/schirrmr/braindecode/code/braindecode/')"
   ]
  },
  {
   "cell_type": "markdown",
   "metadata": {},
   "source": [
    "# Read and Decode BBCI Data"
   ]
  },
  {
   "cell_type": "markdown",
   "metadata": {},
   "source": [
    "This tutorial shows how to read and decode BBCI data."
   ]
  },
  {
   "cell_type": "markdown",
   "metadata": {},
   "source": [
    "## Setup logging to see outputs"
   ]
  },
  {
   "cell_type": "code",
   "execution_count": 2,
   "metadata": {
    "collapsed": true
   },
   "outputs": [],
   "source": [
    "import logging\n",
    "import sys\n",
    "logging.basicConfig(format='%(asctime)s %(levelname)s : %(message)s',\n",
    "                     level=logging.DEBUG, stream=sys.stdout)\n",
    "log = logging.getLogger()"
   ]
  },
  {
   "cell_type": "markdown",
   "metadata": {},
   "source": [
    "## Load and preprocess data"
   ]
  },
  {
   "cell_type": "markdown",
   "metadata": {},
   "source": [
    "First set the filename and the sensors you want to load. If you set\n",
    "\n",
    "```python\n",
    "load_sensor_names=None\n",
    "```\n",
    "\n",
    "or just remove the parameter from the function call, all sensors will be loaded."
   ]
  },
  {
   "cell_type": "code",
   "execution_count": 3,
   "metadata": {},
   "outputs": [
    {
     "name": "stdout",
     "output_type": "stream",
     "text": [
      "Creating RawArray with float64 data, n_channels=3, n_times=3451320\n",
      "    Range : 0 ... 3451319 =      0.000 ...  6902.638 secs\n",
      "Ready.\n"
     ]
    }
   ],
   "source": [
    "from braindecode.datasets.bbci import BBCIDataset\n",
    "train_filename = '/home/schirrmr/data/BBCI-without-last-runs/BhNoMoSc1S001R01_ds10_1-12.BBCI.mat'\n",
    "cnt = BBCIDataset(train_filename, load_sensor_names=['C3', 'CPz', 'C4']).load()"
   ]
  },
  {
   "cell_type": "markdown",
   "metadata": {},
   "source": [
    "### Preprocessing on continous data"
   ]
  },
  {
   "cell_type": "markdown",
   "metadata": {},
   "source": [
    "First remove the stimulus channel, than apply any preprocessing you like. There are some very few directions available from Braindecode, such as resample_cnt. But you can apply any function on the chan x time matrix of the mne raw object (`cnt` in the code) by calling `mne_apply` with two arguments:\n",
    "\n",
    "1. Your function (2d-array-> 2darray), that transforms the channel x timesteps data array\n",
    "2. the Raw data object from mne itself"
   ]
  },
  {
   "cell_type": "code",
   "execution_count": 4,
   "metadata": {},
   "outputs": [
    {
     "name": "stdout",
     "output_type": "stream",
     "text": [
      "2017-09-04 17:18:52,242 WARNING : This is not causal, uses future data....\n",
      "2017-09-04 17:18:52,244 INFO : Resampling from 500.000000 to 250.000000 Hz.\n",
      "Creating RawArray with float64 data, n_channels=3, n_times=1725660\n",
      "    Range : 0 ... 1725659 =      0.000 ...  6902.636 secs\n",
      "Ready.\n"
     ]
    }
   ],
   "source": [
    "from braindecode.mne_ext.signalproc import resample_cnt, mne_apply\n",
    "from braindecode.datautil.signalproc import exponential_running_standardize\n",
    "# Remove stimulus channel\n",
    "cnt = cnt.drop_channels(['STI 014'])\n",
    "cnt = resample_cnt(cnt, 250)\n",
    "# mne apply will apply the function to the data (a 2d-numpy-array)\n",
    "# have to transpose data back and forth, since\n",
    "# exponential_running_standardize expects time x chans order\n",
    "# while mne object has chans x time order\n",
    "cnt = mne_apply(lambda a: exponential_running_standardize(\n",
    "    a.T, init_block_size=1000,factor_new=0.001, eps=1e-4).T,\n",
    "    cnt)"
   ]
  },
  {
   "cell_type": "markdown",
   "metadata": {},
   "source": [
    "## Transform to epoched dataset "
   ]
  },
  {
   "cell_type": "markdown",
   "metadata": {},
   "source": [
    "Braindecode supplies the `create_signal_target_from_raw_mne` function, which will transform the mne raw object into a `SignalAndTarget` object for use in Braindecode.\n",
    "`name_to_code` should be an `OrderedDict` that maps class names to either one or a list of marker codes for that class."
   ]
  },
  {
   "cell_type": "code",
   "execution_count": 5,
   "metadata": {},
   "outputs": [
    {
     "name": "stdout",
     "output_type": "stream",
     "text": [
      "2017-09-04 17:18:54,284 INFO : Trial per class:\n",
      "Counter({'Feet': 225, 'Right': 224, 'Rest': 224, 'Left': 224})\n"
     ]
    }
   ],
   "source": [
    "from braindecode.datautil.trial_segment import create_signal_target_from_raw_mne\n",
    "from collections import OrderedDict\n",
    "# can also give lists of marker codes in case a class has multiple marker codes...\n",
    "name_to_code = OrderedDict([('Right', 1), ('Left', 2), ('Rest', 3), ('Feet', 4)])\n",
    "segment_ival_ms = [-500,4000]\n",
    "\n",
    "train_set = create_signal_target_from_raw_mne(cnt, name_to_code, segment_ival_ms)"
   ]
  },
  {
   "cell_type": "markdown",
   "metadata": {},
   "source": [
    "## Same for test set"
   ]
  },
  {
   "cell_type": "code",
   "execution_count": 6,
   "metadata": {
    "scrolled": false
   },
   "outputs": [
    {
     "name": "stdout",
     "output_type": "stream",
     "text": [
      "Creating RawArray with float64 data, n_channels=3, n_times=617090\n",
      "    Range : 0 ... 617089 =      0.000 ...  1234.178 secs\n",
      "Ready.\n",
      "2017-09-04 17:18:54,588 WARNING : This is not causal, uses future data....\n",
      "2017-09-04 17:18:54,589 INFO : Resampling from 500.000000 to 250.000000 Hz.\n",
      "Creating RawArray with float64 data, n_channels=3, n_times=308545\n",
      "    Range : 0 ... 308544 =      0.000 ...  1234.176 secs\n",
      "Ready.\n",
      "2017-09-04 17:18:54,924 INFO : Trial per class:\n",
      "Counter({'Feet': 40, 'Left': 40, 'Rest': 40, 'Right': 40})\n"
     ]
    }
   ],
   "source": [
    "test_filename = '/home/schirrmr/data/BBCI-only-last-runs/BhNoMoSc1S001R13_ds10_1-2BBCI.mat'\n",
    "cnt = BBCIDataset(test_filename, load_sensor_names=['C3', 'CPz', 'C4']).load()\n",
    "# Remove stimulus channel\n",
    "cnt = cnt.drop_channels(['STI 014'])\n",
    "cnt = resample_cnt(cnt, 250)\n",
    "cnt = mne_apply(lambda a: exponential_running_standardize(\n",
    "    a.T, init_block_size=1000,factor_new=0.001, eps=1e-4).T,\n",
    "    cnt)\n",
    "test_set = create_signal_target_from_raw_mne(cnt, name_to_code, segment_ival_ms)"
   ]
  },
  {
   "cell_type": "markdown",
   "metadata": {},
   "source": [
    "<div class=\"alert alert-info\">\n",
    "\n",
    "In case of start and stop markers, provide a `name_to_stop_codes` dictionary (same as for the start codes in this example) as a final argument to `create_signal_target_from_raw_mne`. See [Read and Decode BBCI Data with Start-Stop-Markers Tutorial](BBCI_Data_Start_Stop.html)\n",
    "\n",
    "\n",
    "</div>"
   ]
  },
  {
   "cell_type": "markdown",
   "metadata": {},
   "source": [
    "Split off a validation set."
   ]
  },
  {
   "cell_type": "code",
   "execution_count": 7,
   "metadata": {
    "collapsed": true
   },
   "outputs": [],
   "source": [
    "from braindecode.datautil.splitters import split_into_two_sets\n",
    "\n",
    "train_set, valid_set = split_into_two_sets(train_set, first_set_fraction=0.8)\n"
   ]
  },
  {
   "cell_type": "markdown",
   "metadata": {},
   "source": [
    "## Create the model"
   ]
  },
  {
   "cell_type": "code",
   "execution_count": 8,
   "metadata": {
    "collapsed": true
   },
   "outputs": [],
   "source": [
    "from braindecode.models.shallow_fbcsp import ShallowFBCSPNet\n",
    "from torch import nn\n",
    "from braindecode.torch_ext.util import set_random_seeds\n",
    "\n",
    "# Set if you want to use GPU\n",
    "# You can also use torch.cuda.is_available() to determine if cuda is available on your machine.\n",
    "cuda = True\n",
    "set_random_seeds(seed=20170629, cuda=cuda)\n",
    "\n",
    "\n",
    "# This will determine how many crops are processed in parallel\n",
    "input_time_length = train_set.X.shape[2]\n",
    "in_chans = 3\n",
    "n_classes = 4\n",
    "# final_conv_length determines the size of the receptive field of the ConvNet\n",
    "model = ShallowFBCSPNet(in_chans=in_chans, n_classes=n_classes, input_time_length=input_time_length,\n",
    "                        final_conv_length='auto').create_network()\n",
    "\n",
    "if cuda:\n",
    "    model.cuda()"
   ]
  },
  {
   "cell_type": "markdown",
   "metadata": {},
   "source": [
    "## Setup optimizer and iterator"
   ]
  },
  {
   "cell_type": "code",
   "execution_count": 9,
   "metadata": {
    "collapsed": true
   },
   "outputs": [],
   "source": [
    "from torch import optim\n",
    "import numpy as np\n",
    "\n",
    "optimizer = optim.Adam(model.parameters())\n",
    "\n",
    "\n",
    "from braindecode.datautil.iterators import BalancedBatchSizeIterator\n",
    "iterator = BalancedBatchSizeIterator(batch_size=32)\n"
   ]
  },
  {
   "cell_type": "markdown",
   "metadata": {},
   "source": [
    "## Setup Monitors, Loss function, Stop Criteria"
   ]
  },
  {
   "cell_type": "code",
   "execution_count": 10,
   "metadata": {
    "collapsed": true
   },
   "outputs": [],
   "source": [
    "from braindecode.experiments.experiment import Experiment\n",
    "from braindecode.experiments.monitors import RuntimeMonitor, LossMonitor, CroppedTrialMisclassMonitor, MisclassMonitor\n",
    "from braindecode.experiments.stopcriteria import MaxEpochs\n",
    "import torch.nn.functional as F\n",
    "import torch as th\n",
    "from braindecode.torch_ext.modules import Expression\n",
    "\n",
    "\n",
    "loss_function = F.nll_loss\n",
    "\n",
    "model_constraint = None\n",
    "monitors = [LossMonitor(), MisclassMonitor(col_suffix='misclass'), \n",
    "            RuntimeMonitor(),]\n",
    "stop_criterion = MaxEpochs(20)\n",
    "exp = Experiment(model, train_set, valid_set, test_set, iterator, loss_function, optimizer, model_constraint,\n",
    "          monitors, stop_criterion, remember_best_column='valid_misclass',\n",
    "          run_after_early_stop=True, batch_modifier=None, cuda=cuda)"
   ]
  },
  {
   "cell_type": "markdown",
   "metadata": {},
   "source": [
    "## Run experiment"
   ]
  },
  {
   "cell_type": "code",
   "execution_count": 11,
   "metadata": {},
   "outputs": [
    {
     "name": "stdout",
     "output_type": "stream",
     "text": [
      "2017-09-04 17:18:57,887 INFO : Run until first stop...\n",
      "2017-09-04 17:18:58,675 INFO : Epoch 0\n",
      "2017-09-04 17:18:58,676 INFO : train_loss                3.82544\n",
      "2017-09-04 17:18:58,677 INFO : valid_loss                3.72206\n",
      "2017-09-04 17:18:58,678 INFO : test_loss                 3.90394\n",
      "2017-09-04 17:18:58,679 INFO : train_misclass            0.76184\n",
      "2017-09-04 17:18:58,680 INFO : valid_misclass            0.76536\n",
      "2017-09-04 17:18:58,680 INFO : test_misclass             0.75625\n",
      "2017-09-04 17:18:58,681 INFO : runtime                   0.00000\n",
      "2017-09-04 17:18:58,682 INFO : \n",
      "2017-09-04 17:18:58,683 INFO : New best valid_misclass: 0.765363\n",
      "2017-09-04 17:18:58,684 INFO : \n",
      "2017-09-04 17:18:59,209 INFO : Time only for training updates: 0.52s\n",
      "2017-09-04 17:18:59,434 INFO : Epoch 1\n",
      "2017-09-04 17:18:59,435 INFO : train_loss                2.65478\n",
      "2017-09-04 17:18:59,436 INFO : valid_loss                2.88091\n",
      "2017-09-04 17:18:59,437 INFO : test_loss                 3.03435\n",
      "2017-09-04 17:18:59,438 INFO : train_misclass            0.71866\n",
      "2017-09-04 17:18:59,438 INFO : valid_misclass            0.73184\n",
      "2017-09-04 17:18:59,439 INFO : test_misclass             0.71250\n",
      "2017-09-04 17:18:59,440 INFO : runtime                   1.32142\n",
      "2017-09-04 17:18:59,441 INFO : \n",
      "2017-09-04 17:18:59,443 INFO : New best valid_misclass: 0.731844\n",
      "2017-09-04 17:18:59,443 INFO : \n",
      "2017-09-04 17:18:59,958 INFO : Time only for training updates: 0.51s\n",
      "2017-09-04 17:19:00,184 INFO : Epoch 2\n",
      "2017-09-04 17:19:00,185 INFO : train_loss                0.60803\n",
      "2017-09-04 17:19:00,186 INFO : valid_loss                0.61970\n",
      "2017-09-04 17:19:00,187 INFO : test_loss                 0.81639\n",
      "2017-09-04 17:19:00,187 INFO : train_misclass            0.24930\n",
      "2017-09-04 17:19:00,188 INFO : valid_misclass            0.27933\n",
      "2017-09-04 17:19:00,189 INFO : test_misclass             0.33750\n",
      "2017-09-04 17:19:00,190 INFO : runtime                   0.74900\n",
      "2017-09-04 17:19:00,190 INFO : \n",
      "2017-09-04 17:19:00,192 INFO : New best valid_misclass: 0.279330\n",
      "2017-09-04 17:19:00,193 INFO : \n",
      "2017-09-04 17:19:00,709 INFO : Time only for training updates: 0.52s\n",
      "2017-09-04 17:19:00,935 INFO : Epoch 3\n",
      "2017-09-04 17:19:00,936 INFO : train_loss                0.58721\n",
      "2017-09-04 17:19:00,937 INFO : valid_loss                0.62999\n",
      "2017-09-04 17:19:00,937 INFO : test_loss                 0.85671\n",
      "2017-09-04 17:19:00,938 INFO : train_misclass            0.23677\n",
      "2017-09-04 17:19:00,939 INFO : valid_misclass            0.27933\n",
      "2017-09-04 17:19:00,940 INFO : test_misclass             0.38750\n",
      "2017-09-04 17:19:00,940 INFO : runtime                   0.75133\n",
      "2017-09-04 17:19:00,941 INFO : \n",
      "2017-09-04 17:19:00,943 INFO : New best valid_misclass: 0.279330\n",
      "2017-09-04 17:19:00,944 INFO : \n",
      "2017-09-04 17:19:01,458 INFO : Time only for training updates: 0.51s\n",
      "2017-09-04 17:19:01,684 INFO : Epoch 4\n",
      "2017-09-04 17:19:01,685 INFO : train_loss                0.48775\n",
      "2017-09-04 17:19:01,686 INFO : valid_loss                0.56646\n",
      "2017-09-04 17:19:01,686 INFO : test_loss                 0.76722\n",
      "2017-09-04 17:19:01,687 INFO : train_misclass            0.19220\n",
      "2017-09-04 17:19:01,688 INFO : valid_misclass            0.26257\n",
      "2017-09-04 17:19:01,689 INFO : test_misclass             0.31250\n",
      "2017-09-04 17:19:01,689 INFO : runtime                   0.74925\n",
      "2017-09-04 17:19:01,690 INFO : \n",
      "2017-09-04 17:19:01,692 INFO : New best valid_misclass: 0.262570\n",
      "2017-09-04 17:19:01,693 INFO : \n",
      "2017-09-04 17:19:02,209 INFO : Time only for training updates: 0.52s\n",
      "2017-09-04 17:19:02,436 INFO : Epoch 5\n",
      "2017-09-04 17:19:02,437 INFO : train_loss                0.42454\n",
      "2017-09-04 17:19:02,438 INFO : valid_loss                0.52290\n",
      "2017-09-04 17:19:02,439 INFO : test_loss                 0.79314\n",
      "2017-09-04 17:19:02,439 INFO : train_misclass            0.14345\n",
      "2017-09-04 17:19:02,440 INFO : valid_misclass            0.23464\n",
      "2017-09-04 17:19:02,441 INFO : test_misclass             0.36250\n",
      "2017-09-04 17:19:02,441 INFO : runtime                   0.75074\n",
      "2017-09-04 17:19:02,442 INFO : \n",
      "2017-09-04 17:19:02,444 INFO : New best valid_misclass: 0.234637\n",
      "2017-09-04 17:19:02,445 INFO : \n",
      "2017-09-04 17:19:02,961 INFO : Time only for training updates: 0.52s\n",
      "2017-09-04 17:19:03,187 INFO : Epoch 6\n",
      "2017-09-04 17:19:03,188 INFO : train_loss                0.35485\n",
      "2017-09-04 17:19:03,189 INFO : valid_loss                0.51052\n",
      "2017-09-04 17:19:03,190 INFO : test_loss                 0.73042\n",
      "2017-09-04 17:19:03,190 INFO : train_misclass            0.10724\n",
      "2017-09-04 17:19:03,191 INFO : valid_misclass            0.20112\n",
      "2017-09-04 17:19:03,192 INFO : test_misclass             0.26875\n",
      "2017-09-04 17:19:03,192 INFO : runtime                   0.75225\n",
      "2017-09-04 17:19:03,193 INFO : \n",
      "2017-09-04 17:19:03,195 INFO : New best valid_misclass: 0.201117\n",
      "2017-09-04 17:19:03,196 INFO : \n",
      "2017-09-04 17:19:03,711 INFO : Time only for training updates: 0.51s\n",
      "2017-09-04 17:19:03,936 INFO : Epoch 7\n",
      "2017-09-04 17:19:03,937 INFO : train_loss                0.35058\n",
      "2017-09-04 17:19:03,938 INFO : valid_loss                0.59060\n",
      "2017-09-04 17:19:03,939 INFO : test_loss                 0.81121\n",
      "2017-09-04 17:19:03,939 INFO : train_misclass            0.12674\n",
      "2017-09-04 17:19:03,940 INFO : valid_misclass            0.25140\n",
      "2017-09-04 17:19:03,941 INFO : test_misclass             0.33750\n",
      "2017-09-04 17:19:03,942 INFO : runtime                   0.74937\n",
      "2017-09-04 17:19:03,942 INFO : \n",
      "2017-09-04 17:19:04,457 INFO : Time only for training updates: 0.51s\n",
      "2017-09-04 17:19:04,683 INFO : Epoch 8\n",
      "2017-09-04 17:19:04,684 INFO : train_loss                0.32417\n",
      "2017-09-04 17:19:04,684 INFO : valid_loss                0.46184\n",
      "2017-09-04 17:19:04,685 INFO : test_loss                 0.72613\n",
      "2017-09-04 17:19:04,686 INFO : train_misclass            0.09889\n",
      "2017-09-04 17:19:04,687 INFO : valid_misclass            0.18436\n",
      "2017-09-04 17:19:04,687 INFO : test_misclass             0.31875\n",
      "2017-09-04 17:19:04,688 INFO : runtime                   0.74627\n",
      "2017-09-04 17:19:04,689 INFO : \n",
      "2017-09-04 17:19:04,691 INFO : New best valid_misclass: 0.184358\n",
      "2017-09-04 17:19:04,692 INFO : \n",
      "2017-09-04 17:19:05,208 INFO : Time only for training updates: 0.52s\n",
      "2017-09-04 17:19:05,436 INFO : Epoch 9\n",
      "2017-09-04 17:19:05,437 INFO : train_loss                0.33567\n",
      "2017-09-04 17:19:05,438 INFO : valid_loss                0.48756\n",
      "2017-09-04 17:19:05,438 INFO : test_loss                 0.72620\n",
      "2017-09-04 17:19:05,439 INFO : train_misclass            0.09331\n",
      "2017-09-04 17:19:05,440 INFO : valid_misclass            0.20670\n",
      "2017-09-04 17:19:05,440 INFO : test_misclass             0.26875\n",
      "2017-09-04 17:19:05,441 INFO : runtime                   0.75123\n",
      "2017-09-04 17:19:05,442 INFO : \n",
      "2017-09-04 17:19:05,962 INFO : Time only for training updates: 0.52s\n",
      "2017-09-04 17:19:06,189 INFO : Epoch 10\n",
      "2017-09-04 17:19:06,190 INFO : train_loss                0.40197\n",
      "2017-09-04 17:19:06,190 INFO : valid_loss                0.56503\n",
      "2017-09-04 17:19:06,191 INFO : test_loss                 0.81239\n",
      "2017-09-04 17:19:06,192 INFO : train_misclass            0.13788\n",
      "2017-09-04 17:19:06,193 INFO : valid_misclass            0.22346\n",
      "2017-09-04 17:19:06,193 INFO : test_misclass             0.31875\n",
      "2017-09-04 17:19:06,194 INFO : runtime                   0.75344\n",
      "2017-09-04 17:19:06,195 INFO : \n",
      "2017-09-04 17:19:06,715 INFO : Time only for training updates: 0.52s\n",
      "2017-09-04 17:19:06,942 INFO : Epoch 11\n",
      "2017-09-04 17:19:06,943 INFO : train_loss                0.24288\n",
      "2017-09-04 17:19:06,943 INFO : valid_loss                0.48949\n",
      "2017-09-04 17:19:06,944 INFO : test_loss                 0.74231\n",
      "2017-09-04 17:19:06,945 INFO : train_misclass            0.07660\n",
      "2017-09-04 17:19:06,946 INFO : valid_misclass            0.18436\n",
      "2017-09-04 17:19:06,946 INFO : test_misclass             0.29375\n",
      "2017-09-04 17:19:06,947 INFO : runtime                   0.75298\n",
      "2017-09-04 17:19:06,948 INFO : \n",
      "2017-09-04 17:19:06,950 INFO : New best valid_misclass: 0.184358\n",
      "2017-09-04 17:19:06,950 INFO : \n",
      "2017-09-04 17:19:07,472 INFO : Time only for training updates: 0.52s\n",
      "2017-09-04 17:19:07,699 INFO : Epoch 12\n",
      "2017-09-04 17:19:07,700 INFO : train_loss                0.22652\n",
      "2017-09-04 17:19:07,701 INFO : valid_loss                0.47755\n"
     ]
    },
    {
     "name": "stdout",
     "output_type": "stream",
     "text": [
      "2017-09-04 17:19:07,701 INFO : test_loss                 0.79943\n",
      "2017-09-04 17:19:07,702 INFO : train_misclass            0.07242\n",
      "2017-09-04 17:19:07,703 INFO : valid_misclass            0.18994\n",
      "2017-09-04 17:19:07,703 INFO : test_misclass             0.31875\n",
      "2017-09-04 17:19:07,704 INFO : runtime                   0.75721\n",
      "2017-09-04 17:19:07,705 INFO : \n",
      "2017-09-04 17:19:08,225 INFO : Time only for training updates: 0.52s\n",
      "2017-09-04 17:19:08,452 INFO : Epoch 13\n",
      "2017-09-04 17:19:08,453 INFO : train_loss                0.26975\n",
      "2017-09-04 17:19:08,454 INFO : valid_loss                0.52231\n",
      "2017-09-04 17:19:08,455 INFO : test_loss                 0.70920\n",
      "2017-09-04 17:19:08,455 INFO : train_misclass            0.09053\n",
      "2017-09-04 17:19:08,456 INFO : valid_misclass            0.20112\n",
      "2017-09-04 17:19:08,457 INFO : test_misclass             0.31250\n",
      "2017-09-04 17:19:08,458 INFO : runtime                   0.75330\n",
      "2017-09-04 17:19:08,458 INFO : \n",
      "2017-09-04 17:19:08,979 INFO : Time only for training updates: 0.52s\n",
      "2017-09-04 17:19:09,206 INFO : Epoch 14\n",
      "2017-09-04 17:19:09,207 INFO : train_loss                0.32305\n",
      "2017-09-04 17:19:09,208 INFO : valid_loss                0.61653\n",
      "2017-09-04 17:19:09,208 INFO : test_loss                 0.93355\n",
      "2017-09-04 17:19:09,209 INFO : train_misclass            0.12117\n",
      "2017-09-04 17:19:09,210 INFO : valid_misclass            0.26816\n",
      "2017-09-04 17:19:09,210 INFO : test_misclass             0.35625\n",
      "2017-09-04 17:19:09,211 INFO : runtime                   0.75349\n",
      "2017-09-04 17:19:09,212 INFO : \n",
      "2017-09-04 17:19:09,732 INFO : Time only for training updates: 0.52s\n",
      "2017-09-04 17:19:09,959 INFO : Epoch 15\n",
      "2017-09-04 17:19:09,960 INFO : train_loss                0.24488\n",
      "2017-09-04 17:19:09,961 INFO : valid_loss                0.50299\n",
      "2017-09-04 17:19:09,962 INFO : test_loss                 0.77252\n",
      "2017-09-04 17:19:09,963 INFO : train_misclass            0.07242\n",
      "2017-09-04 17:19:09,963 INFO : valid_misclass            0.21229\n",
      "2017-09-04 17:19:09,964 INFO : test_misclass             0.27500\n",
      "2017-09-04 17:19:09,965 INFO : runtime                   0.75364\n",
      "2017-09-04 17:19:09,966 INFO : \n",
      "2017-09-04 17:19:10,486 INFO : Time only for training updates: 0.52s\n",
      "2017-09-04 17:19:10,713 INFO : Epoch 16\n",
      "2017-09-04 17:19:10,714 INFO : train_loss                0.19046\n",
      "2017-09-04 17:19:10,715 INFO : valid_loss                0.53089\n",
      "2017-09-04 17:19:10,716 INFO : test_loss                 0.82799\n",
      "2017-09-04 17:19:10,717 INFO : train_misclass            0.06128\n",
      "2017-09-04 17:19:10,717 INFO : valid_misclass            0.19553\n",
      "2017-09-04 17:19:10,718 INFO : test_misclass             0.28750\n",
      "2017-09-04 17:19:10,719 INFO : runtime                   0.75385\n",
      "2017-09-04 17:19:10,719 INFO : \n",
      "2017-09-04 17:19:11,240 INFO : Time only for training updates: 0.52s\n",
      "2017-09-04 17:19:11,467 INFO : Epoch 17\n",
      "2017-09-04 17:19:11,468 INFO : train_loss                0.16598\n",
      "2017-09-04 17:19:11,469 INFO : valid_loss                0.53765\n",
      "2017-09-04 17:19:11,469 INFO : test_loss                 0.73006\n",
      "2017-09-04 17:19:11,470 INFO : train_misclass            0.04457\n",
      "2017-09-04 17:19:11,471 INFO : valid_misclass            0.21229\n",
      "2017-09-04 17:19:11,472 INFO : test_misclass             0.26875\n",
      "2017-09-04 17:19:11,472 INFO : runtime                   0.75364\n",
      "2017-09-04 17:19:11,473 INFO : \n",
      "2017-09-04 17:19:11,999 INFO : Time only for training updates: 0.53s\n",
      "2017-09-04 17:19:12,230 INFO : Epoch 18\n",
      "2017-09-04 17:19:12,231 INFO : train_loss                0.23208\n",
      "2017-09-04 17:19:12,231 INFO : valid_loss                0.52919\n",
      "2017-09-04 17:19:12,232 INFO : test_loss                 0.68036\n",
      "2017-09-04 17:19:12,233 INFO : train_misclass            0.07799\n",
      "2017-09-04 17:19:12,234 INFO : valid_misclass            0.20112\n",
      "2017-09-04 17:19:12,234 INFO : test_misclass             0.26875\n",
      "2017-09-04 17:19:12,235 INFO : runtime                   0.75925\n",
      "2017-09-04 17:19:12,236 INFO : \n",
      "2017-09-04 17:19:12,777 INFO : Time only for training updates: 0.54s\n",
      "2017-09-04 17:19:13,012 INFO : Epoch 19\n",
      "2017-09-04 17:19:13,013 INFO : train_loss                0.14936\n",
      "2017-09-04 17:19:13,014 INFO : valid_loss                0.53615\n",
      "2017-09-04 17:19:13,015 INFO : test_loss                 0.79159\n",
      "2017-09-04 17:19:13,015 INFO : train_misclass            0.03760\n",
      "2017-09-04 17:19:13,016 INFO : valid_misclass            0.20670\n",
      "2017-09-04 17:19:13,017 INFO : test_misclass             0.29375\n",
      "2017-09-04 17:19:13,018 INFO : runtime                   0.77810\n",
      "2017-09-04 17:19:13,018 INFO : \n",
      "2017-09-04 17:19:13,570 INFO : Time only for training updates: 0.55s\n",
      "2017-09-04 17:19:13,810 INFO : Epoch 20\n",
      "2017-09-04 17:19:13,811 INFO : train_loss                0.17141\n",
      "2017-09-04 17:19:13,812 INFO : valid_loss                0.49532\n",
      "2017-09-04 17:19:13,812 INFO : test_loss                 0.67598\n",
      "2017-09-04 17:19:13,813 INFO : train_misclass            0.04178\n",
      "2017-09-04 17:19:13,814 INFO : valid_misclass            0.17318\n",
      "2017-09-04 17:19:13,815 INFO : test_misclass             0.27500\n",
      "2017-09-04 17:19:13,815 INFO : runtime                   0.79295\n",
      "2017-09-04 17:19:13,816 INFO : \n",
      "2017-09-04 17:19:13,818 INFO : New best valid_misclass: 0.173184\n",
      "2017-09-04 17:19:13,819 INFO : \n",
      "2017-09-04 17:19:13,819 INFO : Setup for second stop...\n",
      "2017-09-04 17:19:13,822 INFO : Train loss to reach 0.17141\n",
      "2017-09-04 17:19:13,823 INFO : Run until second stop...\n",
      "2017-09-04 17:19:14,093 INFO : Epoch 21\n",
      "2017-09-04 17:19:14,094 INFO : train_loss                0.23605\n",
      "2017-09-04 17:19:14,095 INFO : valid_loss                0.49532\n",
      "2017-09-04 17:19:14,096 INFO : test_loss                 0.67598\n",
      "2017-09-04 17:19:14,097 INFO : train_misclass            0.06800\n",
      "2017-09-04 17:19:14,097 INFO : valid_misclass            0.17318\n",
      "2017-09-04 17:19:14,098 INFO : test_misclass             0.27500\n",
      "2017-09-04 17:19:14,099 INFO : runtime                   0.25695\n",
      "2017-09-04 17:19:14,100 INFO : \n",
      "2017-09-04 17:19:14,688 INFO : Time only for training updates: 0.59s\n",
      "2017-09-04 17:19:14,964 INFO : Epoch 22\n",
      "2017-09-04 17:19:14,965 INFO : train_loss                0.25035\n",
      "2017-09-04 17:19:14,966 INFO : valid_loss                0.52409\n",
      "2017-09-04 17:19:14,967 INFO : test_loss                 0.91613\n",
      "2017-09-04 17:19:14,967 INFO : train_misclass            0.09810\n",
      "2017-09-04 17:19:14,968 INFO : valid_misclass            0.22905\n",
      "2017-09-04 17:19:14,969 INFO : test_misclass             0.30000\n",
      "2017-09-04 17:19:14,969 INFO : runtime                   0.86062\n",
      "2017-09-04 17:19:14,970 INFO : \n",
      "2017-09-04 17:19:15,559 INFO : Time only for training updates: 0.59s\n",
      "2017-09-04 17:19:15,835 INFO : Epoch 23\n",
      "2017-09-04 17:19:15,836 INFO : train_loss                0.18998\n",
      "2017-09-04 17:19:15,837 INFO : valid_loss                0.34288\n",
      "2017-09-04 17:19:15,837 INFO : test_loss                 0.65845\n",
      "2017-09-04 17:19:15,838 INFO : train_misclass            0.05909\n",
      "2017-09-04 17:19:15,839 INFO : valid_misclass            0.14525\n",
      "2017-09-04 17:19:15,840 INFO : test_misclass             0.26250\n",
      "2017-09-04 17:19:15,840 INFO : runtime                   0.87085\n",
      "2017-09-04 17:19:15,841 INFO : \n",
      "2017-09-04 17:19:16,430 INFO : Time only for training updates: 0.59s\n",
      "2017-09-04 17:19:16,707 INFO : Epoch 24\n",
      "2017-09-04 17:19:16,708 INFO : train_loss                0.18035\n",
      "2017-09-04 17:19:16,708 INFO : valid_loss                0.27926\n",
      "2017-09-04 17:19:16,709 INFO : test_loss                 0.69266\n",
      "2017-09-04 17:19:16,710 INFO : train_misclass            0.05797\n",
      "2017-09-04 17:19:16,711 INFO : valid_misclass            0.09497\n",
      "2017-09-04 17:19:16,711 INFO : test_misclass             0.27500\n",
      "2017-09-04 17:19:16,712 INFO : runtime                   0.87139\n",
      "2017-09-04 17:19:16,713 INFO : \n",
      "2017-09-04 17:19:17,301 INFO : Time only for training updates: 0.59s\n",
      "2017-09-04 17:19:17,578 INFO : Epoch 25\n",
      "2017-09-04 17:19:17,579 INFO : train_loss                0.24140\n",
      "2017-09-04 17:19:17,579 INFO : valid_loss                0.35204\n",
      "2017-09-04 17:19:17,580 INFO : test_loss                 0.94229\n",
      "2017-09-04 17:19:17,581 INFO : train_misclass            0.07804\n",
      "2017-09-04 17:19:17,582 INFO : valid_misclass            0.12849\n",
      "2017-09-04 17:19:17,583 INFO : test_misclass             0.32500\n"
     ]
    },
    {
     "name": "stdout",
     "output_type": "stream",
     "text": [
      "2017-09-04 17:19:17,583 INFO : runtime                   0.87132\n",
      "2017-09-04 17:19:17,584 INFO : \n",
      "2017-09-04 17:19:18,172 INFO : Time only for training updates: 0.59s\n",
      "2017-09-04 17:19:18,449 INFO : Epoch 26\n",
      "2017-09-04 17:19:18,450 INFO : train_loss                0.15622\n",
      "2017-09-04 17:19:18,451 INFO : valid_loss                0.19816\n",
      "2017-09-04 17:19:18,451 INFO : test_loss                 0.71293\n",
      "2017-09-04 17:19:18,452 INFO : train_misclass            0.04348\n",
      "2017-09-04 17:19:18,453 INFO : valid_misclass            0.07263\n",
      "2017-09-04 17:19:18,454 INFO : test_misclass             0.27500\n",
      "2017-09-04 17:19:18,454 INFO : runtime                   0.87097\n",
      "2017-09-04 17:19:18,455 INFO : \n",
      "2017-09-04 17:19:19,043 INFO : Time only for training updates: 0.59s\n",
      "2017-09-04 17:19:19,320 INFO : Epoch 27\n",
      "2017-09-04 17:19:19,321 INFO : train_loss                0.17739\n",
      "2017-09-04 17:19:19,322 INFO : valid_loss                0.24687\n",
      "2017-09-04 17:19:19,322 INFO : test_loss                 0.80054\n",
      "2017-09-04 17:19:19,323 INFO : train_misclass            0.06577\n",
      "2017-09-04 17:19:19,324 INFO : valid_misclass            0.10615\n",
      "2017-09-04 17:19:19,325 INFO : test_misclass             0.28750\n",
      "2017-09-04 17:19:19,325 INFO : runtime                   0.87109\n",
      "2017-09-04 17:19:19,326 INFO : \n",
      "2017-09-04 17:19:19,914 INFO : Time only for training updates: 0.59s\n",
      "2017-09-04 17:19:20,191 INFO : Epoch 28\n",
      "2017-09-04 17:19:20,192 INFO : train_loss                0.18139\n",
      "2017-09-04 17:19:20,193 INFO : valid_loss                0.26424\n",
      "2017-09-04 17:19:20,194 INFO : test_loss                 0.80660\n",
      "2017-09-04 17:19:20,194 INFO : train_misclass            0.07023\n",
      "2017-09-04 17:19:20,195 INFO : valid_misclass            0.11732\n",
      "2017-09-04 17:19:20,196 INFO : test_misclass             0.26875\n",
      "2017-09-04 17:19:20,197 INFO : runtime                   0.87099\n",
      "2017-09-04 17:19:20,197 INFO : \n",
      "2017-09-04 17:19:20,786 INFO : Time only for training updates: 0.59s\n",
      "2017-09-04 17:19:21,062 INFO : Epoch 29\n",
      "2017-09-04 17:19:21,063 INFO : train_loss                0.12616\n",
      "2017-09-04 17:19:21,064 INFO : valid_loss                0.19405\n",
      "2017-09-04 17:19:21,065 INFO : test_loss                 0.64618\n",
      "2017-09-04 17:19:21,065 INFO : train_misclass            0.03122\n",
      "2017-09-04 17:19:21,066 INFO : valid_misclass            0.06704\n",
      "2017-09-04 17:19:21,067 INFO : test_misclass             0.24375\n",
      "2017-09-04 17:19:21,068 INFO : runtime                   0.87152\n",
      "2017-09-04 17:19:21,068 INFO : \n",
      "2017-09-04 17:19:21,657 INFO : Time only for training updates: 0.59s\n",
      "2017-09-04 17:19:21,933 INFO : Epoch 30\n",
      "2017-09-04 17:19:21,934 INFO : train_loss                0.14949\n",
      "2017-09-04 17:19:21,935 INFO : valid_loss                0.20951\n",
      "2017-09-04 17:19:21,936 INFO : test_loss                 0.82643\n",
      "2017-09-04 17:19:21,937 INFO : train_misclass            0.05351\n",
      "2017-09-04 17:19:21,937 INFO : valid_misclass            0.08380\n",
      "2017-09-04 17:19:21,938 INFO : test_misclass             0.28125\n",
      "2017-09-04 17:19:21,939 INFO : runtime                   0.87091\n",
      "2017-09-04 17:19:21,940 INFO : \n",
      "2017-09-04 17:19:22,528 INFO : Time only for training updates: 0.59s\n",
      "2017-09-04 17:19:22,804 INFO : Epoch 31\n",
      "2017-09-04 17:19:22,805 INFO : train_loss                0.10604\n",
      "2017-09-04 17:19:22,806 INFO : valid_loss                0.18230\n",
      "2017-09-04 17:19:22,807 INFO : test_loss                 0.66707\n",
      "2017-09-04 17:19:22,807 INFO : train_misclass            0.02676\n",
      "2017-09-04 17:19:22,808 INFO : valid_misclass            0.06145\n",
      "2017-09-04 17:19:22,809 INFO : test_misclass             0.24375\n",
      "2017-09-04 17:19:22,810 INFO : runtime                   0.87101\n",
      "2017-09-04 17:19:22,810 INFO : \n",
      "2017-09-04 17:19:23,399 INFO : Time only for training updates: 0.59s\n",
      "2017-09-04 17:19:23,675 INFO : Epoch 32\n",
      "2017-09-04 17:19:23,676 INFO : train_loss                0.18691\n",
      "2017-09-04 17:19:23,677 INFO : valid_loss                0.21075\n",
      "2017-09-04 17:19:23,677 INFO : test_loss                 0.64332\n",
      "2017-09-04 17:19:23,678 INFO : train_misclass            0.06355\n",
      "2017-09-04 17:19:23,679 INFO : valid_misclass            0.08380\n",
      "2017-09-04 17:19:23,680 INFO : test_misclass             0.25625\n",
      "2017-09-04 17:19:23,680 INFO : runtime                   0.87081\n",
      "2017-09-04 17:19:23,681 INFO : \n",
      "2017-09-04 17:19:24,269 INFO : Time only for training updates: 0.59s\n",
      "2017-09-04 17:19:24,545 INFO : Epoch 33\n",
      "2017-09-04 17:19:24,546 INFO : train_loss                0.09083\n",
      "2017-09-04 17:19:24,547 INFO : valid_loss                0.13156\n",
      "2017-09-04 17:19:24,548 INFO : test_loss                 0.62035\n",
      "2017-09-04 17:19:24,549 INFO : train_misclass            0.02453\n",
      "2017-09-04 17:19:24,549 INFO : valid_misclass            0.03911\n",
      "2017-09-04 17:19:24,550 INFO : test_misclass             0.26250\n",
      "2017-09-04 17:19:24,551 INFO : runtime                   0.87056\n",
      "2017-09-04 17:19:24,552 INFO : \n"
     ]
    }
   ],
   "source": [
    "exp.run()"
   ]
  },
  {
   "cell_type": "markdown",
   "metadata": {},
   "source": [
    "We arrive at 24.3% or 26.3% depending on stars :))"
   ]
  }
 ],
 "metadata": {
  "kernelspec": {
   "display_name": "Python 3",
   "language": "python",
   "name": "python3"
  },
  "language_info": {
   "codemirror_mode": {
    "name": "ipython",
    "version": 3
   },
   "file_extension": ".py",
   "mimetype": "text/x-python",
   "name": "python",
   "nbconvert_exporter": "python",
   "pygments_lexer": "ipython3",
   "version": "3.6.2"
  }
 },
 "nbformat": 4,
 "nbformat_minor": 2
}
