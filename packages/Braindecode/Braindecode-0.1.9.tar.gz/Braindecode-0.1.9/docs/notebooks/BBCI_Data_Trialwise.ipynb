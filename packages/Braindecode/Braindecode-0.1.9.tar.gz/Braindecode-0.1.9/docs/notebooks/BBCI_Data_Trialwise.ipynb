{
 "cells": [
  {
   "cell_type": "code",
   "execution_count": 1,
   "metadata": {
    "collapsed": true,
    "nbsphinx": "hidden"
   },
   "outputs": [],
   "source": [
    "%load_ext autoreload\n",
    "%autoreload 2\n",
    "import os\n",
    "os.sys.path.insert(0, '/home/schirrmr/braindecode/code/braindecode/')"
   ]
  },
  {
   "cell_type": "markdown",
   "metadata": {},
   "source": [
    "# Read and Decode BBCI Data"
   ]
  },
  {
   "cell_type": "markdown",
   "metadata": {},
   "source": [
    "This tutorial shows how to read and decode BBCI data."
   ]
  },
  {
   "cell_type": "markdown",
   "metadata": {},
   "source": [
    "## Setup logging to see outputs"
   ]
  },
  {
   "cell_type": "code",
   "execution_count": 2,
   "metadata": {
    "collapsed": true
   },
   "outputs": [],
   "source": [
    "import logging\n",
    "import sys\n",
    "logging.basicConfig(format='%(asctime)s %(levelname)s : %(message)s',\n",
    "                     level=logging.DEBUG, stream=sys.stdout)\n",
    "log = logging.getLogger()"
   ]
  },
  {
   "cell_type": "markdown",
   "metadata": {},
   "source": [
    "## Load and preprocess data"
   ]
  },
  {
   "cell_type": "markdown",
   "metadata": {},
   "source": [
    "First set the filename and the sensors you want to load. If you set\n",
    "\n",
    "```python\n",
    "load_sensor_names=None\n",
    "```\n",
    "\n",
    "or just remove the parameter from the function call, all sensors will be loaded."
   ]
  },
  {
   "cell_type": "code",
   "execution_count": 3,
   "metadata": {},
   "outputs": [
    {
     "name": "stdout",
     "output_type": "stream",
     "text": [
      "Creating RawArray with float64 data, n_channels=3, n_times=3451320\n",
      "    Range : 0 ... 3451319 =      0.000 ...  6902.638 secs\n",
      "Ready.\n"
     ]
    }
   ],
   "source": [
    "from braindecode.datasets.bbci import BBCIDataset\n",
    "train_filename = '/home/schirrmr/data/BBCI-without-last-runs/BhNoMoSc1S001R01_ds10_1-12.BBCI.mat'\n",
    "cnt = BBCIDataset(train_filename, load_sensor_names=['C3', 'CPz', 'C4']).load()"
   ]
  },
  {
   "cell_type": "markdown",
   "metadata": {},
   "source": [
    "### Preprocessing on continous data"
   ]
  },
  {
   "cell_type": "markdown",
   "metadata": {},
   "source": [
    "First remove the stimulus channel, than apply any preprocessing you like. There are some very few directions available from Braindecode, such as resample_cnt. But you can apply any function on the chan x time matrix of the mne raw object (`cnt` in the code) by calling `mne_apply` with two arguments:\n",
    "\n",
    "1. Your function (2d-array-> 2darray), that transforms the channel x timesteps data array\n",
    "2. the Raw data object from mne itself"
   ]
  },
  {
   "cell_type": "code",
   "execution_count": 4,
   "metadata": {},
   "outputs": [
    {
     "name": "stdout",
     "output_type": "stream",
     "text": [
      "2017-09-20 17:30:55,047 WARNING : This is not causal, uses future data....\n",
      "2017-09-20 17:30:55,048 INFO : Resampling from 500.000000 to 250.000000 Hz.\n",
      "Creating RawArray with float64 data, n_channels=3, n_times=1725660\n",
      "    Range : 0 ... 1725659 =      0.000 ...  6902.636 secs\n",
      "Ready.\n"
     ]
    }
   ],
   "source": [
    "from braindecode.mne_ext.signalproc import resample_cnt, mne_apply\n",
    "from braindecode.datautil.signalproc import exponential_running_standardize\n",
    "# Remove stimulus channel\n",
    "cnt = cnt.drop_channels(['STI 014'])\n",
    "cnt = resample_cnt(cnt, 250)\n",
    "# mne apply will apply the function to the data (a 2d-numpy-array)\n",
    "# have to transpose data back and forth, since\n",
    "# exponential_running_standardize expects time x chans order\n",
    "# while mne object has chans x time order\n",
    "cnt = mne_apply(lambda a: exponential_running_standardize(\n",
    "    a.T, init_block_size=1000,factor_new=0.001, eps=1e-4).T,\n",
    "    cnt)"
   ]
  },
  {
   "cell_type": "markdown",
   "metadata": {},
   "source": [
    "## Transform to epoched dataset "
   ]
  },
  {
   "cell_type": "markdown",
   "metadata": {},
   "source": [
    "Braindecode supplies the `create_signal_target_from_raw_mne` function, which will transform the mne raw object into a `SignalAndTarget` object for use in Braindecode.\n",
    "`name_to_code` should be an `OrderedDict` that maps class names to either one or a list of marker codes for that class."
   ]
  },
  {
   "cell_type": "code",
   "execution_count": 5,
   "metadata": {},
   "outputs": [
    {
     "name": "stdout",
     "output_type": "stream",
     "text": [
      "2017-09-20 17:30:56,883 INFO : Trial per class:\n",
      "Counter({'Feet': 225, 'Right': 224, 'Rest': 224, 'Left': 224})\n"
     ]
    }
   ],
   "source": [
    "from braindecode.datautil.trial_segment import create_signal_target_from_raw_mne\n",
    "from collections import OrderedDict\n",
    "# can also give lists of marker codes in case a class has multiple marker codes...\n",
    "name_to_code = OrderedDict([('Right', 1), ('Left', 2), ('Rest', 3), ('Feet', 4)])\n",
    "segment_ival_ms = [-500,4000]\n",
    "\n",
    "train_set = create_signal_target_from_raw_mne(cnt, name_to_code, segment_ival_ms)"
   ]
  },
  {
   "cell_type": "markdown",
   "metadata": {},
   "source": [
    "## Same for test set"
   ]
  },
  {
   "cell_type": "code",
   "execution_count": 6,
   "metadata": {
    "scrolled": false
   },
   "outputs": [
    {
     "name": "stdout",
     "output_type": "stream",
     "text": [
      "Creating RawArray with float64 data, n_channels=3, n_times=617090\n",
      "    Range : 0 ... 617089 =      0.000 ...  1234.178 secs\n",
      "Ready.\n",
      "2017-09-20 17:30:57,853 WARNING : This is not causal, uses future data....\n",
      "2017-09-20 17:30:57,854 INFO : Resampling from 500.000000 to 250.000000 Hz.\n",
      "Creating RawArray with float64 data, n_channels=3, n_times=308545\n",
      "    Range : 0 ... 308544 =      0.000 ...  1234.176 secs\n",
      "Ready.\n",
      "2017-09-20 17:30:58,169 INFO : Trial per class:\n",
      "Counter({'Feet': 40, 'Left': 40, 'Rest': 40, 'Right': 40})\n"
     ]
    }
   ],
   "source": [
    "test_filename = '/home/schirrmr/data/BBCI-only-last-runs/BhNoMoSc1S001R13_ds10_1-2BBCI.mat'\n",
    "cnt = BBCIDataset(test_filename, load_sensor_names=['C3', 'CPz', 'C4']).load()\n",
    "# Remove stimulus channel\n",
    "cnt = cnt.drop_channels(['STI 014'])\n",
    "cnt = resample_cnt(cnt, 250)\n",
    "cnt = mne_apply(lambda a: exponential_running_standardize(\n",
    "    a.T, init_block_size=1000,factor_new=0.001, eps=1e-4).T,\n",
    "    cnt)\n",
    "test_set = create_signal_target_from_raw_mne(cnt, name_to_code, segment_ival_ms)"
   ]
  },
  {
   "cell_type": "markdown",
   "metadata": {},
   "source": [
    "<div class=\"alert alert-info\">\n",
    "\n",
    "In case of start and stop markers, provide a `name_to_stop_codes` dictionary (same as for the start codes in this example) as a final argument to `create_signal_target_from_raw_mne`. See [Read and Decode BBCI Data with Start-Stop-Markers Tutorial](BBCI_Data_Start_Stop.html)\n",
    "\n",
    "\n",
    "</div>"
   ]
  },
  {
   "cell_type": "markdown",
   "metadata": {},
   "source": [
    "Split off a validation set."
   ]
  },
  {
   "cell_type": "code",
   "execution_count": 7,
   "metadata": {
    "collapsed": true
   },
   "outputs": [],
   "source": [
    "from braindecode.datautil.splitters import split_into_two_sets\n",
    "\n",
    "train_set, valid_set = split_into_two_sets(train_set, first_set_fraction=0.8)\n"
   ]
  },
  {
   "cell_type": "markdown",
   "metadata": {},
   "source": [
    "## Create the model"
   ]
  },
  {
   "cell_type": "code",
   "execution_count": 8,
   "metadata": {
    "collapsed": true
   },
   "outputs": [],
   "source": [
    "from braindecode.models.shallow_fbcsp import ShallowFBCSPNet\n",
    "from torch import nn\n",
    "from braindecode.torch_ext.util import set_random_seeds\n",
    "\n",
    "# Set if you want to use GPU\n",
    "# You can also use torch.cuda.is_available() to determine if cuda is available on your machine.\n",
    "cuda = True\n",
    "set_random_seeds(seed=20170629, cuda=cuda)\n",
    "\n",
    "\n",
    "# This will determine how many crops are processed in parallel\n",
    "input_time_length = train_set.X.shape[2]\n",
    "in_chans = 3\n",
    "n_classes = 4\n",
    "# final_conv_length determines the size of the receptive field of the ConvNet\n",
    "model = ShallowFBCSPNet(in_chans=in_chans, n_classes=n_classes, input_time_length=input_time_length,\n",
    "                        final_conv_length='auto').create_network()\n",
    "\n",
    "if cuda:\n",
    "    model.cuda()"
   ]
  },
  {
   "cell_type": "markdown",
   "metadata": {},
   "source": [
    "## Setup optimizer and iterator"
   ]
  },
  {
   "cell_type": "code",
   "execution_count": 9,
   "metadata": {
    "collapsed": true
   },
   "outputs": [],
   "source": [
    "from torch import optim\n",
    "import numpy as np\n",
    "\n",
    "optimizer = optim.Adam(model.parameters())\n",
    "\n",
    "\n",
    "from braindecode.datautil.iterators import BalancedBatchSizeIterator\n",
    "iterator = BalancedBatchSizeIterator(batch_size=32)\n"
   ]
  },
  {
   "cell_type": "markdown",
   "metadata": {},
   "source": [
    "## Setup Monitors, Loss function, Stop Criteria"
   ]
  },
  {
   "cell_type": "code",
   "execution_count": 10,
   "metadata": {
    "collapsed": true
   },
   "outputs": [],
   "source": [
    "from braindecode.experiments.experiment import Experiment\n",
    "from braindecode.experiments.monitors import RuntimeMonitor, LossMonitor, CroppedTrialMisclassMonitor, MisclassMonitor\n",
    "from braindecode.experiments.stopcriteria import MaxEpochs\n",
    "import torch.nn.functional as F\n",
    "import torch as th\n",
    "from braindecode.torch_ext.modules import Expression\n",
    "\n",
    "\n",
    "loss_function = F.nll_loss\n",
    "\n",
    "model_constraint = None\n",
    "monitors = [LossMonitor(), MisclassMonitor(col_suffix='misclass'), \n",
    "            RuntimeMonitor(),]\n",
    "stop_criterion = MaxEpochs(20)\n",
    "exp = Experiment(model, train_set, valid_set, test_set, iterator, loss_function, optimizer, model_constraint,\n",
    "          monitors, stop_criterion, remember_best_column='valid_misclass',\n",
    "          run_after_early_stop=True, batch_modifier=None, cuda=cuda)"
   ]
  },
  {
   "cell_type": "markdown",
   "metadata": {},
   "source": [
    "## Run experiment"
   ]
  },
  {
   "cell_type": "code",
   "execution_count": 11,
   "metadata": {},
   "outputs": [
    {
     "name": "stdout",
     "output_type": "stream",
     "text": [
      "2017-09-20 17:31:00,905 INFO : Run until first stop...\n",
      "2017-09-20 17:31:01,439 INFO : Epoch 0\n",
      "2017-09-20 17:31:01,441 INFO : train_loss                3.82544\n",
      "2017-09-20 17:31:01,441 INFO : valid_loss                3.72206\n",
      "2017-09-20 17:31:01,442 INFO : test_loss                 3.90394\n",
      "2017-09-20 17:31:01,443 INFO : train_misclass            0.76184\n",
      "2017-09-20 17:31:01,444 INFO : valid_misclass            0.76536\n",
      "2017-09-20 17:31:01,445 INFO : test_misclass             0.75625\n",
      "2017-09-20 17:31:01,445 INFO : runtime                   0.00000\n",
      "2017-09-20 17:31:01,446 INFO : \n",
      "2017-09-20 17:31:01,448 INFO : New best valid_misclass: 0.765363\n",
      "2017-09-20 17:31:01,448 INFO : \n",
      "2017-09-20 17:31:02,022 INFO : Time only for training updates: 0.57s\n",
      "2017-09-20 17:31:02,129 INFO : Epoch 1\n",
      "2017-09-20 17:31:02,130 INFO : train_loss                2.65291\n",
      "2017-09-20 17:31:02,131 INFO : valid_loss                2.88051\n",
      "2017-09-20 17:31:02,132 INFO : test_loss                 3.03306\n",
      "2017-09-20 17:31:02,133 INFO : train_misclass            0.71866\n",
      "2017-09-20 17:31:02,134 INFO : valid_misclass            0.73184\n",
      "2017-09-20 17:31:02,135 INFO : test_misclass             0.71250\n",
      "2017-09-20 17:31:02,135 INFO : runtime                   1.11813\n",
      "2017-09-20 17:31:02,136 INFO : \n",
      "2017-09-20 17:31:02,138 INFO : New best valid_misclass: 0.731844\n",
      "2017-09-20 17:31:02,139 INFO : \n",
      "2017-09-20 17:31:02,688 INFO : Time only for training updates: 0.55s\n",
      "2017-09-20 17:31:02,793 INFO : Epoch 2\n",
      "2017-09-20 17:31:02,794 INFO : train_loss                0.60696\n",
      "2017-09-20 17:31:02,795 INFO : valid_loss                0.61949\n",
      "2017-09-20 17:31:02,796 INFO : test_loss                 0.81575\n",
      "2017-09-20 17:31:02,797 INFO : train_misclass            0.24930\n",
      "2017-09-20 17:31:02,798 INFO : valid_misclass            0.27933\n",
      "2017-09-20 17:31:02,799 INFO : test_misclass             0.33750\n",
      "2017-09-20 17:31:02,800 INFO : runtime                   0.66519\n",
      "2017-09-20 17:31:02,800 INFO : \n",
      "2017-09-20 17:31:02,803 INFO : New best valid_misclass: 0.279330\n",
      "2017-09-20 17:31:02,803 INFO : \n",
      "2017-09-20 17:31:03,350 INFO : Time only for training updates: 0.55s\n",
      "2017-09-20 17:31:03,457 INFO : Epoch 3\n",
      "2017-09-20 17:31:03,458 INFO : train_loss                0.58749\n",
      "2017-09-20 17:31:03,459 INFO : valid_loss                0.62956\n",
      "2017-09-20 17:31:03,460 INFO : test_loss                 0.85683\n",
      "2017-09-20 17:31:03,460 INFO : train_misclass            0.23677\n",
      "2017-09-20 17:31:03,461 INFO : valid_misclass            0.27933\n",
      "2017-09-20 17:31:03,462 INFO : test_misclass             0.38750\n",
      "2017-09-20 17:31:03,463 INFO : runtime                   0.66275\n",
      "2017-09-20 17:31:03,463 INFO : \n",
      "2017-09-20 17:31:03,466 INFO : New best valid_misclass: 0.279330\n",
      "2017-09-20 17:31:03,466 INFO : \n",
      "2017-09-20 17:31:04,011 INFO : Time only for training updates: 0.54s\n",
      "2017-09-20 17:31:04,118 INFO : Epoch 4\n",
      "2017-09-20 17:31:04,119 INFO : train_loss                0.48690\n",
      "2017-09-20 17:31:04,120 INFO : valid_loss                0.56648\n",
      "2017-09-20 17:31:04,121 INFO : test_loss                 0.76691\n",
      "2017-09-20 17:31:04,121 INFO : train_misclass            0.19220\n",
      "2017-09-20 17:31:04,122 INFO : valid_misclass            0.26257\n",
      "2017-09-20 17:31:04,123 INFO : test_misclass             0.31250\n",
      "2017-09-20 17:31:04,124 INFO : runtime                   0.66087\n",
      "2017-09-20 17:31:04,125 INFO : \n",
      "2017-09-20 17:31:04,127 INFO : New best valid_misclass: 0.262570\n",
      "2017-09-20 17:31:04,127 INFO : \n",
      "2017-09-20 17:31:04,673 INFO : Time only for training updates: 0.54s\n",
      "2017-09-20 17:31:04,779 INFO : Epoch 5\n",
      "2017-09-20 17:31:04,780 INFO : train_loss                0.42450\n",
      "2017-09-20 17:31:04,781 INFO : valid_loss                0.52169\n",
      "2017-09-20 17:31:04,782 INFO : test_loss                 0.79195\n",
      "2017-09-20 17:31:04,783 INFO : train_misclass            0.14067\n",
      "2017-09-20 17:31:04,784 INFO : valid_misclass            0.22905\n",
      "2017-09-20 17:31:04,784 INFO : test_misclass             0.36250\n",
      "2017-09-20 17:31:04,785 INFO : runtime                   0.66128\n",
      "2017-09-20 17:31:04,786 INFO : \n",
      "2017-09-20 17:31:04,788 INFO : New best valid_misclass: 0.229050\n",
      "2017-09-20 17:31:04,789 INFO : \n",
      "2017-09-20 17:31:05,335 INFO : Time only for training updates: 0.55s\n",
      "2017-09-20 17:31:05,441 INFO : Epoch 6\n",
      "2017-09-20 17:31:05,442 INFO : train_loss                0.35512\n",
      "2017-09-20 17:31:05,443 INFO : valid_loss                0.51124\n",
      "2017-09-20 17:31:05,444 INFO : test_loss                 0.73008\n",
      "2017-09-20 17:31:05,445 INFO : train_misclass            0.10864\n",
      "2017-09-20 17:31:05,446 INFO : valid_misclass            0.20670\n",
      "2017-09-20 17:31:05,446 INFO : test_misclass             0.27500\n",
      "2017-09-20 17:31:05,447 INFO : runtime                   0.66203\n",
      "2017-09-20 17:31:05,448 INFO : \n",
      "2017-09-20 17:31:05,450 INFO : New best valid_misclass: 0.206704\n",
      "2017-09-20 17:31:05,451 INFO : \n",
      "2017-09-20 17:31:05,997 INFO : Time only for training updates: 0.55s\n",
      "2017-09-20 17:31:06,104 INFO : Epoch 7\n",
      "2017-09-20 17:31:06,105 INFO : train_loss                0.34992\n",
      "2017-09-20 17:31:06,106 INFO : valid_loss                0.59028\n",
      "2017-09-20 17:31:06,107 INFO : test_loss                 0.81249\n",
      "2017-09-20 17:31:06,108 INFO : train_misclass            0.12535\n",
      "2017-09-20 17:31:06,108 INFO : valid_misclass            0.25140\n",
      "2017-09-20 17:31:06,109 INFO : test_misclass             0.33750\n",
      "2017-09-20 17:31:06,110 INFO : runtime                   0.66221\n",
      "2017-09-20 17:31:06,111 INFO : \n",
      "2017-09-20 17:31:06,658 INFO : Time only for training updates: 0.55s\n",
      "2017-09-20 17:31:06,765 INFO : Epoch 8\n",
      "2017-09-20 17:31:06,766 INFO : train_loss                0.32305\n",
      "2017-09-20 17:31:06,767 INFO : valid_loss                0.45598\n",
      "2017-09-20 17:31:06,768 INFO : test_loss                 0.71701\n",
      "2017-09-20 17:31:06,768 INFO : train_misclass            0.09749\n",
      "2017-09-20 17:31:06,769 INFO : valid_misclass            0.17877\n",
      "2017-09-20 17:31:06,770 INFO : test_misclass             0.30000\n",
      "2017-09-20 17:31:06,771 INFO : runtime                   0.66126\n",
      "2017-09-20 17:31:06,772 INFO : \n",
      "2017-09-20 17:31:06,774 INFO : New best valid_misclass: 0.178771\n",
      "2017-09-20 17:31:06,774 INFO : \n",
      "2017-09-20 17:31:07,321 INFO : Time only for training updates: 0.55s\n",
      "2017-09-20 17:31:07,428 INFO : Epoch 9\n",
      "2017-09-20 17:31:07,429 INFO : train_loss                0.26993\n",
      "2017-09-20 17:31:07,430 INFO : valid_loss                0.47209\n",
      "2017-09-20 17:31:07,431 INFO : test_loss                 0.69606\n",
      "2017-09-20 17:31:07,431 INFO : train_misclass            0.07660\n",
      "2017-09-20 17:31:07,432 INFO : valid_misclass            0.17877\n",
      "2017-09-20 17:31:07,433 INFO : test_misclass             0.26250\n",
      "2017-09-20 17:31:07,434 INFO : runtime                   0.66280\n",
      "2017-09-20 17:31:07,435 INFO : \n",
      "2017-09-20 17:31:07,437 INFO : New best valid_misclass: 0.178771\n",
      "2017-09-20 17:31:07,437 INFO : \n",
      "2017-09-20 17:31:07,982 INFO : Time only for training updates: 0.54s\n",
      "2017-09-20 17:31:08,089 INFO : Epoch 10\n",
      "2017-09-20 17:31:08,090 INFO : train_loss                0.28647\n",
      "2017-09-20 17:31:08,091 INFO : valid_loss                0.48402\n",
      "2017-09-20 17:31:08,091 INFO : test_loss                 0.72859\n",
      "2017-09-20 17:31:08,092 INFO : train_misclass            0.10306\n",
      "2017-09-20 17:31:08,093 INFO : valid_misclass            0.18436\n",
      "2017-09-20 17:31:08,094 INFO : test_misclass             0.28125\n",
      "2017-09-20 17:31:08,095 INFO : runtime                   0.66124\n",
      "2017-09-20 17:31:08,095 INFO : \n",
      "2017-09-20 17:31:08,641 INFO : Time only for training updates: 0.54s\n",
      "2017-09-20 17:31:08,747 INFO : Epoch 11\n",
      "2017-09-20 17:31:08,748 INFO : train_loss                0.27383\n",
      "2017-09-20 17:31:08,749 INFO : valid_loss                0.55875\n",
      "2017-09-20 17:31:08,750 INFO : test_loss                 0.83823\n",
      "2017-09-20 17:31:08,751 INFO : train_misclass            0.08078\n",
      "2017-09-20 17:31:08,752 INFO : valid_misclass            0.22905\n",
      "2017-09-20 17:31:08,752 INFO : test_misclass             0.31875\n",
      "2017-09-20 17:31:08,753 INFO : runtime                   0.65841\n",
      "2017-09-20 17:31:08,754 INFO : \n",
      "2017-09-20 17:31:09,300 INFO : Time only for training updates: 0.55s\n",
      "2017-09-20 17:31:09,406 INFO : Epoch 12\n",
      "2017-09-20 17:31:09,408 INFO : train_loss                0.24282\n",
      "2017-09-20 17:31:09,408 INFO : valid_loss                0.47608\n"
     ]
    },
    {
     "name": "stdout",
     "output_type": "stream",
     "text": [
      "2017-09-20 17:31:09,409 INFO : test_loss                 0.82975\n",
      "2017-09-20 17:31:09,410 INFO : train_misclass            0.07103\n",
      "2017-09-20 17:31:09,411 INFO : valid_misclass            0.19553\n",
      "2017-09-20 17:31:09,411 INFO : test_misclass             0.31875\n",
      "2017-09-20 17:31:09,412 INFO : runtime                   0.65915\n",
      "2017-09-20 17:31:09,413 INFO : \n",
      "2017-09-20 17:31:09,958 INFO : Time only for training updates: 0.54s\n",
      "2017-09-20 17:31:10,065 INFO : Epoch 13\n",
      "2017-09-20 17:31:10,066 INFO : train_loss                0.19393\n",
      "2017-09-20 17:31:10,067 INFO : valid_loss                0.48541\n",
      "2017-09-20 17:31:10,067 INFO : test_loss                 0.68051\n",
      "2017-09-20 17:31:10,068 INFO : train_misclass            0.05850\n",
      "2017-09-20 17:31:10,069 INFO : valid_misclass            0.18436\n",
      "2017-09-20 17:31:10,070 INFO : test_misclass             0.27500\n",
      "2017-09-20 17:31:10,071 INFO : runtime                   0.65813\n",
      "2017-09-20 17:31:10,071 INFO : \n",
      "2017-09-20 17:31:10,617 INFO : Time only for training updates: 0.54s\n",
      "2017-09-20 17:31:10,724 INFO : Epoch 14\n",
      "2017-09-20 17:31:10,725 INFO : train_loss                0.21311\n",
      "2017-09-20 17:31:10,726 INFO : valid_loss                0.55004\n",
      "2017-09-20 17:31:10,727 INFO : test_loss                 0.79744\n",
      "2017-09-20 17:31:10,728 INFO : train_misclass            0.06546\n",
      "2017-09-20 17:31:10,728 INFO : valid_misclass            0.22905\n",
      "2017-09-20 17:31:10,729 INFO : test_misclass             0.32500\n",
      "2017-09-20 17:31:10,730 INFO : runtime                   0.65907\n",
      "2017-09-20 17:31:10,731 INFO : \n",
      "2017-09-20 17:31:11,278 INFO : Time only for training updates: 0.55s\n",
      "2017-09-20 17:31:11,385 INFO : Epoch 15\n",
      "2017-09-20 17:31:11,386 INFO : train_loss                0.18441\n",
      "2017-09-20 17:31:11,387 INFO : valid_loss                0.51277\n",
      "2017-09-20 17:31:11,388 INFO : test_loss                 0.77705\n",
      "2017-09-20 17:31:11,389 INFO : train_misclass            0.05432\n",
      "2017-09-20 17:31:11,389 INFO : valid_misclass            0.19553\n",
      "2017-09-20 17:31:11,390 INFO : test_misclass             0.31250\n",
      "2017-09-20 17:31:11,391 INFO : runtime                   0.66119\n",
      "2017-09-20 17:31:11,392 INFO : \n",
      "2017-09-20 17:31:11,936 INFO : Time only for training updates: 0.54s\n",
      "2017-09-20 17:31:12,042 INFO : Epoch 16\n",
      "2017-09-20 17:31:12,044 INFO : train_loss                0.21483\n",
      "2017-09-20 17:31:12,044 INFO : valid_loss                0.49298\n",
      "2017-09-20 17:31:12,045 INFO : test_loss                 0.69485\n",
      "2017-09-20 17:31:12,046 INFO : train_misclass            0.05850\n",
      "2017-09-20 17:31:12,047 INFO : valid_misclass            0.17877\n",
      "2017-09-20 17:31:12,048 INFO : test_misclass             0.24375\n",
      "2017-09-20 17:31:12,048 INFO : runtime                   0.65848\n",
      "2017-09-20 17:31:12,049 INFO : \n",
      "2017-09-20 17:31:12,051 INFO : New best valid_misclass: 0.178771\n",
      "2017-09-20 17:31:12,052 INFO : \n",
      "2017-09-20 17:31:12,597 INFO : Time only for training updates: 0.54s\n",
      "2017-09-20 17:31:12,702 INFO : Epoch 17\n",
      "2017-09-20 17:31:12,703 INFO : train_loss                0.15383\n",
      "2017-09-20 17:31:12,704 INFO : valid_loss                0.55770\n",
      "2017-09-20 17:31:12,705 INFO : test_loss                 0.71079\n",
      "2017-09-20 17:31:12,706 INFO : train_misclass            0.04735\n",
      "2017-09-20 17:31:12,706 INFO : valid_misclass            0.19553\n",
      "2017-09-20 17:31:12,707 INFO : test_misclass             0.27500\n",
      "2017-09-20 17:31:12,708 INFO : runtime                   0.65984\n",
      "2017-09-20 17:31:12,709 INFO : \n",
      "2017-09-20 17:31:13,253 INFO : Time only for training updates: 0.54s\n",
      "2017-09-20 17:31:13,359 INFO : Epoch 18\n",
      "2017-09-20 17:31:13,360 INFO : train_loss                0.17599\n",
      "2017-09-20 17:31:13,361 INFO : valid_loss                0.48897\n",
      "2017-09-20 17:31:13,362 INFO : test_loss                 0.66325\n",
      "2017-09-20 17:31:13,363 INFO : train_misclass            0.04875\n",
      "2017-09-20 17:31:13,364 INFO : valid_misclass            0.19553\n",
      "2017-09-20 17:31:13,364 INFO : test_misclass             0.23750\n",
      "2017-09-20 17:31:13,365 INFO : runtime                   0.65692\n",
      "2017-09-20 17:31:13,366 INFO : \n",
      "2017-09-20 17:31:13,911 INFO : Time only for training updates: 0.54s\n",
      "2017-09-20 17:31:14,016 INFO : Epoch 19\n",
      "2017-09-20 17:31:14,017 INFO : train_loss                0.14476\n",
      "2017-09-20 17:31:14,018 INFO : valid_loss                0.52314\n",
      "2017-09-20 17:31:14,019 INFO : test_loss                 0.80431\n",
      "2017-09-20 17:31:14,020 INFO : train_misclass            0.03482\n",
      "2017-09-20 17:31:14,021 INFO : valid_misclass            0.21229\n",
      "2017-09-20 17:31:14,021 INFO : test_misclass             0.29375\n",
      "2017-09-20 17:31:14,022 INFO : runtime                   0.65712\n",
      "2017-09-20 17:31:14,023 INFO : \n",
      "2017-09-20 17:31:14,567 INFO : Time only for training updates: 0.54s\n",
      "2017-09-20 17:31:14,673 INFO : Epoch 20\n",
      "2017-09-20 17:31:14,674 INFO : train_loss                0.20028\n",
      "2017-09-20 17:31:14,675 INFO : valid_loss                0.52411\n",
      "2017-09-20 17:31:14,676 INFO : test_loss                 0.69488\n",
      "2017-09-20 17:31:14,677 INFO : train_misclass            0.05710\n",
      "2017-09-20 17:31:14,678 INFO : valid_misclass            0.19553\n",
      "2017-09-20 17:31:14,678 INFO : test_misclass             0.24375\n",
      "2017-09-20 17:31:14,679 INFO : runtime                   0.65677\n",
      "2017-09-20 17:31:14,680 INFO : \n",
      "2017-09-20 17:31:14,681 INFO : Setup for second stop...\n",
      "2017-09-20 17:31:14,684 INFO : Train loss to reach 0.21483\n",
      "2017-09-20 17:31:14,685 INFO : Run until second stop...\n",
      "2017-09-20 17:31:14,796 INFO : Epoch 17\n",
      "2017-09-20 17:31:14,797 INFO : train_loss                0.27034\n",
      "2017-09-20 17:31:14,798 INFO : valid_loss                0.49298\n",
      "2017-09-20 17:31:14,799 INFO : test_loss                 0.69485\n",
      "2017-09-20 17:31:14,800 INFO : train_misclass            0.08250\n",
      "2017-09-20 17:31:14,801 INFO : valid_misclass            0.17877\n",
      "2017-09-20 17:31:14,801 INFO : test_misclass             0.24375\n",
      "2017-09-20 17:31:14,802 INFO : runtime                   0.12244\n",
      "2017-09-20 17:31:14,803 INFO : \n",
      "2017-09-20 17:31:15,342 INFO : Time only for training updates: 0.54s\n",
      "2017-09-20 17:31:15,463 INFO : Epoch 18\n",
      "2017-09-20 17:31:15,464 INFO : train_loss                0.29031\n",
      "2017-09-20 17:31:15,464 INFO : valid_loss                0.51393\n",
      "2017-09-20 17:31:15,465 INFO : test_loss                 0.96728\n",
      "2017-09-20 17:31:15,466 INFO : train_misclass            0.11483\n",
      "2017-09-20 17:31:15,467 INFO : valid_misclass            0.20112\n",
      "2017-09-20 17:31:15,468 INFO : test_misclass             0.33750\n",
      "2017-09-20 17:31:15,468 INFO : runtime                   0.65233\n",
      "2017-09-20 17:31:15,469 INFO : \n",
      "2017-09-20 17:31:16,006 INFO : Time only for training updates: 0.54s\n",
      "2017-09-20 17:31:16,127 INFO : Epoch 19\n",
      "2017-09-20 17:31:16,128 INFO : train_loss                0.27278\n",
      "2017-09-20 17:31:16,128 INFO : valid_loss                0.35766\n",
      "2017-09-20 17:31:16,129 INFO : test_loss                 0.68376\n",
      "2017-09-20 17:31:16,130 INFO : train_misclass            0.08027\n",
      "2017-09-20 17:31:16,131 INFO : valid_misclass            0.10056\n",
      "2017-09-20 17:31:16,132 INFO : test_misclass             0.25625\n",
      "2017-09-20 17:31:16,132 INFO : runtime                   0.66342\n",
      "2017-09-20 17:31:16,133 INFO : \n",
      "2017-09-20 17:31:16,669 INFO : Time only for training updates: 0.53s\n",
      "2017-09-20 17:31:16,790 INFO : Epoch 20\n",
      "2017-09-20 17:31:16,791 INFO : train_loss                0.29118\n",
      "2017-09-20 17:31:16,792 INFO : valid_loss                0.36160\n",
      "2017-09-20 17:31:16,792 INFO : test_loss                 0.74543\n",
      "2017-09-20 17:31:16,793 INFO : train_misclass            0.10033\n",
      "2017-09-20 17:31:16,794 INFO : valid_misclass            0.13408\n",
      "2017-09-20 17:31:16,795 INFO : test_misclass             0.26875\n",
      "2017-09-20 17:31:16,795 INFO : runtime                   0.66331\n",
      "2017-09-20 17:31:16,796 INFO : \n",
      "2017-09-20 17:31:17,332 INFO : Time only for training updates: 0.53s\n",
      "2017-09-20 17:31:17,452 INFO : Epoch 21\n",
      "2017-09-20 17:31:17,453 INFO : train_loss                0.17976\n",
      "2017-09-20 17:31:17,454 INFO : valid_loss                0.28115\n",
      "2017-09-20 17:31:17,455 INFO : test_loss                 0.67721\n",
      "2017-09-20 17:31:17,456 INFO : train_misclass            0.05797\n",
      "2017-09-20 17:31:17,457 INFO : valid_misclass            0.08939\n",
      "2017-09-20 17:31:17,457 INFO : test_misclass             0.27500\n"
     ]
    },
    {
     "name": "stdout",
     "output_type": "stream",
     "text": [
      "2017-09-20 17:31:17,458 INFO : runtime                   0.66297\n",
      "2017-09-20 17:31:17,459 INFO : \n",
      "2017-09-20 17:31:17,995 INFO : Time only for training updates: 0.53s\n",
      "2017-09-20 17:31:18,115 INFO : Epoch 22\n",
      "2017-09-20 17:31:18,116 INFO : train_loss                0.14497\n",
      "2017-09-20 17:31:18,117 INFO : valid_loss                0.21457\n",
      "2017-09-20 17:31:18,118 INFO : test_loss                 0.69108\n",
      "2017-09-20 17:31:18,119 INFO : train_misclass            0.04794\n",
      "2017-09-20 17:31:18,120 INFO : valid_misclass            0.08939\n",
      "2017-09-20 17:31:18,121 INFO : test_misclass             0.27500\n",
      "2017-09-20 17:31:18,121 INFO : runtime                   0.66310\n",
      "2017-09-20 17:31:18,122 INFO : \n"
     ]
    }
   ],
   "source": [
    "exp.run()"
   ]
  },
  {
   "cell_type": "markdown",
   "metadata": {},
   "source": [
    "We arrive at 24.3% or 26.3% depending on stars :))"
   ]
  },
  {
   "cell_type": "code",
   "execution_count": 12,
   "metadata": {
    "collapsed": true
   },
   "outputs": [],
   "source": [
    "\n",
    "exp2 = Experiment(model, train_set, valid_set, test_set, iterator, loss_function, None, model_constraint,\n",
    "          monitors, stop_criterion, remember_best_column='valid_misclass',\n",
    "          run_after_early_stop=True, batch_modifier=None, cuda=cuda)"
   ]
  },
  {
   "cell_type": "code",
   "execution_count": 13,
   "metadata": {
    "collapsed": true
   },
   "outputs": [],
   "source": [
    "exp2.setup_training()"
   ]
  },
  {
   "cell_type": "code",
   "execution_count": 14,
   "metadata": {
    "collapsed": true
   },
   "outputs": [],
   "source": [
    "exp2.monitor_epoch(exp2.datasets)"
   ]
  },
  {
   "cell_type": "code",
   "execution_count": 15,
   "metadata": {},
   "outputs": [
    {
     "name": "stdout",
     "output_type": "stream",
     "text": [
      "2017-09-20 17:32:03,666 INFO : Epoch 0\n",
      "2017-09-20 17:32:03,668 INFO : train_loss                0.12761\n",
      "2017-09-20 17:32:03,669 INFO : valid_loss                0.21457\n",
      "2017-09-20 17:32:03,670 INFO : test_loss                 0.69108\n",
      "2017-09-20 17:32:03,671 INFO : train_misclass            0.03760\n",
      "2017-09-20 17:32:03,673 INFO : valid_misclass            0.08939\n",
      "2017-09-20 17:32:03,674 INFO : test_misclass             0.27500\n",
      "2017-09-20 17:32:03,675 INFO : runtime                   38.46792\n",
      "2017-09-20 17:32:03,676 INFO : \n"
     ]
    }
   ],
   "source": [
    "exp2.print_epoch()"
   ]
  },
  {
   "cell_type": "code",
   "execution_count": 16,
   "metadata": {},
   "outputs": [
    {
     "data": {
      "text/html": [
       "<div>\n",
       "<style>\n",
       "    .dataframe thead tr:only-child th {\n",
       "        text-align: right;\n",
       "    }\n",
       "\n",
       "    .dataframe thead th {\n",
       "        text-align: left;\n",
       "    }\n",
       "\n",
       "    .dataframe tbody tr th {\n",
       "        vertical-align: top;\n",
       "    }\n",
       "</style>\n",
       "<table border=\"1\" class=\"dataframe\">\n",
       "  <thead>\n",
       "    <tr style=\"text-align: right;\">\n",
       "      <th></th>\n",
       "      <th>train_loss</th>\n",
       "      <th>valid_loss</th>\n",
       "      <th>test_loss</th>\n",
       "      <th>train_misclass</th>\n",
       "      <th>valid_misclass</th>\n",
       "      <th>test_misclass</th>\n",
       "      <th>runtime</th>\n",
       "    </tr>\n",
       "  </thead>\n",
       "  <tbody>\n",
       "    <tr>\n",
       "      <th>0</th>\n",
       "      <td>0.127613</td>\n",
       "      <td>0.214568</td>\n",
       "      <td>0.691085</td>\n",
       "      <td>0.037604</td>\n",
       "      <td>0.089385</td>\n",
       "      <td>0.275</td>\n",
       "      <td>38.467923</td>\n",
       "    </tr>\n",
       "  </tbody>\n",
       "</table>\n",
       "</div>"
      ],
      "text/plain": [
       "   train_loss  valid_loss  test_loss  train_misclass  valid_misclass  \\\n",
       "0    0.127613    0.214568   0.691085        0.037604        0.089385   \n",
       "\n",
       "   test_misclass    runtime  \n",
       "0          0.275  38.467923  "
      ]
     },
     "execution_count": 16,
     "metadata": {},
     "output_type": "execute_result"
    }
   ],
   "source": [
    "exp2.epochs_df"
   ]
  }
 ],
 "metadata": {
  "celltoolbar": "Edit Metadata",
  "kernelspec": {
   "display_name": "Python 3",
   "language": "python",
   "name": "python3"
  },
  "language_info": {
   "codemirror_mode": {
    "name": "ipython",
    "version": 3
   },
   "file_extension": ".py",
   "mimetype": "text/x-python",
   "name": "python",
   "nbconvert_exporter": "python",
   "pygments_lexer": "ipython3",
   "version": "3.6.2"
  }
 },
 "nbformat": 4,
 "nbformat_minor": 2
}
